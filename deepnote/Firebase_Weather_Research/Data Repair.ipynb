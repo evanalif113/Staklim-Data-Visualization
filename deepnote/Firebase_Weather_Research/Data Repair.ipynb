{
  "cells": [
    {
      "cell_type": "code",
      "metadata": {
        "source_hash": "7a7ac4cd",
        "execution_start": 1744130021107,
        "execution_millis": 2828,
        "execution_context_id": "28069132-a206-471e-931e-7ebee3c8aa3d",
        "cell_id": "239a2b0740ad4b2a91abd5acb6c2efbe",
        "deepnote_cell_type": "code"
      },
      "source": "!pip install firebase-admin\nimport firebase_admin\nfrom firebase_admin import credentials, db\nfrom datetime import datetime  # Untuk konversi timestamp ke human-readable\nimport pandas as pd",
      "block_group": "239a2b0740ad4b2a91abd5acb6c2efbe",
      "execution_count": 1,
      "outputs": [
        {
          "name": "stdout",
          "text": "Requirement already satisfied: firebase-admin in /root/venv/lib/python3.11/site-packages (6.7.0)\nRequirement already satisfied: cachecontrol>=0.12.14 in /root/venv/lib/python3.11/site-packages (from firebase-admin) (0.14.2)\nRequirement already satisfied: google-api-python-client>=1.7.8 in /root/venv/lib/python3.11/site-packages (from firebase-admin) (2.166.0)\nRequirement already satisfied: google-cloud-storage>=1.37.1 in /root/venv/lib/python3.11/site-packages (from firebase-admin) (3.1.0)\nRequirement already satisfied: pyjwt>=2.5.0 in /root/venv/lib/python3.11/site-packages (from pyjwt[crypto]>=2.5.0->firebase-admin) (2.10.1)\nRequirement already satisfied: google-api-core<3.0.0dev,>=1.22.1 in /toolkit-cache/0.2.14/python3.11/kernel-libs/lib/python3.11/site-packages (from google-api-core[grpc]<3.0.0dev,>=1.22.1; platform_python_implementation != \"PyPy\"->firebase-admin) (2.19.2)\nRequirement already satisfied: google-cloud-firestore>=2.19.0 in /root/venv/lib/python3.11/site-packages (from firebase-admin) (2.20.1)\nRequirement already satisfied: requests>=2.16.0 in /root/venv/lib/python3.11/site-packages (from cachecontrol>=0.12.14->firebase-admin) (2.32.3)\nRequirement already satisfied: msgpack<2.0.0,>=0.5.2 in /root/venv/lib/python3.11/site-packages (from cachecontrol>=0.12.14->firebase-admin) (1.1.0)\nRequirement already satisfied: googleapis-common-protos<2.0.dev0,>=1.56.2 in /toolkit-cache/0.2.14/python3.11/kernel-libs/lib/python3.11/site-packages (from google-api-core<3.0.0dev,>=1.22.1->google-api-core[grpc]<3.0.0dev,>=1.22.1; platform_python_implementation != \"PyPy\"->firebase-admin) (1.65.0)\nRequirement already satisfied: protobuf!=3.20.0,!=3.20.1,!=4.21.0,!=4.21.1,!=4.21.2,!=4.21.3,!=4.21.4,!=4.21.5,<6.0.0.dev0,>=3.19.5 in /root/venv/lib/python3.11/site-packages (from google-api-core<3.0.0dev,>=1.22.1->google-api-core[grpc]<3.0.0dev,>=1.22.1; platform_python_implementation != \"PyPy\"->firebase-admin) (4.25.6)\nRequirement already satisfied: proto-plus<2.0.0dev,>=1.22.3 in /toolkit-cache/0.2.14/python3.11/kernel-libs/lib/python3.11/site-packages (from google-api-core<3.0.0dev,>=1.22.1->google-api-core[grpc]<3.0.0dev,>=1.22.1; platform_python_implementation != \"PyPy\"->firebase-admin) (1.24.0)\nRequirement already satisfied: google-auth<3.0.dev0,>=2.14.1 in /root/venv/lib/python3.11/site-packages (from google-api-core<3.0.0dev,>=1.22.1->google-api-core[grpc]<3.0.0dev,>=1.22.1; platform_python_implementation != \"PyPy\"->firebase-admin) (2.38.0)\nRequirement already satisfied: grpcio<2.0dev,>=1.33.2 in /root/venv/lib/python3.11/site-packages (from google-api-core[grpc]<3.0.0dev,>=1.22.1; platform_python_implementation != \"PyPy\"->firebase-admin) (1.70.0)\nRequirement already satisfied: grpcio-status<2.0.dev0,>=1.33.2 in /toolkit-cache/0.2.14/python3.11/kernel-libs/lib/python3.11/site-packages (from google-api-core[grpc]<3.0.0dev,>=1.22.1; platform_python_implementation != \"PyPy\"->firebase-admin) (1.62.3)\nRequirement already satisfied: httplib2<1.0.0,>=0.19.0 in /root/venv/lib/python3.11/site-packages (from google-api-python-client>=1.7.8->firebase-admin) (0.22.0)\nRequirement already satisfied: google-auth-httplib2<1.0.0,>=0.2.0 in /root/venv/lib/python3.11/site-packages (from google-api-python-client>=1.7.8->firebase-admin) (0.2.0)\nRequirement already satisfied: uritemplate<5,>=3.0.1 in /root/venv/lib/python3.11/site-packages (from google-api-python-client>=1.7.8->firebase-admin) (4.1.1)\nRequirement already satisfied: google-cloud-core<3.0.0dev,>=1.4.1 in /root/venv/lib/python3.11/site-packages (from google-cloud-firestore>=2.19.0->firebase-admin) (2.4.3)\nRequirement already satisfied: google-resumable-media>=2.7.2 in /toolkit-cache/0.2.14/python3.11/kernel-libs/lib/python3.11/site-packages (from google-cloud-storage>=1.37.1->firebase-admin) (2.7.2)\nRequirement already satisfied: google-crc32c<2.0dev,>=1.0 in /toolkit-cache/0.2.14/python3.11/kernel-libs/lib/python3.11/site-packages (from google-cloud-storage>=1.37.1->firebase-admin) (1.5.0)\nRequirement already satisfied: cryptography>=3.4.0 in /root/venv/lib/python3.11/site-packages (from pyjwt[crypto]>=2.5.0->firebase-admin) (43.0.3)\nRequirement already satisfied: cffi>=1.12 in /root/venv/lib/python3.11/site-packages (from cryptography>=3.4.0->pyjwt[crypto]>=2.5.0->firebase-admin) (1.17.1)\nRequirement already satisfied: cachetools<6.0,>=2.0.0 in /root/venv/lib/python3.11/site-packages (from google-auth<3.0.dev0,>=2.14.1->google-api-core<3.0.0dev,>=1.22.1->google-api-core[grpc]<3.0.0dev,>=1.22.1; platform_python_implementation != \"PyPy\"->firebase-admin) (5.5.1)\nRequirement already satisfied: pyasn1-modules>=0.2.1 in /root/venv/lib/python3.11/site-packages (from google-auth<3.0.dev0,>=2.14.1->google-api-core<3.0.0dev,>=1.22.1->google-api-core[grpc]<3.0.0dev,>=1.22.1; platform_python_implementation != \"PyPy\"->firebase-admin) (0.4.1)\nRequirement already satisfied: rsa<5,>=3.1.4 in /root/venv/lib/python3.11/site-packages (from google-auth<3.0.dev0,>=2.14.1->google-api-core<3.0.0dev,>=1.22.1->google-api-core[grpc]<3.0.0dev,>=1.22.1; platform_python_implementation != \"PyPy\"->firebase-admin) (4.9)\nRequirement already satisfied: pyparsing!=3.0.0,!=3.0.1,!=3.0.2,!=3.0.3,<4,>=2.4.2 in /root/venv/lib/python3.11/site-packages (from httplib2<1.0.0,>=0.19.0->google-api-python-client>=1.7.8->firebase-admin) (3.2.1)\nRequirement already satisfied: charset-normalizer<4,>=2 in /root/venv/lib/python3.11/site-packages (from requests>=2.16.0->cachecontrol>=0.12.14->firebase-admin) (3.4.1)\nRequirement already satisfied: idna<4,>=2.5 in /root/venv/lib/python3.11/site-packages (from requests>=2.16.0->cachecontrol>=0.12.14->firebase-admin) (3.10)\nRequirement already satisfied: urllib3<3,>=1.21.1 in /root/venv/lib/python3.11/site-packages (from requests>=2.16.0->cachecontrol>=0.12.14->firebase-admin) (2.3.0)\nRequirement already satisfied: certifi>=2017.4.17 in /root/venv/lib/python3.11/site-packages (from requests>=2.16.0->cachecontrol>=0.12.14->firebase-admin) (2025.1.31)\nRequirement already satisfied: pycparser in /root/venv/lib/python3.11/site-packages (from cffi>=1.12->cryptography>=3.4.0->pyjwt[crypto]>=2.5.0->firebase-admin) (2.22)\nRequirement already satisfied: pyasn1<0.7.0,>=0.4.6 in /root/venv/lib/python3.11/site-packages (from pyasn1-modules>=0.2.1->google-auth<3.0.dev0,>=2.14.1->google-api-core<3.0.0dev,>=1.22.1->google-api-core[grpc]<3.0.0dev,>=1.22.1; platform_python_implementation != \"PyPy\"->firebase-admin) (0.6.1)\n\n\u001b[1m[\u001b[0m\u001b[34;49mnotice\u001b[0m\u001b[1;39;49m]\u001b[0m\u001b[39;49m A new release of pip is available: \u001b[0m\u001b[31;49m24.0\u001b[0m\u001b[39;49m -> \u001b[0m\u001b[32;49m25.0.1\u001b[0m\n\u001b[1m[\u001b[0m\u001b[34;49mnotice\u001b[0m\u001b[1;39;49m]\u001b[0m\u001b[39;49m To update, run: \u001b[0m\u001b[32;49mpip install --upgrade pip\u001b[0m\n",
          "output_type": "stream"
        }
      ],
      "outputs_reference": null,
      "content_dependencies": null
    },
    {
      "cell_type": "code",
      "metadata": {
        "source_hash": "35f77015",
        "execution_start": 1744130024006,
        "execution_millis": 133,
        "execution_context_id": "28069132-a206-471e-931e-7ebee3c8aa3d",
        "cell_id": "09ac3ae27f4f48aa89ec6f92b3fde7d6",
        "deepnote_cell_type": "code"
      },
      "source": "# Konfigurasi database sumber\nsource_cred = credentials.Certificate(\"/work/database-sensor-iklim-litbang-firebase-admin.json\")\nfirebase_admin.initialize_app(source_cred, {\n    'databaseURL': 'https://database-sensor-iklim-litbang-default-rtdb.asia-southeast1.firebasedatabase.app/'\n})",
      "block_group": "8dd9d1409d624e9ca17809ae527920a4",
      "execution_count": 2,
      "outputs": [
        {
          "output_type": "execute_result",
          "execution_count": 2,
          "data": {
            "text/plain": "<firebase_admin.App at 0x7f61335b7f50>"
          },
          "metadata": {}
        }
      ],
      "outputs_reference": null,
      "content_dependencies": null
    },
    {
      "cell_type": "code",
      "metadata": {
        "source_hash": "cc063179",
        "execution_start": 1744130024197,
        "execution_millis": 9462,
        "execution_context_id": "28069132-a206-471e-931e-7ebee3c8aa3d",
        "cell_id": "560d1d5d829f48059de01b2f8b1154a8",
        "deepnote_cell_type": "code"
      },
      "source": "# Referensi ke data sumber\nsource_ref = db.reference('/auto_weather_stat/id-05/data')\n\n# Mengambil data dari database sumber\nsource_data = source_ref.get()\n\n# Mengubah data menjadi DataFrame pandas\nif source_data:\n    # Mengubah data menjadi DataFrame\n    df = pd.DataFrame.from_dict(source_data, orient='index')\n    \n    # Jika 'timestamp' sudah ada, jangan pindahkan indeks ke kolom\n    if 'timestamp' not in df.columns:\n        df.index.name = 'timestamp'  # Mengatur nama indeks\n        df.reset_index(inplace=True)  # Memindahkan indeks menjadi kolom biasa\n    \n    print(df.head())  # Menampilkan data untuk verifikasi\nelse:\n    print(\"Tidak ada data di jalur /auto_weather_stat/id-03/data.\")",
      "block_group": "a6f2843c64ab4802a9146adcdd12fd33",
      "execution_count": 3,
      "outputs": [
        {
          "name": "stdout",
          "text": "                 dew  humidity  pressure  rainfall  rainrate  temperature  \\\n1742366497  27.74858  97.23300  1011.023   11.7348       0.0     28.23109   \n1742366512  27.58560  96.49294  1011.033   11.7348       0.0     28.19905   \n1742366527  27.56910  96.34035  1011.045   11.7348       0.0     28.20973   \n1742366542  27.68267  96.81529  1011.038   11.7348       0.0     28.23911   \n1742366557  27.71058  96.92783  1011.046   11.7348       0.0     28.24712   \n\n             timestamp     volt  \n1742366497  1742366497  4.20625  \n1742366512  1742366512  4.22000  \n1742366527  1742366527  4.21125  \n1742366542  1742366542  4.21875  \n1742366557  1742366557  4.22000  \n",
          "output_type": "stream"
        }
      ],
      "outputs_reference": null,
      "content_dependencies": null
    },
    {
      "cell_type": "code",
      "metadata": {
        "source_hash": "f30f989a",
        "execution_start": 1744130033707,
        "execution_millis": 1,
        "execution_context_id": "28069132-a206-471e-931e-7ebee3c8aa3d",
        "cell_id": "5f389d5148e54800ae4ef15f524ebd3d",
        "deepnote_cell_type": "code"
      },
      "source": "df.head(10)",
      "block_group": "2a0de005cd1544ffb1bdee4bc31db732",
      "execution_count": 4,
      "outputs": [
        {
          "output_type": "execute_result",
          "execution_count": 4,
          "data": {
            "application/vnd.deepnote.dataframe.v3+json": {
              "column_count": 8,
              "row_count": 10,
              "columns": [
                {
                  "name": "dew",
                  "dtype": "float64",
                  "stats": {
                    "unique_count": 10,
                    "nan_count": 0,
                    "min": "27.46198",
                    "max": "27.74858",
                    "histogram": [
                      {
                        "bin_start": 27.46198,
                        "bin_end": 27.49064,
                        "count": 1
                      },
                      {
                        "bin_start": 27.49064,
                        "bin_end": 27.5193,
                        "count": 0
                      },
                      {
                        "bin_start": 27.5193,
                        "bin_end": 27.54796,
                        "count": 0
                      },
                      {
                        "bin_start": 27.54796,
                        "bin_end": 27.576620000000002,
                        "count": 1
                      },
                      {
                        "bin_start": 27.576620000000002,
                        "bin_end": 27.60528,
                        "count": 3
                      },
                      {
                        "bin_start": 27.60528,
                        "bin_end": 27.63394,
                        "count": 1
                      },
                      {
                        "bin_start": 27.63394,
                        "bin_end": 27.6626,
                        "count": 0
                      },
                      {
                        "bin_start": 27.6626,
                        "bin_end": 27.69126,
                        "count": 1
                      },
                      {
                        "bin_start": 27.69126,
                        "bin_end": 27.719920000000002,
                        "count": 2
                      },
                      {
                        "bin_start": 27.719920000000002,
                        "bin_end": 27.74858,
                        "count": 1
                      }
                    ]
                  }
                },
                {
                  "name": "humidity",
                  "dtype": "float64",
                  "stats": {
                    "unique_count": 9,
                    "nan_count": 0,
                    "min": "95.62127",
                    "max": "97.233",
                    "histogram": [
                      {
                        "bin_start": 95.62127,
                        "bin_end": 95.782443,
                        "count": 1
                      },
                      {
                        "bin_start": 95.782443,
                        "bin_end": 95.94361599999999,
                        "count": 0
                      },
                      {
                        "bin_start": 95.94361599999999,
                        "bin_end": 96.104789,
                        "count": 0
                      },
                      {
                        "bin_start": 96.104789,
                        "bin_end": 96.265962,
                        "count": 2
                      },
                      {
                        "bin_start": 96.265962,
                        "bin_end": 96.42713499999999,
                        "count": 1
                      },
                      {
                        "bin_start": 96.42713499999999,
                        "bin_end": 96.588308,
                        "count": 2
                      },
                      {
                        "bin_start": 96.588308,
                        "bin_end": 96.749481,
                        "count": 0
                      },
                      {
                        "bin_start": 96.749481,
                        "bin_end": 96.91065400000001,
                        "count": 2
                      },
                      {
                        "bin_start": 96.91065400000001,
                        "bin_end": 97.071827,
                        "count": 1
                      },
                      {
                        "bin_start": 97.071827,
                        "bin_end": 97.233,
                        "count": 1
                      }
                    ]
                  }
                },
                {
                  "name": "pressure",
                  "dtype": "float64",
                  "stats": {
                    "unique_count": 10,
                    "nan_count": 0,
                    "min": "1011.023",
                    "max": "1011.059",
                    "histogram": [
                      {
                        "bin_start": 1011.023,
                        "bin_end": 1011.0266,
                        "count": 1
                      },
                      {
                        "bin_start": 1011.0266,
                        "bin_end": 1011.0302,
                        "count": 0
                      },
                      {
                        "bin_start": 1011.0302,
                        "bin_end": 1011.0338,
                        "count": 1
                      },
                      {
                        "bin_start": 1011.0338,
                        "bin_end": 1011.0374,
                        "count": 0
                      },
                      {
                        "bin_start": 1011.0374,
                        "bin_end": 1011.0409999999999,
                        "count": 1
                      },
                      {
                        "bin_start": 1011.0409999999999,
                        "bin_end": 1011.0446,
                        "count": 1
                      },
                      {
                        "bin_start": 1011.0446,
                        "bin_end": 1011.0482,
                        "count": 4
                      },
                      {
                        "bin_start": 1011.0482,
                        "bin_end": 1011.0518,
                        "count": 0
                      },
                      {
                        "bin_start": 1011.0518,
                        "bin_end": 1011.0554,
                        "count": 0
                      },
                      {
                        "bin_start": 1011.0554,
                        "bin_end": 1011.059,
                        "count": 2
                      }
                    ]
                  }
                },
                {
                  "name": "rainfall",
                  "dtype": "float64",
                  "stats": {
                    "unique_count": 1,
                    "nan_count": 0,
                    "min": "11.7348",
                    "max": "11.7348",
                    "histogram": [
                      {
                        "bin_start": 11.2348,
                        "bin_end": 11.3348,
                        "count": 0
                      },
                      {
                        "bin_start": 11.3348,
                        "bin_end": 11.4348,
                        "count": 0
                      },
                      {
                        "bin_start": 11.4348,
                        "bin_end": 11.5348,
                        "count": 0
                      },
                      {
                        "bin_start": 11.5348,
                        "bin_end": 11.6348,
                        "count": 0
                      },
                      {
                        "bin_start": 11.6348,
                        "bin_end": 11.7348,
                        "count": 0
                      },
                      {
                        "bin_start": 11.7348,
                        "bin_end": 11.8348,
                        "count": 10
                      },
                      {
                        "bin_start": 11.8348,
                        "bin_end": 11.9348,
                        "count": 0
                      },
                      {
                        "bin_start": 11.9348,
                        "bin_end": 12.0348,
                        "count": 0
                      },
                      {
                        "bin_start": 12.0348,
                        "bin_end": 12.1348,
                        "count": 0
                      },
                      {
                        "bin_start": 12.1348,
                        "bin_end": 12.2348,
                        "count": 0
                      }
                    ]
                  }
                },
                {
                  "name": "rainrate",
                  "dtype": "float64",
                  "stats": {
                    "unique_count": 1,
                    "nan_count": 0,
                    "min": "0.0",
                    "max": "0.0",
                    "histogram": [
                      {
                        "bin_start": -0.5,
                        "bin_end": -0.4,
                        "count": 0
                      },
                      {
                        "bin_start": -0.4,
                        "bin_end": -0.3,
                        "count": 0
                      },
                      {
                        "bin_start": -0.3,
                        "bin_end": -0.19999999999999996,
                        "count": 0
                      },
                      {
                        "bin_start": -0.19999999999999996,
                        "bin_end": -0.09999999999999998,
                        "count": 0
                      },
                      {
                        "bin_start": -0.09999999999999998,
                        "bin_end": 0,
                        "count": 0
                      },
                      {
                        "bin_start": 0,
                        "bin_end": 0.10000000000000009,
                        "count": 10
                      },
                      {
                        "bin_start": 0.10000000000000009,
                        "bin_end": 0.20000000000000007,
                        "count": 0
                      },
                      {
                        "bin_start": 0.20000000000000007,
                        "bin_end": 0.30000000000000004,
                        "count": 0
                      },
                      {
                        "bin_start": 0.30000000000000004,
                        "bin_end": 0.4,
                        "count": 0
                      },
                      {
                        "bin_start": 0.4,
                        "bin_end": 0.5,
                        "count": 0
                      }
                    ]
                  }
                },
                {
                  "name": "temperature",
                  "dtype": "float64",
                  "stats": {
                    "unique_count": 7,
                    "nan_count": 0,
                    "min": "28.19905",
                    "max": "28.26315",
                    "histogram": [
                      {
                        "bin_start": 28.19905,
                        "bin_end": 28.20546,
                        "count": 1
                      },
                      {
                        "bin_start": 28.20546,
                        "bin_end": 28.21187,
                        "count": 1
                      },
                      {
                        "bin_start": 28.21187,
                        "bin_end": 28.21828,
                        "count": 0
                      },
                      {
                        "bin_start": 28.21828,
                        "bin_end": 28.22469,
                        "count": 0
                      },
                      {
                        "bin_start": 28.22469,
                        "bin_end": 28.231099999999998,
                        "count": 2
                      },
                      {
                        "bin_start": 28.231099999999998,
                        "bin_end": 28.23751,
                        "count": 0
                      },
                      {
                        "bin_start": 28.23751,
                        "bin_end": 28.24392,
                        "count": 1
                      },
                      {
                        "bin_start": 28.24392,
                        "bin_end": 28.250329999999998,
                        "count": 3
                      },
                      {
                        "bin_start": 28.250329999999998,
                        "bin_end": 28.25674,
                        "count": 0
                      },
                      {
                        "bin_start": 28.25674,
                        "bin_end": 28.26315,
                        "count": 2
                      }
                    ]
                  }
                },
                {
                  "name": "timestamp",
                  "dtype": "int64",
                  "stats": {
                    "unique_count": 10,
                    "nan_count": 0,
                    "min": "1742366497",
                    "max": "1742366632",
                    "histogram": [
                      {
                        "bin_start": 1742366497,
                        "bin_end": 1742366510.5,
                        "count": 1
                      },
                      {
                        "bin_start": 1742366510.5,
                        "bin_end": 1742366524,
                        "count": 1
                      },
                      {
                        "bin_start": 1742366524,
                        "bin_end": 1742366537.5,
                        "count": 1
                      },
                      {
                        "bin_start": 1742366537.5,
                        "bin_end": 1742366551,
                        "count": 1
                      },
                      {
                        "bin_start": 1742366551,
                        "bin_end": 1742366564.5,
                        "count": 1
                      },
                      {
                        "bin_start": 1742366564.5,
                        "bin_end": 1742366578,
                        "count": 1
                      },
                      {
                        "bin_start": 1742366578,
                        "bin_end": 1742366591.5,
                        "count": 1
                      },
                      {
                        "bin_start": 1742366591.5,
                        "bin_end": 1742366605,
                        "count": 1
                      },
                      {
                        "bin_start": 1742366605,
                        "bin_end": 1742366618.5,
                        "count": 1
                      },
                      {
                        "bin_start": 1742366618.5,
                        "bin_end": 1742366632,
                        "count": 1
                      }
                    ]
                  }
                },
                {
                  "name": "volt",
                  "dtype": "float64",
                  "stats": {
                    "unique_count": 7,
                    "nan_count": 0,
                    "min": "4.20625",
                    "max": "4.2225",
                    "histogram": [
                      {
                        "bin_start": 4.20625,
                        "bin_end": 4.207875,
                        "count": 1
                      },
                      {
                        "bin_start": 4.207875,
                        "bin_end": 4.2095,
                        "count": 0
                      },
                      {
                        "bin_start": 4.2095,
                        "bin_end": 4.211125,
                        "count": 0
                      },
                      {
                        "bin_start": 4.211125,
                        "bin_end": 4.21275,
                        "count": 1
                      },
                      {
                        "bin_start": 4.21275,
                        "bin_end": 4.214375,
                        "count": 0
                      },
                      {
                        "bin_start": 4.214375,
                        "bin_end": 4.216,
                        "count": 0
                      },
                      {
                        "bin_start": 4.216,
                        "bin_end": 4.217625,
                        "count": 2
                      },
                      {
                        "bin_start": 4.217625,
                        "bin_end": 4.21925,
                        "count": 1
                      },
                      {
                        "bin_start": 4.21925,
                        "bin_end": 4.220875,
                        "count": 3
                      },
                      {
                        "bin_start": 4.220875,
                        "bin_end": 4.2225,
                        "count": 2
                      }
                    ]
                  }
                },
                {
                  "name": "_deepnote_index_column",
                  "dtype": "object"
                }
              ],
              "rows": [
                {
                  "dew": 27.74858,
                  "humidity": 97.233,
                  "pressure": 1011.023,
                  "rainfall": 11.7348,
                  "rainrate": 0,
                  "temperature": 28.23109,
                  "timestamp": 1742366497,
                  "volt": 4.20625,
                  "_deepnote_index_column": "1742366497"
                },
                {
                  "dew": 27.5856,
                  "humidity": 96.49294,
                  "pressure": 1011.033,
                  "rainfall": 11.7348,
                  "rainrate": 0,
                  "temperature": 28.19905,
                  "timestamp": 1742366512,
                  "volt": 4.22,
                  "_deepnote_index_column": "1742366512"
                },
                {
                  "dew": 27.5691,
                  "humidity": 96.34035,
                  "pressure": 1011.045,
                  "rainfall": 11.7348,
                  "rainrate": 0,
                  "temperature": 28.20973,
                  "timestamp": 1742366527,
                  "volt": 4.21125,
                  "_deepnote_index_column": "1742366527"
                },
                {
                  "dew": 27.68267,
                  "humidity": 96.81529,
                  "pressure": 1011.038,
                  "rainfall": 11.7348,
                  "rainrate": 0,
                  "temperature": 28.23911,
                  "timestamp": 1742366542,
                  "volt": 4.21875,
                  "_deepnote_index_column": "1742366542"
                },
                {
                  "dew": 27.71058,
                  "humidity": 96.92783,
                  "pressure": 1011.046,
                  "rainfall": 11.7348,
                  "rainrate": 0,
                  "temperature": 28.24712,
                  "timestamp": 1742366557,
                  "volt": 4.22,
                  "_deepnote_index_column": "1742366557"
                },
                {
                  "dew": 27.7056,
                  "humidity": 96.80957,
                  "pressure": 1011.059,
                  "rainfall": 11.7348,
                  "rainrate": 0,
                  "temperature": 28.26315,
                  "timestamp": 1742366572,
                  "volt": 4.2225,
                  "_deepnote_index_column": "1742366572"
                },
                {
                  "dew": 27.63344,
                  "humidity": 96.49294,
                  "pressure": 1011.047,
                  "rainfall": 11.7348,
                  "rainrate": 0,
                  "temperature": 28.24712,
                  "timestamp": 1742366587,
                  "volt": 4.22125,
                  "_deepnote_index_column": "1742366587"
                },
                {
                  "dew": 27.46198,
                  "humidity": 95.62127,
                  "pressure": 1011.058,
                  "rainfall": 11.7348,
                  "rainrate": 0,
                  "temperature": 28.23109,
                  "timestamp": 1742366602,
                  "volt": 4.2175,
                  "_deepnote_index_column": "1742366602"
                },
                {
                  "dew": 27.59813,
                  "humidity": 96.20493,
                  "pressure": 1011.048,
                  "rainfall": 11.7348,
                  "rainrate": 0,
                  "temperature": 28.26315,
                  "timestamp": 1742366617,
                  "volt": 4.22,
                  "_deepnote_index_column": "1742366617"
                },
                {
                  "dew": 27.58824,
                  "humidity": 96.224,
                  "pressure": 1011.041,
                  "rainfall": 11.7348,
                  "rainrate": 0,
                  "temperature": 28.24979,
                  "timestamp": 1742366632,
                  "volt": 4.2175,
                  "_deepnote_index_column": "1742366632"
                }
              ],
              "type": "dataframe"
            },
            "text/plain": "                 dew  humidity  pressure  rainfall  rainrate  temperature  \\\n1742366497  27.74858  97.23300  1011.023   11.7348       0.0     28.23109   \n1742366512  27.58560  96.49294  1011.033   11.7348       0.0     28.19905   \n1742366527  27.56910  96.34035  1011.045   11.7348       0.0     28.20973   \n1742366542  27.68267  96.81529  1011.038   11.7348       0.0     28.23911   \n1742366557  27.71058  96.92783  1011.046   11.7348       0.0     28.24712   \n1742366572  27.70560  96.80957  1011.059   11.7348       0.0     28.26315   \n1742366587  27.63344  96.49294  1011.047   11.7348       0.0     28.24712   \n1742366602  27.46198  95.62127  1011.058   11.7348       0.0     28.23109   \n1742366617  27.59813  96.20493  1011.048   11.7348       0.0     28.26315   \n1742366632  27.58824  96.22400  1011.041   11.7348       0.0     28.24979   \n\n             timestamp     volt  \n1742366497  1742366497  4.20625  \n1742366512  1742366512  4.22000  \n1742366527  1742366527  4.21125  \n1742366542  1742366542  4.21875  \n1742366557  1742366557  4.22000  \n1742366572  1742366572  4.22250  \n1742366587  1742366587  4.22125  \n1742366602  1742366602  4.21750  \n1742366617  1742366617  4.22000  \n1742366632  1742366632  4.21750  ",
            "text/html": "<div>\n<style scoped>\n    .dataframe tbody tr th:only-of-type {\n        vertical-align: middle;\n    }\n\n    .dataframe tbody tr th {\n        vertical-align: top;\n    }\n\n    .dataframe thead th {\n        text-align: right;\n    }\n</style>\n<table border=\"1\" class=\"dataframe\">\n  <thead>\n    <tr style=\"text-align: right;\">\n      <th></th>\n      <th>dew</th>\n      <th>humidity</th>\n      <th>pressure</th>\n      <th>rainfall</th>\n      <th>rainrate</th>\n      <th>temperature</th>\n      <th>timestamp</th>\n      <th>volt</th>\n    </tr>\n  </thead>\n  <tbody>\n    <tr>\n      <th>1742366497</th>\n      <td>27.74858</td>\n      <td>97.23300</td>\n      <td>1011.023</td>\n      <td>11.7348</td>\n      <td>0.0</td>\n      <td>28.23109</td>\n      <td>1742366497</td>\n      <td>4.20625</td>\n    </tr>\n    <tr>\n      <th>1742366512</th>\n      <td>27.58560</td>\n      <td>96.49294</td>\n      <td>1011.033</td>\n      <td>11.7348</td>\n      <td>0.0</td>\n      <td>28.19905</td>\n      <td>1742366512</td>\n      <td>4.22000</td>\n    </tr>\n    <tr>\n      <th>1742366527</th>\n      <td>27.56910</td>\n      <td>96.34035</td>\n      <td>1011.045</td>\n      <td>11.7348</td>\n      <td>0.0</td>\n      <td>28.20973</td>\n      <td>1742366527</td>\n      <td>4.21125</td>\n    </tr>\n    <tr>\n      <th>1742366542</th>\n      <td>27.68267</td>\n      <td>96.81529</td>\n      <td>1011.038</td>\n      <td>11.7348</td>\n      <td>0.0</td>\n      <td>28.23911</td>\n      <td>1742366542</td>\n      <td>4.21875</td>\n    </tr>\n    <tr>\n      <th>1742366557</th>\n      <td>27.71058</td>\n      <td>96.92783</td>\n      <td>1011.046</td>\n      <td>11.7348</td>\n      <td>0.0</td>\n      <td>28.24712</td>\n      <td>1742366557</td>\n      <td>4.22000</td>\n    </tr>\n    <tr>\n      <th>1742366572</th>\n      <td>27.70560</td>\n      <td>96.80957</td>\n      <td>1011.059</td>\n      <td>11.7348</td>\n      <td>0.0</td>\n      <td>28.26315</td>\n      <td>1742366572</td>\n      <td>4.22250</td>\n    </tr>\n    <tr>\n      <th>1742366587</th>\n      <td>27.63344</td>\n      <td>96.49294</td>\n      <td>1011.047</td>\n      <td>11.7348</td>\n      <td>0.0</td>\n      <td>28.24712</td>\n      <td>1742366587</td>\n      <td>4.22125</td>\n    </tr>\n    <tr>\n      <th>1742366602</th>\n      <td>27.46198</td>\n      <td>95.62127</td>\n      <td>1011.058</td>\n      <td>11.7348</td>\n      <td>0.0</td>\n      <td>28.23109</td>\n      <td>1742366602</td>\n      <td>4.21750</td>\n    </tr>\n    <tr>\n      <th>1742366617</th>\n      <td>27.59813</td>\n      <td>96.20493</td>\n      <td>1011.048</td>\n      <td>11.7348</td>\n      <td>0.0</td>\n      <td>28.26315</td>\n      <td>1742366617</td>\n      <td>4.22000</td>\n    </tr>\n    <tr>\n      <th>1742366632</th>\n      <td>27.58824</td>\n      <td>96.22400</td>\n      <td>1011.041</td>\n      <td>11.7348</td>\n      <td>0.0</td>\n      <td>28.24979</td>\n      <td>1742366632</td>\n      <td>4.21750</td>\n    </tr>\n  </tbody>\n</table>\n</div>"
          },
          "metadata": {}
        }
      ],
      "outputs_reference": null,
      "content_dependencies": null
    },
    {
      "cell_type": "code",
      "metadata": {
        "source_hash": "9739f168",
        "execution_start": 1744130033767,
        "execution_millis": 0,
        "execution_context_id": "28069132-a206-471e-931e-7ebee3c8aa3d",
        "cell_id": "eaad0c201d554ec486b131c76644db22",
        "deepnote_cell_type": "code"
      },
      "source": "# Input readable date\nreadable_date = \"01-03-2025 11:15:00\"  # Format: DD-MM-YYYY HH:MM:SS\n\n# Convert readable date to Unix timestamp\nstart_timestamp = int(datetime.strptime(readable_date, \"%d-%m-%Y %H:%M:%S\").timestamp())\nprint(start_timestamp)\nend_timestamp = int(datetime.now().timestamp())  # Current time in Unix timestamp\n\n# Filter data berdasarkan rentang waktu dengan validasi kunci\nfiltered_data = {\n    key: value\n    for key, value in source_data.items()\n    if key.isdigit() and start_timestamp <= int(key) <= end_timestamp\n}",
      "block_group": "37bb43fdec5e457a89677cfde75dd17b",
      "execution_count": 5,
      "outputs": [
        {
          "name": "stdout",
          "text": "1740827700\n",
          "output_type": "stream"
        }
      ],
      "outputs_reference": null,
      "content_dependencies": null
    },
    {
      "cell_type": "code",
      "metadata": {
        "source_hash": "10beb08b",
        "execution_start": 1744130033826,
        "execution_millis": 86,
        "execution_context_id": "28069132-a206-471e-931e-7ebee3c8aa3d",
        "cell_id": "c64acd6dd5e74c6a85c3999de8975d6a",
        "deepnote_cell_type": "code"
      },
      "source": "# Konfigurasi database tujuan\ndest_cred = credentials.Certificate(\"/work/staklimjerukagung-firebase-admin.json\")\ndest_app = firebase_admin.initialize_app(dest_cred, {\n    'databaseURL': 'https://staklimjerukagung-default-rtdb.asia-southeast1.firebasedatabase.app/'\n}, name='destination')",
      "block_group": "ae108d4e0b28499fb0cc09673296d950",
      "execution_count": 6,
      "outputs": [],
      "outputs_reference": null,
      "content_dependencies": null
    },
    {
      "cell_type": "code",
      "metadata": {
        "source_hash": "153c7af7",
        "execution_start": 1744130033957,
        "execution_millis": 0,
        "execution_context_id": "28069132-a206-471e-931e-7ebee3c8aa3d",
        "cell_id": "c6363488561240b6aab9fba034859134",
        "deepnote_cell_type": "code"
      },
      "source": "# Referensi ke data tujuan\ndest_ref = db.reference('/auto_weather_stat/id-05/data', app=dest_app)",
      "block_group": "17a8f4aaef4f40008d4ba3a9ca867646",
      "execution_count": 7,
      "outputs": [],
      "outputs_reference": null,
      "content_dependencies": null
    },
    {
      "cell_type": "code",
      "metadata": {
        "source_hash": "ac55fc9b",
        "execution_start": 1744130034017,
        "execution_millis": 16089,
        "execution_context_id": "28069132-a206-471e-931e-7ebee3c8aa3d",
        "cell_id": "01e1ca64957145bf8d711255e0f39988",
        "deepnote_cell_type": "code"
      },
      "source": "# Memindahkan data yang telah difilter ke database tujuan\nif filtered_data:\n    dest_ref.update(filtered_data)\n    print(\"Data berhasil dipindahkan ke /auto_weather_stat/id-03 di database tujuan.\")\nelse:\n    print(\"Tidak ada data dalam rentang waktu yang ditentukan.\")",
      "block_group": "eb1b0789c6ac44a3bac4454659a0409a",
      "execution_count": 8,
      "outputs": [
        {
          "name": "stdout",
          "text": "Data berhasil dipindahkan ke /auto_weather_stat/id-03 di database tujuan.\n",
          "output_type": "stream"
        }
      ],
      "outputs_reference": null,
      "content_dependencies": null
    },
    {
      "cell_type": "markdown",
      "source": "<a style='text-decoration:none;line-height:16px;display:flex;color:#5B5B62;padding:10px;justify-content:end;' href='https://deepnote.com?utm_source=created-in-deepnote-cell&projectId=200afad5-8991-4e20-8a55-8751c7aff3b5' target=\"_blank\">\n<img alt='Created in deepnote.com' style='display:inline;max-height:16px;margin:0px;margin-right:7.5px;' src='data:image/svg+xml;base64,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' > </img>\nCreated in <span style='font-weight:600;margin-left:4px;'>Deepnote</span></a>",
      "metadata": {
        "created_in_deepnote_cell": true,
        "deepnote_cell_type": "markdown"
      }
    }
  ],
  "nbformat": 4,
  "nbformat_minor": 0,
  "metadata": {
    "deepnote_notebook_id": "6fb4bd078c5f4d19930805c5d4bdafc2"
  }
}