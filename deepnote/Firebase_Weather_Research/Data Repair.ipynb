{
  "cells": [
    {
      "cell_type": "code",
      "metadata": {
        "source_hash": "7a7ac4cd",
        "execution_start": 1744129765607,
        "execution_millis": 2798,
        "execution_context_id": "28069132-a206-471e-931e-7ebee3c8aa3d",
        "cell_id": "239a2b0740ad4b2a91abd5acb6c2efbe",
        "deepnote_cell_type": "code"
      },
      "source": "!pip install firebase-admin\nimport firebase_admin\nfrom firebase_admin import credentials, db\nfrom datetime import datetime  # Untuk konversi timestamp ke human-readable\nimport pandas as pd",
      "block_group": "239a2b0740ad4b2a91abd5acb6c2efbe",
      "execution_count": 1,
      "outputs": [
        {
          "name": "stdout",
          "text": "Requirement already satisfied: firebase-admin in /root/venv/lib/python3.11/site-packages (6.7.0)\nRequirement already satisfied: cachecontrol>=0.12.14 in /root/venv/lib/python3.11/site-packages (from firebase-admin) (0.14.2)\nRequirement already satisfied: google-api-python-client>=1.7.8 in /root/venv/lib/python3.11/site-packages (from firebase-admin) (2.166.0)\nRequirement already satisfied: google-cloud-storage>=1.37.1 in /root/venv/lib/python3.11/site-packages (from firebase-admin) (3.1.0)\nRequirement already satisfied: pyjwt>=2.5.0 in /root/venv/lib/python3.11/site-packages (from pyjwt[crypto]>=2.5.0->firebase-admin) (2.10.1)\nRequirement already satisfied: google-api-core<3.0.0dev,>=1.22.1 in /toolkit-cache/0.2.14/python3.11/kernel-libs/lib/python3.11/site-packages (from google-api-core[grpc]<3.0.0dev,>=1.22.1; platform_python_implementation != \"PyPy\"->firebase-admin) (2.19.2)\nRequirement already satisfied: google-cloud-firestore>=2.19.0 in /root/venv/lib/python3.11/site-packages (from firebase-admin) (2.20.1)\nRequirement already satisfied: requests>=2.16.0 in /root/venv/lib/python3.11/site-packages (from cachecontrol>=0.12.14->firebase-admin) (2.32.3)\nRequirement already satisfied: msgpack<2.0.0,>=0.5.2 in /root/venv/lib/python3.11/site-packages (from cachecontrol>=0.12.14->firebase-admin) (1.1.0)\nRequirement already satisfied: googleapis-common-protos<2.0.dev0,>=1.56.2 in /toolkit-cache/0.2.14/python3.11/kernel-libs/lib/python3.11/site-packages (from google-api-core<3.0.0dev,>=1.22.1->google-api-core[grpc]<3.0.0dev,>=1.22.1; platform_python_implementation != \"PyPy\"->firebase-admin) (1.65.0)\nRequirement already satisfied: protobuf!=3.20.0,!=3.20.1,!=4.21.0,!=4.21.1,!=4.21.2,!=4.21.3,!=4.21.4,!=4.21.5,<6.0.0.dev0,>=3.19.5 in /root/venv/lib/python3.11/site-packages (from google-api-core<3.0.0dev,>=1.22.1->google-api-core[grpc]<3.0.0dev,>=1.22.1; platform_python_implementation != \"PyPy\"->firebase-admin) (4.25.6)\nRequirement already satisfied: proto-plus<2.0.0dev,>=1.22.3 in /toolkit-cache/0.2.14/python3.11/kernel-libs/lib/python3.11/site-packages (from google-api-core<3.0.0dev,>=1.22.1->google-api-core[grpc]<3.0.0dev,>=1.22.1; platform_python_implementation != \"PyPy\"->firebase-admin) (1.24.0)\nRequirement already satisfied: google-auth<3.0.dev0,>=2.14.1 in /root/venv/lib/python3.11/site-packages (from google-api-core<3.0.0dev,>=1.22.1->google-api-core[grpc]<3.0.0dev,>=1.22.1; platform_python_implementation != \"PyPy\"->firebase-admin) (2.38.0)\nRequirement already satisfied: grpcio<2.0dev,>=1.33.2 in /root/venv/lib/python3.11/site-packages (from google-api-core[grpc]<3.0.0dev,>=1.22.1; platform_python_implementation != \"PyPy\"->firebase-admin) (1.70.0)\nRequirement already satisfied: grpcio-status<2.0.dev0,>=1.33.2 in /toolkit-cache/0.2.14/python3.11/kernel-libs/lib/python3.11/site-packages (from google-api-core[grpc]<3.0.0dev,>=1.22.1; platform_python_implementation != \"PyPy\"->firebase-admin) (1.62.3)\nRequirement already satisfied: httplib2<1.0.0,>=0.19.0 in /root/venv/lib/python3.11/site-packages (from google-api-python-client>=1.7.8->firebase-admin) (0.22.0)\nRequirement already satisfied: google-auth-httplib2<1.0.0,>=0.2.0 in /root/venv/lib/python3.11/site-packages (from google-api-python-client>=1.7.8->firebase-admin) (0.2.0)\nRequirement already satisfied: uritemplate<5,>=3.0.1 in /root/venv/lib/python3.11/site-packages (from google-api-python-client>=1.7.8->firebase-admin) (4.1.1)\nRequirement already satisfied: google-cloud-core<3.0.0dev,>=1.4.1 in /root/venv/lib/python3.11/site-packages (from google-cloud-firestore>=2.19.0->firebase-admin) (2.4.3)\nRequirement already satisfied: google-resumable-media>=2.7.2 in /toolkit-cache/0.2.14/python3.11/kernel-libs/lib/python3.11/site-packages (from google-cloud-storage>=1.37.1->firebase-admin) (2.7.2)\nRequirement already satisfied: google-crc32c<2.0dev,>=1.0 in /toolkit-cache/0.2.14/python3.11/kernel-libs/lib/python3.11/site-packages (from google-cloud-storage>=1.37.1->firebase-admin) (1.5.0)\nRequirement already satisfied: cryptography>=3.4.0 in /root/venv/lib/python3.11/site-packages (from pyjwt[crypto]>=2.5.0->firebase-admin) (43.0.3)\nRequirement already satisfied: cffi>=1.12 in /root/venv/lib/python3.11/site-packages (from cryptography>=3.4.0->pyjwt[crypto]>=2.5.0->firebase-admin) (1.17.1)\nRequirement already satisfied: cachetools<6.0,>=2.0.0 in /root/venv/lib/python3.11/site-packages (from google-auth<3.0.dev0,>=2.14.1->google-api-core<3.0.0dev,>=1.22.1->google-api-core[grpc]<3.0.0dev,>=1.22.1; platform_python_implementation != \"PyPy\"->firebase-admin) (5.5.1)\nRequirement already satisfied: pyasn1-modules>=0.2.1 in /root/venv/lib/python3.11/site-packages (from google-auth<3.0.dev0,>=2.14.1->google-api-core<3.0.0dev,>=1.22.1->google-api-core[grpc]<3.0.0dev,>=1.22.1; platform_python_implementation != \"PyPy\"->firebase-admin) (0.4.1)\nRequirement already satisfied: rsa<5,>=3.1.4 in /root/venv/lib/python3.11/site-packages (from google-auth<3.0.dev0,>=2.14.1->google-api-core<3.0.0dev,>=1.22.1->google-api-core[grpc]<3.0.0dev,>=1.22.1; platform_python_implementation != \"PyPy\"->firebase-admin) (4.9)\nRequirement already satisfied: pyparsing!=3.0.0,!=3.0.1,!=3.0.2,!=3.0.3,<4,>=2.4.2 in /root/venv/lib/python3.11/site-packages (from httplib2<1.0.0,>=0.19.0->google-api-python-client>=1.7.8->firebase-admin) (3.2.1)\nRequirement already satisfied: charset-normalizer<4,>=2 in /root/venv/lib/python3.11/site-packages (from requests>=2.16.0->cachecontrol>=0.12.14->firebase-admin) (3.4.1)\nRequirement already satisfied: idna<4,>=2.5 in /root/venv/lib/python3.11/site-packages (from requests>=2.16.0->cachecontrol>=0.12.14->firebase-admin) (3.10)\nRequirement already satisfied: urllib3<3,>=1.21.1 in /root/venv/lib/python3.11/site-packages (from requests>=2.16.0->cachecontrol>=0.12.14->firebase-admin) (2.3.0)\nRequirement already satisfied: certifi>=2017.4.17 in /root/venv/lib/python3.11/site-packages (from requests>=2.16.0->cachecontrol>=0.12.14->firebase-admin) (2025.1.31)\nRequirement already satisfied: pycparser in /root/venv/lib/python3.11/site-packages (from cffi>=1.12->cryptography>=3.4.0->pyjwt[crypto]>=2.5.0->firebase-admin) (2.22)\nRequirement already satisfied: pyasn1<0.7.0,>=0.4.6 in /root/venv/lib/python3.11/site-packages (from pyasn1-modules>=0.2.1->google-auth<3.0.dev0,>=2.14.1->google-api-core<3.0.0dev,>=1.22.1->google-api-core[grpc]<3.0.0dev,>=1.22.1; platform_python_implementation != \"PyPy\"->firebase-admin) (0.6.1)\n\n\u001b[1m[\u001b[0m\u001b[34;49mnotice\u001b[0m\u001b[1;39;49m]\u001b[0m\u001b[39;49m A new release of pip is available: \u001b[0m\u001b[31;49m24.0\u001b[0m\u001b[39;49m -> \u001b[0m\u001b[32;49m25.0.1\u001b[0m\n\u001b[1m[\u001b[0m\u001b[34;49mnotice\u001b[0m\u001b[1;39;49m]\u001b[0m\u001b[39;49m To update, run: \u001b[0m\u001b[32;49mpip install --upgrade pip\u001b[0m\n",
          "output_type": "stream"
        }
      ],
      "outputs_reference": null,
      "content_dependencies": null
    },
    {
      "cell_type": "code",
      "metadata": {
        "source_hash": "35f77015",
        "execution_start": 1744129768457,
        "execution_millis": 113,
        "execution_context_id": "28069132-a206-471e-931e-7ebee3c8aa3d",
        "cell_id": "09ac3ae27f4f48aa89ec6f92b3fde7d6",
        "deepnote_cell_type": "code"
      },
      "source": "# Konfigurasi database sumber\nsource_cred = credentials.Certificate(\"/work/database-sensor-iklim-litbang-firebase-admin.json\")\nfirebase_admin.initialize_app(source_cred, {\n    'databaseURL': 'https://database-sensor-iklim-litbang-default-rtdb.asia-southeast1.firebasedatabase.app/'\n})",
      "block_group": "8dd9d1409d624e9ca17809ae527920a4",
      "execution_count": 2,
      "outputs": [
        {
          "output_type": "execute_result",
          "execution_count": 2,
          "data": {
            "text/plain": "<firebase_admin.App at 0x7fedeb9ba950>"
          },
          "metadata": {}
        }
      ],
      "outputs_reference": null,
      "content_dependencies": null
    },
    {
      "cell_type": "code",
      "metadata": {
        "source_hash": "ff612fa9",
        "execution_start": 1744129768617,
        "execution_millis": 11395,
        "execution_context_id": "28069132-a206-471e-931e-7ebee3c8aa3d",
        "cell_id": "560d1d5d829f48059de01b2f8b1154a8",
        "deepnote_cell_type": "code"
      },
      "source": "# Referensi ke data sumber\nsource_ref = db.reference('/auto_weather_stat/id-04/data')\n\n# Mengambil data dari database sumber\nsource_data = source_ref.get()\n\n# Mengubah data menjadi DataFrame pandas\nif source_data:\n    # Mengubah data menjadi DataFrame\n    df = pd.DataFrame.from_dict(source_data, orient='index')\n    \n    # Jika 'timestamp' sudah ada, jangan pindahkan indeks ke kolom\n    if 'timestamp' not in df.columns:\n        df.index.name = 'timestamp'  # Mengatur nama indeks\n        df.reset_index(inplace=True)  # Memindahkan indeks menjadi kolom biasa\n    \n    print(df.head())  # Menampilkan data untuk verifikasi\nelse:\n    print(\"Tidak ada data di jalur /auto_weather_stat/id-03/data.\")",
      "block_group": "a6f2843c64ab4802a9146adcdd12fd33",
      "execution_count": 3,
      "outputs": [
        {
          "name": "stdout",
          "text": "                 dew  humidity  pressure  temperature   timestamp     volt\n0           29.21617  84.65000  1002.930     32.14000           0  3.91250\n1732280466  29.33488  98.57198  1007.966     29.58495  1732280466  4.02250\n1732280481  29.32663  98.63111  1007.955     29.56626  1732280481  4.02250\n1732280496  29.35434  98.66735  1007.957     29.58762  1732280496  4.02375\n1732280511  29.35272  98.70359  1007.949     29.57961  1732280511  4.02500\n",
          "output_type": "stream"
        }
      ],
      "outputs_reference": null,
      "content_dependencies": null
    },
    {
      "cell_type": "code",
      "metadata": {
        "source_hash": "f30f989a",
        "execution_start": 1744129780077,
        "execution_millis": 1,
        "execution_context_id": "28069132-a206-471e-931e-7ebee3c8aa3d",
        "cell_id": "5f389d5148e54800ae4ef15f524ebd3d",
        "deepnote_cell_type": "code"
      },
      "source": "df.head(10)",
      "block_group": "2a0de005cd1544ffb1bdee4bc31db732",
      "execution_count": 4,
      "outputs": [
        {
          "output_type": "execute_result",
          "execution_count": 4,
          "data": {
            "application/vnd.deepnote.dataframe.v3+json": {
              "column_count": 6,
              "row_count": 10,
              "columns": [
                {
                  "name": "dew",
                  "dtype": "float64",
                  "stats": {
                    "unique_count": 10,
                    "nan_count": 0,
                    "min": "29.21617",
                    "max": "29.37687",
                    "histogram": [
                      {
                        "bin_start": 29.21617,
                        "bin_end": 29.23224,
                        "count": 1
                      },
                      {
                        "bin_start": 29.23224,
                        "bin_end": 29.24831,
                        "count": 0
                      },
                      {
                        "bin_start": 29.24831,
                        "bin_end": 29.264380000000003,
                        "count": 0
                      },
                      {
                        "bin_start": 29.264380000000003,
                        "bin_end": 29.280450000000002,
                        "count": 0
                      },
                      {
                        "bin_start": 29.280450000000002,
                        "bin_end": 29.29652,
                        "count": 0
                      },
                      {
                        "bin_start": 29.29652,
                        "bin_end": 29.31259,
                        "count": 0
                      },
                      {
                        "bin_start": 29.31259,
                        "bin_end": 29.32866,
                        "count": 1
                      },
                      {
                        "bin_start": 29.32866,
                        "bin_end": 29.344730000000002,
                        "count": 1
                      },
                      {
                        "bin_start": 29.344730000000002,
                        "bin_end": 29.3608,
                        "count": 2
                      },
                      {
                        "bin_start": 29.3608,
                        "bin_end": 29.37687,
                        "count": 5
                      }
                    ]
                  }
                },
                {
                  "name": "humidity",
                  "dtype": "float64",
                  "stats": {
                    "unique_count": 10,
                    "nan_count": 0,
                    "min": "84.65",
                    "max": "98.87717",
                    "histogram": [
                      {
                        "bin_start": 84.65,
                        "bin_end": 86.07271700000001,
                        "count": 1
                      },
                      {
                        "bin_start": 86.07271700000001,
                        "bin_end": 87.495434,
                        "count": 0
                      },
                      {
                        "bin_start": 87.495434,
                        "bin_end": 88.91815100000001,
                        "count": 0
                      },
                      {
                        "bin_start": 88.91815100000001,
                        "bin_end": 90.340868,
                        "count": 0
                      },
                      {
                        "bin_start": 90.340868,
                        "bin_end": 91.763585,
                        "count": 0
                      },
                      {
                        "bin_start": 91.763585,
                        "bin_end": 93.18630200000001,
                        "count": 0
                      },
                      {
                        "bin_start": 93.18630200000001,
                        "bin_end": 94.609019,
                        "count": 0
                      },
                      {
                        "bin_start": 94.609019,
                        "bin_end": 96.03173600000001,
                        "count": 0
                      },
                      {
                        "bin_start": 96.03173600000001,
                        "bin_end": 97.454453,
                        "count": 0
                      },
                      {
                        "bin_start": 97.454453,
                        "bin_end": 98.87717,
                        "count": 9
                      }
                    ]
                  }
                },
                {
                  "name": "pressure",
                  "dtype": "float64",
                  "stats": {
                    "unique_count": 8,
                    "nan_count": 0,
                    "min": "1002.93",
                    "max": "1007.966",
                    "histogram": [
                      {
                        "bin_start": 1002.93,
                        "bin_end": 1003.4336,
                        "count": 1
                      },
                      {
                        "bin_start": 1003.4336,
                        "bin_end": 1003.9372,
                        "count": 0
                      },
                      {
                        "bin_start": 1003.9372,
                        "bin_end": 1004.4408,
                        "count": 0
                      },
                      {
                        "bin_start": 1004.4408,
                        "bin_end": 1004.9444,
                        "count": 0
                      },
                      {
                        "bin_start": 1004.9444,
                        "bin_end": 1005.448,
                        "count": 0
                      },
                      {
                        "bin_start": 1005.448,
                        "bin_end": 1005.9516,
                        "count": 0
                      },
                      {
                        "bin_start": 1005.9516,
                        "bin_end": 1006.4552,
                        "count": 0
                      },
                      {
                        "bin_start": 1006.4552,
                        "bin_end": 1006.9588,
                        "count": 0
                      },
                      {
                        "bin_start": 1006.9588,
                        "bin_end": 1007.4624,
                        "count": 0
                      },
                      {
                        "bin_start": 1007.4624,
                        "bin_end": 1007.966,
                        "count": 9
                      }
                    ]
                  }
                },
                {
                  "name": "temperature",
                  "dtype": "float64",
                  "stats": {
                    "unique_count": 8,
                    "nan_count": 0,
                    "min": "29.56092",
                    "max": "32.14",
                    "histogram": [
                      {
                        "bin_start": 29.56092,
                        "bin_end": 29.818828,
                        "count": 9
                      },
                      {
                        "bin_start": 29.818828,
                        "bin_end": 30.076736,
                        "count": 0
                      },
                      {
                        "bin_start": 30.076736,
                        "bin_end": 30.334644,
                        "count": 0
                      },
                      {
                        "bin_start": 30.334644,
                        "bin_end": 30.592552,
                        "count": 0
                      },
                      {
                        "bin_start": 30.592552,
                        "bin_end": 30.850459999999998,
                        "count": 0
                      },
                      {
                        "bin_start": 30.850459999999998,
                        "bin_end": 31.108368,
                        "count": 0
                      },
                      {
                        "bin_start": 31.108368,
                        "bin_end": 31.366276,
                        "count": 0
                      },
                      {
                        "bin_start": 31.366276,
                        "bin_end": 31.624184,
                        "count": 0
                      },
                      {
                        "bin_start": 31.624184,
                        "bin_end": 31.882092,
                        "count": 0
                      },
                      {
                        "bin_start": 31.882092,
                        "bin_end": 32.14,
                        "count": 1
                      }
                    ]
                  }
                },
                {
                  "name": "timestamp",
                  "dtype": "int64",
                  "stats": {
                    "unique_count": 10,
                    "nan_count": 0,
                    "min": "0",
                    "max": "1732280625",
                    "histogram": [
                      {
                        "bin_start": 0,
                        "bin_end": 173228062.5,
                        "count": 1
                      },
                      {
                        "bin_start": 173228062.5,
                        "bin_end": 346456125,
                        "count": 0
                      },
                      {
                        "bin_start": 346456125,
                        "bin_end": 519684187.5,
                        "count": 0
                      },
                      {
                        "bin_start": 519684187.5,
                        "bin_end": 692912250,
                        "count": 0
                      },
                      {
                        "bin_start": 692912250,
                        "bin_end": 866140312.5,
                        "count": 0
                      },
                      {
                        "bin_start": 866140312.5,
                        "bin_end": 1039368375,
                        "count": 0
                      },
                      {
                        "bin_start": 1039368375,
                        "bin_end": 1212596437.5,
                        "count": 0
                      },
                      {
                        "bin_start": 1212596437.5,
                        "bin_end": 1385824500,
                        "count": 0
                      },
                      {
                        "bin_start": 1385824500,
                        "bin_end": 1559052562.5,
                        "count": 0
                      },
                      {
                        "bin_start": 1559052562.5,
                        "bin_end": 1732280625,
                        "count": 9
                      }
                    ]
                  }
                },
                {
                  "name": "volt",
                  "dtype": "float64",
                  "stats": {
                    "unique_count": 6,
                    "nan_count": 0,
                    "min": "3.9125",
                    "max": "4.02625",
                    "histogram": [
                      {
                        "bin_start": 3.9125,
                        "bin_end": 3.9238750000000002,
                        "count": 1
                      },
                      {
                        "bin_start": 3.9238750000000002,
                        "bin_end": 3.93525,
                        "count": 0
                      },
                      {
                        "bin_start": 3.93525,
                        "bin_end": 3.946625,
                        "count": 0
                      },
                      {
                        "bin_start": 3.946625,
                        "bin_end": 3.958,
                        "count": 0
                      },
                      {
                        "bin_start": 3.958,
                        "bin_end": 3.9693750000000003,
                        "count": 0
                      },
                      {
                        "bin_start": 3.9693750000000003,
                        "bin_end": 3.98075,
                        "count": 0
                      },
                      {
                        "bin_start": 3.98075,
                        "bin_end": 3.992125,
                        "count": 0
                      },
                      {
                        "bin_start": 3.992125,
                        "bin_end": 4.0035,
                        "count": 0
                      },
                      {
                        "bin_start": 4.0035,
                        "bin_end": 4.014875,
                        "count": 0
                      },
                      {
                        "bin_start": 4.014875,
                        "bin_end": 4.02625,
                        "count": 9
                      }
                    ]
                  }
                },
                {
                  "name": "_deepnote_index_column",
                  "dtype": "object"
                }
              ],
              "rows": [
                {
                  "dew": 29.21617,
                  "humidity": 84.65,
                  "pressure": 1002.93,
                  "temperature": 32.14,
                  "timestamp": 0,
                  "volt": 3.9125,
                  "_deepnote_index_column": "0"
                },
                {
                  "dew": 29.33488,
                  "humidity": 98.57198,
                  "pressure": 1007.966,
                  "temperature": 29.58495,
                  "timestamp": 1732280466,
                  "volt": 4.0225,
                  "_deepnote_index_column": "1732280466"
                },
                {
                  "dew": 29.32663,
                  "humidity": 98.63111,
                  "pressure": 1007.955,
                  "temperature": 29.56626,
                  "timestamp": 1732280481,
                  "volt": 4.0225,
                  "_deepnote_index_column": "1732280481"
                },
                {
                  "dew": 29.35434,
                  "humidity": 98.66735,
                  "pressure": 1007.957,
                  "temperature": 29.58762,
                  "timestamp": 1732280496,
                  "volt": 4.02375,
                  "_deepnote_index_column": "1732280496"
                },
                {
                  "dew": 29.35272,
                  "humidity": 98.70359,
                  "pressure": 1007.949,
                  "temperature": 29.57961,
                  "timestamp": 1732280511,
                  "volt": 4.025,
                  "_deepnote_index_column": "1732280511"
                },
                {
                  "dew": 29.3688,
                  "humidity": 98.76463,
                  "pressure": 1007.956,
                  "temperature": 29.58495,
                  "timestamp": 1732280526,
                  "volt": 4.02375,
                  "_deepnote_index_column": "1732280526"
                },
                {
                  "dew": 29.37081,
                  "humidity": 98.77608,
                  "pressure": 1007.962,
                  "temperature": 29.58495,
                  "timestamp": 1732280541,
                  "volt": 4.02625,
                  "_deepnote_index_column": "1732280541"
                },
                {
                  "dew": 29.36786,
                  "humidity": 98.81995,
                  "pressure": 1007.955,
                  "temperature": 29.57427,
                  "timestamp": 1732280556,
                  "volt": 4.02375,
                  "_deepnote_index_column": "1732280556"
                },
                {
                  "dew": 29.37687,
                  "humidity": 98.82567,
                  "pressure": 1007.945,
                  "temperature": 29.58228,
                  "timestamp": 1732280586,
                  "volt": 4.02125,
                  "_deepnote_index_column": "1732280586"
                },
                {
                  "dew": 29.36459,
                  "humidity": 98.87717,
                  "pressure": 1007.956,
                  "temperature": 29.56092,
                  "timestamp": 1732280625,
                  "volt": 4.02125,
                  "_deepnote_index_column": "1732280625"
                }
              ],
              "type": "dataframe"
            },
            "text/plain": "                 dew  humidity  pressure  temperature   timestamp     volt\n0           29.21617  84.65000  1002.930     32.14000           0  3.91250\n1732280466  29.33488  98.57198  1007.966     29.58495  1732280466  4.02250\n1732280481  29.32663  98.63111  1007.955     29.56626  1732280481  4.02250\n1732280496  29.35434  98.66735  1007.957     29.58762  1732280496  4.02375\n1732280511  29.35272  98.70359  1007.949     29.57961  1732280511  4.02500\n1732280526  29.36880  98.76463  1007.956     29.58495  1732280526  4.02375\n1732280541  29.37081  98.77608  1007.962     29.58495  1732280541  4.02625\n1732280556  29.36786  98.81995  1007.955     29.57427  1732280556  4.02375\n1732280586  29.37687  98.82567  1007.945     29.58228  1732280586  4.02125\n1732280625  29.36459  98.87717  1007.956     29.56092  1732280625  4.02125",
            "text/html": "<div>\n<style scoped>\n    .dataframe tbody tr th:only-of-type {\n        vertical-align: middle;\n    }\n\n    .dataframe tbody tr th {\n        vertical-align: top;\n    }\n\n    .dataframe thead th {\n        text-align: right;\n    }\n</style>\n<table border=\"1\" class=\"dataframe\">\n  <thead>\n    <tr style=\"text-align: right;\">\n      <th></th>\n      <th>dew</th>\n      <th>humidity</th>\n      <th>pressure</th>\n      <th>temperature</th>\n      <th>timestamp</th>\n      <th>volt</th>\n    </tr>\n  </thead>\n  <tbody>\n    <tr>\n      <th>0</th>\n      <td>29.21617</td>\n      <td>84.65000</td>\n      <td>1002.930</td>\n      <td>32.14000</td>\n      <td>0</td>\n      <td>3.91250</td>\n    </tr>\n    <tr>\n      <th>1732280466</th>\n      <td>29.33488</td>\n      <td>98.57198</td>\n      <td>1007.966</td>\n      <td>29.58495</td>\n      <td>1732280466</td>\n      <td>4.02250</td>\n    </tr>\n    <tr>\n      <th>1732280481</th>\n      <td>29.32663</td>\n      <td>98.63111</td>\n      <td>1007.955</td>\n      <td>29.56626</td>\n      <td>1732280481</td>\n      <td>4.02250</td>\n    </tr>\n    <tr>\n      <th>1732280496</th>\n      <td>29.35434</td>\n      <td>98.66735</td>\n      <td>1007.957</td>\n      <td>29.58762</td>\n      <td>1732280496</td>\n      <td>4.02375</td>\n    </tr>\n    <tr>\n      <th>1732280511</th>\n      <td>29.35272</td>\n      <td>98.70359</td>\n      <td>1007.949</td>\n      <td>29.57961</td>\n      <td>1732280511</td>\n      <td>4.02500</td>\n    </tr>\n    <tr>\n      <th>1732280526</th>\n      <td>29.36880</td>\n      <td>98.76463</td>\n      <td>1007.956</td>\n      <td>29.58495</td>\n      <td>1732280526</td>\n      <td>4.02375</td>\n    </tr>\n    <tr>\n      <th>1732280541</th>\n      <td>29.37081</td>\n      <td>98.77608</td>\n      <td>1007.962</td>\n      <td>29.58495</td>\n      <td>1732280541</td>\n      <td>4.02625</td>\n    </tr>\n    <tr>\n      <th>1732280556</th>\n      <td>29.36786</td>\n      <td>98.81995</td>\n      <td>1007.955</td>\n      <td>29.57427</td>\n      <td>1732280556</td>\n      <td>4.02375</td>\n    </tr>\n    <tr>\n      <th>1732280586</th>\n      <td>29.37687</td>\n      <td>98.82567</td>\n      <td>1007.945</td>\n      <td>29.58228</td>\n      <td>1732280586</td>\n      <td>4.02125</td>\n    </tr>\n    <tr>\n      <th>1732280625</th>\n      <td>29.36459</td>\n      <td>98.87717</td>\n      <td>1007.956</td>\n      <td>29.56092</td>\n      <td>1732280625</td>\n      <td>4.02125</td>\n    </tr>\n  </tbody>\n</table>\n</div>"
          },
          "metadata": {}
        }
      ],
      "outputs_reference": null,
      "content_dependencies": null
    },
    {
      "cell_type": "code",
      "metadata": {
        "source_hash": "3622049c",
        "execution_start": 1744129780147,
        "execution_millis": 6,
        "execution_context_id": "28069132-a206-471e-931e-7ebee3c8aa3d",
        "cell_id": "eaad0c201d554ec486b131c76644db22",
        "deepnote_cell_type": "code"
      },
      "source": "# Input readable date\nreadable_date = \"01-04-2025 11:15:00\"  # Format: DD-MM-YYYY HH:MM:SS\n\n# Convert readable date to Unix timestamp\nstart_timestamp = int(datetime.strptime(readable_date, \"%d-%m-%Y %H:%M:%S\").timestamp())\nprint(start_timestamp)\nend_timestamp = int(datetime.now().timestamp())  # Current time in Unix timestamp\n\n# Filter data berdasarkan rentang waktu dengan validasi kunci\nfiltered_data = {\n    key: value\n    for key, value in source_data.items()\n    if key.isdigit() and start_timestamp <= int(key) <= end_timestamp\n}",
      "block_group": "37bb43fdec5e457a89677cfde75dd17b",
      "execution_count": 5,
      "outputs": [
        {
          "name": "stdout",
          "text": "1743506100\n",
          "output_type": "stream"
        }
      ],
      "outputs_reference": null,
      "content_dependencies": null
    },
    {
      "cell_type": "code",
      "metadata": {
        "source_hash": "10beb08b",
        "execution_start": 1744129780196,
        "execution_millis": 123,
        "execution_context_id": "28069132-a206-471e-931e-7ebee3c8aa3d",
        "cell_id": "c64acd6dd5e74c6a85c3999de8975d6a",
        "deepnote_cell_type": "code"
      },
      "source": "# Konfigurasi database tujuan\ndest_cred = credentials.Certificate(\"/work/staklimjerukagung-firebase-admin.json\")\ndest_app = firebase_admin.initialize_app(dest_cred, {\n    'databaseURL': 'https://staklimjerukagung-default-rtdb.asia-southeast1.firebasedatabase.app/'\n}, name='destination')",
      "block_group": "ae108d4e0b28499fb0cc09673296d950",
      "execution_count": 6,
      "outputs": [],
      "outputs_reference": null,
      "content_dependencies": null
    },
    {
      "cell_type": "code",
      "metadata": {
        "source_hash": "ea4ac017",
        "execution_start": 1744129780366,
        "execution_millis": 1,
        "execution_context_id": "28069132-a206-471e-931e-7ebee3c8aa3d",
        "cell_id": "c6363488561240b6aab9fba034859134",
        "deepnote_cell_type": "code"
      },
      "source": "# Referensi ke data tujuan\ndest_ref = db.reference('/auto_weather_stat/id-04/data', app=dest_app)",
      "block_group": "17a8f4aaef4f40008d4ba3a9ca867646",
      "execution_count": 7,
      "outputs": [],
      "outputs_reference": null,
      "content_dependencies": null
    },
    {
      "cell_type": "code",
      "metadata": {
        "source_hash": "ac55fc9b",
        "execution_start": 1744129780417,
        "execution_millis": 6359,
        "execution_context_id": "28069132-a206-471e-931e-7ebee3c8aa3d",
        "cell_id": "01e1ca64957145bf8d711255e0f39988",
        "deepnote_cell_type": "code"
      },
      "source": "# Memindahkan data yang telah difilter ke database tujuan\nif filtered_data:\n    dest_ref.update(filtered_data)\n    print(\"Data berhasil dipindahkan ke /auto_weather_stat/id-03 di database tujuan.\")\nelse:\n    print(\"Tidak ada data dalam rentang waktu yang ditentukan.\")",
      "block_group": "eb1b0789c6ac44a3bac4454659a0409a",
      "execution_count": 8,
      "outputs": [
        {
          "name": "stdout",
          "text": "Data berhasil dipindahkan ke /auto_weather_stat/id-03 di database tujuan.\n",
          "output_type": "stream"
        }
      ],
      "outputs_reference": null,
      "content_dependencies": null
    },
    {
      "cell_type": "markdown",
      "source": "<a style='text-decoration:none;line-height:16px;display:flex;color:#5B5B62;padding:10px;justify-content:end;' href='https://deepnote.com?utm_source=created-in-deepnote-cell&projectId=200afad5-8991-4e20-8a55-8751c7aff3b5' target=\"_blank\">\n<img alt='Created in deepnote.com' style='display:inline;max-height:16px;margin:0px;margin-right:7.5px;' src='data:image/svg+xml;base64,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' > </img>\nCreated in <span style='font-weight:600;margin-left:4px;'>Deepnote</span></a>",
      "metadata": {
        "created_in_deepnote_cell": true,
        "deepnote_cell_type": "markdown"
      }
    }
  ],
  "nbformat": 4,
  "nbformat_minor": 0,
  "metadata": {
    "deepnote_notebook_id": "6fb4bd078c5f4d19930805c5d4bdafc2"
  }
}