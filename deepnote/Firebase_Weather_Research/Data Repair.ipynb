{
  "cells": [
    {
      "cell_type": "code",
      "source": "!pip install firebase-admin\nimport firebase_admin\nfrom firebase_admin import credentials, db\nfrom datetime import datetime  # Untuk konversi timestamp ke human-readable\nimport pandas as pd",
      "metadata": {
        "source_hash": "7a7ac4cd",
        "execution_start": 1734053991199,
        "execution_millis": 6035,
        "execution_context_id": "85680f5e-0c28-4ee6-bb6b-ad98a8dce467",
        "cell_id": "239a2b0740ad4b2a91abd5acb6c2efbe",
        "deepnote_cell_type": "code"
      },
      "outputs": [
        {
          "name": "stdout",
          "text": "Collecting firebase-admin\n  Downloading firebase_admin-6.6.0-py3-none-any.whl.metadata (1.5 kB)\nCollecting cachecontrol>=0.12.14 (from firebase-admin)\n  Downloading cachecontrol-0.14.1-py3-none-any.whl.metadata (3.1 kB)\nCollecting google-api-python-client>=1.7.8 (from firebase-admin)\n  Downloading google_api_python_client-2.155.0-py2.py3-none-any.whl.metadata (6.7 kB)\nCollecting google-cloud-storage>=1.37.1 (from firebase-admin)\n  Downloading google_cloud_storage-2.19.0-py2.py3-none-any.whl.metadata (9.1 kB)\nRequirement already satisfied: pyjwt>=2.5.0 in /toolkit-cache/0.2.0/python3.11/kernel-libs/lib/python3.11/site-packages (from pyjwt[crypto]>=2.5.0->firebase-admin) (2.9.0)\nRequirement already satisfied: google-api-core<3.0.0dev,>=1.22.1 in /toolkit-cache/0.2.0/python3.11/kernel-libs/lib/python3.11/site-packages (from google-api-core[grpc]<3.0.0dev,>=1.22.1; platform_python_implementation != \"PyPy\"->firebase-admin) (2.19.2)\nCollecting google-cloud-firestore>=2.19.0 (from firebase-admin)\n  Downloading google_cloud_firestore-2.19.0-py2.py3-none-any.whl.metadata (5.7 kB)\nRequirement already satisfied: requests>=2.16.0 in /root/venv/lib/python3.11/site-packages (from cachecontrol>=0.12.14->firebase-admin) (2.32.3)\nCollecting msgpack<2.0.0,>=0.5.2 (from cachecontrol>=0.12.14->firebase-admin)\n  Downloading msgpack-1.1.0-cp311-cp311-manylinux_2_17_x86_64.manylinux2014_x86_64.whl.metadata (8.4 kB)\nRequirement already satisfied: googleapis-common-protos<2.0.dev0,>=1.56.2 in /toolkit-cache/0.2.0/python3.11/kernel-libs/lib/python3.11/site-packages (from google-api-core<3.0.0dev,>=1.22.1->google-api-core[grpc]<3.0.0dev,>=1.22.1; platform_python_implementation != \"PyPy\"->firebase-admin) (1.65.0)\nRequirement already satisfied: protobuf!=3.20.0,!=3.20.1,!=4.21.0,!=4.21.1,!=4.21.2,!=4.21.3,!=4.21.4,!=4.21.5,<6.0.0.dev0,>=3.19.5 in /root/venv/lib/python3.11/site-packages (from google-api-core<3.0.0dev,>=1.22.1->google-api-core[grpc]<3.0.0dev,>=1.22.1; platform_python_implementation != \"PyPy\"->firebase-admin) (4.25.5)\nRequirement already satisfied: proto-plus<2.0.0dev,>=1.22.3 in /toolkit-cache/0.2.0/python3.11/kernel-libs/lib/python3.11/site-packages (from google-api-core<3.0.0dev,>=1.22.1->google-api-core[grpc]<3.0.0dev,>=1.22.1; platform_python_implementation != \"PyPy\"->firebase-admin) (1.24.0)\nRequirement already satisfied: google-auth<3.0.dev0,>=2.14.1 in /root/venv/lib/python3.11/site-packages (from google-api-core<3.0.0dev,>=1.22.1->google-api-core[grpc]<3.0.0dev,>=1.22.1; platform_python_implementation != \"PyPy\"->firebase-admin) (2.36.0)\nRequirement already satisfied: grpcio<2.0dev,>=1.33.2 in /root/venv/lib/python3.11/site-packages (from google-api-core[grpc]<3.0.0dev,>=1.22.1; platform_python_implementation != \"PyPy\"->firebase-admin) (1.68.1)\nRequirement already satisfied: grpcio-status<2.0.dev0,>=1.33.2 in /toolkit-cache/0.2.0/python3.11/kernel-libs/lib/python3.11/site-packages (from google-api-core[grpc]<3.0.0dev,>=1.22.1; platform_python_implementation != \"PyPy\"->firebase-admin) (1.62.3)\nCollecting httplib2<1.dev0,>=0.19.0 (from google-api-python-client>=1.7.8->firebase-admin)\n  Downloading httplib2-0.22.0-py3-none-any.whl.metadata (2.6 kB)\nCollecting google-auth-httplib2<1.0.0,>=0.2.0 (from google-api-python-client>=1.7.8->firebase-admin)\n  Downloading google_auth_httplib2-0.2.0-py2.py3-none-any.whl.metadata (2.2 kB)\nCollecting uritemplate<5,>=3.0.1 (from google-api-python-client>=1.7.8->firebase-admin)\n  Downloading uritemplate-4.1.1-py2.py3-none-any.whl.metadata (2.9 kB)\nRequirement already satisfied: google-cloud-core<3.0.0dev,>=1.4.1 in /toolkit-cache/0.2.0/python3.11/kernel-libs/lib/python3.11/site-packages (from google-cloud-firestore>=2.19.0->firebase-admin) (2.4.1)\nRequirement already satisfied: google-resumable-media>=2.7.2 in /toolkit-cache/0.2.0/python3.11/kernel-libs/lib/python3.11/site-packages (from google-cloud-storage>=1.37.1->firebase-admin) (2.7.2)\nRequirement already satisfied: google-crc32c<2.0dev,>=1.0 in /toolkit-cache/0.2.0/python3.11/kernel-libs/lib/python3.11/site-packages (from google-cloud-storage>=1.37.1->firebase-admin) (1.5.0)\nRequirement already satisfied: cryptography>=3.4.0 in /root/venv/lib/python3.11/site-packages (from pyjwt[crypto]>=2.5.0->firebase-admin) (43.0.3)\nRequirement already satisfied: cffi>=1.12 in /root/venv/lib/python3.11/site-packages (from cryptography>=3.4.0->pyjwt[crypto]>=2.5.0->firebase-admin) (1.17.1)\nRequirement already satisfied: cachetools<6.0,>=2.0.0 in /root/venv/lib/python3.11/site-packages (from google-auth<3.0.dev0,>=2.14.1->google-api-core<3.0.0dev,>=1.22.1->google-api-core[grpc]<3.0.0dev,>=1.22.1; platform_python_implementation != \"PyPy\"->firebase-admin) (5.5.0)\nRequirement already satisfied: pyasn1-modules>=0.2.1 in /root/venv/lib/python3.11/site-packages (from google-auth<3.0.dev0,>=2.14.1->google-api-core<3.0.0dev,>=1.22.1->google-api-core[grpc]<3.0.0dev,>=1.22.1; platform_python_implementation != \"PyPy\"->firebase-admin) (0.4.1)\nRequirement already satisfied: rsa<5,>=3.1.4 in /root/venv/lib/python3.11/site-packages (from google-auth<3.0.dev0,>=2.14.1->google-api-core<3.0.0dev,>=1.22.1->google-api-core[grpc]<3.0.0dev,>=1.22.1; platform_python_implementation != \"PyPy\"->firebase-admin) (4.9)\nRequirement already satisfied: pyparsing!=3.0.0,!=3.0.1,!=3.0.2,!=3.0.3,<4,>=2.4.2 in /root/venv/lib/python3.11/site-packages (from httplib2<1.dev0,>=0.19.0->google-api-python-client>=1.7.8->firebase-admin) (3.2.0)\nRequirement already satisfied: charset-normalizer<4,>=2 in /root/venv/lib/python3.11/site-packages (from requests>=2.16.0->cachecontrol>=0.12.14->firebase-admin) (3.4.0)\nRequirement already satisfied: idna<4,>=2.5 in /root/venv/lib/python3.11/site-packages (from requests>=2.16.0->cachecontrol>=0.12.14->firebase-admin) (3.10)\nRequirement already satisfied: urllib3<3,>=1.21.1 in /root/venv/lib/python3.11/site-packages (from requests>=2.16.0->cachecontrol>=0.12.14->firebase-admin) (2.2.3)\nRequirement already satisfied: certifi>=2017.4.17 in /root/venv/lib/python3.11/site-packages (from requests>=2.16.0->cachecontrol>=0.12.14->firebase-admin) (2024.8.30)\nRequirement already satisfied: pycparser in /root/venv/lib/python3.11/site-packages (from cffi>=1.12->cryptography>=3.4.0->pyjwt[crypto]>=2.5.0->firebase-admin) (2.22)\nRequirement already satisfied: pyasn1<0.7.0,>=0.4.6 in /root/venv/lib/python3.11/site-packages (from pyasn1-modules>=0.2.1->google-auth<3.0.dev0,>=2.14.1->google-api-core<3.0.0dev,>=1.22.1->google-api-core[grpc]<3.0.0dev,>=1.22.1; platform_python_implementation != \"PyPy\"->firebase-admin) (0.6.1)\nDownloading firebase_admin-6.6.0-py3-none-any.whl (127 kB)\n\u001b[2K   \u001b[90m━━━━━━━━━━━━━━━━━━━━━━━━━━━━━━━━━━━━━━━━\u001b[0m \u001b[32m127.2/127.2 kB\u001b[0m \u001b[31m10.5 MB/s\u001b[0m eta \u001b[36m0:00:00\u001b[0m\n\u001b[?25hDownloading cachecontrol-0.14.1-py3-none-any.whl (22 kB)\nDownloading google_api_python_client-2.155.0-py2.py3-none-any.whl (12.7 MB)\n\u001b[2K   \u001b[90m━━━━━━━━━━━━━━━━━━━━━━━━━━━━━━━━━━━━━━━━\u001b[0m \u001b[32m12.7/12.7 MB\u001b[0m \u001b[31m131.0 MB/s\u001b[0m eta \u001b[36m0:00:00\u001b[0m\n\u001b[?25hDownloading google_cloud_firestore-2.19.0-py2.py3-none-any.whl (336 kB)\n\u001b[2K   \u001b[90m━━━━━━━━━━━━━━━━━━━━━━━━━━━━━━━━━━━━━━━━\u001b[0m \u001b[32m336.8/336.8 kB\u001b[0m \u001b[31m43.0 MB/s\u001b[0m eta \u001b[36m0:00:00\u001b[0m\n\u001b[?25hDownloading google_cloud_storage-2.19.0-py2.py3-none-any.whl (131 kB)\n\u001b[2K   \u001b[90m━━━━━━━━━━━━━━━━━━━━━━━━━━━━━━━━━━━━━━━━\u001b[0m \u001b[32m131.8/131.8 kB\u001b[0m \u001b[31m25.3 MB/s\u001b[0m eta \u001b[36m0:00:00\u001b[0m\n\u001b[?25hDownloading google_auth_httplib2-0.2.0-py2.py3-none-any.whl (9.3 kB)\nDownloading httplib2-0.22.0-py3-none-any.whl (96 kB)\n\u001b[2K   \u001b[90m━━━━━━━━━━━━━━━━━━━━━━━━━━━━━━━━━━━━━━━━\u001b[0m \u001b[32m96.9/96.9 kB\u001b[0m \u001b[31m10.3 MB/s\u001b[0m eta \u001b[36m0:00:00\u001b[0m\n\u001b[?25hDownloading msgpack-1.1.0-cp311-cp311-manylinux_2_17_x86_64.manylinux2014_x86_64.whl (403 kB)\n\u001b[2K   \u001b[90m━━━━━━━━━━━━━━━━━━━━━━━━━━━━━━━━━━━━━━━━\u001b[0m \u001b[32m403.7/403.7 kB\u001b[0m \u001b[31m23.4 MB/s\u001b[0m eta \u001b[36m0:00:00\u001b[0m\n\u001b[?25hDownloading uritemplate-4.1.1-py2.py3-none-any.whl (10 kB)\nInstalling collected packages: uritemplate, msgpack, httplib2, cachecontrol, google-auth-httplib2, google-api-python-client, google-cloud-storage, google-cloud-firestore, firebase-admin\nSuccessfully installed cachecontrol-0.14.1 firebase-admin-6.6.0 google-api-python-client-2.155.0 google-auth-httplib2-0.2.0 google-cloud-firestore-2.19.0 google-cloud-storage-2.19.0 httplib2-0.22.0 msgpack-1.1.0 uritemplate-4.1.1\n\n\u001b[1m[\u001b[0m\u001b[34;49mnotice\u001b[0m\u001b[1;39;49m]\u001b[0m\u001b[39;49m A new release of pip is available: \u001b[0m\u001b[31;49m24.0\u001b[0m\u001b[39;49m -> \u001b[0m\u001b[32;49m24.3.1\u001b[0m\n\u001b[1m[\u001b[0m\u001b[34;49mnotice\u001b[0m\u001b[1;39;49m]\u001b[0m\u001b[39;49m To update, run: \u001b[0m\u001b[32;49mpip install --upgrade pip\u001b[0m\n",
          "output_type": "stream"
        }
      ],
      "outputs_reference": null,
      "execution_count": 1,
      "block_group": "239a2b0740ad4b2a91abd5acb6c2efbe",
      "content_dependencies": null
    },
    {
      "cell_type": "code",
      "source": "# Konfigurasi database sumber\nsource_cred = credentials.Certificate(\"/work/database-sensor-iklim-litbang-firebase-admin.json\")\nfirebase_admin.initialize_app(source_cred, {\n    'databaseURL': 'https://database-sensor-iklim-litbang-default-rtdb.asia-southeast1.firebasedatabase.app/'\n})",
      "metadata": {
        "source_hash": "35f77015",
        "execution_start": 1734053997287,
        "execution_millis": 364,
        "execution_context_id": "85680f5e-0c28-4ee6-bb6b-ad98a8dce467",
        "cell_id": "09ac3ae27f4f48aa89ec6f92b3fde7d6",
        "deepnote_cell_type": "code"
      },
      "outputs": [
        {
          "output_type": "execute_result",
          "execution_count": 2,
          "data": {
            "text/plain": "<firebase_admin.App at 0x7fced45f4290>"
          },
          "metadata": {}
        }
      ],
      "outputs_reference": null,
      "execution_count": 2,
      "block_group": "8dd9d1409d624e9ca17809ae527920a4",
      "content_dependencies": null
    },
    {
      "cell_type": "code",
      "source": "# Referensi ke data sumber\nsource_ref = db.reference('/auto_weather_stat/id-03/data')\n\n# Mengambil data dari database sumber\nsource_data = source_ref.get()\n\n# Mengubah data menjadi DataFrame pandas\nif source_data:\n    # Mengubah data menjadi DataFrame\n    df = pd.DataFrame.from_dict(source_data, orient='index')\n    \n    # Jika 'timestamp' sudah ada, jangan pindahkan indeks ke kolom\n    if 'timestamp' not in df.columns:\n        df.index.name = 'timestamp'  # Mengatur nama indeks\n        df.reset_index(inplace=True)  # Memindahkan indeks menjadi kolom biasa\n    \n    print(df.head())  # Menampilkan data untuk verifikasi\nelse:\n    print(\"Tidak ada data di jalur /auto_weather_stat/id-03/data.\")",
      "metadata": {
        "source_hash": "9703047f",
        "execution_start": 1734053997703,
        "execution_millis": 3282,
        "execution_context_id": "85680f5e-0c28-4ee6-bb6b-ad98a8dce467",
        "cell_id": "560d1d5d829f48059de01b2f8b1154a8",
        "deepnote_cell_type": "code"
      },
      "outputs": [
        {
          "name": "stdout",
          "text": "                 dew  humidity  pressure  temperature   timestamp  volt  humi  \\\n1731000619  24.83318     98.48   1011.58        25.09  1731000619  4.05   NaN   \n1731000678  24.83488     98.49   1011.57        25.09  1731000678  4.05   NaN   \n1731000739  24.83318     98.48   1011.56        25.09  1731000739  4.05   NaN   \n1731000798  24.83148     98.47   1011.51        25.09  1731000798  4.05   NaN   \n1731000859  24.79155     98.47   1011.54        25.05  1731000859  4.05   NaN   \n\n            pres  temp  \n1731000619   NaN   NaN  \n1731000678   NaN   NaN  \n1731000739   NaN   NaN  \n1731000798   NaN   NaN  \n1731000859   NaN   NaN  \n",
          "output_type": "stream"
        }
      ],
      "outputs_reference": null,
      "execution_count": 3,
      "block_group": "a6f2843c64ab4802a9146adcdd12fd33",
      "content_dependencies": null
    },
    {
      "cell_type": "code",
      "source": "df.head(10)",
      "metadata": {
        "source_hash": "f30f989a",
        "execution_start": 1734054001035,
        "execution_millis": 1,
        "execution_context_id": "4debbede-f20d-4f32-bd58-65daab48bf53",
        "cell_id": "5f389d5148e54800ae4ef15f524ebd3d",
        "deepnote_cell_type": "code"
      },
      "outputs": [
        {
          "output_type": "execute_result",
          "execution_count": 4,
          "data": {
            "application/vnd.deepnote.dataframe.v3+json": {
              "column_count": 9,
              "row_count": 10,
              "columns": [
                {
                  "name": "dew",
                  "dtype": "float64",
                  "stats": {
                    "unique_count": 9,
                    "nan_count": 0,
                    "min": "24.77647",
                    "max": "24.83488",
                    "histogram": [
                      {
                        "bin_start": 24.77647,
                        "bin_end": 24.782311,
                        "count": 1
                      },
                      {
                        "bin_start": 24.782311,
                        "bin_end": 24.788152,
                        "count": 1
                      },
                      {
                        "bin_start": 24.788152,
                        "bin_end": 24.793993,
                        "count": 2
                      },
                      {
                        "bin_start": 24.793993,
                        "bin_end": 24.799834,
                        "count": 0
                      },
                      {
                        "bin_start": 24.799834,
                        "bin_end": 24.805675,
                        "count": 1
                      },
                      {
                        "bin_start": 24.805675,
                        "bin_end": 24.811515999999997,
                        "count": 0
                      },
                      {
                        "bin_start": 24.811515999999997,
                        "bin_end": 24.817356999999998,
                        "count": 0
                      },
                      {
                        "bin_start": 24.817356999999998,
                        "bin_end": 24.823197999999998,
                        "count": 1
                      },
                      {
                        "bin_start": 24.823197999999998,
                        "bin_end": 24.829038999999998,
                        "count": 0
                      },
                      {
                        "bin_start": 24.829038999999998,
                        "bin_end": 24.83488,
                        "count": 4
                      }
                    ]
                  }
                },
                {
                  "name": "humidity",
                  "dtype": "float64",
                  "stats": {
                    "unique_count": 6,
                    "nan_count": 0,
                    "min": "98.42",
                    "max": "98.49",
                    "histogram": [
                      {
                        "bin_start": 98.42,
                        "bin_end": 98.427,
                        "count": 1
                      },
                      {
                        "bin_start": 98.427,
                        "bin_end": 98.434,
                        "count": 0
                      },
                      {
                        "bin_start": 98.434,
                        "bin_end": 98.441,
                        "count": 1
                      },
                      {
                        "bin_start": 98.441,
                        "bin_end": 98.448,
                        "count": 0
                      },
                      {
                        "bin_start": 98.448,
                        "bin_end": 98.455,
                        "count": 0
                      },
                      {
                        "bin_start": 98.455,
                        "bin_end": 98.462,
                        "count": 2
                      },
                      {
                        "bin_start": 98.462,
                        "bin_end": 98.469,
                        "count": 0
                      },
                      {
                        "bin_start": 98.469,
                        "bin_end": 98.476,
                        "count": 3
                      },
                      {
                        "bin_start": 98.476,
                        "bin_end": 98.48299999999999,
                        "count": 2
                      },
                      {
                        "bin_start": 98.48299999999999,
                        "bin_end": 98.49,
                        "count": 1
                      }
                    ]
                  }
                },
                {
                  "name": "pressure",
                  "dtype": "float64",
                  "stats": {
                    "unique_count": 6,
                    "nan_count": 0,
                    "min": "1011.51",
                    "max": "1011.58",
                    "histogram": [
                      {
                        "bin_start": 1011.51,
                        "bin_end": 1011.517,
                        "count": 1
                      },
                      {
                        "bin_start": 1011.517,
                        "bin_end": 1011.524,
                        "count": 2
                      },
                      {
                        "bin_start": 1011.524,
                        "bin_end": 1011.531,
                        "count": 0
                      },
                      {
                        "bin_start": 1011.531,
                        "bin_end": 1011.538,
                        "count": 0
                      },
                      {
                        "bin_start": 1011.538,
                        "bin_end": 1011.5450000000001,
                        "count": 3
                      },
                      {
                        "bin_start": 1011.5450000000001,
                        "bin_end": 1011.552,
                        "count": 0
                      },
                      {
                        "bin_start": 1011.552,
                        "bin_end": 1011.559,
                        "count": 0
                      },
                      {
                        "bin_start": 1011.559,
                        "bin_end": 1011.566,
                        "count": 2
                      },
                      {
                        "bin_start": 1011.566,
                        "bin_end": 1011.5730000000001,
                        "count": 1
                      },
                      {
                        "bin_start": 1011.5730000000001,
                        "bin_end": 1011.58,
                        "count": 1
                      }
                    ]
                  }
                },
                {
                  "name": "temperature",
                  "dtype": "float64",
                  "stats": {
                    "unique_count": 5,
                    "nan_count": 0,
                    "min": "25.04",
                    "max": "25.09",
                    "histogram": [
                      {
                        "bin_start": 25.04,
                        "bin_end": 25.044999999999998,
                        "count": 1
                      },
                      {
                        "bin_start": 25.044999999999998,
                        "bin_end": 25.05,
                        "count": 0
                      },
                      {
                        "bin_start": 25.05,
                        "bin_end": 25.055,
                        "count": 3
                      },
                      {
                        "bin_start": 25.055,
                        "bin_end": 25.06,
                        "count": 0
                      },
                      {
                        "bin_start": 25.06,
                        "bin_end": 25.064999999999998,
                        "count": 1
                      },
                      {
                        "bin_start": 25.064999999999998,
                        "bin_end": 25.07,
                        "count": 0
                      },
                      {
                        "bin_start": 25.07,
                        "bin_end": 25.075,
                        "count": 0
                      },
                      {
                        "bin_start": 25.075,
                        "bin_end": 25.08,
                        "count": 0
                      },
                      {
                        "bin_start": 25.08,
                        "bin_end": 25.085,
                        "count": 1
                      },
                      {
                        "bin_start": 25.085,
                        "bin_end": 25.09,
                        "count": 4
                      }
                    ]
                  }
                },
                {
                  "name": "timestamp",
                  "dtype": "object",
                  "stats": {
                    "unique_count": 10,
                    "nan_count": 0,
                    "categories": [
                      {
                        "name": "1731000619",
                        "count": 1
                      },
                      {
                        "name": "1731000678",
                        "count": 1
                      },
                      {
                        "name": "8 others",
                        "count": 8
                      }
                    ]
                  }
                },
                {
                  "name": "volt",
                  "dtype": "float64",
                  "stats": {
                    "unique_count": 1,
                    "nan_count": 0,
                    "min": "4.05",
                    "max": "4.05",
                    "histogram": [
                      {
                        "bin_start": 3.55,
                        "bin_end": 3.65,
                        "count": 0
                      },
                      {
                        "bin_start": 3.65,
                        "bin_end": 3.75,
                        "count": 0
                      },
                      {
                        "bin_start": 3.75,
                        "bin_end": 3.8499999999999996,
                        "count": 0
                      },
                      {
                        "bin_start": 3.8499999999999996,
                        "bin_end": 3.9499999999999997,
                        "count": 0
                      },
                      {
                        "bin_start": 3.9499999999999997,
                        "bin_end": 4.05,
                        "count": 0
                      },
                      {
                        "bin_start": 4.05,
                        "bin_end": 4.15,
                        "count": 10
                      },
                      {
                        "bin_start": 4.15,
                        "bin_end": 4.25,
                        "count": 0
                      },
                      {
                        "bin_start": 4.25,
                        "bin_end": 4.35,
                        "count": 0
                      },
                      {
                        "bin_start": 4.35,
                        "bin_end": 4.45,
                        "count": 0
                      },
                      {
                        "bin_start": 4.45,
                        "bin_end": 4.55,
                        "count": 0
                      }
                    ]
                  }
                },
                {
                  "name": "humi",
                  "dtype": "float64",
                  "stats": {
                    "unique_count": 0,
                    "nan_count": 10,
                    "min": null,
                    "max": null,
                    "histogram": [
                      {
                        "bin_start": 0,
                        "bin_end": 0.1,
                        "count": 0
                      },
                      {
                        "bin_start": 0.1,
                        "bin_end": 0.2,
                        "count": 0
                      },
                      {
                        "bin_start": 0.2,
                        "bin_end": 0.30000000000000004,
                        "count": 0
                      },
                      {
                        "bin_start": 0.30000000000000004,
                        "bin_end": 0.4,
                        "count": 0
                      },
                      {
                        "bin_start": 0.4,
                        "bin_end": 0.5,
                        "count": 0
                      },
                      {
                        "bin_start": 0.5,
                        "bin_end": 0.6000000000000001,
                        "count": 0
                      },
                      {
                        "bin_start": 0.6000000000000001,
                        "bin_end": 0.7000000000000001,
                        "count": 0
                      },
                      {
                        "bin_start": 0.7000000000000001,
                        "bin_end": 0.8,
                        "count": 0
                      },
                      {
                        "bin_start": 0.8,
                        "bin_end": 0.9,
                        "count": 0
                      },
                      {
                        "bin_start": 0.9,
                        "bin_end": 1,
                        "count": 0
                      }
                    ]
                  }
                },
                {
                  "name": "pres",
                  "dtype": "float64",
                  "stats": {
                    "unique_count": 0,
                    "nan_count": 10,
                    "min": null,
                    "max": null,
                    "histogram": [
                      {
                        "bin_start": 0,
                        "bin_end": 0.1,
                        "count": 0
                      },
                      {
                        "bin_start": 0.1,
                        "bin_end": 0.2,
                        "count": 0
                      },
                      {
                        "bin_start": 0.2,
                        "bin_end": 0.30000000000000004,
                        "count": 0
                      },
                      {
                        "bin_start": 0.30000000000000004,
                        "bin_end": 0.4,
                        "count": 0
                      },
                      {
                        "bin_start": 0.4,
                        "bin_end": 0.5,
                        "count": 0
                      },
                      {
                        "bin_start": 0.5,
                        "bin_end": 0.6000000000000001,
                        "count": 0
                      },
                      {
                        "bin_start": 0.6000000000000001,
                        "bin_end": 0.7000000000000001,
                        "count": 0
                      },
                      {
                        "bin_start": 0.7000000000000001,
                        "bin_end": 0.8,
                        "count": 0
                      },
                      {
                        "bin_start": 0.8,
                        "bin_end": 0.9,
                        "count": 0
                      },
                      {
                        "bin_start": 0.9,
                        "bin_end": 1,
                        "count": 0
                      }
                    ]
                  }
                },
                {
                  "name": "temp",
                  "dtype": "float64",
                  "stats": {
                    "unique_count": 0,
                    "nan_count": 10,
                    "min": null,
                    "max": null,
                    "histogram": [
                      {
                        "bin_start": 0,
                        "bin_end": 0.1,
                        "count": 0
                      },
                      {
                        "bin_start": 0.1,
                        "bin_end": 0.2,
                        "count": 0
                      },
                      {
                        "bin_start": 0.2,
                        "bin_end": 0.30000000000000004,
                        "count": 0
                      },
                      {
                        "bin_start": 0.30000000000000004,
                        "bin_end": 0.4,
                        "count": 0
                      },
                      {
                        "bin_start": 0.4,
                        "bin_end": 0.5,
                        "count": 0
                      },
                      {
                        "bin_start": 0.5,
                        "bin_end": 0.6000000000000001,
                        "count": 0
                      },
                      {
                        "bin_start": 0.6000000000000001,
                        "bin_end": 0.7000000000000001,
                        "count": 0
                      },
                      {
                        "bin_start": 0.7000000000000001,
                        "bin_end": 0.8,
                        "count": 0
                      },
                      {
                        "bin_start": 0.8,
                        "bin_end": 0.9,
                        "count": 0
                      },
                      {
                        "bin_start": 0.9,
                        "bin_end": 1,
                        "count": 0
                      }
                    ]
                  }
                },
                {
                  "name": "_deepnote_index_column",
                  "dtype": "object"
                }
              ],
              "rows": [
                {
                  "dew": 24.83318,
                  "humidity": 98.48,
                  "pressure": 1011.58,
                  "temperature": 25.09,
                  "timestamp": "1731000619",
                  "volt": 4.05,
                  "humi": "nan",
                  "pres": "nan",
                  "temp": "nan",
                  "_deepnote_index_column": "1731000619"
                },
                {
                  "dew": 24.83488,
                  "humidity": 98.49,
                  "pressure": 1011.57,
                  "temperature": 25.09,
                  "timestamp": "1731000678",
                  "volt": 4.05,
                  "humi": "nan",
                  "pres": "nan",
                  "temp": "nan",
                  "_deepnote_index_column": "1731000678"
                },
                {
                  "dew": 24.83318,
                  "humidity": 98.48,
                  "pressure": 1011.56,
                  "temperature": 25.09,
                  "timestamp": "1731000739",
                  "volt": 4.05,
                  "humi": "nan",
                  "pres": "nan",
                  "temp": "nan",
                  "_deepnote_index_column": "1731000739"
                },
                {
                  "dew": 24.83148,
                  "humidity": 98.47,
                  "pressure": 1011.51,
                  "temperature": 25.09,
                  "timestamp": "1731000798",
                  "volt": 4.05,
                  "humi": "nan",
                  "pres": "nan",
                  "temp": "nan",
                  "_deepnote_index_column": "1731000798"
                },
                {
                  "dew": 24.79155,
                  "humidity": 98.47,
                  "pressure": 1011.54,
                  "temperature": 25.05,
                  "timestamp": "1731000859",
                  "volt": 4.05,
                  "humi": "nan",
                  "pres": "nan",
                  "temp": "nan",
                  "_deepnote_index_column": "1731000859"
                },
                {
                  "dew": 24.78985,
                  "humidity": 98.46,
                  "pressure": 1011.56,
                  "temperature": 25.05,
                  "timestamp": "1731000918",
                  "volt": 4.05,
                  "humi": "nan",
                  "pres": "nan",
                  "temp": "nan",
                  "_deepnote_index_column": "1731000918"
                },
                {
                  "dew": 24.81979,
                  "humidity": 98.46,
                  "pressure": 1011.52,
                  "temperature": 25.08,
                  "timestamp": "1731000979",
                  "volt": 4.05,
                  "humi": "nan",
                  "pres": "nan",
                  "temp": "nan",
                  "_deepnote_index_column": "1731000979"
                },
                {
                  "dew": 24.80153,
                  "humidity": 98.47,
                  "pressure": 1011.54,
                  "temperature": 25.06,
                  "timestamp": "1731001039",
                  "volt": 4.05,
                  "humi": "nan",
                  "pres": "nan",
                  "temp": "nan",
                  "_deepnote_index_column": "1731001039"
                },
                {
                  "dew": 24.77647,
                  "humidity": 98.44,
                  "pressure": 1011.52,
                  "temperature": 25.04,
                  "timestamp": "1731001098",
                  "volt": 4.05,
                  "humi": "nan",
                  "pres": "nan",
                  "temp": "nan",
                  "_deepnote_index_column": "1731001098"
                },
                {
                  "dew": 24.78305,
                  "humidity": 98.42,
                  "pressure": 1011.54,
                  "temperature": 25.05,
                  "timestamp": "1731001159",
                  "volt": 4.05,
                  "humi": "nan",
                  "pres": "nan",
                  "temp": "nan",
                  "_deepnote_index_column": "1731001159"
                }
              ]
            },
            "text/plain": "                 dew  humidity  pressure  temperature   timestamp  volt  humi  \\\n1731000619  24.83318     98.48   1011.58        25.09  1731000619  4.05   NaN   \n1731000678  24.83488     98.49   1011.57        25.09  1731000678  4.05   NaN   \n1731000739  24.83318     98.48   1011.56        25.09  1731000739  4.05   NaN   \n1731000798  24.83148     98.47   1011.51        25.09  1731000798  4.05   NaN   \n1731000859  24.79155     98.47   1011.54        25.05  1731000859  4.05   NaN   \n1731000918  24.78985     98.46   1011.56        25.05  1731000918  4.05   NaN   \n1731000979  24.81979     98.46   1011.52        25.08  1731000979  4.05   NaN   \n1731001039  24.80153     98.47   1011.54        25.06  1731001039  4.05   NaN   \n1731001098  24.77647     98.44   1011.52        25.04  1731001098  4.05   NaN   \n1731001159  24.78305     98.42   1011.54        25.05  1731001159  4.05   NaN   \n\n            pres  temp  \n1731000619   NaN   NaN  \n1731000678   NaN   NaN  \n1731000739   NaN   NaN  \n1731000798   NaN   NaN  \n1731000859   NaN   NaN  \n1731000918   NaN   NaN  \n1731000979   NaN   NaN  \n1731001039   NaN   NaN  \n1731001098   NaN   NaN  \n1731001159   NaN   NaN  ",
            "text/html": "<div>\n<style scoped>\n    .dataframe tbody tr th:only-of-type {\n        vertical-align: middle;\n    }\n\n    .dataframe tbody tr th {\n        vertical-align: top;\n    }\n\n    .dataframe thead th {\n        text-align: right;\n    }\n</style>\n<table border=\"1\" class=\"dataframe\">\n  <thead>\n    <tr style=\"text-align: right;\">\n      <th></th>\n      <th>dew</th>\n      <th>humidity</th>\n      <th>pressure</th>\n      <th>temperature</th>\n      <th>timestamp</th>\n      <th>volt</th>\n      <th>humi</th>\n      <th>pres</th>\n      <th>temp</th>\n    </tr>\n  </thead>\n  <tbody>\n    <tr>\n      <th>1731000619</th>\n      <td>24.83318</td>\n      <td>98.48</td>\n      <td>1011.58</td>\n      <td>25.09</td>\n      <td>1731000619</td>\n      <td>4.05</td>\n      <td>NaN</td>\n      <td>NaN</td>\n      <td>NaN</td>\n    </tr>\n    <tr>\n      <th>1731000678</th>\n      <td>24.83488</td>\n      <td>98.49</td>\n      <td>1011.57</td>\n      <td>25.09</td>\n      <td>1731000678</td>\n      <td>4.05</td>\n      <td>NaN</td>\n      <td>NaN</td>\n      <td>NaN</td>\n    </tr>\n    <tr>\n      <th>1731000739</th>\n      <td>24.83318</td>\n      <td>98.48</td>\n      <td>1011.56</td>\n      <td>25.09</td>\n      <td>1731000739</td>\n      <td>4.05</td>\n      <td>NaN</td>\n      <td>NaN</td>\n      <td>NaN</td>\n    </tr>\n    <tr>\n      <th>1731000798</th>\n      <td>24.83148</td>\n      <td>98.47</td>\n      <td>1011.51</td>\n      <td>25.09</td>\n      <td>1731000798</td>\n      <td>4.05</td>\n      <td>NaN</td>\n      <td>NaN</td>\n      <td>NaN</td>\n    </tr>\n    <tr>\n      <th>1731000859</th>\n      <td>24.79155</td>\n      <td>98.47</td>\n      <td>1011.54</td>\n      <td>25.05</td>\n      <td>1731000859</td>\n      <td>4.05</td>\n      <td>NaN</td>\n      <td>NaN</td>\n      <td>NaN</td>\n    </tr>\n    <tr>\n      <th>1731000918</th>\n      <td>24.78985</td>\n      <td>98.46</td>\n      <td>1011.56</td>\n      <td>25.05</td>\n      <td>1731000918</td>\n      <td>4.05</td>\n      <td>NaN</td>\n      <td>NaN</td>\n      <td>NaN</td>\n    </tr>\n    <tr>\n      <th>1731000979</th>\n      <td>24.81979</td>\n      <td>98.46</td>\n      <td>1011.52</td>\n      <td>25.08</td>\n      <td>1731000979</td>\n      <td>4.05</td>\n      <td>NaN</td>\n      <td>NaN</td>\n      <td>NaN</td>\n    </tr>\n    <tr>\n      <th>1731001039</th>\n      <td>24.80153</td>\n      <td>98.47</td>\n      <td>1011.54</td>\n      <td>25.06</td>\n      <td>1731001039</td>\n      <td>4.05</td>\n      <td>NaN</td>\n      <td>NaN</td>\n      <td>NaN</td>\n    </tr>\n    <tr>\n      <th>1731001098</th>\n      <td>24.77647</td>\n      <td>98.44</td>\n      <td>1011.52</td>\n      <td>25.04</td>\n      <td>1731001098</td>\n      <td>4.05</td>\n      <td>NaN</td>\n      <td>NaN</td>\n      <td>NaN</td>\n    </tr>\n    <tr>\n      <th>1731001159</th>\n      <td>24.78305</td>\n      <td>98.42</td>\n      <td>1011.54</td>\n      <td>25.05</td>\n      <td>1731001159</td>\n      <td>4.05</td>\n      <td>NaN</td>\n      <td>NaN</td>\n      <td>NaN</td>\n    </tr>\n  </tbody>\n</table>\n</div>"
          },
          "metadata": {}
        }
      ],
      "outputs_reference": null,
      "execution_count": 4,
      "block_group": "2a0de005cd1544ffb1bdee4bc31db732",
      "content_dependencies": null
    },
    {
      "cell_type": "code",
      "source": "# Tentukan rentang waktu (timestamp dalam Unix Time)\nstart_timestamp = 1734028706  # Contoh: 11 Desember 2023 00:00:00\nend_timestamp =   1734053906    # Contoh: 11 Desember 2023 23:59:59\n\n# Filter data berdasarkan rentang waktu dengan validasi kunci\nfiltered_data = {\n    key: value\n    for key, value in source_data.items()\n    if key.isdigit() and start_timestamp <= int(key) <= end_timestamp\n}\n",
      "metadata": {
        "source_hash": "8459840",
        "execution_start": 1734054001089,
        "execution_millis": 0,
        "execution_context_id": "4debbede-f20d-4f32-bd58-65daab48bf53",
        "cell_id": "eaad0c201d554ec486b131c76644db22",
        "deepnote_cell_type": "code"
      },
      "outputs": [],
      "outputs_reference": null,
      "execution_count": 5,
      "block_group": "37bb43fdec5e457a89677cfde75dd17b",
      "content_dependencies": null
    },
    {
      "cell_type": "code",
      "source": "# Konfigurasi database tujuan\ndest_cred = credentials.Certificate(\"/work/staklimjerukagung-firebase-admin.json\")\ndest_app = firebase_admin.initialize_app(dest_cred, {\n    'databaseURL': 'https://staklimjerukagung-default-rtdb.asia-southeast1.firebasedatabase.app/'\n}, name='destination')",
      "metadata": {
        "source_hash": "10beb08b",
        "execution_start": 1734054001135,
        "execution_millis": 308,
        "execution_context_id": "85680f5e-0c28-4ee6-bb6b-ad98a8dce467",
        "cell_id": "c64acd6dd5e74c6a85c3999de8975d6a",
        "deepnote_cell_type": "code"
      },
      "outputs": [],
      "outputs_reference": null,
      "execution_count": 6,
      "block_group": "ae108d4e0b28499fb0cc09673296d950",
      "content_dependencies": null
    },
    {
      "cell_type": "code",
      "source": "# Referensi ke data tujuan\ndest_ref = db.reference('/auto_weather_stat/id-03/data', app=dest_app)",
      "metadata": {
        "source_hash": "abd6cfd",
        "execution_start": 1734054001491,
        "execution_millis": 0,
        "execution_context_id": "4debbede-f20d-4f32-bd58-65daab48bf53",
        "cell_id": "c6363488561240b6aab9fba034859134",
        "deepnote_cell_type": "code"
      },
      "outputs": [],
      "outputs_reference": null,
      "execution_count": 7,
      "block_group": "17a8f4aaef4f40008d4ba3a9ca867646",
      "content_dependencies": null
    },
    {
      "cell_type": "code",
      "source": "# Memindahkan data yang telah difilter ke database tujuan\nif filtered_data:\n    dest_ref.update(filtered_data)\n    print(\"Data berhasil dipindahkan ke /auto_weather_stat/id-03 di database tujuan.\")\nelse:\n    print(\"Tidak ada data dalam rentang waktu yang ditentukan.\")",
      "metadata": {
        "source_hash": "ac55fc9b",
        "execution_start": 1734054001539,
        "execution_millis": 963,
        "execution_context_id": "85680f5e-0c28-4ee6-bb6b-ad98a8dce467",
        "cell_id": "01e1ca64957145bf8d711255e0f39988",
        "deepnote_cell_type": "code"
      },
      "outputs": [
        {
          "name": "stdout",
          "text": "Data berhasil dipindahkan ke /auto_weather_stat/id-03 di database tujuan.\n",
          "output_type": "stream"
        }
      ],
      "outputs_reference": null,
      "execution_count": 8,
      "block_group": "eb1b0789c6ac44a3bac4454659a0409a",
      "content_dependencies": null
    },
    {
      "cell_type": "markdown",
      "source": "<a style='text-decoration:none;line-height:16px;display:flex;color:#5B5B62;padding:10px;justify-content:end;' href='https://deepnote.com?utm_source=created-in-deepnote-cell&projectId=200afad5-8991-4e20-8a55-8751c7aff3b5' target=\"_blank\">\n<img alt='Created in deepnote.com' style='display:inline;max-height:16px;margin:0px;margin-right:7.5px;' src='data:image/svg+xml;base64,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' > </img>\nCreated in <span style='font-weight:600;margin-left:4px;'>Deepnote</span></a>",
      "metadata": {
        "created_in_deepnote_cell": true,
        "deepnote_cell_type": "markdown"
      }
    }
  ],
  "nbformat": 4,
  "nbformat_minor": 0,
  "metadata": {
    "deepnote_notebook_id": "6fb4bd078c5f4d19930805c5d4bdafc2"
  }
}