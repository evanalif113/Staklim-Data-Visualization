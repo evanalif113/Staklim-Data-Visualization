{
  "cells": [
    {
      "cell_type": "code",
      "source": "from datetime import datetime\nimport matplotlib.pyplot as plt\nfrom meteostat import Stations, Daily, Hourly",
      "metadata": {
        "source_hash": "3e685933",
        "execution_start": 1735987845538,
        "execution_millis": 393,
        "execution_context_id": "b0a32431-7a92-487c-a50a-025b3ffa124b",
        "cell_id": "b3d7d7cdc5414391ad9c226ff1b04fc9",
        "deepnote_cell_type": "code"
      },
      "outputs": [],
      "outputs_reference": null,
      "execution_count": 1,
      "block_group": "b3d7d7cdc5414391ad9c226ff1b04fc9",
      "content_dependencies": null
    },
    {
      "cell_type": "code",
      "source": "# Set time period\nstart = datetime(2014, 1, 1)\nend = datetime(2024, 12, 31)",
      "metadata": {
        "source_hash": "3a13e973",
        "execution_start": 1735987845978,
        "execution_millis": 1,
        "execution_context_id": "c9f404e7-dc73-42d6-94ce-ee26c6a47b46",
        "cell_id": "1ae5272e7b514837a1bee7af24b5122c",
        "deepnote_cell_type": "code"
      },
      "outputs": [],
      "outputs_reference": null,
      "execution_count": 2,
      "block_group": "731bdf1aa94a48d298478480f5b03ccf",
      "content_dependencies": null
    },
    {
      "cell_type": "code",
      "source": "# Get daily data\ndata = Hourly('96839', start, end)\ndata = data.fetch()",
      "metadata": {
        "source_hash": "fcf53bb",
        "execution_start": 1735987846031,
        "execution_millis": 4862,
        "execution_context_id": "b0a32431-7a92-487c-a50a-025b3ffa124b",
        "cell_id": "9a02e629c6bf4da6bd1a3f78d285e00e",
        "deepnote_cell_type": "code"
      },
      "outputs": [],
      "outputs_reference": null,
      "execution_count": 3,
      "block_group": "806b7fb4e16e41488a0976beefa7158a",
      "content_dependencies": null
    },
    {
      "cell_type": "code",
      "source": "data",
      "metadata": {
        "source_hash": "6dc26197",
        "execution_start": 1735987906707,
        "execution_millis": 0,
        "deepnote_table_state": {
          "sortBy": [],
          "filters": [],
          "pageSize": 100,
          "pageIndex": 0,
          "columnOrder": [
            "temp",
            "dwpt",
            "rhum",
            "prcp",
            "snow",
            "wdir",
            "wspd",
            "wpgt",
            "pres",
            "tsun",
            "coco"
          ],
          "hiddenColumnIds": [],
          "columnDisplayNames": [],
          "conditionalFilters": [],
          "cellFormattingRules": [],
          "wrappedTextColumnIds": []
        },
        "execution_context_id": "b0a32431-7a92-487c-a50a-025b3ffa124b",
        "deepnote_table_loading": false,
        "cell_id": "0f084dc7d1394d5c9c89e92648e76e61",
        "deepnote_cell_type": "code"
      },
      "outputs": [
        {
          "output_type": "execute_result",
          "execution_count": 11,
          "data": {
            "application/vnd.deepnote.dataframe.v3+json": {
              "column_count": 11,
              "row_count": 75482,
              "columns": [
                {
                  "name": "temp",
                  "dtype": "float64",
                  "stats": {
                    "unique_count": 178,
                    "nan_count": 53,
                    "min": "13.3",
                    "max": "39.0",
                    "histogram": [
                      {
                        "bin_start": 13.3,
                        "bin_end": 15.870000000000001,
                        "count": 1
                      },
                      {
                        "bin_start": 15.870000000000001,
                        "bin_end": 18.44,
                        "count": 2
                      },
                      {
                        "bin_start": 18.44,
                        "bin_end": 21.009999999999998,
                        "count": 41
                      },
                      {
                        "bin_start": 21.009999999999998,
                        "bin_end": 23.58,
                        "count": 726
                      },
                      {
                        "bin_start": 23.58,
                        "bin_end": 26.15,
                        "count": 19174
                      },
                      {
                        "bin_start": 26.15,
                        "bin_end": 28.72,
                        "count": 20500
                      },
                      {
                        "bin_start": 28.72,
                        "bin_end": 31.29,
                        "count": 23021
                      },
                      {
                        "bin_start": 31.29,
                        "bin_end": 33.86,
                        "count": 9924
                      },
                      {
                        "bin_start": 33.86,
                        "bin_end": 36.43,
                        "count": 1979
                      },
                      {
                        "bin_start": 36.43,
                        "bin_end": 39,
                        "count": 61
                      }
                    ]
                  }
                },
                {
                  "name": "dwpt",
                  "dtype": "float64"
                },
                {
                  "name": "rhum",
                  "dtype": "float64"
                },
                {
                  "name": "prcp",
                  "dtype": "float64"
                },
                {
                  "name": "snow",
                  "dtype": "float64"
                },
                {
                  "name": "wdir",
                  "dtype": "float64"
                },
                {
                  "name": "wspd",
                  "dtype": "float64"
                },
                {
                  "name": "wpgt",
                  "dtype": "float64"
                },
                {
                  "name": "pres",
                  "dtype": "float64"
                },
                {
                  "name": "tsun",
                  "dtype": "float64"
                },
                {
                  "name": "coco",
                  "dtype": "float64"
                },
                {
                  "name": "_deepnote_index_column",
                  "dtype": "datetime64[ns]"
                }
              ],
              "rows": [
                {
                  "temp": 25,
                  "dwpt": 24.1,
                  "rhum": 95,
                  "prcp": "nan",
                  "snow": "nan",
                  "wdir": 360,
                  "wspd": 0,
                  "wpgt": "nan",
                  "pres": 1011.9,
                  "tsun": "nan",
                  "coco": "nan",
                  "_deepnote_index_column": "2014-01-01 00:00:00"
                },
                {
                  "temp": 25,
                  "dwpt": 24,
                  "rhum": 94,
                  "prcp": "nan",
                  "snow": "nan",
                  "wdir": "nan",
                  "wspd": 0,
                  "wpgt": "nan",
                  "pres": "nan",
                  "tsun": "nan",
                  "coco": "nan",
                  "_deepnote_index_column": "2014-01-01 01:00:00"
                },
                {
                  "temp": 25,
                  "dwpt": 24,
                  "rhum": 94,
                  "prcp": "nan",
                  "snow": "nan",
                  "wdir": 280,
                  "wspd": 3.6,
                  "wpgt": "nan",
                  "pres": "nan",
                  "tsun": "nan",
                  "coco": "nan",
                  "_deepnote_index_column": "2014-01-01 02:00:00"
                },
                {
                  "temp": 25.2,
                  "dwpt": 24,
                  "rhum": 93,
                  "prcp": "nan",
                  "snow": "nan",
                  "wdir": 300,
                  "wspd": 9.4,
                  "wpgt": "nan",
                  "pres": 1013.2,
                  "tsun": "nan",
                  "coco": "nan",
                  "_deepnote_index_column": "2014-01-01 03:00:00"
                },
                {
                  "temp": 25,
                  "dwpt": 24,
                  "rhum": 94,
                  "prcp": "nan",
                  "snow": "nan",
                  "wdir": 300,
                  "wspd": 24.1,
                  "wpgt": "nan",
                  "pres": "nan",
                  "tsun": "nan",
                  "coco": "nan",
                  "_deepnote_index_column": "2014-01-01 04:00:00"
                },
                {
                  "temp": 25,
                  "dwpt": 24,
                  "rhum": 94,
                  "prcp": "nan",
                  "snow": "nan",
                  "wdir": 240,
                  "wspd": 7.6,
                  "wpgt": "nan",
                  "pres": "nan",
                  "tsun": "nan",
                  "coco": "nan",
                  "_deepnote_index_column": "2014-01-01 05:00:00"
                },
                {
                  "temp": 24.8,
                  "dwpt": 23.8,
                  "rhum": 94,
                  "prcp": "nan",
                  "snow": "nan",
                  "wdir": 260,
                  "wspd": 7.6,
                  "wpgt": "nan",
                  "pres": 1011.3,
                  "tsun": "nan",
                  "coco": "nan",
                  "_deepnote_index_column": "2014-01-01 06:00:00"
                },
                {
                  "temp": 28,
                  "dwpt": 24,
                  "rhum": 79,
                  "prcp": "nan",
                  "snow": "nan",
                  "wdir": 270,
                  "wspd": 13,
                  "wpgt": "nan",
                  "pres": "nan",
                  "tsun": "nan",
                  "coco": "nan",
                  "_deepnote_index_column": "2014-01-01 07:00:00"
                },
                {
                  "temp": 28,
                  "dwpt": 24,
                  "rhum": 79,
                  "prcp": "nan",
                  "snow": "nan",
                  "wdir": 270,
                  "wspd": 13,
                  "wpgt": "nan",
                  "pres": "nan",
                  "tsun": "nan",
                  "coco": "nan",
                  "_deepnote_index_column": "2014-01-01 08:00:00"
                },
                {
                  "temp": 28.1,
                  "dwpt": 23.5,
                  "rhum": 76,
                  "prcp": "nan",
                  "snow": "nan",
                  "wdir": 260,
                  "wspd": 11.2,
                  "wpgt": "nan",
                  "pres": 1008.9,
                  "tsun": "nan",
                  "coco": "nan",
                  "_deepnote_index_column": "2014-01-01 09:00:00"
                },
                {
                  "temp": 28,
                  "dwpt": 24,
                  "rhum": 79,
                  "prcp": "nan",
                  "snow": "nan",
                  "wdir": 260,
                  "wspd": 9.4,
                  "wpgt": "nan",
                  "pres": "nan",
                  "tsun": "nan",
                  "coco": "nan",
                  "_deepnote_index_column": "2014-01-01 10:00:00"
                },
                {
                  "temp": 27,
                  "dwpt": 24.1,
                  "rhum": 84,
                  "prcp": "nan",
                  "snow": "nan",
                  "wdir": 260,
                  "wspd": 3.6,
                  "wpgt": "nan",
                  "pres": "nan",
                  "tsun": "nan",
                  "coco": "nan",
                  "_deepnote_index_column": "2014-01-01 11:00:00"
                },
                {
                  "temp": 26.8,
                  "dwpt": 24.6,
                  "rhum": 88,
                  "prcp": "nan",
                  "snow": "nan",
                  "wdir": 240,
                  "wspd": 3.6,
                  "wpgt": "nan",
                  "pres": 1010.9,
                  "tsun": "nan",
                  "coco": "nan",
                  "_deepnote_index_column": "2014-01-01 12:00:00"
                },
                {
                  "temp": 26.4,
                  "dwpt": 24.4,
                  "rhum": 89,
                  "prcp": "nan",
                  "snow": "nan",
                  "wdir": 230,
                  "wspd": 5.4,
                  "wpgt": "nan",
                  "pres": 1011.5,
                  "tsun": "nan",
                  "coco": "nan",
                  "_deepnote_index_column": "2014-01-01 15:00:00"
                },
                {
                  "temp": 25,
                  "dwpt": 23.8,
                  "rhum": 93,
                  "prcp": "nan",
                  "snow": "nan",
                  "wdir": 150,
                  "wspd": 3.6,
                  "wpgt": "nan",
                  "pres": 1010.2,
                  "tsun": "nan",
                  "coco": "nan",
                  "_deepnote_index_column": "2014-01-01 18:00:00"
                },
                {
                  "temp": 24.6,
                  "dwpt": 23.4,
                  "rhum": 93,
                  "prcp": "nan",
                  "snow": "nan",
                  "wdir": 360,
                  "wspd": 0,
                  "wpgt": "nan",
                  "pres": 1009.9,
                  "tsun": "nan",
                  "coco": "nan",
                  "_deepnote_index_column": "2014-01-01 21:00:00"
                },
                {
                  "temp": 26,
                  "dwpt": 23.7,
                  "rhum": 87,
                  "prcp": "nan",
                  "snow": "nan",
                  "wdir": 90,
                  "wspd": 3.6,
                  "wpgt": "nan",
                  "pres": 1011.7,
                  "tsun": "nan",
                  "coco": "nan",
                  "_deepnote_index_column": "2014-01-02 00:00:00"
                },
                {
                  "temp": 28,
                  "dwpt": 24,
                  "rhum": 79,
                  "prcp": "nan",
                  "snow": "nan",
                  "wdir": 140,
                  "wspd": 3.6,
                  "wpgt": "nan",
                  "pres": "nan",
                  "tsun": "nan",
                  "coco": "nan",
                  "_deepnote_index_column": "2014-01-02 01:00:00"
                },
                {
                  "temp": 29,
                  "dwpt": 23,
                  "rhum": 70,
                  "prcp": "nan",
                  "snow": "nan",
                  "wdir": 330,
                  "wspd": 9.4,
                  "wpgt": "nan",
                  "pres": "nan",
                  "tsun": "nan",
                  "coco": "nan",
                  "_deepnote_index_column": "2014-01-02 02:00:00"
                },
                {
                  "temp": 29.4,
                  "dwpt": 23.6,
                  "rhum": 71,
                  "prcp": "nan",
                  "snow": "nan",
                  "wdir": 320,
                  "wspd": 11.2,
                  "wpgt": "nan",
                  "pres": 1011.7,
                  "tsun": "nan",
                  "coco": "nan",
                  "_deepnote_index_column": "2014-01-02 03:00:00"
                },
                {
                  "temp": 30,
                  "dwpt": 23.9,
                  "rhum": 70,
                  "prcp": "nan",
                  "snow": "nan",
                  "wdir": 340,
                  "wspd": 14.8,
                  "wpgt": "nan",
                  "pres": "nan",
                  "tsun": "nan",
                  "coco": "nan",
                  "_deepnote_index_column": "2014-01-02 04:00:00"
                },
                {
                  "temp": 31,
                  "dwpt": 23.9,
                  "rhum": 66,
                  "prcp": "nan",
                  "snow": "nan",
                  "wdir": 320,
                  "wspd": 24.1,
                  "wpgt": "nan",
                  "pres": "nan",
                  "tsun": "nan",
                  "coco": "nan",
                  "_deepnote_index_column": "2014-01-02 05:00:00"
                },
                {
                  "temp": 30.2,
                  "dwpt": 24.8,
                  "rhum": 73,
                  "prcp": "nan",
                  "snow": "nan",
                  "wdir": 330,
                  "wspd": 25.9,
                  "wpgt": "nan",
                  "pres": 1009.6,
                  "tsun": "nan",
                  "coco": "nan",
                  "_deepnote_index_column": "2014-01-02 06:00:00"
                },
                {
                  "temp": 28,
                  "dwpt": 26,
                  "rhum": 89,
                  "prcp": "nan",
                  "snow": "nan",
                  "wdir": 310,
                  "wspd": 14.8,
                  "wpgt": "nan",
                  "pres": "nan",
                  "tsun": "nan",
                  "coco": "nan",
                  "_deepnote_index_column": "2014-01-02 07:00:00"
                },
                {
                  "temp": 25,
                  "dwpt": 24,
                  "rhum": 94,
                  "prcp": "nan",
                  "snow": "nan",
                  "wdir": 210,
                  "wspd": 7.6,
                  "wpgt": "nan",
                  "pres": "nan",
                  "tsun": "nan",
                  "coco": "nan",
                  "_deepnote_index_column": "2014-01-02 08:00:00"
                },
                {
                  "temp": 26,
                  "dwpt": 24.4,
                  "rhum": 91,
                  "prcp": "nan",
                  "snow": "nan",
                  "wdir": 150,
                  "wspd": 5.4,
                  "wpgt": "nan",
                  "pres": 1008.4,
                  "tsun": "nan",
                  "coco": "nan",
                  "_deepnote_index_column": "2014-01-02 09:00:00"
                },
                {
                  "temp": 27,
                  "dwpt": 24.1,
                  "rhum": 84,
                  "prcp": "nan",
                  "snow": "nan",
                  "wdir": 160,
                  "wspd": 5.4,
                  "wpgt": "nan",
                  "pres": "nan",
                  "tsun": "nan",
                  "coco": "nan",
                  "_deepnote_index_column": "2014-01-02 10:00:00"
                },
                {
                  "temp": 26,
                  "dwpt": 24,
                  "rhum": 89,
                  "prcp": "nan",
                  "snow": "nan",
                  "wdir": 90,
                  "wspd": 3.6,
                  "wpgt": "nan",
                  "pres": "nan",
                  "tsun": "nan",
                  "coco": "nan",
                  "_deepnote_index_column": "2014-01-02 11:00:00"
                },
                {
                  "temp": 26.2,
                  "dwpt": 24.2,
                  "rhum": 89,
                  "prcp": "nan",
                  "snow": "nan",
                  "wdir": 360,
                  "wspd": 0,
                  "wpgt": "nan",
                  "pres": 1010.3,
                  "tsun": "nan",
                  "coco": "nan",
                  "_deepnote_index_column": "2014-01-02 12:00:00"
                },
                {
                  "temp": 26,
                  "dwpt": 24,
                  "rhum": 89,
                  "prcp": "nan",
                  "snow": "nan",
                  "wdir": 170,
                  "wspd": 3.6,
                  "wpgt": "nan",
                  "pres": "nan",
                  "tsun": "nan",
                  "coco": "nan",
                  "_deepnote_index_column": "2014-01-02 13:00:00"
                },
                {
                  "temp": 26,
                  "dwpt": 24,
                  "rhum": 89,
                  "prcp": "nan",
                  "snow": "nan",
                  "wdir": 180,
                  "wspd": 5.4,
                  "wpgt": "nan",
                  "pres": "nan",
                  "tsun": "nan",
                  "coco": "nan",
                  "_deepnote_index_column": "2014-01-02 14:00:00"
                },
                {
                  "temp": 25.8,
                  "dwpt": 24,
                  "rhum": 90,
                  "prcp": "nan",
                  "snow": "nan",
                  "wdir": 210,
                  "wspd": 1.8,
                  "wpgt": "nan",
                  "pres": 1010.7,
                  "tsun": "nan",
                  "coco": "nan",
                  "_deepnote_index_column": "2014-01-02 15:00:00"
                },
                {
                  "temp": 25.4,
                  "dwpt": 23.8,
                  "rhum": 91,
                  "prcp": "nan",
                  "snow": "nan",
                  "wdir": 150,
                  "wspd": 3.6,
                  "wpgt": "nan",
                  "pres": 1009.3,
                  "tsun": "nan",
                  "coco": "nan",
                  "_deepnote_index_column": "2014-01-02 18:00:00"
                },
                {
                  "temp": 24.8,
                  "dwpt": 23.6,
                  "rhum": 93,
                  "prcp": "nan",
                  "snow": "nan",
                  "wdir": 180,
                  "wspd": 3.6,
                  "wpgt": "nan",
                  "pres": 1009.1,
                  "tsun": "nan",
                  "coco": "nan",
                  "_deepnote_index_column": "2014-01-02 21:00:00"
                },
                {
                  "temp": 24,
                  "dwpt": 23,
                  "rhum": 94,
                  "prcp": "nan",
                  "snow": "nan",
                  "wdir": "nan",
                  "wspd": 0,
                  "wpgt": "nan",
                  "pres": "nan",
                  "tsun": "nan",
                  "coco": "nan",
                  "_deepnote_index_column": "2014-01-02 22:00:00"
                },
                {
                  "temp": 25.1,
                  "dwpt": 23.5,
                  "rhum": 91,
                  "prcp": "nan",
                  "snow": "nan",
                  "wdir": 140,
                  "wspd": 1.8,
                  "wpgt": "nan",
                  "pres": 1009.7,
                  "tsun": "nan",
                  "coco": "nan",
                  "_deepnote_index_column": "2014-01-03 00:00:00"
                },
                {
                  "temp": 27,
                  "dwpt": 24.1,
                  "rhum": 84,
                  "prcp": "nan",
                  "snow": "nan",
                  "wdir": 80,
                  "wspd": 5.4,
                  "wpgt": "nan",
                  "pres": "nan",
                  "tsun": "nan",
                  "coco": "nan",
                  "_deepnote_index_column": "2014-01-03 01:00:00"
                },
                {
                  "temp": 28,
                  "dwpt": 24,
                  "rhum": 79,
                  "prcp": "nan",
                  "snow": "nan",
                  "wdir": 60,
                  "wspd": 3.6,
                  "wpgt": "nan",
                  "pres": "nan",
                  "tsun": "nan",
                  "coco": "nan",
                  "_deepnote_index_column": "2014-01-03 02:00:00"
                },
                {
                  "temp": 29.1,
                  "dwpt": 24.7,
                  "rhum": 77,
                  "prcp": "nan",
                  "snow": "nan",
                  "wdir": 350,
                  "wspd": 3.6,
                  "wpgt": "nan",
                  "pres": 1010.6,
                  "tsun": "nan",
                  "coco": "nan",
                  "_deepnote_index_column": "2014-01-03 03:00:00"
                },
                {
                  "temp": 30,
                  "dwpt": 25.1,
                  "rhum": 75,
                  "prcp": "nan",
                  "snow": "nan",
                  "wdir": 330,
                  "wspd": 11.2,
                  "wpgt": "nan",
                  "pres": "nan",
                  "tsun": "nan",
                  "coco": "nan",
                  "_deepnote_index_column": "2014-01-03 04:00:00"
                },
                {
                  "temp": 30,
                  "dwpt": 23.9,
                  "rhum": 70,
                  "prcp": "nan",
                  "snow": "nan",
                  "wdir": 330,
                  "wspd": 14.8,
                  "wpgt": "nan",
                  "pres": "nan",
                  "tsun": "nan",
                  "coco": "nan",
                  "_deepnote_index_column": "2014-01-03 05:00:00"
                },
                {
                  "temp": 29.9,
                  "dwpt": 23.6,
                  "rhum": 69,
                  "prcp": "nan",
                  "snow": "nan",
                  "wdir": 340,
                  "wspd": 11.2,
                  "wpgt": "nan",
                  "pres": 1008.5,
                  "tsun": "nan",
                  "coco": "nan",
                  "_deepnote_index_column": "2014-01-03 06:00:00"
                },
                {
                  "temp": 30,
                  "dwpt": 23,
                  "rhum": 66,
                  "prcp": "nan",
                  "snow": "nan",
                  "wdir": 290,
                  "wspd": 14.8,
                  "wpgt": "nan",
                  "pres": "nan",
                  "tsun": "nan",
                  "coco": "nan",
                  "_deepnote_index_column": "2014-01-03 07:00:00"
                },
                {
                  "temp": 30,
                  "dwpt": 23.9,
                  "rhum": 70,
                  "prcp": "nan",
                  "snow": "nan",
                  "wdir": 310,
                  "wspd": 14.8,
                  "wpgt": "nan",
                  "pres": "nan",
                  "tsun": "nan",
                  "coco": "nan",
                  "_deepnote_index_column": "2014-01-03 08:00:00"
                },
                {
                  "temp": 29,
                  "dwpt": 24.1,
                  "rhum": 75,
                  "prcp": "nan",
                  "snow": "nan",
                  "wdir": 240,
                  "wspd": 7.6,
                  "wpgt": "nan",
                  "pres": 1006.9,
                  "tsun": "nan",
                  "coco": "nan",
                  "_deepnote_index_column": "2014-01-03 09:00:00"
                },
                {
                  "temp": 29,
                  "dwpt": 25,
                  "rhum": 79,
                  "prcp": "nan",
                  "snow": "nan",
                  "wdir": 270,
                  "wspd": 7.6,
                  "wpgt": "nan",
                  "pres": "nan",
                  "tsun": "nan",
                  "coco": "nan",
                  "_deepnote_index_column": "2014-01-03 10:00:00"
                },
                {
                  "temp": 29,
                  "dwpt": 25,
                  "rhum": 79,
                  "prcp": "nan",
                  "snow": "nan",
                  "wdir": 260,
                  "wspd": 5.4,
                  "wpgt": "nan",
                  "pres": "nan",
                  "tsun": "nan",
                  "coco": "nan",
                  "_deepnote_index_column": "2014-01-03 11:00:00"
                },
                {
                  "temp": 27,
                  "dwpt": 24.5,
                  "rhum": 86,
                  "prcp": "nan",
                  "snow": "nan",
                  "wdir": 80,
                  "wspd": 7.6,
                  "wpgt": "nan",
                  "pres": 1009.2,
                  "tsun": "nan",
                  "coco": "nan",
                  "_deepnote_index_column": "2014-01-03 12:00:00"
                },
                {
                  "temp": 25.8,
                  "dwpt": 24.2,
                  "rhum": 91,
                  "prcp": "nan",
                  "snow": "nan",
                  "wdir": 350,
                  "wspd": 7.6,
                  "wpgt": "nan",
                  "pres": 1011.2,
                  "tsun": "nan",
                  "coco": "nan",
                  "_deepnote_index_column": "2014-01-03 15:00:00"
                },
                {
                  "temp": 25,
                  "dwpt": 23.6,
                  "rhum": 92,
                  "prcp": "nan",
                  "snow": "nan",
                  "wdir": 360,
                  "wspd": 0,
                  "wpgt": "nan",
                  "pres": 1009.3,
                  "tsun": "nan",
                  "coco": "nan",
                  "_deepnote_index_column": "2014-01-03 18:00:00"
                },
                {
                  "temp": 25,
                  "dwpt": 23.8,
                  "rhum": 93,
                  "prcp": "nan",
                  "snow": "nan",
                  "wdir": 360,
                  "wspd": 0,
                  "wpgt": "nan",
                  "pres": 1009.1,
                  "tsun": "nan",
                  "coco": "nan",
                  "_deepnote_index_column": "2014-01-03 21:00:00"
                },
                {
                  "temp": 25,
                  "dwpt": 24,
                  "rhum": 94,
                  "prcp": "nan",
                  "snow": "nan",
                  "wdir": 170,
                  "wspd": 3.6,
                  "wpgt": "nan",
                  "pres": "nan",
                  "tsun": "nan",
                  "coco": "nan",
                  "_deepnote_index_column": "2014-01-03 23:00:00"
                },
                {
                  "temp": 25.5,
                  "dwpt": 24.1,
                  "rhum": 92,
                  "prcp": "nan",
                  "snow": "nan",
                  "wdir": 360,
                  "wspd": 0,
                  "wpgt": "nan",
                  "pres": 1010.1,
                  "tsun": "nan",
                  "coco": "nan",
                  "_deepnote_index_column": "2014-01-04 00:00:00"
                },
                {
                  "temp": 28,
                  "dwpt": 24,
                  "rhum": 79,
                  "prcp": "nan",
                  "snow": "nan",
                  "wdir": 250,
                  "wspd": 3.6,
                  "wpgt": "nan",
                  "pres": "nan",
                  "tsun": "nan",
                  "coco": "nan",
                  "_deepnote_index_column": "2014-01-04 01:00:00"
                },
                {
                  "temp": 28,
                  "dwpt": 25,
                  "rhum": 84,
                  "prcp": "nan",
                  "snow": "nan",
                  "wdir": 350,
                  "wspd": 11.2,
                  "wpgt": "nan",
                  "pres": "nan",
                  "tsun": "nan",
                  "coco": "nan",
                  "_deepnote_index_column": "2014-01-04 02:00:00"
                },
                {
                  "temp": 28.9,
                  "dwpt": 24.2,
                  "rhum": 76,
                  "prcp": "nan",
                  "snow": "nan",
                  "wdir": 320,
                  "wspd": 9.4,
                  "wpgt": "nan",
                  "pres": 1009.8,
                  "tsun": "nan",
                  "coco": "nan",
                  "_deepnote_index_column": "2014-01-04 03:00:00"
                },
                {
                  "temp": 30,
                  "dwpt": 25.1,
                  "rhum": 75,
                  "prcp": "nan",
                  "snow": "nan",
                  "wdir": 320,
                  "wspd": 16.6,
                  "wpgt": "nan",
                  "pres": "nan",
                  "tsun": "nan",
                  "coco": "nan",
                  "_deepnote_index_column": "2014-01-04 04:00:00"
                },
                {
                  "temp": 31,
                  "dwpt": 23.9,
                  "rhum": 66,
                  "prcp": "nan",
                  "snow": "nan",
                  "wdir": 320,
                  "wspd": 22.3,
                  "wpgt": "nan",
                  "pres": "nan",
                  "tsun": "nan",
                  "coco": "nan",
                  "_deepnote_index_column": "2014-01-04 05:00:00"
                },
                {
                  "temp": 29.8,
                  "dwpt": 24.7,
                  "rhum": 74,
                  "prcp": "nan",
                  "snow": "nan",
                  "wdir": 310,
                  "wspd": 31.3,
                  "wpgt": "nan",
                  "pres": 1007.4,
                  "tsun": "nan",
                  "coco": "nan",
                  "_deepnote_index_column": "2014-01-04 06:00:00"
                },
                {
                  "temp": 26,
                  "dwpt": 23.1,
                  "rhum": 84,
                  "prcp": "nan",
                  "snow": "nan",
                  "wdir": 190,
                  "wspd": 14.8,
                  "wpgt": "nan",
                  "pres": "nan",
                  "tsun": "nan",
                  "coco": "nan",
                  "_deepnote_index_column": "2014-01-04 07:00:00"
                },
                {
                  "temp": 26,
                  "dwpt": 23.1,
                  "rhum": 84,
                  "prcp": "nan",
                  "snow": "nan",
                  "wdir": 220,
                  "wspd": 9.4,
                  "wpgt": "nan",
                  "pres": "nan",
                  "tsun": "nan",
                  "coco": "nan",
                  "_deepnote_index_column": "2014-01-04 08:00:00"
                },
                {
                  "temp": 26,
                  "dwpt": 23.9,
                  "rhum": 88,
                  "prcp": "nan",
                  "snow": "nan",
                  "wdir": 260,
                  "wspd": 3.6,
                  "wpgt": "nan",
                  "pres": 1005.5,
                  "tsun": "nan",
                  "coco": "nan",
                  "_deepnote_index_column": "2014-01-04 09:00:00"
                },
                {
                  "temp": 27,
                  "dwpt": 23,
                  "rhum": 79,
                  "prcp": "nan",
                  "snow": "nan",
                  "wdir": 220,
                  "wspd": 5.4,
                  "wpgt": "nan",
                  "pres": "nan",
                  "tsun": "nan",
                  "coco": "nan",
                  "_deepnote_index_column": "2014-01-04 10:00:00"
                },
                {
                  "temp": 27,
                  "dwpt": 23,
                  "rhum": 79,
                  "prcp": "nan",
                  "snow": "nan",
                  "wdir": "nan",
                  "wspd": 0,
                  "wpgt": "nan",
                  "pres": "nan",
                  "tsun": "nan",
                  "coco": "nan",
                  "_deepnote_index_column": "2014-01-04 11:00:00"
                },
                {
                  "temp": 26.4,
                  "dwpt": 23.9,
                  "rhum": 86,
                  "prcp": "nan",
                  "snow": "nan",
                  "wdir": 120,
                  "wspd": 20.5,
                  "wpgt": "nan",
                  "pres": 1008.6,
                  "tsun": "nan",
                  "coco": "nan",
                  "_deepnote_index_column": "2014-01-04 12:00:00"
                },
                {
                  "temp": 26,
                  "dwpt": 24,
                  "rhum": 89,
                  "prcp": "nan",
                  "snow": "nan",
                  "wdir": 110,
                  "wspd": 9.4,
                  "wpgt": "nan",
                  "pres": "nan",
                  "tsun": "nan",
                  "coco": "nan",
                  "_deepnote_index_column": "2014-01-04 13:00:00"
                },
                {
                  "temp": 26,
                  "dwpt": 24,
                  "rhum": 89,
                  "prcp": "nan",
                  "snow": "nan",
                  "wdir": 110,
                  "wspd": 9.4,
                  "wpgt": "nan",
                  "pres": "nan",
                  "tsun": "nan",
                  "coco": "nan",
                  "_deepnote_index_column": "2014-01-04 14:00:00"
                },
                {
                  "temp": 25.9,
                  "dwpt": 23.4,
                  "rhum": 86,
                  "prcp": "nan",
                  "snow": "nan",
                  "wdir": 110,
                  "wspd": 7.6,
                  "wpgt": "nan",
                  "pres": 1009.5,
                  "tsun": "nan",
                  "coco": "nan",
                  "_deepnote_index_column": "2014-01-04 15:00:00"
                },
                {
                  "temp": 25.2,
                  "dwpt": 23.4,
                  "rhum": 90,
                  "prcp": "nan",
                  "snow": "nan",
                  "wdir": 150,
                  "wspd": 5.4,
                  "wpgt": "nan",
                  "pres": 1008,
                  "tsun": "nan",
                  "coco": "nan",
                  "_deepnote_index_column": "2014-01-04 18:00:00"
                },
                {
                  "temp": 24.7,
                  "dwpt": 23.3,
                  "rhum": 92,
                  "prcp": "nan",
                  "snow": "nan",
                  "wdir": 170,
                  "wspd": 5.4,
                  "wpgt": "nan",
                  "pres": 1007.4,
                  "tsun": "nan",
                  "coco": "nan",
                  "_deepnote_index_column": "2014-01-04 21:00:00"
                },
                {
                  "temp": 25,
                  "dwpt": 23.1,
                  "rhum": 89,
                  "prcp": "nan",
                  "snow": "nan",
                  "wdir": 140,
                  "wspd": 5.4,
                  "wpgt": "nan",
                  "pres": "nan",
                  "tsun": "nan",
                  "coco": "nan",
                  "_deepnote_index_column": "2014-01-04 22:00:00"
                },
                {
                  "temp": 25,
                  "dwpt": 23.1,
                  "rhum": 89,
                  "prcp": "nan",
                  "snow": "nan",
                  "wdir": 170,
                  "wspd": 3.6,
                  "wpgt": "nan",
                  "pres": "nan",
                  "tsun": "nan",
                  "coco": "nan",
                  "_deepnote_index_column": "2014-01-04 23:00:00"
                },
                {
                  "temp": 25.8,
                  "dwpt": 23.3,
                  "rhum": 86,
                  "prcp": "nan",
                  "snow": "nan",
                  "wdir": 200,
                  "wspd": 5.4,
                  "wpgt": "nan",
                  "pres": 1009,
                  "tsun": "nan",
                  "coco": "nan",
                  "_deepnote_index_column": "2014-01-05 00:00:00"
                },
                {
                  "temp": 28,
                  "dwpt": 22.9,
                  "rhum": 74,
                  "prcp": "nan",
                  "snow": "nan",
                  "wdir": 100,
                  "wspd": 7.6,
                  "wpgt": "nan",
                  "pres": "nan",
                  "tsun": "nan",
                  "coco": "nan",
                  "_deepnote_index_column": "2014-01-05 01:00:00"
                },
                {
                  "temp": 29,
                  "dwpt": 23.9,
                  "rhum": 74,
                  "prcp": "nan",
                  "snow": "nan",
                  "wdir": 10,
                  "wspd": 5.4,
                  "wpgt": "nan",
                  "pres": "nan",
                  "tsun": "nan",
                  "coco": "nan",
                  "_deepnote_index_column": "2014-01-05 02:00:00"
                },
                {
                  "temp": 28.8,
                  "dwpt": 23.7,
                  "rhum": 74,
                  "prcp": "nan",
                  "snow": "nan",
                  "wdir": 320,
                  "wspd": 14.8,
                  "wpgt": "nan",
                  "pres": 1008.3,
                  "tsun": "nan",
                  "coco": "nan",
                  "_deepnote_index_column": "2014-01-05 03:00:00"
                },
                {
                  "temp": 30,
                  "dwpt": 23.9,
                  "rhum": 70,
                  "prcp": "nan",
                  "snow": "nan",
                  "wdir": 320,
                  "wspd": 13,
                  "wpgt": "nan",
                  "pres": "nan",
                  "tsun": "nan",
                  "coco": "nan",
                  "_deepnote_index_column": "2014-01-05 04:00:00"
                },
                {
                  "temp": 30,
                  "dwpt": 23.9,
                  "rhum": 70,
                  "prcp": "nan",
                  "snow": "nan",
                  "wdir": 310,
                  "wspd": 13,
                  "wpgt": "nan",
                  "pres": "nan",
                  "tsun": "nan",
                  "coco": "nan",
                  "_deepnote_index_column": "2014-01-05 05:00:00"
                },
                {
                  "temp": 26,
                  "dwpt": 24.4,
                  "rhum": 91,
                  "prcp": "nan",
                  "snow": "nan",
                  "wdir": 340,
                  "wspd": 11.2,
                  "wpgt": "nan",
                  "pres": 1006.5,
                  "tsun": "nan",
                  "coco": "nan",
                  "_deepnote_index_column": "2014-01-05 06:00:00"
                },
                {
                  "temp": 30,
                  "dwpt": 23.9,
                  "rhum": 70,
                  "prcp": "nan",
                  "snow": "nan",
                  "wdir": 300,
                  "wspd": 14.8,
                  "wpgt": "nan",
                  "pres": "nan",
                  "tsun": "nan",
                  "coco": "nan",
                  "_deepnote_index_column": "2014-01-05 07:00:00"
                },
                {
                  "temp": 29,
                  "dwpt": 23,
                  "rhum": 70,
                  "prcp": "nan",
                  "snow": "nan",
                  "wdir": 260,
                  "wspd": 9.4,
                  "wpgt": "nan",
                  "pres": "nan",
                  "tsun": "nan",
                  "coco": "nan",
                  "_deepnote_index_column": "2014-01-05 08:00:00"
                },
                {
                  "temp": 28.8,
                  "dwpt": 24.6,
                  "rhum": 78,
                  "prcp": "nan",
                  "snow": "nan",
                  "wdir": 260,
                  "wspd": 3.6,
                  "wpgt": "nan",
                  "pres": 1006.1,
                  "tsun": "nan",
                  "coco": "nan",
                  "_deepnote_index_column": "2014-01-05 09:00:00"
                },
                {
                  "temp": 28,
                  "dwpt": 24,
                  "rhum": 79,
                  "prcp": "nan",
                  "snow": "nan",
                  "wdir": 340,
                  "wspd": 5.4,
                  "wpgt": "nan",
                  "pres": "nan",
                  "tsun": "nan",
                  "coco": "nan",
                  "_deepnote_index_column": "2014-01-05 10:00:00"
                },
                {
                  "temp": 28,
                  "dwpt": 25,
                  "rhum": 84,
                  "prcp": "nan",
                  "snow": "nan",
                  "wdir": 120,
                  "wspd": 5.4,
                  "wpgt": "nan",
                  "pres": "nan",
                  "tsun": "nan",
                  "coco": "nan",
                  "_deepnote_index_column": "2014-01-05 11:00:00"
                },
                {
                  "temp": 26.9,
                  "dwpt": 24.6,
                  "rhum": 87,
                  "prcp": "nan",
                  "snow": "nan",
                  "wdir": 120,
                  "wspd": 11.2,
                  "wpgt": "nan",
                  "pres": "nan",
                  "tsun": "nan",
                  "coco": "nan",
                  "_deepnote_index_column": "2014-01-05 12:00:00"
                },
                {
                  "temp": 27,
                  "dwpt": 25,
                  "rhum": 89,
                  "prcp": "nan",
                  "snow": "nan",
                  "wdir": 240,
                  "wspd": 7.6,
                  "wpgt": "nan",
                  "pres": "nan",
                  "tsun": "nan",
                  "coco": "nan",
                  "_deepnote_index_column": "2014-01-05 13:00:00"
                },
                {
                  "temp": 25,
                  "dwpt": 24,
                  "rhum": 94,
                  "prcp": "nan",
                  "snow": "nan",
                  "wdir": 320,
                  "wspd": 9.4,
                  "wpgt": "nan",
                  "pres": "nan",
                  "tsun": "nan",
                  "coco": "nan",
                  "_deepnote_index_column": "2014-01-05 14:00:00"
                },
                {
                  "temp": 25.2,
                  "dwpt": 24.3,
                  "rhum": 95,
                  "prcp": "nan",
                  "snow": "nan",
                  "wdir": 90,
                  "wspd": 7.6,
                  "wpgt": "nan",
                  "pres": 1009.7,
                  "tsun": "nan",
                  "coco": "nan",
                  "_deepnote_index_column": "2014-01-05 15:00:00"
                },
                {
                  "temp": 25,
                  "dwpt": 24,
                  "rhum": 94,
                  "prcp": "nan",
                  "snow": "nan",
                  "wdir": 140,
                  "wspd": 7.6,
                  "wpgt": "nan",
                  "pres": "nan",
                  "tsun": "nan",
                  "coco": "nan",
                  "_deepnote_index_column": "2014-01-05 16:00:00"
                },
                {
                  "temp": 25.3,
                  "dwpt": 23.7,
                  "rhum": 91,
                  "prcp": "nan",
                  "snow": "nan",
                  "wdir": 360,
                  "wspd": 0,
                  "wpgt": "nan",
                  "pres": 1007,
                  "tsun": "nan",
                  "coco": "nan",
                  "_deepnote_index_column": "2014-01-05 18:00:00"
                },
                {
                  "temp": 24.8,
                  "dwpt": 23.8,
                  "rhum": 94,
                  "prcp": "nan",
                  "snow": "nan",
                  "wdir": 360,
                  "wspd": 0,
                  "wpgt": "nan",
                  "pres": 1007,
                  "tsun": "nan",
                  "coco": "nan",
                  "_deepnote_index_column": "2014-01-05 21:00:00"
                },
                {
                  "temp": 25,
                  "dwpt": 24,
                  "rhum": 94,
                  "prcp": "nan",
                  "snow": "nan",
                  "wdir": 110,
                  "wspd": 7.6,
                  "wpgt": "nan",
                  "pres": "nan",
                  "tsun": "nan",
                  "coco": "nan",
                  "_deepnote_index_column": "2014-01-05 22:00:00"
                },
                {
                  "temp": 25,
                  "dwpt": 24,
                  "rhum": 94,
                  "prcp": "nan",
                  "snow": "nan",
                  "wdir": 100,
                  "wspd": 7.6,
                  "wpgt": "nan",
                  "pres": "nan",
                  "tsun": "nan",
                  "coco": "nan",
                  "_deepnote_index_column": "2014-01-05 23:00:00"
                },
                {
                  "temp": 25.4,
                  "dwpt": 23.5,
                  "rhum": 89,
                  "prcp": "nan",
                  "snow": "nan",
                  "wdir": 360,
                  "wspd": 0,
                  "wpgt": "nan",
                  "pres": 1008.6,
                  "tsun": "nan",
                  "coco": "nan",
                  "_deepnote_index_column": "2014-01-06 00:00:00"
                },
                {
                  "temp": 27,
                  "dwpt": 24.1,
                  "rhum": 84,
                  "prcp": "nan",
                  "snow": "nan",
                  "wdir": 70,
                  "wspd": 5.4,
                  "wpgt": "nan",
                  "pres": "nan",
                  "tsun": "nan",
                  "coco": "nan",
                  "_deepnote_index_column": "2014-01-06 01:00:00"
                },
                {
                  "temp": 29,
                  "dwpt": 23,
                  "rhum": 70,
                  "prcp": "nan",
                  "snow": "nan",
                  "wdir": 70,
                  "wspd": 5.4,
                  "wpgt": "nan",
                  "pres": "nan",
                  "tsun": "nan",
                  "coco": "nan",
                  "_deepnote_index_column": "2014-01-06 02:00:00"
                },
                {
                  "temp": 28.8,
                  "dwpt": 23.9,
                  "rhum": 75,
                  "prcp": "nan",
                  "snow": "nan",
                  "wdir": 320,
                  "wspd": 3.6,
                  "wpgt": "nan",
                  "pres": 1008.9,
                  "tsun": "nan",
                  "coco": "nan",
                  "_deepnote_index_column": "2014-01-06 03:00:00"
                },
                {
                  "temp": 30,
                  "dwpt": 24.2,
                  "rhum": 71,
                  "prcp": "nan",
                  "snow": "nan",
                  "wdir": 350,
                  "wspd": 14.8,
                  "wpgt": "nan",
                  "pres": 1007.3,
                  "tsun": "nan",
                  "coco": "nan",
                  "_deepnote_index_column": "2014-01-06 06:00:00"
                },
                {
                  "temp": 29.6,
                  "dwpt": 23.3,
                  "rhum": 69,
                  "prcp": "nan",
                  "snow": "nan",
                  "wdir": 320,
                  "wspd": 14.8,
                  "wpgt": "nan",
                  "pres": 1007.1,
                  "tsun": "nan",
                  "coco": "nan",
                  "_deepnote_index_column": "2014-01-06 09:00:00"
                },
                {
                  "temp": 23.8,
                  "dwpt": 23,
                  "rhum": 95,
                  "prcp": "nan",
                  "snow": "nan",
                  "wdir": 170,
                  "wspd": 3.6,
                  "wpgt": "nan",
                  "pres": 1009,
                  "tsun": "nan",
                  "coco": "nan",
                  "_deepnote_index_column": "2014-01-06 12:00:00"
                }
              ]
            },
            "text/plain": "                     temp  dwpt  rhum  prcp  snow   wdir  wspd  wpgt    pres  \\\ntime                                                                           \n2014-01-01 00:00:00  25.0  24.1  95.0   NaN   NaN  360.0   0.0   NaN  1011.9   \n2014-01-01 01:00:00  25.0  24.0  94.0   NaN   NaN    NaN   0.0   NaN     NaN   \n2014-01-01 02:00:00  25.0  24.0  94.0   NaN   NaN  280.0   3.6   NaN     NaN   \n2014-01-01 03:00:00  25.2  24.0  93.0   NaN   NaN  300.0   9.4   NaN  1013.2   \n2014-01-01 04:00:00  25.0  24.0  94.0   NaN   NaN  300.0  24.1   NaN     NaN   \n...                   ...   ...   ...   ...   ...    ...   ...   ...     ...   \n2024-12-30 20:00:00  24.7  22.6  88.0   0.0   NaN  224.0   9.7   NaN  1008.4   \n2024-12-30 21:00:00  24.7  22.6  88.0   0.0   NaN  226.0   9.4   NaN  1008.5   \n2024-12-30 22:00:00  24.7  22.6  88.0   0.1   NaN  228.0  10.8   NaN  1008.8   \n2024-12-30 23:00:00  25.2  23.1  88.0   0.1   NaN  265.0  15.8   NaN  1009.0   \n2024-12-31 00:00:00  26.3  22.8  81.0   0.0   NaN  232.0   8.3   NaN  1009.4   \n\n                     tsun  coco  \ntime                             \n2014-01-01 00:00:00   NaN   NaN  \n2014-01-01 01:00:00   NaN   NaN  \n2014-01-01 02:00:00   NaN   NaN  \n2014-01-01 03:00:00   NaN   NaN  \n2014-01-01 04:00:00   NaN   NaN  \n...                   ...   ...  \n2024-12-30 20:00:00   NaN   3.0  \n2024-12-30 21:00:00   NaN   3.0  \n2024-12-30 22:00:00   NaN   7.0  \n2024-12-30 23:00:00   NaN   7.0  \n2024-12-31 00:00:00   NaN   3.0  \n\n[75482 rows x 11 columns]",
            "text/html": "<div>\n<style scoped>\n    .dataframe tbody tr th:only-of-type {\n        vertical-align: middle;\n    }\n\n    .dataframe tbody tr th {\n        vertical-align: top;\n    }\n\n    .dataframe thead th {\n        text-align: right;\n    }\n</style>\n<table border=\"1\" class=\"dataframe\">\n  <thead>\n    <tr style=\"text-align: right;\">\n      <th></th>\n      <th>temp</th>\n      <th>dwpt</th>\n      <th>rhum</th>\n      <th>prcp</th>\n      <th>snow</th>\n      <th>wdir</th>\n      <th>wspd</th>\n      <th>wpgt</th>\n      <th>pres</th>\n      <th>tsun</th>\n      <th>coco</th>\n    </tr>\n    <tr>\n      <th>time</th>\n      <th></th>\n      <th></th>\n      <th></th>\n      <th></th>\n      <th></th>\n      <th></th>\n      <th></th>\n      <th></th>\n      <th></th>\n      <th></th>\n      <th></th>\n    </tr>\n  </thead>\n  <tbody>\n    <tr>\n      <th>2014-01-01 00:00:00</th>\n      <td>25.0</td>\n      <td>24.1</td>\n      <td>95.0</td>\n      <td>NaN</td>\n      <td>NaN</td>\n      <td>360.0</td>\n      <td>0.0</td>\n      <td>NaN</td>\n      <td>1011.9</td>\n      <td>NaN</td>\n      <td>NaN</td>\n    </tr>\n    <tr>\n      <th>2014-01-01 01:00:00</th>\n      <td>25.0</td>\n      <td>24.0</td>\n      <td>94.0</td>\n      <td>NaN</td>\n      <td>NaN</td>\n      <td>NaN</td>\n      <td>0.0</td>\n      <td>NaN</td>\n      <td>NaN</td>\n      <td>NaN</td>\n      <td>NaN</td>\n    </tr>\n    <tr>\n      <th>2014-01-01 02:00:00</th>\n      <td>25.0</td>\n      <td>24.0</td>\n      <td>94.0</td>\n      <td>NaN</td>\n      <td>NaN</td>\n      <td>280.0</td>\n      <td>3.6</td>\n      <td>NaN</td>\n      <td>NaN</td>\n      <td>NaN</td>\n      <td>NaN</td>\n    </tr>\n    <tr>\n      <th>2014-01-01 03:00:00</th>\n      <td>25.2</td>\n      <td>24.0</td>\n      <td>93.0</td>\n      <td>NaN</td>\n      <td>NaN</td>\n      <td>300.0</td>\n      <td>9.4</td>\n      <td>NaN</td>\n      <td>1013.2</td>\n      <td>NaN</td>\n      <td>NaN</td>\n    </tr>\n    <tr>\n      <th>2014-01-01 04:00:00</th>\n      <td>25.0</td>\n      <td>24.0</td>\n      <td>94.0</td>\n      <td>NaN</td>\n      <td>NaN</td>\n      <td>300.0</td>\n      <td>24.1</td>\n      <td>NaN</td>\n      <td>NaN</td>\n      <td>NaN</td>\n      <td>NaN</td>\n    </tr>\n    <tr>\n      <th>...</th>\n      <td>...</td>\n      <td>...</td>\n      <td>...</td>\n      <td>...</td>\n      <td>...</td>\n      <td>...</td>\n      <td>...</td>\n      <td>...</td>\n      <td>...</td>\n      <td>...</td>\n      <td>...</td>\n    </tr>\n    <tr>\n      <th>2024-12-30 20:00:00</th>\n      <td>24.7</td>\n      <td>22.6</td>\n      <td>88.0</td>\n      <td>0.0</td>\n      <td>NaN</td>\n      <td>224.0</td>\n      <td>9.7</td>\n      <td>NaN</td>\n      <td>1008.4</td>\n      <td>NaN</td>\n      <td>3.0</td>\n    </tr>\n    <tr>\n      <th>2024-12-30 21:00:00</th>\n      <td>24.7</td>\n      <td>22.6</td>\n      <td>88.0</td>\n      <td>0.0</td>\n      <td>NaN</td>\n      <td>226.0</td>\n      <td>9.4</td>\n      <td>NaN</td>\n      <td>1008.5</td>\n      <td>NaN</td>\n      <td>3.0</td>\n    </tr>\n    <tr>\n      <th>2024-12-30 22:00:00</th>\n      <td>24.7</td>\n      <td>22.6</td>\n      <td>88.0</td>\n      <td>0.1</td>\n      <td>NaN</td>\n      <td>228.0</td>\n      <td>10.8</td>\n      <td>NaN</td>\n      <td>1008.8</td>\n      <td>NaN</td>\n      <td>7.0</td>\n    </tr>\n    <tr>\n      <th>2024-12-30 23:00:00</th>\n      <td>25.2</td>\n      <td>23.1</td>\n      <td>88.0</td>\n      <td>0.1</td>\n      <td>NaN</td>\n      <td>265.0</td>\n      <td>15.8</td>\n      <td>NaN</td>\n      <td>1009.0</td>\n      <td>NaN</td>\n      <td>7.0</td>\n    </tr>\n    <tr>\n      <th>2024-12-31 00:00:00</th>\n      <td>26.3</td>\n      <td>22.8</td>\n      <td>81.0</td>\n      <td>0.0</td>\n      <td>NaN</td>\n      <td>232.0</td>\n      <td>8.3</td>\n      <td>NaN</td>\n      <td>1009.4</td>\n      <td>NaN</td>\n      <td>3.0</td>\n    </tr>\n  </tbody>\n</table>\n<p>75482 rows × 11 columns</p>\n</div>"
          },
          "metadata": {}
        }
      ],
      "outputs_reference": null,
      "execution_count": 9,
      "block_group": "bfdb6ce948504a538a00dcf9789d50d6",
      "content_dependencies": null
    },
    {
      "cell_type": "code",
      "source": "data.describe()",
      "metadata": {
        "source_hash": "d786443f",
        "execution_start": 1735987850995,
        "execution_millis": 14,
        "execution_context_id": "a06c4c24-c6ff-4a93-96d3-22d8895ea17f",
        "cell_id": "41786ee89df546a7bfa16be24f10cf48",
        "deepnote_cell_type": "code"
      },
      "outputs": [
        {
          "output_type": "execute_result",
          "execution_count": 5,
          "data": {
            "application/vnd.deepnote.dataframe.v3+json": {
              "column_count": 11,
              "row_count": 8,
              "columns": [
                {
                  "name": "temp",
                  "dtype": "float64",
                  "stats": {
                    "unique_count": 8,
                    "nan_count": 0,
                    "min": "2.7324934164864425",
                    "max": "75429.0",
                    "histogram": [
                      {
                        "bin_start": 2.7324934164864425,
                        "bin_end": 7545.359244074837,
                        "count": 7
                      },
                      {
                        "bin_start": 7545.359244074837,
                        "bin_end": 15087.985994733188,
                        "count": 0
                      },
                      {
                        "bin_start": 15087.985994733188,
                        "bin_end": 22630.61274539154,
                        "count": 0
                      },
                      {
                        "bin_start": 22630.61274539154,
                        "bin_end": 30173.23949604989,
                        "count": 0
                      },
                      {
                        "bin_start": 30173.23949604989,
                        "bin_end": 37715.86624670824,
                        "count": 0
                      },
                      {
                        "bin_start": 37715.86624670824,
                        "bin_end": 45258.49299736659,
                        "count": 0
                      },
                      {
                        "bin_start": 45258.49299736659,
                        "bin_end": 52801.11974802494,
                        "count": 0
                      },
                      {
                        "bin_start": 52801.11974802494,
                        "bin_end": 60343.74649868329,
                        "count": 0
                      },
                      {
                        "bin_start": 60343.74649868329,
                        "bin_end": 67886.37324934165,
                        "count": 0
                      },
                      {
                        "bin_start": 67886.37324934165,
                        "bin_end": 75429,
                        "count": 1
                      }
                    ]
                  }
                },
                {
                  "name": "dwpt",
                  "dtype": "float64",
                  "stats": {
                    "unique_count": 8,
                    "nan_count": 0,
                    "min": "2.0383585085518265",
                    "max": "75381.0",
                    "histogram": [
                      {
                        "bin_start": 2.0383585085518265,
                        "bin_end": 7539.934522657697,
                        "count": 7
                      },
                      {
                        "bin_start": 7539.934522657697,
                        "bin_end": 15077.830686806841,
                        "count": 0
                      },
                      {
                        "bin_start": 15077.830686806841,
                        "bin_end": 22615.726850955987,
                        "count": 0
                      },
                      {
                        "bin_start": 22615.726850955987,
                        "bin_end": 30153.62301510513,
                        "count": 0
                      },
                      {
                        "bin_start": 30153.62301510513,
                        "bin_end": 37691.519179254276,
                        "count": 0
                      },
                      {
                        "bin_start": 37691.519179254276,
                        "bin_end": 45229.41534340342,
                        "count": 0
                      },
                      {
                        "bin_start": 45229.41534340342,
                        "bin_end": 52767.311507552564,
                        "count": 0
                      },
                      {
                        "bin_start": 52767.311507552564,
                        "bin_end": 60305.20767170171,
                        "count": 0
                      },
                      {
                        "bin_start": 60305.20767170171,
                        "bin_end": 67843.10383585085,
                        "count": 0
                      },
                      {
                        "bin_start": 67843.10383585085,
                        "bin_end": 75381,
                        "count": 1
                      }
                    ]
                  }
                },
                {
                  "name": "rhum",
                  "dtype": "float64",
                  "stats": {
                    "unique_count": 8,
                    "nan_count": 0,
                    "min": "14.093289507028802",
                    "max": "75381.0",
                    "histogram": [
                      {
                        "bin_start": 14.093289507028802,
                        "bin_end": 7550.783960556326,
                        "count": 7
                      },
                      {
                        "bin_start": 7550.783960556326,
                        "bin_end": 15087.474631605623,
                        "count": 0
                      },
                      {
                        "bin_start": 15087.474631605623,
                        "bin_end": 22624.165302654917,
                        "count": 0
                      },
                      {
                        "bin_start": 22624.165302654917,
                        "bin_end": 30160.855973704216,
                        "count": 0
                      },
                      {
                        "bin_start": 30160.855973704216,
                        "bin_end": 37697.546644753515,
                        "count": 0
                      },
                      {
                        "bin_start": 37697.546644753515,
                        "bin_end": 45234.237315802806,
                        "count": 0
                      },
                      {
                        "bin_start": 45234.237315802806,
                        "bin_end": 52770.927986852104,
                        "count": 0
                      },
                      {
                        "bin_start": 52770.927986852104,
                        "bin_end": 60307.6186579014,
                        "count": 0
                      },
                      {
                        "bin_start": 60307.6186579014,
                        "bin_end": 67844.3093289507,
                        "count": 0
                      },
                      {
                        "bin_start": 67844.3093289507,
                        "bin_end": 75381,
                        "count": 1
                      }
                    ]
                  }
                },
                {
                  "name": "prcp",
                  "dtype": "float64",
                  "stats": {
                    "unique_count": 6,
                    "nan_count": 0,
                    "min": "0.0",
                    "max": "34760.0",
                    "histogram": [
                      {
                        "bin_start": 0,
                        "bin_end": 3476,
                        "count": 7
                      },
                      {
                        "bin_start": 3476,
                        "bin_end": 6952,
                        "count": 0
                      },
                      {
                        "bin_start": 6952,
                        "bin_end": 10428,
                        "count": 0
                      },
                      {
                        "bin_start": 10428,
                        "bin_end": 13904,
                        "count": 0
                      },
                      {
                        "bin_start": 13904,
                        "bin_end": 17380,
                        "count": 0
                      },
                      {
                        "bin_start": 17380,
                        "bin_end": 20856,
                        "count": 0
                      },
                      {
                        "bin_start": 20856,
                        "bin_end": 24332,
                        "count": 0
                      },
                      {
                        "bin_start": 24332,
                        "bin_end": 27808,
                        "count": 0
                      },
                      {
                        "bin_start": 27808,
                        "bin_end": 31284,
                        "count": 0
                      },
                      {
                        "bin_start": 31284,
                        "bin_end": 34760,
                        "count": 1
                      }
                    ]
                  }
                },
                {
                  "name": "snow",
                  "dtype": "float64",
                  "stats": {
                    "unique_count": 1,
                    "nan_count": 7,
                    "min": "0.0",
                    "max": "0.0",
                    "histogram": [
                      {
                        "bin_start": -0.5,
                        "bin_end": -0.4,
                        "count": 0
                      },
                      {
                        "bin_start": -0.4,
                        "bin_end": -0.3,
                        "count": 0
                      },
                      {
                        "bin_start": -0.3,
                        "bin_end": -0.19999999999999996,
                        "count": 0
                      },
                      {
                        "bin_start": -0.19999999999999996,
                        "bin_end": -0.09999999999999998,
                        "count": 0
                      },
                      {
                        "bin_start": -0.09999999999999998,
                        "bin_end": 0,
                        "count": 0
                      },
                      {
                        "bin_start": 0,
                        "bin_end": 0.10000000000000009,
                        "count": 1
                      },
                      {
                        "bin_start": 0.10000000000000009,
                        "bin_end": 0.20000000000000007,
                        "count": 0
                      },
                      {
                        "bin_start": 0.20000000000000007,
                        "bin_end": 0.30000000000000004,
                        "count": 0
                      },
                      {
                        "bin_start": 0.30000000000000004,
                        "bin_end": 0.4,
                        "count": 0
                      },
                      {
                        "bin_start": 0.4,
                        "bin_end": 0.5,
                        "count": 0
                      }
                    ]
                  }
                },
                {
                  "name": "wdir",
                  "dtype": "float64",
                  "stats": {
                    "unique_count": 8,
                    "nan_count": 0,
                    "min": "0.0",
                    "max": "73040.0",
                    "histogram": [
                      {
                        "bin_start": 0,
                        "bin_end": 7304,
                        "count": 7
                      },
                      {
                        "bin_start": 7304,
                        "bin_end": 14608,
                        "count": 0
                      },
                      {
                        "bin_start": 14608,
                        "bin_end": 21912,
                        "count": 0
                      },
                      {
                        "bin_start": 21912,
                        "bin_end": 29216,
                        "count": 0
                      },
                      {
                        "bin_start": 29216,
                        "bin_end": 36520,
                        "count": 0
                      },
                      {
                        "bin_start": 36520,
                        "bin_end": 43824,
                        "count": 0
                      },
                      {
                        "bin_start": 43824,
                        "bin_end": 51128,
                        "count": 0
                      },
                      {
                        "bin_start": 51128,
                        "bin_end": 58432,
                        "count": 0
                      },
                      {
                        "bin_start": 58432,
                        "bin_end": 65736,
                        "count": 0
                      },
                      {
                        "bin_start": 65736,
                        "bin_end": 73040,
                        "count": 1
                      }
                    ]
                  }
                },
                {
                  "name": "wspd",
                  "dtype": "float64",
                  "stats": {
                    "unique_count": 8,
                    "nan_count": 0,
                    "min": "0.0",
                    "max": "75409.0",
                    "histogram": [
                      {
                        "bin_start": 0,
                        "bin_end": 7540.9,
                        "count": 7
                      },
                      {
                        "bin_start": 7540.9,
                        "bin_end": 15081.8,
                        "count": 0
                      },
                      {
                        "bin_start": 15081.8,
                        "bin_end": 22622.699999999997,
                        "count": 0
                      },
                      {
                        "bin_start": 22622.699999999997,
                        "bin_end": 30163.6,
                        "count": 0
                      },
                      {
                        "bin_start": 30163.6,
                        "bin_end": 37704.5,
                        "count": 0
                      },
                      {
                        "bin_start": 37704.5,
                        "bin_end": 45245.399999999994,
                        "count": 0
                      },
                      {
                        "bin_start": 45245.399999999994,
                        "bin_end": 52786.299999999996,
                        "count": 0
                      },
                      {
                        "bin_start": 52786.299999999996,
                        "bin_end": 60327.2,
                        "count": 0
                      },
                      {
                        "bin_start": 60327.2,
                        "bin_end": 67868.09999999999,
                        "count": 0
                      },
                      {
                        "bin_start": 67868.09999999999,
                        "bin_end": 75409,
                        "count": 1
                      }
                    ]
                  }
                },
                {
                  "name": "wpgt",
                  "dtype": "float64",
                  "stats": {
                    "unique_count": 1,
                    "nan_count": 7,
                    "min": "0.0",
                    "max": "0.0",
                    "histogram": [
                      {
                        "bin_start": -0.5,
                        "bin_end": -0.4,
                        "count": 0
                      },
                      {
                        "bin_start": -0.4,
                        "bin_end": -0.3,
                        "count": 0
                      },
                      {
                        "bin_start": -0.3,
                        "bin_end": -0.19999999999999996,
                        "count": 0
                      },
                      {
                        "bin_start": -0.19999999999999996,
                        "bin_end": -0.09999999999999998,
                        "count": 0
                      },
                      {
                        "bin_start": -0.09999999999999998,
                        "bin_end": 0,
                        "count": 0
                      },
                      {
                        "bin_start": 0,
                        "bin_end": 0.10000000000000009,
                        "count": 1
                      },
                      {
                        "bin_start": 0.10000000000000009,
                        "bin_end": 0.20000000000000007,
                        "count": 0
                      },
                      {
                        "bin_start": 0.20000000000000007,
                        "bin_end": 0.30000000000000004,
                        "count": 0
                      },
                      {
                        "bin_start": 0.30000000000000004,
                        "bin_end": 0.4,
                        "count": 0
                      },
                      {
                        "bin_start": 0.4,
                        "bin_end": 0.5,
                        "count": 0
                      }
                    ]
                  }
                },
                {
                  "name": "pres",
                  "dtype": "float64",
                  "stats": {
                    "unique_count": 8,
                    "nan_count": 0,
                    "min": "1.8757784317683557",
                    "max": "54934.0",
                    "histogram": [
                      {
                        "bin_start": 1.8757784317683557,
                        "bin_end": 5495.0882005885915,
                        "count": 7
                      },
                      {
                        "bin_start": 5495.0882005885915,
                        "bin_end": 10988.300622745413,
                        "count": 0
                      },
                      {
                        "bin_start": 10988.300622745413,
                        "bin_end": 16481.513044902236,
                        "count": 0
                      },
                      {
                        "bin_start": 16481.513044902236,
                        "bin_end": 21974.72546705906,
                        "count": 0
                      },
                      {
                        "bin_start": 21974.72546705906,
                        "bin_end": 27467.937889215882,
                        "count": 0
                      },
                      {
                        "bin_start": 27467.937889215882,
                        "bin_end": 32961.15031137271,
                        "count": 0
                      },
                      {
                        "bin_start": 32961.15031137271,
                        "bin_end": 38454.36273352953,
                        "count": 0
                      },
                      {
                        "bin_start": 38454.36273352953,
                        "bin_end": 43947.575155686354,
                        "count": 0
                      },
                      {
                        "bin_start": 43947.575155686354,
                        "bin_end": 49440.78757784318,
                        "count": 0
                      },
                      {
                        "bin_start": 49440.78757784318,
                        "bin_end": 54934,
                        "count": 1
                      }
                    ]
                  }
                },
                {
                  "name": "tsun",
                  "dtype": "float64",
                  "stats": {
                    "unique_count": 1,
                    "nan_count": 7,
                    "min": "0.0",
                    "max": "0.0",
                    "histogram": [
                      {
                        "bin_start": -0.5,
                        "bin_end": -0.4,
                        "count": 0
                      },
                      {
                        "bin_start": -0.4,
                        "bin_end": -0.3,
                        "count": 0
                      },
                      {
                        "bin_start": -0.3,
                        "bin_end": -0.19999999999999996,
                        "count": 0
                      },
                      {
                        "bin_start": -0.19999999999999996,
                        "bin_end": -0.09999999999999998,
                        "count": 0
                      },
                      {
                        "bin_start": -0.09999999999999998,
                        "bin_end": 0,
                        "count": 0
                      },
                      {
                        "bin_start": 0,
                        "bin_end": 0.10000000000000009,
                        "count": 1
                      },
                      {
                        "bin_start": 0.10000000000000009,
                        "bin_end": 0.20000000000000007,
                        "count": 0
                      },
                      {
                        "bin_start": 0.20000000000000007,
                        "bin_end": 0.30000000000000004,
                        "count": 0
                      },
                      {
                        "bin_start": 0.30000000000000004,
                        "bin_end": 0.4,
                        "count": 0
                      },
                      {
                        "bin_start": 0.4,
                        "bin_end": 0.5,
                        "count": 0
                      }
                    ]
                  }
                },
                {
                  "name": "coco",
                  "dtype": "float64",
                  "stats": {
                    "unique_count": 6,
                    "nan_count": 0,
                    "min": "1.0",
                    "max": "22117.0",
                    "histogram": [
                      {
                        "bin_start": 1,
                        "bin_end": 2212.6,
                        "count": 7
                      },
                      {
                        "bin_start": 2212.6,
                        "bin_end": 4424.2,
                        "count": 0
                      },
                      {
                        "bin_start": 4424.2,
                        "bin_end": 6635.799999999999,
                        "count": 0
                      },
                      {
                        "bin_start": 6635.799999999999,
                        "bin_end": 8847.4,
                        "count": 0
                      },
                      {
                        "bin_start": 8847.4,
                        "bin_end": 11059,
                        "count": 0
                      },
                      {
                        "bin_start": 11059,
                        "bin_end": 13270.599999999999,
                        "count": 0
                      },
                      {
                        "bin_start": 13270.599999999999,
                        "bin_end": 15482.199999999999,
                        "count": 0
                      },
                      {
                        "bin_start": 15482.199999999999,
                        "bin_end": 17693.8,
                        "count": 0
                      },
                      {
                        "bin_start": 17693.8,
                        "bin_end": 19905.399999999998,
                        "count": 0
                      },
                      {
                        "bin_start": 19905.399999999998,
                        "bin_end": 22117,
                        "count": 1
                      }
                    ]
                  }
                },
                {
                  "name": "_deepnote_index_column",
                  "dtype": "object"
                }
              ],
              "rows": [
                {
                  "temp": 75429,
                  "dwpt": 75381,
                  "rhum": 75381,
                  "prcp": 34760,
                  "snow": 0,
                  "wdir": 73040,
                  "wspd": 75409,
                  "wpgt": 0,
                  "pres": 54934,
                  "tsun": 0,
                  "coco": 22117,
                  "_deepnote_index_column": "count"
                },
                {
                  "temp": 28.432288642299383,
                  "dwpt": 23.038073254533636,
                  "rhum": 74.2065639882729,
                  "prcp": 0.21268987341772153,
                  "snow": "nan",
                  "wdir": 190.209652245345,
                  "wspd": 9.588946942672626,
                  "wpgt": "nan",
                  "pres": 1009.9100174755159,
                  "tsun": "nan",
                  "coco": 4.328932495365556,
                  "_deepnote_index_column": "mean"
                },
                {
                  "temp": 2.7324934164864425,
                  "dwpt": 2.0383585085518265,
                  "rhum": 14.093289507028802,
                  "prcp": 0.7294177049875888,
                  "snow": "nan",
                  "wdir": 102.83214817787038,
                  "wspd": 6.54491761199504,
                  "wpgt": "nan",
                  "pres": 1.8757784317683557,
                  "tsun": "nan",
                  "coco": 3.8592060735579583,
                  "_deepnote_index_column": "std"
                },
                {
                  "temp": 13.3,
                  "dwpt": 7.8,
                  "rhum": 20,
                  "prcp": 0,
                  "snow": "nan",
                  "wdir": 0,
                  "wspd": 0,
                  "wpgt": "nan",
                  "pres": 1001.2,
                  "tsun": "nan",
                  "coco": 1,
                  "_deepnote_index_column": "min"
                },
                {
                  "temp": 26,
                  "dwpt": 22.2,
                  "rhum": 66,
                  "prcp": 0,
                  "snow": "nan",
                  "wdir": 110,
                  "wspd": 4.3,
                  "wpgt": "nan",
                  "pres": 1008.6,
                  "tsun": "nan",
                  "coco": 3,
                  "_deepnote_index_column": "25%"
                },
                {
                  "temp": 28,
                  "dwpt": 23.5,
                  "rhum": 75,
                  "prcp": 0,
                  "snow": "nan",
                  "wdir": 170,
                  "wspd": 7.6,
                  "wpgt": "nan",
                  "pres": 1010,
                  "tsun": "nan",
                  "coco": 3,
                  "_deepnote_index_column": "50%"
                },
                {
                  "temp": 30.5,
                  "dwpt": 24.1,
                  "rhum": 84,
                  "prcp": 0.1,
                  "snow": "nan",
                  "wdir": 290,
                  "wspd": 14.8,
                  "wpgt": "nan",
                  "pres": 1011.2,
                  "tsun": "nan",
                  "coco": 3,
                  "_deepnote_index_column": "75%"
                },
                {
                  "temp": 39,
                  "dwpt": 29.2,
                  "rhum": 112,
                  "prcp": 23.8,
                  "snow": "nan",
                  "wdir": 360,
                  "wspd": 105.5,
                  "wpgt": "nan",
                  "pres": 1016.2,
                  "tsun": "nan",
                  "coco": 18,
                  "_deepnote_index_column": "max"
                }
              ]
            },
            "text/plain": "               temp          dwpt          rhum          prcp  snow  \\\ncount  75429.000000  75381.000000  75381.000000  34760.000000   0.0   \nmean      28.432289     23.038073     74.206564      0.212690   NaN   \nstd        2.732493      2.038359     14.093290      0.729418   NaN   \nmin       13.300000      7.800000     20.000000      0.000000   NaN   \n25%       26.000000     22.200000     66.000000      0.000000   NaN   \n50%       28.000000     23.500000     75.000000      0.000000   NaN   \n75%       30.500000     24.100000     84.000000      0.100000   NaN   \nmax       39.000000     29.200000    112.000000     23.800000   NaN   \n\n               wdir          wspd  wpgt          pres  tsun          coco  \ncount  73040.000000  75409.000000   0.0  54934.000000   0.0  22117.000000  \nmean     190.209652      9.588947   NaN   1009.910017   NaN      4.328932  \nstd      102.832148      6.544918   NaN      1.875778   NaN      3.859206  \nmin        0.000000      0.000000   NaN   1001.200000   NaN      1.000000  \n25%      110.000000      4.300000   NaN   1008.600000   NaN      3.000000  \n50%      170.000000      7.600000   NaN   1010.000000   NaN      3.000000  \n75%      290.000000     14.800000   NaN   1011.200000   NaN      3.000000  \nmax      360.000000    105.500000   NaN   1016.200000   NaN     18.000000  ",
            "text/html": "<div>\n<style scoped>\n    .dataframe tbody tr th:only-of-type {\n        vertical-align: middle;\n    }\n\n    .dataframe tbody tr th {\n        vertical-align: top;\n    }\n\n    .dataframe thead th {\n        text-align: right;\n    }\n</style>\n<table border=\"1\" class=\"dataframe\">\n  <thead>\n    <tr style=\"text-align: right;\">\n      <th></th>\n      <th>temp</th>\n      <th>dwpt</th>\n      <th>rhum</th>\n      <th>prcp</th>\n      <th>snow</th>\n      <th>wdir</th>\n      <th>wspd</th>\n      <th>wpgt</th>\n      <th>pres</th>\n      <th>tsun</th>\n      <th>coco</th>\n    </tr>\n  </thead>\n  <tbody>\n    <tr>\n      <th>count</th>\n      <td>75429.000000</td>\n      <td>75381.000000</td>\n      <td>75381.000000</td>\n      <td>34760.000000</td>\n      <td>0.0</td>\n      <td>73040.000000</td>\n      <td>75409.000000</td>\n      <td>0.0</td>\n      <td>54934.000000</td>\n      <td>0.0</td>\n      <td>22117.000000</td>\n    </tr>\n    <tr>\n      <th>mean</th>\n      <td>28.432289</td>\n      <td>23.038073</td>\n      <td>74.206564</td>\n      <td>0.212690</td>\n      <td>NaN</td>\n      <td>190.209652</td>\n      <td>9.588947</td>\n      <td>NaN</td>\n      <td>1009.910017</td>\n      <td>NaN</td>\n      <td>4.328932</td>\n    </tr>\n    <tr>\n      <th>std</th>\n      <td>2.732493</td>\n      <td>2.038359</td>\n      <td>14.093290</td>\n      <td>0.729418</td>\n      <td>NaN</td>\n      <td>102.832148</td>\n      <td>6.544918</td>\n      <td>NaN</td>\n      <td>1.875778</td>\n      <td>NaN</td>\n      <td>3.859206</td>\n    </tr>\n    <tr>\n      <th>min</th>\n      <td>13.300000</td>\n      <td>7.800000</td>\n      <td>20.000000</td>\n      <td>0.000000</td>\n      <td>NaN</td>\n      <td>0.000000</td>\n      <td>0.000000</td>\n      <td>NaN</td>\n      <td>1001.200000</td>\n      <td>NaN</td>\n      <td>1.000000</td>\n    </tr>\n    <tr>\n      <th>25%</th>\n      <td>26.000000</td>\n      <td>22.200000</td>\n      <td>66.000000</td>\n      <td>0.000000</td>\n      <td>NaN</td>\n      <td>110.000000</td>\n      <td>4.300000</td>\n      <td>NaN</td>\n      <td>1008.600000</td>\n      <td>NaN</td>\n      <td>3.000000</td>\n    </tr>\n    <tr>\n      <th>50%</th>\n      <td>28.000000</td>\n      <td>23.500000</td>\n      <td>75.000000</td>\n      <td>0.000000</td>\n      <td>NaN</td>\n      <td>170.000000</td>\n      <td>7.600000</td>\n      <td>NaN</td>\n      <td>1010.000000</td>\n      <td>NaN</td>\n      <td>3.000000</td>\n    </tr>\n    <tr>\n      <th>75%</th>\n      <td>30.500000</td>\n      <td>24.100000</td>\n      <td>84.000000</td>\n      <td>0.100000</td>\n      <td>NaN</td>\n      <td>290.000000</td>\n      <td>14.800000</td>\n      <td>NaN</td>\n      <td>1011.200000</td>\n      <td>NaN</td>\n      <td>3.000000</td>\n    </tr>\n    <tr>\n      <th>max</th>\n      <td>39.000000</td>\n      <td>29.200000</td>\n      <td>112.000000</td>\n      <td>23.800000</td>\n      <td>NaN</td>\n      <td>360.000000</td>\n      <td>105.500000</td>\n      <td>NaN</td>\n      <td>1016.200000</td>\n      <td>NaN</td>\n      <td>18.000000</td>\n    </tr>\n  </tbody>\n</table>\n</div>"
          },
          "metadata": {}
        }
      ],
      "outputs_reference": null,
      "execution_count": 5,
      "block_group": "f74f8cfa62ee4dcc9b5034b999c13524",
      "content_dependencies": null
    },
    {
      "cell_type": "code",
      "source": "data.isnull().sum()",
      "metadata": {
        "source_hash": "878de0e4",
        "execution_start": 1735987851051,
        "execution_millis": 0,
        "execution_context_id": "60968274-72eb-4f4e-942c-096dbea627ae",
        "cell_id": "76170009fe9b48778d1f7fca6a69e8c0",
        "deepnote_cell_type": "code"
      },
      "outputs": [
        {
          "output_type": "execute_result",
          "execution_count": 6,
          "data": {
            "text/plain": "temp       53\ndwpt      101\nrhum      101\nprcp    40722\nsnow    75482\nwdir     2442\nwspd       73\nwpgt    75482\npres    20548\ntsun    75482\ncoco    53365\ndtype: int64"
          },
          "metadata": {}
        }
      ],
      "outputs_reference": null,
      "execution_count": 6,
      "block_group": "98482a03b824402a866cc0386cf6ef74",
      "content_dependencies": null
    },
    {
      "cell_type": "code",
      "source": "# Plot line chart\ndata.plot(y=['temp', 'dwpt', 'rhum', 'wdir', 'wspd', 'pres', 'tsun', 'coco', 'prcp'], subplots=True, figsize=(10, 15))\nplt.show()",
      "metadata": {
        "source_hash": "b42a07b9",
        "execution_start": 1735987851100,
        "execution_millis": 4694,
        "execution_context_id": "b0a32431-7a92-487c-a50a-025b3ffa124b",
        "cell_id": "eaa80e7972a64071b7c9e080eba5ee56",
        "deepnote_cell_type": "code"
      },
      "outputs": [
        {
          "data": {
            "text/plain": "<Figure size 1000x1500 with 9 Axes>",
            "image/png": "[encoded data removed]"
          },
          "metadata": {
            "image/png": {
              "width": 846,
              "height": 1103
            }
          },
          "output_type": "display_data"
        }
      ],
      "outputs_reference": null,
      "execution_count": 7,
      "block_group": "109d5305802d42c3b31ca507b6942433",
      "content_dependencies": null
    },
    {
      "cell_type": "code",
      "source": "",
      "metadata": {
        "source_hash": "b623e53d",
        "execution_start": 1735987855843,
        "execution_millis": 0,
        "execution_context_id": "b0a32431-7a92-487c-a50a-025b3ffa124b",
        "cell_id": "41fbc88d74184e7e9e3a9e568f5ad804",
        "deepnote_cell_type": "code"
      },
      "outputs": [],
      "outputs_reference": null,
      "execution_count": 7,
      "block_group": "b519a60d2c9e4abcb19339d44ecd231d",
      "content_dependencies": null
    },
    {
      "cell_type": "markdown",
      "source": "<a style='text-decoration:none;line-height:16px;display:flex;color:#5B5B62;padding:10px;justify-content:end;' href='https://deepnote.com?utm_source=created-in-deepnote-cell&projectId=200afad5-8991-4e20-8a55-8751c7aff3b5' target=\"_blank\">\n<img alt='Created in deepnote.com' style='display:inline;max-height:16px;margin:0px;margin-right:7.5px;' src='data:image/svg+xml;base64,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' > </img>\nCreated in <span style='font-weight:600;margin-left:4px;'>Deepnote</span></a>",
      "metadata": {
        "created_in_deepnote_cell": true,
        "deepnote_cell_type": "markdown"
      }
    }
  ],
  "nbformat": 4,
  "nbformat_minor": 0,
  "metadata": {
    "deepnote_notebook_id": "f1ae081b29a2481280fa43fafc1c0b7e"
  }
}