{
  "cells": [
    {
      "cell_type": "code",
      "source": "from datetime import datetime\nimport matplotlib.pyplot as plt\nfrom meteostat import Stations, Daily",
      "metadata": {
        "source_hash": "9271ec5f",
        "execution_start": 1735967551206,
        "execution_millis": 414,
        "execution_context_id": "a8f1ea56-bbe5-48a0-855f-149b95c2e8c7",
        "cell_id": "b3d7d7cdc5414391ad9c226ff1b04fc9",
        "deepnote_cell_type": "code"
      },
      "outputs": [],
      "outputs_reference": null,
      "execution_count": 1,
      "block_group": "b3d7d7cdc5414391ad9c226ff1b04fc9",
      "content_dependencies": null
    },
    {
      "cell_type": "code",
      "source": "# Set time period\nstart = datetime(1980, 1, 1)\nend = datetime(2024, 12, 31)",
      "metadata": {
        "source_hash": "435d9d9b",
        "execution_start": 1735967551666,
        "execution_millis": 1,
        "execution_context_id": "c9f404e7-dc73-42d6-94ce-ee26c6a47b46",
        "cell_id": "1ae5272e7b514837a1bee7af24b5122c",
        "deepnote_cell_type": "code"
      },
      "outputs": [],
      "outputs_reference": null,
      "execution_count": 2,
      "block_group": "731bdf1aa94a48d298478480f5b03ccf",
      "content_dependencies": null
    },
    {
      "cell_type": "code",
      "source": "# Get daily data\ndata = Daily('96797', start, end)\ndata = data.fetch()",
      "metadata": {
        "source_hash": "6d7cab9a",
        "execution_start": 1735967551714,
        "execution_millis": 205,
        "execution_context_id": "a8f1ea56-bbe5-48a0-855f-149b95c2e8c7",
        "cell_id": "9a02e629c6bf4da6bd1a3f78d285e00e",
        "deepnote_cell_type": "code"
      },
      "outputs": [],
      "outputs_reference": null,
      "execution_count": 3,
      "block_group": "806b7fb4e16e41488a0976beefa7158a",
      "content_dependencies": null
    },
    {
      "cell_type": "code",
      "source": "data",
      "metadata": {
        "source_hash": "e6928a8f",
        "execution_start": 1735967551967,
        "execution_millis": 0,
        "execution_context_id": "a8d5212a-79ce-45cd-9cd3-8bb0baa889fe",
        "cell_id": "0f084dc7d1394d5c9c89e92648e76e61",
        "deepnote_cell_type": "code"
      },
      "outputs": [
        {
          "output_type": "execute_result",
          "execution_count": 4,
          "data": {
            "application/vnd.deepnote.dataframe.v3+json": {
              "column_count": 10,
              "row_count": 13941,
              "columns": [
                {
                  "name": "tavg",
                  "dtype": "float64",
                  "stats": {
                    "unique_count": 85,
                    "nan_count": 0,
                    "min": "22.5",
                    "max": "31.4",
                    "histogram": [
                      {
                        "bin_start": 22.5,
                        "bin_end": 23.39,
                        "count": 6
                      },
                      {
                        "bin_start": 23.39,
                        "bin_end": 24.28,
                        "count": 34
                      },
                      {
                        "bin_start": 24.28,
                        "bin_end": 25.17,
                        "count": 179
                      },
                      {
                        "bin_start": 25.17,
                        "bin_end": 26.06,
                        "count": 971
                      },
                      {
                        "bin_start": 26.06,
                        "bin_end": 26.95,
                        "count": 2887
                      },
                      {
                        "bin_start": 26.95,
                        "bin_end": 27.84,
                        "count": 4412
                      },
                      {
                        "bin_start": 27.84,
                        "bin_end": 28.73,
                        "count": 3756
                      },
                      {
                        "bin_start": 28.73,
                        "bin_end": 29.619999999999997,
                        "count": 1523
                      },
                      {
                        "bin_start": 29.619999999999997,
                        "bin_end": 30.509999999999998,
                        "count": 160
                      },
                      {
                        "bin_start": 30.509999999999998,
                        "bin_end": 31.4,
                        "count": 13
                      }
                    ]
                  }
                },
                {
                  "name": "tmin",
                  "dtype": "float64",
                  "stats": {
                    "unique_count": 88,
                    "nan_count": 4520,
                    "min": "12.4",
                    "max": "27.2",
                    "histogram": [
                      {
                        "bin_start": 12.4,
                        "bin_end": 13.88,
                        "count": 1
                      },
                      {
                        "bin_start": 13.88,
                        "bin_end": 15.36,
                        "count": 3
                      },
                      {
                        "bin_start": 15.36,
                        "bin_end": 16.84,
                        "count": 2
                      },
                      {
                        "bin_start": 16.84,
                        "bin_end": 18.32,
                        "count": 0
                      },
                      {
                        "bin_start": 18.32,
                        "bin_end": 19.8,
                        "count": 23
                      },
                      {
                        "bin_start": 19.8,
                        "bin_end": 21.28,
                        "count": 197
                      },
                      {
                        "bin_start": 21.28,
                        "bin_end": 22.759999999999998,
                        "count": 892
                      },
                      {
                        "bin_start": 22.759999999999998,
                        "bin_end": 24.240000000000002,
                        "count": 4290
                      },
                      {
                        "bin_start": 24.240000000000002,
                        "bin_end": 25.72,
                        "count": 3520
                      },
                      {
                        "bin_start": 25.72,
                        "bin_end": 27.2,
                        "count": 493
                      }
                    ]
                  }
                },
                {
                  "name": "tmax",
                  "dtype": "float64",
                  "stats": {
                    "unique_count": 100,
                    "nan_count": 3461,
                    "min": "26.0",
                    "max": "42.4",
                    "histogram": [
                      {
                        "bin_start": 26,
                        "bin_end": 27.64,
                        "count": 43
                      },
                      {
                        "bin_start": 27.64,
                        "bin_end": 29.28,
                        "count": 283
                      },
                      {
                        "bin_start": 29.28,
                        "bin_end": 30.92,
                        "count": 1924
                      },
                      {
                        "bin_start": 30.92,
                        "bin_end": 32.56,
                        "count": 5488
                      },
                      {
                        "bin_start": 32.56,
                        "bin_end": 34.2,
                        "count": 2399
                      },
                      {
                        "bin_start": 34.2,
                        "bin_end": 35.84,
                        "count": 332
                      },
                      {
                        "bin_start": 35.84,
                        "bin_end": 37.48,
                        "count": 9
                      },
                      {
                        "bin_start": 37.48,
                        "bin_end": 39.12,
                        "count": 1
                      },
                      {
                        "bin_start": 39.12,
                        "bin_end": 40.76,
                        "count": 0
                      },
                      {
                        "bin_start": 40.76,
                        "bin_end": 42.4,
                        "count": 1
                      }
                    ]
                  }
                },
                {
                  "name": "prcp",
                  "dtype": "float64",
                  "stats": {
                    "unique_count": 281,
                    "nan_count": 9702,
                    "min": "0.0",
                    "max": "279.9",
                    "histogram": [
                      {
                        "bin_start": 0,
                        "bin_end": 27.99,
                        "count": 4127
                      },
                      {
                        "bin_start": 27.99,
                        "bin_end": 55.98,
                        "count": 74
                      },
                      {
                        "bin_start": 55.98,
                        "bin_end": 83.97,
                        "count": 24
                      },
                      {
                        "bin_start": 83.97,
                        "bin_end": 111.96,
                        "count": 3
                      },
                      {
                        "bin_start": 111.96,
                        "bin_end": 139.95,
                        "count": 8
                      },
                      {
                        "bin_start": 139.95,
                        "bin_end": 167.94,
                        "count": 0
                      },
                      {
                        "bin_start": 167.94,
                        "bin_end": 195.92999999999998,
                        "count": 1
                      },
                      {
                        "bin_start": 195.92999999999998,
                        "bin_end": 223.92,
                        "count": 1
                      },
                      {
                        "bin_start": 223.92,
                        "bin_end": 251.91,
                        "count": 0
                      },
                      {
                        "bin_start": 251.91,
                        "bin_end": 279.9,
                        "count": 1
                      }
                    ]
                  }
                },
                {
                  "name": "snow",
                  "dtype": "float64",
                  "stats": {
                    "unique_count": 0,
                    "nan_count": 13941,
                    "min": null,
                    "max": null,
                    "histogram": [
                      {
                        "bin_start": 0,
                        "bin_end": 0.1,
                        "count": 0
                      },
                      {
                        "bin_start": 0.1,
                        "bin_end": 0.2,
                        "count": 0
                      },
                      {
                        "bin_start": 0.2,
                        "bin_end": 0.30000000000000004,
                        "count": 0
                      },
                      {
                        "bin_start": 0.30000000000000004,
                        "bin_end": 0.4,
                        "count": 0
                      },
                      {
                        "bin_start": 0.4,
                        "bin_end": 0.5,
                        "count": 0
                      },
                      {
                        "bin_start": 0.5,
                        "bin_end": 0.6000000000000001,
                        "count": 0
                      },
                      {
                        "bin_start": 0.6000000000000001,
                        "bin_end": 0.7000000000000001,
                        "count": 0
                      },
                      {
                        "bin_start": 0.7000000000000001,
                        "bin_end": 0.8,
                        "count": 0
                      },
                      {
                        "bin_start": 0.8,
                        "bin_end": 0.9,
                        "count": 0
                      },
                      {
                        "bin_start": 0.9,
                        "bin_end": 1,
                        "count": 0
                      }
                    ]
                  }
                },
                {
                  "name": "wdir",
                  "dtype": "float64",
                  "stats": {
                    "unique_count": 305,
                    "nan_count": 12494,
                    "min": "1.0",
                    "max": "359.0",
                    "histogram": [
                      {
                        "bin_start": 1,
                        "bin_end": 36.8,
                        "count": 26
                      },
                      {
                        "bin_start": 36.8,
                        "bin_end": 72.6,
                        "count": 39
                      },
                      {
                        "bin_start": 72.6,
                        "bin_end": 108.39999999999999,
                        "count": 89
                      },
                      {
                        "bin_start": 108.39999999999999,
                        "bin_end": 144.2,
                        "count": 66
                      },
                      {
                        "bin_start": 144.2,
                        "bin_end": 180,
                        "count": 78
                      },
                      {
                        "bin_start": 180,
                        "bin_end": 215.79999999999998,
                        "count": 162
                      },
                      {
                        "bin_start": 215.79999999999998,
                        "bin_end": 251.59999999999997,
                        "count": 384
                      },
                      {
                        "bin_start": 251.59999999999997,
                        "bin_end": 287.4,
                        "count": 403
                      },
                      {
                        "bin_start": 287.4,
                        "bin_end": 323.2,
                        "count": 159
                      },
                      {
                        "bin_start": 323.2,
                        "bin_end": 359,
                        "count": 41
                      }
                    ]
                  }
                },
                {
                  "name": "wspd",
                  "dtype": "float64",
                  "stats": {
                    "unique_count": 162,
                    "nan_count": 12494,
                    "min": "3.1",
                    "max": "26.1",
                    "histogram": [
                      {
                        "bin_start": 3.1,
                        "bin_end": 5.4,
                        "count": 290
                      },
                      {
                        "bin_start": 5.4,
                        "bin_end": 7.699999999999999,
                        "count": 415
                      },
                      {
                        "bin_start": 7.699999999999999,
                        "bin_end": 10,
                        "count": 232
                      },
                      {
                        "bin_start": 10,
                        "bin_end": 12.299999999999999,
                        "count": 212
                      },
                      {
                        "bin_start": 12.299999999999999,
                        "bin_end": 14.6,
                        "count": 169
                      },
                      {
                        "bin_start": 14.6,
                        "bin_end": 16.9,
                        "count": 93
                      },
                      {
                        "bin_start": 16.9,
                        "bin_end": 19.2,
                        "count": 22
                      },
                      {
                        "bin_start": 19.2,
                        "bin_end": 21.5,
                        "count": 7
                      },
                      {
                        "bin_start": 21.5,
                        "bin_end": 23.8,
                        "count": 4
                      },
                      {
                        "bin_start": 23.8,
                        "bin_end": 26.1,
                        "count": 3
                      }
                    ]
                  }
                },
                {
                  "name": "wpgt",
                  "dtype": "float64"
                },
                {
                  "name": "pres",
                  "dtype": "float64"
                },
                {
                  "name": "tsun",
                  "dtype": "float64"
                },
                {
                  "name": "_deepnote_index_column",
                  "dtype": "datetime64[ns]"
                }
              ],
              "rows": [
                {
                  "tavg": 26.2,
                  "tmin": 24,
                  "tmax": 30,
                  "prcp": 2,
                  "snow": "nan",
                  "wdir": "nan",
                  "wspd": "nan",
                  "wpgt": "nan",
                  "pres": "nan",
                  "tsun": "nan",
                  "_deepnote_index_column": "1980-01-01 00:00:00"
                },
                {
                  "tavg": 27.8,
                  "tmin": "nan",
                  "tmax": 29,
                  "prcp": "nan",
                  "snow": "nan",
                  "wdir": "nan",
                  "wspd": "nan",
                  "wpgt": "nan",
                  "pres": "nan",
                  "tsun": "nan",
                  "_deepnote_index_column": "1980-01-02 00:00:00"
                },
                {
                  "tavg": 26.8,
                  "tmin": 24,
                  "tmax": 30,
                  "prcp": 0,
                  "snow": "nan",
                  "wdir": "nan",
                  "wspd": "nan",
                  "wpgt": "nan",
                  "pres": "nan",
                  "tsun": "nan",
                  "_deepnote_index_column": "1980-01-03 00:00:00"
                },
                {
                  "tavg": 27.6,
                  "tmin": "nan",
                  "tmax": 30,
                  "prcp": 0,
                  "snow": "nan",
                  "wdir": "nan",
                  "wspd": "nan",
                  "wpgt": "nan",
                  "pres": "nan",
                  "tsun": "nan",
                  "_deepnote_index_column": "1980-01-04 00:00:00"
                },
                {
                  "tavg": 26.2,
                  "tmin": 24,
                  "tmax": 30,
                  "prcp": 0,
                  "snow": "nan",
                  "wdir": "nan",
                  "wspd": "nan",
                  "wpgt": "nan",
                  "pres": "nan",
                  "tsun": "nan",
                  "_deepnote_index_column": "1980-01-05 00:00:00"
                },
                {
                  "tavg": 26.6,
                  "tmin": 24,
                  "tmax": 31,
                  "prcp": 0.5,
                  "snow": "nan",
                  "wdir": "nan",
                  "wspd": "nan",
                  "wpgt": "nan",
                  "pres": "nan",
                  "tsun": "nan",
                  "_deepnote_index_column": "1980-01-06 00:00:00"
                },
                {
                  "tavg": 26.9,
                  "tmin": 25,
                  "tmax": 31,
                  "prcp": 0,
                  "snow": "nan",
                  "wdir": "nan",
                  "wspd": "nan",
                  "wpgt": "nan",
                  "pres": "nan",
                  "tsun": "nan",
                  "_deepnote_index_column": "1980-01-07 00:00:00"
                },
                {
                  "tavg": 26.2,
                  "tmin": 24,
                  "tmax": 30,
                  "prcp": 0,
                  "snow": "nan",
                  "wdir": "nan",
                  "wspd": "nan",
                  "wpgt": "nan",
                  "pres": "nan",
                  "tsun": "nan",
                  "_deepnote_index_column": "1980-01-08 00:00:00"
                },
                {
                  "tavg": 27.3,
                  "tmin": 24,
                  "tmax": 30,
                  "prcp": 3,
                  "snow": "nan",
                  "wdir": "nan",
                  "wspd": "nan",
                  "wpgt": "nan",
                  "pres": "nan",
                  "tsun": "nan",
                  "_deepnote_index_column": "1980-01-09 00:00:00"
                },
                {
                  "tavg": 26,
                  "tmin": 25,
                  "tmax": 29,
                  "prcp": 0,
                  "snow": "nan",
                  "wdir": "nan",
                  "wspd": "nan",
                  "wpgt": "nan",
                  "pres": "nan",
                  "tsun": "nan",
                  "_deepnote_index_column": "1980-01-10 00:00:00"
                }
              ]
            },
            "text/plain": "            tavg  tmin  tmax  prcp  snow   wdir  wspd  wpgt    pres  tsun\ntime                                                                     \n1980-01-01  26.2  24.0  30.0   2.0   NaN    NaN   NaN   NaN     NaN   NaN\n1980-01-02  27.8   NaN  29.0   NaN   NaN    NaN   NaN   NaN     NaN   NaN\n1980-01-03  26.8  24.0  30.0   0.0   NaN    NaN   NaN   NaN     NaN   NaN\n1980-01-04  27.6   NaN  30.0   0.0   NaN    NaN   NaN   NaN     NaN   NaN\n1980-01-05  26.2  24.0  30.0   0.0   NaN    NaN   NaN   NaN     NaN   NaN\n...          ...   ...   ...   ...   ...    ...   ...   ...     ...   ...\n2024-12-27  26.7  23.9  30.5   0.0   NaN  229.0  11.2   NaN  1010.8   NaN\n2024-12-28  27.2  25.1  31.8   6.5   NaN  229.0  12.4   NaN  1010.1   NaN\n2024-12-29  26.0  24.3  29.2   2.3   NaN  239.0   9.7   NaN  1009.8   NaN\n2024-12-30  26.2  24.2  29.8  12.3   NaN  263.0  15.8   NaN  1009.8   NaN\n2024-12-31  26.6  24.1  30.9   4.8   NaN  123.0  14.3   NaN  1008.9   NaN\n\n[13941 rows x 10 columns]",
            "text/html": "<div>\n<style scoped>\n    .dataframe tbody tr th:only-of-type {\n        vertical-align: middle;\n    }\n\n    .dataframe tbody tr th {\n        vertical-align: top;\n    }\n\n    .dataframe thead th {\n        text-align: right;\n    }\n</style>\n<table border=\"1\" class=\"dataframe\">\n  <thead>\n    <tr style=\"text-align: right;\">\n      <th></th>\n      <th>tavg</th>\n      <th>tmin</th>\n      <th>tmax</th>\n      <th>prcp</th>\n      <th>snow</th>\n      <th>wdir</th>\n      <th>wspd</th>\n      <th>wpgt</th>\n      <th>pres</th>\n      <th>tsun</th>\n    </tr>\n    <tr>\n      <th>time</th>\n      <th></th>\n      <th></th>\n      <th></th>\n      <th></th>\n      <th></th>\n      <th></th>\n      <th></th>\n      <th></th>\n      <th></th>\n      <th></th>\n    </tr>\n  </thead>\n  <tbody>\n    <tr>\n      <th>1980-01-01</th>\n      <td>26.2</td>\n      <td>24.0</td>\n      <td>30.0</td>\n      <td>2.0</td>\n      <td>NaN</td>\n      <td>NaN</td>\n      <td>NaN</td>\n      <td>NaN</td>\n      <td>NaN</td>\n      <td>NaN</td>\n    </tr>\n    <tr>\n      <th>1980-01-02</th>\n      <td>27.8</td>\n      <td>NaN</td>\n      <td>29.0</td>\n      <td>NaN</td>\n      <td>NaN</td>\n      <td>NaN</td>\n      <td>NaN</td>\n      <td>NaN</td>\n      <td>NaN</td>\n      <td>NaN</td>\n    </tr>\n    <tr>\n      <th>1980-01-03</th>\n      <td>26.8</td>\n      <td>24.0</td>\n      <td>30.0</td>\n      <td>0.0</td>\n      <td>NaN</td>\n      <td>NaN</td>\n      <td>NaN</td>\n      <td>NaN</td>\n      <td>NaN</td>\n      <td>NaN</td>\n    </tr>\n    <tr>\n      <th>1980-01-04</th>\n      <td>27.6</td>\n      <td>NaN</td>\n      <td>30.0</td>\n      <td>0.0</td>\n      <td>NaN</td>\n      <td>NaN</td>\n      <td>NaN</td>\n      <td>NaN</td>\n      <td>NaN</td>\n      <td>NaN</td>\n    </tr>\n    <tr>\n      <th>1980-01-05</th>\n      <td>26.2</td>\n      <td>24.0</td>\n      <td>30.0</td>\n      <td>0.0</td>\n      <td>NaN</td>\n      <td>NaN</td>\n      <td>NaN</td>\n      <td>NaN</td>\n      <td>NaN</td>\n      <td>NaN</td>\n    </tr>\n    <tr>\n      <th>...</th>\n      <td>...</td>\n      <td>...</td>\n      <td>...</td>\n      <td>...</td>\n      <td>...</td>\n      <td>...</td>\n      <td>...</td>\n      <td>...</td>\n      <td>...</td>\n      <td>...</td>\n    </tr>\n    <tr>\n      <th>2024-12-27</th>\n      <td>26.7</td>\n      <td>23.9</td>\n      <td>30.5</td>\n      <td>0.0</td>\n      <td>NaN</td>\n      <td>229.0</td>\n      <td>11.2</td>\n      <td>NaN</td>\n      <td>1010.8</td>\n      <td>NaN</td>\n    </tr>\n    <tr>\n      <th>2024-12-28</th>\n      <td>27.2</td>\n      <td>25.1</td>\n      <td>31.8</td>\n      <td>6.5</td>\n      <td>NaN</td>\n      <td>229.0</td>\n      <td>12.4</td>\n      <td>NaN</td>\n      <td>1010.1</td>\n      <td>NaN</td>\n    </tr>\n    <tr>\n      <th>2024-12-29</th>\n      <td>26.0</td>\n      <td>24.3</td>\n      <td>29.2</td>\n      <td>2.3</td>\n      <td>NaN</td>\n      <td>239.0</td>\n      <td>9.7</td>\n      <td>NaN</td>\n      <td>1009.8</td>\n      <td>NaN</td>\n    </tr>\n    <tr>\n      <th>2024-12-30</th>\n      <td>26.2</td>\n      <td>24.2</td>\n      <td>29.8</td>\n      <td>12.3</td>\n      <td>NaN</td>\n      <td>263.0</td>\n      <td>15.8</td>\n      <td>NaN</td>\n      <td>1009.8</td>\n      <td>NaN</td>\n    </tr>\n    <tr>\n      <th>2024-12-31</th>\n      <td>26.6</td>\n      <td>24.1</td>\n      <td>30.9</td>\n      <td>4.8</td>\n      <td>NaN</td>\n      <td>123.0</td>\n      <td>14.3</td>\n      <td>NaN</td>\n      <td>1008.9</td>\n      <td>NaN</td>\n    </tr>\n  </tbody>\n</table>\n<p>13941 rows × 10 columns</p>\n</div>"
          },
          "metadata": {}
        }
      ],
      "outputs_reference": null,
      "execution_count": 4,
      "block_group": "bfdb6ce948504a538a00dcf9789d50d6",
      "content_dependencies": null
    },
    {
      "cell_type": "code",
      "source": "data.describe()",
      "metadata": {
        "source_hash": "d786443f",
        "execution_start": 1735967552015,
        "execution_millis": 0,
        "execution_context_id": "a8f1ea56-bbe5-48a0-855f-149b95c2e8c7",
        "cell_id": "41786ee89df546a7bfa16be24f10cf48",
        "deepnote_cell_type": "code"
      },
      "outputs": [
        {
          "output_type": "execute_result",
          "execution_count": 5,
          "data": {
            "application/vnd.deepnote.dataframe.v3+json": {
              "column_count": 10,
              "row_count": 8,
              "columns": [
                {
                  "name": "tavg",
                  "dtype": "float64",
                  "stats": {
                    "unique_count": 8,
                    "nan_count": 0,
                    "min": "1.0592758973373206",
                    "max": "13941.0",
                    "histogram": [
                      {
                        "bin_start": 1.0592758973373206,
                        "bin_end": 1395.0533483076035,
                        "count": 7
                      },
                      {
                        "bin_start": 1395.0533483076035,
                        "bin_end": 2789.0474207178695,
                        "count": 0
                      },
                      {
                        "bin_start": 2789.0474207178695,
                        "bin_end": 4183.041493128136,
                        "count": 0
                      },
                      {
                        "bin_start": 4183.041493128136,
                        "bin_end": 5577.035565538402,
                        "count": 0
                      },
                      {
                        "bin_start": 5577.035565538402,
                        "bin_end": 6971.029637948668,
                        "count": 0
                      },
                      {
                        "bin_start": 6971.029637948668,
                        "bin_end": 8365.023710358935,
                        "count": 0
                      },
                      {
                        "bin_start": 8365.023710358935,
                        "bin_end": 9759.0177827692,
                        "count": 0
                      },
                      {
                        "bin_start": 9759.0177827692,
                        "bin_end": 11153.011855179468,
                        "count": 0
                      },
                      {
                        "bin_start": 11153.011855179468,
                        "bin_end": 12547.005927589735,
                        "count": 0
                      },
                      {
                        "bin_start": 12547.005927589735,
                        "bin_end": 13941,
                        "count": 1
                      }
                    ]
                  }
                },
                {
                  "name": "tmin",
                  "dtype": "float64",
                  "stats": {
                    "unique_count": 8,
                    "nan_count": 0,
                    "min": "1.185012452844135",
                    "max": "9421.0",
                    "histogram": [
                      {
                        "bin_start": 1.185012452844135,
                        "bin_end": 943.1665112075597,
                        "count": 7
                      },
                      {
                        "bin_start": 943.1665112075597,
                        "bin_end": 1885.1480099622752,
                        "count": 0
                      },
                      {
                        "bin_start": 1885.1480099622752,
                        "bin_end": 2827.1295087169906,
                        "count": 0
                      },
                      {
                        "bin_start": 2827.1295087169906,
                        "bin_end": 3769.111007471706,
                        "count": 0
                      },
                      {
                        "bin_start": 3769.111007471706,
                        "bin_end": 4711.092506226421,
                        "count": 0
                      },
                      {
                        "bin_start": 4711.092506226421,
                        "bin_end": 5653.074004981137,
                        "count": 0
                      },
                      {
                        "bin_start": 5653.074004981137,
                        "bin_end": 6595.055503735853,
                        "count": 0
                      },
                      {
                        "bin_start": 6595.055503735853,
                        "bin_end": 7537.037002490568,
                        "count": 0
                      },
                      {
                        "bin_start": 7537.037002490568,
                        "bin_end": 8479.018501245284,
                        "count": 0
                      },
                      {
                        "bin_start": 8479.018501245284,
                        "bin_end": 9421,
                        "count": 1
                      }
                    ]
                  }
                },
                {
                  "name": "tmax",
                  "dtype": "float64",
                  "stats": {
                    "unique_count": 8,
                    "nan_count": 0,
                    "min": "1.2728433420768794",
                    "max": "10480.0",
                    "histogram": [
                      {
                        "bin_start": 1.2728433420768794,
                        "bin_end": 1049.1455590078692,
                        "count": 7
                      },
                      {
                        "bin_start": 1049.1455590078692,
                        "bin_end": 2097.018274673662,
                        "count": 0
                      },
                      {
                        "bin_start": 2097.018274673662,
                        "bin_end": 3144.890990339454,
                        "count": 0
                      },
                      {
                        "bin_start": 3144.890990339454,
                        "bin_end": 4192.763706005247,
                        "count": 0
                      },
                      {
                        "bin_start": 4192.763706005247,
                        "bin_end": 5240.636421671039,
                        "count": 0
                      },
                      {
                        "bin_start": 5240.636421671039,
                        "bin_end": 6288.509137336831,
                        "count": 0
                      },
                      {
                        "bin_start": 6288.509137336831,
                        "bin_end": 7336.381853002624,
                        "count": 0
                      },
                      {
                        "bin_start": 7336.381853002624,
                        "bin_end": 8384.254568668415,
                        "count": 0
                      },
                      {
                        "bin_start": 8384.254568668415,
                        "bin_end": 9432.127284334207,
                        "count": 0
                      },
                      {
                        "bin_start": 9432.127284334207,
                        "bin_end": 10480,
                        "count": 1
                      }
                    ]
                  }
                },
                {
                  "name": "prcp",
                  "dtype": "float64",
                  "stats": {
                    "unique_count": 6,
                    "nan_count": 0,
                    "min": "0.0",
                    "max": "4239.0",
                    "histogram": [
                      {
                        "bin_start": 0,
                        "bin_end": 423.9,
                        "count": 7
                      },
                      {
                        "bin_start": 423.9,
                        "bin_end": 847.8,
                        "count": 0
                      },
                      {
                        "bin_start": 847.8,
                        "bin_end": 1271.6999999999998,
                        "count": 0
                      },
                      {
                        "bin_start": 1271.6999999999998,
                        "bin_end": 1695.6,
                        "count": 0
                      },
                      {
                        "bin_start": 1695.6,
                        "bin_end": 2119.5,
                        "count": 0
                      },
                      {
                        "bin_start": 2119.5,
                        "bin_end": 2543.3999999999996,
                        "count": 0
                      },
                      {
                        "bin_start": 2543.3999999999996,
                        "bin_end": 2967.2999999999997,
                        "count": 0
                      },
                      {
                        "bin_start": 2967.2999999999997,
                        "bin_end": 3391.2,
                        "count": 0
                      },
                      {
                        "bin_start": 3391.2,
                        "bin_end": 3815.1,
                        "count": 0
                      },
                      {
                        "bin_start": 3815.1,
                        "bin_end": 4239,
                        "count": 1
                      }
                    ]
                  }
                },
                {
                  "name": "snow",
                  "dtype": "float64",
                  "stats": {
                    "unique_count": 1,
                    "nan_count": 7,
                    "min": "0.0",
                    "max": "0.0",
                    "histogram": [
                      {
                        "bin_start": -0.5,
                        "bin_end": -0.4,
                        "count": 0
                      },
                      {
                        "bin_start": -0.4,
                        "bin_end": -0.3,
                        "count": 0
                      },
                      {
                        "bin_start": -0.3,
                        "bin_end": -0.19999999999999996,
                        "count": 0
                      },
                      {
                        "bin_start": -0.19999999999999996,
                        "bin_end": -0.09999999999999998,
                        "count": 0
                      },
                      {
                        "bin_start": -0.09999999999999998,
                        "bin_end": 0,
                        "count": 0
                      },
                      {
                        "bin_start": 0,
                        "bin_end": 0.10000000000000009,
                        "count": 1
                      },
                      {
                        "bin_start": 0.10000000000000009,
                        "bin_end": 0.20000000000000007,
                        "count": 0
                      },
                      {
                        "bin_start": 0.20000000000000007,
                        "bin_end": 0.30000000000000004,
                        "count": 0
                      },
                      {
                        "bin_start": 0.30000000000000004,
                        "bin_end": 0.4,
                        "count": 0
                      },
                      {
                        "bin_start": 0.4,
                        "bin_end": 0.5,
                        "count": 0
                      }
                    ]
                  }
                },
                {
                  "name": "wdir",
                  "dtype": "float64",
                  "stats": {
                    "unique_count": 8,
                    "nan_count": 0,
                    "min": "1.0",
                    "max": "1447.0",
                    "histogram": [
                      {
                        "bin_start": 1,
                        "bin_end": 145.6,
                        "count": 2
                      },
                      {
                        "bin_start": 145.6,
                        "bin_end": 290.2,
                        "count": 4
                      },
                      {
                        "bin_start": 290.2,
                        "bin_end": 434.79999999999995,
                        "count": 1
                      },
                      {
                        "bin_start": 434.79999999999995,
                        "bin_end": 579.4,
                        "count": 0
                      },
                      {
                        "bin_start": 579.4,
                        "bin_end": 724,
                        "count": 0
                      },
                      {
                        "bin_start": 724,
                        "bin_end": 868.5999999999999,
                        "count": 0
                      },
                      {
                        "bin_start": 868.5999999999999,
                        "bin_end": 1013.1999999999999,
                        "count": 0
                      },
                      {
                        "bin_start": 1013.1999999999999,
                        "bin_end": 1157.8,
                        "count": 0
                      },
                      {
                        "bin_start": 1157.8,
                        "bin_end": 1302.3999999999999,
                        "count": 0
                      },
                      {
                        "bin_start": 1302.3999999999999,
                        "bin_end": 1447,
                        "count": 1
                      }
                    ]
                  }
                },
                {
                  "name": "wspd",
                  "dtype": "float64",
                  "stats": {
                    "unique_count": 8,
                    "nan_count": 0,
                    "min": "3.1",
                    "max": "1447.0",
                    "histogram": [
                      {
                        "bin_start": 3.1,
                        "bin_end": 147.49,
                        "count": 7
                      },
                      {
                        "bin_start": 147.49,
                        "bin_end": 291.88000000000005,
                        "count": 0
                      },
                      {
                        "bin_start": 291.88000000000005,
                        "bin_end": 436.2700000000001,
                        "count": 0
                      },
                      {
                        "bin_start": 436.2700000000001,
                        "bin_end": 580.6600000000001,
                        "count": 0
                      },
                      {
                        "bin_start": 580.6600000000001,
                        "bin_end": 725.0500000000001,
                        "count": 0
                      },
                      {
                        "bin_start": 725.0500000000001,
                        "bin_end": 869.4400000000002,
                        "count": 0
                      },
                      {
                        "bin_start": 869.4400000000002,
                        "bin_end": 1013.8300000000002,
                        "count": 0
                      },
                      {
                        "bin_start": 1013.8300000000002,
                        "bin_end": 1158.22,
                        "count": 0
                      },
                      {
                        "bin_start": 1158.22,
                        "bin_end": 1302.6100000000001,
                        "count": 0
                      },
                      {
                        "bin_start": 1302.6100000000001,
                        "bin_end": 1447,
                        "count": 1
                      }
                    ]
                  }
                },
                {
                  "name": "wpgt",
                  "dtype": "float64",
                  "stats": {
                    "unique_count": 1,
                    "nan_count": 7,
                    "min": "0.0",
                    "max": "0.0",
                    "histogram": [
                      {
                        "bin_start": -0.5,
                        "bin_end": -0.4,
                        "count": 0
                      },
                      {
                        "bin_start": -0.4,
                        "bin_end": -0.3,
                        "count": 0
                      },
                      {
                        "bin_start": -0.3,
                        "bin_end": -0.19999999999999996,
                        "count": 0
                      },
                      {
                        "bin_start": -0.19999999999999996,
                        "bin_end": -0.09999999999999998,
                        "count": 0
                      },
                      {
                        "bin_start": -0.09999999999999998,
                        "bin_end": 0,
                        "count": 0
                      },
                      {
                        "bin_start": 0,
                        "bin_end": 0.10000000000000009,
                        "count": 1
                      },
                      {
                        "bin_start": 0.10000000000000009,
                        "bin_end": 0.20000000000000007,
                        "count": 0
                      },
                      {
                        "bin_start": 0.20000000000000007,
                        "bin_end": 0.30000000000000004,
                        "count": 0
                      },
                      {
                        "bin_start": 0.30000000000000004,
                        "bin_end": 0.4,
                        "count": 0
                      },
                      {
                        "bin_start": 0.4,
                        "bin_end": 0.5,
                        "count": 0
                      }
                    ]
                  }
                },
                {
                  "name": "pres",
                  "dtype": "float64",
                  "stats": {
                    "unique_count": 8,
                    "nan_count": 0,
                    "min": "1.3608538020938314",
                    "max": "1447.0",
                    "histogram": [
                      {
                        "bin_start": 1.3608538020938314,
                        "bin_end": 145.92476842188447,
                        "count": 1
                      },
                      {
                        "bin_start": 145.92476842188447,
                        "bin_end": 290.48868304167513,
                        "count": 0
                      },
                      {
                        "bin_start": 290.48868304167513,
                        "bin_end": 435.05259766146577,
                        "count": 0
                      },
                      {
                        "bin_start": 435.05259766146577,
                        "bin_end": 579.6165122812564,
                        "count": 0
                      },
                      {
                        "bin_start": 579.6165122812564,
                        "bin_end": 724.1804269010471,
                        "count": 0
                      },
                      {
                        "bin_start": 724.1804269010471,
                        "bin_end": 868.7443415208377,
                        "count": 0
                      },
                      {
                        "bin_start": 868.7443415208377,
                        "bin_end": 1013.3082561406283,
                        "count": 5
                      },
                      {
                        "bin_start": 1013.3082561406283,
                        "bin_end": 1157.8721707604188,
                        "count": 1
                      },
                      {
                        "bin_start": 1157.8721707604188,
                        "bin_end": 1302.4360853802095,
                        "count": 0
                      },
                      {
                        "bin_start": 1302.4360853802095,
                        "bin_end": 1447,
                        "count": 1
                      }
                    ]
                  }
                },
                {
                  "name": "tsun",
                  "dtype": "float64",
                  "stats": {
                    "unique_count": 1,
                    "nan_count": 7,
                    "min": "0.0",
                    "max": "0.0",
                    "histogram": [
                      {
                        "bin_start": -0.5,
                        "bin_end": -0.4,
                        "count": 0
                      },
                      {
                        "bin_start": -0.4,
                        "bin_end": -0.3,
                        "count": 0
                      },
                      {
                        "bin_start": -0.3,
                        "bin_end": -0.19999999999999996,
                        "count": 0
                      },
                      {
                        "bin_start": -0.19999999999999996,
                        "bin_end": -0.09999999999999998,
                        "count": 0
                      },
                      {
                        "bin_start": -0.09999999999999998,
                        "bin_end": 0,
                        "count": 0
                      },
                      {
                        "bin_start": 0,
                        "bin_end": 0.10000000000000009,
                        "count": 1
                      },
                      {
                        "bin_start": 0.10000000000000009,
                        "bin_end": 0.20000000000000007,
                        "count": 0
                      },
                      {
                        "bin_start": 0.20000000000000007,
                        "bin_end": 0.30000000000000004,
                        "count": 0
                      },
                      {
                        "bin_start": 0.30000000000000004,
                        "bin_end": 0.4,
                        "count": 0
                      },
                      {
                        "bin_start": 0.4,
                        "bin_end": 0.5,
                        "count": 0
                      }
                    ]
                  }
                },
                {
                  "name": "_deepnote_index_column",
                  "dtype": "object"
                }
              ],
              "rows": [
                {
                  "tavg": 13941,
                  "tmin": 9421,
                  "tmax": 10480,
                  "prcp": 4239,
                  "snow": 0,
                  "wdir": 1447,
                  "wspd": 1447,
                  "wpgt": 0,
                  "pres": 1447,
                  "tsun": 0,
                  "_deepnote_index_column": "count"
                },
                {
                  "tavg": 27.52527795710494,
                  "tmin": 24.008258146693557,
                  "tmax": 31.77314885496183,
                  "prcp": 3.962255248879453,
                  "snow": "nan",
                  "wdir": 224.3814789219074,
                  "wspd": 8.825017277125086,
                  "wpgt": "nan",
                  "pres": 1009.9198341395992,
                  "tsun": "nan",
                  "_deepnote_index_column": "mean"
                },
                {
                  "tavg": 1.0592758973373206,
                  "tmin": 1.185012452844135,
                  "tmax": 1.2728433420768794,
                  "prcp": 11.801293720121322,
                  "snow": "nan",
                  "wdir": 71.00752606379571,
                  "wspd": 3.8020390516932263,
                  "wpgt": "nan",
                  "pres": 1.3608538020938314,
                  "tsun": "nan",
                  "_deepnote_index_column": "std"
                },
                {
                  "tavg": 22.5,
                  "tmin": 12.4,
                  "tmax": 26,
                  "prcp": 0,
                  "snow": "nan",
                  "wdir": 1,
                  "wspd": 3.1,
                  "wpgt": "nan",
                  "pres": 1006.1,
                  "tsun": "nan",
                  "_deepnote_index_column": "min"
                },
                {
                  "tavg": 26.8,
                  "tmin": 23.3,
                  "tmax": 31,
                  "prcp": 0,
                  "snow": "nan",
                  "wdir": 200,
                  "wspd": 5.6,
                  "wpgt": "nan",
                  "pres": 1008.95,
                  "tsun": "nan",
                  "_deepnote_index_column": "25%"
                },
                {
                  "tavg": 27.6,
                  "tmin": 24,
                  "tmax": 31.8,
                  "prcp": 0,
                  "snow": "nan",
                  "wdir": 243,
                  "wspd": 7.9,
                  "wpgt": "nan",
                  "pres": 1010,
                  "tsun": "nan",
                  "_deepnote_index_column": "50%"
                },
                {
                  "tavg": 28.3,
                  "tmin": 24.8,
                  "tmax": 32.6,
                  "prcp": 3,
                  "snow": "nan",
                  "wdir": 271,
                  "wspd": 11.4,
                  "wpgt": "nan",
                  "pres": 1010.9,
                  "tsun": "nan",
                  "_deepnote_index_column": "75%"
                },
                {
                  "tavg": 31.4,
                  "tmin": 27.2,
                  "tmax": 42.4,
                  "prcp": 279.9,
                  "snow": "nan",
                  "wdir": 359,
                  "wspd": 26.1,
                  "wpgt": "nan",
                  "pres": 1014.3,
                  "tsun": "nan",
                  "_deepnote_index_column": "max"
                }
              ]
            },
            "text/plain": "               tavg         tmin          tmax         prcp  snow  \\\ncount  13941.000000  9421.000000  10480.000000  4239.000000   0.0   \nmean      27.525278    24.008258     31.773149     3.962255   NaN   \nstd        1.059276     1.185012      1.272843    11.801294   NaN   \nmin       22.500000    12.400000     26.000000     0.000000   NaN   \n25%       26.800000    23.300000     31.000000     0.000000   NaN   \n50%       27.600000    24.000000     31.800000     0.000000   NaN   \n75%       28.300000    24.800000     32.600000     3.000000   NaN   \nmax       31.400000    27.200000     42.400000   279.900000   NaN   \n\n              wdir         wspd  wpgt         pres  tsun  \ncount  1447.000000  1447.000000   0.0  1447.000000   0.0  \nmean    224.381479     8.825017   NaN  1009.919834   NaN  \nstd      71.007526     3.802039   NaN     1.360854   NaN  \nmin       1.000000     3.100000   NaN  1006.100000   NaN  \n25%     200.000000     5.600000   NaN  1008.950000   NaN  \n50%     243.000000     7.900000   NaN  1010.000000   NaN  \n75%     271.000000    11.400000   NaN  1010.900000   NaN  \nmax     359.000000    26.100000   NaN  1014.300000   NaN  ",
            "text/html": "<div>\n<style scoped>\n    .dataframe tbody tr th:only-of-type {\n        vertical-align: middle;\n    }\n\n    .dataframe tbody tr th {\n        vertical-align: top;\n    }\n\n    .dataframe thead th {\n        text-align: right;\n    }\n</style>\n<table border=\"1\" class=\"dataframe\">\n  <thead>\n    <tr style=\"text-align: right;\">\n      <th></th>\n      <th>tavg</th>\n      <th>tmin</th>\n      <th>tmax</th>\n      <th>prcp</th>\n      <th>snow</th>\n      <th>wdir</th>\n      <th>wspd</th>\n      <th>wpgt</th>\n      <th>pres</th>\n      <th>tsun</th>\n    </tr>\n  </thead>\n  <tbody>\n    <tr>\n      <th>count</th>\n      <td>13941.000000</td>\n      <td>9421.000000</td>\n      <td>10480.000000</td>\n      <td>4239.000000</td>\n      <td>0.0</td>\n      <td>1447.000000</td>\n      <td>1447.000000</td>\n      <td>0.0</td>\n      <td>1447.000000</td>\n      <td>0.0</td>\n    </tr>\n    <tr>\n      <th>mean</th>\n      <td>27.525278</td>\n      <td>24.008258</td>\n      <td>31.773149</td>\n      <td>3.962255</td>\n      <td>NaN</td>\n      <td>224.381479</td>\n      <td>8.825017</td>\n      <td>NaN</td>\n      <td>1009.919834</td>\n      <td>NaN</td>\n    </tr>\n    <tr>\n      <th>std</th>\n      <td>1.059276</td>\n      <td>1.185012</td>\n      <td>1.272843</td>\n      <td>11.801294</td>\n      <td>NaN</td>\n      <td>71.007526</td>\n      <td>3.802039</td>\n      <td>NaN</td>\n      <td>1.360854</td>\n      <td>NaN</td>\n    </tr>\n    <tr>\n      <th>min</th>\n      <td>22.500000</td>\n      <td>12.400000</td>\n      <td>26.000000</td>\n      <td>0.000000</td>\n      <td>NaN</td>\n      <td>1.000000</td>\n      <td>3.100000</td>\n      <td>NaN</td>\n      <td>1006.100000</td>\n      <td>NaN</td>\n    </tr>\n    <tr>\n      <th>25%</th>\n      <td>26.800000</td>\n      <td>23.300000</td>\n      <td>31.000000</td>\n      <td>0.000000</td>\n      <td>NaN</td>\n      <td>200.000000</td>\n      <td>5.600000</td>\n      <td>NaN</td>\n      <td>1008.950000</td>\n      <td>NaN</td>\n    </tr>\n    <tr>\n      <th>50%</th>\n      <td>27.600000</td>\n      <td>24.000000</td>\n      <td>31.800000</td>\n      <td>0.000000</td>\n      <td>NaN</td>\n      <td>243.000000</td>\n      <td>7.900000</td>\n      <td>NaN</td>\n      <td>1010.000000</td>\n      <td>NaN</td>\n    </tr>\n    <tr>\n      <th>75%</th>\n      <td>28.300000</td>\n      <td>24.800000</td>\n      <td>32.600000</td>\n      <td>3.000000</td>\n      <td>NaN</td>\n      <td>271.000000</td>\n      <td>11.400000</td>\n      <td>NaN</td>\n      <td>1010.900000</td>\n      <td>NaN</td>\n    </tr>\n    <tr>\n      <th>max</th>\n      <td>31.400000</td>\n      <td>27.200000</td>\n      <td>42.400000</td>\n      <td>279.900000</td>\n      <td>NaN</td>\n      <td>359.000000</td>\n      <td>26.100000</td>\n      <td>NaN</td>\n      <td>1014.300000</td>\n      <td>NaN</td>\n    </tr>\n  </tbody>\n</table>\n</div>"
          },
          "metadata": {}
        }
      ],
      "outputs_reference": null,
      "execution_count": 5,
      "block_group": "f74f8cfa62ee4dcc9b5034b999c13524",
      "content_dependencies": null
    },
    {
      "cell_type": "code",
      "source": "\n\n# Plot line chart\ndata.plot(y=['tavg', 'tmin', 'tmax','prcp'], subplots=True, figsize=(10, 15))\nplt.show()",
      "metadata": {
        "source_hash": "ca5997b8",
        "execution_start": 1735967552066,
        "execution_millis": 1345,
        "execution_context_id": "a8f1ea56-bbe5-48a0-855f-149b95c2e8c7",
        "cell_id": "eaa80e7972a64071b7c9e080eba5ee56",
        "deepnote_cell_type": "code"
      },
      "outputs": [
        {
          "data": {
            "text/plain": "<Figure size 1000x1500 with 4 Axes>",
            "image/png": "[encoded data removed]"
          },
          "metadata": {
            "image/png": {
              "width": 835,
              "height": 1099
            }
          },
          "output_type": "display_data"
        }
      ],
      "outputs_reference": null,
      "execution_count": 6,
      "block_group": "109d5305802d42c3b31ca507b6942433",
      "content_dependencies": null
    },
    {
      "cell_type": "code",
      "source": "",
      "metadata": {
        "source_hash": "b623e53d",
        "execution_start": 1735967553459,
        "execution_millis": 0,
        "execution_context_id": "a8f1ea56-bbe5-48a0-855f-149b95c2e8c7",
        "cell_id": "41fbc88d74184e7e9e3a9e568f5ad804",
        "deepnote_cell_type": "code"
      },
      "outputs": [],
      "outputs_reference": null,
      "execution_count": 7,
      "block_group": "b519a60d2c9e4abcb19339d44ecd231d",
      "content_dependencies": null
    },
    {
      "cell_type": "markdown",
      "source": "<a style='text-decoration:none;line-height:16px;display:flex;color:#5B5B62;padding:10px;justify-content:end;' href='https://deepnote.com?utm_source=created-in-deepnote-cell&projectId=200afad5-8991-4e20-8a55-8751c7aff3b5' target=\"_blank\">\n<img alt='Created in deepnote.com' style='display:inline;max-height:16px;margin:0px;margin-right:7.5px;' src='data:image/svg+xml;base64,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' > </img>\nCreated in <span style='font-weight:600;margin-left:4px;'>Deepnote</span></a>",
      "metadata": {
        "created_in_deepnote_cell": true,
        "deepnote_cell_type": "markdown"
      }
    }
  ],
  "nbformat": 4,
  "nbformat_minor": 0,
  "metadata": {
    "deepnote_notebook_id": "f1ae081b29a2481280fa43fafc1c0b7e"
  }
}