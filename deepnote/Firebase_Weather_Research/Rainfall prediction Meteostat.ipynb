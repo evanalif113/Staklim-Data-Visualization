{
  "cells": [
    {
      "cell_type": "code",
      "source": "from datetime import datetime\nimport matplotlib.pyplot as plt\nfrom meteostat import Stations, Daily, Hourly",
      "metadata": {
        "source_hash": "3e685933",
        "execution_start": 1735987679066,
        "execution_millis": 301,
        "execution_context_id": "cc640473-c991-4558-a0ec-8108eb22398b",
        "cell_id": "b3d7d7cdc5414391ad9c226ff1b04fc9",
        "deepnote_cell_type": "code"
      },
      "outputs": [],
      "outputs_reference": null,
      "execution_count": 1,
      "block_group": "b3d7d7cdc5414391ad9c226ff1b04fc9",
      "content_dependencies": null
    },
    {
      "cell_type": "code",
      "source": "# Set time period\nstart = datetime(2014, 1, 1)\nend = datetime(2024, 12, 31)",
      "metadata": {
        "source_hash": "3a13e973",
        "execution_start": 1735987679414,
        "execution_millis": 1,
        "execution_context_id": "c9f404e7-dc73-42d6-94ce-ee26c6a47b46",
        "cell_id": "1ae5272e7b514837a1bee7af24b5122c",
        "deepnote_cell_type": "code"
      },
      "outputs": [],
      "outputs_reference": null,
      "execution_count": 2,
      "block_group": "731bdf1aa94a48d298478480f5b03ccf",
      "content_dependencies": null
    },
    {
      "cell_type": "code",
      "source": "# Get daily data\ndata = Hourly('96805', start, end)\ndata = data.fetch()",
      "metadata": {
        "source_hash": "91de5d36",
        "execution_start": 1735987679466,
        "execution_millis": 1,
        "execution_context_id": "e22b19b4-7046-4aca-b90b-f4060b366136",
        "cell_id": "9a02e629c6bf4da6bd1a3f78d285e00e",
        "deepnote_cell_type": "code"
      },
      "outputs": [],
      "outputs_reference": null,
      "execution_count": 3,
      "block_group": "806b7fb4e16e41488a0976beefa7158a",
      "content_dependencies": null
    },
    {
      "cell_type": "code",
      "source": "data",
      "metadata": {
        "source_hash": "6dc26197",
        "execution_start": 1735987679519,
        "execution_millis": 0,
        "deepnote_table_state": {
          "sortBy": [],
          "filters": [],
          "pageSize": 10,
          "pageIndex": 12903,
          "columnOrder": [
            "temp",
            "dwpt",
            "rhum",
            "prcp",
            "snow",
            "wdir",
            "wspd",
            "wpgt",
            "pres",
            "tsun",
            "coco"
          ],
          "hiddenColumnIds": [],
          "columnDisplayNames": [],
          "conditionalFilters": [],
          "cellFormattingRules": [],
          "wrappedTextColumnIds": []
        },
        "execution_context_id": "a06c4c24-c6ff-4a93-96d3-22d8895ea17f",
        "deepnote_table_loading": false,
        "cell_id": "0f084dc7d1394d5c9c89e92648e76e61",
        "deepnote_cell_type": "code"
      },
      "outputs": [
        {
          "output_type": "execute_result",
          "execution_count": 4,
          "data": {
            "application/vnd.deepnote.dataframe.v3+json": {
              "column_count": 11,
              "row_count": 55020,
              "columns": [
                {
                  "name": "temp",
                  "dtype": "float64",
                  "stats": {
                    "unique_count": 143,
                    "nan_count": 26,
                    "min": "15.4",
                    "max": "35.7",
                    "histogram": [
                      {
                        "bin_start": 15.4,
                        "bin_end": 17.43,
                        "count": 2
                      },
                      {
                        "bin_start": 17.43,
                        "bin_end": 19.46,
                        "count": 0
                      },
                      {
                        "bin_start": 19.46,
                        "bin_end": 21.490000000000002,
                        "count": 56
                      },
                      {
                        "bin_start": 21.490000000000002,
                        "bin_end": 23.520000000000003,
                        "count": 1257
                      },
                      {
                        "bin_start": 23.520000000000003,
                        "bin_end": 25.550000000000004,
                        "count": 15145
                      },
                      {
                        "bin_start": 25.550000000000004,
                        "bin_end": 27.580000000000002,
                        "count": 20133
                      },
                      {
                        "bin_start": 27.580000000000002,
                        "bin_end": 29.61,
                        "count": 12134
                      },
                      {
                        "bin_start": 29.61,
                        "bin_end": 31.64,
                        "count": 5337
                      },
                      {
                        "bin_start": 31.64,
                        "bin_end": 33.67,
                        "count": 913
                      },
                      {
                        "bin_start": 33.67,
                        "bin_end": 35.7,
                        "count": 17
                      }
                    ]
                  }
                },
                {
                  "name": "dwpt",
                  "dtype": "float64"
                },
                {
                  "name": "rhum",
                  "dtype": "float64"
                },
                {
                  "name": "prcp",
                  "dtype": "float64"
                },
                {
                  "name": "snow",
                  "dtype": "float64"
                },
                {
                  "name": "wdir",
                  "dtype": "float64"
                },
                {
                  "name": "wspd",
                  "dtype": "float64"
                },
                {
                  "name": "wpgt",
                  "dtype": "float64"
                },
                {
                  "name": "pres",
                  "dtype": "float64"
                },
                {
                  "name": "tsun",
                  "dtype": "float64"
                },
                {
                  "name": "coco",
                  "dtype": "float64"
                },
                {
                  "name": "_deepnote_index_column",
                  "dtype": "datetime64[ns]"
                }
              ],
              "rows": [
                {
                  "temp": 25.2,
                  "dwpt": 24.3,
                  "rhum": 95,
                  "prcp": "nan",
                  "snow": "nan",
                  "wdir": 360,
                  "wspd": 0,
                  "wpgt": "nan",
                  "pres": 1012.1,
                  "tsun": "nan",
                  "coco": "nan",
                  "_deepnote_index_column": "2014-01-01 00:00:00"
                },
                {
                  "temp": 26.2,
                  "dwpt": 25,
                  "rhum": 93,
                  "prcp": "nan",
                  "snow": "nan",
                  "wdir": 360,
                  "wspd": 0,
                  "wpgt": "nan",
                  "pres": 1013.5,
                  "tsun": "nan",
                  "coco": "nan",
                  "_deepnote_index_column": "2014-01-01 03:00:00"
                },
                {
                  "temp": 27.2,
                  "dwpt": 24.7,
                  "rhum": 86,
                  "prcp": "nan",
                  "snow": "nan",
                  "wdir": 360,
                  "wspd": 0,
                  "wpgt": "nan",
                  "pres": 1012.1,
                  "tsun": "nan",
                  "coco": "nan",
                  "_deepnote_index_column": "2014-01-01 06:00:00"
                },
                {
                  "temp": 27.9,
                  "dwpt": 24.3,
                  "rhum": 81,
                  "prcp": "nan",
                  "snow": "nan",
                  "wdir": 120,
                  "wspd": 5.4,
                  "wpgt": "nan",
                  "pres": 1010.4,
                  "tsun": "nan",
                  "coco": "nan",
                  "_deepnote_index_column": "2014-01-01 09:00:00"
                },
                {
                  "temp": 26.8,
                  "dwpt": 24.6,
                  "rhum": 88,
                  "prcp": "nan",
                  "snow": "nan",
                  "wdir": 360,
                  "wspd": 0,
                  "wpgt": "nan",
                  "pres": 1012,
                  "tsun": "nan",
                  "coco": "nan",
                  "_deepnote_index_column": "2014-01-01 12:00:00"
                },
                {
                  "temp": 26.2,
                  "dwpt": 24.6,
                  "rhum": 91,
                  "prcp": "nan",
                  "snow": "nan",
                  "wdir": 360,
                  "wspd": 0,
                  "wpgt": "nan",
                  "pres": 1013.2,
                  "tsun": "nan",
                  "coco": "nan",
                  "_deepnote_index_column": "2014-01-01 15:00:00"
                },
                {
                  "temp": 25.2,
                  "dwpt": 23.6,
                  "rhum": 91,
                  "prcp": "nan",
                  "snow": "nan",
                  "wdir": 360,
                  "wspd": 0,
                  "wpgt": "nan",
                  "pres": 1012,
                  "tsun": "nan",
                  "coco": "nan",
                  "_deepnote_index_column": "2014-01-01 18:00:00"
                },
                {
                  "temp": 25,
                  "dwpt": 24.1,
                  "rhum": 95,
                  "prcp": "nan",
                  "snow": "nan",
                  "wdir": 360,
                  "wspd": 0,
                  "wpgt": "nan",
                  "pres": 1011.5,
                  "tsun": "nan",
                  "coco": "nan",
                  "_deepnote_index_column": "2014-01-01 21:00:00"
                },
                {
                  "temp": 25.4,
                  "dwpt": 24.2,
                  "rhum": 93,
                  "prcp": "nan",
                  "snow": "nan",
                  "wdir": 360,
                  "wspd": 0,
                  "wpgt": "nan",
                  "pres": 1012.6,
                  "tsun": "nan",
                  "coco": "nan",
                  "_deepnote_index_column": "2014-01-02 00:00:00"
                },
                {
                  "temp": 29.6,
                  "dwpt": 24,
                  "rhum": 72,
                  "prcp": "nan",
                  "snow": "nan",
                  "wdir": 360,
                  "wspd": 0,
                  "wpgt": "nan",
                  "pres": 1012.7,
                  "tsun": "nan",
                  "coco": "nan",
                  "_deepnote_index_column": "2014-01-02 03:00:00"
                }
              ]
            },
            "text/plain": "                     temp  dwpt  rhum  prcp  snow   wdir  wspd  wpgt    pres  \\\ntime                                                                           \n2014-01-01 00:00:00  25.2  24.3  95.0   NaN   NaN  360.0   0.0   NaN  1012.1   \n2014-01-01 03:00:00  26.2  25.0  93.0   NaN   NaN  360.0   0.0   NaN  1013.5   \n2014-01-01 06:00:00  27.2  24.7  86.0   NaN   NaN  360.0   0.0   NaN  1012.1   \n2014-01-01 09:00:00  27.9  24.3  81.0   NaN   NaN  120.0   5.4   NaN  1010.4   \n2014-01-01 12:00:00  26.8  24.6  88.0   NaN   NaN  360.0   0.0   NaN  1012.0   \n...                   ...   ...   ...   ...   ...    ...   ...   ...     ...   \n2024-12-30 20:00:00  24.3  23.8  97.0   0.0   NaN   10.0  19.1   NaN  1007.9   \n2024-12-30 21:00:00  23.9  23.6  98.0   0.0   NaN    8.0  16.6   NaN  1008.1   \n2024-12-30 22:00:00  24.0  23.7  98.0   0.0   NaN   41.0  15.1   NaN  1008.4   \n2024-12-30 23:00:00  24.4  24.1  98.0   0.0   NaN   34.0  16.9   NaN  1008.9   \n2024-12-31 00:00:00  25.5  24.3  93.0   0.0   NaN   15.0  18.0   NaN  1009.2   \n\n                     tsun  coco  \ntime                             \n2014-01-01 00:00:00   NaN   NaN  \n2014-01-01 03:00:00   NaN   NaN  \n2014-01-01 06:00:00   NaN   NaN  \n2014-01-01 09:00:00   NaN   NaN  \n2014-01-01 12:00:00   NaN   NaN  \n...                   ...   ...  \n2024-12-30 20:00:00   NaN   3.0  \n2024-12-30 21:00:00   NaN   5.0  \n2024-12-30 22:00:00   NaN   5.0  \n2024-12-30 23:00:00   NaN   5.0  \n2024-12-31 00:00:00   NaN   5.0  \n\n[55020 rows x 11 columns]",
            "text/html": "<div>\n<style scoped>\n    .dataframe tbody tr th:only-of-type {\n        vertical-align: middle;\n    }\n\n    .dataframe tbody tr th {\n        vertical-align: top;\n    }\n\n    .dataframe thead th {\n        text-align: right;\n    }\n</style>\n<table border=\"1\" class=\"dataframe\">\n  <thead>\n    <tr style=\"text-align: right;\">\n      <th></th>\n      <th>temp</th>\n      <th>dwpt</th>\n      <th>rhum</th>\n      <th>prcp</th>\n      <th>snow</th>\n      <th>wdir</th>\n      <th>wspd</th>\n      <th>wpgt</th>\n      <th>pres</th>\n      <th>tsun</th>\n      <th>coco</th>\n    </tr>\n    <tr>\n      <th>time</th>\n      <th></th>\n      <th></th>\n      <th></th>\n      <th></th>\n      <th></th>\n      <th></th>\n      <th></th>\n      <th></th>\n      <th></th>\n      <th></th>\n      <th></th>\n    </tr>\n  </thead>\n  <tbody>\n    <tr>\n      <th>2014-01-01 00:00:00</th>\n      <td>25.2</td>\n      <td>24.3</td>\n      <td>95.0</td>\n      <td>NaN</td>\n      <td>NaN</td>\n      <td>360.0</td>\n      <td>0.0</td>\n      <td>NaN</td>\n      <td>1012.1</td>\n      <td>NaN</td>\n      <td>NaN</td>\n    </tr>\n    <tr>\n      <th>2014-01-01 03:00:00</th>\n      <td>26.2</td>\n      <td>25.0</td>\n      <td>93.0</td>\n      <td>NaN</td>\n      <td>NaN</td>\n      <td>360.0</td>\n      <td>0.0</td>\n      <td>NaN</td>\n      <td>1013.5</td>\n      <td>NaN</td>\n      <td>NaN</td>\n    </tr>\n    <tr>\n      <th>2014-01-01 06:00:00</th>\n      <td>27.2</td>\n      <td>24.7</td>\n      <td>86.0</td>\n      <td>NaN</td>\n      <td>NaN</td>\n      <td>360.0</td>\n      <td>0.0</td>\n      <td>NaN</td>\n      <td>1012.1</td>\n      <td>NaN</td>\n      <td>NaN</td>\n    </tr>\n    <tr>\n      <th>2014-01-01 09:00:00</th>\n      <td>27.9</td>\n      <td>24.3</td>\n      <td>81.0</td>\n      <td>NaN</td>\n      <td>NaN</td>\n      <td>120.0</td>\n      <td>5.4</td>\n      <td>NaN</td>\n      <td>1010.4</td>\n      <td>NaN</td>\n      <td>NaN</td>\n    </tr>\n    <tr>\n      <th>2014-01-01 12:00:00</th>\n      <td>26.8</td>\n      <td>24.6</td>\n      <td>88.0</td>\n      <td>NaN</td>\n      <td>NaN</td>\n      <td>360.0</td>\n      <td>0.0</td>\n      <td>NaN</td>\n      <td>1012.0</td>\n      <td>NaN</td>\n      <td>NaN</td>\n    </tr>\n    <tr>\n      <th>...</th>\n      <td>...</td>\n      <td>...</td>\n      <td>...</td>\n      <td>...</td>\n      <td>...</td>\n      <td>...</td>\n      <td>...</td>\n      <td>...</td>\n      <td>...</td>\n      <td>...</td>\n      <td>...</td>\n    </tr>\n    <tr>\n      <th>2024-12-30 20:00:00</th>\n      <td>24.3</td>\n      <td>23.8</td>\n      <td>97.0</td>\n      <td>0.0</td>\n      <td>NaN</td>\n      <td>10.0</td>\n      <td>19.1</td>\n      <td>NaN</td>\n      <td>1007.9</td>\n      <td>NaN</td>\n      <td>3.0</td>\n    </tr>\n    <tr>\n      <th>2024-12-30 21:00:00</th>\n      <td>23.9</td>\n      <td>23.6</td>\n      <td>98.0</td>\n      <td>0.0</td>\n      <td>NaN</td>\n      <td>8.0</td>\n      <td>16.6</td>\n      <td>NaN</td>\n      <td>1008.1</td>\n      <td>NaN</td>\n      <td>5.0</td>\n    </tr>\n    <tr>\n      <th>2024-12-30 22:00:00</th>\n      <td>24.0</td>\n      <td>23.7</td>\n      <td>98.0</td>\n      <td>0.0</td>\n      <td>NaN</td>\n      <td>41.0</td>\n      <td>15.1</td>\n      <td>NaN</td>\n      <td>1008.4</td>\n      <td>NaN</td>\n      <td>5.0</td>\n    </tr>\n    <tr>\n      <th>2024-12-30 23:00:00</th>\n      <td>24.4</td>\n      <td>24.1</td>\n      <td>98.0</td>\n      <td>0.0</td>\n      <td>NaN</td>\n      <td>34.0</td>\n      <td>16.9</td>\n      <td>NaN</td>\n      <td>1008.9</td>\n      <td>NaN</td>\n      <td>5.0</td>\n    </tr>\n    <tr>\n      <th>2024-12-31 00:00:00</th>\n      <td>25.5</td>\n      <td>24.3</td>\n      <td>93.0</td>\n      <td>0.0</td>\n      <td>NaN</td>\n      <td>15.0</td>\n      <td>18.0</td>\n      <td>NaN</td>\n      <td>1009.2</td>\n      <td>NaN</td>\n      <td>5.0</td>\n    </tr>\n  </tbody>\n</table>\n<p>55020 rows × 11 columns</p>\n</div>"
          },
          "metadata": {}
        }
      ],
      "outputs_reference": null,
      "execution_count": 4,
      "block_group": "bfdb6ce948504a538a00dcf9789d50d6",
      "content_dependencies": null
    },
    {
      "cell_type": "code",
      "source": "data.describe()",
      "metadata": {
        "source_hash": "d786443f",
        "execution_start": 1735987679571,
        "execution_millis": 11,
        "execution_context_id": "a06c4c24-c6ff-4a93-96d3-22d8895ea17f",
        "cell_id": "41786ee89df546a7bfa16be24f10cf48",
        "deepnote_cell_type": "code"
      },
      "outputs": [
        {
          "output_type": "execute_result",
          "execution_count": 5,
          "data": {
            "application/vnd.deepnote.dataframe.v3+json": {
              "column_count": 11,
              "row_count": 8,
              "columns": [
                {
                  "name": "temp",
                  "dtype": "float64",
                  "stats": {
                    "unique_count": 8,
                    "nan_count": 0,
                    "min": "2.0766364605075425",
                    "max": "54994.0",
                    "histogram": [
                      {
                        "bin_start": 2.0766364605075425,
                        "bin_end": 5501.268972814457,
                        "count": 7
                      },
                      {
                        "bin_start": 5501.268972814457,
                        "bin_end": 11000.461309168406,
                        "count": 0
                      },
                      {
                        "bin_start": 11000.461309168406,
                        "bin_end": 16499.653645522354,
                        "count": 0
                      },
                      {
                        "bin_start": 16499.653645522354,
                        "bin_end": 21998.845981876304,
                        "count": 0
                      },
                      {
                        "bin_start": 21998.845981876304,
                        "bin_end": 27498.038318230254,
                        "count": 0
                      },
                      {
                        "bin_start": 27498.038318230254,
                        "bin_end": 32997.2306545842,
                        "count": 0
                      },
                      {
                        "bin_start": 32997.2306545842,
                        "bin_end": 38496.422990938154,
                        "count": 0
                      },
                      {
                        "bin_start": 38496.422990938154,
                        "bin_end": 43995.6153272921,
                        "count": 0
                      },
                      {
                        "bin_start": 43995.6153272921,
                        "bin_end": 49494.80766364605,
                        "count": 0
                      },
                      {
                        "bin_start": 49494.80766364605,
                        "bin_end": 54994,
                        "count": 1
                      }
                    ]
                  }
                },
                {
                  "name": "dwpt",
                  "dtype": "float64",
                  "stats": {
                    "unique_count": 8,
                    "nan_count": 0,
                    "min": "1.1804486023200125",
                    "max": "54973.0",
                    "histogram": [
                      {
                        "bin_start": 1.1804486023200125,
                        "bin_end": 5498.362403742089,
                        "count": 7
                      },
                      {
                        "bin_start": 5498.362403742089,
                        "bin_end": 10995.544358881856,
                        "count": 0
                      },
                      {
                        "bin_start": 10995.544358881856,
                        "bin_end": 16492.726314021627,
                        "count": 0
                      },
                      {
                        "bin_start": 16492.726314021627,
                        "bin_end": 21989.908269161395,
                        "count": 0
                      },
                      {
                        "bin_start": 21989.908269161395,
                        "bin_end": 27487.090224301162,
                        "count": 0
                      },
                      {
                        "bin_start": 27487.090224301162,
                        "bin_end": 32984.27217944093,
                        "count": 0
                      },
                      {
                        "bin_start": 32984.27217944093,
                        "bin_end": 38481.454134580694,
                        "count": 0
                      },
                      {
                        "bin_start": 38481.454134580694,
                        "bin_end": 43978.636089720465,
                        "count": 0
                      },
                      {
                        "bin_start": 43978.636089720465,
                        "bin_end": 49475.818044860236,
                        "count": 0
                      },
                      {
                        "bin_start": 49475.818044860236,
                        "bin_end": 54973,
                        "count": 1
                      }
                    ]
                  }
                },
                {
                  "name": "rhum",
                  "dtype": "float64",
                  "stats": {
                    "unique_count": 8,
                    "nan_count": 0,
                    "min": "8.749961506257737",
                    "max": "54973.0",
                    "histogram": [
                      {
                        "bin_start": 8.749961506257737,
                        "bin_end": 5505.174965355633,
                        "count": 7
                      },
                      {
                        "bin_start": 5505.174965355633,
                        "bin_end": 11001.599969205006,
                        "count": 0
                      },
                      {
                        "bin_start": 11001.599969205006,
                        "bin_end": 16498.024973054384,
                        "count": 0
                      },
                      {
                        "bin_start": 16498.024973054384,
                        "bin_end": 21994.449976903757,
                        "count": 0
                      },
                      {
                        "bin_start": 21994.449976903757,
                        "bin_end": 27490.87498075313,
                        "count": 0
                      },
                      {
                        "bin_start": 27490.87498075313,
                        "bin_end": 32987.299984602505,
                        "count": 0
                      },
                      {
                        "bin_start": 32987.299984602505,
                        "bin_end": 38483.724988451875,
                        "count": 0
                      },
                      {
                        "bin_start": 38483.724988451875,
                        "bin_end": 43980.14999230125,
                        "count": 0
                      },
                      {
                        "bin_start": 43980.14999230125,
                        "bin_end": 49476.57499615063,
                        "count": 0
                      },
                      {
                        "bin_start": 49476.57499615063,
                        "bin_end": 54973,
                        "count": 1
                      }
                    ]
                  }
                },
                {
                  "name": "prcp",
                  "dtype": "float64",
                  "stats": {
                    "unique_count": 6,
                    "nan_count": 0,
                    "min": "0.0",
                    "max": "34760.0",
                    "histogram": [
                      {
                        "bin_start": 0,
                        "bin_end": 3476,
                        "count": 7
                      },
                      {
                        "bin_start": 3476,
                        "bin_end": 6952,
                        "count": 0
                      },
                      {
                        "bin_start": 6952,
                        "bin_end": 10428,
                        "count": 0
                      },
                      {
                        "bin_start": 10428,
                        "bin_end": 13904,
                        "count": 0
                      },
                      {
                        "bin_start": 13904,
                        "bin_end": 17380,
                        "count": 0
                      },
                      {
                        "bin_start": 17380,
                        "bin_end": 20856,
                        "count": 0
                      },
                      {
                        "bin_start": 20856,
                        "bin_end": 24332,
                        "count": 0
                      },
                      {
                        "bin_start": 24332,
                        "bin_end": 27808,
                        "count": 0
                      },
                      {
                        "bin_start": 27808,
                        "bin_end": 31284,
                        "count": 0
                      },
                      {
                        "bin_start": 31284,
                        "bin_end": 34760,
                        "count": 1
                      }
                    ]
                  }
                },
                {
                  "name": "snow",
                  "dtype": "float64",
                  "stats": {
                    "unique_count": 1,
                    "nan_count": 7,
                    "min": "0.0",
                    "max": "0.0",
                    "histogram": [
                      {
                        "bin_start": -0.5,
                        "bin_end": -0.4,
                        "count": 0
                      },
                      {
                        "bin_start": -0.4,
                        "bin_end": -0.3,
                        "count": 0
                      },
                      {
                        "bin_start": -0.3,
                        "bin_end": -0.19999999999999996,
                        "count": 0
                      },
                      {
                        "bin_start": -0.19999999999999996,
                        "bin_end": -0.09999999999999998,
                        "count": 0
                      },
                      {
                        "bin_start": -0.09999999999999998,
                        "bin_end": 0,
                        "count": 0
                      },
                      {
                        "bin_start": 0,
                        "bin_end": 0.10000000000000009,
                        "count": 1
                      },
                      {
                        "bin_start": 0.10000000000000009,
                        "bin_end": 0.20000000000000007,
                        "count": 0
                      },
                      {
                        "bin_start": 0.20000000000000007,
                        "bin_end": 0.30000000000000004,
                        "count": 0
                      },
                      {
                        "bin_start": 0.30000000000000004,
                        "bin_end": 0.4,
                        "count": 0
                      },
                      {
                        "bin_start": 0.4,
                        "bin_end": 0.5,
                        "count": 0
                      }
                    ]
                  }
                },
                {
                  "name": "wdir",
                  "dtype": "float64",
                  "stats": {
                    "unique_count": 8,
                    "nan_count": 0,
                    "min": "0.0",
                    "max": "50833.0",
                    "histogram": [
                      {
                        "bin_start": 0,
                        "bin_end": 5083.3,
                        "count": 7
                      },
                      {
                        "bin_start": 5083.3,
                        "bin_end": 10166.6,
                        "count": 0
                      },
                      {
                        "bin_start": 10166.6,
                        "bin_end": 15249.900000000001,
                        "count": 0
                      },
                      {
                        "bin_start": 15249.900000000001,
                        "bin_end": 20333.2,
                        "count": 0
                      },
                      {
                        "bin_start": 20333.2,
                        "bin_end": 25416.5,
                        "count": 0
                      },
                      {
                        "bin_start": 25416.5,
                        "bin_end": 30499.800000000003,
                        "count": 0
                      },
                      {
                        "bin_start": 30499.800000000003,
                        "bin_end": 35583.1,
                        "count": 0
                      },
                      {
                        "bin_start": 35583.1,
                        "bin_end": 40666.4,
                        "count": 0
                      },
                      {
                        "bin_start": 40666.4,
                        "bin_end": 45749.700000000004,
                        "count": 0
                      },
                      {
                        "bin_start": 45749.700000000004,
                        "bin_end": 50833,
                        "count": 1
                      }
                    ]
                  }
                },
                {
                  "name": "wspd",
                  "dtype": "float64",
                  "stats": {
                    "unique_count": 8,
                    "nan_count": 0,
                    "min": "0.0",
                    "max": "55006.0",
                    "histogram": [
                      {
                        "bin_start": 0,
                        "bin_end": 5500.6,
                        "count": 7
                      },
                      {
                        "bin_start": 5500.6,
                        "bin_end": 11001.2,
                        "count": 0
                      },
                      {
                        "bin_start": 11001.2,
                        "bin_end": 16501.800000000003,
                        "count": 0
                      },
                      {
                        "bin_start": 16501.800000000003,
                        "bin_end": 22002.4,
                        "count": 0
                      },
                      {
                        "bin_start": 22002.4,
                        "bin_end": 27503,
                        "count": 0
                      },
                      {
                        "bin_start": 27503,
                        "bin_end": 33003.600000000006,
                        "count": 0
                      },
                      {
                        "bin_start": 33003.600000000006,
                        "bin_end": 38504.200000000004,
                        "count": 0
                      },
                      {
                        "bin_start": 38504.200000000004,
                        "bin_end": 44004.8,
                        "count": 0
                      },
                      {
                        "bin_start": 44004.8,
                        "bin_end": 49505.4,
                        "count": 0
                      },
                      {
                        "bin_start": 49505.4,
                        "bin_end": 55006,
                        "count": 1
                      }
                    ]
                  }
                },
                {
                  "name": "wpgt",
                  "dtype": "float64",
                  "stats": {
                    "unique_count": 1,
                    "nan_count": 7,
                    "min": "0.0",
                    "max": "0.0",
                    "histogram": [
                      {
                        "bin_start": -0.5,
                        "bin_end": -0.4,
                        "count": 0
                      },
                      {
                        "bin_start": -0.4,
                        "bin_end": -0.3,
                        "count": 0
                      },
                      {
                        "bin_start": -0.3,
                        "bin_end": -0.19999999999999996,
                        "count": 0
                      },
                      {
                        "bin_start": -0.19999999999999996,
                        "bin_end": -0.09999999999999998,
                        "count": 0
                      },
                      {
                        "bin_start": -0.09999999999999998,
                        "bin_end": 0,
                        "count": 0
                      },
                      {
                        "bin_start": 0,
                        "bin_end": 0.10000000000000009,
                        "count": 1
                      },
                      {
                        "bin_start": 0.10000000000000009,
                        "bin_end": 0.20000000000000007,
                        "count": 0
                      },
                      {
                        "bin_start": 0.20000000000000007,
                        "bin_end": 0.30000000000000004,
                        "count": 0
                      },
                      {
                        "bin_start": 0.30000000000000004,
                        "bin_end": 0.4,
                        "count": 0
                      },
                      {
                        "bin_start": 0.4,
                        "bin_end": 0.5,
                        "count": 0
                      }
                    ]
                  }
                },
                {
                  "name": "pres",
                  "dtype": "float64",
                  "stats": {
                    "unique_count": 8,
                    "nan_count": 0,
                    "min": "2.086676668920918",
                    "max": "54990.0",
                    "histogram": [
                      {
                        "bin_start": 2.086676668920918,
                        "bin_end": 5500.878009002028,
                        "count": 7
                      },
                      {
                        "bin_start": 5500.878009002028,
                        "bin_end": 10999.669341335137,
                        "count": 0
                      },
                      {
                        "bin_start": 10999.669341335137,
                        "bin_end": 16498.460673668244,
                        "count": 0
                      },
                      {
                        "bin_start": 16498.460673668244,
                        "bin_end": 21997.252006001352,
                        "count": 0
                      },
                      {
                        "bin_start": 21997.252006001352,
                        "bin_end": 27496.04333833446,
                        "count": 0
                      },
                      {
                        "bin_start": 27496.04333833446,
                        "bin_end": 32994.834670667566,
                        "count": 0
                      },
                      {
                        "bin_start": 32994.834670667566,
                        "bin_end": 38493.626003000674,
                        "count": 0
                      },
                      {
                        "bin_start": 38493.626003000674,
                        "bin_end": 43992.41733533378,
                        "count": 0
                      },
                      {
                        "bin_start": 43992.41733533378,
                        "bin_end": 49491.20866766689,
                        "count": 0
                      },
                      {
                        "bin_start": 49491.20866766689,
                        "bin_end": 54990,
                        "count": 1
                      }
                    ]
                  }
                },
                {
                  "name": "tsun",
                  "dtype": "float64",
                  "stats": {
                    "unique_count": 1,
                    "nan_count": 7,
                    "min": "0.0",
                    "max": "0.0",
                    "histogram": [
                      {
                        "bin_start": -0.5,
                        "bin_end": -0.4,
                        "count": 0
                      },
                      {
                        "bin_start": -0.4,
                        "bin_end": -0.3,
                        "count": 0
                      },
                      {
                        "bin_start": -0.3,
                        "bin_end": -0.19999999999999996,
                        "count": 0
                      },
                      {
                        "bin_start": -0.19999999999999996,
                        "bin_end": -0.09999999999999998,
                        "count": 0
                      },
                      {
                        "bin_start": -0.09999999999999998,
                        "bin_end": 0,
                        "count": 0
                      },
                      {
                        "bin_start": 0,
                        "bin_end": 0.10000000000000009,
                        "count": 1
                      },
                      {
                        "bin_start": 0.10000000000000009,
                        "bin_end": 0.20000000000000007,
                        "count": 0
                      },
                      {
                        "bin_start": 0.20000000000000007,
                        "bin_end": 0.30000000000000004,
                        "count": 0
                      },
                      {
                        "bin_start": 0.30000000000000004,
                        "bin_end": 0.4,
                        "count": 0
                      },
                      {
                        "bin_start": 0.4,
                        "bin_end": 0.5,
                        "count": 0
                      }
                    ]
                  }
                },
                {
                  "name": "coco",
                  "dtype": "float64",
                  "stats": {
                    "unique_count": 7,
                    "nan_count": 0,
                    "min": "1.0",
                    "max": "22110.0",
                    "histogram": [
                      {
                        "bin_start": 1,
                        "bin_end": 2211.9,
                        "count": 7
                      },
                      {
                        "bin_start": 2211.9,
                        "bin_end": 4422.8,
                        "count": 0
                      },
                      {
                        "bin_start": 4422.8,
                        "bin_end": 6633.700000000001,
                        "count": 0
                      },
                      {
                        "bin_start": 6633.700000000001,
                        "bin_end": 8844.6,
                        "count": 0
                      },
                      {
                        "bin_start": 8844.6,
                        "bin_end": 11055.5,
                        "count": 0
                      },
                      {
                        "bin_start": 11055.5,
                        "bin_end": 13266.400000000001,
                        "count": 0
                      },
                      {
                        "bin_start": 13266.400000000001,
                        "bin_end": 15477.300000000001,
                        "count": 0
                      },
                      {
                        "bin_start": 15477.300000000001,
                        "bin_end": 17688.2,
                        "count": 0
                      },
                      {
                        "bin_start": 17688.2,
                        "bin_end": 19899.100000000002,
                        "count": 0
                      },
                      {
                        "bin_start": 19899.100000000002,
                        "bin_end": 22110,
                        "count": 1
                      }
                    ]
                  }
                },
                {
                  "name": "_deepnote_index_column",
                  "dtype": "object"
                }
              ],
              "rows": [
                {
                  "temp": 54994,
                  "dwpt": 54973,
                  "rhum": 54973,
                  "prcp": 34760,
                  "snow": 0,
                  "wdir": 50833,
                  "wspd": 55006,
                  "wpgt": 0,
                  "pres": 54990,
                  "tsun": 0,
                  "coco": 22110,
                  "_deepnote_index_column": "count"
                },
                {
                  "temp": 26.851398334363747,
                  "dwpt": 23.775076855911088,
                  "rhum": 83.79984719771524,
                  "prcp": 0.20819907940161106,
                  "snow": "nan",
                  "wdir": 154.02419687997954,
                  "wspd": 9.88070028724139,
                  "wpgt": "nan",
                  "pres": 1010.7488106928532,
                  "tsun": "nan",
                  "coco": 4.6277702397105385,
                  "_deepnote_index_column": "mean"
                },
                {
                  "temp": 2.0766364605075425,
                  "dwpt": 1.1804486023200125,
                  "rhum": 8.749961506257737,
                  "prcp": 0.7055411345887305,
                  "snow": "nan",
                  "wdir": 97.30325563295436,
                  "wspd": 7.495060181442319,
                  "wpgt": "nan",
                  "pres": 2.086676668920918,
                  "tsun": "nan",
                  "coco": 3.7955969374613177,
                  "_deepnote_index_column": "std"
                },
                {
                  "temp": 15.4,
                  "dwpt": 12.5,
                  "rhum": 39,
                  "prcp": 0,
                  "snow": "nan",
                  "wdir": 0,
                  "wspd": 0,
                  "wpgt": "nan",
                  "pres": 1001.8,
                  "tsun": "nan",
                  "coco": 1,
                  "_deepnote_index_column": "min"
                },
                {
                  "temp": 25.3,
                  "dwpt": 23.2,
                  "rhum": 77,
                  "prcp": 0,
                  "snow": "nan",
                  "wdir": 100,
                  "wspd": 4.7,
                  "wpgt": "nan",
                  "pres": 1009.3,
                  "tsun": "nan",
                  "coco": 3,
                  "_deepnote_index_column": "25%"
                },
                {
                  "temp": 26.6,
                  "dwpt": 23.9,
                  "rhum": 85,
                  "prcp": 0,
                  "snow": "nan",
                  "wdir": 130,
                  "wspd": 9.4,
                  "wpgt": "nan",
                  "pres": 1010.8,
                  "tsun": "nan",
                  "coco": 3,
                  "_deepnote_index_column": "50%"
                },
                {
                  "temp": 28.2,
                  "dwpt": 24.6,
                  "rhum": 91,
                  "prcp": 0.1,
                  "snow": "nan",
                  "wdir": 230,
                  "wspd": 14.4,
                  "wpgt": "nan",
                  "pres": 1012.2,
                  "tsun": "nan",
                  "coco": 7,
                  "_deepnote_index_column": "75%"
                },
                {
                  "temp": 35.7,
                  "dwpt": 29.5,
                  "rhum": 100,
                  "prcp": 21.1,
                  "snow": "nan",
                  "wdir": 360,
                  "wspd": 100.1,
                  "wpgt": "nan",
                  "pres": 1018.5,
                  "tsun": "nan",
                  "coco": 18,
                  "_deepnote_index_column": "max"
                }
              ]
            },
            "text/plain": "               temp          dwpt          rhum          prcp  snow  \\\ncount  54994.000000  54973.000000  54973.000000  34760.000000   0.0   \nmean      26.851398     23.775077     83.799847      0.208199   NaN   \nstd        2.076636      1.180449      8.749962      0.705541   NaN   \nmin       15.400000     12.500000     39.000000      0.000000   NaN   \n25%       25.300000     23.200000     77.000000      0.000000   NaN   \n50%       26.600000     23.900000     85.000000      0.000000   NaN   \n75%       28.200000     24.600000     91.000000      0.100000   NaN   \nmax       35.700000     29.500000    100.000000     21.100000   NaN   \n\n               wdir         wspd  wpgt          pres  tsun          coco  \ncount  50833.000000  55006.00000   0.0  54990.000000   0.0  22110.000000  \nmean     154.024197      9.88070   NaN   1010.748811   NaN      4.627770  \nstd       97.303256      7.49506   NaN      2.086677   NaN      3.795597  \nmin        0.000000      0.00000   NaN   1001.800000   NaN      1.000000  \n25%      100.000000      4.70000   NaN   1009.300000   NaN      3.000000  \n50%      130.000000      9.40000   NaN   1010.800000   NaN      3.000000  \n75%      230.000000     14.40000   NaN   1012.200000   NaN      7.000000  \nmax      360.000000    100.10000   NaN   1018.500000   NaN     18.000000  ",
            "text/html": "<div>\n<style scoped>\n    .dataframe tbody tr th:only-of-type {\n        vertical-align: middle;\n    }\n\n    .dataframe tbody tr th {\n        vertical-align: top;\n    }\n\n    .dataframe thead th {\n        text-align: right;\n    }\n</style>\n<table border=\"1\" class=\"dataframe\">\n  <thead>\n    <tr style=\"text-align: right;\">\n      <th></th>\n      <th>temp</th>\n      <th>dwpt</th>\n      <th>rhum</th>\n      <th>prcp</th>\n      <th>snow</th>\n      <th>wdir</th>\n      <th>wspd</th>\n      <th>wpgt</th>\n      <th>pres</th>\n      <th>tsun</th>\n      <th>coco</th>\n    </tr>\n  </thead>\n  <tbody>\n    <tr>\n      <th>count</th>\n      <td>54994.000000</td>\n      <td>54973.000000</td>\n      <td>54973.000000</td>\n      <td>34760.000000</td>\n      <td>0.0</td>\n      <td>50833.000000</td>\n      <td>55006.00000</td>\n      <td>0.0</td>\n      <td>54990.000000</td>\n      <td>0.0</td>\n      <td>22110.000000</td>\n    </tr>\n    <tr>\n      <th>mean</th>\n      <td>26.851398</td>\n      <td>23.775077</td>\n      <td>83.799847</td>\n      <td>0.208199</td>\n      <td>NaN</td>\n      <td>154.024197</td>\n      <td>9.88070</td>\n      <td>NaN</td>\n      <td>1010.748811</td>\n      <td>NaN</td>\n      <td>4.627770</td>\n    </tr>\n    <tr>\n      <th>std</th>\n      <td>2.076636</td>\n      <td>1.180449</td>\n      <td>8.749962</td>\n      <td>0.705541</td>\n      <td>NaN</td>\n      <td>97.303256</td>\n      <td>7.49506</td>\n      <td>NaN</td>\n      <td>2.086677</td>\n      <td>NaN</td>\n      <td>3.795597</td>\n    </tr>\n    <tr>\n      <th>min</th>\n      <td>15.400000</td>\n      <td>12.500000</td>\n      <td>39.000000</td>\n      <td>0.000000</td>\n      <td>NaN</td>\n      <td>0.000000</td>\n      <td>0.00000</td>\n      <td>NaN</td>\n      <td>1001.800000</td>\n      <td>NaN</td>\n      <td>1.000000</td>\n    </tr>\n    <tr>\n      <th>25%</th>\n      <td>25.300000</td>\n      <td>23.200000</td>\n      <td>77.000000</td>\n      <td>0.000000</td>\n      <td>NaN</td>\n      <td>100.000000</td>\n      <td>4.70000</td>\n      <td>NaN</td>\n      <td>1009.300000</td>\n      <td>NaN</td>\n      <td>3.000000</td>\n    </tr>\n    <tr>\n      <th>50%</th>\n      <td>26.600000</td>\n      <td>23.900000</td>\n      <td>85.000000</td>\n      <td>0.000000</td>\n      <td>NaN</td>\n      <td>130.000000</td>\n      <td>9.40000</td>\n      <td>NaN</td>\n      <td>1010.800000</td>\n      <td>NaN</td>\n      <td>3.000000</td>\n    </tr>\n    <tr>\n      <th>75%</th>\n      <td>28.200000</td>\n      <td>24.600000</td>\n      <td>91.000000</td>\n      <td>0.100000</td>\n      <td>NaN</td>\n      <td>230.000000</td>\n      <td>14.40000</td>\n      <td>NaN</td>\n      <td>1012.200000</td>\n      <td>NaN</td>\n      <td>7.000000</td>\n    </tr>\n    <tr>\n      <th>max</th>\n      <td>35.700000</td>\n      <td>29.500000</td>\n      <td>100.000000</td>\n      <td>21.100000</td>\n      <td>NaN</td>\n      <td>360.000000</td>\n      <td>100.10000</td>\n      <td>NaN</td>\n      <td>1018.500000</td>\n      <td>NaN</td>\n      <td>18.000000</td>\n    </tr>\n  </tbody>\n</table>\n</div>"
          },
          "metadata": {}
        }
      ],
      "outputs_reference": null,
      "execution_count": 5,
      "block_group": "f74f8cfa62ee4dcc9b5034b999c13524",
      "content_dependencies": null
    },
    {
      "cell_type": "code",
      "source": "data.isnull().sum()",
      "metadata": {
        "source_hash": "878de0e4",
        "execution_start": 1735987679627,
        "execution_millis": 0,
        "execution_context_id": "60968274-72eb-4f4e-942c-096dbea627ae",
        "cell_id": "76170009fe9b48778d1f7fca6a69e8c0",
        "deepnote_cell_type": "code"
      },
      "outputs": [
        {
          "output_type": "execute_result",
          "execution_count": 6,
          "data": {
            "text/plain": "temp       26\ndwpt       47\nrhum       47\nprcp    20260\nsnow    55020\nwdir     4187\nwspd       14\nwpgt    55020\npres       30\ntsun    55020\ncoco    32910\ndtype: int64"
          },
          "metadata": {}
        }
      ],
      "outputs_reference": null,
      "execution_count": 6,
      "block_group": "98482a03b824402a866cc0386cf6ef74",
      "content_dependencies": null
    },
    {
      "cell_type": "code",
      "source": "# Plot line chart\ndata.plot(y=['tavg', 'tmin', 'tmax', 'prcp', 'snow', 'wdir', 'wspd', 'wpgt', 'pres', 'tsun'], subplots=True, figsize=(10, 15))\nplt.show()",
      "metadata": {
        "source_hash": "706616e0",
        "execution_start": 1735987679675,
        "execution_millis": 926,
        "execution_context_id": "cc640473-c991-4558-a0ec-8108eb22398b",
        "cell_id": "eaa80e7972a64071b7c9e080eba5ee56",
        "deepnote_cell_type": "code"
      },
      "outputs": [
        {
          "output_type": "error",
          "ename": "KeyError",
          "evalue": "\"['tavg', 'tmin', 'tmax'] not in index\"",
          "traceback": [
            "\u001b[0;31m---------------------------------------------------------------------------\u001b[0m",
            "\u001b[0;31mKeyError\u001b[0m                                  Traceback (most recent call last)",
            "Cell \u001b[0;32mIn[7], line 2\u001b[0m\n\u001b[1;32m      1\u001b[0m \u001b[38;5;66;03m# Plot line chart\u001b[39;00m\n\u001b[0;32m----> 2\u001b[0m \u001b[43mdata\u001b[49m\u001b[38;5;241;43m.\u001b[39;49m\u001b[43mplot\u001b[49m\u001b[43m(\u001b[49m\u001b[43my\u001b[49m\u001b[38;5;241;43m=\u001b[39;49m\u001b[43m[\u001b[49m\u001b[38;5;124;43m'\u001b[39;49m\u001b[38;5;124;43mtavg\u001b[39;49m\u001b[38;5;124;43m'\u001b[39;49m\u001b[43m,\u001b[49m\u001b[43m \u001b[49m\u001b[38;5;124;43m'\u001b[39;49m\u001b[38;5;124;43mtmin\u001b[39;49m\u001b[38;5;124;43m'\u001b[39;49m\u001b[43m,\u001b[49m\u001b[43m \u001b[49m\u001b[38;5;124;43m'\u001b[39;49m\u001b[38;5;124;43mtmax\u001b[39;49m\u001b[38;5;124;43m'\u001b[39;49m\u001b[43m,\u001b[49m\u001b[43m \u001b[49m\u001b[38;5;124;43m'\u001b[39;49m\u001b[38;5;124;43mprcp\u001b[39;49m\u001b[38;5;124;43m'\u001b[39;49m\u001b[43m,\u001b[49m\u001b[43m \u001b[49m\u001b[38;5;124;43m'\u001b[39;49m\u001b[38;5;124;43msnow\u001b[39;49m\u001b[38;5;124;43m'\u001b[39;49m\u001b[43m,\u001b[49m\u001b[43m \u001b[49m\u001b[38;5;124;43m'\u001b[39;49m\u001b[38;5;124;43mwdir\u001b[39;49m\u001b[38;5;124;43m'\u001b[39;49m\u001b[43m,\u001b[49m\u001b[43m \u001b[49m\u001b[38;5;124;43m'\u001b[39;49m\u001b[38;5;124;43mwspd\u001b[39;49m\u001b[38;5;124;43m'\u001b[39;49m\u001b[43m,\u001b[49m\u001b[43m \u001b[49m\u001b[38;5;124;43m'\u001b[39;49m\u001b[38;5;124;43mwpgt\u001b[39;49m\u001b[38;5;124;43m'\u001b[39;49m\u001b[43m,\u001b[49m\u001b[43m \u001b[49m\u001b[38;5;124;43m'\u001b[39;49m\u001b[38;5;124;43mpres\u001b[39;49m\u001b[38;5;124;43m'\u001b[39;49m\u001b[43m,\u001b[49m\u001b[43m \u001b[49m\u001b[38;5;124;43m'\u001b[39;49m\u001b[38;5;124;43mtsun\u001b[39;49m\u001b[38;5;124;43m'\u001b[39;49m\u001b[43m]\u001b[49m\u001b[43m,\u001b[49m\u001b[43m \u001b[49m\u001b[43msubplots\u001b[49m\u001b[38;5;241;43m=\u001b[39;49m\u001b[38;5;28;43;01mTrue\u001b[39;49;00m\u001b[43m,\u001b[49m\u001b[43m \u001b[49m\u001b[43mfigsize\u001b[49m\u001b[38;5;241;43m=\u001b[39;49m\u001b[43m(\u001b[49m\u001b[38;5;241;43m10\u001b[39;49m\u001b[43m,\u001b[49m\u001b[43m \u001b[49m\u001b[38;5;241;43m15\u001b[39;49m\u001b[43m)\u001b[49m\u001b[43m)\u001b[49m\n\u001b[1;32m      3\u001b[0m plt\u001b[38;5;241m.\u001b[39mshow()\n",
            "File \u001b[0;32m~/venv/lib/python3.11/site-packages/pandas/plotting/_core.py:1017\u001b[0m, in \u001b[0;36mPlotAccessor.__call__\u001b[0;34m(self, *args, **kwargs)\u001b[0m\n\u001b[1;32m   1014\u001b[0m             \u001b[38;5;28;01mpass\u001b[39;00m\n\u001b[1;32m   1016\u001b[0m \u001b[38;5;66;03m# don't overwrite\u001b[39;00m\n\u001b[0;32m-> 1017\u001b[0m data \u001b[38;5;241m=\u001b[39m \u001b[43mdata\u001b[49m\u001b[43m[\u001b[49m\u001b[43my\u001b[49m\u001b[43m]\u001b[49m\u001b[38;5;241m.\u001b[39mcopy()\n\u001b[1;32m   1019\u001b[0m \u001b[38;5;28;01mif\u001b[39;00m \u001b[38;5;28misinstance\u001b[39m(data, ABCSeries):\n\u001b[1;32m   1020\u001b[0m     label_name \u001b[38;5;241m=\u001b[39m label_kw \u001b[38;5;129;01mor\u001b[39;00m y\n",
            "File \u001b[0;32m~/venv/lib/python3.11/site-packages/pandas/core/frame.py:3899\u001b[0m, in \u001b[0;36mDataFrame.__getitem__\u001b[0;34m(self, key)\u001b[0m\n\u001b[1;32m   3897\u001b[0m     \u001b[38;5;28;01mif\u001b[39;00m is_iterator(key):\n\u001b[1;32m   3898\u001b[0m         key \u001b[38;5;241m=\u001b[39m \u001b[38;5;28mlist\u001b[39m(key)\n\u001b[0;32m-> 3899\u001b[0m     indexer \u001b[38;5;241m=\u001b[39m \u001b[38;5;28;43mself\u001b[39;49m\u001b[38;5;241;43m.\u001b[39;49m\u001b[43mcolumns\u001b[49m\u001b[38;5;241;43m.\u001b[39;49m\u001b[43m_get_indexer_strict\u001b[49m\u001b[43m(\u001b[49m\u001b[43mkey\u001b[49m\u001b[43m,\u001b[49m\u001b[43m \u001b[49m\u001b[38;5;124;43m\"\u001b[39;49m\u001b[38;5;124;43mcolumns\u001b[39;49m\u001b[38;5;124;43m\"\u001b[39;49m\u001b[43m)\u001b[49m[\u001b[38;5;241m1\u001b[39m]\n\u001b[1;32m   3901\u001b[0m \u001b[38;5;66;03m# take() does not accept boolean indexers\u001b[39;00m\n\u001b[1;32m   3902\u001b[0m \u001b[38;5;28;01mif\u001b[39;00m \u001b[38;5;28mgetattr\u001b[39m(indexer, \u001b[38;5;124m\"\u001b[39m\u001b[38;5;124mdtype\u001b[39m\u001b[38;5;124m\"\u001b[39m, \u001b[38;5;28;01mNone\u001b[39;00m) \u001b[38;5;241m==\u001b[39m \u001b[38;5;28mbool\u001b[39m:\n",
            "File \u001b[0;32m~/venv/lib/python3.11/site-packages/pandas/core/indexes/base.py:6115\u001b[0m, in \u001b[0;36mIndex._get_indexer_strict\u001b[0;34m(self, key, axis_name)\u001b[0m\n\u001b[1;32m   6112\u001b[0m \u001b[38;5;28;01melse\u001b[39;00m:\n\u001b[1;32m   6113\u001b[0m     keyarr, indexer, new_indexer \u001b[38;5;241m=\u001b[39m \u001b[38;5;28mself\u001b[39m\u001b[38;5;241m.\u001b[39m_reindex_non_unique(keyarr)\n\u001b[0;32m-> 6115\u001b[0m \u001b[38;5;28;43mself\u001b[39;49m\u001b[38;5;241;43m.\u001b[39;49m\u001b[43m_raise_if_missing\u001b[49m\u001b[43m(\u001b[49m\u001b[43mkeyarr\u001b[49m\u001b[43m,\u001b[49m\u001b[43m \u001b[49m\u001b[43mindexer\u001b[49m\u001b[43m,\u001b[49m\u001b[43m \u001b[49m\u001b[43maxis_name\u001b[49m\u001b[43m)\u001b[49m\n\u001b[1;32m   6117\u001b[0m keyarr \u001b[38;5;241m=\u001b[39m \u001b[38;5;28mself\u001b[39m\u001b[38;5;241m.\u001b[39mtake(indexer)\n\u001b[1;32m   6118\u001b[0m \u001b[38;5;28;01mif\u001b[39;00m \u001b[38;5;28misinstance\u001b[39m(key, Index):\n\u001b[1;32m   6119\u001b[0m     \u001b[38;5;66;03m# GH 42790 - Preserve name from an Index\u001b[39;00m\n",
            "File \u001b[0;32m~/venv/lib/python3.11/site-packages/pandas/core/indexes/base.py:6179\u001b[0m, in \u001b[0;36mIndex._raise_if_missing\u001b[0;34m(self, key, indexer, axis_name)\u001b[0m\n\u001b[1;32m   6176\u001b[0m     \u001b[38;5;28;01mraise\u001b[39;00m \u001b[38;5;167;01mKeyError\u001b[39;00m(\u001b[38;5;124mf\u001b[39m\u001b[38;5;124m\"\u001b[39m\u001b[38;5;124mNone of [\u001b[39m\u001b[38;5;132;01m{\u001b[39;00mkey\u001b[38;5;132;01m}\u001b[39;00m\u001b[38;5;124m] are in the [\u001b[39m\u001b[38;5;132;01m{\u001b[39;00maxis_name\u001b[38;5;132;01m}\u001b[39;00m\u001b[38;5;124m]\u001b[39m\u001b[38;5;124m\"\u001b[39m)\n\u001b[1;32m   6178\u001b[0m not_found \u001b[38;5;241m=\u001b[39m \u001b[38;5;28mlist\u001b[39m(ensure_index(key)[missing_mask\u001b[38;5;241m.\u001b[39mnonzero()[\u001b[38;5;241m0\u001b[39m]]\u001b[38;5;241m.\u001b[39munique())\n\u001b[0;32m-> 6179\u001b[0m \u001b[38;5;28;01mraise\u001b[39;00m \u001b[38;5;167;01mKeyError\u001b[39;00m(\u001b[38;5;124mf\u001b[39m\u001b[38;5;124m\"\u001b[39m\u001b[38;5;132;01m{\u001b[39;00mnot_found\u001b[38;5;132;01m}\u001b[39;00m\u001b[38;5;124m not in index\u001b[39m\u001b[38;5;124m\"\u001b[39m)\n",
            "\u001b[0;31mKeyError\u001b[0m: \"['tavg', 'tmin', 'tmax'] not in index\""
          ]
        }
      ],
      "outputs_reference": null,
      "execution_count": 7,
      "block_group": "109d5305802d42c3b31ca507b6942433",
      "content_dependencies": null
    },
    {
      "cell_type": "code",
      "source": "",
      "metadata": {
        "source_hash": "b623e53d",
        "execution_start": 1735987638962,
        "execution_millis": 1,
        "execution_context_id": "f04a7545-685d-40d6-9493-7afb602a04f6",
        "deepnote_to_be_reexecuted": true,
        "cell_id": "41fbc88d74184e7e9e3a9e568f5ad804",
        "deepnote_cell_type": "code"
      },
      "outputs": [],
      "outputs_reference": null,
      "execution_count": 7,
      "block_group": "b519a60d2c9e4abcb19339d44ecd231d",
      "content_dependencies": null
    },
    {
      "cell_type": "markdown",
      "source": "<a style='text-decoration:none;line-height:16px;display:flex;color:#5B5B62;padding:10px;justify-content:end;' href='https://deepnote.com?utm_source=created-in-deepnote-cell&projectId=200afad5-8991-4e20-8a55-8751c7aff3b5' target=\"_blank\">\n<img alt='Created in deepnote.com' style='display:inline;max-height:16px;margin:0px;margin-right:7.5px;' src='data:image/svg+xml;base64,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' > </img>\nCreated in <span style='font-weight:600;margin-left:4px;'>Deepnote</span></a>",
      "metadata": {
        "created_in_deepnote_cell": true,
        "deepnote_cell_type": "markdown"
      }
    }
  ],
  "nbformat": 4,
  "nbformat_minor": 0,
  "metadata": {
    "deepnote_notebook_id": "f1ae081b29a2481280fa43fafc1c0b7e"
  }
}