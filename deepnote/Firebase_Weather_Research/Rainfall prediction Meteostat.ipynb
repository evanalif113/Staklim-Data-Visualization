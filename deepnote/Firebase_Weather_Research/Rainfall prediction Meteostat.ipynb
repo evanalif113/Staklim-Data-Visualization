{
  "cells": [
    {
      "cell_type": "code",
      "source": "# Import Meteostat library and dependencies\nfrom datetime import datetime\nfrom meteostat import Hourly\nfrom matplotlib import pyplot as plt",
      "metadata": {
        "source_hash": "51b425d0",
        "execution_start": 1735984967411,
        "execution_millis": 286,
        "execution_context_id": "ef66dc3f-614e-46ff-82dd-b171101c8c6c",
        "cell_id": "b3d7d7cdc5414391ad9c226ff1b04fc9",
        "deepnote_cell_type": "code"
      },
      "outputs": [],
      "outputs_reference": null,
      "execution_count": 1,
      "block_group": "b3d7d7cdc5414391ad9c226ff1b04fc9",
      "content_dependencies": null
    },
    {
      "cell_type": "code",
      "source": "# Set time period\nstart = datetime(1980, 1, 1)\nend = datetime(2024, 12, 31)",
      "metadata": {
        "source_hash": "435d9d9b",
        "execution_start": 1735984967746,
        "execution_millis": 0,
        "execution_context_id": "c9f404e7-dc73-42d6-94ce-ee26c6a47b46",
        "cell_id": "1ae5272e7b514837a1bee7af24b5122c",
        "deepnote_cell_type": "code"
      },
      "outputs": [],
      "outputs_reference": null,
      "execution_count": 2,
      "block_group": "731bdf1aa94a48d298478480f5b03ccf",
      "content_dependencies": null
    },
    {
      "cell_type": "code",
      "source": "# Get daily data\ndata = Hourly('96805', start, end)\ndata = data.fetch()",
      "metadata": {
        "source_hash": "91de5d36",
        "execution_start": 1735984967795,
        "execution_millis": 76,
        "execution_context_id": "a06c4c24-c6ff-4a93-96d3-22d8895ea17f",
        "cell_id": "9a02e629c6bf4da6bd1a3f78d285e00e",
        "deepnote_cell_type": "code"
      },
      "outputs": [],
      "outputs_reference": null,
      "execution_count": 3,
      "block_group": "806b7fb4e16e41488a0976beefa7158a",
      "content_dependencies": null
    },
    {
      "cell_type": "code",
      "source": "data",
      "metadata": {
        "source_hash": "6dc26197",
        "execution_start": 1735984967923,
        "execution_millis": 0,
        "deepnote_table_state": {
          "sortBy": [],
          "filters": [],
          "pageSize": 10,
          "pageIndex": 12903,
          "columnOrder": [
            "temp",
            "dwpt",
            "rhum",
            "prcp",
            "snow",
            "wdir",
            "wspd",
            "wpgt",
            "pres",
            "tsun",
            "coco"
          ],
          "hiddenColumnIds": [],
          "columnDisplayNames": [],
          "conditionalFilters": [],
          "cellFormattingRules": [],
          "wrappedTextColumnIds": []
        },
        "execution_context_id": "a06c4c24-c6ff-4a93-96d3-22d8895ea17f",
        "deepnote_table_loading": false,
        "cell_id": "0f084dc7d1394d5c9c89e92648e76e61",
        "deepnote_cell_type": "code"
      },
      "outputs": [
        {
          "output_type": "execute_result",
          "execution_count": 4,
          "data": {
            "application/vnd.deepnote.dataframe.v3+json": {
              "column_count": 11,
              "row_count": 129035,
              "columns": [
                {
                  "name": "temp",
                  "dtype": "float64"
                },
                {
                  "name": "dwpt",
                  "dtype": "float64"
                },
                {
                  "name": "rhum",
                  "dtype": "float64"
                },
                {
                  "name": "prcp",
                  "dtype": "float64"
                },
                {
                  "name": "snow",
                  "dtype": "float64"
                },
                {
                  "name": "wdir",
                  "dtype": "float64"
                },
                {
                  "name": "wspd",
                  "dtype": "float64"
                },
                {
                  "name": "wpgt",
                  "dtype": "float64"
                },
                {
                  "name": "pres",
                  "dtype": "float64"
                },
                {
                  "name": "tsun",
                  "dtype": "float64"
                },
                {
                  "name": "coco",
                  "dtype": "float64"
                },
                {
                  "name": "_deepnote_index_column",
                  "dtype": "datetime64[ns]"
                }
              ],
              "rows": [
                {
                  "temp": 24,
                  "dwpt": 23,
                  "rhum": 94,
                  "prcp": "nan",
                  "snow": "nan",
                  "wdir": 340,
                  "wspd": 3.6,
                  "wpgt": "nan",
                  "pres": 1010.2,
                  "tsun": "nan",
                  "coco": "nan",
                  "_deepnote_index_column": "1980-01-01 00:00:00"
                },
                {
                  "temp": 29,
                  "dwpt": 23.9,
                  "rhum": 74,
                  "prcp": "nan",
                  "snow": "nan",
                  "wdir": 180,
                  "wspd": 5.4,
                  "wpgt": "nan",
                  "pres": 1007.9,
                  "tsun": "nan",
                  "coco": "nan",
                  "_deepnote_index_column": "1980-01-01 06:00:00"
                },
                {
                  "temp": 28,
                  "dwpt": 25,
                  "rhum": 84,
                  "prcp": "nan",
                  "snow": "nan",
                  "wdir": 360,
                  "wspd": 9.4,
                  "wpgt": "nan",
                  "pres": 1006.4,
                  "tsun": "nan",
                  "coco": "nan",
                  "_deepnote_index_column": "1980-01-01 09:00:00"
                },
                {
                  "temp": 25,
                  "dwpt": 25,
                  "rhum": 100,
                  "prcp": "nan",
                  "snow": "nan",
                  "wdir": "nan",
                  "wspd": 0,
                  "wpgt": "nan",
                  "pres": 1008,
                  "tsun": "nan",
                  "coco": "nan",
                  "_deepnote_index_column": "1980-01-01 12:00:00"
                },
                {
                  "temp": 25,
                  "dwpt": 24,
                  "rhum": 94,
                  "prcp": "nan",
                  "snow": "nan",
                  "wdir": "nan",
                  "wspd": 0,
                  "wpgt": "nan",
                  "pres": 1009.5,
                  "tsun": "nan",
                  "coco": "nan",
                  "_deepnote_index_column": "1980-01-01 15:00:00"
                },
                {
                  "temp": 25,
                  "dwpt": 24,
                  "rhum": 94,
                  "prcp": "nan",
                  "snow": "nan",
                  "wdir": 290,
                  "wspd": 3.6,
                  "wpgt": "nan",
                  "pres": 1008.2,
                  "tsun": "nan",
                  "coco": "nan",
                  "_deepnote_index_column": "1980-01-02 00:00:00"
                },
                {
                  "temp": 31,
                  "dwpt": 23.9,
                  "rhum": 66,
                  "prcp": "nan",
                  "snow": "nan",
                  "wdir": 280,
                  "wspd": 22.3,
                  "wpgt": "nan",
                  "pres": 1007.1,
                  "tsun": "nan",
                  "coco": "nan",
                  "_deepnote_index_column": "1980-01-02 06:00:00"
                },
                {
                  "temp": 30,
                  "dwpt": 23.9,
                  "rhum": 70,
                  "prcp": "nan",
                  "snow": "nan",
                  "wdir": 260,
                  "wspd": 18.4,
                  "wpgt": "nan",
                  "pres": 1006,
                  "tsun": "nan",
                  "coco": "nan",
                  "_deepnote_index_column": "1980-01-02 09:00:00"
                },
                {
                  "temp": 26,
                  "dwpt": 25,
                  "rhum": 94,
                  "prcp": "nan",
                  "snow": "nan",
                  "wdir": 260,
                  "wspd": 9.4,
                  "wpgt": "nan",
                  "pres": 1007.9,
                  "tsun": "nan",
                  "coco": "nan",
                  "_deepnote_index_column": "1980-01-02 12:00:00"
                },
                {
                  "temp": 25,
                  "dwpt": 24,
                  "rhum": 94,
                  "prcp": "nan",
                  "snow": "nan",
                  "wdir": 300,
                  "wspd": 7.6,
                  "wpgt": "nan",
                  "pres": "nan",
                  "tsun": "nan",
                  "coco": "nan",
                  "_deepnote_index_column": "1980-01-02 15:00:00"
                }
              ]
            },
            "text/plain": "                     temp  dwpt   rhum  prcp  snow   wdir  wspd  wpgt    pres  \\\ntime                                                                            \n1980-01-01 00:00:00  24.0  23.0   94.0   NaN   NaN  340.0   3.6   NaN  1010.2   \n1980-01-01 06:00:00  29.0  23.9   74.0   NaN   NaN  180.0   5.4   NaN  1007.9   \n1980-01-01 09:00:00  28.0  25.0   84.0   NaN   NaN  360.0   9.4   NaN  1006.4   \n1980-01-01 12:00:00  25.0  25.0  100.0   NaN   NaN    NaN   0.0   NaN  1008.0   \n1980-01-01 15:00:00  25.0  24.0   94.0   NaN   NaN    NaN   0.0   NaN  1009.5   \n...                   ...   ...    ...   ...   ...    ...   ...   ...     ...   \n2024-12-30 20:00:00  24.3  23.8   97.0   0.0   NaN   10.0  19.1   NaN  1007.9   \n2024-12-30 21:00:00  23.9  23.6   98.0   0.0   NaN    8.0  16.6   NaN  1008.1   \n2024-12-30 22:00:00  24.0  23.7   98.0   0.0   NaN   41.0  15.1   NaN  1008.4   \n2024-12-30 23:00:00  24.4  24.1   98.0   0.0   NaN   34.0  16.9   NaN  1008.9   \n2024-12-31 00:00:00  25.5  24.3   93.0   0.0   NaN   15.0  18.0   NaN  1009.2   \n\n                     tsun  coco  \ntime                             \n1980-01-01 00:00:00   NaN   NaN  \n1980-01-01 06:00:00   NaN   NaN  \n1980-01-01 09:00:00   NaN   NaN  \n1980-01-01 12:00:00   NaN   NaN  \n1980-01-01 15:00:00   NaN   NaN  \n...                   ...   ...  \n2024-12-30 20:00:00   NaN   3.0  \n2024-12-30 21:00:00   NaN   5.0  \n2024-12-30 22:00:00   NaN   5.0  \n2024-12-30 23:00:00   NaN   5.0  \n2024-12-31 00:00:00   NaN   5.0  \n\n[129035 rows x 11 columns]",
            "text/html": "<div>\n<style scoped>\n    .dataframe tbody tr th:only-of-type {\n        vertical-align: middle;\n    }\n\n    .dataframe tbody tr th {\n        vertical-align: top;\n    }\n\n    .dataframe thead th {\n        text-align: right;\n    }\n</style>\n<table border=\"1\" class=\"dataframe\">\n  <thead>\n    <tr style=\"text-align: right;\">\n      <th></th>\n      <th>temp</th>\n      <th>dwpt</th>\n      <th>rhum</th>\n      <th>prcp</th>\n      <th>snow</th>\n      <th>wdir</th>\n      <th>wspd</th>\n      <th>wpgt</th>\n      <th>pres</th>\n      <th>tsun</th>\n      <th>coco</th>\n    </tr>\n    <tr>\n      <th>time</th>\n      <th></th>\n      <th></th>\n      <th></th>\n      <th></th>\n      <th></th>\n      <th></th>\n      <th></th>\n      <th></th>\n      <th></th>\n      <th></th>\n      <th></th>\n    </tr>\n  </thead>\n  <tbody>\n    <tr>\n      <th>1980-01-01 00:00:00</th>\n      <td>24.0</td>\n      <td>23.0</td>\n      <td>94.0</td>\n      <td>NaN</td>\n      <td>NaN</td>\n      <td>340.0</td>\n      <td>3.6</td>\n      <td>NaN</td>\n      <td>1010.2</td>\n      <td>NaN</td>\n      <td>NaN</td>\n    </tr>\n    <tr>\n      <th>1980-01-01 06:00:00</th>\n      <td>29.0</td>\n      <td>23.9</td>\n      <td>74.0</td>\n      <td>NaN</td>\n      <td>NaN</td>\n      <td>180.0</td>\n      <td>5.4</td>\n      <td>NaN</td>\n      <td>1007.9</td>\n      <td>NaN</td>\n      <td>NaN</td>\n    </tr>\n    <tr>\n      <th>1980-01-01 09:00:00</th>\n      <td>28.0</td>\n      <td>25.0</td>\n      <td>84.0</td>\n      <td>NaN</td>\n      <td>NaN</td>\n      <td>360.0</td>\n      <td>9.4</td>\n      <td>NaN</td>\n      <td>1006.4</td>\n      <td>NaN</td>\n      <td>NaN</td>\n    </tr>\n    <tr>\n      <th>1980-01-01 12:00:00</th>\n      <td>25.0</td>\n      <td>25.0</td>\n      <td>100.0</td>\n      <td>NaN</td>\n      <td>NaN</td>\n      <td>NaN</td>\n      <td>0.0</td>\n      <td>NaN</td>\n      <td>1008.0</td>\n      <td>NaN</td>\n      <td>NaN</td>\n    </tr>\n    <tr>\n      <th>1980-01-01 15:00:00</th>\n      <td>25.0</td>\n      <td>24.0</td>\n      <td>94.0</td>\n      <td>NaN</td>\n      <td>NaN</td>\n      <td>NaN</td>\n      <td>0.0</td>\n      <td>NaN</td>\n      <td>1009.5</td>\n      <td>NaN</td>\n      <td>NaN</td>\n    </tr>\n    <tr>\n      <th>...</th>\n      <td>...</td>\n      <td>...</td>\n      <td>...</td>\n      <td>...</td>\n      <td>...</td>\n      <td>...</td>\n      <td>...</td>\n      <td>...</td>\n      <td>...</td>\n      <td>...</td>\n      <td>...</td>\n    </tr>\n    <tr>\n      <th>2024-12-30 20:00:00</th>\n      <td>24.3</td>\n      <td>23.8</td>\n      <td>97.0</td>\n      <td>0.0</td>\n      <td>NaN</td>\n      <td>10.0</td>\n      <td>19.1</td>\n      <td>NaN</td>\n      <td>1007.9</td>\n      <td>NaN</td>\n      <td>3.0</td>\n    </tr>\n    <tr>\n      <th>2024-12-30 21:00:00</th>\n      <td>23.9</td>\n      <td>23.6</td>\n      <td>98.0</td>\n      <td>0.0</td>\n      <td>NaN</td>\n      <td>8.0</td>\n      <td>16.6</td>\n      <td>NaN</td>\n      <td>1008.1</td>\n      <td>NaN</td>\n      <td>5.0</td>\n    </tr>\n    <tr>\n      <th>2024-12-30 22:00:00</th>\n      <td>24.0</td>\n      <td>23.7</td>\n      <td>98.0</td>\n      <td>0.0</td>\n      <td>NaN</td>\n      <td>41.0</td>\n      <td>15.1</td>\n      <td>NaN</td>\n      <td>1008.4</td>\n      <td>NaN</td>\n      <td>5.0</td>\n    </tr>\n    <tr>\n      <th>2024-12-30 23:00:00</th>\n      <td>24.4</td>\n      <td>24.1</td>\n      <td>98.0</td>\n      <td>0.0</td>\n      <td>NaN</td>\n      <td>34.0</td>\n      <td>16.9</td>\n      <td>NaN</td>\n      <td>1008.9</td>\n      <td>NaN</td>\n      <td>5.0</td>\n    </tr>\n    <tr>\n      <th>2024-12-31 00:00:00</th>\n      <td>25.5</td>\n      <td>24.3</td>\n      <td>93.0</td>\n      <td>0.0</td>\n      <td>NaN</td>\n      <td>15.0</td>\n      <td>18.0</td>\n      <td>NaN</td>\n      <td>1009.2</td>\n      <td>NaN</td>\n      <td>5.0</td>\n    </tr>\n  </tbody>\n</table>\n<p>129035 rows × 11 columns</p>\n</div>"
          },
          "metadata": {}
        }
      ],
      "outputs_reference": null,
      "execution_count": 4,
      "block_group": "bfdb6ce948504a538a00dcf9789d50d6",
      "content_dependencies": null
    },
    {
      "cell_type": "code",
      "source": "data.describe()",
      "metadata": {
        "source_hash": "d786443f",
        "execution_start": 1735984967973,
        "execution_millis": 45,
        "execution_context_id": "a06c4c24-c6ff-4a93-96d3-22d8895ea17f",
        "cell_id": "41786ee89df546a7bfa16be24f10cf48",
        "deepnote_cell_type": "code"
      },
      "outputs": [
        {
          "output_type": "execute_result",
          "execution_count": 5,
          "data": {
            "application/vnd.deepnote.dataframe.v3+json": {
              "column_count": 11,
              "row_count": 8,
              "columns": [
                {
                  "name": "temp",
                  "dtype": "float64",
                  "stats": {
                    "unique_count": 8,
                    "nan_count": 0,
                    "min": "2.256588984887304",
                    "max": "128379.0",
                    "histogram": [
                      {
                        "bin_start": 2.256588984887304,
                        "bin_end": 12839.930930086397,
                        "count": 7
                      },
                      {
                        "bin_start": 12839.930930086397,
                        "bin_end": 25677.60527118791,
                        "count": 0
                      },
                      {
                        "bin_start": 25677.60527118791,
                        "bin_end": 38515.279612289414,
                        "count": 0
                      },
                      {
                        "bin_start": 38515.279612289414,
                        "bin_end": 51352.95395339093,
                        "count": 0
                      },
                      {
                        "bin_start": 51352.95395339093,
                        "bin_end": 64190.62829449244,
                        "count": 0
                      },
                      {
                        "bin_start": 64190.62829449244,
                        "bin_end": 77028.30263559395,
                        "count": 0
                      },
                      {
                        "bin_start": 77028.30263559395,
                        "bin_end": 89865.97697669547,
                        "count": 0
                      },
                      {
                        "bin_start": 89865.97697669547,
                        "bin_end": 102703.65131779698,
                        "count": 0
                      },
                      {
                        "bin_start": 102703.65131779698,
                        "bin_end": 115541.32565889848,
                        "count": 0
                      },
                      {
                        "bin_start": 115541.32565889848,
                        "bin_end": 128379,
                        "count": 1
                      }
                    ]
                  }
                },
                {
                  "name": "dwpt",
                  "dtype": "float64",
                  "stats": {
                    "unique_count": 8,
                    "nan_count": 0,
                    "min": "-23.7",
                    "max": "127730.0",
                    "histogram": [
                      {
                        "bin_start": -23.7,
                        "bin_end": 12751.669999999998,
                        "count": 7
                      },
                      {
                        "bin_start": 12751.669999999998,
                        "bin_end": 25527.039999999997,
                        "count": 0
                      },
                      {
                        "bin_start": 25527.039999999997,
                        "bin_end": 38302.41,
                        "count": 0
                      },
                      {
                        "bin_start": 38302.41,
                        "bin_end": 51077.78,
                        "count": 0
                      },
                      {
                        "bin_start": 51077.78,
                        "bin_end": 63853.149999999994,
                        "count": 0
                      },
                      {
                        "bin_start": 63853.149999999994,
                        "bin_end": 76628.52,
                        "count": 0
                      },
                      {
                        "bin_start": 76628.52,
                        "bin_end": 89403.89,
                        "count": 0
                      },
                      {
                        "bin_start": 89403.89,
                        "bin_end": 102179.26,
                        "count": 0
                      },
                      {
                        "bin_start": 102179.26,
                        "bin_end": 114954.62999999999,
                        "count": 0
                      },
                      {
                        "bin_start": 114954.62999999999,
                        "bin_end": 127730,
                        "count": 1
                      }
                    ]
                  }
                },
                {
                  "name": "rhum",
                  "dtype": "float64",
                  "stats": {
                    "unique_count": 8,
                    "nan_count": 0,
                    "min": "2.0",
                    "max": "127730.0",
                    "histogram": [
                      {
                        "bin_start": 2,
                        "bin_end": 12774.8,
                        "count": 7
                      },
                      {
                        "bin_start": 12774.8,
                        "bin_end": 25547.6,
                        "count": 0
                      },
                      {
                        "bin_start": 25547.6,
                        "bin_end": 38320.399999999994,
                        "count": 0
                      },
                      {
                        "bin_start": 38320.399999999994,
                        "bin_end": 51093.2,
                        "count": 0
                      },
                      {
                        "bin_start": 51093.2,
                        "bin_end": 63866,
                        "count": 0
                      },
                      {
                        "bin_start": 63866,
                        "bin_end": 76638.79999999999,
                        "count": 0
                      },
                      {
                        "bin_start": 76638.79999999999,
                        "bin_end": 89411.59999999999,
                        "count": 0
                      },
                      {
                        "bin_start": 89411.59999999999,
                        "bin_end": 102184.4,
                        "count": 0
                      },
                      {
                        "bin_start": 102184.4,
                        "bin_end": 114957.2,
                        "count": 0
                      },
                      {
                        "bin_start": 114957.2,
                        "bin_end": 127730,
                        "count": 1
                      }
                    ]
                  }
                },
                {
                  "name": "prcp",
                  "dtype": "float64",
                  "stats": {
                    "unique_count": 6,
                    "nan_count": 0,
                    "min": "0.0",
                    "max": "34763.0",
                    "histogram": [
                      {
                        "bin_start": 0,
                        "bin_end": 3476.3,
                        "count": 7
                      },
                      {
                        "bin_start": 3476.3,
                        "bin_end": 6952.6,
                        "count": 0
                      },
                      {
                        "bin_start": 6952.6,
                        "bin_end": 10428.900000000001,
                        "count": 0
                      },
                      {
                        "bin_start": 10428.900000000001,
                        "bin_end": 13905.2,
                        "count": 0
                      },
                      {
                        "bin_start": 13905.2,
                        "bin_end": 17381.5,
                        "count": 0
                      },
                      {
                        "bin_start": 17381.5,
                        "bin_end": 20857.800000000003,
                        "count": 0
                      },
                      {
                        "bin_start": 20857.800000000003,
                        "bin_end": 24334.100000000002,
                        "count": 0
                      },
                      {
                        "bin_start": 24334.100000000002,
                        "bin_end": 27810.4,
                        "count": 0
                      },
                      {
                        "bin_start": 27810.4,
                        "bin_end": 31286.7,
                        "count": 0
                      },
                      {
                        "bin_start": 31286.7,
                        "bin_end": 34763,
                        "count": 1
                      }
                    ]
                  }
                },
                {
                  "name": "snow",
                  "dtype": "float64",
                  "stats": {
                    "unique_count": 1,
                    "nan_count": 7,
                    "min": "0.0",
                    "max": "0.0",
                    "histogram": [
                      {
                        "bin_start": -0.5,
                        "bin_end": -0.4,
                        "count": 0
                      },
                      {
                        "bin_start": -0.4,
                        "bin_end": -0.3,
                        "count": 0
                      },
                      {
                        "bin_start": -0.3,
                        "bin_end": -0.19999999999999996,
                        "count": 0
                      },
                      {
                        "bin_start": -0.19999999999999996,
                        "bin_end": -0.09999999999999998,
                        "count": 0
                      },
                      {
                        "bin_start": -0.09999999999999998,
                        "bin_end": 0,
                        "count": 0
                      },
                      {
                        "bin_start": 0,
                        "bin_end": 0.10000000000000009,
                        "count": 1
                      },
                      {
                        "bin_start": 0.10000000000000009,
                        "bin_end": 0.20000000000000007,
                        "count": 0
                      },
                      {
                        "bin_start": 0.20000000000000007,
                        "bin_end": 0.30000000000000004,
                        "count": 0
                      },
                      {
                        "bin_start": 0.30000000000000004,
                        "bin_end": 0.4,
                        "count": 0
                      },
                      {
                        "bin_start": 0.4,
                        "bin_end": 0.5,
                        "count": 0
                      }
                    ]
                  }
                },
                {
                  "name": "wdir",
                  "dtype": "float64",
                  "stats": {
                    "unique_count": 8,
                    "nan_count": 0,
                    "min": "0.0",
                    "max": "101490.0",
                    "histogram": [
                      {
                        "bin_start": 0,
                        "bin_end": 10149,
                        "count": 7
                      },
                      {
                        "bin_start": 10149,
                        "bin_end": 20298,
                        "count": 0
                      },
                      {
                        "bin_start": 20298,
                        "bin_end": 30447,
                        "count": 0
                      },
                      {
                        "bin_start": 30447,
                        "bin_end": 40596,
                        "count": 0
                      },
                      {
                        "bin_start": 40596,
                        "bin_end": 50745,
                        "count": 0
                      },
                      {
                        "bin_start": 50745,
                        "bin_end": 60894,
                        "count": 0
                      },
                      {
                        "bin_start": 60894,
                        "bin_end": 71043,
                        "count": 0
                      },
                      {
                        "bin_start": 71043,
                        "bin_end": 81192,
                        "count": 0
                      },
                      {
                        "bin_start": 81192,
                        "bin_end": 91341,
                        "count": 0
                      },
                      {
                        "bin_start": 91341,
                        "bin_end": 101490,
                        "count": 1
                      }
                    ]
                  }
                },
                {
                  "name": "wspd",
                  "dtype": "float64",
                  "stats": {
                    "unique_count": 7,
                    "nan_count": 0,
                    "min": "0.0",
                    "max": "128573.0",
                    "histogram": [
                      {
                        "bin_start": 0,
                        "bin_end": 12857.3,
                        "count": 7
                      },
                      {
                        "bin_start": 12857.3,
                        "bin_end": 25714.6,
                        "count": 0
                      },
                      {
                        "bin_start": 25714.6,
                        "bin_end": 38571.899999999994,
                        "count": 0
                      },
                      {
                        "bin_start": 38571.899999999994,
                        "bin_end": 51429.2,
                        "count": 0
                      },
                      {
                        "bin_start": 51429.2,
                        "bin_end": 64286.5,
                        "count": 0
                      },
                      {
                        "bin_start": 64286.5,
                        "bin_end": 77143.79999999999,
                        "count": 0
                      },
                      {
                        "bin_start": 77143.79999999999,
                        "bin_end": 90001.09999999999,
                        "count": 0
                      },
                      {
                        "bin_start": 90001.09999999999,
                        "bin_end": 102858.4,
                        "count": 0
                      },
                      {
                        "bin_start": 102858.4,
                        "bin_end": 115715.7,
                        "count": 0
                      },
                      {
                        "bin_start": 115715.7,
                        "bin_end": 128573,
                        "count": 1
                      }
                    ]
                  }
                },
                {
                  "name": "wpgt",
                  "dtype": "float64",
                  "stats": {
                    "unique_count": 1,
                    "nan_count": 7,
                    "min": "0.0",
                    "max": "0.0",
                    "histogram": [
                      {
                        "bin_start": -0.5,
                        "bin_end": -0.4,
                        "count": 0
                      },
                      {
                        "bin_start": -0.4,
                        "bin_end": -0.3,
                        "count": 0
                      },
                      {
                        "bin_start": -0.3,
                        "bin_end": -0.19999999999999996,
                        "count": 0
                      },
                      {
                        "bin_start": -0.19999999999999996,
                        "bin_end": -0.09999999999999998,
                        "count": 0
                      },
                      {
                        "bin_start": -0.09999999999999998,
                        "bin_end": 0,
                        "count": 0
                      },
                      {
                        "bin_start": 0,
                        "bin_end": 0.10000000000000009,
                        "count": 1
                      },
                      {
                        "bin_start": 0.10000000000000009,
                        "bin_end": 0.20000000000000007,
                        "count": 0
                      },
                      {
                        "bin_start": 0.20000000000000007,
                        "bin_end": 0.30000000000000004,
                        "count": 0
                      },
                      {
                        "bin_start": 0.30000000000000004,
                        "bin_end": 0.4,
                        "count": 0
                      },
                      {
                        "bin_start": 0.4,
                        "bin_end": 0.5,
                        "count": 0
                      }
                    ]
                  }
                },
                {
                  "name": "pres",
                  "dtype": "float64",
                  "stats": {
                    "unique_count": 8,
                    "nan_count": 0,
                    "min": "2.168972400597267",
                    "max": "127983.0",
                    "histogram": [
                      {
                        "bin_start": 2.168972400597267,
                        "bin_end": 12800.252075160537,
                        "count": 7
                      },
                      {
                        "bin_start": 12800.252075160537,
                        "bin_end": 25598.335177920475,
                        "count": 0
                      },
                      {
                        "bin_start": 25598.335177920475,
                        "bin_end": 38396.41828068042,
                        "count": 0
                      },
                      {
                        "bin_start": 38396.41828068042,
                        "bin_end": 51194.50138344036,
                        "count": 0
                      },
                      {
                        "bin_start": 51194.50138344036,
                        "bin_end": 63992.5844862003,
                        "count": 0
                      },
                      {
                        "bin_start": 63992.5844862003,
                        "bin_end": 76790.66758896023,
                        "count": 0
                      },
                      {
                        "bin_start": 76790.66758896023,
                        "bin_end": 89588.75069172018,
                        "count": 0
                      },
                      {
                        "bin_start": 89588.75069172018,
                        "bin_end": 102386.83379448012,
                        "count": 0
                      },
                      {
                        "bin_start": 102386.83379448012,
                        "bin_end": 115184.91689724005,
                        "count": 0
                      },
                      {
                        "bin_start": 115184.91689724005,
                        "bin_end": 127983,
                        "count": 1
                      }
                    ]
                  }
                },
                {
                  "name": "tsun",
                  "dtype": "float64",
                  "stats": {
                    "unique_count": 1,
                    "nan_count": 7,
                    "min": "0.0",
                    "max": "0.0",
                    "histogram": [
                      {
                        "bin_start": -0.5,
                        "bin_end": -0.4,
                        "count": 0
                      },
                      {
                        "bin_start": -0.4,
                        "bin_end": -0.3,
                        "count": 0
                      },
                      {
                        "bin_start": -0.3,
                        "bin_end": -0.19999999999999996,
                        "count": 0
                      },
                      {
                        "bin_start": -0.19999999999999996,
                        "bin_end": -0.09999999999999998,
                        "count": 0
                      },
                      {
                        "bin_start": -0.09999999999999998,
                        "bin_end": 0,
                        "count": 0
                      },
                      {
                        "bin_start": 0,
                        "bin_end": 0.10000000000000009,
                        "count": 1
                      },
                      {
                        "bin_start": 0.10000000000000009,
                        "bin_end": 0.20000000000000007,
                        "count": 0
                      },
                      {
                        "bin_start": 0.20000000000000007,
                        "bin_end": 0.30000000000000004,
                        "count": 0
                      },
                      {
                        "bin_start": 0.30000000000000004,
                        "bin_end": 0.4,
                        "count": 0
                      },
                      {
                        "bin_start": 0.4,
                        "bin_end": 0.5,
                        "count": 0
                      }
                    ]
                  }
                },
                {
                  "name": "coco",
                  "dtype": "float64",
                  "stats": {
                    "unique_count": 7,
                    "nan_count": 0,
                    "min": "1.0",
                    "max": "22110.0",
                    "histogram": [
                      {
                        "bin_start": 1,
                        "bin_end": 2211.9,
                        "count": 7
                      },
                      {
                        "bin_start": 2211.9,
                        "bin_end": 4422.8,
                        "count": 0
                      },
                      {
                        "bin_start": 4422.8,
                        "bin_end": 6633.700000000001,
                        "count": 0
                      },
                      {
                        "bin_start": 6633.700000000001,
                        "bin_end": 8844.6,
                        "count": 0
                      },
                      {
                        "bin_start": 8844.6,
                        "bin_end": 11055.5,
                        "count": 0
                      },
                      {
                        "bin_start": 11055.5,
                        "bin_end": 13266.400000000001,
                        "count": 0
                      },
                      {
                        "bin_start": 13266.400000000001,
                        "bin_end": 15477.300000000001,
                        "count": 0
                      },
                      {
                        "bin_start": 15477.300000000001,
                        "bin_end": 17688.2,
                        "count": 0
                      },
                      {
                        "bin_start": 17688.2,
                        "bin_end": 19899.100000000002,
                        "count": 0
                      },
                      {
                        "bin_start": 19899.100000000002,
                        "bin_end": 22110,
                        "count": 1
                      }
                    ]
                  }
                },
                {
                  "name": "_deepnote_index_column",
                  "dtype": "object"
                }
              ],
              "rows": [
                {
                  "temp": 128379,
                  "dwpt": 127730,
                  "rhum": 127730,
                  "prcp": 34763,
                  "snow": 0,
                  "wdir": 101490,
                  "wspd": 128573,
                  "wpgt": 0,
                  "pres": 127983,
                  "tsun": 0,
                  "coco": 22110,
                  "_deepnote_index_column": "count"
                },
                {
                  "temp": 26.938013226462274,
                  "dwpt": 23.63711422531903,
                  "rhum": 82.78153135520238,
                  "prcp": 0.20953312429882345,
                  "snow": "nan",
                  "wdir": 155.62835747364272,
                  "wspd": 8.701777200500882,
                  "wpgt": "nan",
                  "pres": 1010.9106318807967,
                  "tsun": "nan",
                  "coco": 4.6277702397105385,
                  "_deepnote_index_column": "mean"
                },
                {
                  "temp": 2.256588984887304,
                  "dwpt": 1.2302005868505312,
                  "rhum": 9.519453211716607,
                  "prcp": 0.7201498112248566,
                  "snow": "nan",
                  "wdir": 87.32775778511689,
                  "wspd": 7.556324763268926,
                  "wpgt": "nan",
                  "pres": 2.168972400597267,
                  "tsun": "nan",
                  "coco": 3.7955969374613177,
                  "_deepnote_index_column": "std"
                },
                {
                  "temp": 2.5,
                  "dwpt": -23.7,
                  "rhum": 2,
                  "prcp": 0,
                  "snow": "nan",
                  "wdir": 0,
                  "wspd": 0,
                  "wpgt": "nan",
                  "pres": 912.4,
                  "tsun": "nan",
                  "coco": 1,
                  "_deepnote_index_column": "min"
                },
                {
                  "temp": 25.2,
                  "dwpt": 23,
                  "rhum": 75,
                  "prcp": 0,
                  "snow": "nan",
                  "wdir": 103,
                  "wspd": 0,
                  "wpgt": "nan",
                  "pres": 1009.5,
                  "tsun": "nan",
                  "coco": 3,
                  "_deepnote_index_column": "25%"
                },
                {
                  "temp": 26.6,
                  "dwpt": 23.8,
                  "rhum": 84,
                  "prcp": 0,
                  "snow": "nan",
                  "wdir": 130,
                  "wspd": 7.9,
                  "wpgt": "nan",
                  "pres": 1011,
                  "tsun": "nan",
                  "coco": 3,
                  "_deepnote_index_column": "50%"
                },
                {
                  "temp": 28.5,
                  "dwpt": 24.4,
                  "rhum": 91,
                  "prcp": 0.1,
                  "snow": "nan",
                  "wdir": 220,
                  "wspd": 13,
                  "wpgt": "nan",
                  "pres": 1012.4,
                  "tsun": "nan",
                  "coco": 7,
                  "_deepnote_index_column": "75%"
                },
                {
                  "temp": 55.6,
                  "dwpt": 31.6,
                  "rhum": 100,
                  "prcp": 21.1,
                  "snow": "nan",
                  "wdir": 360,
                  "wspd": 192.6,
                  "wpgt": "nan",
                  "pres": 1068,
                  "tsun": "nan",
                  "coco": 18,
                  "_deepnote_index_column": "max"
                }
              ]
            },
            "text/plain": "                temp           dwpt           rhum          prcp  snow  \\\ncount  128379.000000  127730.000000  127730.000000  34763.000000   0.0   \nmean       26.938013      23.637114      82.781531      0.209533   NaN   \nstd         2.256589       1.230201       9.519453      0.720150   NaN   \nmin         2.500000     -23.700000       2.000000      0.000000   NaN   \n25%        25.200000      23.000000      75.000000      0.000000   NaN   \n50%        26.600000      23.800000      84.000000      0.000000   NaN   \n75%        28.500000      24.400000      91.000000      0.100000   NaN   \nmax        55.600000      31.600000     100.000000     21.100000   NaN   \n\n                wdir           wspd  wpgt           pres  tsun          coco  \ncount  101490.000000  128573.000000   0.0  127983.000000   0.0  22110.000000  \nmean      155.628357       8.701777   NaN    1010.910632   NaN      4.627770  \nstd        87.327758       7.556325   NaN       2.168972   NaN      3.795597  \nmin         0.000000       0.000000   NaN     912.400000   NaN      1.000000  \n25%       103.000000       0.000000   NaN    1009.500000   NaN      3.000000  \n50%       130.000000       7.900000   NaN    1011.000000   NaN      3.000000  \n75%       220.000000      13.000000   NaN    1012.400000   NaN      7.000000  \nmax       360.000000     192.600000   NaN    1068.000000   NaN     18.000000  ",
            "text/html": "<div>\n<style scoped>\n    .dataframe tbody tr th:only-of-type {\n        vertical-align: middle;\n    }\n\n    .dataframe tbody tr th {\n        vertical-align: top;\n    }\n\n    .dataframe thead th {\n        text-align: right;\n    }\n</style>\n<table border=\"1\" class=\"dataframe\">\n  <thead>\n    <tr style=\"text-align: right;\">\n      <th></th>\n      <th>temp</th>\n      <th>dwpt</th>\n      <th>rhum</th>\n      <th>prcp</th>\n      <th>snow</th>\n      <th>wdir</th>\n      <th>wspd</th>\n      <th>wpgt</th>\n      <th>pres</th>\n      <th>tsun</th>\n      <th>coco</th>\n    </tr>\n  </thead>\n  <tbody>\n    <tr>\n      <th>count</th>\n      <td>128379.000000</td>\n      <td>127730.000000</td>\n      <td>127730.000000</td>\n      <td>34763.000000</td>\n      <td>0.0</td>\n      <td>101490.000000</td>\n      <td>128573.000000</td>\n      <td>0.0</td>\n      <td>127983.000000</td>\n      <td>0.0</td>\n      <td>22110.000000</td>\n    </tr>\n    <tr>\n      <th>mean</th>\n      <td>26.938013</td>\n      <td>23.637114</td>\n      <td>82.781531</td>\n      <td>0.209533</td>\n      <td>NaN</td>\n      <td>155.628357</td>\n      <td>8.701777</td>\n      <td>NaN</td>\n      <td>1010.910632</td>\n      <td>NaN</td>\n      <td>4.627770</td>\n    </tr>\n    <tr>\n      <th>std</th>\n      <td>2.256589</td>\n      <td>1.230201</td>\n      <td>9.519453</td>\n      <td>0.720150</td>\n      <td>NaN</td>\n      <td>87.327758</td>\n      <td>7.556325</td>\n      <td>NaN</td>\n      <td>2.168972</td>\n      <td>NaN</td>\n      <td>3.795597</td>\n    </tr>\n    <tr>\n      <th>min</th>\n      <td>2.500000</td>\n      <td>-23.700000</td>\n      <td>2.000000</td>\n      <td>0.000000</td>\n      <td>NaN</td>\n      <td>0.000000</td>\n      <td>0.000000</td>\n      <td>NaN</td>\n      <td>912.400000</td>\n      <td>NaN</td>\n      <td>1.000000</td>\n    </tr>\n    <tr>\n      <th>25%</th>\n      <td>25.200000</td>\n      <td>23.000000</td>\n      <td>75.000000</td>\n      <td>0.000000</td>\n      <td>NaN</td>\n      <td>103.000000</td>\n      <td>0.000000</td>\n      <td>NaN</td>\n      <td>1009.500000</td>\n      <td>NaN</td>\n      <td>3.000000</td>\n    </tr>\n    <tr>\n      <th>50%</th>\n      <td>26.600000</td>\n      <td>23.800000</td>\n      <td>84.000000</td>\n      <td>0.000000</td>\n      <td>NaN</td>\n      <td>130.000000</td>\n      <td>7.900000</td>\n      <td>NaN</td>\n      <td>1011.000000</td>\n      <td>NaN</td>\n      <td>3.000000</td>\n    </tr>\n    <tr>\n      <th>75%</th>\n      <td>28.500000</td>\n      <td>24.400000</td>\n      <td>91.000000</td>\n      <td>0.100000</td>\n      <td>NaN</td>\n      <td>220.000000</td>\n      <td>13.000000</td>\n      <td>NaN</td>\n      <td>1012.400000</td>\n      <td>NaN</td>\n      <td>7.000000</td>\n    </tr>\n    <tr>\n      <th>max</th>\n      <td>55.600000</td>\n      <td>31.600000</td>\n      <td>100.000000</td>\n      <td>21.100000</td>\n      <td>NaN</td>\n      <td>360.000000</td>\n      <td>192.600000</td>\n      <td>NaN</td>\n      <td>1068.000000</td>\n      <td>NaN</td>\n      <td>18.000000</td>\n    </tr>\n  </tbody>\n</table>\n</div>"
          },
          "metadata": {}
        }
      ],
      "outputs_reference": null,
      "execution_count": 5,
      "block_group": "f74f8cfa62ee4dcc9b5034b999c13524",
      "content_dependencies": null
    },
    {
      "cell_type": "code",
      "source": "# Plot line chart\ndata.plot(y=['temp', 'rhum','prcp','pres','wspd'], subplots=True, figsize=(10, 15))\nplt.show()",
      "metadata": {
        "source_hash": "61f460",
        "execution_start": 1735984968063,
        "execution_millis": 2628,
        "execution_context_id": "a06c4c24-c6ff-4a93-96d3-22d8895ea17f",
        "cell_id": "eaa80e7972a64071b7c9e080eba5ee56",
        "deepnote_cell_type": "code"
      },
      "outputs": [
        {
          "data": {
            "text/plain": "<Figure size 1000x1500 with 5 Axes>",
            "image/png": "[encoded data removed]"
          },
          "metadata": {
            "image/png": {
              "width": 839,
              "height": 1099
            }
          },
          "output_type": "display_data"
        }
      ],
      "outputs_reference": null,
      "execution_count": 6,
      "block_group": "109d5305802d42c3b31ca507b6942433",
      "content_dependencies": null
    },
    {
      "cell_type": "code",
      "source": "",
      "metadata": {
        "source_hash": "b623e53d",
        "execution_start": 1735984970738,
        "execution_millis": 1,
        "execution_context_id": "a06c4c24-c6ff-4a93-96d3-22d8895ea17f",
        "cell_id": "41fbc88d74184e7e9e3a9e568f5ad804",
        "deepnote_cell_type": "code"
      },
      "outputs": [],
      "outputs_reference": null,
      "execution_count": 6,
      "block_group": "b519a60d2c9e4abcb19339d44ecd231d",
      "content_dependencies": null
    },
    {
      "cell_type": "markdown",
      "source": "<a style='text-decoration:none;line-height:16px;display:flex;color:#5B5B62;padding:10px;justify-content:end;' href='https://deepnote.com?utm_source=created-in-deepnote-cell&projectId=200afad5-8991-4e20-8a55-8751c7aff3b5' target=\"_blank\">\n<img alt='Created in deepnote.com' style='display:inline;max-height:16px;margin:0px;margin-right:7.5px;' src='data:image/svg+xml;base64,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' > </img>\nCreated in <span style='font-weight:600;margin-left:4px;'>Deepnote</span></a>",
      "metadata": {
        "created_in_deepnote_cell": true,
        "deepnote_cell_type": "markdown"
      }
    }
  ],
  "nbformat": 4,
  "nbformat_minor": 0,
  "metadata": {
    "deepnote_notebook_id": "f1ae081b29a2481280fa43fafc1c0b7e"
  }
}