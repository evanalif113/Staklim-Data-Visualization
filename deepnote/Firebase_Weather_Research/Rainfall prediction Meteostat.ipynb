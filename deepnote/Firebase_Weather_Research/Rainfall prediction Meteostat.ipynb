{
  "cells": [
    {
      "cell_type": "code",
      "source": "from datetime import datetime\nimport matplotlib.pyplot as plt\nfrom meteostat import Stations, Daily",
      "metadata": {
        "source_hash": "9271ec5f",
        "execution_start": 1735976788398,
        "execution_millis": 920,
        "execution_context_id": "ef66dc3f-614e-46ff-82dd-b171101c8c6c",
        "cell_id": "b3d7d7cdc5414391ad9c226ff1b04fc9",
        "deepnote_cell_type": "code"
      },
      "outputs": [],
      "outputs_reference": null,
      "execution_count": 1,
      "block_group": "b3d7d7cdc5414391ad9c226ff1b04fc9",
      "content_dependencies": null
    },
    {
      "cell_type": "code",
      "source": "# Set time period\nstart = datetime(1980, 1, 1)\nend = datetime(2024, 12, 31)",
      "metadata": {
        "source_hash": "435d9d9b",
        "execution_start": 1735976789366,
        "execution_millis": 0,
        "execution_context_id": "c9f404e7-dc73-42d6-94ce-ee26c6a47b46",
        "cell_id": "1ae5272e7b514837a1bee7af24b5122c",
        "deepnote_cell_type": "code"
      },
      "outputs": [],
      "outputs_reference": null,
      "execution_count": 2,
      "block_group": "731bdf1aa94a48d298478480f5b03ccf",
      "content_dependencies": null
    },
    {
      "cell_type": "code",
      "source": "# Get daily data\ndata = Daily('96805', start, end)\ndata = data.fetch()",
      "metadata": {
        "source_hash": "9c342743",
        "execution_start": 1735976789414,
        "execution_millis": 0,
        "execution_context_id": "a8f1ea56-bbe5-48a0-855f-149b95c2e8c7",
        "cell_id": "9a02e629c6bf4da6bd1a3f78d285e00e",
        "deepnote_cell_type": "code"
      },
      "outputs": [],
      "outputs_reference": null,
      "execution_count": 3,
      "block_group": "806b7fb4e16e41488a0976beefa7158a",
      "content_dependencies": null
    },
    {
      "cell_type": "code",
      "source": "data",
      "metadata": {
        "source_hash": "e6928a8f",
        "execution_start": 1735976789458,
        "execution_millis": 1,
        "execution_context_id": "a8d5212a-79ce-45cd-9cd3-8bb0baa889fe",
        "cell_id": "0f084dc7d1394d5c9c89e92648e76e61",
        "deepnote_cell_type": "code"
      },
      "outputs": [
        {
          "output_type": "execute_result",
          "execution_count": 4,
          "data": {
            "application/vnd.deepnote.dataframe.v3+json": {
              "column_count": 10,
              "row_count": 14750,
              "columns": [
                {
                  "name": "tavg",
                  "dtype": "float64",
                  "stats": {
                    "unique_count": 87,
                    "nan_count": 0,
                    "min": "20.8",
                    "max": "33.9",
                    "histogram": [
                      {
                        "bin_start": 20.8,
                        "bin_end": 22.11,
                        "count": 4
                      },
                      {
                        "bin_start": 22.11,
                        "bin_end": 23.42,
                        "count": 43
                      },
                      {
                        "bin_start": 23.42,
                        "bin_end": 24.73,
                        "count": 414
                      },
                      {
                        "bin_start": 24.73,
                        "bin_end": 26.04,
                        "count": 2245
                      },
                      {
                        "bin_start": 26.04,
                        "bin_end": 27.35,
                        "count": 5566
                      },
                      {
                        "bin_start": 27.35,
                        "bin_end": 28.66,
                        "count": 5292
                      },
                      {
                        "bin_start": 28.66,
                        "bin_end": 29.97,
                        "count": 1162
                      },
                      {
                        "bin_start": 29.97,
                        "bin_end": 31.28,
                        "count": 23
                      },
                      {
                        "bin_start": 31.28,
                        "bin_end": 32.59,
                        "count": 0
                      },
                      {
                        "bin_start": 32.59,
                        "bin_end": 33.9,
                        "count": 1
                      }
                    ]
                  }
                },
                {
                  "name": "tmin",
                  "dtype": "float64",
                  "stats": {
                    "unique_count": 91,
                    "nan_count": 4781,
                    "min": "15.1",
                    "max": "27.2",
                    "histogram": [
                      {
                        "bin_start": 15.1,
                        "bin_end": 16.31,
                        "count": 2
                      },
                      {
                        "bin_start": 16.31,
                        "bin_end": 17.52,
                        "count": 1
                      },
                      {
                        "bin_start": 17.52,
                        "bin_end": 18.73,
                        "count": 6
                      },
                      {
                        "bin_start": 18.73,
                        "bin_end": 19.939999999999998,
                        "count": 54
                      },
                      {
                        "bin_start": 19.939999999999998,
                        "bin_end": 21.15,
                        "count": 218
                      },
                      {
                        "bin_start": 21.15,
                        "bin_end": 22.36,
                        "count": 739
                      },
                      {
                        "bin_start": 22.36,
                        "bin_end": 23.57,
                        "count": 2043
                      },
                      {
                        "bin_start": 23.57,
                        "bin_end": 24.78,
                        "count": 4219
                      },
                      {
                        "bin_start": 24.78,
                        "bin_end": 25.990000000000002,
                        "count": 2404
                      },
                      {
                        "bin_start": 25.990000000000002,
                        "bin_end": 27.2,
                        "count": 283
                      }
                    ]
                  }
                },
                {
                  "name": "tmax",
                  "dtype": "float64",
                  "stats": {
                    "unique_count": 116,
                    "nan_count": 3623,
                    "min": "24.6",
                    "max": "39.4",
                    "histogram": [
                      {
                        "bin_start": 24.6,
                        "bin_end": 26.080000000000002,
                        "count": 25
                      },
                      {
                        "bin_start": 26.080000000000002,
                        "bin_end": 27.560000000000002,
                        "count": 179
                      },
                      {
                        "bin_start": 27.560000000000002,
                        "bin_end": 29.04,
                        "count": 1531
                      },
                      {
                        "bin_start": 29.04,
                        "bin_end": 30.52,
                        "count": 2942
                      },
                      {
                        "bin_start": 30.52,
                        "bin_end": 32,
                        "count": 3817
                      },
                      {
                        "bin_start": 32,
                        "bin_end": 33.480000000000004,
                        "count": 2419
                      },
                      {
                        "bin_start": 33.480000000000004,
                        "bin_end": 34.96,
                        "count": 189
                      },
                      {
                        "bin_start": 34.96,
                        "bin_end": 36.44,
                        "count": 10
                      },
                      {
                        "bin_start": 36.44,
                        "bin_end": 37.92,
                        "count": 6
                      },
                      {
                        "bin_start": 37.92,
                        "bin_end": 39.4,
                        "count": 9
                      }
                    ]
                  }
                },
                {
                  "name": "prcp",
                  "dtype": "float64",
                  "stats": {
                    "unique_count": 316,
                    "nan_count": 9880,
                    "min": "0.0",
                    "max": "197.1",
                    "histogram": [
                      {
                        "bin_start": 0,
                        "bin_end": 19.71,
                        "count": 4519
                      },
                      {
                        "bin_start": 19.71,
                        "bin_end": 39.42,
                        "count": 224
                      },
                      {
                        "bin_start": 39.42,
                        "bin_end": 59.13,
                        "count": 63
                      },
                      {
                        "bin_start": 59.13,
                        "bin_end": 78.84,
                        "count": 37
                      },
                      {
                        "bin_start": 78.84,
                        "bin_end": 98.55000000000001,
                        "count": 14
                      },
                      {
                        "bin_start": 98.55000000000001,
                        "bin_end": 118.26,
                        "count": 5
                      },
                      {
                        "bin_start": 118.26,
                        "bin_end": 137.97,
                        "count": 4
                      },
                      {
                        "bin_start": 137.97,
                        "bin_end": 157.68,
                        "count": 1
                      },
                      {
                        "bin_start": 157.68,
                        "bin_end": 177.39000000000001,
                        "count": 2
                      },
                      {
                        "bin_start": 177.39000000000001,
                        "bin_end": 197.1,
                        "count": 1
                      }
                    ]
                  }
                },
                {
                  "name": "snow",
                  "dtype": "float64",
                  "stats": {
                    "unique_count": 0,
                    "nan_count": 14750,
                    "min": null,
                    "max": null,
                    "histogram": [
                      {
                        "bin_start": 0,
                        "bin_end": 0.1,
                        "count": 0
                      },
                      {
                        "bin_start": 0.1,
                        "bin_end": 0.2,
                        "count": 0
                      },
                      {
                        "bin_start": 0.2,
                        "bin_end": 0.30000000000000004,
                        "count": 0
                      },
                      {
                        "bin_start": 0.30000000000000004,
                        "bin_end": 0.4,
                        "count": 0
                      },
                      {
                        "bin_start": 0.4,
                        "bin_end": 0.5,
                        "count": 0
                      },
                      {
                        "bin_start": 0.5,
                        "bin_end": 0.6000000000000001,
                        "count": 0
                      },
                      {
                        "bin_start": 0.6000000000000001,
                        "bin_end": 0.7000000000000001,
                        "count": 0
                      },
                      {
                        "bin_start": 0.7000000000000001,
                        "bin_end": 0.8,
                        "count": 0
                      },
                      {
                        "bin_start": 0.8,
                        "bin_end": 0.9,
                        "count": 0
                      },
                      {
                        "bin_start": 0.9,
                        "bin_end": 1,
                        "count": 0
                      }
                    ]
                  }
                },
                {
                  "name": "wdir",
                  "dtype": "float64",
                  "stats": {
                    "unique_count": 277,
                    "nan_count": 13299,
                    "min": "0.0",
                    "max": "360.0",
                    "histogram": [
                      {
                        "bin_start": 0,
                        "bin_end": 36,
                        "count": 55
                      },
                      {
                        "bin_start": 36,
                        "bin_end": 72,
                        "count": 74
                      },
                      {
                        "bin_start": 72,
                        "bin_end": 108,
                        "count": 347
                      },
                      {
                        "bin_start": 108,
                        "bin_end": 144,
                        "count": 463
                      },
                      {
                        "bin_start": 144,
                        "bin_end": 180,
                        "count": 18
                      },
                      {
                        "bin_start": 180,
                        "bin_end": 216,
                        "count": 11
                      },
                      {
                        "bin_start": 216,
                        "bin_end": 252,
                        "count": 25
                      },
                      {
                        "bin_start": 252,
                        "bin_end": 288,
                        "count": 153
                      },
                      {
                        "bin_start": 288,
                        "bin_end": 324,
                        "count": 185
                      },
                      {
                        "bin_start": 324,
                        "bin_end": 360,
                        "count": 120
                      }
                    ]
                  }
                },
                {
                  "name": "wspd",
                  "dtype": "float64"
                },
                {
                  "name": "wpgt",
                  "dtype": "float64"
                },
                {
                  "name": "pres",
                  "dtype": "float64"
                },
                {
                  "name": "tsun",
                  "dtype": "float64"
                },
                {
                  "name": "_deepnote_index_column",
                  "dtype": "datetime64[ns]"
                }
              ],
              "rows": [
                {
                  "tavg": 26.2,
                  "tmin": 22,
                  "tmax": 31,
                  "prcp": 25.9,
                  "snow": "nan",
                  "wdir": "nan",
                  "wspd": "nan",
                  "wpgt": "nan",
                  "pres": "nan",
                  "tsun": "nan",
                  "_deepnote_index_column": "1980-01-01 00:00:00"
                },
                {
                  "tavg": 27.4,
                  "tmin": 23,
                  "tmax": 31,
                  "prcp": 13,
                  "snow": "nan",
                  "wdir": "nan",
                  "wspd": "nan",
                  "wpgt": "nan",
                  "pres": "nan",
                  "tsun": "nan",
                  "_deepnote_index_column": "1980-01-02 00:00:00"
                },
                {
                  "tavg": 28.2,
                  "tmin": "nan",
                  "tmax": "nan",
                  "prcp": 0,
                  "snow": "nan",
                  "wdir": "nan",
                  "wspd": "nan",
                  "wpgt": "nan",
                  "pres": "nan",
                  "tsun": "nan",
                  "_deepnote_index_column": "1980-01-03 00:00:00"
                },
                {
                  "tavg": 27.3,
                  "tmin": 24,
                  "tmax": 31,
                  "prcp": 6.1,
                  "snow": "nan",
                  "wdir": "nan",
                  "wspd": "nan",
                  "wpgt": "nan",
                  "pres": "nan",
                  "tsun": "nan",
                  "_deepnote_index_column": "1980-01-04 00:00:00"
                },
                {
                  "tavg": 28,
                  "tmin": 24,
                  "tmax": 31,
                  "prcp": 7.9,
                  "snow": "nan",
                  "wdir": "nan",
                  "wspd": "nan",
                  "wpgt": "nan",
                  "pres": "nan",
                  "tsun": "nan",
                  "_deepnote_index_column": "1980-01-05 00:00:00"
                },
                {
                  "tavg": 27.7,
                  "tmin": 24,
                  "tmax": 32,
                  "prcp": 9.9,
                  "snow": "nan",
                  "wdir": "nan",
                  "wspd": "nan",
                  "wpgt": "nan",
                  "pres": "nan",
                  "tsun": "nan",
                  "_deepnote_index_column": "1980-01-06 00:00:00"
                },
                {
                  "tavg": 25.8,
                  "tmin": "nan",
                  "tmax": 31,
                  "prcp": 0,
                  "snow": "nan",
                  "wdir": "nan",
                  "wspd": "nan",
                  "wpgt": "nan",
                  "pres": "nan",
                  "tsun": "nan",
                  "_deepnote_index_column": "1980-01-07 00:00:00"
                },
                {
                  "tavg": 26,
                  "tmin": 23,
                  "tmax": 31,
                  "prcp": 7.1,
                  "snow": "nan",
                  "wdir": "nan",
                  "wspd": "nan",
                  "wpgt": "nan",
                  "pres": "nan",
                  "tsun": "nan",
                  "_deepnote_index_column": "1980-01-08 00:00:00"
                },
                {
                  "tavg": 27.7,
                  "tmin": 24,
                  "tmax": 32,
                  "prcp": 4.1,
                  "snow": "nan",
                  "wdir": "nan",
                  "wspd": "nan",
                  "wpgt": "nan",
                  "pres": "nan",
                  "tsun": "nan",
                  "_deepnote_index_column": "1980-01-09 00:00:00"
                },
                {
                  "tavg": 26.7,
                  "tmin": 23,
                  "tmax": 32,
                  "prcp": 53.1,
                  "snow": "nan",
                  "wdir": "nan",
                  "wspd": "nan",
                  "wpgt": "nan",
                  "pres": "nan",
                  "tsun": "nan",
                  "_deepnote_index_column": "1980-01-10 00:00:00"
                }
              ]
            },
            "text/plain": "            tavg  tmin  tmax  prcp  snow   wdir  wspd  wpgt    pres  tsun\ntime                                                                     \n1980-01-01  26.2  22.0  31.0  25.9   NaN    NaN   NaN   NaN     NaN   NaN\n1980-01-02  27.4  23.0  31.0  13.0   NaN    NaN   NaN   NaN     NaN   NaN\n1980-01-03  28.2   NaN   NaN   0.0   NaN    NaN   NaN   NaN     NaN   NaN\n1980-01-04  27.3  24.0  31.0   6.1   NaN    NaN   NaN   NaN     NaN   NaN\n1980-01-05  28.0  24.0  31.0   7.9   NaN    NaN   NaN   NaN     NaN   NaN\n...          ...   ...   ...   ...   ...    ...   ...   ...     ...   ...\n2024-12-27  28.8  25.0  32.8   0.0   NaN  305.0  13.4   NaN  1011.2   NaN\n2024-12-28  28.6  25.0  32.4   7.0   NaN  295.0  13.6   NaN  1010.7   NaN\n2024-12-29  28.1  24.8  31.2   1.4   NaN  278.0  13.7   NaN  1009.9   NaN\n2024-12-30  28.2  24.6  29.9  12.1   NaN  305.0  23.5   NaN  1009.5   NaN\n2024-12-31  27.8  24.5  32.0   7.0   NaN  320.0  24.9   NaN  1008.8   NaN\n\n[14750 rows x 10 columns]",
            "text/html": "<div>\n<style scoped>\n    .dataframe tbody tr th:only-of-type {\n        vertical-align: middle;\n    }\n\n    .dataframe tbody tr th {\n        vertical-align: top;\n    }\n\n    .dataframe thead th {\n        text-align: right;\n    }\n</style>\n<table border=\"1\" class=\"dataframe\">\n  <thead>\n    <tr style=\"text-align: right;\">\n      <th></th>\n      <th>tavg</th>\n      <th>tmin</th>\n      <th>tmax</th>\n      <th>prcp</th>\n      <th>snow</th>\n      <th>wdir</th>\n      <th>wspd</th>\n      <th>wpgt</th>\n      <th>pres</th>\n      <th>tsun</th>\n    </tr>\n    <tr>\n      <th>time</th>\n      <th></th>\n      <th></th>\n      <th></th>\n      <th></th>\n      <th></th>\n      <th></th>\n      <th></th>\n      <th></th>\n      <th></th>\n      <th></th>\n    </tr>\n  </thead>\n  <tbody>\n    <tr>\n      <th>1980-01-01</th>\n      <td>26.2</td>\n      <td>22.0</td>\n      <td>31.0</td>\n      <td>25.9</td>\n      <td>NaN</td>\n      <td>NaN</td>\n      <td>NaN</td>\n      <td>NaN</td>\n      <td>NaN</td>\n      <td>NaN</td>\n    </tr>\n    <tr>\n      <th>1980-01-02</th>\n      <td>27.4</td>\n      <td>23.0</td>\n      <td>31.0</td>\n      <td>13.0</td>\n      <td>NaN</td>\n      <td>NaN</td>\n      <td>NaN</td>\n      <td>NaN</td>\n      <td>NaN</td>\n      <td>NaN</td>\n    </tr>\n    <tr>\n      <th>1980-01-03</th>\n      <td>28.2</td>\n      <td>NaN</td>\n      <td>NaN</td>\n      <td>0.0</td>\n      <td>NaN</td>\n      <td>NaN</td>\n      <td>NaN</td>\n      <td>NaN</td>\n      <td>NaN</td>\n      <td>NaN</td>\n    </tr>\n    <tr>\n      <th>1980-01-04</th>\n      <td>27.3</td>\n      <td>24.0</td>\n      <td>31.0</td>\n      <td>6.1</td>\n      <td>NaN</td>\n      <td>NaN</td>\n      <td>NaN</td>\n      <td>NaN</td>\n      <td>NaN</td>\n      <td>NaN</td>\n    </tr>\n    <tr>\n      <th>1980-01-05</th>\n      <td>28.0</td>\n      <td>24.0</td>\n      <td>31.0</td>\n      <td>7.9</td>\n      <td>NaN</td>\n      <td>NaN</td>\n      <td>NaN</td>\n      <td>NaN</td>\n      <td>NaN</td>\n      <td>NaN</td>\n    </tr>\n    <tr>\n      <th>...</th>\n      <td>...</td>\n      <td>...</td>\n      <td>...</td>\n      <td>...</td>\n      <td>...</td>\n      <td>...</td>\n      <td>...</td>\n      <td>...</td>\n      <td>...</td>\n      <td>...</td>\n    </tr>\n    <tr>\n      <th>2024-12-27</th>\n      <td>28.8</td>\n      <td>25.0</td>\n      <td>32.8</td>\n      <td>0.0</td>\n      <td>NaN</td>\n      <td>305.0</td>\n      <td>13.4</td>\n      <td>NaN</td>\n      <td>1011.2</td>\n      <td>NaN</td>\n    </tr>\n    <tr>\n      <th>2024-12-28</th>\n      <td>28.6</td>\n      <td>25.0</td>\n      <td>32.4</td>\n      <td>7.0</td>\n      <td>NaN</td>\n      <td>295.0</td>\n      <td>13.6</td>\n      <td>NaN</td>\n      <td>1010.7</td>\n      <td>NaN</td>\n    </tr>\n    <tr>\n      <th>2024-12-29</th>\n      <td>28.1</td>\n      <td>24.8</td>\n      <td>31.2</td>\n      <td>1.4</td>\n      <td>NaN</td>\n      <td>278.0</td>\n      <td>13.7</td>\n      <td>NaN</td>\n      <td>1009.9</td>\n      <td>NaN</td>\n    </tr>\n    <tr>\n      <th>2024-12-30</th>\n      <td>28.2</td>\n      <td>24.6</td>\n      <td>29.9</td>\n      <td>12.1</td>\n      <td>NaN</td>\n      <td>305.0</td>\n      <td>23.5</td>\n      <td>NaN</td>\n      <td>1009.5</td>\n      <td>NaN</td>\n    </tr>\n    <tr>\n      <th>2024-12-31</th>\n      <td>27.8</td>\n      <td>24.5</td>\n      <td>32.0</td>\n      <td>7.0</td>\n      <td>NaN</td>\n      <td>320.0</td>\n      <td>24.9</td>\n      <td>NaN</td>\n      <td>1008.8</td>\n      <td>NaN</td>\n    </tr>\n  </tbody>\n</table>\n<p>14750 rows × 10 columns</p>\n</div>"
          },
          "metadata": {}
        }
      ],
      "outputs_reference": null,
      "execution_count": 4,
      "block_group": "bfdb6ce948504a538a00dcf9789d50d6",
      "content_dependencies": null
    },
    {
      "cell_type": "code",
      "source": "data.describe()",
      "metadata": {
        "source_hash": "d786443f",
        "execution_start": 1735976789510,
        "execution_millis": 3,
        "execution_context_id": "a8f1ea56-bbe5-48a0-855f-149b95c2e8c7",
        "cell_id": "41786ee89df546a7bfa16be24f10cf48",
        "deepnote_cell_type": "code"
      },
      "outputs": [
        {
          "output_type": "execute_result",
          "execution_count": 5,
          "data": {
            "application/vnd.deepnote.dataframe.v3+json": {
              "column_count": 10,
              "row_count": 8,
              "columns": [
                {
                  "name": "tavg",
                  "dtype": "float64",
                  "stats": {
                    "unique_count": 8,
                    "nan_count": 0,
                    "min": "1.1738327211191457",
                    "max": "14750.0",
                    "histogram": [
                      {
                        "bin_start": 1.1738327211191457,
                        "bin_end": 1476.0564494490072,
                        "count": 7
                      },
                      {
                        "bin_start": 1476.0564494490072,
                        "bin_end": 2950.9390661768953,
                        "count": 0
                      },
                      {
                        "bin_start": 2950.9390661768953,
                        "bin_end": 4425.821682904783,
                        "count": 0
                      },
                      {
                        "bin_start": 4425.821682904783,
                        "bin_end": 5900.704299632671,
                        "count": 0
                      },
                      {
                        "bin_start": 5900.704299632671,
                        "bin_end": 7375.5869163605585,
                        "count": 0
                      },
                      {
                        "bin_start": 7375.5869163605585,
                        "bin_end": 8850.469533088448,
                        "count": 0
                      },
                      {
                        "bin_start": 8850.469533088448,
                        "bin_end": 10325.352149816335,
                        "count": 0
                      },
                      {
                        "bin_start": 10325.352149816335,
                        "bin_end": 11800.234766544223,
                        "count": 0
                      },
                      {
                        "bin_start": 11800.234766544223,
                        "bin_end": 13275.11738327211,
                        "count": 0
                      },
                      {
                        "bin_start": 13275.11738327211,
                        "bin_end": 14750,
                        "count": 1
                      }
                    ]
                  }
                },
                {
                  "name": "tmin",
                  "dtype": "float64",
                  "stats": {
                    "unique_count": 8,
                    "nan_count": 0,
                    "min": "1.2306497707218926",
                    "max": "9969.0",
                    "histogram": [
                      {
                        "bin_start": 1.2306497707218926,
                        "bin_end": 998.0075847936498,
                        "count": 7
                      },
                      {
                        "bin_start": 998.0075847936498,
                        "bin_end": 1994.7845198165776,
                        "count": 0
                      },
                      {
                        "bin_start": 1994.7845198165776,
                        "bin_end": 2991.5614548395056,
                        "count": 0
                      },
                      {
                        "bin_start": 2991.5614548395056,
                        "bin_end": 3988.3383898624334,
                        "count": 0
                      },
                      {
                        "bin_start": 3988.3383898624334,
                        "bin_end": 4985.115324885362,
                        "count": 0
                      },
                      {
                        "bin_start": 4985.115324885362,
                        "bin_end": 5981.89225990829,
                        "count": 0
                      },
                      {
                        "bin_start": 5981.89225990829,
                        "bin_end": 6978.669194931217,
                        "count": 0
                      },
                      {
                        "bin_start": 6978.669194931217,
                        "bin_end": 7975.446129954145,
                        "count": 0
                      },
                      {
                        "bin_start": 7975.446129954145,
                        "bin_end": 8972.223064977072,
                        "count": 0
                      },
                      {
                        "bin_start": 8972.223064977072,
                        "bin_end": 9969,
                        "count": 1
                      }
                    ]
                  }
                },
                {
                  "name": "tmax",
                  "dtype": "float64",
                  "stats": {
                    "unique_count": 8,
                    "nan_count": 0,
                    "min": "1.5256550044067279",
                    "max": "11127.0",
                    "histogram": [
                      {
                        "bin_start": 1.5256550044067279,
                        "bin_end": 1114.073089503966,
                        "count": 7
                      },
                      {
                        "bin_start": 1114.073089503966,
                        "bin_end": 2226.6205240035256,
                        "count": 0
                      },
                      {
                        "bin_start": 2226.6205240035256,
                        "bin_end": 3339.167958503085,
                        "count": 0
                      },
                      {
                        "bin_start": 3339.167958503085,
                        "bin_end": 4451.715393002644,
                        "count": 0
                      },
                      {
                        "bin_start": 4451.715393002644,
                        "bin_end": 5564.262827502203,
                        "count": 0
                      },
                      {
                        "bin_start": 5564.262827502203,
                        "bin_end": 6676.8102620017635,
                        "count": 0
                      },
                      {
                        "bin_start": 6676.8102620017635,
                        "bin_end": 7789.357696501323,
                        "count": 0
                      },
                      {
                        "bin_start": 7789.357696501323,
                        "bin_end": 8901.905131000882,
                        "count": 0
                      },
                      {
                        "bin_start": 8901.905131000882,
                        "bin_end": 10014.452565500442,
                        "count": 0
                      },
                      {
                        "bin_start": 10014.452565500442,
                        "bin_end": 11127,
                        "count": 1
                      }
                    ]
                  }
                },
                {
                  "name": "prcp",
                  "dtype": "float64",
                  "stats": {
                    "unique_count": 6,
                    "nan_count": 0,
                    "min": "0.0",
                    "max": "4870.0",
                    "histogram": [
                      {
                        "bin_start": 0,
                        "bin_end": 487,
                        "count": 7
                      },
                      {
                        "bin_start": 487,
                        "bin_end": 974,
                        "count": 0
                      },
                      {
                        "bin_start": 974,
                        "bin_end": 1461,
                        "count": 0
                      },
                      {
                        "bin_start": 1461,
                        "bin_end": 1948,
                        "count": 0
                      },
                      {
                        "bin_start": 1948,
                        "bin_end": 2435,
                        "count": 0
                      },
                      {
                        "bin_start": 2435,
                        "bin_end": 2922,
                        "count": 0
                      },
                      {
                        "bin_start": 2922,
                        "bin_end": 3409,
                        "count": 0
                      },
                      {
                        "bin_start": 3409,
                        "bin_end": 3896,
                        "count": 0
                      },
                      {
                        "bin_start": 3896,
                        "bin_end": 4383,
                        "count": 0
                      },
                      {
                        "bin_start": 4383,
                        "bin_end": 4870,
                        "count": 1
                      }
                    ]
                  }
                },
                {
                  "name": "snow",
                  "dtype": "float64",
                  "stats": {
                    "unique_count": 1,
                    "nan_count": 7,
                    "min": "0.0",
                    "max": "0.0",
                    "histogram": [
                      {
                        "bin_start": -0.5,
                        "bin_end": -0.4,
                        "count": 0
                      },
                      {
                        "bin_start": -0.4,
                        "bin_end": -0.3,
                        "count": 0
                      },
                      {
                        "bin_start": -0.3,
                        "bin_end": -0.19999999999999996,
                        "count": 0
                      },
                      {
                        "bin_start": -0.19999999999999996,
                        "bin_end": -0.09999999999999998,
                        "count": 0
                      },
                      {
                        "bin_start": -0.09999999999999998,
                        "bin_end": 0,
                        "count": 0
                      },
                      {
                        "bin_start": 0,
                        "bin_end": 0.10000000000000009,
                        "count": 1
                      },
                      {
                        "bin_start": 0.10000000000000009,
                        "bin_end": 0.20000000000000007,
                        "count": 0
                      },
                      {
                        "bin_start": 0.20000000000000007,
                        "bin_end": 0.30000000000000004,
                        "count": 0
                      },
                      {
                        "bin_start": 0.30000000000000004,
                        "bin_end": 0.4,
                        "count": 0
                      },
                      {
                        "bin_start": 0.4,
                        "bin_end": 0.5,
                        "count": 0
                      }
                    ]
                  }
                },
                {
                  "name": "wdir",
                  "dtype": "float64",
                  "stats": {
                    "unique_count": 8,
                    "nan_count": 0,
                    "min": "0.0",
                    "max": "1451.0",
                    "histogram": [
                      {
                        "bin_start": 0,
                        "bin_end": 145.1,
                        "count": 4
                      },
                      {
                        "bin_start": 145.1,
                        "bin_end": 290.2,
                        "count": 2
                      },
                      {
                        "bin_start": 290.2,
                        "bin_end": 435.29999999999995,
                        "count": 1
                      },
                      {
                        "bin_start": 435.29999999999995,
                        "bin_end": 580.4,
                        "count": 0
                      },
                      {
                        "bin_start": 580.4,
                        "bin_end": 725.5,
                        "count": 0
                      },
                      {
                        "bin_start": 725.5,
                        "bin_end": 870.5999999999999,
                        "count": 0
                      },
                      {
                        "bin_start": 870.5999999999999,
                        "bin_end": 1015.6999999999999,
                        "count": 0
                      },
                      {
                        "bin_start": 1015.6999999999999,
                        "bin_end": 1160.8,
                        "count": 0
                      },
                      {
                        "bin_start": 1160.8,
                        "bin_end": 1305.8999999999999,
                        "count": 0
                      },
                      {
                        "bin_start": 1305.8999999999999,
                        "bin_end": 1451,
                        "count": 1
                      }
                    ]
                  }
                },
                {
                  "name": "wspd",
                  "dtype": "float64",
                  "stats": {
                    "unique_count": 8,
                    "nan_count": 0,
                    "min": "1.8",
                    "max": "1451.0",
                    "histogram": [
                      {
                        "bin_start": 1.8,
                        "bin_end": 146.72000000000003,
                        "count": 7
                      },
                      {
                        "bin_start": 146.72000000000003,
                        "bin_end": 291.64000000000004,
                        "count": 0
                      },
                      {
                        "bin_start": 291.64000000000004,
                        "bin_end": 436.56000000000006,
                        "count": 0
                      },
                      {
                        "bin_start": 436.56000000000006,
                        "bin_end": 581.48,
                        "count": 0
                      },
                      {
                        "bin_start": 581.48,
                        "bin_end": 726.4000000000001,
                        "count": 0
                      },
                      {
                        "bin_start": 726.4000000000001,
                        "bin_end": 871.32,
                        "count": 0
                      },
                      {
                        "bin_start": 871.32,
                        "bin_end": 1016.24,
                        "count": 0
                      },
                      {
                        "bin_start": 1016.24,
                        "bin_end": 1161.16,
                        "count": 0
                      },
                      {
                        "bin_start": 1161.16,
                        "bin_end": 1306.0800000000002,
                        "count": 0
                      },
                      {
                        "bin_start": 1306.0800000000002,
                        "bin_end": 1451,
                        "count": 1
                      }
                    ]
                  }
                },
                {
                  "name": "wpgt",
                  "dtype": "float64",
                  "stats": {
                    "unique_count": 1,
                    "nan_count": 7,
                    "min": "0.0",
                    "max": "0.0",
                    "histogram": [
                      {
                        "bin_start": -0.5,
                        "bin_end": -0.4,
                        "count": 0
                      },
                      {
                        "bin_start": -0.4,
                        "bin_end": -0.3,
                        "count": 0
                      },
                      {
                        "bin_start": -0.3,
                        "bin_end": -0.19999999999999996,
                        "count": 0
                      },
                      {
                        "bin_start": -0.19999999999999996,
                        "bin_end": -0.09999999999999998,
                        "count": 0
                      },
                      {
                        "bin_start": -0.09999999999999998,
                        "bin_end": 0,
                        "count": 0
                      },
                      {
                        "bin_start": 0,
                        "bin_end": 0.10000000000000009,
                        "count": 1
                      },
                      {
                        "bin_start": 0.10000000000000009,
                        "bin_end": 0.20000000000000007,
                        "count": 0
                      },
                      {
                        "bin_start": 0.20000000000000007,
                        "bin_end": 0.30000000000000004,
                        "count": 0
                      },
                      {
                        "bin_start": 0.30000000000000004,
                        "bin_end": 0.4,
                        "count": 0
                      },
                      {
                        "bin_start": 0.4,
                        "bin_end": 0.5,
                        "count": 0
                      }
                    ]
                  }
                },
                {
                  "name": "pres",
                  "dtype": "float64",
                  "stats": {
                    "unique_count": 8,
                    "nan_count": 0,
                    "min": "1.7125162672478578",
                    "max": "1451.0",
                    "histogram": [
                      {
                        "bin_start": 1.7125162672478578,
                        "bin_end": 146.64126464052308,
                        "count": 1
                      },
                      {
                        "bin_start": 146.64126464052308,
                        "bin_end": 291.5700130137983,
                        "count": 0
                      },
                      {
                        "bin_start": 291.5700130137983,
                        "bin_end": 436.49876138707356,
                        "count": 0
                      },
                      {
                        "bin_start": 436.49876138707356,
                        "bin_end": 581.4275097603488,
                        "count": 0
                      },
                      {
                        "bin_start": 581.4275097603488,
                        "bin_end": 726.356258133624,
                        "count": 0
                      },
                      {
                        "bin_start": 726.356258133624,
                        "bin_end": 871.2850065068993,
                        "count": 0
                      },
                      {
                        "bin_start": 871.2850065068993,
                        "bin_end": 1016.2137548801745,
                        "count": 5
                      },
                      {
                        "bin_start": 1016.2137548801745,
                        "bin_end": 1161.1425032534496,
                        "count": 1
                      },
                      {
                        "bin_start": 1161.1425032534496,
                        "bin_end": 1306.071251626725,
                        "count": 0
                      },
                      {
                        "bin_start": 1306.071251626725,
                        "bin_end": 1451,
                        "count": 1
                      }
                    ]
                  }
                },
                {
                  "name": "tsun",
                  "dtype": "float64",
                  "stats": {
                    "unique_count": 1,
                    "nan_count": 7,
                    "min": "0.0",
                    "max": "0.0",
                    "histogram": [
                      {
                        "bin_start": -0.5,
                        "bin_end": -0.4,
                        "count": 0
                      },
                      {
                        "bin_start": -0.4,
                        "bin_end": -0.3,
                        "count": 0
                      },
                      {
                        "bin_start": -0.3,
                        "bin_end": -0.19999999999999996,
                        "count": 0
                      },
                      {
                        "bin_start": -0.19999999999999996,
                        "bin_end": -0.09999999999999998,
                        "count": 0
                      },
                      {
                        "bin_start": -0.09999999999999998,
                        "bin_end": 0,
                        "count": 0
                      },
                      {
                        "bin_start": 0,
                        "bin_end": 0.10000000000000009,
                        "count": 1
                      },
                      {
                        "bin_start": 0.10000000000000009,
                        "bin_end": 0.20000000000000007,
                        "count": 0
                      },
                      {
                        "bin_start": 0.20000000000000007,
                        "bin_end": 0.30000000000000004,
                        "count": 0
                      },
                      {
                        "bin_start": 0.30000000000000004,
                        "bin_end": 0.4,
                        "count": 0
                      },
                      {
                        "bin_start": 0.4,
                        "bin_end": 0.5,
                        "count": 0
                      }
                    ]
                  }
                },
                {
                  "name": "_deepnote_index_column",
                  "dtype": "object"
                }
              ],
              "rows": [
                {
                  "tavg": 14750,
                  "tmin": 9969,
                  "tmax": 11127,
                  "prcp": 4870,
                  "snow": 0,
                  "wdir": 1451,
                  "wspd": 1451,
                  "wpgt": 0,
                  "pres": 1451,
                  "tsun": 0,
                  "_deepnote_index_column": "count"
                },
                {
                  "tavg": 27.095200000000002,
                  "tmin": 23.94061590931889,
                  "tmax": 30.74959108474881,
                  "prcp": 5.07788501026694,
                  "snow": "nan",
                  "wdir": 167.02687801516197,
                  "wspd": 11.299517574086837,
                  "wpgt": "nan",
                  "pres": 1010.5580978635422,
                  "tsun": "nan",
                  "_deepnote_index_column": "mean"
                },
                {
                  "tavg": 1.1738327211191457,
                  "tmin": 1.2306497707218926,
                  "tmax": 1.5256550044067279,
                  "prcp": 12.833230414768485,
                  "snow": "nan",
                  "wdir": 98.76694250733131,
                  "wspd": 5.260837068723613,
                  "wpgt": "nan",
                  "pres": 1.7125162672478578,
                  "tsun": "nan",
                  "_deepnote_index_column": "std"
                },
                {
                  "tavg": 20.8,
                  "tmin": 15.1,
                  "tmax": 24.6,
                  "prcp": 0,
                  "snow": "nan",
                  "wdir": 0,
                  "wspd": 1.8,
                  "wpgt": "nan",
                  "pres": 1005.4,
                  "tsun": "nan",
                  "_deepnote_index_column": "min"
                },
                {
                  "tavg": 26.3,
                  "tmin": 23.2,
                  "tmax": 29.8,
                  "prcp": 0,
                  "snow": "nan",
                  "wdir": 103,
                  "wspd": 7.1,
                  "wpgt": "nan",
                  "pres": 1009.4,
                  "tsun": "nan",
                  "_deepnote_index_column": "25%"
                },
                {
                  "tavg": 27.2,
                  "tmin": 24.1,
                  "tmax": 30.9,
                  "prcp": 0,
                  "snow": "nan",
                  "wdir": 116,
                  "wspd": 10.2,
                  "wpgt": "nan",
                  "pres": 1010.6,
                  "tsun": "nan",
                  "_deepnote_index_column": "50%"
                },
                {
                  "tavg": 27.9,
                  "tmin": 24.8,
                  "tmax": 31.8,
                  "prcp": 4.1,
                  "snow": "nan",
                  "wdir": 277,
                  "wspd": 15,
                  "wpgt": "nan",
                  "pres": 1011.7,
                  "tsun": "nan",
                  "_deepnote_index_column": "75%"
                },
                {
                  "tavg": 33.9,
                  "tmin": 27.2,
                  "tmax": 39.4,
                  "prcp": 197.1,
                  "snow": "nan",
                  "wdir": 360,
                  "wspd": 28.4,
                  "wpgt": "nan",
                  "pres": 1016.3,
                  "tsun": "nan",
                  "_deepnote_index_column": "max"
                }
              ]
            },
            "text/plain": "               tavg         tmin          tmax         prcp  snow  \\\ncount  14750.000000  9969.000000  11127.000000  4870.000000   0.0   \nmean      27.095200    23.940616     30.749591     5.077885   NaN   \nstd        1.173833     1.230650      1.525655    12.833230   NaN   \nmin       20.800000    15.100000     24.600000     0.000000   NaN   \n25%       26.300000    23.200000     29.800000     0.000000   NaN   \n50%       27.200000    24.100000     30.900000     0.000000   NaN   \n75%       27.900000    24.800000     31.800000     4.100000   NaN   \nmax       33.900000    27.200000     39.400000   197.100000   NaN   \n\n              wdir         wspd  wpgt         pres  tsun  \ncount  1451.000000  1451.000000   0.0  1451.000000   0.0  \nmean    167.026878    11.299518   NaN  1010.558098   NaN  \nstd      98.766943     5.260837   NaN     1.712516   NaN  \nmin       0.000000     1.800000   NaN  1005.400000   NaN  \n25%     103.000000     7.100000   NaN  1009.400000   NaN  \n50%     116.000000    10.200000   NaN  1010.600000   NaN  \n75%     277.000000    15.000000   NaN  1011.700000   NaN  \nmax     360.000000    28.400000   NaN  1016.300000   NaN  ",
            "text/html": "<div>\n<style scoped>\n    .dataframe tbody tr th:only-of-type {\n        vertical-align: middle;\n    }\n\n    .dataframe tbody tr th {\n        vertical-align: top;\n    }\n\n    .dataframe thead th {\n        text-align: right;\n    }\n</style>\n<table border=\"1\" class=\"dataframe\">\n  <thead>\n    <tr style=\"text-align: right;\">\n      <th></th>\n      <th>tavg</th>\n      <th>tmin</th>\n      <th>tmax</th>\n      <th>prcp</th>\n      <th>snow</th>\n      <th>wdir</th>\n      <th>wspd</th>\n      <th>wpgt</th>\n      <th>pres</th>\n      <th>tsun</th>\n    </tr>\n  </thead>\n  <tbody>\n    <tr>\n      <th>count</th>\n      <td>14750.000000</td>\n      <td>9969.000000</td>\n      <td>11127.000000</td>\n      <td>4870.000000</td>\n      <td>0.0</td>\n      <td>1451.000000</td>\n      <td>1451.000000</td>\n      <td>0.0</td>\n      <td>1451.000000</td>\n      <td>0.0</td>\n    </tr>\n    <tr>\n      <th>mean</th>\n      <td>27.095200</td>\n      <td>23.940616</td>\n      <td>30.749591</td>\n      <td>5.077885</td>\n      <td>NaN</td>\n      <td>167.026878</td>\n      <td>11.299518</td>\n      <td>NaN</td>\n      <td>1010.558098</td>\n      <td>NaN</td>\n    </tr>\n    <tr>\n      <th>std</th>\n      <td>1.173833</td>\n      <td>1.230650</td>\n      <td>1.525655</td>\n      <td>12.833230</td>\n      <td>NaN</td>\n      <td>98.766943</td>\n      <td>5.260837</td>\n      <td>NaN</td>\n      <td>1.712516</td>\n      <td>NaN</td>\n    </tr>\n    <tr>\n      <th>min</th>\n      <td>20.800000</td>\n      <td>15.100000</td>\n      <td>24.600000</td>\n      <td>0.000000</td>\n      <td>NaN</td>\n      <td>0.000000</td>\n      <td>1.800000</td>\n      <td>NaN</td>\n      <td>1005.400000</td>\n      <td>NaN</td>\n    </tr>\n    <tr>\n      <th>25%</th>\n      <td>26.300000</td>\n      <td>23.200000</td>\n      <td>29.800000</td>\n      <td>0.000000</td>\n      <td>NaN</td>\n      <td>103.000000</td>\n      <td>7.100000</td>\n      <td>NaN</td>\n      <td>1009.400000</td>\n      <td>NaN</td>\n    </tr>\n    <tr>\n      <th>50%</th>\n      <td>27.200000</td>\n      <td>24.100000</td>\n      <td>30.900000</td>\n      <td>0.000000</td>\n      <td>NaN</td>\n      <td>116.000000</td>\n      <td>10.200000</td>\n      <td>NaN</td>\n      <td>1010.600000</td>\n      <td>NaN</td>\n    </tr>\n    <tr>\n      <th>75%</th>\n      <td>27.900000</td>\n      <td>24.800000</td>\n      <td>31.800000</td>\n      <td>4.100000</td>\n      <td>NaN</td>\n      <td>277.000000</td>\n      <td>15.000000</td>\n      <td>NaN</td>\n      <td>1011.700000</td>\n      <td>NaN</td>\n    </tr>\n    <tr>\n      <th>max</th>\n      <td>33.900000</td>\n      <td>27.200000</td>\n      <td>39.400000</td>\n      <td>197.100000</td>\n      <td>NaN</td>\n      <td>360.000000</td>\n      <td>28.400000</td>\n      <td>NaN</td>\n      <td>1016.300000</td>\n      <td>NaN</td>\n    </tr>\n  </tbody>\n</table>\n</div>"
          },
          "metadata": {}
        }
      ],
      "outputs_reference": null,
      "execution_count": 5,
      "block_group": "f74f8cfa62ee4dcc9b5034b999c13524",
      "content_dependencies": null
    },
    {
      "cell_type": "code",
      "source": "# Plot line chart\ndata.plot(y=['tavg', 'tmin', 'tmax','prcp','pres','wspd'], subplots=True, figsize=(10, 15))\nplt.show()",
      "metadata": {
        "source_hash": "d111ca19",
        "execution_start": 1735976789558,
        "execution_millis": 1733,
        "execution_context_id": "ef66dc3f-614e-46ff-82dd-b171101c8c6c",
        "cell_id": "eaa80e7972a64071b7c9e080eba5ee56",
        "deepnote_cell_type": "code"
      },
      "outputs": [
        {
          "data": {
            "text/plain": "<Figure size 1000x1500 with 6 Axes>",
            "image/png": "[encoded data removed]"
          },
          "metadata": {
            "image/png": {
              "width": 853,
              "height": 1099
            }
          },
          "output_type": "display_data"
        }
      ],
      "outputs_reference": null,
      "execution_count": 6,
      "block_group": "109d5305802d42c3b31ca507b6942433",
      "content_dependencies": null
    },
    {
      "cell_type": "code",
      "source": "",
      "metadata": {
        "source_hash": "b623e53d",
        "execution_start": 1735976791338,
        "execution_millis": 1,
        "execution_context_id": "ef66dc3f-614e-46ff-82dd-b171101c8c6c",
        "cell_id": "41fbc88d74184e7e9e3a9e568f5ad804",
        "deepnote_cell_type": "code"
      },
      "outputs": [],
      "outputs_reference": null,
      "execution_count": 7,
      "block_group": "b519a60d2c9e4abcb19339d44ecd231d",
      "content_dependencies": null
    },
    {
      "cell_type": "markdown",
      "source": "<a style='text-decoration:none;line-height:16px;display:flex;color:#5B5B62;padding:10px;justify-content:end;' href='https://deepnote.com?utm_source=created-in-deepnote-cell&projectId=200afad5-8991-4e20-8a55-8751c7aff3b5' target=\"_blank\">\n<img alt='Created in deepnote.com' style='display:inline;max-height:16px;margin:0px;margin-right:7.5px;' src='data:image/svg+xml;base64,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' > </img>\nCreated in <span style='font-weight:600;margin-left:4px;'>Deepnote</span></a>",
      "metadata": {
        "created_in_deepnote_cell": true,
        "deepnote_cell_type": "markdown"
      }
    }
  ],
  "nbformat": 4,
  "nbformat_minor": 0,
  "metadata": {
    "deepnote_notebook_id": "f1ae081b29a2481280fa43fafc1c0b7e"
  }
}