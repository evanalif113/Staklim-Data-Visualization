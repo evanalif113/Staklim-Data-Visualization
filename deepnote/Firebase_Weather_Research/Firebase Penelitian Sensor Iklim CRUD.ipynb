{
  "cells": [
    {
      "cell_type": "markdown",
      "metadata": {
        "formattedRanges": [],
        "cell_id": "5b426bef605c4a1dabac38943f3a6902",
        "deepnote_cell_type": "text-cell-p"
      },
      "source": "",
      "block_group": "59d0467ff22f4ab49f6162f3bcf887f6"
    },
    {
      "cell_type": "code",
      "metadata": {
        "source_hash": "2d20d211",
        "execution_start": 1729776973995,
        "execution_millis": 4403,
        "execution_context_id": "bfdf5176-4a69-4a9a-9b12-64f64cd7815d",
        "cell_id": "670afa86675c4b76805d921497372640",
        "deepnote_cell_type": "code"
      },
      "source": "!pip install firebase_admin\nimport firebase_admin\nfrom firebase_admin import credentials, db\n\n# Inisialisasi Firebase Admin SDK\ncred = credentials.Certificate('/work/database-sensor-iklim-litbang-firebase-admin.json')  # Ganti dengan path ke file JSON Service Account Anda\nfirebase_admin.initialize_app(cred, {\n    'databaseURL': 'https://database-sensor-iklim-litbang-default-rtdb.asia-southeast1.firebasedatabase.app/'  # URL Firebase RTDB\n})",
      "block_group": "414de8cd8eb746c295d44618d6d024b8",
      "execution_count": 1,
      "outputs": [
        {
          "name": "stdout",
          "text": "Requirement already satisfied: firebase_admin in /root/venv/lib/python3.11/site-packages (6.5.0)\nRequirement already satisfied: cachecontrol>=0.12.6 in /root/venv/lib/python3.11/site-packages (from firebase_admin) (0.14.0)\nRequirement already satisfied: google-api-python-client>=1.7.8 in /root/venv/lib/python3.11/site-packages (from firebase_admin) (2.149.0)\nRequirement already satisfied: google-cloud-storage>=1.37.1 in /root/venv/lib/python3.11/site-packages (from firebase_admin) (2.14.0)\nRequirement already satisfied: pyjwt>=2.5.0 in /shared-libs/python3.11/py/lib/python3.11/site-packages (from pyjwt[crypto]>=2.5.0->firebase_admin) (2.8.0)\nRequirement already satisfied: google-api-core<3.0.0dev,>=1.22.1 in /shared-libs/python3.11/py/lib/python3.11/site-packages (from google-api-core[grpc]<3.0.0dev,>=1.22.1; platform_python_implementation != \"PyPy\"->firebase_admin) (2.12.0)\nRequirement already satisfied: google-cloud-firestore>=2.9.1 in /root/venv/lib/python3.11/site-packages (from firebase_admin) (2.19.0)\nRequirement already satisfied: requests>=2.16.0 in /shared-libs/python3.11/py/lib/python3.11/site-packages (from cachecontrol>=0.12.6->firebase_admin) (2.31.0)\nRequirement already satisfied: msgpack<2.0.0,>=0.5.2 in /root/venv/lib/python3.11/site-packages (from cachecontrol>=0.12.6->firebase_admin) (1.1.0)\nRequirement already satisfied: googleapis-common-protos<2.0.dev0,>=1.56.2 in /shared-libs/python3.11/py/lib/python3.11/site-packages (from google-api-core<3.0.0dev,>=1.22.1->google-api-core[grpc]<3.0.0dev,>=1.22.1; platform_python_implementation != \"PyPy\"->firebase_admin) (1.61.0)\nRequirement already satisfied: protobuf!=3.20.0,!=3.20.1,!=4.21.0,!=4.21.1,!=4.21.2,!=4.21.3,!=4.21.4,!=4.21.5,<5.0.0.dev0,>=3.19.5 in /shared-libs/python3.11/py/lib/python3.11/site-packages (from google-api-core<3.0.0dev,>=1.22.1->google-api-core[grpc]<3.0.0dev,>=1.22.1; platform_python_implementation != \"PyPy\"->firebase_admin) (4.24.4)\nRequirement already satisfied: google-auth<3.0.dev0,>=2.14.1 in /shared-libs/python3.11/py/lib/python3.11/site-packages (from google-api-core<3.0.0dev,>=1.22.1->google-api-core[grpc]<3.0.0dev,>=1.22.1; platform_python_implementation != \"PyPy\"->firebase_admin) (2.23.3)\nRequirement already satisfied: grpcio<2.0dev,>=1.33.2 in /shared-libs/python3.11/py/lib/python3.11/site-packages (from google-api-core[grpc]<3.0.0dev,>=1.22.1; platform_python_implementation != \"PyPy\"->firebase_admin) (1.59.0)\nRequirement already satisfied: grpcio-status<2.0.dev0,>=1.33.2 in /shared-libs/python3.11/py/lib/python3.11/site-packages (from google-api-core[grpc]<3.0.0dev,>=1.22.1; platform_python_implementation != \"PyPy\"->firebase_admin) (1.59.0)\nRequirement already satisfied: httplib2<1.dev0,>=0.19.0 in /root/venv/lib/python3.11/site-packages (from google-api-python-client>=1.7.8->firebase_admin) (0.22.0)\nRequirement already satisfied: google-auth-httplib2<1.0.0,>=0.2.0 in /root/venv/lib/python3.11/site-packages (from google-api-python-client>=1.7.8->firebase_admin) (0.2.0)\nRequirement already satisfied: uritemplate<5,>=3.0.1 in /root/venv/lib/python3.11/site-packages (from google-api-python-client>=1.7.8->firebase_admin) (4.1.1)\nRequirement already satisfied: google-cloud-core<3.0.0dev,>=1.4.1 in /shared-libs/python3.11/py/lib/python3.11/site-packages (from google-cloud-firestore>=2.9.1->firebase_admin) (2.3.3)\nRequirement already satisfied: proto-plus<2.0.0dev,>=1.22.0 in /shared-libs/python3.11/py/lib/python3.11/site-packages (from google-cloud-firestore>=2.9.1->firebase_admin) (1.22.3)\nRequirement already satisfied: google-resumable-media>=2.6.0 in /shared-libs/python3.11/py/lib/python3.11/site-packages (from google-cloud-storage>=1.37.1->firebase_admin) (2.6.0)\nRequirement already satisfied: google-crc32c<2.0dev,>=1.0 in /shared-libs/python3.11/py/lib/python3.11/site-packages (from google-cloud-storage>=1.37.1->firebase_admin) (1.5.0)\nRequirement already satisfied: cryptography>=3.4.0 in /shared-libs/python3.11/py/lib/python3.11/site-packages (from pyjwt[crypto]>=2.5.0->firebase_admin) (41.0.4)\nRequirement already satisfied: cffi>=1.12 in /shared-libs/python3.11/py-core/lib/python3.11/site-packages (from cryptography>=3.4.0->pyjwt[crypto]>=2.5.0->firebase_admin) (1.16.0)\nRequirement already satisfied: cachetools<6.0,>=2.0.0 in /shared-libs/python3.11/py/lib/python3.11/site-packages (from google-auth<3.0.dev0,>=2.14.1->google-api-core<3.0.0dev,>=1.22.1->google-api-core[grpc]<3.0.0dev,>=1.22.1; platform_python_implementation != \"PyPy\"->firebase_admin) (5.3.1)\nRequirement already satisfied: pyasn1-modules>=0.2.1 in /shared-libs/python3.11/py/lib/python3.11/site-packages (from google-auth<3.0.dev0,>=2.14.1->google-api-core<3.0.0dev,>=1.22.1->google-api-core[grpc]<3.0.0dev,>=1.22.1; platform_python_implementation != \"PyPy\"->firebase_admin) (0.3.0)\nRequirement already satisfied: rsa<5,>=3.1.4 in /shared-libs/python3.11/py/lib/python3.11/site-packages (from google-auth<3.0.dev0,>=2.14.1->google-api-core<3.0.0dev,>=1.22.1->google-api-core[grpc]<3.0.0dev,>=1.22.1; platform_python_implementation != \"PyPy\"->firebase_admin) (4.9)\nRequirement already satisfied: pyparsing!=3.0.0,!=3.0.1,!=3.0.2,!=3.0.3,<4,>=2.4.2 in /shared-libs/python3.11/py/lib/python3.11/site-packages (from httplib2<1.dev0,>=0.19.0->google-api-python-client>=1.7.8->firebase_admin) (3.1.1)\nRequirement already satisfied: charset-normalizer<4,>=2 in /shared-libs/python3.11/py/lib/python3.11/site-packages (from requests>=2.16.0->cachecontrol>=0.12.6->firebase_admin) (3.3.0)\nRequirement already satisfied: idna<4,>=2.5 in /shared-libs/python3.11/py-core/lib/python3.11/site-packages (from requests>=2.16.0->cachecontrol>=0.12.6->firebase_admin) (3.4)\nRequirement already satisfied: urllib3<3,>=1.21.1 in /shared-libs/python3.11/py/lib/python3.11/site-packages (from requests>=2.16.0->cachecontrol>=0.12.6->firebase_admin) (1.26.18)\nRequirement already satisfied: certifi>=2017.4.17 in /shared-libs/python3.11/py/lib/python3.11/site-packages (from requests>=2.16.0->cachecontrol>=0.12.6->firebase_admin) (2023.7.22)\nRequirement already satisfied: pycparser in /shared-libs/python3.11/py-core/lib/python3.11/site-packages (from cffi>=1.12->cryptography>=3.4.0->pyjwt[crypto]>=2.5.0->firebase_admin) (2.21)\nRequirement already satisfied: pyasn1<0.6.0,>=0.4.6 in /shared-libs/python3.11/py/lib/python3.11/site-packages (from pyasn1-modules>=0.2.1->google-auth<3.0.dev0,>=2.14.1->google-api-core<3.0.0dev,>=1.22.1->google-api-core[grpc]<3.0.0dev,>=1.22.1; platform_python_implementation != \"PyPy\"->firebase_admin) (0.5.0)\n\n\u001b[1m[\u001b[0m\u001b[34;49mnotice\u001b[0m\u001b[1;39;49m]\u001b[0m\u001b[39;49m A new release of pip is available: \u001b[0m\u001b[31;49m24.0\u001b[0m\u001b[39;49m -> \u001b[0m\u001b[32;49m24.2\u001b[0m\n\u001b[1m[\u001b[0m\u001b[34;49mnotice\u001b[0m\u001b[1;39;49m]\u001b[0m\u001b[39;49m To update, run: \u001b[0m\u001b[32;49mpip install --upgrade pip\u001b[0m\n",
          "output_type": "stream"
        },
        {
          "output_type": "execute_result",
          "execution_count": 1,
          "data": {
            "text/plain": "<firebase_admin.App at 0x7f8e10f13b90>"
          },
          "metadata": {}
        }
      ],
      "outputs_reference": null,
      "content_dependencies": null
    },
    {
      "cell_type": "code",
      "metadata": {
        "source_hash": "cc800396",
        "execution_start": 1731177017562,
        "execution_millis": 0,
        "execution_context_id": "28206fd1-d625-4b8b-8bdf-4831c0cf00ec",
        "cell_id": "f3ae50269a034cf9a9ff3cc76d18cd2f",
        "deepnote_cell_type": "code"
      },
      "source": "import os\nimport numpy as np\nimport pandas as pd",
      "block_group": "415838b6e2714e4e96e35a097ba02eb1",
      "execution_count": 2,
      "outputs": [],
      "outputs_reference": null,
      "content_dependencies": null
    },
    {
      "cell_type": "code",
      "metadata": {
        "source_hash": "946332c8",
        "execution_start": 1731177044818,
        "execution_millis": 867,
        "execution_context_id": "28206fd1-d625-4b8b-8bdf-4831c0cf00ec",
        "cell_id": "50a16aff79414e5aaebf2585256642b7",
        "deepnote_cell_type": "code"
      },
      "source": "cuaca = pd.read_json(\"https://database-sensor-iklim-litbang-default-rtdb.asia-southeast1.firebasedatabase.app/auto_weather_stat/id-02/data.json\")\n\ncuacaT=cuaca.transpose()\ncuacaT.tail(10)",
      "block_group": "f88c728755554b289b0d75dacff6d898",
      "execution_count": 4,
      "outputs": [
        {
          "output_type": "execute_result",
          "execution_count": 4,
          "data": {
            "application/vnd.deepnote.dataframe.v3+json": {
              "column_count": 6,
              "row_count": 10,
              "columns": [
                {
                  "name": "dew",
                  "dtype": "float64",
                  "stats": {
                    "unique_count": 10,
                    "nan_count": 0,
                    "min": "26.02301",
                    "max": "26.06391",
                    "histogram": [
                      {
                        "bin_start": 26.02301,
                        "bin_end": 26.0271,
                        "count": 1
                      },
                      {
                        "bin_start": 26.0271,
                        "bin_end": 26.03119,
                        "count": 1
                      },
                      {
                        "bin_start": 26.03119,
                        "bin_end": 26.03528,
                        "count": 1
                      },
                      {
                        "bin_start": 26.03528,
                        "bin_end": 26.039369999999998,
                        "count": 0
                      },
                      {
                        "bin_start": 26.039369999999998,
                        "bin_end": 26.04346,
                        "count": 1
                      },
                      {
                        "bin_start": 26.04346,
                        "bin_end": 26.04755,
                        "count": 1
                      },
                      {
                        "bin_start": 26.04755,
                        "bin_end": 26.05164,
                        "count": 0
                      },
                      {
                        "bin_start": 26.05164,
                        "bin_end": 26.05573,
                        "count": 3
                      },
                      {
                        "bin_start": 26.05573,
                        "bin_end": 26.05982,
                        "count": 1
                      },
                      {
                        "bin_start": 26.05982,
                        "bin_end": 26.06391,
                        "count": 1
                      }
                    ]
                  }
                },
                {
                  "name": "humidity",
                  "dtype": "float64",
                  "stats": {
                    "unique_count": 10,
                    "nan_count": 0,
                    "min": "68.49645",
                    "max": "68.63378",
                    "histogram": [
                      {
                        "bin_start": 68.49645,
                        "bin_end": 68.510183,
                        "count": 2
                      },
                      {
                        "bin_start": 68.510183,
                        "bin_end": 68.523916,
                        "count": 2
                      },
                      {
                        "bin_start": 68.523916,
                        "bin_end": 68.537649,
                        "count": 0
                      },
                      {
                        "bin_start": 68.537649,
                        "bin_end": 68.551382,
                        "count": 1
                      },
                      {
                        "bin_start": 68.551382,
                        "bin_end": 68.56511499999999,
                        "count": 2
                      },
                      {
                        "bin_start": 68.56511499999999,
                        "bin_end": 68.578848,
                        "count": 1
                      },
                      {
                        "bin_start": 68.578848,
                        "bin_end": 68.592581,
                        "count": 0
                      },
                      {
                        "bin_start": 68.592581,
                        "bin_end": 68.606314,
                        "count": 0
                      },
                      {
                        "bin_start": 68.606314,
                        "bin_end": 68.620047,
                        "count": 1
                      },
                      {
                        "bin_start": 68.620047,
                        "bin_end": 68.63378,
                        "count": 1
                      }
                    ]
                  }
                },
                {
                  "name": "pressure",
                  "dtype": "float64",
                  "stats": {
                    "unique_count": 8,
                    "nan_count": 0,
                    "min": "1007.805",
                    "max": "1007.856",
                    "histogram": [
                      {
                        "bin_start": 1007.805,
                        "bin_end": 1007.8100999999999,
                        "count": 2
                      },
                      {
                        "bin_start": 1007.8100999999999,
                        "bin_end": 1007.8152,
                        "count": 0
                      },
                      {
                        "bin_start": 1007.8152,
                        "bin_end": 1007.8203,
                        "count": 1
                      },
                      {
                        "bin_start": 1007.8203,
                        "bin_end": 1007.8254,
                        "count": 1
                      },
                      {
                        "bin_start": 1007.8254,
                        "bin_end": 1007.8305,
                        "count": 0
                      },
                      {
                        "bin_start": 1007.8305,
                        "bin_end": 1007.8356,
                        "count": 0
                      },
                      {
                        "bin_start": 1007.8356,
                        "bin_end": 1007.8407,
                        "count": 1
                      },
                      {
                        "bin_start": 1007.8407,
                        "bin_end": 1007.8457999999999,
                        "count": 1
                      },
                      {
                        "bin_start": 1007.8457999999999,
                        "bin_end": 1007.8509,
                        "count": 2
                      },
                      {
                        "bin_start": 1007.8509,
                        "bin_end": 1007.856,
                        "count": 2
                      }
                    ]
                  }
                },
                {
                  "name": "temperature",
                  "dtype": "float64",
                  "stats": {
                    "unique_count": 8,
                    "nan_count": 0,
                    "min": "32.58373",
                    "max": "32.62379",
                    "histogram": [
                      {
                        "bin_start": 32.58373,
                        "bin_end": 32.587736,
                        "count": 1
                      },
                      {
                        "bin_start": 32.587736,
                        "bin_end": 32.591742,
                        "count": 1
                      },
                      {
                        "bin_start": 32.591742,
                        "bin_end": 32.595748,
                        "count": 1
                      },
                      {
                        "bin_start": 32.595748,
                        "bin_end": 32.599754000000004,
                        "count": 2
                      },
                      {
                        "bin_start": 32.599754000000004,
                        "bin_end": 32.60376,
                        "count": 0
                      },
                      {
                        "bin_start": 32.60376,
                        "bin_end": 32.607766,
                        "count": 1
                      },
                      {
                        "bin_start": 32.607766,
                        "bin_end": 32.611772,
                        "count": 2
                      },
                      {
                        "bin_start": 32.611772,
                        "bin_end": 32.615778,
                        "count": 0
                      },
                      {
                        "bin_start": 32.615778,
                        "bin_end": 32.619784,
                        "count": 1
                      },
                      {
                        "bin_start": 32.619784,
                        "bin_end": 32.62379,
                        "count": 1
                      }
                    ]
                  }
                },
                {
                  "name": "timestamp",
                  "dtype": "float64",
                  "stats": {
                    "unique_count": 10,
                    "nan_count": 0,
                    "min": "1731176909.0",
                    "max": "1731177044.0",
                    "histogram": [
                      {
                        "bin_start": 1731176909,
                        "bin_end": 1731176922.5,
                        "count": 1
                      },
                      {
                        "bin_start": 1731176922.5,
                        "bin_end": 1731176936,
                        "count": 1
                      },
                      {
                        "bin_start": 1731176936,
                        "bin_end": 1731176949.5,
                        "count": 1
                      },
                      {
                        "bin_start": 1731176949.5,
                        "bin_end": 1731176963,
                        "count": 1
                      },
                      {
                        "bin_start": 1731176963,
                        "bin_end": 1731176976.5,
                        "count": 1
                      },
                      {
                        "bin_start": 1731176976.5,
                        "bin_end": 1731176990,
                        "count": 1
                      },
                      {
                        "bin_start": 1731176990,
                        "bin_end": 1731177003.5,
                        "count": 1
                      },
                      {
                        "bin_start": 1731177003.5,
                        "bin_end": 1731177017,
                        "count": 1
                      },
                      {
                        "bin_start": 1731177017,
                        "bin_end": 1731177030.5,
                        "count": 1
                      },
                      {
                        "bin_start": 1731177030.5,
                        "bin_end": 1731177044,
                        "count": 1
                      }
                    ]
                  }
                },
                {
                  "name": "volt",
                  "dtype": "float64",
                  "stats": {
                    "unique_count": 1,
                    "nan_count": 0,
                    "min": "3.9725",
                    "max": "3.9725",
                    "histogram": [
                      {
                        "bin_start": 3.4725,
                        "bin_end": 3.5725000000000002,
                        "count": 0
                      },
                      {
                        "bin_start": 3.5725000000000002,
                        "bin_end": 3.6725000000000003,
                        "count": 0
                      },
                      {
                        "bin_start": 3.6725000000000003,
                        "bin_end": 3.7725,
                        "count": 0
                      },
                      {
                        "bin_start": 3.7725,
                        "bin_end": 3.8725,
                        "count": 0
                      },
                      {
                        "bin_start": 3.8725,
                        "bin_end": 3.9725,
                        "count": 0
                      },
                      {
                        "bin_start": 3.9725,
                        "bin_end": 4.0725,
                        "count": 10
                      },
                      {
                        "bin_start": 4.0725,
                        "bin_end": 4.1725,
                        "count": 0
                      },
                      {
                        "bin_start": 4.1725,
                        "bin_end": 4.2725,
                        "count": 0
                      },
                      {
                        "bin_start": 4.2725,
                        "bin_end": 4.3725000000000005,
                        "count": 0
                      },
                      {
                        "bin_start": 4.3725000000000005,
                        "bin_end": 4.4725,
                        "count": 0
                      }
                    ]
                  }
                },
                {
                  "name": "_deepnote_index_column",
                  "dtype": "datetime64[ns]"
                }
              ],
              "rows": [
                {
                  "dew": 26.02301,
                  "humidity": 68.51362,
                  "pressure": 1007.856,
                  "temperature": 32.58907,
                  "timestamp": 1731176909,
                  "volt": 3.9725,
                  "_deepnote_index_column": "2024-11-09 18:28:29"
                },
                {
                  "dew": 26.05276,
                  "humidity": 68.50027,
                  "pressure": 1007.856,
                  "temperature": 32.62379,
                  "timestamp": 1731176924,
                  "volt": 3.9725,
                  "_deepnote_index_column": "2024-11-09 18:28:44"
                },
                {
                  "dew": 26.04419,
                  "humidity": 68.49645,
                  "pressure": 1007.847,
                  "temperature": 32.61578,
                  "timestamp": 1731176939,
                  "volt": 3.9725,
                  "_deepnote_index_column": "2024-11-09 18:28:59"
                },
                {
                  "dew": 26.05307,
                  "humidity": 68.56321,
                  "pressure": 1007.849,
                  "temperature": 32.60777,
                  "timestamp": 1731176954,
                  "volt": 3.9725,
                  "_deepnote_index_column": "2024-11-09 18:29:14"
                },
                {
                  "dew": 26.03366,
                  "humidity": 68.51553,
                  "pressure": 1007.842,
                  "temperature": 32.59975,
                  "timestamp": 1731176969,
                  "volt": 3.9725,
                  "_deepnote_index_column": "2024-11-09 18:29:29"
                },
                {
                  "dew": 26.04073,
                  "humidity": 68.54414,
                  "pressure": 1007.837,
                  "temperature": 32.59975,
                  "timestamp": 1731176984,
                  "volt": 3.9725,
                  "_deepnote_index_column": "2024-11-09 18:29:44"
                },
                {
                  "dew": 26.05383,
                  "humidity": 68.57656,
                  "pressure": 1007.824,
                  "temperature": 32.60509,
                  "timestamp": 1731176999,
                  "volt": 3.9725,
                  "_deepnote_index_column": "2024-11-09 18:29:59"
                },
                {
                  "dew": 26.05779,
                  "humidity": 68.63378,
                  "pressure": 1007.82,
                  "temperature": 32.59441,
                  "timestamp": 1731177014,
                  "volt": 3.9725,
                  "_deepnote_index_column": "2024-11-09 18:30:14"
                },
                {
                  "dew": 26.06391,
                  "humidity": 68.60708,
                  "pressure": 1007.805,
                  "temperature": 32.60777,
                  "timestamp": 1731177029,
                  "volt": 3.9725,
                  "_deepnote_index_column": "2024-11-09 18:30:29"
                },
                {
                  "dew": 26.02783,
                  "humidity": 68.55367,
                  "pressure": 1007.805,
                  "temperature": 32.58373,
                  "timestamp": 1731177044,
                  "volt": 3.9725,
                  "_deepnote_index_column": "2024-11-09 18:30:44"
                }
              ]
            },
            "text/plain": "                          dew  humidity  pressure  temperature     timestamp  \\\n2024-11-09 18:28:29  26.02301  68.51362  1007.856     32.58907  1.731177e+09   \n2024-11-09 18:28:44  26.05276  68.50027  1007.856     32.62379  1.731177e+09   \n2024-11-09 18:28:59  26.04419  68.49645  1007.847     32.61578  1.731177e+09   \n2024-11-09 18:29:14  26.05307  68.56321  1007.849     32.60777  1.731177e+09   \n2024-11-09 18:29:29  26.03366  68.51553  1007.842     32.59975  1.731177e+09   \n2024-11-09 18:29:44  26.04073  68.54414  1007.837     32.59975  1.731177e+09   \n2024-11-09 18:29:59  26.05383  68.57656  1007.824     32.60509  1.731177e+09   \n2024-11-09 18:30:14  26.05779  68.63378  1007.820     32.59441  1.731177e+09   \n2024-11-09 18:30:29  26.06391  68.60708  1007.805     32.60777  1.731177e+09   \n2024-11-09 18:30:44  26.02783  68.55367  1007.805     32.58373  1.731177e+09   \n\n                       volt  \n2024-11-09 18:28:29  3.9725  \n2024-11-09 18:28:44  3.9725  \n2024-11-09 18:28:59  3.9725  \n2024-11-09 18:29:14  3.9725  \n2024-11-09 18:29:29  3.9725  \n2024-11-09 18:29:44  3.9725  \n2024-11-09 18:29:59  3.9725  \n2024-11-09 18:30:14  3.9725  \n2024-11-09 18:30:29  3.9725  \n2024-11-09 18:30:44  3.9725  ",
            "text/html": "<div>\n<style scoped>\n    .dataframe tbody tr th:only-of-type {\n        vertical-align: middle;\n    }\n\n    .dataframe tbody tr th {\n        vertical-align: top;\n    }\n\n    .dataframe thead th {\n        text-align: right;\n    }\n</style>\n<table border=\"1\" class=\"dataframe\">\n  <thead>\n    <tr style=\"text-align: right;\">\n      <th></th>\n      <th>dew</th>\n      <th>humidity</th>\n      <th>pressure</th>\n      <th>temperature</th>\n      <th>timestamp</th>\n      <th>volt</th>\n    </tr>\n  </thead>\n  <tbody>\n    <tr>\n      <th>2024-11-09 18:28:29</th>\n      <td>26.02301</td>\n      <td>68.51362</td>\n      <td>1007.856</td>\n      <td>32.58907</td>\n      <td>1.731177e+09</td>\n      <td>3.9725</td>\n    </tr>\n    <tr>\n      <th>2024-11-09 18:28:44</th>\n      <td>26.05276</td>\n      <td>68.50027</td>\n      <td>1007.856</td>\n      <td>32.62379</td>\n      <td>1.731177e+09</td>\n      <td>3.9725</td>\n    </tr>\n    <tr>\n      <th>2024-11-09 18:28:59</th>\n      <td>26.04419</td>\n      <td>68.49645</td>\n      <td>1007.847</td>\n      <td>32.61578</td>\n      <td>1.731177e+09</td>\n      <td>3.9725</td>\n    </tr>\n    <tr>\n      <th>2024-11-09 18:29:14</th>\n      <td>26.05307</td>\n      <td>68.56321</td>\n      <td>1007.849</td>\n      <td>32.60777</td>\n      <td>1.731177e+09</td>\n      <td>3.9725</td>\n    </tr>\n    <tr>\n      <th>2024-11-09 18:29:29</th>\n      <td>26.03366</td>\n      <td>68.51553</td>\n      <td>1007.842</td>\n      <td>32.59975</td>\n      <td>1.731177e+09</td>\n      <td>3.9725</td>\n    </tr>\n    <tr>\n      <th>2024-11-09 18:29:44</th>\n      <td>26.04073</td>\n      <td>68.54414</td>\n      <td>1007.837</td>\n      <td>32.59975</td>\n      <td>1.731177e+09</td>\n      <td>3.9725</td>\n    </tr>\n    <tr>\n      <th>2024-11-09 18:29:59</th>\n      <td>26.05383</td>\n      <td>68.57656</td>\n      <td>1007.824</td>\n      <td>32.60509</td>\n      <td>1.731177e+09</td>\n      <td>3.9725</td>\n    </tr>\n    <tr>\n      <th>2024-11-09 18:30:14</th>\n      <td>26.05779</td>\n      <td>68.63378</td>\n      <td>1007.820</td>\n      <td>32.59441</td>\n      <td>1.731177e+09</td>\n      <td>3.9725</td>\n    </tr>\n    <tr>\n      <th>2024-11-09 18:30:29</th>\n      <td>26.06391</td>\n      <td>68.60708</td>\n      <td>1007.805</td>\n      <td>32.60777</td>\n      <td>1.731177e+09</td>\n      <td>3.9725</td>\n    </tr>\n    <tr>\n      <th>2024-11-09 18:30:44</th>\n      <td>26.02783</td>\n      <td>68.55367</td>\n      <td>1007.805</td>\n      <td>32.58373</td>\n      <td>1.731177e+09</td>\n      <td>3.9725</td>\n    </tr>\n  </tbody>\n</table>\n</div>"
          },
          "metadata": {}
        }
      ],
      "outputs_reference": null,
      "content_dependencies": null
    },
    {
      "cell_type": "markdown",
      "source": "<a style='text-decoration:none;line-height:16px;display:flex;color:#5B5B62;padding:10px;justify-content:end;' href='https://deepnote.com?utm_source=created-in-deepnote-cell&projectId=200afad5-8991-4e20-8a55-8751c7aff3b5' target=\"_blank\">\n<img alt='Created in deepnote.com' style='display:inline;max-height:16px;margin:0px;margin-right:7.5px;' src='data:image/svg+xml;base64,PD94bWwgdmVyc2lvbj0iMS4wIiBlbmNvZGluZz0iVVRGLTgiPz4KPHN2ZyB3aWR0aD0iODBweCIgaGVpZ2h0PSI4MHB4IiB2aWV3Qm94PSIwIDAgODAgODAiIHZlcnNpb249IjEuMSIgeG1sbnM9Imh0dHA6Ly93d3cudzMub3JnLzIwMDAvc3ZnIiB4bWxuczp4bGluaz0iaHR0cDovL3d3dy53My5vcmcvMTk5OS94bGluayI+CiAgICA8IS0tIEdlbmVyYXRvcjogU2tldGNoIDU0LjEgKDc2NDkwKSAtIGh0dHBzOi8vc2tldGNoYXBwLmNvbSAtLT4KICAgIDx0aXRsZT5Hcm91cCAzPC90aXRsZT4KICAgIDxkZXNjPkNyZWF0ZWQgd2l0aCBTa2V0Y2guPC9kZXNjPgogICAgPGcgaWQ9IkxhbmRpbmciIHN0cm9rZT0ibm9uZSIgc3Ryb2tlLXdpZHRoPSIxIiBmaWxsPSJub25lIiBmaWxsLXJ1bGU9ImV2ZW5vZGQiPgogICAgICAgIDxnIGlkPSJBcnRib2FyZCIgdHJhbnNmb3JtPSJ0cmFuc2xhdGUoLTEyMzUuMDAwMDAwLCAtNzkuMDAwMDAwKSI+CiAgICAgICAgICAgIDxnIGlkPSJHcm91cC0zIiB0cmFuc2Zvcm09InRyYW5zbGF0ZSgxMjM1LjAwMDAwMCwgNzkuMDAwMDAwKSI+CiAgICAgICAgICAgICAgICA8cG9seWdvbiBpZD0iUGF0aC0yMCIgZmlsbD0iIzAyNjVCNCIgcG9pbnRzPSIyLjM3NjIzNzYyIDgwIDM4LjA0NzY2NjcgODAgNTcuODIxNzgyMiA3My44MDU3NTkyIDU3LjgyMTc4MjIgMzIuNzU5MjczOSAzOS4xNDAyMjc4IDMxLjY4MzE2ODMiPjwvcG9seWdvbj4KICAgICAgICAgICAgICAgIDxwYXRoIGQ9Ik0zNS4wMDc3MTgsODAgQzQyLjkwNjIwMDcsNzYuNDU0OTM1OCA0Ny41NjQ5MTY3LDcxLjU0MjI2NzEgNDguOTgzODY2LDY1LjI2MTk5MzkgQzUxLjExMjI4OTksNTUuODQxNTg0MiA0MS42NzcxNzk1LDQ5LjIxMjIyODQgMjUuNjIzOTg0Niw0OS4yMTIyMjg0IEMyNS40ODQ5Mjg5LDQ5LjEyNjg0NDggMjkuODI2MTI5Niw0My4yODM4MjQ4IDM4LjY0NzU4NjksMzEuNjgzMTY4MyBMNzIuODcxMjg3MSwzMi41NTQ0MjUgTDY1LjI4MDk3Myw2Ny42NzYzNDIxIEw1MS4xMTIyODk5LDc3LjM3NjE0NCBMMzUuMDA3NzE4LDgwIFoiIGlkPSJQYXRoLTIyIiBmaWxsPSIjMDAyODY4Ij48L3BhdGg+CiAgICAgICAgICAgICAgICA8cGF0aCBkPSJNMCwzNy43MzA0NDA1IEwyNy4xMTQ1MzcsMC4yNTcxMTE0MzYgQzYyLjM3MTUxMjMsLTEuOTkwNzE3MDEgODAsMTAuNTAwMzkyNyA4MCwzNy43MzA0NDA1IEM4MCw2NC45NjA0ODgyIDY0Ljc3NjUwMzgsNzkuMDUwMzQxNCAzNC4zMjk1MTEzLDgwIEM0Ny4wNTUzNDg5LDc3LjU2NzA4MDggNTMuNDE4MjY3Nyw3MC4zMTM2MTAzIDUzLjQxODI2NzcsNTguMjM5NTg4NSBDNTMuNDE4MjY3Nyw0MC4xMjg1NTU3IDM2LjMwMzk1NDQsMzcuNzMwNDQwNSAyNS4yMjc0MTcsMzcuNzMwNDQwNSBDMTcuODQzMDU4NiwzNy43MzA0NDA1IDkuNDMzOTE5NjYsMzcuNzMwNDQwNSAwLDM3LjczMDQ0MDUgWiIgaWQ9IlBhdGgtMTkiIGZpbGw9IiMzNzkzRUYiPjwvcGF0aD4KICAgICAgICAgICAgPC9nPgogICAgICAgIDwvZz4KICAgIDwvZz4KPC9zdmc+' > </img>\nCreated in <span style='font-weight:600;margin-left:4px;'>Deepnote</span></a>",
      "metadata": {
        "created_in_deepnote_cell": true,
        "deepnote_cell_type": "markdown"
      }
    }
  ],
  "nbformat": 4,
  "nbformat_minor": 0,
  "metadata": {
    "deepnote_notebook_id": "70c6a4c80350452eb5275a8767326fb2"
  }
}