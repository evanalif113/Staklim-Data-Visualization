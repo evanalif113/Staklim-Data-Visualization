{
  "cells": [
    {
      "cell_type": "code",
      "source": "import pandas as pd\nimport numpy as np\nimport matplotlib.pyplot as plt\nimport seaborn as sns\nfrom sklearn.model_selection import train_test_split\nfrom sklearn.preprocessing import StandardScaler\nfrom sklearn.linear_model import LogisticRegression\nfrom sklearn.tree import DecisionTreeClassifier\nfrom sklearn.ensemble import RandomForestClassifier, GradientBoostingClassifier\nfrom sklearn.svm import SVC\nfrom sklearn.neighbors import KNeighborsClassifier\nfrom sklearn.metrics import accuracy_score, classification_report",
      "metadata": {
        "source_hash": "32cd6d12",
        "execution_start": 1736057923768,
        "execution_millis": 948,
        "execution_context_id": "48890a1c-a873-4b77-b083-04ab46e8a1cd",
        "cell_id": "c9613dcacaec4d95b046d193dbd9bbac",
        "deepnote_cell_type": "code"
      },
      "outputs": [],
      "outputs_reference": null,
      "execution_count": 1,
      "block_group": "1e5d37541c744c559f0b4231d102526c",
      "content_dependencies": null
    },
    {
      "cell_type": "code",
      "source": "data = pd.read_csv('/work/datalatih_baru.csv')",
      "metadata": {
        "source_hash": "7c68631a",
        "execution_start": 1736057924767,
        "execution_millis": 61,
        "execution_context_id": "48890a1c-a873-4b77-b083-04ab46e8a1cd",
        "cell_id": "781413781a8044a3a2ca8e601f9cc58c",
        "deepnote_cell_type": "code"
      },
      "outputs": [],
      "outputs_reference": null,
      "execution_count": 2,
      "block_group": "9d2b24487de14942bba9be3f87009800",
      "content_dependencies": null
    },
    {
      "cell_type": "code",
      "source": "data.describe()",
      "metadata": {
        "source_hash": "d786443f",
        "execution_start": 1736057924883,
        "execution_millis": 30,
        "execution_context_id": "48890a1c-a873-4b77-b083-04ab46e8a1cd",
        "cell_id": "57541640457e4cd79cbdbb6b1c60fac5",
        "deepnote_cell_type": "code"
      },
      "outputs": [
        {
          "output_type": "execute_result",
          "execution_count": 3,
          "data": {
            "application/vnd.deepnote.dataframe.v3+json": {
              "column_count": 23,
              "row_count": 8,
              "columns": [
                {
                  "name": "tempmax",
                  "dtype": "float64",
                  "stats": {
                    "unique_count": 8,
                    "nan_count": 0,
                    "min": "1.4332990013690035",
                    "max": "996.0",
                    "histogram": [
                      {
                        "bin_start": 1.4332990013690035,
                        "bin_end": 100.8899691012321,
                        "count": 7
                      },
                      {
                        "bin_start": 100.8899691012321,
                        "bin_end": 200.34663920109517,
                        "count": 0
                      },
                      {
                        "bin_start": 200.34663920109517,
                        "bin_end": 299.80330930095823,
                        "count": 0
                      },
                      {
                        "bin_start": 299.80330930095823,
                        "bin_end": 399.25997940082135,
                        "count": 0
                      },
                      {
                        "bin_start": 399.25997940082135,
                        "bin_end": 498.71664950068447,
                        "count": 0
                      },
                      {
                        "bin_start": 498.71664950068447,
                        "bin_end": 598.1733196005475,
                        "count": 0
                      },
                      {
                        "bin_start": 598.1733196005475,
                        "bin_end": 697.6299897004106,
                        "count": 0
                      },
                      {
                        "bin_start": 697.6299897004106,
                        "bin_end": 797.0866598002738,
                        "count": 0
                      },
                      {
                        "bin_start": 797.0866598002738,
                        "bin_end": 896.5433299001369,
                        "count": 0
                      },
                      {
                        "bin_start": 896.5433299001369,
                        "bin_end": 996,
                        "count": 1
                      }
                    ]
                  }
                },
                {
                  "name": "tempmin",
                  "dtype": "float64",
                  "stats": {
                    "unique_count": 8,
                    "nan_count": 0,
                    "min": "1.1472648277240505",
                    "max": "996.0",
                    "histogram": [
                      {
                        "bin_start": 1.1472648277240505,
                        "bin_end": 100.63253834495164,
                        "count": 7
                      },
                      {
                        "bin_start": 100.63253834495164,
                        "bin_end": 200.11781186217925,
                        "count": 0
                      },
                      {
                        "bin_start": 200.11781186217925,
                        "bin_end": 299.6030853794068,
                        "count": 0
                      },
                      {
                        "bin_start": 299.6030853794068,
                        "bin_end": 399.0883588966344,
                        "count": 0
                      },
                      {
                        "bin_start": 399.0883588966344,
                        "bin_end": 498.573632413862,
                        "count": 0
                      },
                      {
                        "bin_start": 498.573632413862,
                        "bin_end": 598.0589059310896,
                        "count": 0
                      },
                      {
                        "bin_start": 598.0589059310896,
                        "bin_end": 697.5441794483172,
                        "count": 0
                      },
                      {
                        "bin_start": 697.5441794483172,
                        "bin_end": 797.0294529655448,
                        "count": 0
                      },
                      {
                        "bin_start": 797.0294529655448,
                        "bin_end": 896.5147264827724,
                        "count": 0
                      },
                      {
                        "bin_start": 896.5147264827724,
                        "bin_end": 996,
                        "count": 1
                      }
                    ]
                  }
                },
                {
                  "name": "temp",
                  "dtype": "float64",
                  "stats": {
                    "unique_count": 8,
                    "nan_count": 0,
                    "min": "1.0604152369060287",
                    "max": "996.0",
                    "histogram": [
                      {
                        "bin_start": 1.0604152369060287,
                        "bin_end": 100.55437371321543,
                        "count": 7
                      },
                      {
                        "bin_start": 100.55437371321543,
                        "bin_end": 200.04833218952484,
                        "count": 0
                      },
                      {
                        "bin_start": 200.04833218952484,
                        "bin_end": 299.54229066583423,
                        "count": 0
                      },
                      {
                        "bin_start": 299.54229066583423,
                        "bin_end": 399.0362491421436,
                        "count": 0
                      },
                      {
                        "bin_start": 399.0362491421436,
                        "bin_end": 498.530207618453,
                        "count": 0
                      },
                      {
                        "bin_start": 498.530207618453,
                        "bin_end": 598.0241660947624,
                        "count": 0
                      },
                      {
                        "bin_start": 598.0241660947624,
                        "bin_end": 697.5181245710718,
                        "count": 0
                      },
                      {
                        "bin_start": 697.5181245710718,
                        "bin_end": 797.0120830473812,
                        "count": 0
                      },
                      {
                        "bin_start": 797.0120830473812,
                        "bin_end": 896.5060415236907,
                        "count": 0
                      },
                      {
                        "bin_start": 896.5060415236907,
                        "bin_end": 996,
                        "count": 1
                      }
                    ]
                  }
                },
                {
                  "name": "feelslikemax",
                  "dtype": "float64",
                  "stats": {
                    "unique_count": 8,
                    "nan_count": 0,
                    "min": "3.091785602388368",
                    "max": "996.0",
                    "histogram": [
                      {
                        "bin_start": 3.091785602388368,
                        "bin_end": 102.38260704214954,
                        "count": 7
                      },
                      {
                        "bin_start": 102.38260704214954,
                        "bin_end": 201.67342848191072,
                        "count": 0
                      },
                      {
                        "bin_start": 201.67342848191072,
                        "bin_end": 300.96424992167186,
                        "count": 0
                      },
                      {
                        "bin_start": 300.96424992167186,
                        "bin_end": 400.25507136143307,
                        "count": 0
                      },
                      {
                        "bin_start": 400.25507136143307,
                        "bin_end": 499.54589280119427,
                        "count": 0
                      },
                      {
                        "bin_start": 499.54589280119427,
                        "bin_end": 598.8367142409553,
                        "count": 0
                      },
                      {
                        "bin_start": 598.8367142409553,
                        "bin_end": 698.1275356807165,
                        "count": 0
                      },
                      {
                        "bin_start": 698.1275356807165,
                        "bin_end": 797.4183571204777,
                        "count": 0
                      },
                      {
                        "bin_start": 797.4183571204777,
                        "bin_end": 896.7091785602389,
                        "count": 0
                      },
                      {
                        "bin_start": 896.7091785602389,
                        "bin_end": 996,
                        "count": 1
                      }
                    ]
                  }
                },
                {
                  "name": "feelslikemin",
                  "dtype": "float64",
                  "stats": {
                    "unique_count": 8,
                    "nan_count": 0,
                    "min": "1.3470803714829216",
                    "max": "996.0",
                    "histogram": [
                      {
                        "bin_start": 1.3470803714829216,
                        "bin_end": 100.81237233433463,
                        "count": 7
                      },
                      {
                        "bin_start": 100.81237233433463,
                        "bin_end": 200.27766429718633,
                        "count": 0
                      },
                      {
                        "bin_start": 200.27766429718633,
                        "bin_end": 299.74295626003806,
                        "count": 0
                      },
                      {
                        "bin_start": 299.74295626003806,
                        "bin_end": 399.2082482228898,
                        "count": 0
                      },
                      {
                        "bin_start": 399.2082482228898,
                        "bin_end": 498.6735401857415,
                        "count": 0
                      },
                      {
                        "bin_start": 498.6735401857415,
                        "bin_end": 598.1388321485931,
                        "count": 0
                      },
                      {
                        "bin_start": 598.1388321485931,
                        "bin_end": 697.6041241114449,
                        "count": 0
                      },
                      {
                        "bin_start": 697.6041241114449,
                        "bin_end": 797.0694160742966,
                        "count": 0
                      },
                      {
                        "bin_start": 797.0694160742966,
                        "bin_end": 896.5347080371482,
                        "count": 0
                      },
                      {
                        "bin_start": 896.5347080371482,
                        "bin_end": 996,
                        "count": 1
                      }
                    ]
                  }
                },
                {
                  "name": "feelslike",
                  "dtype": "float64",
                  "stats": {
                    "unique_count": 8,
                    "nan_count": 0,
                    "min": "2.346664752889263",
                    "max": "996.0",
                    "histogram": [
                      {
                        "bin_start": 2.346664752889263,
                        "bin_end": 101.71199827760034,
                        "count": 7
                      },
                      {
                        "bin_start": 101.71199827760034,
                        "bin_end": 201.07733180231142,
                        "count": 0
                      },
                      {
                        "bin_start": 201.07733180231142,
                        "bin_end": 300.44266532702244,
                        "count": 0
                      },
                      {
                        "bin_start": 300.44266532702244,
                        "bin_end": 399.80799885173354,
                        "count": 0
                      },
                      {
                        "bin_start": 399.80799885173354,
                        "bin_end": 499.17333237644465,
                        "count": 0
                      },
                      {
                        "bin_start": 499.17333237644465,
                        "bin_end": 598.5386659011557,
                        "count": 0
                      },
                      {
                        "bin_start": 598.5386659011557,
                        "bin_end": 697.9039994258668,
                        "count": 0
                      },
                      {
                        "bin_start": 697.9039994258668,
                        "bin_end": 797.2693329505779,
                        "count": 0
                      },
                      {
                        "bin_start": 797.2693329505779,
                        "bin_end": 896.634666475289,
                        "count": 0
                      },
                      {
                        "bin_start": 896.634666475289,
                        "bin_end": 996,
                        "count": 1
                      }
                    ]
                  }
                },
                {
                  "name": "dew",
                  "dtype": "float64",
                  "stats": {
                    "unique_count": 8,
                    "nan_count": 0,
                    "min": "1.1137889711850963",
                    "max": "996.0",
                    "histogram": [
                      {
                        "bin_start": 1.1137889711850963,
                        "bin_end": 100.6024100740666,
                        "count": 7
                      },
                      {
                        "bin_start": 100.6024100740666,
                        "bin_end": 200.0910311769481,
                        "count": 0
                      },
                      {
                        "bin_start": 200.0910311769481,
                        "bin_end": 299.5796522798296,
                        "count": 0
                      },
                      {
                        "bin_start": 299.5796522798296,
                        "bin_end": 399.0682733827111,
                        "count": 0
                      },
                      {
                        "bin_start": 399.0682733827111,
                        "bin_end": 498.5568944855926,
                        "count": 0
                      },
                      {
                        "bin_start": 498.5568944855926,
                        "bin_end": 598.045515588474,
                        "count": 0
                      },
                      {
                        "bin_start": 598.045515588474,
                        "bin_end": 697.5341366913555,
                        "count": 0
                      },
                      {
                        "bin_start": 697.5341366913555,
                        "bin_end": 797.022757794237,
                        "count": 0
                      },
                      {
                        "bin_start": 797.022757794237,
                        "bin_end": 896.5113788971186,
                        "count": 0
                      },
                      {
                        "bin_start": 896.5113788971186,
                        "bin_end": 996,
                        "count": 1
                      }
                    ]
                  }
                },
                {
                  "name": "humidity",
                  "dtype": "float64",
                  "stats": {
                    "unique_count": 8,
                    "nan_count": 0,
                    "min": "3.137375812741208",
                    "max": "996.0",
                    "histogram": [
                      {
                        "bin_start": 3.137375812741208,
                        "bin_end": 102.4236382314671,
                        "count": 7
                      },
                      {
                        "bin_start": 102.4236382314671,
                        "bin_end": 201.70990065019296,
                        "count": 0
                      },
                      {
                        "bin_start": 201.70990065019296,
                        "bin_end": 300.99616306891886,
                        "count": 0
                      },
                      {
                        "bin_start": 300.99616306891886,
                        "bin_end": 400.28242548764473,
                        "count": 0
                      },
                      {
                        "bin_start": 400.28242548764473,
                        "bin_end": 499.5686879063706,
                        "count": 0
                      },
                      {
                        "bin_start": 499.5686879063706,
                        "bin_end": 598.8549503250965,
                        "count": 0
                      },
                      {
                        "bin_start": 598.8549503250965,
                        "bin_end": 698.1412127438224,
                        "count": 0
                      },
                      {
                        "bin_start": 698.1412127438224,
                        "bin_end": 797.4274751625483,
                        "count": 0
                      },
                      {
                        "bin_start": 797.4274751625483,
                        "bin_end": 896.7137375812741,
                        "count": 0
                      },
                      {
                        "bin_start": 896.7137375812741,
                        "bin_end": 996,
                        "count": 1
                      }
                    ]
                  }
                },
                {
                  "name": "precip",
                  "dtype": "float64",
                  "stats": {
                    "unique_count": 8,
                    "nan_count": 0,
                    "min": "0.0",
                    "max": "996.0",
                    "histogram": [
                      {
                        "bin_start": 0,
                        "bin_end": 99.6,
                        "count": 6
                      },
                      {
                        "bin_start": 99.6,
                        "bin_end": 199.2,
                        "count": 0
                      },
                      {
                        "bin_start": 199.2,
                        "bin_end": 298.79999999999995,
                        "count": 0
                      },
                      {
                        "bin_start": 298.79999999999995,
                        "bin_end": 398.4,
                        "count": 1
                      },
                      {
                        "bin_start": 398.4,
                        "bin_end": 498,
                        "count": 0
                      },
                      {
                        "bin_start": 498,
                        "bin_end": 597.5999999999999,
                        "count": 0
                      },
                      {
                        "bin_start": 597.5999999999999,
                        "bin_end": 697.1999999999999,
                        "count": 0
                      },
                      {
                        "bin_start": 697.1999999999999,
                        "bin_end": 796.8,
                        "count": 0
                      },
                      {
                        "bin_start": 796.8,
                        "bin_end": 896.4,
                        "count": 0
                      },
                      {
                        "bin_start": 896.4,
                        "bin_end": 996,
                        "count": 1
                      }
                    ]
                  }
                },
                {
                  "name": "precipcover",
                  "dtype": "float64",
                  "stats": {
                    "unique_count": 8,
                    "nan_count": 0,
                    "min": "0.0",
                    "max": "996.0",
                    "histogram": [
                      {
                        "bin_start": 0,
                        "bin_end": 99.6,
                        "count": 7
                      },
                      {
                        "bin_start": 99.6,
                        "bin_end": 199.2,
                        "count": 0
                      },
                      {
                        "bin_start": 199.2,
                        "bin_end": 298.79999999999995,
                        "count": 0
                      },
                      {
                        "bin_start": 298.79999999999995,
                        "bin_end": 398.4,
                        "count": 0
                      },
                      {
                        "bin_start": 398.4,
                        "bin_end": 498,
                        "count": 0
                      },
                      {
                        "bin_start": 498,
                        "bin_end": 597.5999999999999,
                        "count": 0
                      },
                      {
                        "bin_start": 597.5999999999999,
                        "bin_end": 697.1999999999999,
                        "count": 0
                      },
                      {
                        "bin_start": 697.1999999999999,
                        "bin_end": 796.8,
                        "count": 0
                      },
                      {
                        "bin_start": 796.8,
                        "bin_end": 896.4,
                        "count": 0
                      },
                      {
                        "bin_start": 896.4,
                        "bin_end": 996,
                        "count": 1
                      }
                    ]
                  }
                },
                {
                  "name": "snow",
                  "dtype": "float64",
                  "stats": {
                    "unique_count": 2,
                    "nan_count": 0,
                    "min": "0.0",
                    "max": "996.0",
                    "histogram": [
                      {
                        "bin_start": 0,
                        "bin_end": 99.6,
                        "count": 7
                      },
                      {
                        "bin_start": 99.6,
                        "bin_end": 199.2,
                        "count": 0
                      },
                      {
                        "bin_start": 199.2,
                        "bin_end": 298.79999999999995,
                        "count": 0
                      },
                      {
                        "bin_start": 298.79999999999995,
                        "bin_end": 398.4,
                        "count": 0
                      },
                      {
                        "bin_start": 398.4,
                        "bin_end": 498,
                        "count": 0
                      },
                      {
                        "bin_start": 498,
                        "bin_end": 597.5999999999999,
                        "count": 0
                      },
                      {
                        "bin_start": 597.5999999999999,
                        "bin_end": 697.1999999999999,
                        "count": 0
                      },
                      {
                        "bin_start": 697.1999999999999,
                        "bin_end": 796.8,
                        "count": 0
                      },
                      {
                        "bin_start": 796.8,
                        "bin_end": 896.4,
                        "count": 0
                      },
                      {
                        "bin_start": 896.4,
                        "bin_end": 996,
                        "count": 1
                      }
                    ]
                  }
                },
                {
                  "name": "snowdepth",
                  "dtype": "float64",
                  "stats": {
                    "unique_count": 2,
                    "nan_count": 0,
                    "min": "0.0",
                    "max": "996.0",
                    "histogram": [
                      {
                        "bin_start": 0,
                        "bin_end": 99.6,
                        "count": 7
                      },
                      {
                        "bin_start": 99.6,
                        "bin_end": 199.2,
                        "count": 0
                      },
                      {
                        "bin_start": 199.2,
                        "bin_end": 298.79999999999995,
                        "count": 0
                      },
                      {
                        "bin_start": 298.79999999999995,
                        "bin_end": 398.4,
                        "count": 0
                      },
                      {
                        "bin_start": 398.4,
                        "bin_end": 498,
                        "count": 0
                      },
                      {
                        "bin_start": 498,
                        "bin_end": 597.5999999999999,
                        "count": 0
                      },
                      {
                        "bin_start": 597.5999999999999,
                        "bin_end": 697.1999999999999,
                        "count": 0
                      },
                      {
                        "bin_start": 697.1999999999999,
                        "bin_end": 796.8,
                        "count": 0
                      },
                      {
                        "bin_start": 796.8,
                        "bin_end": 896.4,
                        "count": 0
                      },
                      {
                        "bin_start": 896.4,
                        "bin_end": 996,
                        "count": 1
                      }
                    ]
                  }
                },
                {
                  "name": "windgust",
                  "dtype": "float64",
                  "stats": {
                    "unique_count": 8,
                    "nan_count": 0,
                    "min": "7.9",
                    "max": "996.0",
                    "histogram": [
                      {
                        "bin_start": 7.9,
                        "bin_end": 106.71000000000001,
                        "count": 7
                      },
                      {
                        "bin_start": 106.71000000000001,
                        "bin_end": 205.52,
                        "count": 0
                      },
                      {
                        "bin_start": 205.52,
                        "bin_end": 304.33,
                        "count": 0
                      },
                      {
                        "bin_start": 304.33,
                        "bin_end": 403.14,
                        "count": 0
                      },
                      {
                        "bin_start": 403.14,
                        "bin_end": 501.95,
                        "count": 0
                      },
                      {
                        "bin_start": 501.95,
                        "bin_end": 600.76,
                        "count": 0
                      },
                      {
                        "bin_start": 600.76,
                        "bin_end": 699.57,
                        "count": 0
                      },
                      {
                        "bin_start": 699.57,
                        "bin_end": 798.38,
                        "count": 0
                      },
                      {
                        "bin_start": 798.38,
                        "bin_end": 897.1899999999999,
                        "count": 0
                      },
                      {
                        "bin_start": 897.1899999999999,
                        "bin_end": 996,
                        "count": 1
                      }
                    ]
                  }
                },
                {
                  "name": "windspeed",
                  "dtype": "float64",
                  "stats": {
                    "unique_count": 8,
                    "nan_count": 0,
                    "min": "4.69042903241085",
                    "max": "996.0",
                    "histogram": [
                      {
                        "bin_start": 4.69042903241085,
                        "bin_end": 103.82138612916977,
                        "count": 7
                      },
                      {
                        "bin_start": 103.82138612916977,
                        "bin_end": 202.9523432259287,
                        "count": 0
                      },
                      {
                        "bin_start": 202.9523432259287,
                        "bin_end": 302.0833003226876,
                        "count": 0
                      },
                      {
                        "bin_start": 302.0833003226876,
                        "bin_end": 401.21425741944654,
                        "count": 0
                      },
                      {
                        "bin_start": 401.21425741944654,
                        "bin_end": 500.3452145162055,
                        "count": 0
                      },
                      {
                        "bin_start": 500.3452145162055,
                        "bin_end": 599.4761716129643,
                        "count": 0
                      },
                      {
                        "bin_start": 599.4761716129643,
                        "bin_end": 698.6071287097233,
                        "count": 0
                      },
                      {
                        "bin_start": 698.6071287097233,
                        "bin_end": 797.7380858064822,
                        "count": 0
                      },
                      {
                        "bin_start": 797.7380858064822,
                        "bin_end": 896.8690429032412,
                        "count": 0
                      },
                      {
                        "bin_start": 896.8690429032412,
                        "bin_end": 996,
                        "count": 1
                      }
                    ]
                  }
                },
                {
                  "name": "winddir",
                  "dtype": "float64",
                  "stats": {
                    "unique_count": 8,
                    "nan_count": 0,
                    "min": "6.9",
                    "max": "996.0",
                    "histogram": [
                      {
                        "bin_start": 6.9,
                        "bin_end": 105.81,
                        "count": 2
                      },
                      {
                        "bin_start": 105.81,
                        "bin_end": 204.72,
                        "count": 3
                      },
                      {
                        "bin_start": 204.72,
                        "bin_end": 303.63,
                        "count": 1
                      },
                      {
                        "bin_start": 303.63,
                        "bin_end": 402.53999999999996,
                        "count": 1
                      },
                      {
                        "bin_start": 402.53999999999996,
                        "bin_end": 501.44999999999993,
                        "count": 0
                      },
                      {
                        "bin_start": 501.44999999999993,
                        "bin_end": 600.36,
                        "count": 0
                      },
                      {
                        "bin_start": 600.36,
                        "bin_end": 699.27,
                        "count": 0
                      },
                      {
                        "bin_start": 699.27,
                        "bin_end": 798.18,
                        "count": 0
                      },
                      {
                        "bin_start": 798.18,
                        "bin_end": 897.0899999999999,
                        "count": 0
                      },
                      {
                        "bin_start": 897.0899999999999,
                        "bin_end": 996,
                        "count": 1
                      }
                    ]
                  }
                },
                {
                  "name": "sealevelpressure",
                  "dtype": "float64",
                  "stats": {
                    "unique_count": 8,
                    "nan_count": 0,
                    "min": "1.7294793515595062",
                    "max": "1016.5",
                    "histogram": [
                      {
                        "bin_start": 1.7294793515595062,
                        "bin_end": 103.20653141640356,
                        "count": 1
                      },
                      {
                        "bin_start": 103.20653141640356,
                        "bin_end": 204.68358348124764,
                        "count": 0
                      },
                      {
                        "bin_start": 204.68358348124764,
                        "bin_end": 306.16063554609167,
                        "count": 0
                      },
                      {
                        "bin_start": 306.16063554609167,
                        "bin_end": 407.63768761093576,
                        "count": 0
                      },
                      {
                        "bin_start": 407.63768761093576,
                        "bin_end": 509.11473967577984,
                        "count": 0
                      },
                      {
                        "bin_start": 509.11473967577984,
                        "bin_end": 610.5917917406238,
                        "count": 0
                      },
                      {
                        "bin_start": 610.5917917406238,
                        "bin_end": 712.0688438054678,
                        "count": 0
                      },
                      {
                        "bin_start": 712.0688438054678,
                        "bin_end": 813.5458958703119,
                        "count": 0
                      },
                      {
                        "bin_start": 813.5458958703119,
                        "bin_end": 915.022947935156,
                        "count": 0
                      },
                      {
                        "bin_start": 915.022947935156,
                        "bin_end": 1016.5,
                        "count": 7
                      }
                    ]
                  }
                },
                {
                  "name": "cloudcover",
                  "dtype": "float64",
                  "stats": {
                    "unique_count": 8,
                    "nan_count": 0,
                    "min": "17.54382103492334",
                    "max": "996.0",
                    "histogram": [
                      {
                        "bin_start": 17.54382103492334,
                        "bin_end": 115.389438931431,
                        "count": 7
                      },
                      {
                        "bin_start": 115.389438931431,
                        "bin_end": 213.23505682793865,
                        "count": 0
                      },
                      {
                        "bin_start": 213.23505682793865,
                        "bin_end": 311.08067472444634,
                        "count": 0
                      },
                      {
                        "bin_start": 311.08067472444634,
                        "bin_end": 408.926292620954,
                        "count": 0
                      },
                      {
                        "bin_start": 408.926292620954,
                        "bin_end": 506.7719105174616,
                        "count": 0
                      },
                      {
                        "bin_start": 506.7719105174616,
                        "bin_end": 604.6175284139694,
                        "count": 0
                      },
                      {
                        "bin_start": 604.6175284139694,
                        "bin_end": 702.463146310477,
                        "count": 0
                      },
                      {
                        "bin_start": 702.463146310477,
                        "bin_end": 800.3087642069846,
                        "count": 0
                      },
                      {
                        "bin_start": 800.3087642069846,
                        "bin_end": 898.1543821034923,
                        "count": 0
                      },
                      {
                        "bin_start": 898.1543821034923,
                        "bin_end": 996,
                        "count": 1
                      }
                    ]
                  }
                },
                {
                  "name": "visibility",
                  "dtype": "float64",
                  "stats": {
                    "unique_count": 8,
                    "nan_count": 0,
                    "min": "3.0337730193642605",
                    "max": "996.0",
                    "histogram": [
                      {
                        "bin_start": 3.0337730193642605,
                        "bin_end": 102.33039571742783,
                        "count": 7
                      },
                      {
                        "bin_start": 102.33039571742783,
                        "bin_end": 201.6270184154914,
                        "count": 0
                      },
                      {
                        "bin_start": 201.6270184154914,
                        "bin_end": 300.923641113555,
                        "count": 0
                      },
                      {
                        "bin_start": 300.923641113555,
                        "bin_end": 400.22026381161857,
                        "count": 0
                      },
                      {
                        "bin_start": 400.22026381161857,
                        "bin_end": 499.51688650968214,
                        "count": 0
                      },
                      {
                        "bin_start": 499.51688650968214,
                        "bin_end": 598.8135092077457,
                        "count": 0
                      },
                      {
                        "bin_start": 598.8135092077457,
                        "bin_end": 698.1101319058092,
                        "count": 0
                      },
                      {
                        "bin_start": 698.1101319058092,
                        "bin_end": 797.4067546038729,
                        "count": 0
                      },
                      {
                        "bin_start": 797.4067546038729,
                        "bin_end": 896.7033773019365,
                        "count": 0
                      },
                      {
                        "bin_start": 896.7033773019365,
                        "bin_end": 996,
                        "count": 1
                      }
                    ]
                  }
                },
                {
                  "name": "solarradiation",
                  "dtype": "float64",
                  "stats": {
                    "unique_count": 8,
                    "nan_count": 0,
                    "min": "10.0",
                    "max": "996.0",
                    "histogram": [
                      {
                        "bin_start": 10,
                        "bin_end": 108.6,
                        "count": 2
                      },
                      {
                        "bin_start": 108.6,
                        "bin_end": 207.2,
                        "count": 1
                      },
                      {
                        "bin_start": 207.2,
                        "bin_end": 305.79999999999995,
                        "count": 3
                      },
                      {
                        "bin_start": 305.79999999999995,
                        "bin_end": 404.4,
                        "count": 1
                      },
                      {
                        "bin_start": 404.4,
                        "bin_end": 503,
                        "count": 0
                      },
                      {
                        "bin_start": 503,
                        "bin_end": 601.5999999999999,
                        "count": 0
                      },
                      {
                        "bin_start": 601.5999999999999,
                        "bin_end": 700.1999999999999,
                        "count": 0
                      },
                      {
                        "bin_start": 700.1999999999999,
                        "bin_end": 798.8,
                        "count": 0
                      },
                      {
                        "bin_start": 798.8,
                        "bin_end": 897.4,
                        "count": 0
                      },
                      {
                        "bin_start": 897.4,
                        "bin_end": 996,
                        "count": 1
                      }
                    ]
                  }
                },
                {
                  "name": "solarenergy",
                  "dtype": "float64",
                  "stats": {
                    "unique_count": 8,
                    "nan_count": 0,
                    "min": "1.0",
                    "max": "996.0",
                    "histogram": [
                      {
                        "bin_start": 1,
                        "bin_end": 100.5,
                        "count": 7
                      },
                      {
                        "bin_start": 100.5,
                        "bin_end": 200,
                        "count": 0
                      },
                      {
                        "bin_start": 200,
                        "bin_end": 299.5,
                        "count": 0
                      },
                      {
                        "bin_start": 299.5,
                        "bin_end": 399,
                        "count": 0
                      },
                      {
                        "bin_start": 399,
                        "bin_end": 498.5,
                        "count": 0
                      },
                      {
                        "bin_start": 498.5,
                        "bin_end": 598,
                        "count": 0
                      },
                      {
                        "bin_start": 598,
                        "bin_end": 697.5,
                        "count": 0
                      },
                      {
                        "bin_start": 697.5,
                        "bin_end": 797,
                        "count": 0
                      },
                      {
                        "bin_start": 797,
                        "bin_end": 896.5,
                        "count": 0
                      },
                      {
                        "bin_start": 896.5,
                        "bin_end": 996,
                        "count": 1
                      }
                    ]
                  }
                },
                {
                  "name": "uvindex",
                  "dtype": "float64",
                  "stats": {
                    "unique_count": 8,
                    "nan_count": 0,
                    "min": "1.0",
                    "max": "996.0",
                    "histogram": [
                      {
                        "bin_start": 1,
                        "bin_end": 100.5,
                        "count": 7
                      },
                      {
                        "bin_start": 100.5,
                        "bin_end": 200,
                        "count": 0
                      },
                      {
                        "bin_start": 200,
                        "bin_end": 299.5,
                        "count": 0
                      },
                      {
                        "bin_start": 299.5,
                        "bin_end": 399,
                        "count": 0
                      },
                      {
                        "bin_start": 399,
                        "bin_end": 498.5,
                        "count": 0
                      },
                      {
                        "bin_start": 498.5,
                        "bin_end": 598,
                        "count": 0
                      },
                      {
                        "bin_start": 598,
                        "bin_end": 697.5,
                        "count": 0
                      },
                      {
                        "bin_start": 697.5,
                        "bin_end": 797,
                        "count": 0
                      },
                      {
                        "bin_start": 797,
                        "bin_end": 896.5,
                        "count": 0
                      },
                      {
                        "bin_start": 896.5,
                        "bin_end": 996,
                        "count": 1
                      }
                    ]
                  }
                },
                {
                  "name": "severerisk",
                  "dtype": "float64",
                  "stats": {
                    "unique_count": 6,
                    "nan_count": 0,
                    "min": "10.0",
                    "max": "996.0",
                    "histogram": [
                      {
                        "bin_start": 10,
                        "bin_end": 108.6,
                        "count": 7
                      },
                      {
                        "bin_start": 108.6,
                        "bin_end": 207.2,
                        "count": 0
                      },
                      {
                        "bin_start": 207.2,
                        "bin_end": 305.79999999999995,
                        "count": 0
                      },
                      {
                        "bin_start": 305.79999999999995,
                        "bin_end": 404.4,
                        "count": 0
                      },
                      {
                        "bin_start": 404.4,
                        "bin_end": 503,
                        "count": 0
                      },
                      {
                        "bin_start": 503,
                        "bin_end": 601.5999999999999,
                        "count": 0
                      },
                      {
                        "bin_start": 601.5999999999999,
                        "bin_end": 700.1999999999999,
                        "count": 0
                      },
                      {
                        "bin_start": 700.1999999999999,
                        "bin_end": 798.8,
                        "count": 0
                      },
                      {
                        "bin_start": 798.8,
                        "bin_end": 897.4,
                        "count": 0
                      },
                      {
                        "bin_start": 897.4,
                        "bin_end": 996,
                        "count": 1
                      }
                    ]
                  }
                },
                {
                  "name": "moonphase",
                  "dtype": "float64",
                  "stats": {
                    "unique_count": 8,
                    "nan_count": 0,
                    "min": "0.0",
                    "max": "996.0",
                    "histogram": [
                      {
                        "bin_start": 0,
                        "bin_end": 99.6,
                        "count": 7
                      },
                      {
                        "bin_start": 99.6,
                        "bin_end": 199.2,
                        "count": 0
                      },
                      {
                        "bin_start": 199.2,
                        "bin_end": 298.79999999999995,
                        "count": 0
                      },
                      {
                        "bin_start": 298.79999999999995,
                        "bin_end": 398.4,
                        "count": 0
                      },
                      {
                        "bin_start": 398.4,
                        "bin_end": 498,
                        "count": 0
                      },
                      {
                        "bin_start": 498,
                        "bin_end": 597.5999999999999,
                        "count": 0
                      },
                      {
                        "bin_start": 597.5999999999999,
                        "bin_end": 697.1999999999999,
                        "count": 0
                      },
                      {
                        "bin_start": 697.1999999999999,
                        "bin_end": 796.8,
                        "count": 0
                      },
                      {
                        "bin_start": 796.8,
                        "bin_end": 896.4,
                        "count": 0
                      },
                      {
                        "bin_start": 896.4,
                        "bin_end": 996,
                        "count": 1
                      }
                    ]
                  }
                },
                {
                  "name": "_deepnote_index_column",
                  "dtype": "object"
                }
              ],
              "rows": [
                {
                  "tempmax": 996,
                  "tempmin": 996,
                  "temp": 996,
                  "feelslikemax": 996,
                  "feelslikemin": 996,
                  "feelslike": 996,
                  "dew": 996,
                  "humidity": 996,
                  "precip": 996,
                  "precipcover": 996,
                  "snow": 996,
                  "snowdepth": 996,
                  "windgust": 996,
                  "windspeed": 996,
                  "winddir": 996,
                  "sealevelpressure": 996,
                  "cloudcover": 996,
                  "visibility": 996,
                  "solarradiation": 996,
                  "solarenergy": 996,
                  "uvindex": 996,
                  "severerisk": 996,
                  "moonphase": 996,
                  "_deepnote_index_column": "count"
                },
                {
                  "tempmax": 30.7863453815261,
                  "tempmin": 24.553815261044175,
                  "temp": 27.12289156626506,
                  "feelslikemax": 37.0824297188755,
                  "feelslikemin": 24.61335341365462,
                  "feelslike": 29.540562248995986,
                  "dew": 23.883032128514056,
                  "humidity": 83.03102409638554,
                  "precip": 10.141064257028113,
                  "precipcover": 14.633845381526106,
                  "snow": 0,
                  "snowdepth": 0,
                  "windgust": 26.02128514056225,
                  "windspeed": 15.80512048192771,
                  "winddir": 176.98584337349396,
                  "sealevelpressure": 1010.4166666666666,
                  "cloudcover": 75.380421686747,
                  "visibility": 16.800401606425705,
                  "solarradiation": 222.85411646586346,
                  "solarenergy": 19.238052208835345,
                  "uvindex": 7.986947791164659,
                  "severerisk": 20.622489959839356,
                  "moonphase": 0.4863152610441767,
                  "_deepnote_index_column": "mean"
                },
                {
                  "tempmax": 1.4332990013690035,
                  "tempmin": 1.1472648277240505,
                  "temp": 1.0604152369060287,
                  "feelslikemax": 3.091785602388368,
                  "feelslikemin": 1.3470803714829216,
                  "feelslike": 2.346664752889263,
                  "dew": 1.1137889711850963,
                  "humidity": 3.137375812741208,
                  "precip": 22.94476764500578,
                  "precipcover": 14.452051394863902,
                  "snow": 0,
                  "snowdepth": 0,
                  "windgust": 8.379053133384494,
                  "windspeed": 4.69042903241085,
                  "winddir": 71.49008695656238,
                  "sealevelpressure": 1.7294793515595062,
                  "cloudcover": 17.54382103492334,
                  "visibility": 3.0337730193642605,
                  "solarradiation": 49.72827222430478,
                  "solarenergy": 4.297961164569297,
                  "uvindex": 1.3959130299632734,
                  "severerisk": 11.969981558778066,
                  "moonphase": 0.28844510726925143,
                  "_deepnote_index_column": "std"
                },
                {
                  "tempmax": 26.2,
                  "tempmin": 19.8,
                  "temp": 23.8,
                  "feelslikemax": 26.2,
                  "feelslikemin": 19.8,
                  "feelslike": 24.1,
                  "dew": 18.8,
                  "humidity": 67.5,
                  "precip": 0,
                  "precipcover": 0,
                  "snow": 0,
                  "snowdepth": 0,
                  "windgust": 7.9,
                  "windspeed": 5.4,
                  "winddir": 6.9,
                  "sealevelpressure": 1005.8,
                  "cloudcover": 23.7,
                  "visibility": 5.9,
                  "solarradiation": 10,
                  "solarenergy": 1,
                  "uvindex": 1,
                  "severerisk": 10,
                  "moonphase": 0,
                  "_deepnote_index_column": "min"
                },
                {
                  "tempmax": 29.7,
                  "tempmin": 23.9,
                  "temp": 26.3,
                  "feelslikemax": 34.875,
                  "feelslikemin": 23.9,
                  "feelslike": 27.7,
                  "dew": 23.1,
                  "humidity": 81.2,
                  "precip": 0.6,
                  "precipcover": 4.17,
                  "snow": 0,
                  "snowdepth": 0,
                  "windgust": 19.8,
                  "windspeed": 12.6,
                  "winddir": 122.52499999999999,
                  "sealevelpressure": 1009.2,
                  "cloudcover": 63.05,
                  "visibility": 15.9,
                  "solarradiation": 196.475,
                  "solarenergy": 17,
                  "uvindex": 7,
                  "severerisk": 10,
                  "moonphase": 0.25,
                  "_deepnote_index_column": "25%"
                },
                {
                  "tempmax": 30.9,
                  "tempmin": 24.6,
                  "temp": 27.2,
                  "feelslikemax": 37.4,
                  "feelslikemin": 24.6,
                  "feelslike": 29.3,
                  "dew": 24,
                  "humidity": 83.3,
                  "precip": 2.25,
                  "precipcover": 8.33,
                  "snow": 0,
                  "snowdepth": 0,
                  "windgust": 25.6,
                  "windspeed": 14.8,
                  "winddir": 134.95,
                  "sealevelpressure": 1010.4,
                  "cloudcover": 79,
                  "visibility": 17.8,
                  "solarradiation": 227.8,
                  "solarenergy": 19.65,
                  "uvindex": 8,
                  "severerisk": 10,
                  "moonphase": 0.5,
                  "_deepnote_index_column": "50%"
                },
                {
                  "tempmax": 31.9,
                  "tempmin": 25.4,
                  "temp": 27.9,
                  "feelslikemax": 39.2,
                  "feelslikemin": 25.4,
                  "feelslike": 31.1,
                  "dew": 24.7,
                  "humidity": 85.1,
                  "precip": 9,
                  "precipcover": 20.83,
                  "snow": 0,
                  "snowdepth": 0,
                  "windgust": 32,
                  "windspeed": 18.4,
                  "winddir": 260.725,
                  "sealevelpressure": 1011.525,
                  "cloudcover": 89.92500000000001,
                  "visibility": 18.8,
                  "solarradiation": 255.225,
                  "solarenergy": 22,
                  "uvindex": 9,
                  "severerisk": 30,
                  "moonphase": 0.75,
                  "_deepnote_index_column": "75%"
                },
                {
                  "tempmax": 35.5,
                  "tempmin": 27.4,
                  "temp": 30.1,
                  "feelslikemax": 47.9,
                  "feelslikemin": 31.2,
                  "feelslike": 36.3,
                  "dew": 26.4,
                  "humidity": 94.9,
                  "precip": 356.8,
                  "precipcover": 95.83,
                  "snow": 0,
                  "snowdepth": 0,
                  "windgust": 56.2,
                  "windspeed": 44.6,
                  "winddir": 357.4,
                  "sealevelpressure": 1016.5,
                  "cloudcover": 100,
                  "visibility": 24.1,
                  "solarradiation": 354.9,
                  "solarenergy": 30.9,
                  "uvindex": 10,
                  "severerisk": 75,
                  "moonphase": 0.98,
                  "_deepnote_index_column": "max"
                }
              ]
            },
            "text/plain": "          tempmax     tempmin        temp  feelslikemax  feelslikemin  \\\ncount  996.000000  996.000000  996.000000    996.000000    996.000000   \nmean    30.786345   24.553815   27.122892     37.082430     24.613353   \nstd      1.433299    1.147265    1.060415      3.091786      1.347080   \nmin     26.200000   19.800000   23.800000     26.200000     19.800000   \n25%     29.700000   23.900000   26.300000     34.875000     23.900000   \n50%     30.900000   24.600000   27.200000     37.400000     24.600000   \n75%     31.900000   25.400000   27.900000     39.200000     25.400000   \nmax     35.500000   27.400000   30.100000     47.900000     31.200000   \n\n        feelslike         dew    humidity      precip  precipcover  ...  \\\ncount  996.000000  996.000000  996.000000  996.000000   996.000000  ...   \nmean    29.540562   23.883032   83.031024   10.141064    14.633845  ...   \nstd      2.346665    1.113789    3.137376   22.944768    14.452051  ...   \nmin     24.100000   18.800000   67.500000    0.000000     0.000000  ...   \n25%     27.700000   23.100000   81.200000    0.600000     4.170000  ...   \n50%     29.300000   24.000000   83.300000    2.250000     8.330000  ...   \n75%     31.100000   24.700000   85.100000    9.000000    20.830000  ...   \nmax     36.300000   26.400000   94.900000  356.800000    95.830000  ...   \n\n        windspeed     winddir  sealevelpressure  cloudcover  visibility  \\\ncount  996.000000  996.000000        996.000000  996.000000  996.000000   \nmean    15.805120  176.985843       1010.416667   75.380422   16.800402   \nstd      4.690429   71.490087          1.729479   17.543821    3.033773   \nmin      5.400000    6.900000       1005.800000   23.700000    5.900000   \n25%     12.600000  122.525000       1009.200000   63.050000   15.900000   \n50%     14.800000  134.950000       1010.400000   79.000000   17.800000   \n75%     18.400000  260.725000       1011.525000   89.925000   18.800000   \nmax     44.600000  357.400000       1016.500000  100.000000   24.100000   \n\n       solarradiation  solarenergy     uvindex  severerisk   moonphase  \ncount      996.000000   996.000000  996.000000  996.000000  996.000000  \nmean       222.854116    19.238052    7.986948   20.622490    0.486315  \nstd         49.728272     4.297961    1.395913   11.969982    0.288445  \nmin         10.000000     1.000000    1.000000   10.000000    0.000000  \n25%        196.475000    17.000000    7.000000   10.000000    0.250000  \n50%        227.800000    19.650000    8.000000   10.000000    0.500000  \n75%        255.225000    22.000000    9.000000   30.000000    0.750000  \nmax        354.900000    30.900000   10.000000   75.000000    0.980000  \n\n[8 rows x 23 columns]",
            "text/html": "<div>\n<style scoped>\n    .dataframe tbody tr th:only-of-type {\n        vertical-align: middle;\n    }\n\n    .dataframe tbody tr th {\n        vertical-align: top;\n    }\n\n    .dataframe thead th {\n        text-align: right;\n    }\n</style>\n<table border=\"1\" class=\"dataframe\">\n  <thead>\n    <tr style=\"text-align: right;\">\n      <th></th>\n      <th>tempmax</th>\n      <th>tempmin</th>\n      <th>temp</th>\n      <th>feelslikemax</th>\n      <th>feelslikemin</th>\n      <th>feelslike</th>\n      <th>dew</th>\n      <th>humidity</th>\n      <th>precip</th>\n      <th>precipcover</th>\n      <th>...</th>\n      <th>windspeed</th>\n      <th>winddir</th>\n      <th>sealevelpressure</th>\n      <th>cloudcover</th>\n      <th>visibility</th>\n      <th>solarradiation</th>\n      <th>solarenergy</th>\n      <th>uvindex</th>\n      <th>severerisk</th>\n      <th>moonphase</th>\n    </tr>\n  </thead>\n  <tbody>\n    <tr>\n      <th>count</th>\n      <td>996.000000</td>\n      <td>996.000000</td>\n      <td>996.000000</td>\n      <td>996.000000</td>\n      <td>996.000000</td>\n      <td>996.000000</td>\n      <td>996.000000</td>\n      <td>996.000000</td>\n      <td>996.000000</td>\n      <td>996.000000</td>\n      <td>...</td>\n      <td>996.000000</td>\n      <td>996.000000</td>\n      <td>996.000000</td>\n      <td>996.000000</td>\n      <td>996.000000</td>\n      <td>996.000000</td>\n      <td>996.000000</td>\n      <td>996.000000</td>\n      <td>996.000000</td>\n      <td>996.000000</td>\n    </tr>\n    <tr>\n      <th>mean</th>\n      <td>30.786345</td>\n      <td>24.553815</td>\n      <td>27.122892</td>\n      <td>37.082430</td>\n      <td>24.613353</td>\n      <td>29.540562</td>\n      <td>23.883032</td>\n      <td>83.031024</td>\n      <td>10.141064</td>\n      <td>14.633845</td>\n      <td>...</td>\n      <td>15.805120</td>\n      <td>176.985843</td>\n      <td>1010.416667</td>\n      <td>75.380422</td>\n      <td>16.800402</td>\n      <td>222.854116</td>\n      <td>19.238052</td>\n      <td>7.986948</td>\n      <td>20.622490</td>\n      <td>0.486315</td>\n    </tr>\n    <tr>\n      <th>std</th>\n      <td>1.433299</td>\n      <td>1.147265</td>\n      <td>1.060415</td>\n      <td>3.091786</td>\n      <td>1.347080</td>\n      <td>2.346665</td>\n      <td>1.113789</td>\n      <td>3.137376</td>\n      <td>22.944768</td>\n      <td>14.452051</td>\n      <td>...</td>\n      <td>4.690429</td>\n      <td>71.490087</td>\n      <td>1.729479</td>\n      <td>17.543821</td>\n      <td>3.033773</td>\n      <td>49.728272</td>\n      <td>4.297961</td>\n      <td>1.395913</td>\n      <td>11.969982</td>\n      <td>0.288445</td>\n    </tr>\n    <tr>\n      <th>min</th>\n      <td>26.200000</td>\n      <td>19.800000</td>\n      <td>23.800000</td>\n      <td>26.200000</td>\n      <td>19.800000</td>\n      <td>24.100000</td>\n      <td>18.800000</td>\n      <td>67.500000</td>\n      <td>0.000000</td>\n      <td>0.000000</td>\n      <td>...</td>\n      <td>5.400000</td>\n      <td>6.900000</td>\n      <td>1005.800000</td>\n      <td>23.700000</td>\n      <td>5.900000</td>\n      <td>10.000000</td>\n      <td>1.000000</td>\n      <td>1.000000</td>\n      <td>10.000000</td>\n      <td>0.000000</td>\n    </tr>\n    <tr>\n      <th>25%</th>\n      <td>29.700000</td>\n      <td>23.900000</td>\n      <td>26.300000</td>\n      <td>34.875000</td>\n      <td>23.900000</td>\n      <td>27.700000</td>\n      <td>23.100000</td>\n      <td>81.200000</td>\n      <td>0.600000</td>\n      <td>4.170000</td>\n      <td>...</td>\n      <td>12.600000</td>\n      <td>122.525000</td>\n      <td>1009.200000</td>\n      <td>63.050000</td>\n      <td>15.900000</td>\n      <td>196.475000</td>\n      <td>17.000000</td>\n      <td>7.000000</td>\n      <td>10.000000</td>\n      <td>0.250000</td>\n    </tr>\n    <tr>\n      <th>50%</th>\n      <td>30.900000</td>\n      <td>24.600000</td>\n      <td>27.200000</td>\n      <td>37.400000</td>\n      <td>24.600000</td>\n      <td>29.300000</td>\n      <td>24.000000</td>\n      <td>83.300000</td>\n      <td>2.250000</td>\n      <td>8.330000</td>\n      <td>...</td>\n      <td>14.800000</td>\n      <td>134.950000</td>\n      <td>1010.400000</td>\n      <td>79.000000</td>\n      <td>17.800000</td>\n      <td>227.800000</td>\n      <td>19.650000</td>\n      <td>8.000000</td>\n      <td>10.000000</td>\n      <td>0.500000</td>\n    </tr>\n    <tr>\n      <th>75%</th>\n      <td>31.900000</td>\n      <td>25.400000</td>\n      <td>27.900000</td>\n      <td>39.200000</td>\n      <td>25.400000</td>\n      <td>31.100000</td>\n      <td>24.700000</td>\n      <td>85.100000</td>\n      <td>9.000000</td>\n      <td>20.830000</td>\n      <td>...</td>\n      <td>18.400000</td>\n      <td>260.725000</td>\n      <td>1011.525000</td>\n      <td>89.925000</td>\n      <td>18.800000</td>\n      <td>255.225000</td>\n      <td>22.000000</td>\n      <td>9.000000</td>\n      <td>30.000000</td>\n      <td>0.750000</td>\n    </tr>\n    <tr>\n      <th>max</th>\n      <td>35.500000</td>\n      <td>27.400000</td>\n      <td>30.100000</td>\n      <td>47.900000</td>\n      <td>31.200000</td>\n      <td>36.300000</td>\n      <td>26.400000</td>\n      <td>94.900000</td>\n      <td>356.800000</td>\n      <td>95.830000</td>\n      <td>...</td>\n      <td>44.600000</td>\n      <td>357.400000</td>\n      <td>1016.500000</td>\n      <td>100.000000</td>\n      <td>24.100000</td>\n      <td>354.900000</td>\n      <td>30.900000</td>\n      <td>10.000000</td>\n      <td>75.000000</td>\n      <td>0.980000</td>\n    </tr>\n  </tbody>\n</table>\n<p>8 rows × 23 columns</p>\n</div>"
          },
          "metadata": {}
        }
      ],
      "outputs_reference": null,
      "execution_count": 3,
      "block_group": "07a63265f26a4649936b7d31ff3cf7f1",
      "content_dependencies": null
    },
    {
      "cell_type": "code",
      "source": "data.info()",
      "metadata": {
        "source_hash": "957547ae",
        "execution_start": 1736057924963,
        "execution_millis": 0,
        "execution_context_id": "48890a1c-a873-4b77-b083-04ab46e8a1cd",
        "cell_id": "e9391942907642d581a2df445deaa672",
        "deepnote_cell_type": "code"
      },
      "outputs": [
        {
          "name": "stdout",
          "text": "<class 'pandas.core.frame.DataFrame'>\nRangeIndex: 996 entries, 0 to 995\nData columns (total 32 columns):\n #   Column            Non-Null Count  Dtype  \n---  ------            --------------  -----  \n 0   name              996 non-null    object \n 1   datetime          996 non-null    object \n 2   tempmax           996 non-null    float64\n 3   tempmin           996 non-null    float64\n 4   temp              996 non-null    float64\n 5   feelslikemax      996 non-null    float64\n 6   feelslikemin      996 non-null    float64\n 7   feelslike         996 non-null    float64\n 8   dew               996 non-null    float64\n 9   humidity          996 non-null    float64\n 10  precip            996 non-null    float64\n 11  precipprob        996 non-null    bool   \n 12  precipcover       996 non-null    float64\n 13  preciptype        996 non-null    object \n 14  snow              996 non-null    float64\n 15  snowdepth         996 non-null    float64\n 16  windgust          996 non-null    float64\n 17  windspeed         996 non-null    float64\n 18  winddir           996 non-null    float64\n 19  sealevelpressure  996 non-null    float64\n 20  cloudcover        996 non-null    float64\n 21  visibility        996 non-null    float64\n 22  solarradiation    996 non-null    float64\n 23  solarenergy       996 non-null    float64\n 24  uvindex           996 non-null    float64\n 25  severerisk        996 non-null    float64\n 26  sunrise           996 non-null    object \n 27  sunset            996 non-null    object \n 28  moonphase         996 non-null    float64\n 29  conditions        996 non-null    object \n 30  description       996 non-null    object \n 31  icon              996 non-null    object \ndtypes: bool(1), float64(23), object(8)\nmemory usage: 242.3+ KB\n",
          "output_type": "stream"
        }
      ],
      "outputs_reference": null,
      "execution_count": 4,
      "block_group": "3c66c4e0a6f84cac844109769add87e5",
      "content_dependencies": null
    },
    {
      "cell_type": "code",
      "source": "data",
      "metadata": {
        "source_hash": "ea190e66",
        "execution_start": 1736057925011,
        "execution_millis": 7,
        "deepnote_table_state": {
          "sortBy": [],
          "filters": [],
          "pageSize": 10,
          "pageIndex": 0,
          "columnOrder": [
            "name",
            "datetime",
            "tempmax",
            "tempmin",
            "temp",
            "feelslikemax",
            "feelslikemin",
            "feelslike",
            "dew",
            "humidity",
            "precip",
            "precipprob",
            "precipcover",
            "preciptype",
            "snow",
            "snowdepth",
            "windgust",
            "windspeed",
            "winddir",
            "sealevelpressure",
            "cloudcover",
            "visibility",
            "solarradiation",
            "solarenergy",
            "uvindex",
            "severerisk",
            "sunrise",
            "sunset",
            "moonphase",
            "conditions",
            "description",
            "icon"
          ],
          "hiddenColumnIds": [],
          "columnDisplayNames": [],
          "conditionalFilters": [],
          "cellFormattingRules": [],
          "wrappedTextColumnIds": []
        },
        "execution_context_id": "48890a1c-a873-4b77-b083-04ab46e8a1cd",
        "deepnote_table_loading": false,
        "cell_id": "d1fa76c60ee64882b6013c84fb0c5cec",
        "deepnote_cell_type": "code"
      },
      "outputs": [
        {
          "output_type": "execute_result",
          "execution_count": 5,
          "data": {
            "application/vnd.deepnote.dataframe.v3+json": {
              "column_count": 32,
              "row_count": 996,
              "columns": [
                {
                  "name": "name",
                  "dtype": "object",
                  "stats": {
                    "unique_count": 2,
                    "nan_count": 0,
                    "categories": [
                      {
                        "name": "Kebumen",
                        "count": 646
                      },
                      {
                        "name": "Kebumen, Indonesia",
                        "count": 350
                      }
                    ]
                  }
                },
                {
                  "name": "datetime",
                  "dtype": "object",
                  "stats": {
                    "unique_count": 996,
                    "nan_count": 0,
                    "categories": [
                      {
                        "name": "2022-01-10",
                        "count": 1
                      },
                      {
                        "name": "2022-01-11",
                        "count": 1
                      },
                      {
                        "name": "994 others",
                        "count": 994
                      }
                    ]
                  }
                },
                {
                  "name": "tempmax",
                  "dtype": "float64",
                  "stats": {
                    "unique_count": 77,
                    "nan_count": 0,
                    "min": "26.2",
                    "max": "35.5",
                    "histogram": [
                      {
                        "bin_start": 26.2,
                        "bin_end": 27.13,
                        "count": 4
                      },
                      {
                        "bin_start": 27.13,
                        "bin_end": 28.06,
                        "count": 27
                      },
                      {
                        "bin_start": 28.06,
                        "bin_end": 28.99,
                        "count": 83
                      },
                      {
                        "bin_start": 28.99,
                        "bin_end": 29.919999999999998,
                        "count": 174
                      },
                      {
                        "bin_start": 29.919999999999998,
                        "bin_end": 30.85,
                        "count": 194
                      },
                      {
                        "bin_start": 30.85,
                        "bin_end": 31.78,
                        "count": 256
                      },
                      {
                        "bin_start": 31.78,
                        "bin_end": 32.71,
                        "count": 193
                      },
                      {
                        "bin_start": 32.71,
                        "bin_end": 33.64,
                        "count": 46
                      },
                      {
                        "bin_start": 33.64,
                        "bin_end": 34.57,
                        "count": 13
                      },
                      {
                        "bin_start": 34.57,
                        "bin_end": 35.5,
                        "count": 6
                      }
                    ]
                  }
                },
                {
                  "name": "tempmin",
                  "dtype": "float64",
                  "stats": {
                    "unique_count": 65,
                    "nan_count": 0,
                    "min": "19.8",
                    "max": "27.4",
                    "histogram": [
                      {
                        "bin_start": 19.8,
                        "bin_end": 20.560000000000002,
                        "count": 3
                      },
                      {
                        "bin_start": 20.560000000000002,
                        "bin_end": 21.32,
                        "count": 5
                      },
                      {
                        "bin_start": 21.32,
                        "bin_end": 22.08,
                        "count": 23
                      },
                      {
                        "bin_start": 22.08,
                        "bin_end": 22.84,
                        "count": 42
                      },
                      {
                        "bin_start": 22.84,
                        "bin_end": 23.6,
                        "count": 91
                      },
                      {
                        "bin_start": 23.6,
                        "bin_end": 24.36,
                        "count": 244
                      },
                      {
                        "bin_start": 24.36,
                        "bin_end": 25.119999999999997,
                        "count": 274
                      },
                      {
                        "bin_start": 25.119999999999997,
                        "bin_end": 25.88,
                        "count": 192
                      },
                      {
                        "bin_start": 25.88,
                        "bin_end": 26.64,
                        "count": 96
                      },
                      {
                        "bin_start": 26.64,
                        "bin_end": 27.4,
                        "count": 26
                      }
                    ]
                  }
                },
                {
                  "name": "temp",
                  "dtype": "float64",
                  "stats": {
                    "unique_count": 55,
                    "nan_count": 0,
                    "min": "23.8",
                    "max": "30.1",
                    "histogram": [
                      {
                        "bin_start": 23.8,
                        "bin_end": 24.43,
                        "count": 5
                      },
                      {
                        "bin_start": 24.43,
                        "bin_end": 25.060000000000002,
                        "count": 17
                      },
                      {
                        "bin_start": 25.060000000000002,
                        "bin_end": 25.69,
                        "count": 66
                      },
                      {
                        "bin_start": 25.69,
                        "bin_end": 26.32,
                        "count": 168
                      },
                      {
                        "bin_start": 26.32,
                        "bin_end": 26.950000000000003,
                        "count": 172
                      },
                      {
                        "bin_start": 26.950000000000003,
                        "bin_end": 27.580000000000002,
                        "count": 196
                      },
                      {
                        "bin_start": 27.580000000000002,
                        "bin_end": 28.21,
                        "count": 220
                      },
                      {
                        "bin_start": 28.21,
                        "bin_end": 28.840000000000003,
                        "count": 110
                      },
                      {
                        "bin_start": 28.840000000000003,
                        "bin_end": 29.470000000000002,
                        "count": 38
                      },
                      {
                        "bin_start": 29.470000000000002,
                        "bin_end": 30.1,
                        "count": 4
                      }
                    ]
                  }
                },
                {
                  "name": "feelslikemax",
                  "dtype": "float64",
                  "stats": {
                    "unique_count": 143,
                    "nan_count": 0,
                    "min": "26.2",
                    "max": "47.9",
                    "histogram": [
                      {
                        "bin_start": 26.2,
                        "bin_end": 28.369999999999997,
                        "count": 2
                      },
                      {
                        "bin_start": 28.369999999999997,
                        "bin_end": 30.54,
                        "count": 14
                      },
                      {
                        "bin_start": 30.54,
                        "bin_end": 32.71,
                        "count": 78
                      },
                      {
                        "bin_start": 32.71,
                        "bin_end": 34.879999999999995,
                        "count": 155
                      },
                      {
                        "bin_start": 34.879999999999995,
                        "bin_end": 37.05,
                        "count": 199
                      },
                      {
                        "bin_start": 37.05,
                        "bin_end": 39.22,
                        "count": 303
                      },
                      {
                        "bin_start": 39.22,
                        "bin_end": 41.39,
                        "count": 177
                      },
                      {
                        "bin_start": 41.39,
                        "bin_end": 43.56,
                        "count": 58
                      },
                      {
                        "bin_start": 43.56,
                        "bin_end": 45.730000000000004,
                        "count": 9
                      },
                      {
                        "bin_start": 45.730000000000004,
                        "bin_end": 47.9,
                        "count": 1
                      }
                    ]
                  }
                },
                {
                  "name": "feelslikemin",
                  "dtype": "float64",
                  "stats": {
                    "unique_count": 72,
                    "nan_count": 0,
                    "min": "19.8",
                    "max": "31.2",
                    "histogram": [
                      {
                        "bin_start": 19.8,
                        "bin_end": 20.94,
                        "count": 4
                      },
                      {
                        "bin_start": 20.94,
                        "bin_end": 22.080000000000002,
                        "count": 27
                      },
                      {
                        "bin_start": 22.080000000000002,
                        "bin_end": 23.22,
                        "count": 85
                      },
                      {
                        "bin_start": 23.22,
                        "bin_end": 24.36,
                        "count": 292
                      },
                      {
                        "bin_start": 24.36,
                        "bin_end": 25.5,
                        "count": 379
                      },
                      {
                        "bin_start": 25.5,
                        "bin_end": 26.64,
                        "count": 183
                      },
                      {
                        "bin_start": 26.64,
                        "bin_end": 27.78,
                        "count": 9
                      },
                      {
                        "bin_start": 27.78,
                        "bin_end": 28.92,
                        "count": 0
                      },
                      {
                        "bin_start": 28.92,
                        "bin_end": 30.060000000000002,
                        "count": 3
                      },
                      {
                        "bin_start": 30.060000000000002,
                        "bin_end": 31.2,
                        "count": 14
                      }
                    ]
                  }
                },
                {
                  "name": "feelslike",
                  "dtype": "float64",
                  "stats": {
                    "unique_count": 105,
                    "nan_count": 0,
                    "min": "24.1",
                    "max": "36.3",
                    "histogram": [
                      {
                        "bin_start": 24.1,
                        "bin_end": 25.32,
                        "count": 17
                      },
                      {
                        "bin_start": 25.32,
                        "bin_end": 26.54,
                        "count": 71
                      },
                      {
                        "bin_start": 26.54,
                        "bin_end": 27.759999999999998,
                        "count": 166
                      },
                      {
                        "bin_start": 27.759999999999998,
                        "bin_end": 28.98,
                        "count": 191
                      },
                      {
                        "bin_start": 28.98,
                        "bin_end": 30.2,
                        "count": 154
                      },
                      {
                        "bin_start": 30.2,
                        "bin_end": 31.419999999999998,
                        "count": 180
                      },
                      {
                        "bin_start": 31.419999999999998,
                        "bin_end": 32.64,
                        "count": 96
                      },
                      {
                        "bin_start": 32.64,
                        "bin_end": 33.86,
                        "count": 79
                      },
                      {
                        "bin_start": 33.86,
                        "bin_end": 35.08,
                        "count": 38
                      },
                      {
                        "bin_start": 35.08,
                        "bin_end": 36.3,
                        "count": 4
                      }
                    ]
                  }
                },
                {
                  "name": "dew",
                  "dtype": "float64",
                  "stats": {
                    "unique_count": 62,
                    "nan_count": 0,
                    "min": "18.8",
                    "max": "26.4",
                    "histogram": [
                      {
                        "bin_start": 18.8,
                        "bin_end": 19.560000000000002,
                        "count": 1
                      },
                      {
                        "bin_start": 19.560000000000002,
                        "bin_end": 20.32,
                        "count": 2
                      },
                      {
                        "bin_start": 20.32,
                        "bin_end": 21.08,
                        "count": 10
                      },
                      {
                        "bin_start": 21.08,
                        "bin_end": 21.84,
                        "count": 32
                      },
                      {
                        "bin_start": 21.84,
                        "bin_end": 22.6,
                        "count": 55
                      },
                      {
                        "bin_start": 22.6,
                        "bin_end": 23.36,
                        "count": 219
                      },
                      {
                        "bin_start": 23.36,
                        "bin_end": 24.119999999999997,
                        "count": 245
                      },
                      {
                        "bin_start": 24.119999999999997,
                        "bin_end": 24.88,
                        "count": 225
                      },
                      {
                        "bin_start": 24.88,
                        "bin_end": 25.64,
                        "count": 178
                      },
                      {
                        "bin_start": 25.64,
                        "bin_end": 26.4,
                        "count": 29
                      }
                    ]
                  }
                },
                {
                  "name": "humidity",
                  "dtype": "float64",
                  "stats": {
                    "unique_count": 159,
                    "nan_count": 0,
                    "min": "67.5",
                    "max": "94.9",
                    "histogram": [
                      {
                        "bin_start": 67.5,
                        "bin_end": 70.24,
                        "count": 2
                      },
                      {
                        "bin_start": 70.24,
                        "bin_end": 72.98,
                        "count": 3
                      },
                      {
                        "bin_start": 72.98,
                        "bin_end": 75.72,
                        "count": 11
                      },
                      {
                        "bin_start": 75.72,
                        "bin_end": 78.46000000000001,
                        "count": 63
                      },
                      {
                        "bin_start": 78.46000000000001,
                        "bin_end": 81.2,
                        "count": 167
                      },
                      {
                        "bin_start": 81.2,
                        "bin_end": 83.94,
                        "count": 348
                      },
                      {
                        "bin_start": 83.94,
                        "bin_end": 86.68,
                        "count": 301
                      },
                      {
                        "bin_start": 86.68,
                        "bin_end": 89.42,
                        "count": 91
                      },
                      {
                        "bin_start": 89.42,
                        "bin_end": 92.16000000000001,
                        "count": 9
                      },
                      {
                        "bin_start": 92.16000000000001,
                        "bin_end": 94.9,
                        "count": 1
                      }
                    ]
                  }
                },
                {
                  "name": "precip",
                  "dtype": "float64",
                  "stats": {
                    "unique_count": 236,
                    "nan_count": 0,
                    "min": "0.0",
                    "max": "356.8",
                    "histogram": [
                      {
                        "bin_start": 0,
                        "bin_end": 35.68,
                        "count": 924
                      },
                      {
                        "bin_start": 35.68,
                        "bin_end": 71.36,
                        "count": 42
                      },
                      {
                        "bin_start": 71.36,
                        "bin_end": 107.03999999999999,
                        "count": 22
                      },
                      {
                        "bin_start": 107.03999999999999,
                        "bin_end": 142.72,
                        "count": 4
                      },
                      {
                        "bin_start": 142.72,
                        "bin_end": 178.4,
                        "count": 2
                      },
                      {
                        "bin_start": 178.4,
                        "bin_end": 214.07999999999998,
                        "count": 0
                      },
                      {
                        "bin_start": 214.07999999999998,
                        "bin_end": 249.76,
                        "count": 1
                      },
                      {
                        "bin_start": 249.76,
                        "bin_end": 285.44,
                        "count": 0
                      },
                      {
                        "bin_start": 285.44,
                        "bin_end": 321.12,
                        "count": 0
                      },
                      {
                        "bin_start": 321.12,
                        "bin_end": 356.8,
                        "count": 1
                      }
                    ]
                  }
                },
                {
                  "name": "precipprob",
                  "dtype": "bool",
                  "stats": {
                    "unique_count": 2,
                    "nan_count": 0,
                    "categories": [
                      {
                        "name": "True",
                        "count": 926
                      },
                      {
                        "name": "False",
                        "count": 70
                      }
                    ]
                  }
                },
                {
                  "name": "precipcover",
                  "dtype": "float64",
                  "stats": {
                    "unique_count": 20,
                    "nan_count": 0,
                    "min": "0.0",
                    "max": "95.83",
                    "histogram": [
                      {
                        "bin_start": 0,
                        "bin_end": 9.583,
                        "count": 533
                      },
                      {
                        "bin_start": 9.583,
                        "bin_end": 19.166,
                        "count": 213
                      },
                      {
                        "bin_start": 19.166,
                        "bin_end": 28.749000000000002,
                        "count": 99
                      },
                      {
                        "bin_start": 28.749000000000002,
                        "bin_end": 38.332,
                        "count": 76
                      },
                      {
                        "bin_start": 38.332,
                        "bin_end": 47.915,
                        "count": 32
                      },
                      {
                        "bin_start": 47.915,
                        "bin_end": 57.498000000000005,
                        "count": 18
                      },
                      {
                        "bin_start": 57.498000000000005,
                        "bin_end": 67.081,
                        "count": 20
                      },
                      {
                        "bin_start": 67.081,
                        "bin_end": 76.664,
                        "count": 4
                      },
                      {
                        "bin_start": 76.664,
                        "bin_end": 86.247,
                        "count": 0
                      },
                      {
                        "bin_start": 86.247,
                        "bin_end": 95.83,
                        "count": 1
                      }
                    ]
                  }
                },
                {
                  "name": "preciptype",
                  "dtype": "object",
                  "stats": {
                    "unique_count": 1,
                    "nan_count": 0,
                    "categories": [
                      {
                        "name": "rain",
                        "count": 996
                      }
                    ]
                  }
                },
                {
                  "name": "snow",
                  "dtype": "float64",
                  "stats": {
                    "unique_count": 1,
                    "nan_count": 0,
                    "min": "0.0",
                    "max": "0.0",
                    "histogram": [
                      {
                        "bin_start": -0.5,
                        "bin_end": -0.4,
                        "count": 0
                      },
                      {
                        "bin_start": -0.4,
                        "bin_end": -0.3,
                        "count": 0
                      },
                      {
                        "bin_start": -0.3,
                        "bin_end": -0.19999999999999996,
                        "count": 0
                      },
                      {
                        "bin_start": -0.19999999999999996,
                        "bin_end": -0.09999999999999998,
                        "count": 0
                      },
                      {
                        "bin_start": -0.09999999999999998,
                        "bin_end": 0,
                        "count": 0
                      },
                      {
                        "bin_start": 0,
                        "bin_end": 0.10000000000000009,
                        "count": 996
                      },
                      {
                        "bin_start": 0.10000000000000009,
                        "bin_end": 0.20000000000000007,
                        "count": 0
                      },
                      {
                        "bin_start": 0.20000000000000007,
                        "bin_end": 0.30000000000000004,
                        "count": 0
                      },
                      {
                        "bin_start": 0.30000000000000004,
                        "bin_end": 0.4,
                        "count": 0
                      },
                      {
                        "bin_start": 0.4,
                        "bin_end": 0.5,
                        "count": 0
                      }
                    ]
                  }
                },
                {
                  "name": "snowdepth",
                  "dtype": "float64",
                  "stats": {
                    "unique_count": 1,
                    "nan_count": 0,
                    "min": "0.0",
                    "max": "0.0",
                    "histogram": [
                      {
                        "bin_start": -0.5,
                        "bin_end": -0.4,
                        "count": 0
                      },
                      {
                        "bin_start": -0.4,
                        "bin_end": -0.3,
                        "count": 0
                      },
                      {
                        "bin_start": -0.3,
                        "bin_end": -0.19999999999999996,
                        "count": 0
                      },
                      {
                        "bin_start": -0.19999999999999996,
                        "bin_end": -0.09999999999999998,
                        "count": 0
                      },
                      {
                        "bin_start": -0.09999999999999998,
                        "bin_end": 0,
                        "count": 0
                      },
                      {
                        "bin_start": 0,
                        "bin_end": 0.10000000000000009,
                        "count": 996
                      },
                      {
                        "bin_start": 0.10000000000000009,
                        "bin_end": 0.20000000000000007,
                        "count": 0
                      },
                      {
                        "bin_start": 0.20000000000000007,
                        "bin_end": 0.30000000000000004,
                        "count": 0
                      },
                      {
                        "bin_start": 0.30000000000000004,
                        "bin_end": 0.4,
                        "count": 0
                      },
                      {
                        "bin_start": 0.4,
                        "bin_end": 0.5,
                        "count": 0
                      }
                    ]
                  }
                },
                {
                  "name": "windgust",
                  "dtype": "float64",
                  "stats": {
                    "unique_count": 110,
                    "nan_count": 0,
                    "min": "7.9",
                    "max": "56.2",
                    "histogram": [
                      {
                        "bin_start": 7.9,
                        "bin_end": 12.73,
                        "count": 57
                      },
                      {
                        "bin_start": 12.73,
                        "bin_end": 17.560000000000002,
                        "count": 111
                      },
                      {
                        "bin_start": 17.560000000000002,
                        "bin_end": 22.39,
                        "count": 181
                      },
                      {
                        "bin_start": 22.39,
                        "bin_end": 27.22,
                        "count": 215
                      },
                      {
                        "bin_start": 27.22,
                        "bin_end": 32.05,
                        "count": 188
                      },
                      {
                        "bin_start": 32.05,
                        "bin_end": 36.88,
                        "count": 140
                      },
                      {
                        "bin_start": 36.88,
                        "bin_end": 41.71,
                        "count": 72
                      },
                      {
                        "bin_start": 41.71,
                        "bin_end": 46.54,
                        "count": 27
                      },
                      {
                        "bin_start": 46.54,
                        "bin_end": 51.37,
                        "count": 4
                      },
                      {
                        "bin_start": 51.37,
                        "bin_end": 56.2,
                        "count": 1
                      }
                    ]
                  }
                },
                {
                  "name": "windspeed",
                  "dtype": "float64",
                  "stats": {
                    "unique_count": 67,
                    "nan_count": 0,
                    "min": "5.4",
                    "max": "44.6",
                    "histogram": [
                      {
                        "bin_start": 5.4,
                        "bin_end": 9.32,
                        "count": 27
                      },
                      {
                        "bin_start": 9.32,
                        "bin_end": 13.240000000000002,
                        "count": 316
                      },
                      {
                        "bin_start": 13.240000000000002,
                        "bin_end": 17.160000000000004,
                        "count": 324
                      },
                      {
                        "bin_start": 17.160000000000004,
                        "bin_end": 21.080000000000002,
                        "count": 205
                      },
                      {
                        "bin_start": 21.080000000000002,
                        "bin_end": 25,
                        "count": 82
                      },
                      {
                        "bin_start": 25,
                        "bin_end": 28.92,
                        "count": 32
                      },
                      {
                        "bin_start": 28.92,
                        "bin_end": 32.84,
                        "count": 5
                      },
                      {
                        "bin_start": 32.84,
                        "bin_end": 36.760000000000005,
                        "count": 1
                      },
                      {
                        "bin_start": 36.760000000000005,
                        "bin_end": 40.68,
                        "count": 3
                      },
                      {
                        "bin_start": 40.68,
                        "bin_end": 44.6,
                        "count": 1
                      }
                    ]
                  }
                },
                {
                  "name": "winddir",
                  "dtype": "float64",
                  "stats": {
                    "unique_count": 629,
                    "nan_count": 0,
                    "min": "6.9",
                    "max": "357.4",
                    "histogram": [
                      {
                        "bin_start": 6.9,
                        "bin_end": 41.949999999999996,
                        "count": 4
                      },
                      {
                        "bin_start": 41.949999999999996,
                        "bin_end": 77,
                        "count": 4
                      },
                      {
                        "bin_start": 77,
                        "bin_end": 112.05,
                        "count": 47
                      },
                      {
                        "bin_start": 112.05,
                        "bin_end": 147.1,
                        "count": 524
                      },
                      {
                        "bin_start": 147.1,
                        "bin_end": 182.15,
                        "count": 67
                      },
                      {
                        "bin_start": 182.15,
                        "bin_end": 217.2,
                        "count": 28
                      },
                      {
                        "bin_start": 217.2,
                        "bin_end": 252.24999999999997,
                        "count": 52
                      },
                      {
                        "bin_start": 252.24999999999997,
                        "bin_end": 287.29999999999995,
                        "count": 183
                      },
                      {
                        "bin_start": 287.29999999999995,
                        "bin_end": 322.34999999999997,
                        "count": 79
                      },
                      {
                        "bin_start": 322.34999999999997,
                        "bin_end": 357.4,
                        "count": 8
                      }
                    ]
                  }
                },
                {
                  "name": "sealevelpressure",
                  "dtype": "float64",
                  "stats": {
                    "unique_count": 86,
                    "nan_count": 0,
                    "min": "1005.8",
                    "max": "1016.5",
                    "histogram": [
                      {
                        "bin_start": 1005.8,
                        "bin_end": 1006.87,
                        "count": 16
                      },
                      {
                        "bin_start": 1006.87,
                        "bin_end": 1007.9399999999999,
                        "count": 63
                      },
                      {
                        "bin_start": 1007.9399999999999,
                        "bin_end": 1009.01,
                        "count": 150
                      },
                      {
                        "bin_start": 1009.01,
                        "bin_end": 1010.0799999999999,
                        "count": 184
                      },
                      {
                        "bin_start": 1010.0799999999999,
                        "bin_end": 1011.15,
                        "count": 236
                      },
                      {
                        "bin_start": 1011.15,
                        "bin_end": 1012.22,
                        "count": 185
                      },
                      {
                        "bin_start": 1012.22,
                        "bin_end": 1013.29,
                        "count": 111
                      },
                      {
                        "bin_start": 1013.29,
                        "bin_end": 1014.36,
                        "count": 46
                      },
                      {
                        "bin_start": 1014.36,
                        "bin_end": 1015.43,
                        "count": 4
                      },
                      {
                        "bin_start": 1015.43,
                        "bin_end": 1016.5,
                        "count": 1
                      }
                    ]
                  }
                },
                {
                  "name": "cloudcover",
                  "dtype": "float64",
                  "stats": {
                    "unique_count": 483,
                    "nan_count": 0,
                    "min": "23.7",
                    "max": "100.0",
                    "histogram": [
                      {
                        "bin_start": 23.7,
                        "bin_end": 31.33,
                        "count": 10
                      },
                      {
                        "bin_start": 31.33,
                        "bin_end": 38.96,
                        "count": 21
                      },
                      {
                        "bin_start": 38.96,
                        "bin_end": 46.59,
                        "count": 48
                      },
                      {
                        "bin_start": 46.59,
                        "bin_end": 54.22,
                        "count": 63
                      },
                      {
                        "bin_start": 54.22,
                        "bin_end": 61.849999999999994,
                        "count": 95
                      },
                      {
                        "bin_start": 61.849999999999994,
                        "bin_end": 69.48,
                        "count": 93
                      },
                      {
                        "bin_start": 69.48,
                        "bin_end": 77.11,
                        "count": 133
                      },
                      {
                        "bin_start": 77.11,
                        "bin_end": 84.74,
                        "count": 148
                      },
                      {
                        "bin_start": 84.74,
                        "bin_end": 92.37,
                        "count": 194
                      },
                      {
                        "bin_start": 92.37,
                        "bin_end": 100,
                        "count": 191
                      }
                    ]
                  }
                },
                {
                  "name": "visibility",
                  "dtype": "float64",
                  "stats": {
                    "unique_count": 131,
                    "nan_count": 0,
                    "min": "5.9",
                    "max": "24.1",
                    "histogram": [
                      {
                        "bin_start": 5.9,
                        "bin_end": 7.720000000000001,
                        "count": 7
                      },
                      {
                        "bin_start": 7.720000000000001,
                        "bin_end": 9.540000000000001,
                        "count": 61
                      },
                      {
                        "bin_start": 9.540000000000001,
                        "bin_end": 11.360000000000001,
                        "count": 20
                      },
                      {
                        "bin_start": 11.360000000000001,
                        "bin_end": 13.180000000000001,
                        "count": 27
                      },
                      {
                        "bin_start": 13.180000000000001,
                        "bin_end": 15.000000000000002,
                        "count": 67
                      },
                      {
                        "bin_start": 15.000000000000002,
                        "bin_end": 16.82,
                        "count": 164
                      },
                      {
                        "bin_start": 16.82,
                        "bin_end": 18.64,
                        "count": 333
                      },
                      {
                        "bin_start": 18.64,
                        "bin_end": 20.46,
                        "count": 303
                      },
                      {
                        "bin_start": 20.46,
                        "bin_end": 22.28,
                        "count": 5
                      },
                      {
                        "bin_start": 22.28,
                        "bin_end": 24.1,
                        "count": 9
                      }
                    ]
                  }
                },
                {
                  "name": "solarradiation",
                  "dtype": "float64",
                  "stats": {
                    "unique_count": 750,
                    "nan_count": 0,
                    "min": "10.0",
                    "max": "354.9",
                    "histogram": [
                      {
                        "bin_start": 10,
                        "bin_end": 44.489999999999995,
                        "count": 4
                      },
                      {
                        "bin_start": 44.489999999999995,
                        "bin_end": 78.97999999999999,
                        "count": 9
                      },
                      {
                        "bin_start": 78.97999999999999,
                        "bin_end": 113.46999999999998,
                        "count": 23
                      },
                      {
                        "bin_start": 113.46999999999998,
                        "bin_end": 147.95999999999998,
                        "count": 35
                      },
                      {
                        "bin_start": 147.95999999999998,
                        "bin_end": 182.45,
                        "count": 101
                      },
                      {
                        "bin_start": 182.45,
                        "bin_end": 216.93999999999997,
                        "count": 238
                      },
                      {
                        "bin_start": 216.93999999999997,
                        "bin_end": 251.42999999999995,
                        "count": 307
                      },
                      {
                        "bin_start": 251.42999999999995,
                        "bin_end": 285.91999999999996,
                        "count": 194
                      },
                      {
                        "bin_start": 285.91999999999996,
                        "bin_end": 320.40999999999997,
                        "count": 82
                      },
                      {
                        "bin_start": 320.40999999999997,
                        "bin_end": 354.9,
                        "count": 3
                      }
                    ]
                  }
                },
                {
                  "name": "solarenergy",
                  "dtype": "float64",
                  "stats": {
                    "unique_count": 195,
                    "nan_count": 0,
                    "min": "1.0",
                    "max": "30.9",
                    "histogram": [
                      {
                        "bin_start": 1,
                        "bin_end": 3.9899999999999998,
                        "count": 4
                      },
                      {
                        "bin_start": 3.9899999999999998,
                        "bin_end": 6.9799999999999995,
                        "count": 10
                      },
                      {
                        "bin_start": 6.9799999999999995,
                        "bin_end": 9.969999999999999,
                        "count": 22
                      },
                      {
                        "bin_start": 9.969999999999999,
                        "bin_end": 12.959999999999999,
                        "count": 38
                      },
                      {
                        "bin_start": 12.959999999999999,
                        "bin_end": 15.95,
                        "count": 111
                      },
                      {
                        "bin_start": 15.95,
                        "bin_end": 18.939999999999998,
                        "count": 243
                      },
                      {
                        "bin_start": 18.939999999999998,
                        "bin_end": 21.93,
                        "count": 312
                      },
                      {
                        "bin_start": 21.93,
                        "bin_end": 24.919999999999998,
                        "count": 185
                      },
                      {
                        "bin_start": 24.919999999999998,
                        "bin_end": 27.909999999999997,
                        "count": 69
                      },
                      {
                        "bin_start": 27.909999999999997,
                        "bin_end": 30.9,
                        "count": 2
                      }
                    ]
                  }
                },
                {
                  "name": "uvindex",
                  "dtype": "float64",
                  "stats": {
                    "unique_count": 10,
                    "nan_count": 0,
                    "min": "1.0",
                    "max": "10.0",
                    "histogram": [
                      {
                        "bin_start": 1,
                        "bin_end": 1.9,
                        "count": 1
                      },
                      {
                        "bin_start": 1.9,
                        "bin_end": 2.8,
                        "count": 3
                      },
                      {
                        "bin_start": 2.8,
                        "bin_end": 3.7,
                        "count": 7
                      },
                      {
                        "bin_start": 3.7,
                        "bin_end": 4.6,
                        "count": 12
                      },
                      {
                        "bin_start": 4.6,
                        "bin_end": 5.5,
                        "count": 26
                      },
                      {
                        "bin_start": 5.5,
                        "bin_end": 6.4,
                        "count": 69
                      },
                      {
                        "bin_start": 6.4,
                        "bin_end": 7.3,
                        "count": 187
                      },
                      {
                        "bin_start": 7.3,
                        "bin_end": 8.2,
                        "count": 303
                      },
                      {
                        "bin_start": 8.2,
                        "bin_end": 9.1,
                        "count": 278
                      },
                      {
                        "bin_start": 9.1,
                        "bin_end": 10,
                        "count": 110
                      }
                    ]
                  }
                },
                {
                  "name": "severerisk",
                  "dtype": "float64",
                  "stats": {
                    "unique_count": 4,
                    "nan_count": 0,
                    "min": "10.0",
                    "max": "75.0",
                    "histogram": [
                      {
                        "bin_start": 10,
                        "bin_end": 16.5,
                        "count": 509
                      },
                      {
                        "bin_start": 16.5,
                        "bin_end": 23,
                        "count": 0
                      },
                      {
                        "bin_start": 23,
                        "bin_end": 29.5,
                        "count": 0
                      },
                      {
                        "bin_start": 29.5,
                        "bin_end": 36,
                        "count": 460
                      },
                      {
                        "bin_start": 36,
                        "bin_end": 42.5,
                        "count": 0
                      },
                      {
                        "bin_start": 42.5,
                        "bin_end": 49,
                        "count": 0
                      },
                      {
                        "bin_start": 49,
                        "bin_end": 55.5,
                        "count": 0
                      },
                      {
                        "bin_start": 55.5,
                        "bin_end": 62,
                        "count": 25
                      },
                      {
                        "bin_start": 62,
                        "bin_end": 68.5,
                        "count": 0
                      },
                      {
                        "bin_start": 68.5,
                        "bin_end": 75,
                        "count": 2
                      }
                    ]
                  }
                },
                {
                  "name": "sunrise",
                  "dtype": "object",
                  "stats": {
                    "unique_count": 996,
                    "nan_count": 0,
                    "categories": [
                      {
                        "name": "1641792752",
                        "count": 1
                      },
                      {
                        "name": "1641879182",
                        "count": 1
                      },
                      {
                        "name": "994 others",
                        "count": 994
                      }
                    ]
                  }
                },
                {
                  "name": "sunset",
                  "dtype": "object",
                  "stats": {
                    "unique_count": 996,
                    "nan_count": 0,
                    "categories": [
                      {
                        "name": "1641837887",
                        "count": 1
                      },
                      {
                        "name": "1641924305",
                        "count": 1
                      },
                      {
                        "name": "994 others",
                        "count": 994
                      }
                    ]
                  }
                },
                {
                  "name": "moonphase",
                  "dtype": "float64",
                  "stats": {
                    "unique_count": 96,
                    "nan_count": 0,
                    "min": "0.0",
                    "max": "0.98",
                    "histogram": [
                      {
                        "bin_start": 0,
                        "bin_end": 0.098,
                        "count": 110
                      },
                      {
                        "bin_start": 0.098,
                        "bin_end": 0.196,
                        "count": 100
                      },
                      {
                        "bin_start": 0.196,
                        "bin_end": 0.29400000000000004,
                        "count": 92
                      },
                      {
                        "bin_start": 0.29400000000000004,
                        "bin_end": 0.392,
                        "count": 98
                      },
                      {
                        "bin_start": 0.392,
                        "bin_end": 0.49,
                        "count": 92
                      },
                      {
                        "bin_start": 0.49,
                        "bin_end": 0.5880000000000001,
                        "count": 103
                      },
                      {
                        "bin_start": 0.5880000000000001,
                        "bin_end": 0.686,
                        "count": 102
                      },
                      {
                        "bin_start": 0.686,
                        "bin_end": 0.784,
                        "count": 101
                      },
                      {
                        "bin_start": 0.784,
                        "bin_end": 0.882,
                        "count": 101
                      },
                      {
                        "bin_start": 0.882,
                        "bin_end": 0.98,
                        "count": 97
                      }
                    ]
                  }
                },
                {
                  "name": "conditions",
                  "dtype": "object",
                  "stats": {
                    "unique_count": 3,
                    "nan_count": 0,
                    "categories": [
                      {
                        "name": "Rain, Partially cloudy",
                        "count": 681
                      },
                      {
                        "name": "Rain, Overcast",
                        "count": 245
                      },
                      {
                        "name": "Partially cloudy",
                        "count": 70
                      }
                    ]
                  }
                },
                {
                  "name": "description",
                  "dtype": "object",
                  "stats": {
                    "unique_count": 28,
                    "nan_count": 0,
                    "categories": [
                      {
                        "name": "Partly cloudy throughout the day with rain.",
                        "count": 184
                      },
                      {
                        "name": "Partly cloudy throughout the day with early morning rain.",
                        "count": 112
                      },
                      {
                        "name": "26 others",
                        "count": 700
                      }
                    ]
                  }
                },
                {
                  "name": "icon",
                  "dtype": "object",
                  "stats": {
                    "unique_count": 2,
                    "nan_count": 0,
                    "categories": [
                      {
                        "name": "rain",
                        "count": 926
                      },
                      {
                        "name": "partly-cloudy-day",
                        "count": 70
                      }
                    ]
                  }
                },
                {
                  "name": "_deepnote_index_column",
                  "dtype": "int64"
                }
              ],
              "rows": [
                {
                  "name": "Kebumen, Indonesia",
                  "datetime": "2022-01-10",
                  "tempmax": 30.7,
                  "tempmin": 25.2,
                  "temp": 27.7,
                  "feelslikemax": 36.6,
                  "feelslikemin": 25.2,
                  "feelslike": 31,
                  "dew": 24.2,
                  "humidity": 81.2,
                  "precip": 17,
                  "precipprob": "True",
                  "precipcover": 12.5,
                  "preciptype": "rain",
                  "snow": 0,
                  "snowdepth": 0,
                  "windgust": 11.5,
                  "windspeed": 17.3,
                  "winddir": 234.8,
                  "sealevelpressure": 1009.7,
                  "cloudcover": 83.4,
                  "visibility": 12,
                  "solarradiation": 249.9,
                  "solarenergy": 21.8,
                  "uvindex": 9,
                  "severerisk": 30,
                  "sunrise": "1641792752",
                  "sunset": "1641837887",
                  "moonphase": 0.25,
                  "conditions": "Rain, Partially cloudy",
                  "description": "Partly cloudy throughout the day with rain.",
                  "icon": "rain",
                  "_deepnote_index_column": 0
                },
                {
                  "name": "Kebumen, Indonesia",
                  "datetime": "2022-01-11",
                  "tempmax": 32.2,
                  "tempmin": 23.7,
                  "temp": 26.6,
                  "feelslikemax": 40.2,
                  "feelslikemin": 23.7,
                  "feelslike": 28.2,
                  "dew": 23.3,
                  "humidity": 82.4,
                  "precip": 37.7,
                  "precipprob": "True",
                  "precipcover": 16.67,
                  "preciptype": "rain",
                  "snow": 0,
                  "snowdepth": 0,
                  "windgust": 29.2,
                  "windspeed": 22,
                  "winddir": 289.5,
                  "sealevelpressure": 1010.3,
                  "cloudcover": 92.8,
                  "visibility": 14,
                  "solarradiation": 214,
                  "solarenergy": 18.4,
                  "uvindex": 7,
                  "severerisk": 30,
                  "sunrise": "1641879182",
                  "sunset": "1641924305",
                  "moonphase": 0.28,
                  "conditions": "Rain, Overcast",
                  "description": "Cloudy skies throughout the day with rain.",
                  "icon": "rain",
                  "_deepnote_index_column": 1
                },
                {
                  "name": "Kebumen, Indonesia",
                  "datetime": "2022-01-12",
                  "tempmax": 29.9,
                  "tempmin": 23.8,
                  "temp": 26.2,
                  "feelslikemax": 35.6,
                  "feelslikemin": 23.8,
                  "feelslike": 27.4,
                  "dew": 22.8,
                  "humidity": 82.5,
                  "precip": 6.5,
                  "precipprob": "True",
                  "precipcover": 8.33,
                  "preciptype": "rain",
                  "snow": 0,
                  "snowdepth": 0,
                  "windgust": 24.5,
                  "windspeed": 19.4,
                  "winddir": 274.5,
                  "sealevelpressure": 1010.1,
                  "cloudcover": 89.4,
                  "visibility": 15.4,
                  "solarradiation": 247.1,
                  "solarenergy": 21.6,
                  "uvindex": 7,
                  "severerisk": 30,
                  "sunrise": "1641965612",
                  "sunset": "1642010722",
                  "moonphase": 0.31,
                  "conditions": "Rain, Partially cloudy",
                  "description": "Partly cloudy throughout the day with late afternoon rain.",
                  "icon": "rain",
                  "_deepnote_index_column": 2
                },
                {
                  "name": "Kebumen, Indonesia",
                  "datetime": "2022-01-13",
                  "tempmax": 30.3,
                  "tempmin": 23.8,
                  "temp": 25.9,
                  "feelslikemax": 35.3,
                  "feelslikemin": 23.8,
                  "feelslike": 27,
                  "dew": 23.1,
                  "humidity": 85.1,
                  "precip": 38.2,
                  "precipprob": "True",
                  "precipcover": 12.5,
                  "preciptype": "rain",
                  "snow": 0,
                  "snowdepth": 0,
                  "windgust": 19.8,
                  "windspeed": 14,
                  "winddir": 302.6,
                  "sealevelpressure": 1010.5,
                  "cloudcover": 94.5,
                  "visibility": 14.6,
                  "solarradiation": 183.7,
                  "solarenergy": 15.8,
                  "uvindex": 7,
                  "severerisk": 30,
                  "sunrise": "1642052041",
                  "sunset": "1642097139",
                  "moonphase": 0.34,
                  "conditions": "Rain, Overcast",
                  "description": "Cloudy skies throughout the day with rain.",
                  "icon": "rain",
                  "_deepnote_index_column": 3
                },
                {
                  "name": "Kebumen, Indonesia",
                  "datetime": "2022-01-14",
                  "tempmax": 32.2,
                  "tempmin": 24.4,
                  "temp": 26.6,
                  "feelslikemax": 38.6,
                  "feelslikemin": 24.4,
                  "feelslike": 28.1,
                  "dew": 22.8,
                  "humidity": 80.3,
                  "precip": 0.4,
                  "precipprob": "True",
                  "precipcover": 4.17,
                  "preciptype": "rain",
                  "snow": 0,
                  "snowdepth": 0,
                  "windgust": 23,
                  "windspeed": 18.4,
                  "winddir": 278.9,
                  "sealevelpressure": 1009.8,
                  "cloudcover": 88.8,
                  "visibility": 18.4,
                  "solarradiation": 156.5,
                  "solarenergy": 13.8,
                  "uvindex": 7,
                  "severerisk": 30,
                  "sunrise": "1642138470",
                  "sunset": "1642183554",
                  "moonphase": 0.38,
                  "conditions": "Rain, Partially cloudy",
                  "description": "Partly cloudy throughout the day with early morning rain.",
                  "icon": "rain",
                  "_deepnote_index_column": 4
                },
                {
                  "name": "Kebumen, Indonesia",
                  "datetime": "2022-01-15",
                  "tempmax": 31.1,
                  "tempmin": 24.1,
                  "temp": 27,
                  "feelslikemax": 38.3,
                  "feelslikemin": 24.1,
                  "feelslike": 28.8,
                  "dew": 23.1,
                  "humidity": 80,
                  "precip": 5.3,
                  "precipprob": "True",
                  "precipcover": 41.67,
                  "preciptype": "rain",
                  "snow": 0,
                  "snowdepth": 0,
                  "windgust": 22,
                  "windspeed": 19.1,
                  "winddir": 277.6,
                  "sealevelpressure": 1009.6,
                  "cloudcover": 78.3,
                  "visibility": 18.2,
                  "solarradiation": 284.3,
                  "solarenergy": 24.4,
                  "uvindex": 8,
                  "severerisk": 30,
                  "sunrise": "1642224898",
                  "sunset": "1642269969",
                  "moonphase": 0.41,
                  "conditions": "Rain, Partially cloudy",
                  "description": "Partly cloudy throughout the day with rain.",
                  "icon": "rain",
                  "_deepnote_index_column": 5
                },
                {
                  "name": "Kebumen, Indonesia",
                  "datetime": "2022-01-16",
                  "tempmax": 34.1,
                  "tempmin": 24.2,
                  "temp": 27.7,
                  "feelslikemax": 40.2,
                  "feelslikemin": 24.2,
                  "feelslike": 30.2,
                  "dew": 23.4,
                  "humidity": 78.6,
                  "precip": 2,
                  "precipprob": "True",
                  "precipcover": 4.17,
                  "preciptype": "rain",
                  "snow": 0,
                  "snowdepth": 0,
                  "windgust": 18.7,
                  "windspeed": 19.4,
                  "winddir": 270,
                  "sealevelpressure": 1009.2,
                  "cloudcover": 68.3,
                  "visibility": 18.1,
                  "solarradiation": 306.2,
                  "solarenergy": 26.2,
                  "uvindex": 9,
                  "severerisk": 75,
                  "sunrise": "1642311327",
                  "sunset": "1642356382",
                  "moonphase": 0.44,
                  "conditions": "Rain, Partially cloudy",
                  "description": "Partly cloudy throughout the day with early morning rain.",
                  "icon": "rain",
                  "_deepnote_index_column": 6
                },
                {
                  "name": "Kebumen, Indonesia",
                  "datetime": "2022-01-17",
                  "tempmax": 32.2,
                  "tempmin": 24.8,
                  "temp": 27.8,
                  "feelslikemax": 39.6,
                  "feelslikemin": 24.8,
                  "feelslike": 30.5,
                  "dew": 23.7,
                  "humidity": 78.8,
                  "precip": 4.2,
                  "precipprob": "True",
                  "precipcover": 37.5,
                  "preciptype": "rain",
                  "snow": 0,
                  "snowdepth": 0,
                  "windgust": 22.7,
                  "windspeed": 20.2,
                  "winddir": 268,
                  "sealevelpressure": 1009.1,
                  "cloudcover": 60.8,
                  "visibility": 18.5,
                  "solarradiation": 287.2,
                  "solarenergy": 24.8,
                  "uvindex": 9,
                  "severerisk": 30,
                  "sunrise": "1642397754",
                  "sunset": "1642442795",
                  "moonphase": 0.47,
                  "conditions": "Rain, Partially cloudy",
                  "description": "Partly cloudy throughout the day with a chance of rain throughout the day.",
                  "icon": "rain",
                  "_deepnote_index_column": 7
                },
                {
                  "name": "Kebumen, Indonesia",
                  "datetime": "2022-01-18",
                  "tempmax": 32.2,
                  "tempmin": 24.6,
                  "temp": 27.1,
                  "feelslikemax": 40.3,
                  "feelslikemin": 24.6,
                  "feelslike": 29.2,
                  "dew": 23.8,
                  "humidity": 82.5,
                  "precip": 10,
                  "precipprob": "True",
                  "precipcover": 8.33,
                  "preciptype": "rain",
                  "snow": 0,
                  "snowdepth": 0,
                  "windgust": 20.5,
                  "windspeed": 17.6,
                  "winddir": 269.1,
                  "sealevelpressure": 1008.7,
                  "cloudcover": 64,
                  "visibility": 15.6,
                  "solarradiation": 295.5,
                  "solarenergy": 25.6,
                  "uvindex": 9,
                  "severerisk": 30,
                  "sunrise": "1642484182",
                  "sunset": "1642529207",
                  "moonphase": 0.5,
                  "conditions": "Rain, Partially cloudy",
                  "description": "Partly cloudy throughout the day with late afternoon rain.",
                  "icon": "rain",
                  "_deepnote_index_column": 8
                },
                {
                  "name": "Kebumen, Indonesia",
                  "datetime": "2022-01-19",
                  "tempmax": 32.2,
                  "tempmin": 24.3,
                  "temp": 26.5,
                  "feelslikemax": 39.6,
                  "feelslikemin": 24.3,
                  "feelslike": 28.1,
                  "dew": 23.3,
                  "humidity": 83.1,
                  "precip": 78,
                  "precipprob": "True",
                  "precipcover": 12.5,
                  "preciptype": "rain",
                  "snow": 0,
                  "snowdepth": 0,
                  "windgust": 22.7,
                  "windspeed": 20.2,
                  "winddir": 262.8,
                  "sealevelpressure": 1008.4,
                  "cloudcover": 64.9,
                  "visibility": 15.5,
                  "solarradiation": 295.6,
                  "solarenergy": 25.4,
                  "uvindex": 8,
                  "severerisk": 30,
                  "sunrise": "1642570608",
                  "sunset": "1642615618",
                  "moonphase": 0.54,
                  "conditions": "Rain, Partially cloudy",
                  "description": "Partly cloudy throughout the day with rain.",
                  "icon": "rain",
                  "_deepnote_index_column": 9
                }
              ]
            },
            "text/plain": "                   name    datetime  tempmax  tempmin  temp  feelslikemax  \\\n0    Kebumen, Indonesia  2022-01-10     30.7     25.2  27.7          36.6   \n1    Kebumen, Indonesia  2022-01-11     32.2     23.7  26.6          40.2   \n2    Kebumen, Indonesia  2022-01-12     29.9     23.8  26.2          35.6   \n3    Kebumen, Indonesia  2022-01-13     30.3     23.8  25.9          35.3   \n4    Kebumen, Indonesia  2022-01-14     32.2     24.4  26.6          38.6   \n..                  ...         ...      ...      ...   ...           ...   \n991             Kebumen  2024-12-27     32.7     25.1  28.5          39.5   \n992             Kebumen  2024-12-28     27.8     25.4  26.6          32.5   \n993             Kebumen  2024-12-29     26.2     25.0  25.5          26.2   \n994             Kebumen  2024-12-30     29.6     24.5  26.7          33.6   \n995             Kebumen  2024-12-31     28.4     24.0  26.1          31.7   \n\n     feelslikemin  feelslike   dew  humidity  ...  solarradiation  \\\n0            25.2       31.0  24.2      81.2  ...           249.9   \n1            23.7       28.2  23.3      82.4  ...           214.0   \n2            23.8       27.4  22.8      82.5  ...           247.1   \n3            23.8       27.0  23.1      85.1  ...           183.7   \n4            24.4       28.1  22.8      80.3  ...           156.5   \n..            ...        ...   ...       ...  ...             ...   \n991          25.1       32.2  24.9      81.7  ...           182.6   \n992          25.4       28.4  23.6      83.9  ...            96.5   \n993          25.0       25.5  22.5      83.7  ...            39.8   \n994          24.5       28.2  22.6      78.3  ...           298.1   \n995          24.0       27.0  23.0      83.5  ...           127.7   \n\n     solarenergy  uvindex severerisk              sunrise  \\\n0           21.8      9.0       30.0           1641792752   \n1           18.4      7.0       30.0           1641879182   \n2           21.6      7.0       30.0           1641965612   \n3           15.8      7.0       30.0           1642052041   \n4           13.8      7.0       30.0           1642138470   \n..           ...      ...        ...                  ...   \n991         15.6      6.0       10.0  2024-12-27T05:25:26   \n992          8.1      6.0       30.0  2024-12-28T05:25:57   \n993          3.4      2.0       10.0  2024-12-29T05:26:28   \n994         25.8     10.0       10.0  2024-12-30T05:27:00   \n995         10.9      6.0       10.0  2024-12-31T05:27:31   \n\n                  sunset  moonphase              conditions  \\\n0             1641837887       0.25  Rain, Partially cloudy   \n1             1641924305       0.28          Rain, Overcast   \n2             1642010722       0.31  Rain, Partially cloudy   \n3             1642097139       0.34          Rain, Overcast   \n4             1642183554       0.38  Rain, Partially cloudy   \n..                   ...        ...                     ...   \n991  2024-12-27T17:59:28       0.88        Partially cloudy   \n992  2024-12-28T17:59:55       0.91          Rain, Overcast   \n993  2024-12-29T18:00:22       0.94          Rain, Overcast   \n994  2024-12-30T18:00:48       0.98  Rain, Partially cloudy   \n995  2024-12-31T18:01:14       0.00          Rain, Overcast   \n\n                                           description               icon  \n0          Partly cloudy throughout the day with rain.               rain  \n1           Cloudy skies throughout the day with rain.               rain  \n2    Partly cloudy throughout the day with late aft...               rain  \n3           Cloudy skies throughout the day with rain.               rain  \n4    Partly cloudy throughout the day with early mo...               rain  \n..                                                 ...                ...  \n991                  Partly cloudy throughout the day.  partly-cloudy-day  \n992  Cloudy skies throughout the day with a chance ...               rain  \n993  Cloudy skies throughout the day with a chance ...               rain  \n994  Partly cloudy throughout the day with a chance...               rain  \n995         Cloudy skies throughout the day with rain.               rain  \n\n[996 rows x 32 columns]",
            "text/html": "<div>\n<style scoped>\n    .dataframe tbody tr th:only-of-type {\n        vertical-align: middle;\n    }\n\n    .dataframe tbody tr th {\n        vertical-align: top;\n    }\n\n    .dataframe thead th {\n        text-align: right;\n    }\n</style>\n<table border=\"1\" class=\"dataframe\">\n  <thead>\n    <tr style=\"text-align: right;\">\n      <th></th>\n      <th>name</th>\n      <th>datetime</th>\n      <th>tempmax</th>\n      <th>tempmin</th>\n      <th>temp</th>\n      <th>feelslikemax</th>\n      <th>feelslikemin</th>\n      <th>feelslike</th>\n      <th>dew</th>\n      <th>humidity</th>\n      <th>...</th>\n      <th>solarradiation</th>\n      <th>solarenergy</th>\n      <th>uvindex</th>\n      <th>severerisk</th>\n      <th>sunrise</th>\n      <th>sunset</th>\n      <th>moonphase</th>\n      <th>conditions</th>\n      <th>description</th>\n      <th>icon</th>\n    </tr>\n  </thead>\n  <tbody>\n    <tr>\n      <th>0</th>\n      <td>Kebumen, Indonesia</td>\n      <td>2022-01-10</td>\n      <td>30.7</td>\n      <td>25.2</td>\n      <td>27.7</td>\n      <td>36.6</td>\n      <td>25.2</td>\n      <td>31.0</td>\n      <td>24.2</td>\n      <td>81.2</td>\n      <td>...</td>\n      <td>249.9</td>\n      <td>21.8</td>\n      <td>9.0</td>\n      <td>30.0</td>\n      <td>1641792752</td>\n      <td>1641837887</td>\n      <td>0.25</td>\n      <td>Rain, Partially cloudy</td>\n      <td>Partly cloudy throughout the day with rain.</td>\n      <td>rain</td>\n    </tr>\n    <tr>\n      <th>1</th>\n      <td>Kebumen, Indonesia</td>\n      <td>2022-01-11</td>\n      <td>32.2</td>\n      <td>23.7</td>\n      <td>26.6</td>\n      <td>40.2</td>\n      <td>23.7</td>\n      <td>28.2</td>\n      <td>23.3</td>\n      <td>82.4</td>\n      <td>...</td>\n      <td>214.0</td>\n      <td>18.4</td>\n      <td>7.0</td>\n      <td>30.0</td>\n      <td>1641879182</td>\n      <td>1641924305</td>\n      <td>0.28</td>\n      <td>Rain, Overcast</td>\n      <td>Cloudy skies throughout the day with rain.</td>\n      <td>rain</td>\n    </tr>\n    <tr>\n      <th>2</th>\n      <td>Kebumen, Indonesia</td>\n      <td>2022-01-12</td>\n      <td>29.9</td>\n      <td>23.8</td>\n      <td>26.2</td>\n      <td>35.6</td>\n      <td>23.8</td>\n      <td>27.4</td>\n      <td>22.8</td>\n      <td>82.5</td>\n      <td>...</td>\n      <td>247.1</td>\n      <td>21.6</td>\n      <td>7.0</td>\n      <td>30.0</td>\n      <td>1641965612</td>\n      <td>1642010722</td>\n      <td>0.31</td>\n      <td>Rain, Partially cloudy</td>\n      <td>Partly cloudy throughout the day with late aft...</td>\n      <td>rain</td>\n    </tr>\n    <tr>\n      <th>3</th>\n      <td>Kebumen, Indonesia</td>\n      <td>2022-01-13</td>\n      <td>30.3</td>\n      <td>23.8</td>\n      <td>25.9</td>\n      <td>35.3</td>\n      <td>23.8</td>\n      <td>27.0</td>\n      <td>23.1</td>\n      <td>85.1</td>\n      <td>...</td>\n      <td>183.7</td>\n      <td>15.8</td>\n      <td>7.0</td>\n      <td>30.0</td>\n      <td>1642052041</td>\n      <td>1642097139</td>\n      <td>0.34</td>\n      <td>Rain, Overcast</td>\n      <td>Cloudy skies throughout the day with rain.</td>\n      <td>rain</td>\n    </tr>\n    <tr>\n      <th>4</th>\n      <td>Kebumen, Indonesia</td>\n      <td>2022-01-14</td>\n      <td>32.2</td>\n      <td>24.4</td>\n      <td>26.6</td>\n      <td>38.6</td>\n      <td>24.4</td>\n      <td>28.1</td>\n      <td>22.8</td>\n      <td>80.3</td>\n      <td>...</td>\n      <td>156.5</td>\n      <td>13.8</td>\n      <td>7.0</td>\n      <td>30.0</td>\n      <td>1642138470</td>\n      <td>1642183554</td>\n      <td>0.38</td>\n      <td>Rain, Partially cloudy</td>\n      <td>Partly cloudy throughout the day with early mo...</td>\n      <td>rain</td>\n    </tr>\n    <tr>\n      <th>...</th>\n      <td>...</td>\n      <td>...</td>\n      <td>...</td>\n      <td>...</td>\n      <td>...</td>\n      <td>...</td>\n      <td>...</td>\n      <td>...</td>\n      <td>...</td>\n      <td>...</td>\n      <td>...</td>\n      <td>...</td>\n      <td>...</td>\n      <td>...</td>\n      <td>...</td>\n      <td>...</td>\n      <td>...</td>\n      <td>...</td>\n      <td>...</td>\n      <td>...</td>\n      <td>...</td>\n    </tr>\n    <tr>\n      <th>991</th>\n      <td>Kebumen</td>\n      <td>2024-12-27</td>\n      <td>32.7</td>\n      <td>25.1</td>\n      <td>28.5</td>\n      <td>39.5</td>\n      <td>25.1</td>\n      <td>32.2</td>\n      <td>24.9</td>\n      <td>81.7</td>\n      <td>...</td>\n      <td>182.6</td>\n      <td>15.6</td>\n      <td>6.0</td>\n      <td>10.0</td>\n      <td>2024-12-27T05:25:26</td>\n      <td>2024-12-27T17:59:28</td>\n      <td>0.88</td>\n      <td>Partially cloudy</td>\n      <td>Partly cloudy throughout the day.</td>\n      <td>partly-cloudy-day</td>\n    </tr>\n    <tr>\n      <th>992</th>\n      <td>Kebumen</td>\n      <td>2024-12-28</td>\n      <td>27.8</td>\n      <td>25.4</td>\n      <td>26.6</td>\n      <td>32.5</td>\n      <td>25.4</td>\n      <td>28.4</td>\n      <td>23.6</td>\n      <td>83.9</td>\n      <td>...</td>\n      <td>96.5</td>\n      <td>8.1</td>\n      <td>6.0</td>\n      <td>30.0</td>\n      <td>2024-12-28T05:25:57</td>\n      <td>2024-12-28T17:59:55</td>\n      <td>0.91</td>\n      <td>Rain, Overcast</td>\n      <td>Cloudy skies throughout the day with a chance ...</td>\n      <td>rain</td>\n    </tr>\n    <tr>\n      <th>993</th>\n      <td>Kebumen</td>\n      <td>2024-12-29</td>\n      <td>26.2</td>\n      <td>25.0</td>\n      <td>25.5</td>\n      <td>26.2</td>\n      <td>25.0</td>\n      <td>25.5</td>\n      <td>22.5</td>\n      <td>83.7</td>\n      <td>...</td>\n      <td>39.8</td>\n      <td>3.4</td>\n      <td>2.0</td>\n      <td>10.0</td>\n      <td>2024-12-29T05:26:28</td>\n      <td>2024-12-29T18:00:22</td>\n      <td>0.94</td>\n      <td>Rain, Overcast</td>\n      <td>Cloudy skies throughout the day with a chance ...</td>\n      <td>rain</td>\n    </tr>\n    <tr>\n      <th>994</th>\n      <td>Kebumen</td>\n      <td>2024-12-30</td>\n      <td>29.6</td>\n      <td>24.5</td>\n      <td>26.7</td>\n      <td>33.6</td>\n      <td>24.5</td>\n      <td>28.2</td>\n      <td>22.6</td>\n      <td>78.3</td>\n      <td>...</td>\n      <td>298.1</td>\n      <td>25.8</td>\n      <td>10.0</td>\n      <td>10.0</td>\n      <td>2024-12-30T05:27:00</td>\n      <td>2024-12-30T18:00:48</td>\n      <td>0.98</td>\n      <td>Rain, Partially cloudy</td>\n      <td>Partly cloudy throughout the day with a chance...</td>\n      <td>rain</td>\n    </tr>\n    <tr>\n      <th>995</th>\n      <td>Kebumen</td>\n      <td>2024-12-31</td>\n      <td>28.4</td>\n      <td>24.0</td>\n      <td>26.1</td>\n      <td>31.7</td>\n      <td>24.0</td>\n      <td>27.0</td>\n      <td>23.0</td>\n      <td>83.5</td>\n      <td>...</td>\n      <td>127.7</td>\n      <td>10.9</td>\n      <td>6.0</td>\n      <td>10.0</td>\n      <td>2024-12-31T05:27:31</td>\n      <td>2024-12-31T18:01:14</td>\n      <td>0.00</td>\n      <td>Rain, Overcast</td>\n      <td>Cloudy skies throughout the day with rain.</td>\n      <td>rain</td>\n    </tr>\n  </tbody>\n</table>\n<p>996 rows × 32 columns</p>\n</div>"
          },
          "metadata": {}
        }
      ],
      "outputs_reference": null,
      "execution_count": 5,
      "block_group": "16af4a468d094df6842f712372d304f8",
      "content_dependencies": null
    },
    {
      "cell_type": "code",
      "source": "data.isnull().sum()",
      "metadata": {
        "source_hash": "878de0e4",
        "execution_start": 1736057925067,
        "execution_millis": 0,
        "execution_context_id": "48890a1c-a873-4b77-b083-04ab46e8a1cd",
        "cell_id": "bdba1899187e462bbf612adf572bbb4d",
        "deepnote_cell_type": "code"
      },
      "outputs": [
        {
          "output_type": "execute_result",
          "execution_count": 6,
          "data": {
            "text/plain": "name                0\ndatetime            0\ntempmax             0\ntempmin             0\ntemp                0\nfeelslikemax        0\nfeelslikemin        0\nfeelslike           0\ndew                 0\nhumidity            0\nprecip              0\nprecipprob          0\nprecipcover         0\npreciptype          0\nsnow                0\nsnowdepth           0\nwindgust            0\nwindspeed           0\nwinddir             0\nsealevelpressure    0\ncloudcover          0\nvisibility          0\nsolarradiation      0\nsolarenergy         0\nuvindex             0\nsevererisk          0\nsunrise             0\nsunset              0\nmoonphase           0\nconditions          0\ndescription         0\nicon                0\ndtype: int64"
          },
          "metadata": {}
        }
      ],
      "outputs_reference": null,
      "execution_count": 6,
      "block_group": "328e627d4e63452e95ba70a0ddc7bde5",
      "content_dependencies": null
    },
    {
      "cell_type": "code",
      "source": "data.plot(y=['temp', 'humidity','precip','sealevelpressure','windspeed'], subplots=True, figsize=(10, 15))\nplt.show()",
      "metadata": {
        "source_hash": "e710840a",
        "execution_start": 1736057925115,
        "execution_millis": 609,
        "execution_context_id": "48890a1c-a873-4b77-b083-04ab46e8a1cd",
        "cell_id": "597403baf0c5496e9c23df699fc9130c",
        "deepnote_cell_type": "code"
      },
      "outputs": [
        {
          "data": {
            "text/plain": "<Figure size 1000x1500 with 5 Axes>",
            "image/png": "[encoded data removed]"
          },
          "metadata": {
            "image/png": {
              "width": 840,
              "height": 1198
            }
          },
          "output_type": "display_data"
        }
      ],
      "outputs_reference": null,
      "execution_count": 7,
      "block_group": "d7471193855f488994c650ec4ed77b4e",
      "content_dependencies": null
    },
    {
      "cell_type": "code",
      "source": "data3.dropna(inplace=True)",
      "metadata": {
        "source_hash": "50fe1e91",
        "execution_start": 1736057925775,
        "execution_millis": 288,
        "execution_context_id": "48890a1c-a873-4b77-b083-04ab46e8a1cd",
        "cell_id": "d7ceed9485f24eb58f6bb4892cd0ca82",
        "deepnote_cell_type": "code"
      },
      "outputs": [
        {
          "output_type": "error",
          "ename": "NameError",
          "evalue": "name 'data3' is not defined",
          "traceback": [
            "\u001b[0;31m---------------------------------------------------------------------------\u001b[0m",
            "\u001b[0;31mNameError\u001b[0m                                 Traceback (most recent call last)",
            "Cell \u001b[0;32mIn[8], line 1\u001b[0m\n\u001b[0;32m----> 1\u001b[0m \u001b[43mdata3\u001b[49m\u001b[38;5;241m.\u001b[39mdropna(inplace\u001b[38;5;241m=\u001b[39m\u001b[38;5;28;01mTrue\u001b[39;00m)\n",
            "\u001b[0;31mNameError\u001b[0m: name 'data3' is not defined"
          ]
        }
      ],
      "outputs_reference": null,
      "execution_count": 8,
      "block_group": "86a59c6c47094fe0b10842fc7f3437a6",
      "content_dependencies": null
    },
    {
      "cell_type": "code",
      "source": "# Membagi variabel independen dan target\nX = data[[\n    'temp', \n    'tempmax',\n    'tempmin',\n    'humidity',\n    'sealevelpressure', \n    'windspeed',\n    'winddir'\n    ]]  # Variabel independen\ny = data['precipprob']  # Target (Curah Hujan)",
      "metadata": {
        "source_hash": "96f9209a",
        "execution_start": 1736046511967,
        "execution_millis": 1,
        "execution_context_id": "b8855a90-fc9c-4251-9e5a-138ce8df0bcb",
        "deepnote_to_be_reexecuted": true,
        "cell_id": "30841ee682f54e39a3d1008bda2626ac",
        "deepnote_cell_type": "code"
      },
      "outputs": [],
      "outputs_reference": null,
      "execution_count": 14,
      "block_group": "acbd73ef74ab4810a97d4114bd41f4d5",
      "content_dependencies": null
    },
    {
      "cell_type": "code",
      "source": "# Membagi data menjadi data latih dan data uji\nX_train, X_test, y_train, y_test = train_test_split(X, y, test_size=0.2, random_state=42)",
      "metadata": {
        "source_hash": "6eb66521",
        "execution_start": 1736046512019,
        "execution_millis": 0,
        "execution_context_id": "b8855a90-fc9c-4251-9e5a-138ce8df0bcb",
        "deepnote_to_be_reexecuted": true,
        "cell_id": "283021112f5448a6a0f1fec66bfc433c",
        "deepnote_cell_type": "code"
      },
      "outputs": [],
      "outputs_reference": null,
      "execution_count": 15,
      "block_group": "49c800e38f3c41c68a37469ad0a78ef8",
      "content_dependencies": null
    },
    {
      "cell_type": "code",
      "source": "# Standarisasi data\nscaler = StandardScaler()\nX_train_scaled = scaler.fit_transform(X_train)\nX_test_scaled = scaler.transform(X_test)",
      "metadata": {
        "source_hash": "282a9610",
        "execution_start": 1736046512067,
        "execution_millis": 1,
        "execution_context_id": "b8855a90-fc9c-4251-9e5a-138ce8df0bcb",
        "deepnote_to_be_reexecuted": true,
        "cell_id": "1bf15cb86a1a47fdb61b90542b75d4e2",
        "deepnote_cell_type": "code"
      },
      "outputs": [],
      "outputs_reference": null,
      "execution_count": 16,
      "block_group": "3ed37c2ce87e45229779d0925bda82ee",
      "content_dependencies": null
    },
    {
      "cell_type": "code",
      "source": "# Daftar model klasifikasi\nmodels = {\n    'Logistic Regression': LogisticRegression(max_iter=1000),\n    'Decision Tree': DecisionTreeClassifier(random_state=50),\n    'Random Forest': RandomForestClassifier(random_state=50),\n    'Gradient Boosting': GradientBoostingClassifier(random_state=50),\n    'Support Vector Classifier': SVC(),\n    'K-Nearest Neighbors': KNeighborsClassifier()\n}\n\n# Evaluasi semua model dan menyimpan hasil dalam bentuk tabel\nresults = []\nfor name, model in models.items():\n    # Melatih model\n    model.fit(X_train_scaled, y_train)\n    \n    # Prediksi\n    y_pred = model.predict(X_test_scaled)\n    \n    # Evaluasi\n    accuracy = accuracy_score(y_test, y_pred)\n    report = classification_report(y_test, y_pred, output_dict=True)\n    results.append({\n        'Model': name,\n        'Accuracy': accuracy,\n        'Precision (macro avg)': report['macro avg']['precision'],\n        'Recall (macro avg)': report['macro avg']['recall'],\n        'F1-Score (macro avg)': report['macro avg']['f1-score']\n    })\n\n# Menampilkan hasil dalam bentuk tabel\nresults_df = pd.DataFrame(results)\nprint(results_df)",
      "metadata": {
        "source_hash": "a74034b9",
        "execution_start": 1736046512123,
        "execution_millis": 364,
        "execution_context_id": "b8855a90-fc9c-4251-9e5a-138ce8df0bcb",
        "deepnote_to_be_reexecuted": true,
        "cell_id": "f541d63e971e40b2958faa12d4972252",
        "deepnote_cell_type": "code"
      },
      "outputs": [
        {
          "name": "stderr",
          "text": "/root/venv/lib/python3.11/site-packages/sklearn/metrics/_classification.py:1471: UndefinedMetricWarning: Precision and F-score are ill-defined and being set to 0.0 in labels with no predicted samples. Use `zero_division` parameter to control this behavior.\n  _warn_prf(average, modifier, msg_start, len(result))\n/root/venv/lib/python3.11/site-packages/sklearn/metrics/_classification.py:1471: UndefinedMetricWarning: Precision and F-score are ill-defined and being set to 0.0 in labels with no predicted samples. Use `zero_division` parameter to control this behavior.\n  _warn_prf(average, modifier, msg_start, len(result))\n/root/venv/lib/python3.11/site-packages/sklearn/metrics/_classification.py:1471: UndefinedMetricWarning: Precision and F-score are ill-defined and being set to 0.0 in labels with no predicted samples. Use `zero_division` parameter to control this behavior.\n  _warn_prf(average, modifier, msg_start, len(result))\n                       Model  Accuracy  Precision (macro avg)  \\\n0        Logistic Regression     0.925               0.462500   \n1              Decision Tree     0.895               0.613287   \n2              Random Forest     0.945               0.890893   \n3          Gradient Boosting     0.930               0.751600   \n4  Support Vector Classifier     0.925               0.462500   \n5        K-Nearest Neighbors     0.920               0.666667   \n\n   Recall (macro avg)  F1-Score (macro avg)  \n0            0.500000              0.480519  \n1            0.606306              0.609629  \n2            0.663964              0.723583  \n3            0.655856              0.689716  \n4            0.500000              0.480519  \n5            0.558559              0.578947  \n/root/venv/lib/python3.11/site-packages/sklearn/metrics/_classification.py:1471: UndefinedMetricWarning: Precision and F-score are ill-defined and being set to 0.0 in labels with no predicted samples. Use `zero_division` parameter to control this behavior.\n  _warn_prf(average, modifier, msg_start, len(result))\n/root/venv/lib/python3.11/site-packages/sklearn/metrics/_classification.py:1471: UndefinedMetricWarning: Precision and F-score are ill-defined and being set to 0.0 in labels with no predicted samples. Use `zero_division` parameter to control this behavior.\n  _warn_prf(average, modifier, msg_start, len(result))\n/root/venv/lib/python3.11/site-packages/sklearn/metrics/_classification.py:1471: UndefinedMetricWarning: Precision and F-score are ill-defined and being set to 0.0 in labels with no predicted samples. Use `zero_division` parameter to control this behavior.\n  _warn_prf(average, modifier, msg_start, len(result))\n",
          "output_type": "stream"
        }
      ],
      "outputs_reference": null,
      "execution_count": 17,
      "block_group": "d0323bb52c2d4ce5bd6e3e2cdd7df18c",
      "content_dependencies": null
    },
    {
      "cell_type": "markdown",
      "source": "<a style='text-decoration:none;line-height:16px;display:flex;color:#5B5B62;padding:10px;justify-content:end;' href='https://deepnote.com?utm_source=created-in-deepnote-cell&projectId=200afad5-8991-4e20-8a55-8751c7aff3b5' target=\"_blank\">\n<img alt='Created in deepnote.com' style='display:inline;max-height:16px;margin:0px;margin-right:7.5px;' src='data:image/svg+xml;base64,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' > </img>\nCreated in <span style='font-weight:600;margin-left:4px;'>Deepnote</span></a>",
      "metadata": {
        "created_in_deepnote_cell": true,
        "deepnote_cell_type": "markdown"
      }
    }
  ],
  "nbformat": 4,
  "nbformat_minor": 0,
  "metadata": {
    "deepnote_notebook_id": "f3182a2789e1429180902bee6ad00531"
  }
}