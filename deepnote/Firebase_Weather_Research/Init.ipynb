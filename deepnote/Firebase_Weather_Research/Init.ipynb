{
  "cells": [
    {
      "cell_type": "markdown",
      "source": "## Initialization Notebook\nThis is your initialization notebook.\n\n**What's this for?**\n\nYou can put custom code you want us to run every time we setup your environment in here. \n\n**Awesome! Anything I should not put in here?**\n\nPlease don't install `jupyter` or `jedi` packages, they would break your Deepnote environment. Also, no need to put `!pip install`s here, we already save those automatically!\n\n**I want to learn more!**\n\nGreat! Just [head over to our docs](https://deepnote.com/docs/custom-initialization).",
      "metadata": {
        "cell_id": "729659b33abd45619da7866e31477218",
        "deepnote_cell_type": "markdown"
      },
      "block_group": "729659b33abd45619da7866e31477218"
    },
    {
      "cell_type": "code",
      "source": "%%bash\n# If your project has a 'requirements.txt' file, we'll install it here.\nif test -f requirements.txt\n  then\n    pip install -r ./requirements.txt\n  else echo \"There's no requirements.txt, so nothing to install.\"\nfi",
      "metadata": {
        "source_hash": "8d2fa896",
        "execution_start": 1736522330081,
        "execution_millis": 4443,
        "execution_context_id": "3de16879-cab4-462f-ae60-c4e2d99f09de",
        "cell_id": "e9b6a88a7c0343dab3afa598021c22a0",
        "deepnote_cell_type": "code"
      },
      "outputs": [
        {
          "name": "stdout",
          "text": "Collecting missingno (from -r ./requirements.txt (line 1))\n  Downloading missingno-0.5.2-py3-none-any.whl.metadata (639 bytes)\nCollecting meteostat (from -r ./requirements.txt (line 2))\n  Downloading meteostat-1.6.8-py3-none-any.whl.metadata (4.6 kB)\nRequirement already satisfied: plotly in /root/venv/lib/python3.11/site-packages (from -r ./requirements.txt (line 3)) (5.24.1)\nCollecting openpyxl==3.1.5 (from -r ./requirements.txt (line 4))\n  Downloading openpyxl-3.1.5-py2.py3-none-any.whl.metadata (2.5 kB)\nCollecting et-xmlfile (from openpyxl==3.1.5->-r ./requirements.txt (line 4))\n  Downloading et_xmlfile-2.0.0-py3-none-any.whl.metadata (2.7 kB)\nRequirement already satisfied: numpy in /root/venv/lib/python3.11/site-packages (from missingno->-r ./requirements.txt (line 1)) (1.26.4)\nRequirement already satisfied: matplotlib in /root/venv/lib/python3.11/site-packages (from missingno->-r ./requirements.txt (line 1)) (3.8.4)\nRequirement already satisfied: scipy in /root/venv/lib/python3.11/site-packages (from missingno->-r ./requirements.txt (line 1)) (1.11.4)\nRequirement already satisfied: seaborn in /root/venv/lib/python3.11/site-packages (from missingno->-r ./requirements.txt (line 1)) (0.13.2)\nRequirement already satisfied: pandas>=1.1 in /root/venv/lib/python3.11/site-packages (from meteostat->-r ./requirements.txt (line 2)) (2.1.4)\nRequirement already satisfied: pytz in /root/venv/lib/python3.11/site-packages (from meteostat->-r ./requirements.txt (line 2)) (2024.2)\nRequirement already satisfied: tenacity>=6.2.0 in /root/venv/lib/python3.11/site-packages (from plotly->-r ./requirements.txt (line 3)) (9.0.0)\nRequirement already satisfied: packaging in /root/venv/lib/python3.11/site-packages (from plotly->-r ./requirements.txt (line 3)) (24.2)\nRequirement already satisfied: python-dateutil>=2.8.2 in /root/venv/lib/python3.11/site-packages (from pandas>=1.1->meteostat->-r ./requirements.txt (line 2)) (2.9.0.post0)\nRequirement already satisfied: tzdata>=2022.1 in /root/venv/lib/python3.11/site-packages (from pandas>=1.1->meteostat->-r ./requirements.txt (line 2)) (2024.2)\nRequirement already satisfied: contourpy>=1.0.1 in /root/venv/lib/python3.11/site-packages (from matplotlib->missingno->-r ./requirements.txt (line 1)) (1.3.1)\nRequirement already satisfied: cycler>=0.10 in /root/venv/lib/python3.11/site-packages (from matplotlib->missingno->-r ./requirements.txt (line 1)) (0.12.1)\nRequirement already satisfied: fonttools>=4.22.0 in /root/venv/lib/python3.11/site-packages (from matplotlib->missingno->-r ./requirements.txt (line 1)) (4.55.3)\nRequirement already satisfied: kiwisolver>=1.3.1 in /root/venv/lib/python3.11/site-packages (from matplotlib->missingno->-r ./requirements.txt (line 1)) (1.4.7)\nRequirement already satisfied: pillow>=8 in /root/venv/lib/python3.11/site-packages (from matplotlib->missingno->-r ./requirements.txt (line 1)) (11.0.0)\nRequirement already satisfied: pyparsing>=2.3.1 in /root/venv/lib/python3.11/site-packages (from matplotlib->missingno->-r ./requirements.txt (line 1)) (3.2.0)\nRequirement already satisfied: six>=1.5 in /root/venv/lib/python3.11/site-packages (from python-dateutil>=2.8.2->pandas>=1.1->meteostat->-r ./requirements.txt (line 2)) (1.17.0)\nDownloading openpyxl-3.1.5-py2.py3-none-any.whl (250 kB)\n\u001b[2K   \u001b[90m━━━━━━━━━━━━━━━━━━━━━━━━━━━━━━━━━━━━━━━━\u001b[0m \u001b[32m250.9/250.9 kB\u001b[0m \u001b[31m22.5 MB/s\u001b[0m eta \u001b[36m0:00:00\u001b[0m\n\u001b[?25hDownloading missingno-0.5.2-py3-none-any.whl (8.7 kB)\nDownloading meteostat-1.6.8-py3-none-any.whl (31 kB)\nDownloading et_xmlfile-2.0.0-py3-none-any.whl (18 kB)\nInstalling collected packages: et-xmlfile, openpyxl, meteostat, missingno\nSuccessfully installed et-xmlfile-2.0.0 meteostat-1.6.8 missingno-0.5.2 openpyxl-3.1.5\n\n\u001b[1m[\u001b[0m\u001b[34;49mnotice\u001b[0m\u001b[1;39;49m]\u001b[0m\u001b[39;49m A new release of pip is available: \u001b[0m\u001b[31;49m24.0\u001b[0m\u001b[39;49m -> \u001b[0m\u001b[32;49m24.3.1\u001b[0m\n\u001b[1m[\u001b[0m\u001b[34;49mnotice\u001b[0m\u001b[1;39;49m]\u001b[0m\u001b[39;49m To update, run: \u001b[0m\u001b[32;49mpip install --upgrade pip\u001b[0m\n",
          "output_type": "stream"
        }
      ],
      "outputs_reference": null,
      "execution_count": 1,
      "block_group": "e9b6a88a7c0343dab3afa598021c22a0",
      "content_dependencies": null
    },
    {
      "cell_type": "markdown",
      "source": "<a style='text-decoration:none;line-height:16px;display:flex;color:#5B5B62;padding:10px;justify-content:end;' href='https://deepnote.com?utm_source=created-in-deepnote-cell&projectId=200afad5-8991-4e20-8a55-8751c7aff3b5' target=\"_blank\">\n<img alt='Created in deepnote.com' style='display:inline;max-height:16px;margin:0px;margin-right:7.5px;' src='data:image/svg+xml;base64,PD94bWwgdmVyc2lvbj0iMS4wIiBlbmNvZGluZz0iVVRGLTgiPz4KPHN2ZyB3aWR0aD0iODBweCIgaGVpZ2h0PSI4MHB4IiB2aWV3Qm94PSIwIDAgODAgODAiIHZlcnNpb249IjEuMSIgeG1sbnM9Imh0dHA6Ly93d3cudzMub3JnLzIwMDAvc3ZnIiB4bWxuczp4bGluaz0iaHR0cDovL3d3dy53My5vcmcvMTk5OS94bGluayI+CiAgICA8IS0tIEdlbmVyYXRvcjogU2tldGNoIDU0LjEgKDc2NDkwKSAtIGh0dHBzOi8vc2tldGNoYXBwLmNvbSAtLT4KICAgIDx0aXRsZT5Hcm91cCAzPC90aXRsZT4KICAgIDxkZXNjPkNyZWF0ZWQgd2l0aCBTa2V0Y2guPC9kZXNjPgogICAgPGcgaWQ9IkxhbmRpbmciIHN0cm9rZT0ibm9uZSIgc3Ryb2tlLXdpZHRoPSIxIiBmaWxsPSJub25lIiBmaWxsLXJ1bGU9ImV2ZW5vZGQiPgogICAgICAgIDxnIGlkPSJBcnRib2FyZCIgdHJhbnNmb3JtPSJ0cmFuc2xhdGUoLTEyMzUuMDAwMDAwLCAtNzkuMDAwMDAwKSI+CiAgICAgICAgICAgIDxnIGlkPSJHcm91cC0zIiB0cmFuc2Zvcm09InRyYW5zbGF0ZSgxMjM1LjAwMDAwMCwgNzkuMDAwMDAwKSI+CiAgICAgICAgICAgICAgICA8cG9seWdvbiBpZD0iUGF0aC0yMCIgZmlsbD0iIzAyNjVCNCIgcG9pbnRzPSIyLjM3NjIzNzYyIDgwIDM4LjA0NzY2NjcgODAgNTcuODIxNzgyMiA3My44MDU3NTkyIDU3LjgyMTc4MjIgMzIuNzU5MjczOSAzOS4xNDAyMjc4IDMxLjY4MzE2ODMiPjwvcG9seWdvbj4KICAgICAgICAgICAgICAgIDxwYXRoIGQ9Ik0zNS4wMDc3MTgsODAgQzQyLjkwNjIwMDcsNzYuNDU0OTM1OCA0Ny41NjQ5MTY3LDcxLjU0MjI2NzEgNDguOTgzODY2LDY1LjI2MTk5MzkgQzUxLjExMjI4OTksNTUuODQxNTg0MiA0MS42NzcxNzk1LDQ5LjIxMjIyODQgMjUuNjIzOTg0Niw0OS4yMTIyMjg0IEMyNS40ODQ5Mjg5LDQ5LjEyNjg0NDggMjkuODI2MTI5Niw0My4yODM4MjQ4IDM4LjY0NzU4NjksMzEuNjgzMTY4MyBMNzIuODcxMjg3MSwzMi41NTQ0MjUgTDY1LjI4MDk3Myw2Ny42NzYzNDIxIEw1MS4xMTIyODk5LDc3LjM3NjE0NCBMMzUuMDA3NzE4LDgwIFoiIGlkPSJQYXRoLTIyIiBmaWxsPSIjMDAyODY4Ij48L3BhdGg+CiAgICAgICAgICAgICAgICA8cGF0aCBkPSJNMCwzNy43MzA0NDA1IEwyNy4xMTQ1MzcsMC4yNTcxMTE0MzYgQzYyLjM3MTUxMjMsLTEuOTkwNzE3MDEgODAsMTAuNTAwMzkyNyA4MCwzNy43MzA0NDA1IEM4MCw2NC45NjA0ODgyIDY0Ljc3NjUwMzgsNzkuMDUwMzQxNCAzNC4zMjk1MTEzLDgwIEM0Ny4wNTUzNDg5LDc3LjU2NzA4MDggNTMuNDE4MjY3Nyw3MC4zMTM2MTAzIDUzLjQxODI2NzcsNTguMjM5NTg4NSBDNTMuNDE4MjY3Nyw0MC4xMjg1NTU3IDM2LjMwMzk1NDQsMzcuNzMwNDQwNSAyNS4yMjc0MTcsMzcuNzMwNDQwNSBDMTcuODQzMDU4NiwzNy43MzA0NDA1IDkuNDMzOTE5NjYsMzcuNzMwNDQwNSAwLDM3LjczMDQ0MDUgWiIgaWQ9IlBhdGgtMTkiIGZpbGw9IiMzNzkzRUYiPjwvcGF0aD4KICAgICAgICAgICAgPC9nPgogICAgICAgIDwvZz4KICAgIDwvZz4KPC9zdmc+' > </img>\nCreated in <span style='font-weight:600;margin-left:4px;'>Deepnote</span></a>",
      "metadata": {
        "created_in_deepnote_cell": true,
        "deepnote_cell_type": "markdown"
      }
    }
  ],
  "nbformat": 4,
  "nbformat_minor": 0,
  "metadata": {
    "deepnote_notebook_id": "dabf2b15f9bb42aab1c4a64ccb925992"
  }
}