{
  "cells": [
    {
      "cell_type": "markdown",
      "source": "",
      "metadata": {
        "formattedRanges": [],
        "cell_id": "1cc7f553c57d4f39b761d3b293acc1c4",
        "deepnote_cell_type": "text-cell-p"
      },
      "block_group": "e5fc2176884f492a894e91157ab7c62f"
    },
    {
      "cell_type": "code",
      "source": "!pip install firebase-admin\nimport firebase_admin\nfrom firebase_admin import credentials, db\nfrom datetime import datetime  # Untuk konversi timestamp ke human-readable",
      "metadata": {
        "source_hash": "4b414174",
        "execution_start": 1731209686914,
        "execution_millis": 5171,
        "execution_context_id": "c3e5d6bc-e442-4d0e-adc3-c611a39d3474",
        "deepnote_app_block_visible": true,
        "cell_id": "561f2ebf823d4e85b53bdf7cad36afd7",
        "deepnote_cell_type": "code"
      },
      "outputs": [
        {
          "name": "stdout",
          "text": "Collecting firebase-admin\n  Downloading firebase_admin-6.6.0-py3-none-any.whl.metadata (1.5 kB)\nCollecting cachecontrol>=0.12.14 (from firebase-admin)\n  Downloading cachecontrol-0.14.1-py3-none-any.whl.metadata (3.1 kB)\nCollecting google-api-python-client>=1.7.8 (from firebase-admin)\n  Downloading google_api_python_client-2.151.0-py2.py3-none-any.whl.metadata (6.7 kB)\nCollecting google-cloud-storage>=1.37.1 (from firebase-admin)\n  Downloading google_cloud_storage-2.18.2-py2.py3-none-any.whl.metadata (9.1 kB)\nRequirement already satisfied: pyjwt>=2.5.0 in /shared-libs/python3.11/py/lib/python3.11/site-packages (from pyjwt[crypto]>=2.5.0->firebase-admin) (2.8.0)\nRequirement already satisfied: google-api-core<3.0.0dev,>=1.22.1 in /shared-libs/python3.11/py/lib/python3.11/site-packages (from google-api-core[grpc]<3.0.0dev,>=1.22.1; platform_python_implementation != \"PyPy\"->firebase-admin) (2.12.0)\nCollecting google-cloud-firestore>=2.19.0 (from firebase-admin)\n  Downloading google_cloud_firestore-2.19.0-py2.py3-none-any.whl.metadata (5.7 kB)\nRequirement already satisfied: requests>=2.16.0 in /shared-libs/python3.11/py/lib/python3.11/site-packages (from cachecontrol>=0.12.14->firebase-admin) (2.31.0)\nCollecting msgpack<2.0.0,>=0.5.2 (from cachecontrol>=0.12.14->firebase-admin)\n  Downloading msgpack-1.1.0-cp311-cp311-manylinux_2_17_x86_64.manylinux2014_x86_64.whl.metadata (8.4 kB)\nRequirement already satisfied: googleapis-common-protos<2.0.dev0,>=1.56.2 in /shared-libs/python3.11/py/lib/python3.11/site-packages (from google-api-core<3.0.0dev,>=1.22.1->google-api-core[grpc]<3.0.0dev,>=1.22.1; platform_python_implementation != \"PyPy\"->firebase-admin) (1.61.0)\nRequirement already satisfied: protobuf!=3.20.0,!=3.20.1,!=4.21.0,!=4.21.1,!=4.21.2,!=4.21.3,!=4.21.4,!=4.21.5,<5.0.0.dev0,>=3.19.5 in /shared-libs/python3.11/py/lib/python3.11/site-packages (from google-api-core<3.0.0dev,>=1.22.1->google-api-core[grpc]<3.0.0dev,>=1.22.1; platform_python_implementation != \"PyPy\"->firebase-admin) (4.24.4)\nRequirement already satisfied: google-auth<3.0.dev0,>=2.14.1 in /shared-libs/python3.11/py/lib/python3.11/site-packages (from google-api-core<3.0.0dev,>=1.22.1->google-api-core[grpc]<3.0.0dev,>=1.22.1; platform_python_implementation != \"PyPy\"->firebase-admin) (2.23.3)\nRequirement already satisfied: grpcio<2.0dev,>=1.33.2 in /shared-libs/python3.11/py/lib/python3.11/site-packages (from google-api-core[grpc]<3.0.0dev,>=1.22.1; platform_python_implementation != \"PyPy\"->firebase-admin) (1.59.0)\nRequirement already satisfied: grpcio-status<2.0.dev0,>=1.33.2 in /shared-libs/python3.11/py/lib/python3.11/site-packages (from google-api-core[grpc]<3.0.0dev,>=1.22.1; platform_python_implementation != \"PyPy\"->firebase-admin) (1.59.0)\nCollecting httplib2<1.dev0,>=0.19.0 (from google-api-python-client>=1.7.8->firebase-admin)\n  Downloading httplib2-0.22.0-py3-none-any.whl.metadata (2.6 kB)\nCollecting google-auth-httplib2<1.0.0,>=0.2.0 (from google-api-python-client>=1.7.8->firebase-admin)\n  Downloading google_auth_httplib2-0.2.0-py2.py3-none-any.whl.metadata (2.2 kB)\nCollecting uritemplate<5,>=3.0.1 (from google-api-python-client>=1.7.8->firebase-admin)\n  Downloading uritemplate-4.1.1-py2.py3-none-any.whl.metadata (2.9 kB)\nRequirement already satisfied: google-cloud-core<3.0.0dev,>=1.4.1 in /shared-libs/python3.11/py/lib/python3.11/site-packages (from google-cloud-firestore>=2.19.0->firebase-admin) (2.3.3)\nRequirement already satisfied: proto-plus<2.0.0dev,>=1.22.0 in /shared-libs/python3.11/py/lib/python3.11/site-packages (from google-cloud-firestore>=2.19.0->firebase-admin) (1.22.3)\nCollecting google-auth<3.0.dev0,>=2.14.1 (from google-api-core<3.0.0dev,>=1.22.1->google-api-core[grpc]<3.0.0dev,>=1.22.1; platform_python_implementation != \"PyPy\"->firebase-admin)\n  Downloading google_auth-2.36.0-py2.py3-none-any.whl.metadata (4.7 kB)\nINFO: pip is looking at multiple versions of google-cloud-storage to determine which version is compatible with other requirements. This could take a while.\nCollecting google-cloud-storage>=1.37.1 (from firebase-admin)\n  Downloading google_cloud_storage-2.18.1-py2.py3-none-any.whl.metadata (9.1 kB)\n  Downloading google_cloud_storage-2.18.0-py2.py3-none-any.whl.metadata (9.1 kB)\n  Downloading google_cloud_storage-2.17.0-py2.py3-none-any.whl.metadata (6.6 kB)\n  Downloading google_cloud_storage-2.16.0-py2.py3-none-any.whl.metadata (6.1 kB)\n  Downloading google_cloud_storage-2.15.0-py2.py3-none-any.whl.metadata (6.1 kB)\n  Downloading google_cloud_storage-2.14.0-py2.py3-none-any.whl.metadata (6.1 kB)\nRequirement already satisfied: google-resumable-media>=2.6.0 in /shared-libs/python3.11/py/lib/python3.11/site-packages (from google-cloud-storage>=1.37.1->firebase-admin) (2.6.0)\nRequirement already satisfied: google-crc32c<2.0dev,>=1.0 in /shared-libs/python3.11/py/lib/python3.11/site-packages (from google-cloud-storage>=1.37.1->firebase-admin) (1.5.0)\nRequirement already satisfied: cryptography>=3.4.0 in /shared-libs/python3.11/py/lib/python3.11/site-packages (from pyjwt[crypto]>=2.5.0->firebase-admin) (41.0.4)\nRequirement already satisfied: cffi>=1.12 in /shared-libs/python3.11/py-core/lib/python3.11/site-packages (from cryptography>=3.4.0->pyjwt[crypto]>=2.5.0->firebase-admin) (1.16.0)\nRequirement already satisfied: cachetools<6.0,>=2.0.0 in /shared-libs/python3.11/py/lib/python3.11/site-packages (from google-auth<3.0.dev0,>=2.14.1->google-api-core<3.0.0dev,>=1.22.1->google-api-core[grpc]<3.0.0dev,>=1.22.1; platform_python_implementation != \"PyPy\"->firebase-admin) (5.3.1)\nRequirement already satisfied: pyasn1-modules>=0.2.1 in /shared-libs/python3.11/py/lib/python3.11/site-packages (from google-auth<3.0.dev0,>=2.14.1->google-api-core<3.0.0dev,>=1.22.1->google-api-core[grpc]<3.0.0dev,>=1.22.1; platform_python_implementation != \"PyPy\"->firebase-admin) (0.3.0)\nRequirement already satisfied: rsa<5,>=3.1.4 in /shared-libs/python3.11/py/lib/python3.11/site-packages (from google-auth<3.0.dev0,>=2.14.1->google-api-core<3.0.0dev,>=1.22.1->google-api-core[grpc]<3.0.0dev,>=1.22.1; platform_python_implementation != \"PyPy\"->firebase-admin) (4.9)\nRequirement already satisfied: pyparsing!=3.0.0,!=3.0.1,!=3.0.2,!=3.0.3,<4,>=2.4.2 in /shared-libs/python3.11/py/lib/python3.11/site-packages (from httplib2<1.dev0,>=0.19.0->google-api-python-client>=1.7.8->firebase-admin) (3.1.1)\nRequirement already satisfied: charset-normalizer<4,>=2 in /shared-libs/python3.11/py/lib/python3.11/site-packages (from requests>=2.16.0->cachecontrol>=0.12.14->firebase-admin) (3.3.0)\nRequirement already satisfied: idna<4,>=2.5 in /shared-libs/python3.11/py-core/lib/python3.11/site-packages (from requests>=2.16.0->cachecontrol>=0.12.14->firebase-admin) (3.4)\nRequirement already satisfied: urllib3<3,>=1.21.1 in /shared-libs/python3.11/py/lib/python3.11/site-packages (from requests>=2.16.0->cachecontrol>=0.12.14->firebase-admin) (1.26.18)\nRequirement already satisfied: certifi>=2017.4.17 in /shared-libs/python3.11/py/lib/python3.11/site-packages (from requests>=2.16.0->cachecontrol>=0.12.14->firebase-admin) (2023.7.22)\nRequirement already satisfied: pycparser in /shared-libs/python3.11/py-core/lib/python3.11/site-packages (from cffi>=1.12->cryptography>=3.4.0->pyjwt[crypto]>=2.5.0->firebase-admin) (2.21)\nRequirement already satisfied: pyasn1<0.6.0,>=0.4.6 in /shared-libs/python3.11/py/lib/python3.11/site-packages (from pyasn1-modules>=0.2.1->google-auth<3.0.dev0,>=2.14.1->google-api-core<3.0.0dev,>=1.22.1->google-api-core[grpc]<3.0.0dev,>=1.22.1; platform_python_implementation != \"PyPy\"->firebase-admin) (0.5.0)\nDownloading firebase_admin-6.6.0-py3-none-any.whl (127 kB)\n\u001b[2K   \u001b[90m━━━━━━━━━━━━━━━━━━━━━━━━━━━━━━━━━━━━━━━━\u001b[0m \u001b[32m127.2/127.2 kB\u001b[0m \u001b[31m32.9 MB/s\u001b[0m eta \u001b[36m0:00:00\u001b[0m\n\u001b[?25hDownloading cachecontrol-0.14.1-py3-none-any.whl (22 kB)\nDownloading google_api_python_client-2.151.0-py2.py3-none-any.whl (12.5 MB)\n\u001b[2K   \u001b[90m━━━━━━━━━━━━━━━━━━━━━━━━━━━━━━━━━━━━━━━━\u001b[0m \u001b[32m12.5/12.5 MB\u001b[0m \u001b[31m133.9 MB/s\u001b[0m eta \u001b[36m0:00:00\u001b[0m\n\u001b[?25hDownloading google_cloud_firestore-2.19.0-py2.py3-none-any.whl (336 kB)\n\u001b[2K   \u001b[90m━━━━━━━━━━━━━━━━━━━━━━━━━━━━━━━━━━━━━━━━\u001b[0m \u001b[32m336.8/336.8 kB\u001b[0m \u001b[31m66.2 MB/s\u001b[0m eta \u001b[36m0:00:00\u001b[0m\n\u001b[?25hDownloading google_cloud_storage-2.14.0-py2.py3-none-any.whl (121 kB)\n\u001b[2K   \u001b[90m━━━━━━━━━━━━━━━━━━━━━━━━━━━━━━━━━━━━━━━━\u001b[0m \u001b[32m121.6/121.6 kB\u001b[0m \u001b[31m34.9 MB/s\u001b[0m eta \u001b[36m0:00:00\u001b[0m\n\u001b[?25hDownloading google_auth_httplib2-0.2.0-py2.py3-none-any.whl (9.3 kB)\nDownloading httplib2-0.22.0-py3-none-any.whl (96 kB)\n\u001b[2K   \u001b[90m━━━━━━━━━━━━━━━━━━━━━━━━━━━━━━━━━━━━━━━━\u001b[0m \u001b[32m96.9/96.9 kB\u001b[0m \u001b[31m26.2 MB/s\u001b[0m eta \u001b[36m0:00:00\u001b[0m\n\u001b[?25hDownloading msgpack-1.1.0-cp311-cp311-manylinux_2_17_x86_64.manylinux2014_x86_64.whl (403 kB)\n\u001b[2K   \u001b[90m━━━━━━━━━━━━━━━━━━━━━━━━━━━━━━━━━━━━━━━━\u001b[0m \u001b[32m403.7/403.7 kB\u001b[0m \u001b[31m62.7 MB/s\u001b[0m eta \u001b[36m0:00:00\u001b[0m\n\u001b[?25hDownloading uritemplate-4.1.1-py2.py3-none-any.whl (10 kB)\nInstalling collected packages: uritemplate, msgpack, httplib2, cachecontrol, google-auth-httplib2, google-api-python-client, google-cloud-storage, google-cloud-firestore, firebase-admin\nSuccessfully installed cachecontrol-0.14.1 firebase-admin-6.6.0 google-api-python-client-2.151.0 google-auth-httplib2-0.2.0 google-cloud-firestore-2.19.0 google-cloud-storage-2.14.0 httplib2-0.22.0 msgpack-1.1.0 uritemplate-4.1.1\n\n\u001b[1m[\u001b[0m\u001b[34;49mnotice\u001b[0m\u001b[1;39;49m]\u001b[0m\u001b[39;49m A new release of pip is available: \u001b[0m\u001b[31;49m24.0\u001b[0m\u001b[39;49m -> \u001b[0m\u001b[32;49m24.3.1\u001b[0m\n\u001b[1m[\u001b[0m\u001b[34;49mnotice\u001b[0m\u001b[1;39;49m]\u001b[0m\u001b[39;49m To update, run: \u001b[0m\u001b[32;49mpip install --upgrade pip\u001b[0m\n",
          "output_type": "stream"
        }
      ],
      "outputs_reference": null,
      "execution_count": 1,
      "block_group": "f5848471b3b84c1fb90d3ceb28889cca",
      "content_dependencies": null
    },
    {
      "cell_type": "code",
      "source": "# Inisialisasi Firebase Admin SDK\ncred = credentials.Certificate('/work/database-sensor-iklim-litbang-firebase-admin.json')  # Sesuaikan dengan path file JSON\nfirebase_admin.initialize_app(cred, {\n    'databaseURL': 'https://database-sensor-iklim-litbang-default-rtdb.asia-southeast1.firebasedatabase.app/'  # Ganti dengan URL Firebase RTDB kamu\n})",
      "metadata": {
        "source_hash": "231ef031",
        "execution_start": 1731209695718,
        "execution_millis": 132,
        "execution_context_id": "c3e5d6bc-e442-4d0e-adc3-c611a39d3474",
        "deepnote_app_block_visible": true,
        "cell_id": "57f32af2575a46a6bd43fc254e1b6e43",
        "deepnote_cell_type": "code"
      },
      "outputs": [
        {
          "output_type": "execute_result",
          "execution_count": 2,
          "data": {
            "text/plain": "<firebase_admin.App at 0x7fe75e563a90>"
          },
          "metadata": {}
        }
      ],
      "outputs_reference": null,
      "execution_count": 2,
      "block_group": "61796429274747ccb7c96c40d229f11d",
      "content_dependencies": null
    },
    {
      "cell_type": "code",
      "source": "# Referensi ke Firebase RTDB\nref = db.reference('auto_weather_stat/id-02/metadata')\n\n# Data yang akan ditambahkan ke metadata\nnew_metadata = {\n    'name': 'Stasiun Iklim Lumbu',\n    'location': 'Lumbu, Kutowinangun, Kebumen, Indonesia',\n    'description': 'Stasiun penelitian',\n    'sensor_type': 'SHT40',\n    'installation_date': '2023-01-15'\n}\n\n# Tambahkan data metadata ke Firebase\nref.update(new_metadata)\nprint(\"Metadata berhasil ditambahkan.\")\n",
      "metadata": {
        "source_hash": "189bc59b",
        "execution_start": 1731210639698,
        "execution_millis": 213,
        "execution_context_id": "c3e5d6bc-e442-4d0e-adc3-c611a39d3474",
        "deepnote_app_block_visible": true,
        "cell_id": "a06276369ee84db7a89aa7a82c06cf34",
        "deepnote_cell_type": "code"
      },
      "outputs": [
        {
          "name": "stdout",
          "text": "Metadata berhasil ditambahkan.\n",
          "output_type": "stream"
        }
      ],
      "outputs_reference": null,
      "execution_count": 12,
      "block_group": "7f900ceeb04949da9db6bc80622d21f8",
      "content_dependencies": null
    },
    {
      "cell_type": "code",
      "source": "!pip install firebase-admin\nimport firebase_admin\nfrom firebase_admin import credentials, db\nfrom datetime import datetime  # Untuk konversi timestamp ke human-readable",
      "metadata": {
        "deepnote_app_block_visible": true,
        "cell_id": "e5f9ad0f00974c7687b624e0332f9f13",
        "deepnote_cell_type": "code"
      },
      "outputs": [],
      "outputs_reference": null,
      "execution_count": null,
      "block_group": "50bec3bedf0c4d5ba2eb6ff344d623f8",
      "content_dependencies": null
    },
    {
      "cell_type": "code",
      "source": "# Inisialisasi Firebase Admin SDK\ncred = credentials.Certificate('/work/staklimjerukagung-firebase-admin.json')  # Sesuaikan dengan path file JSON\nfirebase_admin.initialize_app(cred, {\n    'databaseURL': 'https://staklimjerukagung-default-rtdb.asia-southeast1.firebasedatabase.app/'  # Ganti dengan URL Firebase RTDB kamu\n})",
      "metadata": {
        "deepnote_app_block_visible": true,
        "cell_id": "9b0fee56503e4288aacd2cffd86cb49c",
        "deepnote_cell_type": "code"
      },
      "outputs": [],
      "outputs_reference": null,
      "execution_count": null,
      "block_group": "454f9619cd324391a05bc4f52e4ff4bf",
      "content_dependencies": null
    },
    {
      "cell_type": "markdown",
      "source": "<a style='text-decoration:none;line-height:16px;display:flex;color:#5B5B62;padding:10px;justify-content:end;' href='https://deepnote.com?utm_source=created-in-deepnote-cell&projectId=200afad5-8991-4e20-8a55-8751c7aff3b5' target=\"_blank\">\n<img alt='Created in deepnote.com' style='display:inline;max-height:16px;margin:0px;margin-right:7.5px;' src='data:image/svg+xml;base64,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' > </img>\nCreated in <span style='font-weight:600;margin-left:4px;'>Deepnote</span></a>",
      "metadata": {
        "created_in_deepnote_cell": true,
        "deepnote_cell_type": "markdown"
      }
    }
  ],
  "nbformat": 4,
  "nbformat_minor": 0,
  "metadata": {
    "deepnote_app_layout": "powerful-article",
    "deepnote_app_reactivity_enabled": true,
    "deepnote_notebook_id": "deb1dce7320e4dddaa343bb146dc6c91"
  }
}