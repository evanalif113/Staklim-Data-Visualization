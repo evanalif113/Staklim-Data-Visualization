{
  "cells": [
    {
      "cell_type": "code",
      "source": "!pip install firebase-admin\nimport firebase_admin\nfrom firebase_admin import credentials, db\nfrom datetime import datetime  # Untuk konversi timestamp ke human-readable\nimport pandas as pd\nimport matplotlib.pyplot as plt",
      "metadata": {
        "source_hash": "426c264b",
        "execution_start": 1735998312802,
        "execution_millis": 2939,
        "execution_context_id": "8657516c-233b-47f9-9d7c-9b083efbe464",
        "cell_id": "574dd1b156d147c09cccaf8b497a890b",
        "deepnote_cell_type": "code"
      },
      "outputs": [
        {
          "name": "stdout",
          "text": "Requirement already satisfied: firebase-admin in /root/venv/lib/python3.11/site-packages (6.6.0)\nRequirement already satisfied: cachecontrol>=0.12.14 in /root/venv/lib/python3.11/site-packages (from firebase-admin) (0.14.1)\nRequirement already satisfied: google-api-python-client>=1.7.8 in /root/venv/lib/python3.11/site-packages (from firebase-admin) (2.157.0)\nRequirement already satisfied: google-cloud-storage>=1.37.1 in /root/venv/lib/python3.11/site-packages (from firebase-admin) (2.19.0)\nRequirement already satisfied: pyjwt>=2.5.0 in /root/venv/lib/python3.11/site-packages (from pyjwt[crypto]>=2.5.0->firebase-admin) (2.10.1)\nRequirement already satisfied: google-api-core<3.0.0dev,>=1.22.1 in /toolkit-cache/0.2.0/python3.11/kernel-libs/lib/python3.11/site-packages (from google-api-core[grpc]<3.0.0dev,>=1.22.1; platform_python_implementation != \"PyPy\"->firebase-admin) (2.19.2)\nRequirement already satisfied: google-cloud-firestore>=2.19.0 in /root/venv/lib/python3.11/site-packages (from firebase-admin) (2.19.0)\nRequirement already satisfied: requests>=2.16.0 in /root/venv/lib/python3.11/site-packages (from cachecontrol>=0.12.14->firebase-admin) (2.32.3)\nRequirement already satisfied: msgpack<2.0.0,>=0.5.2 in /root/venv/lib/python3.11/site-packages (from cachecontrol>=0.12.14->firebase-admin) (1.1.0)\nRequirement already satisfied: googleapis-common-protos<2.0.dev0,>=1.56.2 in /toolkit-cache/0.2.0/python3.11/kernel-libs/lib/python3.11/site-packages (from google-api-core<3.0.0dev,>=1.22.1->google-api-core[grpc]<3.0.0dev,>=1.22.1; platform_python_implementation != \"PyPy\"->firebase-admin) (1.65.0)\nRequirement already satisfied: protobuf!=3.20.0,!=3.20.1,!=4.21.0,!=4.21.1,!=4.21.2,!=4.21.3,!=4.21.4,!=4.21.5,<6.0.0.dev0,>=3.19.5 in /root/venv/lib/python3.11/site-packages (from google-api-core<3.0.0dev,>=1.22.1->google-api-core[grpc]<3.0.0dev,>=1.22.1; platform_python_implementation != \"PyPy\"->firebase-admin) (4.25.5)\nRequirement already satisfied: proto-plus<2.0.0dev,>=1.22.3 in /toolkit-cache/0.2.0/python3.11/kernel-libs/lib/python3.11/site-packages (from google-api-core<3.0.0dev,>=1.22.1->google-api-core[grpc]<3.0.0dev,>=1.22.1; platform_python_implementation != \"PyPy\"->firebase-admin) (1.24.0)\nRequirement already satisfied: google-auth<3.0.dev0,>=2.14.1 in /root/venv/lib/python3.11/site-packages (from google-api-core<3.0.0dev,>=1.22.1->google-api-core[grpc]<3.0.0dev,>=1.22.1; platform_python_implementation != \"PyPy\"->firebase-admin) (2.37.0)\nRequirement already satisfied: grpcio<2.0dev,>=1.33.2 in /root/venv/lib/python3.11/site-packages (from google-api-core[grpc]<3.0.0dev,>=1.22.1; platform_python_implementation != \"PyPy\"->firebase-admin) (1.68.1)\nRequirement already satisfied: grpcio-status<2.0.dev0,>=1.33.2 in /toolkit-cache/0.2.0/python3.11/kernel-libs/lib/python3.11/site-packages (from google-api-core[grpc]<3.0.0dev,>=1.22.1; platform_python_implementation != \"PyPy\"->firebase-admin) (1.62.3)\nRequirement already satisfied: httplib2<1.dev0,>=0.19.0 in /root/venv/lib/python3.11/site-packages (from google-api-python-client>=1.7.8->firebase-admin) (0.22.0)\nRequirement already satisfied: google-auth-httplib2<1.0.0,>=0.2.0 in /root/venv/lib/python3.11/site-packages (from google-api-python-client>=1.7.8->firebase-admin) (0.2.0)\nRequirement already satisfied: uritemplate<5,>=3.0.1 in /root/venv/lib/python3.11/site-packages (from google-api-python-client>=1.7.8->firebase-admin) (4.1.1)\nRequirement already satisfied: google-cloud-core<3.0.0dev,>=1.4.1 in /toolkit-cache/0.2.0/python3.11/kernel-libs/lib/python3.11/site-packages (from google-cloud-firestore>=2.19.0->firebase-admin) (2.4.1)\nRequirement already satisfied: google-resumable-media>=2.7.2 in /toolkit-cache/0.2.0/python3.11/kernel-libs/lib/python3.11/site-packages (from google-cloud-storage>=1.37.1->firebase-admin) (2.7.2)\nRequirement already satisfied: google-crc32c<2.0dev,>=1.0 in /toolkit-cache/0.2.0/python3.11/kernel-libs/lib/python3.11/site-packages (from google-cloud-storage>=1.37.1->firebase-admin) (1.5.0)\nRequirement already satisfied: cryptography>=3.4.0 in /root/venv/lib/python3.11/site-packages (from pyjwt[crypto]>=2.5.0->firebase-admin) (43.0.3)\nRequirement already satisfied: cffi>=1.12 in /root/venv/lib/python3.11/site-packages (from cryptography>=3.4.0->pyjwt[crypto]>=2.5.0->firebase-admin) (1.17.1)\nRequirement already satisfied: cachetools<6.0,>=2.0.0 in /root/venv/lib/python3.11/site-packages (from google-auth<3.0.dev0,>=2.14.1->google-api-core<3.0.0dev,>=1.22.1->google-api-core[grpc]<3.0.0dev,>=1.22.1; platform_python_implementation != \"PyPy\"->firebase-admin) (5.5.0)\nRequirement already satisfied: pyasn1-modules>=0.2.1 in /root/venv/lib/python3.11/site-packages (from google-auth<3.0.dev0,>=2.14.1->google-api-core<3.0.0dev,>=1.22.1->google-api-core[grpc]<3.0.0dev,>=1.22.1; platform_python_implementation != \"PyPy\"->firebase-admin) (0.4.1)\nRequirement already satisfied: rsa<5,>=3.1.4 in /root/venv/lib/python3.11/site-packages (from google-auth<3.0.dev0,>=2.14.1->google-api-core<3.0.0dev,>=1.22.1->google-api-core[grpc]<3.0.0dev,>=1.22.1; platform_python_implementation != \"PyPy\"->firebase-admin) (4.9)\nRequirement already satisfied: pyparsing!=3.0.0,!=3.0.1,!=3.0.2,!=3.0.3,<4,>=2.4.2 in /root/venv/lib/python3.11/site-packages (from httplib2<1.dev0,>=0.19.0->google-api-python-client>=1.7.8->firebase-admin) (3.2.0)\nRequirement already satisfied: charset-normalizer<4,>=2 in /root/venv/lib/python3.11/site-packages (from requests>=2.16.0->cachecontrol>=0.12.14->firebase-admin) (3.4.0)\nRequirement already satisfied: idna<4,>=2.5 in /root/venv/lib/python3.11/site-packages (from requests>=2.16.0->cachecontrol>=0.12.14->firebase-admin) (3.10)\nRequirement already satisfied: urllib3<3,>=1.21.1 in /root/venv/lib/python3.11/site-packages (from requests>=2.16.0->cachecontrol>=0.12.14->firebase-admin) (2.2.3)\nRequirement already satisfied: certifi>=2017.4.17 in /root/venv/lib/python3.11/site-packages (from requests>=2.16.0->cachecontrol>=0.12.14->firebase-admin) (2024.12.14)\nRequirement already satisfied: pycparser in /root/venv/lib/python3.11/site-packages (from cffi>=1.12->cryptography>=3.4.0->pyjwt[crypto]>=2.5.0->firebase-admin) (2.22)\nRequirement already satisfied: pyasn1<0.7.0,>=0.4.6 in /root/venv/lib/python3.11/site-packages (from pyasn1-modules>=0.2.1->google-auth<3.0.dev0,>=2.14.1->google-api-core<3.0.0dev,>=1.22.1->google-api-core[grpc]<3.0.0dev,>=1.22.1; platform_python_implementation != \"PyPy\"->firebase-admin) (0.6.1)\n\n\u001b[1m[\u001b[0m\u001b[34;49mnotice\u001b[0m\u001b[1;39;49m]\u001b[0m\u001b[39;49m A new release of pip is available: \u001b[0m\u001b[31;49m24.0\u001b[0m\u001b[39;49m -> \u001b[0m\u001b[32;49m24.3.1\u001b[0m\n\u001b[1m[\u001b[0m\u001b[34;49mnotice\u001b[0m\u001b[1;39;49m]\u001b[0m\u001b[39;49m To update, run: \u001b[0m\u001b[32;49mpip install --upgrade pip\u001b[0m\n",
          "output_type": "stream"
        }
      ],
      "outputs_reference": null,
      "execution_count": 1,
      "block_group": "574dd1b156d147c09cccaf8b497a890b",
      "content_dependencies": null
    },
    {
      "cell_type": "code",
      "source": "# Konfigurasi database tujuan\ndest_cred = credentials.Certificate(\"/work/staklimjerukagung-firebase-admin.json\")\ndest_app = firebase_admin.initialize_app(dest_cred, {\n    'databaseURL': 'https://staklimjerukagung-default-rtdb.asia-southeast1.firebasedatabase.app/'\n})",
      "metadata": {
        "source_hash": "3a3123b1",
        "execution_start": 1735998315790,
        "execution_millis": 95,
        "execution_context_id": "8657516c-233b-47f9-9d7c-9b083efbe464",
        "cell_id": "ce8ae8bb90694308b6f5cfb7ef059830",
        "deepnote_cell_type": "code"
      },
      "outputs": [],
      "outputs_reference": null,
      "execution_count": 2,
      "block_group": "f7f119f3ce8c4b0eb7b66ce44104da6b",
      "content_dependencies": null
    },
    {
      "cell_type": "code",
      "source": "# Referensi ke data sumber\nsource_ref = db.reference('/auto_weather_stat/id-03/data')\n\n# Mengambil data dari database sumber\nsource_data = source_ref.get()\n\n# Mengubah data menjadi DataFrame pandas\nif source_data:\n    # Mengubah data menjadi DataFrame\n    df = pd.DataFrame.from_dict(source_data, orient='index')\n    \n    # Jika 'timestamp' sudah ada, jangan pindahkan indeks ke kolom\n    if 'timestamp' not in df.columns:\n        df.index.name = 'timestamp'  # Mengatur nama indeks\n        df.reset_index(inplace=True)  # Memindahkan indeks menjadi kolom biasa\n    \n    print(df.tail())  # Menampilkan data untuk verifikasi\nelse:\n    print(\"Tidak ada data di jalur /auto_weather_stat/id-03/data.\")",
      "metadata": {
        "source_hash": "982023e",
        "execution_start": 1735998315939,
        "execution_millis": 39356,
        "execution_context_id": "8657516c-233b-47f9-9d7c-9b083efbe464",
        "cell_id": "95d5d2b2cace447bbf5e5092e80077a2",
        "deepnote_cell_type": "code"
      },
      "outputs": [
        {
          "name": "stdout",
          "text": "                 dew humidity pressure temperature   timestamp  volt\n1735998046    25.318    98.28  1011.49       25.61  1735998046  4.07\n1735998106  25.30289    98.25   1011.5        25.6  1735998106  4.07\n1735998166  25.28122    98.24  1011.53       25.58  1735998166  4.08\n1735998226  25.30118    98.24   1011.5        25.6  1735998226  4.07\n1735998286  25.29462    98.26  1011.52       25.59  1735998286  4.07\n",
          "output_type": "stream"
        }
      ],
      "outputs_reference": null,
      "execution_count": 3,
      "block_group": "7368fc5c76074c519fdc27131078da2c",
      "content_dependencies": null
    },
    {
      "cell_type": "code",
      "source": "df.tail(10)",
      "metadata": {
        "source_hash": "cdee9e9d",
        "execution_start": 1735998355359,
        "execution_millis": 1,
        "execution_context_id": "8657516c-233b-47f9-9d7c-9b083efbe464",
        "cell_id": "67ae91a8ec63464b97af3954200235f8",
        "deepnote_cell_type": "code"
      },
      "outputs": [
        {
          "output_type": "execute_result",
          "execution_count": 4,
          "data": {
            "application/vnd.deepnote.dataframe.v3+json": {
              "column_count": 6,
              "row_count": 10,
              "columns": [
                {
                  "name": "dew",
                  "dtype": "object",
                  "stats": {
                    "unique_count": 10,
                    "nan_count": 0,
                    "categories": [
                      {
                        "name": "25.34793",
                        "count": 1
                      },
                      {
                        "name": "25.36133",
                        "count": 1
                      },
                      {
                        "name": "8 others",
                        "count": 8
                      }
                    ]
                  }
                },
                {
                  "name": "humidity",
                  "dtype": "object",
                  "stats": {
                    "unique_count": 5,
                    "nan_count": 0,
                    "categories": [
                      {
                        "name": "98.28",
                        "count": 3
                      },
                      {
                        "name": "98.3",
                        "count": 3
                      },
                      {
                        "name": "3 others",
                        "count": 4
                      }
                    ]
                  }
                },
                {
                  "name": "pressure",
                  "dtype": "object",
                  "stats": {
                    "unique_count": 8,
                    "nan_count": 0,
                    "categories": [
                      {
                        "name": "1011.5",
                        "count": 3
                      },
                      {
                        "name": "1011.46",
                        "count": 1
                      },
                      {
                        "name": "6 others",
                        "count": 6
                      }
                    ]
                  }
                },
                {
                  "name": "temperature",
                  "dtype": "object",
                  "stats": {
                    "unique_count": 7,
                    "nan_count": 0,
                    "categories": [
                      {
                        "name": "25.64",
                        "count": 2
                      },
                      {
                        "name": "25.63",
                        "count": 2
                      },
                      {
                        "name": "5 others",
                        "count": 6
                      }
                    ]
                  }
                },
                {
                  "name": "timestamp",
                  "dtype": "object",
                  "stats": {
                    "unique_count": 10,
                    "nan_count": 0,
                    "categories": [
                      {
                        "name": "1735997746",
                        "count": 1
                      },
                      {
                        "name": "1735997806",
                        "count": 1
                      },
                      {
                        "name": "8 others",
                        "count": 8
                      }
                    ]
                  }
                },
                {
                  "name": "volt",
                  "dtype": "object",
                  "stats": {
                    "unique_count": 2,
                    "nan_count": 0,
                    "categories": [
                      {
                        "name": "4.07",
                        "count": 8
                      },
                      {
                        "name": "4.08",
                        "count": 2
                      }
                    ]
                  }
                },
                {
                  "name": "_deepnote_index_column",
                  "dtype": "object"
                }
              ],
              "rows": [
                {
                  "dew": "25.34793",
                  "humidity": "98.28",
                  "pressure": "1011.46",
                  "temperature": "25.64",
                  "timestamp": "1735997746",
                  "volt": "4.07",
                  "_deepnote_index_column": "1735997746"
                },
                {
                  "dew": "25.36133",
                  "humidity": "98.3",
                  "pressure": "1011.45",
                  "temperature": "25.65",
                  "timestamp": "1735997806",
                  "volt": "4.08",
                  "_deepnote_index_column": "1735997806"
                },
                {
                  "dew": "25.33796",
                  "humidity": "98.28",
                  "pressure": "1011.44",
                  "temperature": "25.63",
                  "timestamp": "1735997866",
                  "volt": "4.07",
                  "_deepnote_index_column": "1735997866"
                },
                {
                  "dew": "25.34138",
                  "humidity": "98.3",
                  "pressure": "1011.48",
                  "temperature": "25.63",
                  "timestamp": "1735997926",
                  "volt": "4.07",
                  "_deepnote_index_column": "1735997926"
                },
                {
                  "dew": "25.35136",
                  "humidity": "98.3",
                  "pressure": "1011.5",
                  "temperature": "25.64",
                  "timestamp": "1735997986",
                  "volt": "4.07",
                  "_deepnote_index_column": "1735997986"
                },
                {
                  "dew": "25.318",
                  "humidity": "98.28",
                  "pressure": "1011.49",
                  "temperature": "25.61",
                  "timestamp": "1735998046",
                  "volt": "4.07",
                  "_deepnote_index_column": "1735998046"
                },
                {
                  "dew": "25.30289",
                  "humidity": "98.25",
                  "pressure": "1011.5",
                  "temperature": "25.6",
                  "timestamp": "1735998106",
                  "volt": "4.07",
                  "_deepnote_index_column": "1735998106"
                },
                {
                  "dew": "25.28122",
                  "humidity": "98.24",
                  "pressure": "1011.53",
                  "temperature": "25.58",
                  "timestamp": "1735998166",
                  "volt": "4.08",
                  "_deepnote_index_column": "1735998166"
                },
                {
                  "dew": "25.30118",
                  "humidity": "98.24",
                  "pressure": "1011.5",
                  "temperature": "25.6",
                  "timestamp": "1735998226",
                  "volt": "4.07",
                  "_deepnote_index_column": "1735998226"
                },
                {
                  "dew": "25.29462",
                  "humidity": "98.26",
                  "pressure": "1011.52",
                  "temperature": "25.59",
                  "timestamp": "1735998286",
                  "volt": "4.07",
                  "_deepnote_index_column": "1735998286"
                }
              ]
            },
            "text/plain": "                 dew humidity pressure temperature   timestamp  volt\n1735997746  25.34793    98.28  1011.46       25.64  1735997746  4.07\n1735997806  25.36133     98.3  1011.45       25.65  1735997806  4.08\n1735997866  25.33796    98.28  1011.44       25.63  1735997866  4.07\n1735997926  25.34138     98.3  1011.48       25.63  1735997926  4.07\n1735997986  25.35136     98.3   1011.5       25.64  1735997986  4.07\n1735998046    25.318    98.28  1011.49       25.61  1735998046  4.07\n1735998106  25.30289    98.25   1011.5        25.6  1735998106  4.07\n1735998166  25.28122    98.24  1011.53       25.58  1735998166  4.08\n1735998226  25.30118    98.24   1011.5        25.6  1735998226  4.07\n1735998286  25.29462    98.26  1011.52       25.59  1735998286  4.07",
            "text/html": "<div>\n<style scoped>\n    .dataframe tbody tr th:only-of-type {\n        vertical-align: middle;\n    }\n\n    .dataframe tbody tr th {\n        vertical-align: top;\n    }\n\n    .dataframe thead th {\n        text-align: right;\n    }\n</style>\n<table border=\"1\" class=\"dataframe\">\n  <thead>\n    <tr style=\"text-align: right;\">\n      <th></th>\n      <th>dew</th>\n      <th>humidity</th>\n      <th>pressure</th>\n      <th>temperature</th>\n      <th>timestamp</th>\n      <th>volt</th>\n    </tr>\n  </thead>\n  <tbody>\n    <tr>\n      <th>1735997746</th>\n      <td>25.34793</td>\n      <td>98.28</td>\n      <td>1011.46</td>\n      <td>25.64</td>\n      <td>1735997746</td>\n      <td>4.07</td>\n    </tr>\n    <tr>\n      <th>1735997806</th>\n      <td>25.36133</td>\n      <td>98.3</td>\n      <td>1011.45</td>\n      <td>25.65</td>\n      <td>1735997806</td>\n      <td>4.08</td>\n    </tr>\n    <tr>\n      <th>1735997866</th>\n      <td>25.33796</td>\n      <td>98.28</td>\n      <td>1011.44</td>\n      <td>25.63</td>\n      <td>1735997866</td>\n      <td>4.07</td>\n    </tr>\n    <tr>\n      <th>1735997926</th>\n      <td>25.34138</td>\n      <td>98.3</td>\n      <td>1011.48</td>\n      <td>25.63</td>\n      <td>1735997926</td>\n      <td>4.07</td>\n    </tr>\n    <tr>\n      <th>1735997986</th>\n      <td>25.35136</td>\n      <td>98.3</td>\n      <td>1011.5</td>\n      <td>25.64</td>\n      <td>1735997986</td>\n      <td>4.07</td>\n    </tr>\n    <tr>\n      <th>1735998046</th>\n      <td>25.318</td>\n      <td>98.28</td>\n      <td>1011.49</td>\n      <td>25.61</td>\n      <td>1735998046</td>\n      <td>4.07</td>\n    </tr>\n    <tr>\n      <th>1735998106</th>\n      <td>25.30289</td>\n      <td>98.25</td>\n      <td>1011.5</td>\n      <td>25.6</td>\n      <td>1735998106</td>\n      <td>4.07</td>\n    </tr>\n    <tr>\n      <th>1735998166</th>\n      <td>25.28122</td>\n      <td>98.24</td>\n      <td>1011.53</td>\n      <td>25.58</td>\n      <td>1735998166</td>\n      <td>4.08</td>\n    </tr>\n    <tr>\n      <th>1735998226</th>\n      <td>25.30118</td>\n      <td>98.24</td>\n      <td>1011.5</td>\n      <td>25.6</td>\n      <td>1735998226</td>\n      <td>4.07</td>\n    </tr>\n    <tr>\n      <th>1735998286</th>\n      <td>25.29462</td>\n      <td>98.26</td>\n      <td>1011.52</td>\n      <td>25.59</td>\n      <td>1735998286</td>\n      <td>4.07</td>\n    </tr>\n  </tbody>\n</table>\n</div>"
          },
          "metadata": {}
        }
      ],
      "outputs_reference": null,
      "execution_count": 4,
      "block_group": "fb122b4d76c448389c8eb2ec44a69e20",
      "content_dependencies": null
    },
    {
      "cell_type": "code",
      "source": "# Plot line chart\ndata.plot(y=['temp', 'dwpt', 'rhum', 'wdir', 'wspd', 'pres', 'tsun', 'coco', 'prcp'], subplots=True, figsize=(10, 15))\nplt.show()",
      "metadata": {
        "source_hash": "b42a07b9",
        "execution_start": 1735998355411,
        "execution_millis": 354,
        "execution_context_id": "8657516c-233b-47f9-9d7c-9b083efbe464",
        "cell_id": "92edad2089aa40ebb1f0ddbbca0897e7",
        "deepnote_cell_type": "code"
      },
      "outputs": [
        {
          "output_type": "error",
          "ename": "NameError",
          "evalue": "name 'data' is not defined",
          "traceback": [
            "\u001b[0;31m---------------------------------------------------------------------------\u001b[0m",
            "\u001b[0;31mNameError\u001b[0m                                 Traceback (most recent call last)",
            "Cell \u001b[0;32mIn[5], line 2\u001b[0m\n\u001b[1;32m      1\u001b[0m \u001b[38;5;66;03m# Plot line chart\u001b[39;00m\n\u001b[0;32m----> 2\u001b[0m \u001b[43mdata\u001b[49m\u001b[38;5;241m.\u001b[39mplot(y\u001b[38;5;241m=\u001b[39m[\u001b[38;5;124m'\u001b[39m\u001b[38;5;124mtemp\u001b[39m\u001b[38;5;124m'\u001b[39m, \u001b[38;5;124m'\u001b[39m\u001b[38;5;124mdwpt\u001b[39m\u001b[38;5;124m'\u001b[39m, \u001b[38;5;124m'\u001b[39m\u001b[38;5;124mrhum\u001b[39m\u001b[38;5;124m'\u001b[39m, \u001b[38;5;124m'\u001b[39m\u001b[38;5;124mwdir\u001b[39m\u001b[38;5;124m'\u001b[39m, \u001b[38;5;124m'\u001b[39m\u001b[38;5;124mwspd\u001b[39m\u001b[38;5;124m'\u001b[39m, \u001b[38;5;124m'\u001b[39m\u001b[38;5;124mpres\u001b[39m\u001b[38;5;124m'\u001b[39m, \u001b[38;5;124m'\u001b[39m\u001b[38;5;124mtsun\u001b[39m\u001b[38;5;124m'\u001b[39m, \u001b[38;5;124m'\u001b[39m\u001b[38;5;124mcoco\u001b[39m\u001b[38;5;124m'\u001b[39m, \u001b[38;5;124m'\u001b[39m\u001b[38;5;124mprcp\u001b[39m\u001b[38;5;124m'\u001b[39m], subplots\u001b[38;5;241m=\u001b[39m\u001b[38;5;28;01mTrue\u001b[39;00m, figsize\u001b[38;5;241m=\u001b[39m(\u001b[38;5;241m10\u001b[39m, \u001b[38;5;241m15\u001b[39m))\n\u001b[1;32m      3\u001b[0m plt\u001b[38;5;241m.\u001b[39mshow()\n",
            "\u001b[0;31mNameError\u001b[0m: name 'data' is not defined"
          ]
        }
      ],
      "outputs_reference": null,
      "execution_count": 5,
      "block_group": "9108cb59678642e3b0a4220a55d887c2",
      "content_dependencies": null
    },
    {
      "cell_type": "markdown",
      "source": "<a style='text-decoration:none;line-height:16px;display:flex;color:#5B5B62;padding:10px;justify-content:end;' href='https://deepnote.com?utm_source=created-in-deepnote-cell&projectId=200afad5-8991-4e20-8a55-8751c7aff3b5' target=\"_blank\">\n<img alt='Created in deepnote.com' style='display:inline;max-height:16px;margin:0px;margin-right:7.5px;' src='data:image/svg+xml;base64,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' > </img>\nCreated in <span style='font-weight:600;margin-left:4px;'>Deepnote</span></a>",
      "metadata": {
        "created_in_deepnote_cell": true,
        "deepnote_cell_type": "markdown"
      }
    }
  ],
  "nbformat": 4,
  "nbformat_minor": 0,
  "metadata": {
    "deepnote_notebook_id": "a4f24fa410a74d1f8a65bb27ea911fa8"
  }
}