{
  "cells": [
    {
      "cell_type": "code",
      "source": "!pip install firebase-admin\nimport firebase_admin\nfrom firebase_admin import credentials, db\nfrom datetime import datetime  # Untuk konversi timestamp ke human-readable\nimport pandas as pd",
      "metadata": {
        "source_hash": "7a7ac4cd",
        "execution_start": 1735994340078,
        "execution_millis": 2711,
        "execution_context_id": "5931e734-cf66-4717-a19d-6ac16191cfd1",
        "cell_id": "574dd1b156d147c09cccaf8b497a890b",
        "deepnote_cell_type": "code"
      },
      "outputs": [
        {
          "name": "stdout",
          "text": "Requirement already satisfied: firebase-admin in /root/venv/lib/python3.11/site-packages (6.6.0)\nRequirement already satisfied: cachecontrol>=0.12.14 in /root/venv/lib/python3.11/site-packages (from firebase-admin) (0.14.1)\nRequirement already satisfied: google-api-python-client>=1.7.8 in /root/venv/lib/python3.11/site-packages (from firebase-admin) (2.157.0)\nRequirement already satisfied: google-cloud-storage>=1.37.1 in /root/venv/lib/python3.11/site-packages (from firebase-admin) (2.19.0)\nRequirement already satisfied: pyjwt>=2.5.0 in /root/venv/lib/python3.11/site-packages (from pyjwt[crypto]>=2.5.0->firebase-admin) (2.10.1)\nRequirement already satisfied: google-api-core<3.0.0dev,>=1.22.1 in /toolkit-cache/0.2.0/python3.11/kernel-libs/lib/python3.11/site-packages (from google-api-core[grpc]<3.0.0dev,>=1.22.1; platform_python_implementation != \"PyPy\"->firebase-admin) (2.19.2)\nRequirement already satisfied: google-cloud-firestore>=2.19.0 in /root/venv/lib/python3.11/site-packages (from firebase-admin) (2.19.0)\nRequirement already satisfied: requests>=2.16.0 in /root/venv/lib/python3.11/site-packages (from cachecontrol>=0.12.14->firebase-admin) (2.32.3)\nRequirement already satisfied: msgpack<2.0.0,>=0.5.2 in /root/venv/lib/python3.11/site-packages (from cachecontrol>=0.12.14->firebase-admin) (1.1.0)\nRequirement already satisfied: googleapis-common-protos<2.0.dev0,>=1.56.2 in /toolkit-cache/0.2.0/python3.11/kernel-libs/lib/python3.11/site-packages (from google-api-core<3.0.0dev,>=1.22.1->google-api-core[grpc]<3.0.0dev,>=1.22.1; platform_python_implementation != \"PyPy\"->firebase-admin) (1.65.0)\nRequirement already satisfied: protobuf!=3.20.0,!=3.20.1,!=4.21.0,!=4.21.1,!=4.21.2,!=4.21.3,!=4.21.4,!=4.21.5,<6.0.0.dev0,>=3.19.5 in /root/venv/lib/python3.11/site-packages (from google-api-core<3.0.0dev,>=1.22.1->google-api-core[grpc]<3.0.0dev,>=1.22.1; platform_python_implementation != \"PyPy\"->firebase-admin) (4.25.5)\nRequirement already satisfied: proto-plus<2.0.0dev,>=1.22.3 in /toolkit-cache/0.2.0/python3.11/kernel-libs/lib/python3.11/site-packages (from google-api-core<3.0.0dev,>=1.22.1->google-api-core[grpc]<3.0.0dev,>=1.22.1; platform_python_implementation != \"PyPy\"->firebase-admin) (1.24.0)\nRequirement already satisfied: google-auth<3.0.dev0,>=2.14.1 in /root/venv/lib/python3.11/site-packages (from google-api-core<3.0.0dev,>=1.22.1->google-api-core[grpc]<3.0.0dev,>=1.22.1; platform_python_implementation != \"PyPy\"->firebase-admin) (2.37.0)\nRequirement already satisfied: grpcio<2.0dev,>=1.33.2 in /root/venv/lib/python3.11/site-packages (from google-api-core[grpc]<3.0.0dev,>=1.22.1; platform_python_implementation != \"PyPy\"->firebase-admin) (1.68.1)\nRequirement already satisfied: grpcio-status<2.0.dev0,>=1.33.2 in /toolkit-cache/0.2.0/python3.11/kernel-libs/lib/python3.11/site-packages (from google-api-core[grpc]<3.0.0dev,>=1.22.1; platform_python_implementation != \"PyPy\"->firebase-admin) (1.62.3)\nRequirement already satisfied: httplib2<1.dev0,>=0.19.0 in /root/venv/lib/python3.11/site-packages (from google-api-python-client>=1.7.8->firebase-admin) (0.22.0)\nRequirement already satisfied: google-auth-httplib2<1.0.0,>=0.2.0 in /root/venv/lib/python3.11/site-packages (from google-api-python-client>=1.7.8->firebase-admin) (0.2.0)\nRequirement already satisfied: uritemplate<5,>=3.0.1 in /root/venv/lib/python3.11/site-packages (from google-api-python-client>=1.7.8->firebase-admin) (4.1.1)\nRequirement already satisfied: google-cloud-core<3.0.0dev,>=1.4.1 in /toolkit-cache/0.2.0/python3.11/kernel-libs/lib/python3.11/site-packages (from google-cloud-firestore>=2.19.0->firebase-admin) (2.4.1)\nRequirement already satisfied: google-resumable-media>=2.7.2 in /toolkit-cache/0.2.0/python3.11/kernel-libs/lib/python3.11/site-packages (from google-cloud-storage>=1.37.1->firebase-admin) (2.7.2)\nRequirement already satisfied: google-crc32c<2.0dev,>=1.0 in /toolkit-cache/0.2.0/python3.11/kernel-libs/lib/python3.11/site-packages (from google-cloud-storage>=1.37.1->firebase-admin) (1.5.0)\nRequirement already satisfied: cryptography>=3.4.0 in /root/venv/lib/python3.11/site-packages (from pyjwt[crypto]>=2.5.0->firebase-admin) (43.0.3)\nRequirement already satisfied: cffi>=1.12 in /root/venv/lib/python3.11/site-packages (from cryptography>=3.4.0->pyjwt[crypto]>=2.5.0->firebase-admin) (1.17.1)\nRequirement already satisfied: cachetools<6.0,>=2.0.0 in /root/venv/lib/python3.11/site-packages (from google-auth<3.0.dev0,>=2.14.1->google-api-core<3.0.0dev,>=1.22.1->google-api-core[grpc]<3.0.0dev,>=1.22.1; platform_python_implementation != \"PyPy\"->firebase-admin) (5.5.0)\nRequirement already satisfied: pyasn1-modules>=0.2.1 in /root/venv/lib/python3.11/site-packages (from google-auth<3.0.dev0,>=2.14.1->google-api-core<3.0.0dev,>=1.22.1->google-api-core[grpc]<3.0.0dev,>=1.22.1; platform_python_implementation != \"PyPy\"->firebase-admin) (0.4.1)\nRequirement already satisfied: rsa<5,>=3.1.4 in /root/venv/lib/python3.11/site-packages (from google-auth<3.0.dev0,>=2.14.1->google-api-core<3.0.0dev,>=1.22.1->google-api-core[grpc]<3.0.0dev,>=1.22.1; platform_python_implementation != \"PyPy\"->firebase-admin) (4.9)\nRequirement already satisfied: pyparsing!=3.0.0,!=3.0.1,!=3.0.2,!=3.0.3,<4,>=2.4.2 in /root/venv/lib/python3.11/site-packages (from httplib2<1.dev0,>=0.19.0->google-api-python-client>=1.7.8->firebase-admin) (3.2.0)\nRequirement already satisfied: charset-normalizer<4,>=2 in /root/venv/lib/python3.11/site-packages (from requests>=2.16.0->cachecontrol>=0.12.14->firebase-admin) (3.4.0)\nRequirement already satisfied: idna<4,>=2.5 in /root/venv/lib/python3.11/site-packages (from requests>=2.16.0->cachecontrol>=0.12.14->firebase-admin) (3.10)\nRequirement already satisfied: urllib3<3,>=1.21.1 in /root/venv/lib/python3.11/site-packages (from requests>=2.16.0->cachecontrol>=0.12.14->firebase-admin) (2.2.3)\nRequirement already satisfied: certifi>=2017.4.17 in /root/venv/lib/python3.11/site-packages (from requests>=2.16.0->cachecontrol>=0.12.14->firebase-admin) (2024.12.14)\nRequirement already satisfied: pycparser in /root/venv/lib/python3.11/site-packages (from cffi>=1.12->cryptography>=3.4.0->pyjwt[crypto]>=2.5.0->firebase-admin) (2.22)\nRequirement already satisfied: pyasn1<0.7.0,>=0.4.6 in /root/venv/lib/python3.11/site-packages (from pyasn1-modules>=0.2.1->google-auth<3.0.dev0,>=2.14.1->google-api-core<3.0.0dev,>=1.22.1->google-api-core[grpc]<3.0.0dev,>=1.22.1; platform_python_implementation != \"PyPy\"->firebase-admin) (0.6.1)\n\n\u001b[1m[\u001b[0m\u001b[34;49mnotice\u001b[0m\u001b[1;39;49m]\u001b[0m\u001b[39;49m A new release of pip is available: \u001b[0m\u001b[31;49m24.0\u001b[0m\u001b[39;49m -> \u001b[0m\u001b[32;49m24.3.1\u001b[0m\n\u001b[1m[\u001b[0m\u001b[34;49mnotice\u001b[0m\u001b[1;39;49m]\u001b[0m\u001b[39;49m To update, run: \u001b[0m\u001b[32;49mpip install --upgrade pip\u001b[0m\n",
          "output_type": "stream"
        }
      ],
      "outputs_reference": null,
      "execution_count": 1,
      "block_group": "574dd1b156d147c09cccaf8b497a890b",
      "content_dependencies": null
    },
    {
      "cell_type": "code",
      "source": "# Konfigurasi database tujuan\ndest_cred = credentials.Certificate(\"/work/staklimjerukagung-firebase-admin.json\")\ndest_app = firebase_admin.initialize_app(dest_cred, {\n    'databaseURL': 'https://staklimjerukagung-default-rtdb.asia-southeast1.firebasedatabase.app/'\n})",
      "metadata": {
        "source_hash": "3a3123b1",
        "execution_start": 1735994589642,
        "execution_millis": 156,
        "execution_context_id": "5931e734-cf66-4717-a19d-6ac16191cfd1",
        "cell_id": "ce8ae8bb90694308b6f5cfb7ef059830",
        "deepnote_cell_type": "code"
      },
      "outputs": [],
      "outputs_reference": null,
      "execution_count": 5,
      "block_group": "f7f119f3ce8c4b0eb7b66ce44104da6b",
      "content_dependencies": null
    },
    {
      "cell_type": "code",
      "source": "# Referensi ke data sumber\nsource_ref = db.reference('/auto_weather_stat/id-03/data')\n\n# Mengambil data dari database sumber\nsource_data = source_ref.get()\n\n# Mengubah data menjadi DataFrame pandas\nif source_data:\n    # Mengubah data menjadi DataFrame\n    df = pd.DataFrame.from_dict(source_data, orient='index')\n    \n    # Jika 'timestamp' sudah ada, jangan pindahkan indeks ke kolom\n    if 'timestamp' not in df.columns:\n        df.index.name = 'timestamp'  # Mengatur nama indeks\n        df.reset_index(inplace=True)  # Memindahkan indeks menjadi kolom biasa\n    \n    print(df.head())  # Menampilkan data untuk verifikasi\nelse:\n    print(\"Tidak ada data di jalur /auto_weather_stat/id-03/data.\")",
      "metadata": {
        "source_hash": "9703047f",
        "execution_start": 1735994592535,
        "execution_millis": 37056,
        "execution_context_id": "5931e734-cf66-4717-a19d-6ac16191cfd1",
        "cell_id": "95d5d2b2cace447bbf5e5092e80077a2",
        "deepnote_cell_type": "code"
      },
      "outputs": [
        {
          "name": "stdout",
          "text": "              dew humidity pressure temperature   timestamp  volt\n0           26.71    73.76  1006.15       31.98           0  4.14\n1702296831  23.29    89.28  1010.72       25.18  1702296831  4.08\n1702296891  23.29    89.38  1010.75       25.16  1702296891  4.08\n1702296951  23.31    89.58  1010.76       25.14  1702296951  4.08\n1702297011  23.35    89.86  1010.82       25.13  1702297011  4.08\n",
          "output_type": "stream"
        }
      ],
      "outputs_reference": null,
      "execution_count": 7,
      "block_group": "7368fc5c76074c519fdc27131078da2c",
      "content_dependencies": null
    },
    {
      "cell_type": "code",
      "source": "",
      "metadata": {
        "cell_id": "67ae91a8ec63464b97af3954200235f8",
        "deepnote_cell_type": "code"
      },
      "outputs": [],
      "outputs_reference": null,
      "execution_count": null,
      "block_group": "fb122b4d76c448389c8eb2ec44a69e20",
      "content_dependencies": null
    },
    {
      "cell_type": "markdown",
      "source": "<a style='text-decoration:none;line-height:16px;display:flex;color:#5B5B62;padding:10px;justify-content:end;' href='https://deepnote.com?utm_source=created-in-deepnote-cell&projectId=200afad5-8991-4e20-8a55-8751c7aff3b5' target=\"_blank\">\n<img alt='Created in deepnote.com' style='display:inline;max-height:16px;margin:0px;margin-right:7.5px;' src='data:image/svg+xml;base64,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' > </img>\nCreated in <span style='font-weight:600;margin-left:4px;'>Deepnote</span></a>",
      "metadata": {
        "created_in_deepnote_cell": true,
        "deepnote_cell_type": "markdown"
      }
    }
  ],
  "nbformat": 4,
  "nbformat_minor": 0,
  "metadata": {
    "deepnote_notebook_id": "a4f24fa410a74d1f8a65bb27ea911fa8"
  }
}