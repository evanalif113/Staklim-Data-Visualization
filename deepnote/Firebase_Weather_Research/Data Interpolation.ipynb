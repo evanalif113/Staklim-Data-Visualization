{
  "cells": [
    {
      "cell_type": "code",
      "metadata": {
        "source_hash": "426c264b",
        "execution_start": 1740278752257,
        "execution_millis": 2761,
        "execution_context_id": "77a0548f-005c-42ab-94f0-6fb8ba2e678d",
        "cell_id": "574dd1b156d147c09cccaf8b497a890b",
        "deepnote_cell_type": "code"
      },
      "source": "!pip install firebase-admin\nimport firebase_admin\nfrom firebase_admin import credentials, db\nfrom datetime import datetime  # Untuk konversi timestamp ke human-readable\nimport pandas as pd\nimport matplotlib.pyplot as plt",
      "block_group": "574dd1b156d147c09cccaf8b497a890b",
      "execution_count": 12,
      "outputs": [
        {
          "name": "stdout",
          "text": "Requirement already satisfied: firebase-admin in /root/venv/lib/python3.11/site-packages (6.6.0)\nRequirement already satisfied: cachecontrol>=0.12.14 in /root/venv/lib/python3.11/site-packages (from firebase-admin) (0.14.2)\nRequirement already satisfied: google-api-python-client>=1.7.8 in /root/venv/lib/python3.11/site-packages (from firebase-admin) (2.161.0)\nRequirement already satisfied: google-cloud-storage>=1.37.1 in /root/venv/lib/python3.11/site-packages (from firebase-admin) (3.0.0)\nRequirement already satisfied: pyjwt>=2.5.0 in /root/venv/lib/python3.11/site-packages (from pyjwt[crypto]>=2.5.0->firebase-admin) (2.10.1)\nRequirement already satisfied: google-api-core<3.0.0dev,>=1.22.1 in /toolkit-cache/0.2.7/python3.11/kernel-libs/lib/python3.11/site-packages (from google-api-core[grpc]<3.0.0dev,>=1.22.1; platform_python_implementation != \"PyPy\"->firebase-admin) (2.19.2)\nRequirement already satisfied: google-cloud-firestore>=2.19.0 in /root/venv/lib/python3.11/site-packages (from firebase-admin) (2.20.0)\nRequirement already satisfied: requests>=2.16.0 in /root/venv/lib/python3.11/site-packages (from cachecontrol>=0.12.14->firebase-admin) (2.32.3)\nRequirement already satisfied: msgpack<2.0.0,>=0.5.2 in /root/venv/lib/python3.11/site-packages (from cachecontrol>=0.12.14->firebase-admin) (1.1.0)\nRequirement already satisfied: googleapis-common-protos<2.0.dev0,>=1.56.2 in /toolkit-cache/0.2.7/python3.11/kernel-libs/lib/python3.11/site-packages (from google-api-core<3.0.0dev,>=1.22.1->google-api-core[grpc]<3.0.0dev,>=1.22.1; platform_python_implementation != \"PyPy\"->firebase-admin) (1.65.0)\nRequirement already satisfied: protobuf!=3.20.0,!=3.20.1,!=4.21.0,!=4.21.1,!=4.21.2,!=4.21.3,!=4.21.4,!=4.21.5,<6.0.0.dev0,>=3.19.5 in /root/venv/lib/python3.11/site-packages (from google-api-core<3.0.0dev,>=1.22.1->google-api-core[grpc]<3.0.0dev,>=1.22.1; platform_python_implementation != \"PyPy\"->firebase-admin) (4.25.6)\nRequirement already satisfied: proto-plus<2.0.0dev,>=1.22.3 in /toolkit-cache/0.2.7/python3.11/kernel-libs/lib/python3.11/site-packages (from google-api-core<3.0.0dev,>=1.22.1->google-api-core[grpc]<3.0.0dev,>=1.22.1; platform_python_implementation != \"PyPy\"->firebase-admin) (1.24.0)\nRequirement already satisfied: google-auth<3.0.dev0,>=2.14.1 in /root/venv/lib/python3.11/site-packages (from google-api-core<3.0.0dev,>=1.22.1->google-api-core[grpc]<3.0.0dev,>=1.22.1; platform_python_implementation != \"PyPy\"->firebase-admin) (2.38.0)\nRequirement already satisfied: grpcio<2.0dev,>=1.33.2 in /root/venv/lib/python3.11/site-packages (from google-api-core[grpc]<3.0.0dev,>=1.22.1; platform_python_implementation != \"PyPy\"->firebase-admin) (1.70.0)\nRequirement already satisfied: grpcio-status<2.0.dev0,>=1.33.2 in /toolkit-cache/0.2.7/python3.11/kernel-libs/lib/python3.11/site-packages (from google-api-core[grpc]<3.0.0dev,>=1.22.1; platform_python_implementation != \"PyPy\"->firebase-admin) (1.62.3)\nRequirement already satisfied: httplib2<1.dev0,>=0.19.0 in /root/venv/lib/python3.11/site-packages (from google-api-python-client>=1.7.8->firebase-admin) (0.22.0)\nRequirement already satisfied: google-auth-httplib2<1.0.0,>=0.2.0 in /root/venv/lib/python3.11/site-packages (from google-api-python-client>=1.7.8->firebase-admin) (0.2.0)\nRequirement already satisfied: uritemplate<5,>=3.0.1 in /root/venv/lib/python3.11/site-packages (from google-api-python-client>=1.7.8->firebase-admin) (4.1.1)\nRequirement already satisfied: google-cloud-core<3.0.0dev,>=1.4.1 in /toolkit-cache/0.2.7/python3.11/kernel-libs/lib/python3.11/site-packages (from google-cloud-firestore>=2.19.0->firebase-admin) (2.4.1)\nRequirement already satisfied: google-resumable-media>=2.7.2 in /toolkit-cache/0.2.7/python3.11/kernel-libs/lib/python3.11/site-packages (from google-cloud-storage>=1.37.1->firebase-admin) (2.7.2)\nRequirement already satisfied: google-crc32c<2.0dev,>=1.0 in /toolkit-cache/0.2.7/python3.11/kernel-libs/lib/python3.11/site-packages (from google-cloud-storage>=1.37.1->firebase-admin) (1.5.0)\nRequirement already satisfied: cryptography>=3.4.0 in /root/venv/lib/python3.11/site-packages (from pyjwt[crypto]>=2.5.0->firebase-admin) (43.0.3)\nRequirement already satisfied: cffi>=1.12 in /root/venv/lib/python3.11/site-packages (from cryptography>=3.4.0->pyjwt[crypto]>=2.5.0->firebase-admin) (1.17.1)\nRequirement already satisfied: cachetools<6.0,>=2.0.0 in /root/venv/lib/python3.11/site-packages (from google-auth<3.0.dev0,>=2.14.1->google-api-core<3.0.0dev,>=1.22.1->google-api-core[grpc]<3.0.0dev,>=1.22.1; platform_python_implementation != \"PyPy\"->firebase-admin) (5.5.1)\nRequirement already satisfied: pyasn1-modules>=0.2.1 in /root/venv/lib/python3.11/site-packages (from google-auth<3.0.dev0,>=2.14.1->google-api-core<3.0.0dev,>=1.22.1->google-api-core[grpc]<3.0.0dev,>=1.22.1; platform_python_implementation != \"PyPy\"->firebase-admin) (0.4.1)\nRequirement already satisfied: rsa<5,>=3.1.4 in /root/venv/lib/python3.11/site-packages (from google-auth<3.0.dev0,>=2.14.1->google-api-core<3.0.0dev,>=1.22.1->google-api-core[grpc]<3.0.0dev,>=1.22.1; platform_python_implementation != \"PyPy\"->firebase-admin) (4.9)\nRequirement already satisfied: pyparsing!=3.0.0,!=3.0.1,!=3.0.2,!=3.0.3,<4,>=2.4.2 in /root/venv/lib/python3.11/site-packages (from httplib2<1.dev0,>=0.19.0->google-api-python-client>=1.7.8->firebase-admin) (3.2.1)\nRequirement already satisfied: charset-normalizer<4,>=2 in /root/venv/lib/python3.11/site-packages (from requests>=2.16.0->cachecontrol>=0.12.14->firebase-admin) (3.4.1)\nRequirement already satisfied: idna<4,>=2.5 in /root/venv/lib/python3.11/site-packages (from requests>=2.16.0->cachecontrol>=0.12.14->firebase-admin) (3.10)\nRequirement already satisfied: urllib3<3,>=1.21.1 in /root/venv/lib/python3.11/site-packages (from requests>=2.16.0->cachecontrol>=0.12.14->firebase-admin) (2.3.0)\nRequirement already satisfied: certifi>=2017.4.17 in /root/venv/lib/python3.11/site-packages (from requests>=2.16.0->cachecontrol>=0.12.14->firebase-admin) (2025.1.31)\nRequirement already satisfied: pycparser in /root/venv/lib/python3.11/site-packages (from cffi>=1.12->cryptography>=3.4.0->pyjwt[crypto]>=2.5.0->firebase-admin) (2.22)\nRequirement already satisfied: pyasn1<0.7.0,>=0.4.6 in /root/venv/lib/python3.11/site-packages (from pyasn1-modules>=0.2.1->google-auth<3.0.dev0,>=2.14.1->google-api-core<3.0.0dev,>=1.22.1->google-api-core[grpc]<3.0.0dev,>=1.22.1; platform_python_implementation != \"PyPy\"->firebase-admin) (0.6.1)\n\n\u001b[1m[\u001b[0m\u001b[34;49mnotice\u001b[0m\u001b[1;39;49m]\u001b[0m\u001b[39;49m A new release of pip is available: \u001b[0m\u001b[31;49m24.0\u001b[0m\u001b[39;49m -> \u001b[0m\u001b[32;49m25.0.1\u001b[0m\n\u001b[1m[\u001b[0m\u001b[34;49mnotice\u001b[0m\u001b[1;39;49m]\u001b[0m\u001b[39;49m To update, run: \u001b[0m\u001b[32;49mpip install --upgrade pip\u001b[0m\n",
          "output_type": "stream"
        }
      ],
      "outputs_reference": null,
      "content_dependencies": null
    },
    {
      "cell_type": "code",
      "metadata": {
        "source_hash": "3a3123b1",
        "execution_start": 1740277816792,
        "execution_millis": 79,
        "execution_context_id": "77a0548f-005c-42ab-94f0-6fb8ba2e678d",
        "cell_id": "ce8ae8bb90694308b6f5cfb7ef059830",
        "deepnote_cell_type": "code"
      },
      "source": "# Konfigurasi database tujuan\ndest_cred = credentials.Certificate(\"/work/staklimjerukagung-firebase-admin.json\")\ndest_app = firebase_admin.initialize_app(dest_cred, {\n    'databaseURL': 'https://staklimjerukagung-default-rtdb.asia-southeast1.firebasedatabase.app/'\n})",
      "block_group": "f7f119f3ce8c4b0eb7b66ce44104da6b",
      "execution_count": 2,
      "outputs": [],
      "outputs_reference": null,
      "content_dependencies": null
    },
    {
      "cell_type": "code",
      "metadata": {
        "source_hash": "982023e",
        "execution_start": 1740278870256,
        "execution_millis": 47352,
        "execution_context_id": "77a0548f-005c-42ab-94f0-6fb8ba2e678d",
        "cell_id": "95d5d2b2cace447bbf5e5092e80077a2",
        "deepnote_cell_type": "code"
      },
      "source": "# Referensi ke data sumber\nsource_ref = db.reference('/auto_weather_stat/id-03/data')\n\n# Mengambil data dari database sumber\nsource_data = source_ref.get()\n\n# Mengubah data menjadi DataFrame pandas\nif source_data:\n    # Mengubah data menjadi DataFrame\n    df = pd.DataFrame.from_dict(source_data, orient='index')\n    \n    # Jika 'timestamp' sudah ada, jangan pindahkan indeks ke kolom\n    if 'timestamp' not in df.columns:\n        df.index.name = 'timestamp'  # Mengatur nama indeks\n        df.reset_index(inplace=True)  # Memindahkan indeks menjadi kolom biasa\n    \n    print(df.tail())  # Menampilkan data untuk verifikasi\nelse:\n    print(\"Tidak ada data di jalur /auto_weather_stat/id-03/data.\")",
      "block_group": "7368fc5c76074c519fdc27131078da2c",
      "execution_count": 16,
      "outputs": [
        {
          "name": "stdout",
          "text": "                 dew humidity pressure temperature   timestamp  volt  humi  \\\n1740278593  27.41544    91.77  1012.66       28.89  1740278593  4.13   NaN   \n1740278653  27.34417    90.86  1012.64       28.99  1740278653  4.13   NaN   \n1740278713  27.17282    89.64  1012.62       29.05  1740278713  4.12   NaN   \n1740278773  27.25672    89.77  1012.63       29.11  1740278773  4.13   NaN   \n1740278833  27.38128    90.48  1012.65        29.1  1740278833  4.13   NaN   \n\n            pres  temp  \n1740278593   NaN   NaN  \n1740278653   NaN   NaN  \n1740278713   NaN   NaN  \n1740278773   NaN   NaN  \n1740278833   NaN   NaN  \n",
          "output_type": "stream"
        }
      ],
      "outputs_reference": null,
      "content_dependencies": null
    },
    {
      "cell_type": "code",
      "metadata": {
        "source_hash": "cdee9e9d",
        "execution_start": 1740279087059,
        "execution_millis": 2,
        "execution_context_id": "77a0548f-005c-42ab-94f0-6fb8ba2e678d",
        "cell_id": "67ae91a8ec63464b97af3954200235f8",
        "deepnote_cell_type": "code"
      },
      "source": "df.tail(10)",
      "block_group": "fb122b4d76c448389c8eb2ec44a69e20",
      "execution_count": 22,
      "outputs": [
        {
          "output_type": "execute_result",
          "execution_count": 22,
          "data": {
            "application/vnd.deepnote.dataframe.v3+json": {
              "column_count": 9,
              "row_count": 10,
              "columns": [
                {
                  "name": "dew",
                  "dtype": "object",
                  "stats": {
                    "unique_count": 9,
                    "nan_count": 0,
                    "categories": [
                      {
                        "name": "27.29397",
                        "count": 2
                      },
                      {
                        "name": "27.35533",
                        "count": 1
                      },
                      {
                        "name": "7 others",
                        "count": 7
                      }
                    ]
                  }
                },
                {
                  "name": "humidity",
                  "dtype": "object",
                  "stats": {
                    "unique_count": 9,
                    "nan_count": 0,
                    "categories": [
                      {
                        "name": "92.88",
                        "count": 2
                      },
                      {
                        "name": "93.54",
                        "count": 1
                      },
                      {
                        "name": "7 others",
                        "count": 7
                      }
                    ]
                  }
                },
                {
                  "name": "pressure",
                  "dtype": "object",
                  "stats": {
                    "unique_count": 8,
                    "nan_count": 0,
                    "categories": [
                      {
                        "name": "1012.63",
                        "count": 3
                      },
                      {
                        "name": "1012.71",
                        "count": 1
                      },
                      {
                        "name": "6 others",
                        "count": 6
                      }
                    ]
                  }
                },
                {
                  "name": "temperature",
                  "dtype": "object",
                  "stats": {
                    "unique_count": 9,
                    "nan_count": 0,
                    "categories": [
                      {
                        "name": "28.56",
                        "count": 2
                      },
                      {
                        "name": "28.5",
                        "count": 1
                      },
                      {
                        "name": "7 others",
                        "count": 7
                      }
                    ]
                  }
                },
                {
                  "name": "timestamp",
                  "dtype": "object",
                  "stats": {
                    "unique_count": 10,
                    "nan_count": 0,
                    "categories": [
                      {
                        "name": "1740278354",
                        "count": 1
                      },
                      {
                        "name": "1740278413",
                        "count": 1
                      },
                      {
                        "name": "8 others",
                        "count": 8
                      }
                    ]
                  }
                },
                {
                  "name": "volt",
                  "dtype": "object",
                  "stats": {
                    "unique_count": 2,
                    "nan_count": 0,
                    "categories": [
                      {
                        "name": "4.13",
                        "count": 9
                      },
                      {
                        "name": "4.12",
                        "count": 1
                      }
                    ]
                  }
                },
                {
                  "name": "humi",
                  "dtype": "float64",
                  "stats": {
                    "unique_count": 0,
                    "nan_count": 10,
                    "min": null,
                    "max": null,
                    "histogram": [
                      {
                        "bin_start": 0,
                        "bin_end": 0.1,
                        "count": 0
                      },
                      {
                        "bin_start": 0.1,
                        "bin_end": 0.2,
                        "count": 0
                      },
                      {
                        "bin_start": 0.2,
                        "bin_end": 0.30000000000000004,
                        "count": 0
                      },
                      {
                        "bin_start": 0.30000000000000004,
                        "bin_end": 0.4,
                        "count": 0
                      },
                      {
                        "bin_start": 0.4,
                        "bin_end": 0.5,
                        "count": 0
                      },
                      {
                        "bin_start": 0.5,
                        "bin_end": 0.6000000000000001,
                        "count": 0
                      },
                      {
                        "bin_start": 0.6000000000000001,
                        "bin_end": 0.7000000000000001,
                        "count": 0
                      },
                      {
                        "bin_start": 0.7000000000000001,
                        "bin_end": 0.8,
                        "count": 0
                      },
                      {
                        "bin_start": 0.8,
                        "bin_end": 0.9,
                        "count": 0
                      },
                      {
                        "bin_start": 0.9,
                        "bin_end": 1,
                        "count": 0
                      }
                    ]
                  }
                },
                {
                  "name": "pres",
                  "dtype": "float64",
                  "stats": {
                    "unique_count": 0,
                    "nan_count": 10,
                    "min": null,
                    "max": null,
                    "histogram": [
                      {
                        "bin_start": 0,
                        "bin_end": 0.1,
                        "count": 0
                      },
                      {
                        "bin_start": 0.1,
                        "bin_end": 0.2,
                        "count": 0
                      },
                      {
                        "bin_start": 0.2,
                        "bin_end": 0.30000000000000004,
                        "count": 0
                      },
                      {
                        "bin_start": 0.30000000000000004,
                        "bin_end": 0.4,
                        "count": 0
                      },
                      {
                        "bin_start": 0.4,
                        "bin_end": 0.5,
                        "count": 0
                      },
                      {
                        "bin_start": 0.5,
                        "bin_end": 0.6000000000000001,
                        "count": 0
                      },
                      {
                        "bin_start": 0.6000000000000001,
                        "bin_end": 0.7000000000000001,
                        "count": 0
                      },
                      {
                        "bin_start": 0.7000000000000001,
                        "bin_end": 0.8,
                        "count": 0
                      },
                      {
                        "bin_start": 0.8,
                        "bin_end": 0.9,
                        "count": 0
                      },
                      {
                        "bin_start": 0.9,
                        "bin_end": 1,
                        "count": 0
                      }
                    ]
                  }
                },
                {
                  "name": "temp",
                  "dtype": "float64",
                  "stats": {
                    "unique_count": 0,
                    "nan_count": 10,
                    "min": null,
                    "max": null,
                    "histogram": [
                      {
                        "bin_start": 0,
                        "bin_end": 0.1,
                        "count": 0
                      },
                      {
                        "bin_start": 0.1,
                        "bin_end": 0.2,
                        "count": 0
                      },
                      {
                        "bin_start": 0.2,
                        "bin_end": 0.30000000000000004,
                        "count": 0
                      },
                      {
                        "bin_start": 0.30000000000000004,
                        "bin_end": 0.4,
                        "count": 0
                      },
                      {
                        "bin_start": 0.4,
                        "bin_end": 0.5,
                        "count": 0
                      },
                      {
                        "bin_start": 0.5,
                        "bin_end": 0.6000000000000001,
                        "count": 0
                      },
                      {
                        "bin_start": 0.6000000000000001,
                        "bin_end": 0.7000000000000001,
                        "count": 0
                      },
                      {
                        "bin_start": 0.7000000000000001,
                        "bin_end": 0.8,
                        "count": 0
                      },
                      {
                        "bin_start": 0.8,
                        "bin_end": 0.9,
                        "count": 0
                      },
                      {
                        "bin_start": 0.9,
                        "bin_end": 1,
                        "count": 0
                      }
                    ]
                  }
                },
                {
                  "name": "_deepnote_index_column",
                  "dtype": "object"
                }
              ],
              "rows": [
                {
                  "dew": "27.35533",
                  "humidity": "93.54",
                  "pressure": "1012.71",
                  "temperature": "28.5",
                  "timestamp": "1740278354",
                  "volt": "4.13",
                  "humi": "nan",
                  "pres": "nan",
                  "temp": "nan",
                  "_deepnote_index_column": "1740278354"
                },
                {
                  "dew": "27.29397",
                  "humidity": "92.88",
                  "pressure": "1012.63",
                  "temperature": "28.56",
                  "timestamp": "1740278413",
                  "volt": "4.13",
                  "humi": "nan",
                  "pres": "nan",
                  "temp": "nan",
                  "_deepnote_index_column": "1740278413"
                },
                {
                  "dew": "27.29397",
                  "humidity": "92.88",
                  "pressure": "1012.63",
                  "temperature": "28.56",
                  "timestamp": "1740278414",
                  "volt": "4.13",
                  "humi": "nan",
                  "pres": "nan",
                  "temp": "nan",
                  "_deepnote_index_column": "1740278414"
                },
                {
                  "dew": "27.66844",
                  "humidity": "94.17",
                  "pressure": "1012.72",
                  "temperature": "28.7",
                  "timestamp": "1740278473",
                  "volt": "4.13",
                  "humi": "nan",
                  "pres": "nan",
                  "temp": "nan",
                  "_deepnote_index_column": "1740278473"
                },
                {
                  "dew": "27.45192",
                  "humidity": "92.34",
                  "pressure": "1012.69",
                  "temperature": "28.82",
                  "timestamp": "1740278533",
                  "volt": "4.13",
                  "humi": "nan",
                  "pres": "nan",
                  "temp": "nan",
                  "_deepnote_index_column": "1740278533"
                },
                {
                  "dew": "27.41544",
                  "humidity": "91.77",
                  "pressure": "1012.66",
                  "temperature": "28.89",
                  "timestamp": "1740278593",
                  "volt": "4.13",
                  "humi": "nan",
                  "pres": "nan",
                  "temp": "nan",
                  "_deepnote_index_column": "1740278593"
                },
                {
                  "dew": "27.34417",
                  "humidity": "90.86",
                  "pressure": "1012.64",
                  "temperature": "28.99",
                  "timestamp": "1740278653",
                  "volt": "4.13",
                  "humi": "nan",
                  "pres": "nan",
                  "temp": "nan",
                  "_deepnote_index_column": "1740278653"
                },
                {
                  "dew": "27.17282",
                  "humidity": "89.64",
                  "pressure": "1012.62",
                  "temperature": "29.05",
                  "timestamp": "1740278713",
                  "volt": "4.12",
                  "humi": "nan",
                  "pres": "nan",
                  "temp": "nan",
                  "_deepnote_index_column": "1740278713"
                },
                {
                  "dew": "27.25672",
                  "humidity": "89.77",
                  "pressure": "1012.63",
                  "temperature": "29.11",
                  "timestamp": "1740278773",
                  "volt": "4.13",
                  "humi": "nan",
                  "pres": "nan",
                  "temp": "nan",
                  "_deepnote_index_column": "1740278773"
                },
                {
                  "dew": "27.38128",
                  "humidity": "90.48",
                  "pressure": "1012.65",
                  "temperature": "29.1",
                  "timestamp": "1740278833",
                  "volt": "4.13",
                  "humi": "nan",
                  "pres": "nan",
                  "temp": "nan",
                  "_deepnote_index_column": "1740278833"
                }
              ]
            },
            "text/plain": "                 dew humidity pressure temperature   timestamp  volt  humi  \\\n1740278354  27.35533    93.54  1012.71        28.5  1740278354  4.13   NaN   \n1740278413  27.29397    92.88  1012.63       28.56  1740278413  4.13   NaN   \n1740278414  27.29397    92.88  1012.63       28.56  1740278414  4.13   NaN   \n1740278473  27.66844    94.17  1012.72        28.7  1740278473  4.13   NaN   \n1740278533  27.45192    92.34  1012.69       28.82  1740278533  4.13   NaN   \n1740278593  27.41544    91.77  1012.66       28.89  1740278593  4.13   NaN   \n1740278653  27.34417    90.86  1012.64       28.99  1740278653  4.13   NaN   \n1740278713  27.17282    89.64  1012.62       29.05  1740278713  4.12   NaN   \n1740278773  27.25672    89.77  1012.63       29.11  1740278773  4.13   NaN   \n1740278833  27.38128    90.48  1012.65        29.1  1740278833  4.13   NaN   \n\n            pres  temp  \n1740278354   NaN   NaN  \n1740278413   NaN   NaN  \n1740278414   NaN   NaN  \n1740278473   NaN   NaN  \n1740278533   NaN   NaN  \n1740278593   NaN   NaN  \n1740278653   NaN   NaN  \n1740278713   NaN   NaN  \n1740278773   NaN   NaN  \n1740278833   NaN   NaN  ",
            "text/html": "<div>\n<style scoped>\n    .dataframe tbody tr th:only-of-type {\n        vertical-align: middle;\n    }\n\n    .dataframe tbody tr th {\n        vertical-align: top;\n    }\n\n    .dataframe thead th {\n        text-align: right;\n    }\n</style>\n<table border=\"1\" class=\"dataframe\">\n  <thead>\n    <tr style=\"text-align: right;\">\n      <th></th>\n      <th>dew</th>\n      <th>humidity</th>\n      <th>pressure</th>\n      <th>temperature</th>\n      <th>timestamp</th>\n      <th>volt</th>\n      <th>humi</th>\n      <th>pres</th>\n      <th>temp</th>\n    </tr>\n  </thead>\n  <tbody>\n    <tr>\n      <th>1740278354</th>\n      <td>27.35533</td>\n      <td>93.54</td>\n      <td>1012.71</td>\n      <td>28.5</td>\n      <td>1740278354</td>\n      <td>4.13</td>\n      <td>NaN</td>\n      <td>NaN</td>\n      <td>NaN</td>\n    </tr>\n    <tr>\n      <th>1740278413</th>\n      <td>27.29397</td>\n      <td>92.88</td>\n      <td>1012.63</td>\n      <td>28.56</td>\n      <td>1740278413</td>\n      <td>4.13</td>\n      <td>NaN</td>\n      <td>NaN</td>\n      <td>NaN</td>\n    </tr>\n    <tr>\n      <th>1740278414</th>\n      <td>27.29397</td>\n      <td>92.88</td>\n      <td>1012.63</td>\n      <td>28.56</td>\n      <td>1740278414</td>\n      <td>4.13</td>\n      <td>NaN</td>\n      <td>NaN</td>\n      <td>NaN</td>\n    </tr>\n    <tr>\n      <th>1740278473</th>\n      <td>27.66844</td>\n      <td>94.17</td>\n      <td>1012.72</td>\n      <td>28.7</td>\n      <td>1740278473</td>\n      <td>4.13</td>\n      <td>NaN</td>\n      <td>NaN</td>\n      <td>NaN</td>\n    </tr>\n    <tr>\n      <th>1740278533</th>\n      <td>27.45192</td>\n      <td>92.34</td>\n      <td>1012.69</td>\n      <td>28.82</td>\n      <td>1740278533</td>\n      <td>4.13</td>\n      <td>NaN</td>\n      <td>NaN</td>\n      <td>NaN</td>\n    </tr>\n    <tr>\n      <th>1740278593</th>\n      <td>27.41544</td>\n      <td>91.77</td>\n      <td>1012.66</td>\n      <td>28.89</td>\n      <td>1740278593</td>\n      <td>4.13</td>\n      <td>NaN</td>\n      <td>NaN</td>\n      <td>NaN</td>\n    </tr>\n    <tr>\n      <th>1740278653</th>\n      <td>27.34417</td>\n      <td>90.86</td>\n      <td>1012.64</td>\n      <td>28.99</td>\n      <td>1740278653</td>\n      <td>4.13</td>\n      <td>NaN</td>\n      <td>NaN</td>\n      <td>NaN</td>\n    </tr>\n    <tr>\n      <th>1740278713</th>\n      <td>27.17282</td>\n      <td>89.64</td>\n      <td>1012.62</td>\n      <td>29.05</td>\n      <td>1740278713</td>\n      <td>4.12</td>\n      <td>NaN</td>\n      <td>NaN</td>\n      <td>NaN</td>\n    </tr>\n    <tr>\n      <th>1740278773</th>\n      <td>27.25672</td>\n      <td>89.77</td>\n      <td>1012.63</td>\n      <td>29.11</td>\n      <td>1740278773</td>\n      <td>4.13</td>\n      <td>NaN</td>\n      <td>NaN</td>\n      <td>NaN</td>\n    </tr>\n    <tr>\n      <th>1740278833</th>\n      <td>27.38128</td>\n      <td>90.48</td>\n      <td>1012.65</td>\n      <td>29.1</td>\n      <td>1740278833</td>\n      <td>4.13</td>\n      <td>NaN</td>\n      <td>NaN</td>\n      <td>NaN</td>\n    </tr>\n  </tbody>\n</table>\n</div>"
          },
          "metadata": {}
        }
      ],
      "outputs_reference": null,
      "content_dependencies": null
    },
    {
      "cell_type": "code",
      "metadata": {
        "source_hash": "de1e323c",
        "execution_start": 1740279096739,
        "execution_millis": 8,
        "execution_context_id": "77a0548f-005c-42ab-94f0-6fb8ba2e678d",
        "cell_id": "4e583de456454edbaaa3c402063c48bc",
        "deepnote_cell_type": "code"
      },
      "source": "df.info()",
      "block_group": "2bf107fb99fb417988abe142bf24347c",
      "execution_count": 24,
      "outputs": [
        {
          "name": "stdout",
          "text": "<class 'pandas.core.frame.DataFrame'>\nIndex: 716778 entries, 0 to 1740278833\nData columns (total 9 columns):\n #   Column       Non-Null Count   Dtype  \n---  ------       --------------   -----  \n 0   dew          716778 non-null  object \n 1   humidity     716774 non-null  object \n 2   pressure     716774 non-null  object \n 3   temperature  716774 non-null  object \n 4   timestamp    716778 non-null  object \n 5   volt         716778 non-null  object \n 6   humi         4 non-null       float64\n 7   pres         4 non-null       float64\n 8   temp         4 non-null       float64\ndtypes: float64(3), object(6)\nmemory usage: 54.7+ MB\n",
          "output_type": "stream"
        }
      ],
      "outputs_reference": null,
      "content_dependencies": null
    },
    {
      "cell_type": "code",
      "metadata": {
        "source_hash": "39390d3b",
        "execution_start": 1740277863956,
        "execution_millis": 7,
        "execution_context_id": "77a0548f-005c-42ab-94f0-6fb8ba2e678d",
        "cell_id": "e25addd6d9f340c686dfa7337fe2bb58",
        "deepnote_cell_type": "code"
      },
      "source": "df = df[(df['temperature'] >= 10) & \n                      (df['humidity'] >= 0) & \n                      (df['pressure'] >= 1000) & \n                      (df['dew'] >= 10) &\n                      (df['volt'] >= 0)]",
      "block_group": "1cc0f52ab0b04a7eab0b6344a45dfe3e",
      "execution_count": 6,
      "outputs": [],
      "outputs_reference": null,
      "content_dependencies": null
    },
    {
      "cell_type": "code",
      "metadata": {
        "source_hash": "bde17e2e",
        "execution_start": 1740279071769,
        "execution_millis": 286,
        "execution_context_id": "77a0548f-005c-42ab-94f0-6fb8ba2e678d",
        "cell_id": "5cfab4e174aa4918b8356aea75e50be6",
        "deepnote_cell_type": "code"
      },
      "source": "# Membuat DataFrame awal\ndata = pd.DataFrame(df)\ndf['timestamp'] = pd.to_datetime(df['timestamp'])\ndf.set_index('timestamp', inplace=True)\n\n# Membuat rentang waktu yang lengkap dengan interval per menit\ncomplete_range = pd.date_range(start=data.index.min(), end=df.index.max(), freq='T')\n\n# Reindexing dengan rentang waktu lengkap, variabel lain akan terisi NaN\ndf = df.reindex(complete_range)\n\n# Menampilkan hasil\nprint(df.head(15))",
      "block_group": "0d63b3b1080a4fd5899b606a442e843f",
      "execution_count": 20,
      "outputs": [
        {
          "name": "stderr",
          "text": "/tmp/ipykernel_392/737626841.py:3: UserWarning: Could not infer format, so each element will be parsed individually, falling back to `dateutil`. To ensure parsing is consistent and as-expected, please specify a format.\n  df['timestamp'] = pd.to_datetime(df['timestamp'])\n",
          "output_type": "stream"
        },
        {
          "output_type": "error",
          "ename": "DateParseError",
          "evalue": "day is out of range for month: 0, at position 0",
          "traceback": [
            "\u001b[0;31m---------------------------------------------------------------------------\u001b[0m",
            "\u001b[0;31mValueError\u001b[0m                                Traceback (most recent call last)",
            "File \u001b[0;32mparsing.pyx:681\u001b[0m, in \u001b[0;36mpandas._libs.tslibs.parsing.dateutil_parse\u001b[0;34m()\u001b[0m\n",
            "\u001b[0;31mValueError\u001b[0m: day is out of range for month",
            "\nThe above exception was the direct cause of the following exception:\n",
            "\u001b[0;31mDateParseError\u001b[0m                            Traceback (most recent call last)",
            "Cell \u001b[0;32mIn[20], line 3\u001b[0m\n\u001b[1;32m      1\u001b[0m \u001b[38;5;66;03m# Membuat DataFrame awal\u001b[39;00m\n\u001b[1;32m      2\u001b[0m data \u001b[38;5;241m=\u001b[39m pd\u001b[38;5;241m.\u001b[39mDataFrame(df)\n\u001b[0;32m----> 3\u001b[0m df[\u001b[38;5;124m'\u001b[39m\u001b[38;5;124mtimestamp\u001b[39m\u001b[38;5;124m'\u001b[39m] \u001b[38;5;241m=\u001b[39m \u001b[43mpd\u001b[49m\u001b[38;5;241;43m.\u001b[39;49m\u001b[43mto_datetime\u001b[49m\u001b[43m(\u001b[49m\u001b[43mdf\u001b[49m\u001b[43m[\u001b[49m\u001b[38;5;124;43m'\u001b[39;49m\u001b[38;5;124;43mtimestamp\u001b[39;49m\u001b[38;5;124;43m'\u001b[39;49m\u001b[43m]\u001b[49m\u001b[43m)\u001b[49m\n\u001b[1;32m      4\u001b[0m df\u001b[38;5;241m.\u001b[39mset_index(\u001b[38;5;124m'\u001b[39m\u001b[38;5;124mtimestamp\u001b[39m\u001b[38;5;124m'\u001b[39m, inplace\u001b[38;5;241m=\u001b[39m\u001b[38;5;28;01mTrue\u001b[39;00m)\n\u001b[1;32m      6\u001b[0m \u001b[38;5;66;03m# Membuat rentang waktu yang lengkap dengan interval per menit\u001b[39;00m\n",
            "File \u001b[0;32m~/venv/lib/python3.11/site-packages/pandas/core/tools/datetimes.py:1112\u001b[0m, in \u001b[0;36mto_datetime\u001b[0;34m(arg, errors, dayfirst, yearfirst, utc, format, exact, unit, infer_datetime_format, origin, cache)\u001b[0m\n\u001b[1;32m   1110\u001b[0m         result \u001b[38;5;241m=\u001b[39m arg\u001b[38;5;241m.\u001b[39mmap(cache_array)\n\u001b[1;32m   1111\u001b[0m     \u001b[38;5;28;01melse\u001b[39;00m:\n\u001b[0;32m-> 1112\u001b[0m         values \u001b[38;5;241m=\u001b[39m \u001b[43mconvert_listlike\u001b[49m\u001b[43m(\u001b[49m\u001b[43marg\u001b[49m\u001b[38;5;241;43m.\u001b[39;49m\u001b[43m_values\u001b[49m\u001b[43m,\u001b[49m\u001b[43m \u001b[49m\u001b[38;5;28;43mformat\u001b[39;49m\u001b[43m)\u001b[49m\n\u001b[1;32m   1113\u001b[0m         result \u001b[38;5;241m=\u001b[39m arg\u001b[38;5;241m.\u001b[39m_constructor(values, index\u001b[38;5;241m=\u001b[39marg\u001b[38;5;241m.\u001b[39mindex, name\u001b[38;5;241m=\u001b[39marg\u001b[38;5;241m.\u001b[39mname)\n\u001b[1;32m   1114\u001b[0m \u001b[38;5;28;01melif\u001b[39;00m \u001b[38;5;28misinstance\u001b[39m(arg, (ABCDataFrame, abc\u001b[38;5;241m.\u001b[39mMutableMapping)):\n",
            "File \u001b[0;32m~/venv/lib/python3.11/site-packages/pandas/core/tools/datetimes.py:490\u001b[0m, in \u001b[0;36m_convert_listlike_datetimes\u001b[0;34m(arg, format, name, utc, unit, errors, dayfirst, yearfirst, exact)\u001b[0m\n\u001b[1;32m    487\u001b[0m \u001b[38;5;28;01mif\u001b[39;00m \u001b[38;5;28mformat\u001b[39m \u001b[38;5;129;01mis\u001b[39;00m \u001b[38;5;129;01mnot\u001b[39;00m \u001b[38;5;28;01mNone\u001b[39;00m \u001b[38;5;129;01mand\u001b[39;00m \u001b[38;5;28mformat\u001b[39m \u001b[38;5;241m!=\u001b[39m \u001b[38;5;124m\"\u001b[39m\u001b[38;5;124mmixed\u001b[39m\u001b[38;5;124m\"\u001b[39m:\n\u001b[1;32m    488\u001b[0m     \u001b[38;5;28;01mreturn\u001b[39;00m _array_strptime_with_fallback(arg, name, utc, \u001b[38;5;28mformat\u001b[39m, exact, errors)\n\u001b[0;32m--> 490\u001b[0m result, tz_parsed \u001b[38;5;241m=\u001b[39m \u001b[43mobjects_to_datetime64ns\u001b[49m\u001b[43m(\u001b[49m\n\u001b[1;32m    491\u001b[0m \u001b[43m    \u001b[49m\u001b[43marg\u001b[49m\u001b[43m,\u001b[49m\n\u001b[1;32m    492\u001b[0m \u001b[43m    \u001b[49m\u001b[43mdayfirst\u001b[49m\u001b[38;5;241;43m=\u001b[39;49m\u001b[43mdayfirst\u001b[49m\u001b[43m,\u001b[49m\n\u001b[1;32m    493\u001b[0m \u001b[43m    \u001b[49m\u001b[43myearfirst\u001b[49m\u001b[38;5;241;43m=\u001b[39;49m\u001b[43myearfirst\u001b[49m\u001b[43m,\u001b[49m\n\u001b[1;32m    494\u001b[0m \u001b[43m    \u001b[49m\u001b[43mutc\u001b[49m\u001b[38;5;241;43m=\u001b[39;49m\u001b[43mutc\u001b[49m\u001b[43m,\u001b[49m\n\u001b[1;32m    495\u001b[0m \u001b[43m    \u001b[49m\u001b[43merrors\u001b[49m\u001b[38;5;241;43m=\u001b[39;49m\u001b[43merrors\u001b[49m\u001b[43m,\u001b[49m\n\u001b[1;32m    496\u001b[0m \u001b[43m    \u001b[49m\u001b[43mallow_object\u001b[49m\u001b[38;5;241;43m=\u001b[39;49m\u001b[38;5;28;43;01mTrue\u001b[39;49;00m\u001b[43m,\u001b[49m\n\u001b[1;32m    497\u001b[0m \u001b[43m\u001b[49m\u001b[43m)\u001b[49m\n\u001b[1;32m    499\u001b[0m \u001b[38;5;28;01mif\u001b[39;00m tz_parsed \u001b[38;5;129;01mis\u001b[39;00m \u001b[38;5;129;01mnot\u001b[39;00m \u001b[38;5;28;01mNone\u001b[39;00m:\n\u001b[1;32m    500\u001b[0m     \u001b[38;5;66;03m# We can take a shortcut since the datetime64 numpy array\u001b[39;00m\n\u001b[1;32m    501\u001b[0m     \u001b[38;5;66;03m# is in UTC\u001b[39;00m\n\u001b[1;32m    502\u001b[0m     dta \u001b[38;5;241m=\u001b[39m DatetimeArray(result, dtype\u001b[38;5;241m=\u001b[39mtz_to_dtype(tz_parsed))\n",
            "File \u001b[0;32m~/venv/lib/python3.11/site-packages/pandas/core/arrays/datetimes.py:2346\u001b[0m, in \u001b[0;36mobjects_to_datetime64ns\u001b[0;34m(data, dayfirst, yearfirst, utc, errors, allow_object)\u001b[0m\n\u001b[1;32m   2343\u001b[0m \u001b[38;5;66;03m# if str-dtype, convert\u001b[39;00m\n\u001b[1;32m   2344\u001b[0m data \u001b[38;5;241m=\u001b[39m np\u001b[38;5;241m.\u001b[39marray(data, copy\u001b[38;5;241m=\u001b[39m\u001b[38;5;28;01mFalse\u001b[39;00m, dtype\u001b[38;5;241m=\u001b[39mnp\u001b[38;5;241m.\u001b[39mobject_)\n\u001b[0;32m-> 2346\u001b[0m result, tz_parsed \u001b[38;5;241m=\u001b[39m \u001b[43mtslib\u001b[49m\u001b[38;5;241;43m.\u001b[39;49m\u001b[43marray_to_datetime\u001b[49m\u001b[43m(\u001b[49m\n\u001b[1;32m   2347\u001b[0m \u001b[43m    \u001b[49m\u001b[43mdata\u001b[49m\u001b[43m,\u001b[49m\n\u001b[1;32m   2348\u001b[0m \u001b[43m    \u001b[49m\u001b[43merrors\u001b[49m\u001b[38;5;241;43m=\u001b[39;49m\u001b[43merrors\u001b[49m\u001b[43m,\u001b[49m\n\u001b[1;32m   2349\u001b[0m \u001b[43m    \u001b[49m\u001b[43mutc\u001b[49m\u001b[38;5;241;43m=\u001b[39;49m\u001b[43mutc\u001b[49m\u001b[43m,\u001b[49m\n\u001b[1;32m   2350\u001b[0m \u001b[43m    \u001b[49m\u001b[43mdayfirst\u001b[49m\u001b[38;5;241;43m=\u001b[39;49m\u001b[43mdayfirst\u001b[49m\u001b[43m,\u001b[49m\n\u001b[1;32m   2351\u001b[0m \u001b[43m    \u001b[49m\u001b[43myearfirst\u001b[49m\u001b[38;5;241;43m=\u001b[39;49m\u001b[43myearfirst\u001b[49m\u001b[43m,\u001b[49m\n\u001b[1;32m   2352\u001b[0m \u001b[43m\u001b[49m\u001b[43m)\u001b[49m\n\u001b[1;32m   2354\u001b[0m \u001b[38;5;28;01mif\u001b[39;00m tz_parsed \u001b[38;5;129;01mis\u001b[39;00m \u001b[38;5;129;01mnot\u001b[39;00m \u001b[38;5;28;01mNone\u001b[39;00m:\n\u001b[1;32m   2355\u001b[0m     \u001b[38;5;66;03m# We can take a shortcut since the datetime64 numpy array\u001b[39;00m\n\u001b[1;32m   2356\u001b[0m     \u001b[38;5;66;03m#  is in UTC\u001b[39;00m\n\u001b[1;32m   2357\u001b[0m     \u001b[38;5;66;03m# Return i8 values to denote unix timestamps\u001b[39;00m\n\u001b[1;32m   2358\u001b[0m     \u001b[38;5;28;01mreturn\u001b[39;00m result\u001b[38;5;241m.\u001b[39mview(\u001b[38;5;124m\"\u001b[39m\u001b[38;5;124mi8\u001b[39m\u001b[38;5;124m\"\u001b[39m), tz_parsed\n",
            "File \u001b[0;32mtslib.pyx:403\u001b[0m, in \u001b[0;36mpandas._libs.tslib.array_to_datetime\u001b[0;34m()\u001b[0m\n",
            "File \u001b[0;32mtslib.pyx:552\u001b[0m, in \u001b[0;36mpandas._libs.tslib.array_to_datetime\u001b[0;34m()\u001b[0m\n",
            "File \u001b[0;32mtslib.pyx:517\u001b[0m, in \u001b[0;36mpandas._libs.tslib.array_to_datetime\u001b[0;34m()\u001b[0m\n",
            "File \u001b[0;32mconversion.pyx:546\u001b[0m, in \u001b[0;36mpandas._libs.tslibs.conversion.convert_str_to_tsobject\u001b[0;34m()\u001b[0m\n",
            "File \u001b[0;32mparsing.pyx:331\u001b[0m, in \u001b[0;36mpandas._libs.tslibs.parsing.parse_datetime_string\u001b[0;34m()\u001b[0m\n",
            "File \u001b[0;32mparsing.pyx:685\u001b[0m, in \u001b[0;36mpandas._libs.tslibs.parsing.dateutil_parse\u001b[0;34m()\u001b[0m\n",
            "\u001b[0;31mDateParseError\u001b[0m: day is out of range for month: 0, at position 0"
          ]
        }
      ],
      "outputs_reference": null,
      "content_dependencies": null
    },
    {
      "cell_type": "code",
      "metadata": {
        "source_hash": "f082b8f9",
        "execution_start": 1740278108621,
        "execution_millis": 6449,
        "execution_context_id": "77a0548f-005c-42ab-94f0-6fb8ba2e678d",
        "cell_id": "08041d40b9444288ae38fd4547b39b03",
        "deepnote_cell_type": "code"
      },
      "source": "# Plot line chart\ndf.plot(y=['dew', 'humidity', 'pressure', 'temperature', 'volt'], subplots=True, figsize=(10, 15))\nplt.show()",
      "block_group": "0ce4217935c74ea582c89d5603975472",
      "execution_count": 8,
      "outputs": [
        {
          "data": {
            "text/plain": "<Figure size 1000x1500 with 5 Axes>",
            "image/png": "[encoded data removed]"
          },
          "metadata": {
            "image/png": {
              "width": 839,
              "height": 1068
            }
          },
          "output_type": "display_data"
        }
      ],
      "outputs_reference": null,
      "content_dependencies": null
    },
    {
      "cell_type": "markdown",
      "source": "<a style='text-decoration:none;line-height:16px;display:flex;color:#5B5B62;padding:10px;justify-content:end;' href='https://deepnote.com?utm_source=created-in-deepnote-cell&projectId=200afad5-8991-4e20-8a55-8751c7aff3b5' target=\"_blank\">\n<img alt='Created in deepnote.com' style='display:inline;max-height:16px;margin:0px;margin-right:7.5px;' src='data:image/svg+xml;base64,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' > </img>\nCreated in <span style='font-weight:600;margin-left:4px;'>Deepnote</span></a>",
      "metadata": {
        "created_in_deepnote_cell": true,
        "deepnote_cell_type": "markdown"
      }
    }
  ],
  "nbformat": 4,
  "nbformat_minor": 0,
  "metadata": {
    "deepnote_notebook_id": "a4f24fa410a74d1f8a65bb27ea911fa8"
  }
}