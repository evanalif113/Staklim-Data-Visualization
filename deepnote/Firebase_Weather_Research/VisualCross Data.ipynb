{
  "cells": [
    {
      "cell_type": "code",
      "source": "import pandas as pd\nimport numpy as np\nimport matplotlib.pyplot as plt\nimport seaborn as sns\nfrom sklearn.model_selection import train_test_split\nfrom sklearn.preprocessing import StandardScaler\nfrom sklearn.linear_model import LogisticRegression\nfrom sklearn.tree import DecisionTreeClassifier\nfrom sklearn.ensemble import RandomForestClassifier, GradientBoostingClassifier\nfrom sklearn.svm import SVC\nfrom sklearn.neighbors import KNeighborsClassifier\nfrom sklearn.metrics import accuracy_score, classification_report",
      "metadata": {
        "source_hash": "32cd6d12",
        "execution_start": 1736074245363,
        "execution_millis": 1062,
        "execution_context_id": "3efd7ac1-9a58-472f-bb85-5bf86841e6be",
        "cell_id": "1e5d37541c744c559f0b4231d102526c",
        "deepnote_cell_type": "code"
      },
      "outputs": [],
      "outputs_reference": null,
      "execution_count": 1,
      "block_group": "1e5d37541c744c559f0b4231d102526c",
      "content_dependencies": null
    },
    {
      "cell_type": "code",
      "source": "data1 = pd.read_csv('/work/Daily_Cuaca_Kebumen.csv')",
      "metadata": {
        "source_hash": "fafb6b96",
        "execution_start": 1736074246475,
        "execution_millis": 121,
        "execution_context_id": "3efd7ac1-9a58-472f-bb85-5bf86841e6be",
        "cell_id": "1a5c7893d4ef479c833e9473d557b5a5",
        "deepnote_cell_type": "code"
      },
      "outputs": [
        {
          "name": "stderr",
          "text": "/tmp/ipykernel_3807/1856311698.py:1: DtypeWarning: Columns (26,27) have mixed types. Specify dtype option on import or set low_memory=False.\n  data1 = pd.read_csv('/work/Daily_Cuaca_Kebumen.csv')\n",
          "output_type": "stream"
        }
      ],
      "outputs_reference": null,
      "execution_count": 2,
      "block_group": "9d2b24487de14942bba9be3f87009800",
      "content_dependencies": null
    },
    {
      "cell_type": "code",
      "source": "data2 = pd.read_csv('/work/Kebumen 2023-01-01 to 2024-12-31.csv')",
      "metadata": {
        "source_hash": "3ca8a117",
        "execution_start": 1736074246647,
        "execution_millis": 52,
        "execution_context_id": "3efd7ac1-9a58-472f-bb85-5bf86841e6be",
        "cell_id": "b23c0147de79444bb08b5ab0dcfa1c4e",
        "deepnote_cell_type": "code"
      },
      "outputs": [],
      "outputs_reference": null,
      "execution_count": 3,
      "block_group": "07fbcbe8b90a45bd8b95c1eef3147ddc",
      "content_dependencies": null
    },
    {
      "cell_type": "code",
      "source": "data1.tail(10)",
      "metadata": {
        "source_hash": "59a88c",
        "execution_start": 1736074246755,
        "execution_millis": 20,
        "execution_context_id": "3efd7ac1-9a58-472f-bb85-5bf86841e6be",
        "cell_id": "e674e6d92e594856b06c75c2a117ed50",
        "deepnote_cell_type": "code"
      },
      "outputs": [
        {
          "output_type": "execute_result",
          "execution_count": 4,
          "data": {
            "application/vnd.deepnote.dataframe.v3+json": {
              "column_count": 33,
              "row_count": 10,
              "columns": [
                {
                  "name": "name",
                  "dtype": "object",
                  "stats": {
                    "unique_count": 1,
                    "nan_count": 0,
                    "categories": [
                      {
                        "name": "Kebumen, Indonesia",
                        "count": 10
                      }
                    ]
                  }
                },
                {
                  "name": "datetime",
                  "dtype": "object",
                  "stats": {
                    "unique_count": 10,
                    "nan_count": 0,
                    "categories": [
                      {
                        "name": "2022-12-22",
                        "count": 1
                      },
                      {
                        "name": "2022-12-23",
                        "count": 1
                      },
                      {
                        "name": "8 others",
                        "count": 8
                      }
                    ]
                  }
                },
                {
                  "name": "tempmax",
                  "dtype": "float64",
                  "stats": {
                    "unique_count": 9,
                    "nan_count": 0,
                    "min": "28.7",
                    "max": "32.1",
                    "histogram": [
                      {
                        "bin_start": 28.7,
                        "bin_end": 29.04,
                        "count": 2
                      },
                      {
                        "bin_start": 29.04,
                        "bin_end": 29.38,
                        "count": 0
                      },
                      {
                        "bin_start": 29.38,
                        "bin_end": 29.72,
                        "count": 1
                      },
                      {
                        "bin_start": 29.72,
                        "bin_end": 30.06,
                        "count": 0
                      },
                      {
                        "bin_start": 30.06,
                        "bin_end": 30.4,
                        "count": 2
                      },
                      {
                        "bin_start": 30.4,
                        "bin_end": 30.740000000000002,
                        "count": 0
                      },
                      {
                        "bin_start": 30.740000000000002,
                        "bin_end": 31.080000000000002,
                        "count": 1
                      },
                      {
                        "bin_start": 31.080000000000002,
                        "bin_end": 31.42,
                        "count": 1
                      },
                      {
                        "bin_start": 31.42,
                        "bin_end": 31.76,
                        "count": 1
                      },
                      {
                        "bin_start": 31.76,
                        "bin_end": 32.1,
                        "count": 2
                      }
                    ]
                  }
                },
                {
                  "name": "tempmin",
                  "dtype": "float64",
                  "stats": {
                    "unique_count": 9,
                    "nan_count": 0,
                    "min": "23.4",
                    "max": "25.1",
                    "histogram": [
                      {
                        "bin_start": 23.4,
                        "bin_end": 23.57,
                        "count": 1
                      },
                      {
                        "bin_start": 23.57,
                        "bin_end": 23.74,
                        "count": 1
                      },
                      {
                        "bin_start": 23.74,
                        "bin_end": 23.91,
                        "count": 2
                      },
                      {
                        "bin_start": 23.91,
                        "bin_end": 24.08,
                        "count": 1
                      },
                      {
                        "bin_start": 24.08,
                        "bin_end": 24.25,
                        "count": 3
                      },
                      {
                        "bin_start": 24.25,
                        "bin_end": 24.42,
                        "count": 0
                      },
                      {
                        "bin_start": 24.42,
                        "bin_end": 24.59,
                        "count": 1
                      },
                      {
                        "bin_start": 24.59,
                        "bin_end": 24.76,
                        "count": 0
                      },
                      {
                        "bin_start": 24.76,
                        "bin_end": 24.93,
                        "count": 0
                      },
                      {
                        "bin_start": 24.93,
                        "bin_end": 25.1,
                        "count": 1
                      }
                    ]
                  }
                },
                {
                  "name": "temp",
                  "dtype": "float64",
                  "stats": {
                    "unique_count": 7,
                    "nan_count": 0,
                    "min": "25.9",
                    "max": "26.9",
                    "histogram": [
                      {
                        "bin_start": 25.9,
                        "bin_end": 26,
                        "count": 2
                      },
                      {
                        "bin_start": 26,
                        "bin_end": 26.099999999999998,
                        "count": 2
                      },
                      {
                        "bin_start": 26.099999999999998,
                        "bin_end": 26.2,
                        "count": 0
                      },
                      {
                        "bin_start": 26.2,
                        "bin_end": 26.299999999999997,
                        "count": 1
                      },
                      {
                        "bin_start": 26.299999999999997,
                        "bin_end": 26.4,
                        "count": 0
                      },
                      {
                        "bin_start": 26.4,
                        "bin_end": 26.5,
                        "count": 0
                      },
                      {
                        "bin_start": 26.5,
                        "bin_end": 26.599999999999998,
                        "count": 1
                      },
                      {
                        "bin_start": 26.599999999999998,
                        "bin_end": 26.7,
                        "count": 1
                      },
                      {
                        "bin_start": 26.7,
                        "bin_end": 26.799999999999997,
                        "count": 0
                      },
                      {
                        "bin_start": 26.799999999999997,
                        "bin_end": 26.9,
                        "count": 3
                      }
                    ]
                  }
                },
                {
                  "name": "feelslikemax",
                  "dtype": "float64",
                  "stats": {
                    "unique_count": 8,
                    "nan_count": 0,
                    "min": "33.5",
                    "max": "39.3",
                    "histogram": [
                      {
                        "bin_start": 33.5,
                        "bin_end": 34.08,
                        "count": 2
                      },
                      {
                        "bin_start": 34.08,
                        "bin_end": 34.66,
                        "count": 0
                      },
                      {
                        "bin_start": 34.66,
                        "bin_end": 35.24,
                        "count": 1
                      },
                      {
                        "bin_start": 35.24,
                        "bin_end": 35.82,
                        "count": 1
                      },
                      {
                        "bin_start": 35.82,
                        "bin_end": 36.4,
                        "count": 3
                      },
                      {
                        "bin_start": 36.4,
                        "bin_end": 36.98,
                        "count": 0
                      },
                      {
                        "bin_start": 36.98,
                        "bin_end": 37.559999999999995,
                        "count": 0
                      },
                      {
                        "bin_start": 37.559999999999995,
                        "bin_end": 38.14,
                        "count": 0
                      },
                      {
                        "bin_start": 38.14,
                        "bin_end": 38.72,
                        "count": 2
                      },
                      {
                        "bin_start": 38.72,
                        "bin_end": 39.3,
                        "count": 1
                      }
                    ]
                  }
                },
                {
                  "name": "feelslikemin",
                  "dtype": "float64",
                  "stats": {
                    "unique_count": 9,
                    "nan_count": 0,
                    "min": "23.4",
                    "max": "25.1",
                    "histogram": [
                      {
                        "bin_start": 23.4,
                        "bin_end": 23.57,
                        "count": 1
                      },
                      {
                        "bin_start": 23.57,
                        "bin_end": 23.74,
                        "count": 1
                      },
                      {
                        "bin_start": 23.74,
                        "bin_end": 23.91,
                        "count": 2
                      },
                      {
                        "bin_start": 23.91,
                        "bin_end": 24.08,
                        "count": 1
                      },
                      {
                        "bin_start": 24.08,
                        "bin_end": 24.25,
                        "count": 3
                      },
                      {
                        "bin_start": 24.25,
                        "bin_end": 24.42,
                        "count": 0
                      },
                      {
                        "bin_start": 24.42,
                        "bin_end": 24.59,
                        "count": 1
                      },
                      {
                        "bin_start": 24.59,
                        "bin_end": 24.76,
                        "count": 0
                      },
                      {
                        "bin_start": 24.76,
                        "bin_end": 24.93,
                        "count": 0
                      },
                      {
                        "bin_start": 24.93,
                        "bin_end": 25.1,
                        "count": 1
                      }
                    ]
                  }
                },
                {
                  "name": "feelslike",
                  "dtype": "float64",
                  "stats": {
                    "unique_count": 9,
                    "nan_count": 0,
                    "min": "26.8",
                    "max": "28.6",
                    "histogram": [
                      {
                        "bin_start": 26.8,
                        "bin_end": 26.98,
                        "count": 2
                      },
                      {
                        "bin_start": 26.98,
                        "bin_end": 27.16,
                        "count": 2
                      },
                      {
                        "bin_start": 27.16,
                        "bin_end": 27.34,
                        "count": 0
                      },
                      {
                        "bin_start": 27.34,
                        "bin_end": 27.52,
                        "count": 1
                      },
                      {
                        "bin_start": 27.52,
                        "bin_end": 27.700000000000003,
                        "count": 0
                      },
                      {
                        "bin_start": 27.700000000000003,
                        "bin_end": 27.880000000000003,
                        "count": 1
                      },
                      {
                        "bin_start": 27.880000000000003,
                        "bin_end": 28.060000000000002,
                        "count": 1
                      },
                      {
                        "bin_start": 28.060000000000002,
                        "bin_end": 28.240000000000002,
                        "count": 1
                      },
                      {
                        "bin_start": 28.240000000000002,
                        "bin_end": 28.42,
                        "count": 1
                      },
                      {
                        "bin_start": 28.42,
                        "bin_end": 28.6,
                        "count": 1
                      }
                    ]
                  }
                },
                {
                  "name": "dew",
                  "dtype": "float64",
                  "stats": {
                    "unique_count": 6,
                    "nan_count": 0,
                    "min": "22.6",
                    "max": "23.4",
                    "histogram": [
                      {
                        "bin_start": 22.6,
                        "bin_end": 22.68,
                        "count": 2
                      },
                      {
                        "bin_start": 22.68,
                        "bin_end": 22.76,
                        "count": 0
                      },
                      {
                        "bin_start": 22.76,
                        "bin_end": 22.84,
                        "count": 2
                      },
                      {
                        "bin_start": 22.84,
                        "bin_end": 22.92,
                        "count": 3
                      },
                      {
                        "bin_start": 22.92,
                        "bin_end": 23,
                        "count": 0
                      },
                      {
                        "bin_start": 23,
                        "bin_end": 23.08,
                        "count": 0
                      },
                      {
                        "bin_start": 23.08,
                        "bin_end": 23.16,
                        "count": 1
                      },
                      {
                        "bin_start": 23.16,
                        "bin_end": 23.24,
                        "count": 1
                      },
                      {
                        "bin_start": 23.24,
                        "bin_end": 23.32,
                        "count": 0
                      },
                      {
                        "bin_start": 23.32,
                        "bin_end": 23.4,
                        "count": 1
                      }
                    ]
                  }
                },
                {
                  "name": "humidity",
                  "dtype": "float64",
                  "stats": {
                    "unique_count": 9,
                    "nan_count": 0,
                    "min": "78.4",
                    "max": "83.9",
                    "histogram": [
                      {
                        "bin_start": 78.4,
                        "bin_end": 78.95,
                        "count": 1
                      },
                      {
                        "bin_start": 78.95,
                        "bin_end": 79.5,
                        "count": 1
                      },
                      {
                        "bin_start": 79.5,
                        "bin_end": 80.05000000000001,
                        "count": 0
                      },
                      {
                        "bin_start": 80.05000000000001,
                        "bin_end": 80.60000000000001,
                        "count": 0
                      },
                      {
                        "bin_start": 80.60000000000001,
                        "bin_end": 81.15,
                        "count": 0
                      },
                      {
                        "bin_start": 81.15,
                        "bin_end": 81.7,
                        "count": 0
                      },
                      {
                        "bin_start": 81.7,
                        "bin_end": 82.25,
                        "count": 4
                      },
                      {
                        "bin_start": 82.25,
                        "bin_end": 82.80000000000001,
                        "count": 1
                      },
                      {
                        "bin_start": 82.80000000000001,
                        "bin_end": 83.35000000000001,
                        "count": 1
                      },
                      {
                        "bin_start": 83.35000000000001,
                        "bin_end": 83.9,
                        "count": 2
                      }
                    ]
                  }
                },
                {
                  "name": "precip",
                  "dtype": "float64",
                  "stats": {
                    "unique_count": 10,
                    "nan_count": 0,
                    "min": "0.4",
                    "max": "10.0",
                    "histogram": [
                      {
                        "bin_start": 0.4,
                        "bin_end": 1.3599999999999999,
                        "count": 3
                      },
                      {
                        "bin_start": 1.3599999999999999,
                        "bin_end": 2.32,
                        "count": 1
                      },
                      {
                        "bin_start": 2.32,
                        "bin_end": 3.28,
                        "count": 2
                      },
                      {
                        "bin_start": 3.28,
                        "bin_end": 4.24,
                        "count": 1
                      },
                      {
                        "bin_start": 4.24,
                        "bin_end": 5.2,
                        "count": 0
                      },
                      {
                        "bin_start": 5.2,
                        "bin_end": 6.16,
                        "count": 0
                      },
                      {
                        "bin_start": 6.16,
                        "bin_end": 7.12,
                        "count": 2
                      },
                      {
                        "bin_start": 7.12,
                        "bin_end": 8.08,
                        "count": 0
                      },
                      {
                        "bin_start": 8.08,
                        "bin_end": 9.040000000000001,
                        "count": 0
                      },
                      {
                        "bin_start": 9.040000000000001,
                        "bin_end": 10,
                        "count": 1
                      }
                    ]
                  }
                },
                {
                  "name": "precipprob",
                  "dtype": "float64",
                  "stats": {
                    "unique_count": 1,
                    "nan_count": 0,
                    "min": "100.0",
                    "max": "100.0",
                    "histogram": [
                      {
                        "bin_start": 99.5,
                        "bin_end": 99.6,
                        "count": 0
                      },
                      {
                        "bin_start": 99.6,
                        "bin_end": 99.7,
                        "count": 0
                      },
                      {
                        "bin_start": 99.7,
                        "bin_end": 99.8,
                        "count": 0
                      },
                      {
                        "bin_start": 99.8,
                        "bin_end": 99.9,
                        "count": 0
                      },
                      {
                        "bin_start": 99.9,
                        "bin_end": 100,
                        "count": 0
                      },
                      {
                        "bin_start": 100,
                        "bin_end": 100.1,
                        "count": 10
                      },
                      {
                        "bin_start": 100.1,
                        "bin_end": 100.2,
                        "count": 0
                      },
                      {
                        "bin_start": 100.2,
                        "bin_end": 100.3,
                        "count": 0
                      },
                      {
                        "bin_start": 100.3,
                        "bin_end": 100.4,
                        "count": 0
                      },
                      {
                        "bin_start": 100.4,
                        "bin_end": 100.5,
                        "count": 0
                      }
                    ]
                  }
                },
                {
                  "name": "precipcover",
                  "dtype": "float64",
                  "stats": {
                    "unique_count": 6,
                    "nan_count": 0,
                    "min": "4.17",
                    "max": "29.17",
                    "histogram": [
                      {
                        "bin_start": 4.17,
                        "bin_end": 6.67,
                        "count": 3
                      },
                      {
                        "bin_start": 6.67,
                        "bin_end": 9.17,
                        "count": 2
                      },
                      {
                        "bin_start": 9.17,
                        "bin_end": 11.67,
                        "count": 0
                      },
                      {
                        "bin_start": 11.67,
                        "bin_end": 14.17,
                        "count": 2
                      },
                      {
                        "bin_start": 14.17,
                        "bin_end": 16.67,
                        "count": 0
                      },
                      {
                        "bin_start": 16.67,
                        "bin_end": 19.17,
                        "count": 1
                      },
                      {
                        "bin_start": 19.17,
                        "bin_end": 21.67,
                        "count": 1
                      },
                      {
                        "bin_start": 21.67,
                        "bin_end": 24.17,
                        "count": 0
                      },
                      {
                        "bin_start": 24.17,
                        "bin_end": 26.67,
                        "count": 0
                      },
                      {
                        "bin_start": 26.67,
                        "bin_end": 29.17,
                        "count": 1
                      }
                    ]
                  }
                },
                {
                  "name": "preciptype",
                  "dtype": "object",
                  "stats": {
                    "unique_count": 1,
                    "nan_count": 0,
                    "categories": [
                      {
                        "name": "rain",
                        "count": 10
                      }
                    ]
                  }
                },
                {
                  "name": "snow",
                  "dtype": "float64",
                  "stats": {
                    "unique_count": 1,
                    "nan_count": 0,
                    "min": "0.0",
                    "max": "0.0",
                    "histogram": [
                      {
                        "bin_start": -0.5,
                        "bin_end": -0.4,
                        "count": 0
                      },
                      {
                        "bin_start": -0.4,
                        "bin_end": -0.3,
                        "count": 0
                      },
                      {
                        "bin_start": -0.3,
                        "bin_end": -0.19999999999999996,
                        "count": 0
                      },
                      {
                        "bin_start": -0.19999999999999996,
                        "bin_end": -0.09999999999999998,
                        "count": 0
                      },
                      {
                        "bin_start": -0.09999999999999998,
                        "bin_end": 0,
                        "count": 0
                      },
                      {
                        "bin_start": 0,
                        "bin_end": 0.10000000000000009,
                        "count": 10
                      },
                      {
                        "bin_start": 0.10000000000000009,
                        "bin_end": 0.20000000000000007,
                        "count": 0
                      },
                      {
                        "bin_start": 0.20000000000000007,
                        "bin_end": 0.30000000000000004,
                        "count": 0
                      },
                      {
                        "bin_start": 0.30000000000000004,
                        "bin_end": 0.4,
                        "count": 0
                      },
                      {
                        "bin_start": 0.4,
                        "bin_end": 0.5,
                        "count": 0
                      }
                    ]
                  }
                },
                {
                  "name": "snowdepth",
                  "dtype": "float64",
                  "stats": {
                    "unique_count": 1,
                    "nan_count": 0,
                    "min": "0.0",
                    "max": "0.0",
                    "histogram": [
                      {
                        "bin_start": -0.5,
                        "bin_end": -0.4,
                        "count": 0
                      },
                      {
                        "bin_start": -0.4,
                        "bin_end": -0.3,
                        "count": 0
                      },
                      {
                        "bin_start": -0.3,
                        "bin_end": -0.19999999999999996,
                        "count": 0
                      },
                      {
                        "bin_start": -0.19999999999999996,
                        "bin_end": -0.09999999999999998,
                        "count": 0
                      },
                      {
                        "bin_start": -0.09999999999999998,
                        "bin_end": 0,
                        "count": 0
                      },
                      {
                        "bin_start": 0,
                        "bin_end": 0.10000000000000009,
                        "count": 10
                      },
                      {
                        "bin_start": 0.10000000000000009,
                        "bin_end": 0.20000000000000007,
                        "count": 0
                      },
                      {
                        "bin_start": 0.20000000000000007,
                        "bin_end": 0.30000000000000004,
                        "count": 0
                      },
                      {
                        "bin_start": 0.30000000000000004,
                        "bin_end": 0.4,
                        "count": 0
                      },
                      {
                        "bin_start": 0.4,
                        "bin_end": 0.5,
                        "count": 0
                      }
                    ]
                  }
                },
                {
                  "name": "windgust",
                  "dtype": "float64",
                  "stats": {
                    "unique_count": 9,
                    "nan_count": 0,
                    "min": "17.3",
                    "max": "56.2",
                    "histogram": [
                      {
                        "bin_start": 17.3,
                        "bin_end": 21.19,
                        "count": 2
                      },
                      {
                        "bin_start": 21.19,
                        "bin_end": 25.080000000000002,
                        "count": 2
                      },
                      {
                        "bin_start": 25.080000000000002,
                        "bin_end": 28.970000000000002,
                        "count": 1
                      },
                      {
                        "bin_start": 28.970000000000002,
                        "bin_end": 32.86,
                        "count": 1
                      },
                      {
                        "bin_start": 32.86,
                        "bin_end": 36.75,
                        "count": 0
                      },
                      {
                        "bin_start": 36.75,
                        "bin_end": 40.64,
                        "count": 1
                      },
                      {
                        "bin_start": 40.64,
                        "bin_end": 44.53,
                        "count": 1
                      },
                      {
                        "bin_start": 44.53,
                        "bin_end": 48.42,
                        "count": 1
                      },
                      {
                        "bin_start": 48.42,
                        "bin_end": 52.31,
                        "count": 0
                      },
                      {
                        "bin_start": 52.31,
                        "bin_end": 56.2,
                        "count": 1
                      }
                    ]
                  }
                },
                {
                  "name": "windspeed",
                  "dtype": "float64",
                  "stats": {
                    "unique_count": 9,
                    "nan_count": 0,
                    "min": "11.5",
                    "max": "36.7",
                    "histogram": [
                      {
                        "bin_start": 11.5,
                        "bin_end": 14.02,
                        "count": 2
                      },
                      {
                        "bin_start": 14.02,
                        "bin_end": 16.54,
                        "count": 1
                      },
                      {
                        "bin_start": 16.54,
                        "bin_end": 19.060000000000002,
                        "count": 1
                      },
                      {
                        "bin_start": 19.060000000000002,
                        "bin_end": 21.580000000000002,
                        "count": 1
                      },
                      {
                        "bin_start": 21.580000000000002,
                        "bin_end": 24.1,
                        "count": 1
                      },
                      {
                        "bin_start": 24.1,
                        "bin_end": 26.620000000000005,
                        "count": 2
                      },
                      {
                        "bin_start": 26.620000000000005,
                        "bin_end": 29.140000000000004,
                        "count": 1
                      },
                      {
                        "bin_start": 29.140000000000004,
                        "bin_end": 31.660000000000004,
                        "count": 0
                      },
                      {
                        "bin_start": 31.660000000000004,
                        "bin_end": 34.18000000000001,
                        "count": 0
                      },
                      {
                        "bin_start": 34.18000000000001,
                        "bin_end": 36.7,
                        "count": 1
                      }
                    ]
                  }
                },
                {
                  "name": "winddir",
                  "dtype": "float64",
                  "stats": {
                    "unique_count": 10,
                    "nan_count": 0,
                    "min": "266.3",
                    "max": "318.3",
                    "histogram": [
                      {
                        "bin_start": 266.3,
                        "bin_end": 271.5,
                        "count": 3
                      },
                      {
                        "bin_start": 271.5,
                        "bin_end": 276.7,
                        "count": 1
                      },
                      {
                        "bin_start": 276.7,
                        "bin_end": 281.90000000000003,
                        "count": 1
                      },
                      {
                        "bin_start": 281.90000000000003,
                        "bin_end": 287.1,
                        "count": 2
                      },
                      {
                        "bin_start": 287.1,
                        "bin_end": 292.3,
                        "count": 1
                      },
                      {
                        "bin_start": 292.3,
                        "bin_end": 297.5,
                        "count": 0
                      },
                      {
                        "bin_start": 297.5,
                        "bin_end": 302.7,
                        "count": 0
                      },
                      {
                        "bin_start": 302.7,
                        "bin_end": 307.90000000000003,
                        "count": 1
                      },
                      {
                        "bin_start": 307.90000000000003,
                        "bin_end": 313.1,
                        "count": 0
                      },
                      {
                        "bin_start": 313.1,
                        "bin_end": 318.3,
                        "count": 1
                      }
                    ]
                  }
                },
                {
                  "name": "sealevelpressure",
                  "dtype": "float64",
                  "stats": {
                    "unique_count": 8,
                    "nan_count": 0,
                    "min": "1006.1",
                    "max": "1011.2",
                    "histogram": [
                      {
                        "bin_start": 1006.1,
                        "bin_end": 1006.61,
                        "count": 1
                      },
                      {
                        "bin_start": 1006.61,
                        "bin_end": 1007.12,
                        "count": 0
                      },
                      {
                        "bin_start": 1007.12,
                        "bin_end": 1007.63,
                        "count": 1
                      },
                      {
                        "bin_start": 1007.63,
                        "bin_end": 1008.14,
                        "count": 0
                      },
                      {
                        "bin_start": 1008.14,
                        "bin_end": 1008.6500000000001,
                        "count": 1
                      },
                      {
                        "bin_start": 1008.6500000000001,
                        "bin_end": 1009.1600000000001,
                        "count": 1
                      },
                      {
                        "bin_start": 1009.1600000000001,
                        "bin_end": 1009.6700000000001,
                        "count": 1
                      },
                      {
                        "bin_start": 1009.6700000000001,
                        "bin_end": 1010.1800000000001,
                        "count": 2
                      },
                      {
                        "bin_start": 1010.1800000000001,
                        "bin_end": 1010.69,
                        "count": 2
                      },
                      {
                        "bin_start": 1010.69,
                        "bin_end": 1011.2,
                        "count": 1
                      }
                    ]
                  }
                },
                {
                  "name": "cloudcover",
                  "dtype": "float64",
                  "stats": {
                    "unique_count": 10,
                    "nan_count": 0,
                    "min": "81.6",
                    "max": "99.4",
                    "histogram": [
                      {
                        "bin_start": 81.6,
                        "bin_end": 83.38,
                        "count": 2
                      },
                      {
                        "bin_start": 83.38,
                        "bin_end": 85.16,
                        "count": 0
                      },
                      {
                        "bin_start": 85.16,
                        "bin_end": 86.94,
                        "count": 0
                      },
                      {
                        "bin_start": 86.94,
                        "bin_end": 88.72,
                        "count": 0
                      },
                      {
                        "bin_start": 88.72,
                        "bin_end": 90.5,
                        "count": 0
                      },
                      {
                        "bin_start": 90.5,
                        "bin_end": 92.28,
                        "count": 2
                      },
                      {
                        "bin_start": 92.28,
                        "bin_end": 94.06,
                        "count": 1
                      },
                      {
                        "bin_start": 94.06,
                        "bin_end": 95.84,
                        "count": 1
                      },
                      {
                        "bin_start": 95.84,
                        "bin_end": 97.62,
                        "count": 2
                      },
                      {
                        "bin_start": 97.62,
                        "bin_end": 99.4,
                        "count": 2
                      }
                    ]
                  }
                },
                {
                  "name": "visibility",
                  "dtype": "float64",
                  "stats": {
                    "unique_count": 9,
                    "nan_count": 0,
                    "min": "13.5",
                    "max": "18.3",
                    "histogram": [
                      {
                        "bin_start": 13.5,
                        "bin_end": 13.98,
                        "count": 2
                      },
                      {
                        "bin_start": 13.98,
                        "bin_end": 14.46,
                        "count": 0
                      },
                      {
                        "bin_start": 14.46,
                        "bin_end": 14.940000000000001,
                        "count": 1
                      },
                      {
                        "bin_start": 14.940000000000001,
                        "bin_end": 15.42,
                        "count": 1
                      },
                      {
                        "bin_start": 15.42,
                        "bin_end": 15.9,
                        "count": 3
                      },
                      {
                        "bin_start": 15.9,
                        "bin_end": 16.380000000000003,
                        "count": 1
                      },
                      {
                        "bin_start": 16.380000000000003,
                        "bin_end": 16.86,
                        "count": 0
                      },
                      {
                        "bin_start": 16.86,
                        "bin_end": 17.34,
                        "count": 1
                      },
                      {
                        "bin_start": 17.34,
                        "bin_end": 17.82,
                        "count": 0
                      },
                      {
                        "bin_start": 17.82,
                        "bin_end": 18.3,
                        "count": 1
                      }
                    ]
                  }
                },
                {
                  "name": "solarradiation",
                  "dtype": "float64",
                  "stats": {
                    "unique_count": 10,
                    "nan_count": 0,
                    "min": "84.8",
                    "max": "298.2",
                    "histogram": [
                      {
                        "bin_start": 84.8,
                        "bin_end": 106.13999999999999,
                        "count": 1
                      },
                      {
                        "bin_start": 106.13999999999999,
                        "bin_end": 127.47999999999999,
                        "count": 2
                      },
                      {
                        "bin_start": 127.47999999999999,
                        "bin_end": 148.82,
                        "count": 0
                      },
                      {
                        "bin_start": 148.82,
                        "bin_end": 170.15999999999997,
                        "count": 1
                      },
                      {
                        "bin_start": 170.15999999999997,
                        "bin_end": 191.5,
                        "count": 1
                      },
                      {
                        "bin_start": 191.5,
                        "bin_end": 212.83999999999997,
                        "count": 0
                      },
                      {
                        "bin_start": 212.83999999999997,
                        "bin_end": 234.17999999999995,
                        "count": 1
                      },
                      {
                        "bin_start": 234.17999999999995,
                        "bin_end": 255.51999999999998,
                        "count": 2
                      },
                      {
                        "bin_start": 255.51999999999998,
                        "bin_end": 276.85999999999996,
                        "count": 1
                      },
                      {
                        "bin_start": 276.85999999999996,
                        "bin_end": 298.2,
                        "count": 1
                      }
                    ]
                  }
                },
                {
                  "name": "solarenergy",
                  "dtype": "float64",
                  "stats": {
                    "unique_count": 8,
                    "nan_count": 0,
                    "min": "7.3",
                    "max": "25.6",
                    "histogram": [
                      {
                        "bin_start": 7.3,
                        "bin_end": 9.129999999999999,
                        "count": 1
                      },
                      {
                        "bin_start": 9.129999999999999,
                        "bin_end": 10.96,
                        "count": 2
                      },
                      {
                        "bin_start": 10.96,
                        "bin_end": 12.79,
                        "count": 0
                      },
                      {
                        "bin_start": 12.79,
                        "bin_end": 14.620000000000001,
                        "count": 1
                      },
                      {
                        "bin_start": 14.620000000000001,
                        "bin_end": 16.45,
                        "count": 1
                      },
                      {
                        "bin_start": 16.45,
                        "bin_end": 18.28,
                        "count": 0
                      },
                      {
                        "bin_start": 18.28,
                        "bin_end": 20.11,
                        "count": 0
                      },
                      {
                        "bin_start": 20.11,
                        "bin_end": 21.94,
                        "count": 3
                      },
                      {
                        "bin_start": 21.94,
                        "bin_end": 23.77,
                        "count": 1
                      },
                      {
                        "bin_start": 23.77,
                        "bin_end": 25.6,
                        "count": 1
                      }
                    ]
                  }
                },
                {
                  "name": "uvindex",
                  "dtype": "float64",
                  "stats": {
                    "unique_count": 6,
                    "nan_count": 0,
                    "min": "5.0",
                    "max": "10.0",
                    "histogram": [
                      {
                        "bin_start": 5,
                        "bin_end": 5.5,
                        "count": 2
                      },
                      {
                        "bin_start": 5.5,
                        "bin_end": 6,
                        "count": 0
                      },
                      {
                        "bin_start": 6,
                        "bin_end": 6.5,
                        "count": 1
                      },
                      {
                        "bin_start": 6.5,
                        "bin_end": 7,
                        "count": 0
                      },
                      {
                        "bin_start": 7,
                        "bin_end": 7.5,
                        "count": 1
                      },
                      {
                        "bin_start": 7.5,
                        "bin_end": 8,
                        "count": 0
                      },
                      {
                        "bin_start": 8,
                        "bin_end": 8.5,
                        "count": 1
                      },
                      {
                        "bin_start": 8.5,
                        "bin_end": 9,
                        "count": 0
                      },
                      {
                        "bin_start": 9,
                        "bin_end": 9.5,
                        "count": 3
                      },
                      {
                        "bin_start": 9.5,
                        "bin_end": 10,
                        "count": 2
                      }
                    ]
                  }
                },
                {
                  "name": "severerisk",
                  "dtype": "float64",
                  "stats": {
                    "unique_count": 2,
                    "nan_count": 0,
                    "min": "10.0",
                    "max": "30.0",
                    "histogram": [
                      {
                        "bin_start": 10,
                        "bin_end": 12,
                        "count": 4
                      },
                      {
                        "bin_start": 12,
                        "bin_end": 14,
                        "count": 0
                      },
                      {
                        "bin_start": 14,
                        "bin_end": 16,
                        "count": 0
                      },
                      {
                        "bin_start": 16,
                        "bin_end": 18,
                        "count": 0
                      },
                      {
                        "bin_start": 18,
                        "bin_end": 20,
                        "count": 0
                      },
                      {
                        "bin_start": 20,
                        "bin_end": 22,
                        "count": 0
                      },
                      {
                        "bin_start": 22,
                        "bin_end": 24,
                        "count": 0
                      },
                      {
                        "bin_start": 24,
                        "bin_end": 26,
                        "count": 0
                      },
                      {
                        "bin_start": 26,
                        "bin_end": 28,
                        "count": 0
                      },
                      {
                        "bin_start": 28,
                        "bin_end": 30,
                        "count": 6
                      }
                    ]
                  }
                },
                {
                  "name": "sunrise",
                  "dtype": "object",
                  "stats": {
                    "unique_count": 10,
                    "nan_count": 0,
                    "categories": [
                      {
                        "name": "1671686556",
                        "count": 1
                      },
                      {
                        "name": "1671772986",
                        "count": 1
                      },
                      {
                        "name": "8 others",
                        "count": 8
                      }
                    ]
                  }
                },
                {
                  "name": "sunset",
                  "dtype": "object",
                  "stats": {
                    "unique_count": 10,
                    "nan_count": 0,
                    "categories": [
                      {
                        "name": "1671731809",
                        "count": 1
                      },
                      {
                        "name": "1671818239",
                        "count": 1
                      },
                      {
                        "name": "8 others",
                        "count": 8
                      }
                    ]
                  }
                },
                {
                  "name": "moonphase",
                  "dtype": "float64",
                  "stats": {
                    "unique_count": 10,
                    "nan_count": 0,
                    "min": "0.0",
                    "max": "0.96",
                    "histogram": [
                      {
                        "bin_start": 0,
                        "bin_end": 0.096,
                        "count": 3
                      },
                      {
                        "bin_start": 0.096,
                        "bin_end": 0.192,
                        "count": 3
                      },
                      {
                        "bin_start": 0.192,
                        "bin_end": 0.28800000000000003,
                        "count": 3
                      },
                      {
                        "bin_start": 0.28800000000000003,
                        "bin_end": 0.384,
                        "count": 0
                      },
                      {
                        "bin_start": 0.384,
                        "bin_end": 0.48,
                        "count": 0
                      },
                      {
                        "bin_start": 0.48,
                        "bin_end": 0.5760000000000001,
                        "count": 0
                      },
                      {
                        "bin_start": 0.5760000000000001,
                        "bin_end": 0.672,
                        "count": 0
                      },
                      {
                        "bin_start": 0.672,
                        "bin_end": 0.768,
                        "count": 0
                      },
                      {
                        "bin_start": 0.768,
                        "bin_end": 0.864,
                        "count": 0
                      },
                      {
                        "bin_start": 0.864,
                        "bin_end": 0.96,
                        "count": 1
                      }
                    ]
                  }
                },
                {
                  "name": "conditions",
                  "dtype": "object",
                  "stats": {
                    "unique_count": 2,
                    "nan_count": 0,
                    "categories": [
                      {
                        "name": "Rain, Overcast",
                        "count": 8
                      },
                      {
                        "name": "Rain, Partially cloudy",
                        "count": 2
                      }
                    ]
                  }
                },
                {
                  "name": "description",
                  "dtype": "object",
                  "stats": {
                    "unique_count": 7,
                    "nan_count": 0,
                    "categories": [
                      {
                        "name": "Cloudy skies throughout the day with rain.",
                        "count": 4
                      },
                      {
                        "name": "Cloudy skies throughout the day with early morning rain.",
                        "count": 1
                      },
                      {
                        "name": "5 others",
                        "count": 5
                      }
                    ]
                  }
                },
                {
                  "name": "icon",
                  "dtype": "object",
                  "stats": {
                    "unique_count": 1,
                    "nan_count": 0,
                    "categories": [
                      {
                        "name": "rain",
                        "count": 10
                      }
                    ]
                  }
                },
                {
                  "name": "stations",
                  "dtype": "object",
                  "stats": {
                    "unique_count": 1,
                    "nan_count": 0,
                    "categories": [
                      {
                        "name": "96805099999,remote",
                        "count": 10
                      }
                    ]
                  }
                },
                {
                  "name": "_deepnote_index_column",
                  "dtype": "int64"
                }
              ],
              "rows": [
                {
                  "name": "Kebumen, Indonesia",
                  "datetime": "2022-12-22",
                  "tempmax": 32.1,
                  "tempmin": 25.1,
                  "temp": 26.9,
                  "feelslikemax": 39.3,
                  "feelslikemin": 25.1,
                  "feelslike": 28.6,
                  "dew": 23.4,
                  "humidity": 82,
                  "precip": 6.2,
                  "precipprob": 100,
                  "precipcover": 12.5,
                  "preciptype": "rain",
                  "snow": 0,
                  "snowdepth": 0,
                  "windgust": 41,
                  "windspeed": 25.9,
                  "winddir": 269.1,
                  "sealevelpressure": 1006.1,
                  "cloudcover": 97.2,
                  "visibility": 14.5,
                  "solarradiation": 155.2,
                  "solarenergy": 13.5,
                  "uvindex": 5,
                  "severerisk": 30,
                  "sunrise": "1671686556",
                  "sunset": "1671731809",
                  "moonphase": 0.96,
                  "conditions": "Rain, Overcast",
                  "description": "Cloudy skies throughout the day with rain.",
                  "icon": "rain",
                  "stations": "96805099999,remote",
                  "_deepnote_index_column": 16380
                },
                {
                  "name": "Kebumen, Indonesia",
                  "datetime": "2022-12-23",
                  "tempmax": 31.6,
                  "tempmin": 23.7,
                  "temp": 25.9,
                  "feelslikemax": 38.4,
                  "feelslikemin": 23.7,
                  "feelslike": 26.9,
                  "dew": 22.9,
                  "humidity": 83.9,
                  "precip": 10,
                  "precipprob": 100,
                  "precipcover": 8.33,
                  "preciptype": "rain",
                  "snow": 0,
                  "snowdepth": 0,
                  "windgust": 56.2,
                  "windspeed": 36.7,
                  "winddir": 280.6,
                  "sealevelpressure": 1007.2,
                  "cloudcover": 99.4,
                  "visibility": 15.2,
                  "solarradiation": 119,
                  "solarenergy": 10,
                  "uvindex": 7,
                  "severerisk": 10,
                  "sunrise": "1671772986",
                  "sunset": "1671818239",
                  "moonphase": 0,
                  "conditions": "Rain, Overcast",
                  "description": "Cloudy skies throughout the day with rain.",
                  "icon": "rain",
                  "stations": "96805099999,remote",
                  "_deepnote_index_column": 16381
                },
                {
                  "name": "Kebumen, Indonesia",
                  "datetime": "2022-12-24",
                  "tempmax": 28.9,
                  "tempmin": 24.1,
                  "temp": 26,
                  "feelslikemax": 33.5,
                  "feelslikemin": 24.1,
                  "feelslike": 27,
                  "dew": 22.6,
                  "humidity": 81.9,
                  "precip": 0.5,
                  "precipprob": 100,
                  "precipcover": 4.17,
                  "preciptype": "rain",
                  "snow": 0,
                  "snowdepth": 0,
                  "windgust": 17.3,
                  "windspeed": 11.5,
                  "winddir": 285.3,
                  "sealevelpressure": 1008.6,
                  "cloudcover": 98.9,
                  "visibility": 18.3,
                  "solarradiation": 114.5,
                  "solarenergy": 10,
                  "uvindex": 6,
                  "severerisk": 10,
                  "sunrise": "1671859417",
                  "sunset": "1671904668",
                  "moonphase": 0.03,
                  "conditions": "Rain, Overcast",
                  "description": "Cloudy skies throughout the day with early morning rain.",
                  "icon": "rain",
                  "stations": "96805099999,remote",
                  "_deepnote_index_column": 16382
                },
                {
                  "name": "Kebumen, Indonesia",
                  "datetime": "2022-12-25",
                  "tempmax": 28.7,
                  "tempmin": 24.5,
                  "temp": 25.9,
                  "feelslikemax": 33.8,
                  "feelslikemin": 24.5,
                  "feelslike": 26.8,
                  "dew": 22.8,
                  "humidity": 83.6,
                  "precip": 6.4,
                  "precipprob": 100,
                  "precipcover": 20.83,
                  "preciptype": "rain",
                  "snow": 0,
                  "snowdepth": 0,
                  "windgust": 19.1,
                  "windspeed": 11.5,
                  "winddir": 287.2,
                  "sealevelpressure": 1009,
                  "cloudcover": 95.1,
                  "visibility": 16.1,
                  "solarradiation": 84.8,
                  "solarenergy": 7.3,
                  "uvindex": 5,
                  "severerisk": 10,
                  "sunrise": "1671945847",
                  "sunset": "1671991097",
                  "moonphase": 0.06,
                  "conditions": "Rain, Overcast",
                  "description": "Cloudy skies throughout the day with rain.",
                  "icon": "rain",
                  "stations": "96805099999,remote",
                  "_deepnote_index_column": 16383
                },
                {
                  "name": "Kebumen, Indonesia",
                  "datetime": "2022-12-26",
                  "tempmax": 30.2,
                  "tempmin": 23.4,
                  "temp": 26,
                  "feelslikemax": 35.9,
                  "feelslikemin": 23.4,
                  "feelslike": 27,
                  "dew": 22.9,
                  "humidity": 83.3,
                  "precip": 2.7,
                  "precipprob": 100,
                  "precipcover": 16.67,
                  "preciptype": "rain",
                  "snow": 0,
                  "snowdepth": 0,
                  "windgust": 32.8,
                  "windspeed": 24.5,
                  "winddir": 270.8,
                  "sealevelpressure": 1010.3,
                  "cloudcover": 81.6,
                  "visibility": 13.5,
                  "solarradiation": 268,
                  "solarenergy": 23.3,
                  "uvindex": 9,
                  "severerisk": 30,
                  "sunrise": "1672032278",
                  "sunset": "1672077525",
                  "moonphase": 0.1,
                  "conditions": "Rain, Partially cloudy",
                  "description": "Partly cloudy throughout the day with a chance of rain throughout the day.",
                  "icon": "rain",
                  "stations": "96805099999,remote",
                  "_deepnote_index_column": 16384
                },
                {
                  "name": "Kebumen, Indonesia",
                  "datetime": "2022-12-27",
                  "tempmax": 30.1,
                  "tempmin": 23.8,
                  "temp": 26.2,
                  "feelslikemax": 35.2,
                  "feelslikemin": 23.8,
                  "feelslike": 27.5,
                  "dew": 22.9,
                  "humidity": 82.3,
                  "precip": 0.6,
                  "precipprob": 100,
                  "precipcover": 8.33,
                  "preciptype": "rain",
                  "snow": 0,
                  "snowdepth": 0,
                  "windgust": 23.8,
                  "windspeed": 20.5,
                  "winddir": 275.1,
                  "sealevelpressure": 1011.2,
                  "cloudcover": 97,
                  "visibility": 15.6,
                  "solarradiation": 233,
                  "solarenergy": 20.2,
                  "uvindex": 8,
                  "severerisk": 10,
                  "sunrise": "1672118709",
                  "sunset": "1672163953",
                  "moonphase": 0.13,
                  "conditions": "Rain, Overcast",
                  "description": "Cloudy skies throughout the day with rain in the morning and afternoon.",
                  "icon": "rain",
                  "stations": "96805099999,remote",
                  "_deepnote_index_column": 16385
                },
                {
                  "name": "Kebumen, Indonesia",
                  "datetime": "2022-12-28",
                  "tempmax": 29.6,
                  "tempmin": 24,
                  "temp": 26.6,
                  "feelslikemax": 35.9,
                  "feelslikemin": 24,
                  "feelslike": 27.9,
                  "dew": 23.2,
                  "humidity": 82,
                  "precip": 0.4,
                  "precipprob": 100,
                  "precipcover": 4.17,
                  "preciptype": "rain",
                  "snow": 0,
                  "snowdepth": 0,
                  "windgust": 46.4,
                  "windspeed": 27,
                  "winddir": 266.3,
                  "sealevelpressure": 1010.3,
                  "cloudcover": 82.8,
                  "visibility": 13.9,
                  "solarradiation": 298.2,
                  "solarenergy": 25.6,
                  "uvindex": 10,
                  "severerisk": 30,
                  "sunrise": "1672205140",
                  "sunset": "1672250380",
                  "moonphase": 0.16,
                  "conditions": "Rain, Partially cloudy",
                  "description": "Partly cloudy throughout the day with afternoon rain.",
                  "icon": "rain",
                  "stations": "96805099999,remote",
                  "_deepnote_index_column": 16386
                },
                {
                  "name": "Kebumen, Indonesia",
                  "datetime": "2022-12-29",
                  "tempmax": 32.1,
                  "tempmin": 24.2,
                  "temp": 26.5,
                  "feelslikemax": 38.4,
                  "feelslikemin": 24.2,
                  "feelslike": 27.8,
                  "dew": 23.1,
                  "humidity": 82.1,
                  "precip": 3.6,
                  "precipprob": 100,
                  "precipcover": 12.5,
                  "preciptype": "rain",
                  "snow": 0,
                  "snowdepth": 0,
                  "windgust": 37.1,
                  "windspeed": 22.7,
                  "winddir": 283.6,
                  "sealevelpressure": 1009.9,
                  "cloudcover": 93.1,
                  "visibility": 15.8,
                  "solarradiation": 189.8,
                  "solarenergy": 16.4,
                  "uvindex": 9,
                  "severerisk": 30,
                  "sunrise": "1672291571",
                  "sunset": "1672336807",
                  "moonphase": 0.2,
                  "conditions": "Rain, Overcast",
                  "description": "Cloudy skies throughout the day with rain.",
                  "icon": "rain",
                  "stations": "96805099999,remote",
                  "_deepnote_index_column": 16387
                },
                {
                  "name": "Kebumen, Indonesia",
                  "datetime": "2022-12-30",
                  "tempmax": 30.9,
                  "tempmin": 23.9,
                  "temp": 26.8,
                  "feelslikemax": 35.6,
                  "feelslikemin": 23.9,
                  "feelslike": 28.4,
                  "dew": 22.6,
                  "humidity": 78.4,
                  "precip": 2.8,
                  "precipprob": 100,
                  "precipcover": 29.17,
                  "preciptype": "rain",
                  "snow": 0,
                  "snowdepth": 0,
                  "windgust": 23.8,
                  "windspeed": 16.2,
                  "winddir": 318.3,
                  "sealevelpressure": 1009.9,
                  "cloudcover": 90.9,
                  "visibility": 17.1,
                  "solarradiation": 234.9,
                  "solarenergy": 20.2,
                  "uvindex": 10,
                  "severerisk": 30,
                  "sunrise": "1672378003",
                  "sunset": "1672423234",
                  "moonphase": 0.25,
                  "conditions": "Rain, Overcast",
                  "description": "Cloudy skies throughout the day with a chance of rain throughout the day.",
                  "icon": "rain",
                  "stations": "96805099999,remote",
                  "_deepnote_index_column": 16388
                },
                {
                  "name": "Kebumen, Indonesia",
                  "datetime": "2022-12-31",
                  "tempmax": 31.1,
                  "tempmin": 24.1,
                  "temp": 26.8,
                  "feelslikemax": 36.2,
                  "feelslikemin": 24.1,
                  "feelslike": 28.2,
                  "dew": 22.8,
                  "humidity": 79.2,
                  "precip": 2,
                  "precipprob": 100,
                  "precipcover": 4.17,
                  "preciptype": "rain",
                  "snow": 0,
                  "snowdepth": 0,
                  "windgust": 28.8,
                  "windspeed": 17.6,
                  "winddir": 305.5,
                  "sealevelpressure": 1009.5,
                  "cloudcover": 90.5,
                  "visibility": 15.6,
                  "solarradiation": 237,
                  "solarenergy": 20.6,
                  "uvindex": 9,
                  "severerisk": 30,
                  "sunrise": "1672464434",
                  "sunset": "1672509660",
                  "moonphase": 0.27,
                  "conditions": "Rain, Overcast",
                  "description": "Cloudy skies throughout the day with afternoon rain.",
                  "icon": "rain",
                  "stations": "96805099999,remote",
                  "_deepnote_index_column": 16389
                }
              ]
            },
            "text/plain": "                     name    datetime  tempmax  tempmin  temp  feelslikemax  \\\n16380  Kebumen, Indonesia  2022-12-22     32.1     25.1  26.9          39.3   \n16381  Kebumen, Indonesia  2022-12-23     31.6     23.7  25.9          38.4   \n16382  Kebumen, Indonesia  2022-12-24     28.9     24.1  26.0          33.5   \n16383  Kebumen, Indonesia  2022-12-25     28.7     24.5  25.9          33.8   \n16384  Kebumen, Indonesia  2022-12-26     30.2     23.4  26.0          35.9   \n16385  Kebumen, Indonesia  2022-12-27     30.1     23.8  26.2          35.2   \n16386  Kebumen, Indonesia  2022-12-28     29.6     24.0  26.6          35.9   \n16387  Kebumen, Indonesia  2022-12-29     32.1     24.2  26.5          38.4   \n16388  Kebumen, Indonesia  2022-12-30     30.9     23.9  26.8          35.6   \n16389  Kebumen, Indonesia  2022-12-31     31.1     24.1  26.8          36.2   \n\n       feelslikemin  feelslike   dew  humidity  ...  solarenergy  uvindex  \\\n16380          25.1       28.6  23.4      82.0  ...         13.5      5.0   \n16381          23.7       26.9  22.9      83.9  ...         10.0      7.0   \n16382          24.1       27.0  22.6      81.9  ...         10.0      6.0   \n16383          24.5       26.8  22.8      83.6  ...          7.3      5.0   \n16384          23.4       27.0  22.9      83.3  ...         23.3      9.0   \n16385          23.8       27.5  22.9      82.3  ...         20.2      8.0   \n16386          24.0       27.9  23.2      82.0  ...         25.6     10.0   \n16387          24.2       27.8  23.1      82.1  ...         16.4      9.0   \n16388          23.9       28.4  22.6      78.4  ...         20.2     10.0   \n16389          24.1       28.2  22.8      79.2  ...         20.6      9.0   \n\n       severerisk     sunrise      sunset  moonphase              conditions  \\\n16380        30.0  1671686556  1671731809       0.96          Rain, Overcast   \n16381        10.0  1671772986  1671818239       0.00          Rain, Overcast   \n16382        10.0  1671859417  1671904668       0.03          Rain, Overcast   \n16383        10.0  1671945847  1671991097       0.06          Rain, Overcast   \n16384        30.0  1672032278  1672077525       0.10  Rain, Partially cloudy   \n16385        10.0  1672118709  1672163953       0.13          Rain, Overcast   \n16386        30.0  1672205140  1672250380       0.16  Rain, Partially cloudy   \n16387        30.0  1672291571  1672336807       0.20          Rain, Overcast   \n16388        30.0  1672378003  1672423234       0.25          Rain, Overcast   \n16389        30.0  1672464434  1672509660       0.27          Rain, Overcast   \n\n                                             description  icon  \\\n16380         Cloudy skies throughout the day with rain.  rain   \n16381         Cloudy skies throughout the day with rain.  rain   \n16382  Cloudy skies throughout the day with early mor...  rain   \n16383         Cloudy skies throughout the day with rain.  rain   \n16384  Partly cloudy throughout the day with a chance...  rain   \n16385  Cloudy skies throughout the day with rain in t...  rain   \n16386  Partly cloudy throughout the day with afternoo...  rain   \n16387         Cloudy skies throughout the day with rain.  rain   \n16388  Cloudy skies throughout the day with a chance ...  rain   \n16389  Cloudy skies throughout the day with afternoon...  rain   \n\n                 stations  \n16380  96805099999,remote  \n16381  96805099999,remote  \n16382  96805099999,remote  \n16383  96805099999,remote  \n16384  96805099999,remote  \n16385  96805099999,remote  \n16386  96805099999,remote  \n16387  96805099999,remote  \n16388  96805099999,remote  \n16389  96805099999,remote  \n\n[10 rows x 33 columns]",
            "text/html": "<div>\n<style scoped>\n    .dataframe tbody tr th:only-of-type {\n        vertical-align: middle;\n    }\n\n    .dataframe tbody tr th {\n        vertical-align: top;\n    }\n\n    .dataframe thead th {\n        text-align: right;\n    }\n</style>\n<table border=\"1\" class=\"dataframe\">\n  <thead>\n    <tr style=\"text-align: right;\">\n      <th></th>\n      <th>name</th>\n      <th>datetime</th>\n      <th>tempmax</th>\n      <th>tempmin</th>\n      <th>temp</th>\n      <th>feelslikemax</th>\n      <th>feelslikemin</th>\n      <th>feelslike</th>\n      <th>dew</th>\n      <th>humidity</th>\n      <th>...</th>\n      <th>solarenergy</th>\n      <th>uvindex</th>\n      <th>severerisk</th>\n      <th>sunrise</th>\n      <th>sunset</th>\n      <th>moonphase</th>\n      <th>conditions</th>\n      <th>description</th>\n      <th>icon</th>\n      <th>stations</th>\n    </tr>\n  </thead>\n  <tbody>\n    <tr>\n      <th>16380</th>\n      <td>Kebumen, Indonesia</td>\n      <td>2022-12-22</td>\n      <td>32.1</td>\n      <td>25.1</td>\n      <td>26.9</td>\n      <td>39.3</td>\n      <td>25.1</td>\n      <td>28.6</td>\n      <td>23.4</td>\n      <td>82.0</td>\n      <td>...</td>\n      <td>13.5</td>\n      <td>5.0</td>\n      <td>30.0</td>\n      <td>1671686556</td>\n      <td>1671731809</td>\n      <td>0.96</td>\n      <td>Rain, Overcast</td>\n      <td>Cloudy skies throughout the day with rain.</td>\n      <td>rain</td>\n      <td>96805099999,remote</td>\n    </tr>\n    <tr>\n      <th>16381</th>\n      <td>Kebumen, Indonesia</td>\n      <td>2022-12-23</td>\n      <td>31.6</td>\n      <td>23.7</td>\n      <td>25.9</td>\n      <td>38.4</td>\n      <td>23.7</td>\n      <td>26.9</td>\n      <td>22.9</td>\n      <td>83.9</td>\n      <td>...</td>\n      <td>10.0</td>\n      <td>7.0</td>\n      <td>10.0</td>\n      <td>1671772986</td>\n      <td>1671818239</td>\n      <td>0.00</td>\n      <td>Rain, Overcast</td>\n      <td>Cloudy skies throughout the day with rain.</td>\n      <td>rain</td>\n      <td>96805099999,remote</td>\n    </tr>\n    <tr>\n      <th>16382</th>\n      <td>Kebumen, Indonesia</td>\n      <td>2022-12-24</td>\n      <td>28.9</td>\n      <td>24.1</td>\n      <td>26.0</td>\n      <td>33.5</td>\n      <td>24.1</td>\n      <td>27.0</td>\n      <td>22.6</td>\n      <td>81.9</td>\n      <td>...</td>\n      <td>10.0</td>\n      <td>6.0</td>\n      <td>10.0</td>\n      <td>1671859417</td>\n      <td>1671904668</td>\n      <td>0.03</td>\n      <td>Rain, Overcast</td>\n      <td>Cloudy skies throughout the day with early mor...</td>\n      <td>rain</td>\n      <td>96805099999,remote</td>\n    </tr>\n    <tr>\n      <th>16383</th>\n      <td>Kebumen, Indonesia</td>\n      <td>2022-12-25</td>\n      <td>28.7</td>\n      <td>24.5</td>\n      <td>25.9</td>\n      <td>33.8</td>\n      <td>24.5</td>\n      <td>26.8</td>\n      <td>22.8</td>\n      <td>83.6</td>\n      <td>...</td>\n      <td>7.3</td>\n      <td>5.0</td>\n      <td>10.0</td>\n      <td>1671945847</td>\n      <td>1671991097</td>\n      <td>0.06</td>\n      <td>Rain, Overcast</td>\n      <td>Cloudy skies throughout the day with rain.</td>\n      <td>rain</td>\n      <td>96805099999,remote</td>\n    </tr>\n    <tr>\n      <th>16384</th>\n      <td>Kebumen, Indonesia</td>\n      <td>2022-12-26</td>\n      <td>30.2</td>\n      <td>23.4</td>\n      <td>26.0</td>\n      <td>35.9</td>\n      <td>23.4</td>\n      <td>27.0</td>\n      <td>22.9</td>\n      <td>83.3</td>\n      <td>...</td>\n      <td>23.3</td>\n      <td>9.0</td>\n      <td>30.0</td>\n      <td>1672032278</td>\n      <td>1672077525</td>\n      <td>0.10</td>\n      <td>Rain, Partially cloudy</td>\n      <td>Partly cloudy throughout the day with a chance...</td>\n      <td>rain</td>\n      <td>96805099999,remote</td>\n    </tr>\n    <tr>\n      <th>16385</th>\n      <td>Kebumen, Indonesia</td>\n      <td>2022-12-27</td>\n      <td>30.1</td>\n      <td>23.8</td>\n      <td>26.2</td>\n      <td>35.2</td>\n      <td>23.8</td>\n      <td>27.5</td>\n      <td>22.9</td>\n      <td>82.3</td>\n      <td>...</td>\n      <td>20.2</td>\n      <td>8.0</td>\n      <td>10.0</td>\n      <td>1672118709</td>\n      <td>1672163953</td>\n      <td>0.13</td>\n      <td>Rain, Overcast</td>\n      <td>Cloudy skies throughout the day with rain in t...</td>\n      <td>rain</td>\n      <td>96805099999,remote</td>\n    </tr>\n    <tr>\n      <th>16386</th>\n      <td>Kebumen, Indonesia</td>\n      <td>2022-12-28</td>\n      <td>29.6</td>\n      <td>24.0</td>\n      <td>26.6</td>\n      <td>35.9</td>\n      <td>24.0</td>\n      <td>27.9</td>\n      <td>23.2</td>\n      <td>82.0</td>\n      <td>...</td>\n      <td>25.6</td>\n      <td>10.0</td>\n      <td>30.0</td>\n      <td>1672205140</td>\n      <td>1672250380</td>\n      <td>0.16</td>\n      <td>Rain, Partially cloudy</td>\n      <td>Partly cloudy throughout the day with afternoo...</td>\n      <td>rain</td>\n      <td>96805099999,remote</td>\n    </tr>\n    <tr>\n      <th>16387</th>\n      <td>Kebumen, Indonesia</td>\n      <td>2022-12-29</td>\n      <td>32.1</td>\n      <td>24.2</td>\n      <td>26.5</td>\n      <td>38.4</td>\n      <td>24.2</td>\n      <td>27.8</td>\n      <td>23.1</td>\n      <td>82.1</td>\n      <td>...</td>\n      <td>16.4</td>\n      <td>9.0</td>\n      <td>30.0</td>\n      <td>1672291571</td>\n      <td>1672336807</td>\n      <td>0.20</td>\n      <td>Rain, Overcast</td>\n      <td>Cloudy skies throughout the day with rain.</td>\n      <td>rain</td>\n      <td>96805099999,remote</td>\n    </tr>\n    <tr>\n      <th>16388</th>\n      <td>Kebumen, Indonesia</td>\n      <td>2022-12-30</td>\n      <td>30.9</td>\n      <td>23.9</td>\n      <td>26.8</td>\n      <td>35.6</td>\n      <td>23.9</td>\n      <td>28.4</td>\n      <td>22.6</td>\n      <td>78.4</td>\n      <td>...</td>\n      <td>20.2</td>\n      <td>10.0</td>\n      <td>30.0</td>\n      <td>1672378003</td>\n      <td>1672423234</td>\n      <td>0.25</td>\n      <td>Rain, Overcast</td>\n      <td>Cloudy skies throughout the day with a chance ...</td>\n      <td>rain</td>\n      <td>96805099999,remote</td>\n    </tr>\n    <tr>\n      <th>16389</th>\n      <td>Kebumen, Indonesia</td>\n      <td>2022-12-31</td>\n      <td>31.1</td>\n      <td>24.1</td>\n      <td>26.8</td>\n      <td>36.2</td>\n      <td>24.1</td>\n      <td>28.2</td>\n      <td>22.8</td>\n      <td>79.2</td>\n      <td>...</td>\n      <td>20.6</td>\n      <td>9.0</td>\n      <td>30.0</td>\n      <td>1672464434</td>\n      <td>1672509660</td>\n      <td>0.27</td>\n      <td>Rain, Overcast</td>\n      <td>Cloudy skies throughout the day with afternoon...</td>\n      <td>rain</td>\n      <td>96805099999,remote</td>\n    </tr>\n  </tbody>\n</table>\n<p>10 rows × 33 columns</p>\n</div>"
          },
          "metadata": {}
        }
      ],
      "outputs_reference": null,
      "execution_count": 4,
      "block_group": "dacb6f6e4f814581bddf5d3e939ba198",
      "content_dependencies": null
    },
    {
      "cell_type": "code",
      "source": "data2.tail(10)",
      "metadata": {
        "source_hash": "c03fc85b",
        "execution_start": 1736074246819,
        "execution_millis": 6,
        "execution_context_id": "3efd7ac1-9a58-472f-bb85-5bf86841e6be",
        "cell_id": "1b6adeeb64e945d9843f128b873ff6ee",
        "deepnote_cell_type": "code"
      },
      "outputs": [
        {
          "output_type": "execute_result",
          "execution_count": 5,
          "data": {
            "application/vnd.deepnote.dataframe.v3+json": {
              "column_count": 33,
              "row_count": 10,
              "columns": [
                {
                  "name": "name",
                  "dtype": "object",
                  "stats": {
                    "unique_count": 1,
                    "nan_count": 0,
                    "categories": [
                      {
                        "name": "Kebumen",
                        "count": 10
                      }
                    ]
                  }
                },
                {
                  "name": "datetime",
                  "dtype": "object",
                  "stats": {
                    "unique_count": 10,
                    "nan_count": 0,
                    "categories": [
                      {
                        "name": "2024-12-22",
                        "count": 1
                      },
                      {
                        "name": "2024-12-23",
                        "count": 1
                      },
                      {
                        "name": "8 others",
                        "count": 8
                      }
                    ]
                  }
                },
                {
                  "name": "tempmax",
                  "dtype": "float64",
                  "stats": {
                    "unique_count": 8,
                    "nan_count": 0,
                    "min": "26.2",
                    "max": "32.7",
                    "histogram": [
                      {
                        "bin_start": 26.2,
                        "bin_end": 26.85,
                        "count": 1
                      },
                      {
                        "bin_start": 26.85,
                        "bin_end": 27.5,
                        "count": 0
                      },
                      {
                        "bin_start": 27.5,
                        "bin_end": 28.15,
                        "count": 1
                      },
                      {
                        "bin_start": 28.15,
                        "bin_end": 28.8,
                        "count": 1
                      },
                      {
                        "bin_start": 28.8,
                        "bin_end": 29.450000000000003,
                        "count": 1
                      },
                      {
                        "bin_start": 29.450000000000003,
                        "bin_end": 30.1,
                        "count": 1
                      },
                      {
                        "bin_start": 30.1,
                        "bin_end": 30.75,
                        "count": 0
                      },
                      {
                        "bin_start": 30.75,
                        "bin_end": 31.400000000000002,
                        "count": 1
                      },
                      {
                        "bin_start": 31.400000000000002,
                        "bin_end": 32.050000000000004,
                        "count": 0
                      },
                      {
                        "bin_start": 32.050000000000004,
                        "bin_end": 32.7,
                        "count": 4
                      }
                    ]
                  }
                },
                {
                  "name": "tempmin",
                  "dtype": "float64",
                  "stats": {
                    "unique_count": 6,
                    "nan_count": 0,
                    "min": "24.0",
                    "max": "25.9",
                    "histogram": [
                      {
                        "bin_start": 24,
                        "bin_end": 24.19,
                        "count": 1
                      },
                      {
                        "bin_start": 24.19,
                        "bin_end": 24.38,
                        "count": 0
                      },
                      {
                        "bin_start": 24.38,
                        "bin_end": 24.57,
                        "count": 1
                      },
                      {
                        "bin_start": 24.57,
                        "bin_end": 24.759999999999998,
                        "count": 0
                      },
                      {
                        "bin_start": 24.759999999999998,
                        "bin_end": 24.95,
                        "count": 0
                      },
                      {
                        "bin_start": 24.95,
                        "bin_end": 25.14,
                        "count": 6
                      },
                      {
                        "bin_start": 25.14,
                        "bin_end": 25.33,
                        "count": 0
                      },
                      {
                        "bin_start": 25.33,
                        "bin_end": 25.52,
                        "count": 1
                      },
                      {
                        "bin_start": 25.52,
                        "bin_end": 25.709999999999997,
                        "count": 0
                      },
                      {
                        "bin_start": 25.709999999999997,
                        "bin_end": 25.9,
                        "count": 1
                      }
                    ]
                  }
                },
                {
                  "name": "temp",
                  "dtype": "float64",
                  "stats": {
                    "unique_count": 9,
                    "nan_count": 0,
                    "min": "25.5",
                    "max": "28.5",
                    "histogram": [
                      {
                        "bin_start": 25.5,
                        "bin_end": 25.8,
                        "count": 1
                      },
                      {
                        "bin_start": 25.8,
                        "bin_end": 26.1,
                        "count": 0
                      },
                      {
                        "bin_start": 26.1,
                        "bin_end": 26.4,
                        "count": 1
                      },
                      {
                        "bin_start": 26.4,
                        "bin_end": 26.7,
                        "count": 1
                      },
                      {
                        "bin_start": 26.7,
                        "bin_end": 27,
                        "count": 3
                      },
                      {
                        "bin_start": 27,
                        "bin_end": 27.3,
                        "count": 0
                      },
                      {
                        "bin_start": 27.3,
                        "bin_end": 27.6,
                        "count": 0
                      },
                      {
                        "bin_start": 27.6,
                        "bin_end": 27.9,
                        "count": 2
                      },
                      {
                        "bin_start": 27.9,
                        "bin_end": 28.2,
                        "count": 1
                      },
                      {
                        "bin_start": 28.2,
                        "bin_end": 28.5,
                        "count": 1
                      }
                    ]
                  }
                },
                {
                  "name": "feelslikemax",
                  "dtype": "float64",
                  "stats": {
                    "unique_count": 10,
                    "nan_count": 0,
                    "min": "26.2",
                    "max": "41.1",
                    "histogram": [
                      {
                        "bin_start": 26.2,
                        "bin_end": 27.689999999999998,
                        "count": 1
                      },
                      {
                        "bin_start": 27.689999999999998,
                        "bin_end": 29.18,
                        "count": 0
                      },
                      {
                        "bin_start": 29.18,
                        "bin_end": 30.67,
                        "count": 0
                      },
                      {
                        "bin_start": 30.67,
                        "bin_end": 32.16,
                        "count": 1
                      },
                      {
                        "bin_start": 32.16,
                        "bin_end": 33.65,
                        "count": 2
                      },
                      {
                        "bin_start": 33.65,
                        "bin_end": 35.14,
                        "count": 0
                      },
                      {
                        "bin_start": 35.14,
                        "bin_end": 36.63,
                        "count": 1
                      },
                      {
                        "bin_start": 36.63,
                        "bin_end": 38.120000000000005,
                        "count": 1
                      },
                      {
                        "bin_start": 38.120000000000005,
                        "bin_end": 39.61,
                        "count": 1
                      },
                      {
                        "bin_start": 39.61,
                        "bin_end": 41.1,
                        "count": 3
                      }
                    ]
                  }
                },
                {
                  "name": "feelslikemin",
                  "dtype": "float64",
                  "stats": {
                    "unique_count": 6,
                    "nan_count": 0,
                    "min": "24.0",
                    "max": "25.9",
                    "histogram": [
                      {
                        "bin_start": 24,
                        "bin_end": 24.19,
                        "count": 1
                      },
                      {
                        "bin_start": 24.19,
                        "bin_end": 24.38,
                        "count": 0
                      },
                      {
                        "bin_start": 24.38,
                        "bin_end": 24.57,
                        "count": 1
                      },
                      {
                        "bin_start": 24.57,
                        "bin_end": 24.759999999999998,
                        "count": 0
                      },
                      {
                        "bin_start": 24.759999999999998,
                        "bin_end": 24.95,
                        "count": 0
                      },
                      {
                        "bin_start": 24.95,
                        "bin_end": 25.14,
                        "count": 6
                      },
                      {
                        "bin_start": 25.14,
                        "bin_end": 25.33,
                        "count": 0
                      },
                      {
                        "bin_start": 25.33,
                        "bin_end": 25.52,
                        "count": 1
                      },
                      {
                        "bin_start": 25.52,
                        "bin_end": 25.709999999999997,
                        "count": 0
                      },
                      {
                        "bin_start": 25.709999999999997,
                        "bin_end": 25.9,
                        "count": 1
                      }
                    ]
                  }
                },
                {
                  "name": "feelslike",
                  "dtype": "float64",
                  "stats": {
                    "unique_count": 10,
                    "nan_count": 0,
                    "min": "25.5",
                    "max": "32.2",
                    "histogram": [
                      {
                        "bin_start": 25.5,
                        "bin_end": 26.17,
                        "count": 1
                      },
                      {
                        "bin_start": 26.17,
                        "bin_end": 26.84,
                        "count": 0
                      },
                      {
                        "bin_start": 26.84,
                        "bin_end": 27.51,
                        "count": 1
                      },
                      {
                        "bin_start": 27.51,
                        "bin_end": 28.18,
                        "count": 0
                      },
                      {
                        "bin_start": 28.18,
                        "bin_end": 28.85,
                        "count": 4
                      },
                      {
                        "bin_start": 28.85,
                        "bin_end": 29.520000000000003,
                        "count": 0
                      },
                      {
                        "bin_start": 29.520000000000003,
                        "bin_end": 30.19,
                        "count": 0
                      },
                      {
                        "bin_start": 30.19,
                        "bin_end": 30.860000000000003,
                        "count": 3
                      },
                      {
                        "bin_start": 30.860000000000003,
                        "bin_end": 31.53,
                        "count": 0
                      },
                      {
                        "bin_start": 31.53,
                        "bin_end": 32.2,
                        "count": 1
                      }
                    ]
                  }
                },
                {
                  "name": "dew",
                  "dtype": "float64",
                  "stats": {
                    "unique_count": 8,
                    "nan_count": 0,
                    "min": "22.5",
                    "max": "24.9",
                    "histogram": [
                      {
                        "bin_start": 22.5,
                        "bin_end": 22.74,
                        "count": 2
                      },
                      {
                        "bin_start": 22.74,
                        "bin_end": 22.98,
                        "count": 0
                      },
                      {
                        "bin_start": 22.98,
                        "bin_end": 23.22,
                        "count": 1
                      },
                      {
                        "bin_start": 23.22,
                        "bin_end": 23.46,
                        "count": 0
                      },
                      {
                        "bin_start": 23.46,
                        "bin_end": 23.7,
                        "count": 1
                      },
                      {
                        "bin_start": 23.7,
                        "bin_end": 23.939999999999998,
                        "count": 0
                      },
                      {
                        "bin_start": 23.939999999999998,
                        "bin_end": 24.18,
                        "count": 0
                      },
                      {
                        "bin_start": 24.18,
                        "bin_end": 24.419999999999998,
                        "count": 1
                      },
                      {
                        "bin_start": 24.419999999999998,
                        "bin_end": 24.66,
                        "count": 0
                      },
                      {
                        "bin_start": 24.66,
                        "bin_end": 24.9,
                        "count": 5
                      }
                    ]
                  }
                },
                {
                  "name": "humidity",
                  "dtype": "float64",
                  "stats": {
                    "unique_count": 9,
                    "nan_count": 0,
                    "min": "78.3",
                    "max": "88.9",
                    "histogram": [
                      {
                        "bin_start": 78.3,
                        "bin_end": 79.36,
                        "count": 1
                      },
                      {
                        "bin_start": 79.36,
                        "bin_end": 80.42,
                        "count": 0
                      },
                      {
                        "bin_start": 80.42,
                        "bin_end": 81.48,
                        "count": 0
                      },
                      {
                        "bin_start": 81.48,
                        "bin_end": 82.54,
                        "count": 1
                      },
                      {
                        "bin_start": 82.54,
                        "bin_end": 83.6,
                        "count": 2
                      },
                      {
                        "bin_start": 83.6,
                        "bin_end": 84.66,
                        "count": 4
                      },
                      {
                        "bin_start": 84.66,
                        "bin_end": 85.72,
                        "count": 0
                      },
                      {
                        "bin_start": 85.72,
                        "bin_end": 86.78,
                        "count": 0
                      },
                      {
                        "bin_start": 86.78,
                        "bin_end": 87.84,
                        "count": 1
                      },
                      {
                        "bin_start": 87.84,
                        "bin_end": 88.9,
                        "count": 1
                      }
                    ]
                  }
                },
                {
                  "name": "precip",
                  "dtype": "float64",
                  "stats": {
                    "unique_count": 10,
                    "nan_count": 0,
                    "min": "0.0",
                    "max": "71.0",
                    "histogram": [
                      {
                        "bin_start": 0,
                        "bin_end": 7.1,
                        "count": 4
                      },
                      {
                        "bin_start": 7.1,
                        "bin_end": 14.2,
                        "count": 1
                      },
                      {
                        "bin_start": 14.2,
                        "bin_end": 21.299999999999997,
                        "count": 2
                      },
                      {
                        "bin_start": 21.299999999999997,
                        "bin_end": 28.4,
                        "count": 2
                      },
                      {
                        "bin_start": 28.4,
                        "bin_end": 35.5,
                        "count": 0
                      },
                      {
                        "bin_start": 35.5,
                        "bin_end": 42.599999999999994,
                        "count": 0
                      },
                      {
                        "bin_start": 42.599999999999994,
                        "bin_end": 49.699999999999996,
                        "count": 0
                      },
                      {
                        "bin_start": 49.699999999999996,
                        "bin_end": 56.8,
                        "count": 0
                      },
                      {
                        "bin_start": 56.8,
                        "bin_end": 63.9,
                        "count": 0
                      },
                      {
                        "bin_start": 63.9,
                        "bin_end": 71,
                        "count": 1
                      }
                    ]
                  }
                },
                {
                  "name": "precipprob",
                  "dtype": "int64",
                  "stats": {
                    "unique_count": 2,
                    "nan_count": 0,
                    "min": "0",
                    "max": "100",
                    "histogram": [
                      {
                        "bin_start": 0,
                        "bin_end": 10,
                        "count": 1
                      },
                      {
                        "bin_start": 10,
                        "bin_end": 20,
                        "count": 0
                      },
                      {
                        "bin_start": 20,
                        "bin_end": 30,
                        "count": 0
                      },
                      {
                        "bin_start": 30,
                        "bin_end": 40,
                        "count": 0
                      },
                      {
                        "bin_start": 40,
                        "bin_end": 50,
                        "count": 0
                      },
                      {
                        "bin_start": 50,
                        "bin_end": 60,
                        "count": 0
                      },
                      {
                        "bin_start": 60,
                        "bin_end": 70,
                        "count": 0
                      },
                      {
                        "bin_start": 70,
                        "bin_end": 80,
                        "count": 0
                      },
                      {
                        "bin_start": 80,
                        "bin_end": 90,
                        "count": 0
                      },
                      {
                        "bin_start": 90,
                        "bin_end": 100,
                        "count": 9
                      }
                    ]
                  }
                },
                {
                  "name": "precipcover",
                  "dtype": "float64",
                  "stats": {
                    "unique_count": 8,
                    "nan_count": 0,
                    "min": "0.0",
                    "max": "58.33",
                    "histogram": [
                      {
                        "bin_start": 0,
                        "bin_end": 5.833,
                        "count": 3
                      },
                      {
                        "bin_start": 5.833,
                        "bin_end": 11.666,
                        "count": 0
                      },
                      {
                        "bin_start": 11.666,
                        "bin_end": 17.499000000000002,
                        "count": 2
                      },
                      {
                        "bin_start": 17.499000000000002,
                        "bin_end": 23.332,
                        "count": 1
                      },
                      {
                        "bin_start": 23.332,
                        "bin_end": 29.165,
                        "count": 0
                      },
                      {
                        "bin_start": 29.165,
                        "bin_end": 34.998000000000005,
                        "count": 1
                      },
                      {
                        "bin_start": 34.998000000000005,
                        "bin_end": 40.831,
                        "count": 0
                      },
                      {
                        "bin_start": 40.831,
                        "bin_end": 46.664,
                        "count": 0
                      },
                      {
                        "bin_start": 46.664,
                        "bin_end": 52.497,
                        "count": 0
                      },
                      {
                        "bin_start": 52.497,
                        "bin_end": 58.33,
                        "count": 3
                      }
                    ]
                  }
                },
                {
                  "name": "preciptype",
                  "dtype": "object",
                  "stats": {
                    "unique_count": 1,
                    "nan_count": 0,
                    "categories": [
                      {
                        "name": "rain",
                        "count": 10
                      }
                    ]
                  }
                },
                {
                  "name": "snow",
                  "dtype": "int64",
                  "stats": {
                    "unique_count": 1,
                    "nan_count": 0,
                    "min": "0",
                    "max": "0",
                    "histogram": [
                      {
                        "bin_start": -0.5,
                        "bin_end": -0.4,
                        "count": 0
                      },
                      {
                        "bin_start": -0.4,
                        "bin_end": -0.3,
                        "count": 0
                      },
                      {
                        "bin_start": -0.3,
                        "bin_end": -0.19999999999999996,
                        "count": 0
                      },
                      {
                        "bin_start": -0.19999999999999996,
                        "bin_end": -0.09999999999999998,
                        "count": 0
                      },
                      {
                        "bin_start": -0.09999999999999998,
                        "bin_end": 0,
                        "count": 0
                      },
                      {
                        "bin_start": 0,
                        "bin_end": 0.10000000000000009,
                        "count": 10
                      },
                      {
                        "bin_start": 0.10000000000000009,
                        "bin_end": 0.20000000000000007,
                        "count": 0
                      },
                      {
                        "bin_start": 0.20000000000000007,
                        "bin_end": 0.30000000000000004,
                        "count": 0
                      },
                      {
                        "bin_start": 0.30000000000000004,
                        "bin_end": 0.4,
                        "count": 0
                      },
                      {
                        "bin_start": 0.4,
                        "bin_end": 0.5,
                        "count": 0
                      }
                    ]
                  }
                },
                {
                  "name": "snowdepth",
                  "dtype": "int64",
                  "stats": {
                    "unique_count": 1,
                    "nan_count": 0,
                    "min": "0",
                    "max": "0",
                    "histogram": [
                      {
                        "bin_start": -0.5,
                        "bin_end": -0.4,
                        "count": 0
                      },
                      {
                        "bin_start": -0.4,
                        "bin_end": -0.3,
                        "count": 0
                      },
                      {
                        "bin_start": -0.3,
                        "bin_end": -0.19999999999999996,
                        "count": 0
                      },
                      {
                        "bin_start": -0.19999999999999996,
                        "bin_end": -0.09999999999999998,
                        "count": 0
                      },
                      {
                        "bin_start": -0.09999999999999998,
                        "bin_end": 0,
                        "count": 0
                      },
                      {
                        "bin_start": 0,
                        "bin_end": 0.10000000000000009,
                        "count": 10
                      },
                      {
                        "bin_start": 0.10000000000000009,
                        "bin_end": 0.20000000000000007,
                        "count": 0
                      },
                      {
                        "bin_start": 0.20000000000000007,
                        "bin_end": 0.30000000000000004,
                        "count": 0
                      },
                      {
                        "bin_start": 0.30000000000000004,
                        "bin_end": 0.4,
                        "count": 0
                      },
                      {
                        "bin_start": 0.4,
                        "bin_end": 0.5,
                        "count": 0
                      }
                    ]
                  }
                },
                {
                  "name": "windgust",
                  "dtype": "float64",
                  "stats": {
                    "unique_count": 10,
                    "nan_count": 0,
                    "min": "10.8",
                    "max": "42.5",
                    "histogram": [
                      {
                        "bin_start": 10.8,
                        "bin_end": 13.97,
                        "count": 1
                      },
                      {
                        "bin_start": 13.97,
                        "bin_end": 17.14,
                        "count": 1
                      },
                      {
                        "bin_start": 17.14,
                        "bin_end": 20.310000000000002,
                        "count": 1
                      },
                      {
                        "bin_start": 20.310000000000002,
                        "bin_end": 23.48,
                        "count": 4
                      },
                      {
                        "bin_start": 23.48,
                        "bin_end": 26.65,
                        "count": 0
                      },
                      {
                        "bin_start": 26.65,
                        "bin_end": 29.82,
                        "count": 0
                      },
                      {
                        "bin_start": 29.82,
                        "bin_end": 32.989999999999995,
                        "count": 0
                      },
                      {
                        "bin_start": 32.989999999999995,
                        "bin_end": 36.16,
                        "count": 0
                      },
                      {
                        "bin_start": 36.16,
                        "bin_end": 39.33,
                        "count": 2
                      },
                      {
                        "bin_start": 39.33,
                        "bin_end": 42.5,
                        "count": 1
                      }
                    ]
                  }
                },
                {
                  "name": "windspeed",
                  "dtype": "float64",
                  "stats": {
                    "unique_count": 8,
                    "nan_count": 0,
                    "min": "7.6",
                    "max": "26.3",
                    "histogram": [
                      {
                        "bin_start": 7.6,
                        "bin_end": 9.47,
                        "count": 1
                      },
                      {
                        "bin_start": 9.47,
                        "bin_end": 11.34,
                        "count": 4
                      },
                      {
                        "bin_start": 11.34,
                        "bin_end": 13.21,
                        "count": 0
                      },
                      {
                        "bin_start": 13.21,
                        "bin_end": 15.080000000000002,
                        "count": 1
                      },
                      {
                        "bin_start": 15.080000000000002,
                        "bin_end": 16.950000000000003,
                        "count": 1
                      },
                      {
                        "bin_start": 16.950000000000003,
                        "bin_end": 18.82,
                        "count": 0
                      },
                      {
                        "bin_start": 18.82,
                        "bin_end": 20.69,
                        "count": 1
                      },
                      {
                        "bin_start": 20.69,
                        "bin_end": 22.560000000000002,
                        "count": 0
                      },
                      {
                        "bin_start": 22.560000000000002,
                        "bin_end": 24.43,
                        "count": 1
                      },
                      {
                        "bin_start": 24.43,
                        "bin_end": 26.3,
                        "count": 1
                      }
                    ]
                  }
                },
                {
                  "name": "winddir",
                  "dtype": "float64",
                  "stats": {
                    "unique_count": 10,
                    "nan_count": 0,
                    "min": "117.1",
                    "max": "290.6",
                    "histogram": [
                      {
                        "bin_start": 117.1,
                        "bin_end": 134.45,
                        "count": 1
                      },
                      {
                        "bin_start": 134.45,
                        "bin_end": 151.8,
                        "count": 0
                      },
                      {
                        "bin_start": 151.8,
                        "bin_end": 169.15,
                        "count": 0
                      },
                      {
                        "bin_start": 169.15,
                        "bin_end": 186.5,
                        "count": 0
                      },
                      {
                        "bin_start": 186.5,
                        "bin_end": 203.85,
                        "count": 0
                      },
                      {
                        "bin_start": 203.85,
                        "bin_end": 221.2,
                        "count": 0
                      },
                      {
                        "bin_start": 221.2,
                        "bin_end": 238.55,
                        "count": 1
                      },
                      {
                        "bin_start": 238.55,
                        "bin_end": 255.9,
                        "count": 2
                      },
                      {
                        "bin_start": 255.9,
                        "bin_end": 273.25,
                        "count": 2
                      },
                      {
                        "bin_start": 273.25,
                        "bin_end": 290.6,
                        "count": 4
                      }
                    ]
                  }
                },
                {
                  "name": "sealevelpressure",
                  "dtype": "float64",
                  "stats": {
                    "unique_count": 10,
                    "nan_count": 0,
                    "min": "1008.6",
                    "max": "1011.8",
                    "histogram": [
                      {
                        "bin_start": 1008.6,
                        "bin_end": 1008.9200000000001,
                        "count": 3
                      },
                      {
                        "bin_start": 1008.9200000000001,
                        "bin_end": 1009.24,
                        "count": 1
                      },
                      {
                        "bin_start": 1009.24,
                        "bin_end": 1009.56,
                        "count": 0
                      },
                      {
                        "bin_start": 1009.56,
                        "bin_end": 1009.88,
                        "count": 1
                      },
                      {
                        "bin_start": 1009.88,
                        "bin_end": 1010.2,
                        "count": 1
                      },
                      {
                        "bin_start": 1010.2,
                        "bin_end": 1010.52,
                        "count": 0
                      },
                      {
                        "bin_start": 1010.52,
                        "bin_end": 1010.8399999999999,
                        "count": 2
                      },
                      {
                        "bin_start": 1010.8399999999999,
                        "bin_end": 1011.16,
                        "count": 0
                      },
                      {
                        "bin_start": 1011.16,
                        "bin_end": 1011.48,
                        "count": 0
                      },
                      {
                        "bin_start": 1011.48,
                        "bin_end": 1011.8,
                        "count": 2
                      }
                    ]
                  }
                },
                {
                  "name": "cloudcover",
                  "dtype": "float64",
                  "stats": {
                    "unique_count": 10,
                    "nan_count": 0,
                    "min": "73.3",
                    "max": "100.0",
                    "histogram": [
                      {
                        "bin_start": 73.3,
                        "bin_end": 75.97,
                        "count": 1
                      },
                      {
                        "bin_start": 75.97,
                        "bin_end": 78.64,
                        "count": 0
                      },
                      {
                        "bin_start": 78.64,
                        "bin_end": 81.31,
                        "count": 2
                      },
                      {
                        "bin_start": 81.31,
                        "bin_end": 83.98,
                        "count": 0
                      },
                      {
                        "bin_start": 83.98,
                        "bin_end": 86.65,
                        "count": 1
                      },
                      {
                        "bin_start": 86.65,
                        "bin_end": 89.32,
                        "count": 0
                      },
                      {
                        "bin_start": 89.32,
                        "bin_end": 91.99,
                        "count": 1
                      },
                      {
                        "bin_start": 91.99,
                        "bin_end": 94.66,
                        "count": 2
                      },
                      {
                        "bin_start": 94.66,
                        "bin_end": 97.33,
                        "count": 2
                      },
                      {
                        "bin_start": 97.33,
                        "bin_end": 100,
                        "count": 1
                      }
                    ]
                  }
                },
                {
                  "name": "visibility",
                  "dtype": "float64",
                  "stats": {
                    "unique_count": 8,
                    "nan_count": 0,
                    "min": "7.5",
                    "max": "22.9",
                    "histogram": [
                      {
                        "bin_start": 7.5,
                        "bin_end": 9.04,
                        "count": 6
                      },
                      {
                        "bin_start": 9.04,
                        "bin_end": 10.58,
                        "count": 0
                      },
                      {
                        "bin_start": 10.58,
                        "bin_end": 12.12,
                        "count": 0
                      },
                      {
                        "bin_start": 12.12,
                        "bin_end": 13.66,
                        "count": 0
                      },
                      {
                        "bin_start": 13.66,
                        "bin_end": 15.2,
                        "count": 0
                      },
                      {
                        "bin_start": 15.2,
                        "bin_end": 16.74,
                        "count": 1
                      },
                      {
                        "bin_start": 16.74,
                        "bin_end": 18.28,
                        "count": 1
                      },
                      {
                        "bin_start": 18.28,
                        "bin_end": 19.82,
                        "count": 1
                      },
                      {
                        "bin_start": 19.82,
                        "bin_end": 21.36,
                        "count": 0
                      },
                      {
                        "bin_start": 21.36,
                        "bin_end": 22.9,
                        "count": 1
                      }
                    ]
                  }
                },
                {
                  "name": "solarradiation",
                  "dtype": "float64",
                  "stats": {
                    "unique_count": 10,
                    "nan_count": 0,
                    "min": "39.8",
                    "max": "298.1",
                    "histogram": [
                      {
                        "bin_start": 39.8,
                        "bin_end": 65.63,
                        "count": 1
                      },
                      {
                        "bin_start": 65.63,
                        "bin_end": 91.46000000000001,
                        "count": 1
                      },
                      {
                        "bin_start": 91.46000000000001,
                        "bin_end": 117.29,
                        "count": 1
                      },
                      {
                        "bin_start": 117.29,
                        "bin_end": 143.12,
                        "count": 1
                      },
                      {
                        "bin_start": 143.12,
                        "bin_end": 168.95,
                        "count": 2
                      },
                      {
                        "bin_start": 168.95,
                        "bin_end": 194.78000000000003,
                        "count": 1
                      },
                      {
                        "bin_start": 194.78000000000003,
                        "bin_end": 220.61,
                        "count": 2
                      },
                      {
                        "bin_start": 220.61,
                        "bin_end": 246.44,
                        "count": 0
                      },
                      {
                        "bin_start": 246.44,
                        "bin_end": 272.27000000000004,
                        "count": 0
                      },
                      {
                        "bin_start": 272.27000000000004,
                        "bin_end": 298.1,
                        "count": 1
                      }
                    ]
                  }
                },
                {
                  "name": "solarenergy",
                  "dtype": "float64",
                  "stats": {
                    "unique_count": 10,
                    "nan_count": 0,
                    "min": "3.4",
                    "max": "25.8",
                    "histogram": [
                      {
                        "bin_start": 3.4,
                        "bin_end": 5.640000000000001,
                        "count": 1
                      },
                      {
                        "bin_start": 5.640000000000001,
                        "bin_end": 7.880000000000001,
                        "count": 1
                      },
                      {
                        "bin_start": 7.880000000000001,
                        "bin_end": 10.120000000000001,
                        "count": 1
                      },
                      {
                        "bin_start": 10.120000000000001,
                        "bin_end": 12.360000000000001,
                        "count": 1
                      },
                      {
                        "bin_start": 12.360000000000001,
                        "bin_end": 14.600000000000001,
                        "count": 2
                      },
                      {
                        "bin_start": 14.600000000000001,
                        "bin_end": 16.84,
                        "count": 1
                      },
                      {
                        "bin_start": 16.84,
                        "bin_end": 19.080000000000002,
                        "count": 2
                      },
                      {
                        "bin_start": 19.080000000000002,
                        "bin_end": 21.32,
                        "count": 0
                      },
                      {
                        "bin_start": 21.32,
                        "bin_end": 23.560000000000002,
                        "count": 0
                      },
                      {
                        "bin_start": 23.560000000000002,
                        "bin_end": 25.8,
                        "count": 1
                      }
                    ]
                  }
                },
                {
                  "name": "uvindex",
                  "dtype": "int64",
                  "stats": {
                    "unique_count": 7,
                    "nan_count": 0,
                    "min": "2",
                    "max": "10",
                    "histogram": [
                      {
                        "bin_start": 2,
                        "bin_end": 2.8,
                        "count": 1
                      },
                      {
                        "bin_start": 2.8,
                        "bin_end": 3.6,
                        "count": 0
                      },
                      {
                        "bin_start": 3.6,
                        "bin_end": 4.4,
                        "count": 1
                      },
                      {
                        "bin_start": 4.4,
                        "bin_end": 5.2,
                        "count": 0
                      },
                      {
                        "bin_start": 5.2,
                        "bin_end": 6,
                        "count": 0
                      },
                      {
                        "bin_start": 6,
                        "bin_end": 6.800000000000001,
                        "count": 3
                      },
                      {
                        "bin_start": 6.800000000000001,
                        "bin_end": 7.6000000000000005,
                        "count": 1
                      },
                      {
                        "bin_start": 7.6000000000000005,
                        "bin_end": 8.4,
                        "count": 2
                      },
                      {
                        "bin_start": 8.4,
                        "bin_end": 9.2,
                        "count": 1
                      },
                      {
                        "bin_start": 9.2,
                        "bin_end": 10,
                        "count": 1
                      }
                    ]
                  }
                },
                {
                  "name": "severerisk",
                  "dtype": "int64",
                  "stats": {
                    "unique_count": 2,
                    "nan_count": 0,
                    "min": "10",
                    "max": "30",
                    "histogram": [
                      {
                        "bin_start": 10,
                        "bin_end": 12,
                        "count": 5
                      },
                      {
                        "bin_start": 12,
                        "bin_end": 14,
                        "count": 0
                      },
                      {
                        "bin_start": 14,
                        "bin_end": 16,
                        "count": 0
                      },
                      {
                        "bin_start": 16,
                        "bin_end": 18,
                        "count": 0
                      },
                      {
                        "bin_start": 18,
                        "bin_end": 20,
                        "count": 0
                      },
                      {
                        "bin_start": 20,
                        "bin_end": 22,
                        "count": 0
                      },
                      {
                        "bin_start": 22,
                        "bin_end": 24,
                        "count": 0
                      },
                      {
                        "bin_start": 24,
                        "bin_end": 26,
                        "count": 0
                      },
                      {
                        "bin_start": 26,
                        "bin_end": 28,
                        "count": 0
                      },
                      {
                        "bin_start": 28,
                        "bin_end": 30,
                        "count": 5
                      }
                    ]
                  }
                },
                {
                  "name": "sunrise",
                  "dtype": "object",
                  "stats": {
                    "unique_count": 10,
                    "nan_count": 0,
                    "categories": [
                      {
                        "name": "2024-12-22T05:22:53",
                        "count": 1
                      },
                      {
                        "name": "2024-12-23T05:23:23",
                        "count": 1
                      },
                      {
                        "name": "8 others",
                        "count": 8
                      }
                    ]
                  }
                },
                {
                  "name": "sunset",
                  "dtype": "object",
                  "stats": {
                    "unique_count": 10,
                    "nan_count": 0,
                    "categories": [
                      {
                        "name": "2024-12-22T17:57:05",
                        "count": 1
                      },
                      {
                        "name": "2024-12-23T17:57:35",
                        "count": 1
                      },
                      {
                        "name": "8 others",
                        "count": 8
                      }
                    ]
                  }
                },
                {
                  "name": "moonphase",
                  "dtype": "float64",
                  "stats": {
                    "unique_count": 10,
                    "nan_count": 0,
                    "min": "0.0",
                    "max": "0.98",
                    "histogram": [
                      {
                        "bin_start": 0,
                        "bin_end": 0.098,
                        "count": 1
                      },
                      {
                        "bin_start": 0.098,
                        "bin_end": 0.196,
                        "count": 0
                      },
                      {
                        "bin_start": 0.196,
                        "bin_end": 0.29400000000000004,
                        "count": 0
                      },
                      {
                        "bin_start": 0.29400000000000004,
                        "bin_end": 0.392,
                        "count": 0
                      },
                      {
                        "bin_start": 0.392,
                        "bin_end": 0.49,
                        "count": 0
                      },
                      {
                        "bin_start": 0.49,
                        "bin_end": 0.5880000000000001,
                        "count": 0
                      },
                      {
                        "bin_start": 0.5880000000000001,
                        "bin_end": 0.686,
                        "count": 0
                      },
                      {
                        "bin_start": 0.686,
                        "bin_end": 0.784,
                        "count": 3
                      },
                      {
                        "bin_start": 0.784,
                        "bin_end": 0.882,
                        "count": 3
                      },
                      {
                        "bin_start": 0.882,
                        "bin_end": 0.98,
                        "count": 3
                      }
                    ]
                  }
                },
                {
                  "name": "conditions",
                  "dtype": "object",
                  "stats": {
                    "unique_count": 3,
                    "nan_count": 0,
                    "categories": [
                      {
                        "name": "Rain, Overcast",
                        "count": 5
                      },
                      {
                        "name": "Rain, Partially cloudy",
                        "count": 4
                      },
                      {
                        "name": "Partially cloudy",
                        "count": 1
                      }
                    ]
                  }
                },
                {
                  "name": "description",
                  "dtype": "object",
                  "stats": {
                    "unique_count": 6,
                    "nan_count": 0,
                    "categories": [
                      {
                        "name": "Cloudy skies throughout the day with a chance of rain throughout the day.",
                        "count": 3
                      },
                      {
                        "name": "Partly cloudy throughout the day with late afternoon rain.",
                        "count": 2
                      },
                      {
                        "name": "4 others",
                        "count": 5
                      }
                    ]
                  }
                },
                {
                  "name": "icon",
                  "dtype": "object",
                  "stats": {
                    "unique_count": 2,
                    "nan_count": 0,
                    "categories": [
                      {
                        "name": "rain",
                        "count": 9
                      },
                      {
                        "name": "partly-cloudy-day",
                        "count": 1
                      }
                    ]
                  }
                },
                {
                  "name": "stations",
                  "dtype": "object",
                  "stats": {
                    "unique_count": 3,
                    "nan_count": 0,
                    "categories": [
                      {
                        "name": "96805099999",
                        "count": 6
                      },
                      {
                        "name": "remote",
                        "count": 3
                      },
                      {
                        "name": "96805099999,remote",
                        "count": 1
                      }
                    ]
                  }
                },
                {
                  "name": "_deepnote_index_column",
                  "dtype": "int64"
                }
              ],
              "rows": [
                {
                  "name": "Kebumen",
                  "datetime": "2024-12-22",
                  "tempmax": 32.7,
                  "tempmin": 25.9,
                  "temp": 28,
                  "feelslikemax": 41.1,
                  "feelslikemin": 25.9,
                  "feelslike": 30.6,
                  "dew": 24.8,
                  "humidity": 83.5,
                  "precip": 23,
                  "precipprob": 100,
                  "precipcover": 4.17,
                  "preciptype": "rain",
                  "snow": 0,
                  "snowdepth": 0,
                  "windgust": 21.6,
                  "windspeed": 11.2,
                  "winddir": 117.1,
                  "sealevelpressure": 1009,
                  "cloudcover": 90,
                  "visibility": 7.9,
                  "solarradiation": 212.7,
                  "solarenergy": 18.4,
                  "uvindex": 8,
                  "severerisk": 30,
                  "sunrise": "2024-12-22T05:22:53",
                  "sunset": "2024-12-22T17:57:05",
                  "moonphase": 0.72,
                  "conditions": "Rain, Partially cloudy",
                  "description": "Partly cloudy throughout the day with late afternoon rain.",
                  "icon": "rain",
                  "stations": "96805099999",
                  "_deepnote_index_column": 721
                },
                {
                  "name": "Kebumen",
                  "datetime": "2024-12-23",
                  "tempmax": 32.7,
                  "tempmin": 25.1,
                  "temp": 27.8,
                  "feelslikemax": 40.3,
                  "feelslikemin": 25.1,
                  "feelslike": 30.8,
                  "dew": 24.7,
                  "humidity": 84.1,
                  "precip": 71,
                  "precipprob": 100,
                  "precipcover": 4.17,
                  "preciptype": "rain",
                  "snow": 0,
                  "snowdepth": 0,
                  "windgust": 23,
                  "windspeed": 11.2,
                  "winddir": 230.4,
                  "sealevelpressure": 1008.6,
                  "cloudcover": 81.3,
                  "visibility": 8.5,
                  "solarradiation": 215.6,
                  "solarenergy": 18.6,
                  "uvindex": 9,
                  "severerisk": 30,
                  "sunrise": "2024-12-23T05:23:23",
                  "sunset": "2024-12-23T17:57:35",
                  "moonphase": 0.75,
                  "conditions": "Rain, Partially cloudy",
                  "description": "Partly cloudy throughout the day with late afternoon rain.",
                  "icon": "rain",
                  "stations": "96805099999",
                  "_deepnote_index_column": 722
                },
                {
                  "name": "Kebumen",
                  "datetime": "2024-12-24",
                  "tempmax": 31.1,
                  "tempmin": 25.1,
                  "temp": 26.8,
                  "feelslikemax": 38,
                  "feelslikemin": 25.1,
                  "feelslike": 28.7,
                  "dew": 24.7,
                  "humidity": 88.9,
                  "precip": 5.6,
                  "precipprob": 100,
                  "precipcover": 20.83,
                  "preciptype": "rain",
                  "snow": 0,
                  "snowdepth": 0,
                  "windgust": 22.3,
                  "windspeed": 14.8,
                  "winddir": 280.5,
                  "sealevelpressure": 1008.9,
                  "cloudcover": 96.3,
                  "visibility": 7.5,
                  "solarradiation": 90.2,
                  "solarenergy": 7.7,
                  "uvindex": 4,
                  "severerisk": 30,
                  "sunrise": "2024-12-24T05:23:53",
                  "sunset": "2024-12-24T17:58:04",
                  "moonphase": 0.78,
                  "conditions": "Rain, Overcast",
                  "description": "Cloudy skies throughout the day with rain.",
                  "icon": "rain",
                  "stations": "96805099999",
                  "_deepnote_index_column": 723
                },
                {
                  "name": "Kebumen",
                  "datetime": "2024-12-25",
                  "tempmax": 32.4,
                  "tempmin": 25.1,
                  "temp": 27.7,
                  "feelslikemax": 39.9,
                  "feelslikemin": 25.1,
                  "feelslike": 30.5,
                  "dew": 24.7,
                  "humidity": 84.6,
                  "precip": 22.2,
                  "precipprob": 100,
                  "precipcover": 12.5,
                  "preciptype": "rain",
                  "snow": 0,
                  "snowdepth": 0,
                  "windgust": 22.7,
                  "windspeed": 20.5,
                  "winddir": 243.9,
                  "sealevelpressure": 1010.1,
                  "cloudcover": 85.4,
                  "visibility": 8,
                  "solarradiation": 168.1,
                  "solarenergy": 14.5,
                  "uvindex": 8,
                  "severerisk": 10,
                  "sunrise": "2024-12-25T05:24:24",
                  "sunset": "2024-12-25T17:58:32",
                  "moonphase": 0.82,
                  "conditions": "Rain, Partially cloudy",
                  "description": "Partly cloudy throughout the day with rain.",
                  "icon": "rain",
                  "stations": "96805099999",
                  "_deepnote_index_column": 724
                },
                {
                  "name": "Kebumen",
                  "datetime": "2024-12-26",
                  "tempmax": 29.4,
                  "tempmin": 25.1,
                  "temp": 26.8,
                  "feelslikemax": 35.3,
                  "feelslikemin": 25.1,
                  "feelslike": 28.8,
                  "dew": 24.4,
                  "humidity": 86.9,
                  "precip": 1.1,
                  "precipprob": 100,
                  "precipcover": 16.67,
                  "preciptype": "rain",
                  "snow": 0,
                  "snowdepth": 0,
                  "windgust": 38.9,
                  "windspeed": 16.6,
                  "winddir": 268.8,
                  "sealevelpressure": 1011.8,
                  "cloudcover": 92.5,
                  "visibility": 8,
                  "solarradiation": 147.4,
                  "solarenergy": 12.7,
                  "uvindex": 7,
                  "severerisk": 30,
                  "sunrise": "2024-12-26T05:24:55",
                  "sunset": "2024-12-26T17:59:00",
                  "moonphase": 0.85,
                  "conditions": "Rain, Overcast",
                  "description": "Cloudy skies throughout the day with a chance of rain throughout the day.",
                  "icon": "rain",
                  "stations": "96805099999",
                  "_deepnote_index_column": 725
                },
                {
                  "name": "Kebumen",
                  "datetime": "2024-12-27",
                  "tempmax": 32.7,
                  "tempmin": 25.1,
                  "temp": 28.5,
                  "feelslikemax": 39.5,
                  "feelslikemin": 25.1,
                  "feelslike": 32.2,
                  "dew": 24.9,
                  "humidity": 81.7,
                  "precip": 0,
                  "precipprob": 0,
                  "precipcover": 0,
                  "preciptype": "rain",
                  "snow": 0,
                  "snowdepth": 0,
                  "windgust": 19.8,
                  "windspeed": 11.2,
                  "winddir": 249.3,
                  "sealevelpressure": 1011.5,
                  "cloudcover": 73.3,
                  "visibility": 8.5,
                  "solarradiation": 182.6,
                  "solarenergy": 15.6,
                  "uvindex": 6,
                  "severerisk": 10,
                  "sunrise": "2024-12-27T05:25:26",
                  "sunset": "2024-12-27T17:59:28",
                  "moonphase": 0.88,
                  "conditions": "Partially cloudy",
                  "description": "Partly cloudy throughout the day.",
                  "icon": "partly-cloudy-day",
                  "stations": "96805099999",
                  "_deepnote_index_column": 726
                },
                {
                  "name": "Kebumen",
                  "datetime": "2024-12-28",
                  "tempmax": 27.8,
                  "tempmin": 25.4,
                  "temp": 26.6,
                  "feelslikemax": 32.5,
                  "feelslikemin": 25.4,
                  "feelslike": 28.4,
                  "dew": 23.6,
                  "humidity": 83.9,
                  "precip": 10.4,
                  "precipprob": 100,
                  "precipcover": 54.17,
                  "preciptype": "rain",
                  "snow": 0,
                  "snowdepth": 0,
                  "windgust": 16.9,
                  "windspeed": 10.8,
                  "winddir": 290.6,
                  "sealevelpressure": 1010.7,
                  "cloudcover": 93.8,
                  "visibility": 18.4,
                  "solarradiation": 96.5,
                  "solarenergy": 8.1,
                  "uvindex": 6,
                  "severerisk": 30,
                  "sunrise": "2024-12-28T05:25:57",
                  "sunset": "2024-12-28T17:59:55",
                  "moonphase": 0.91,
                  "conditions": "Rain, Overcast",
                  "description": "Cloudy skies throughout the day with a chance of rain throughout the day.",
                  "icon": "rain",
                  "stations": "96805099999,remote",
                  "_deepnote_index_column": 727
                },
                {
                  "name": "Kebumen",
                  "datetime": "2024-12-29",
                  "tempmax": 26.2,
                  "tempmin": 25,
                  "temp": 25.5,
                  "feelslikemax": 26.2,
                  "feelslikemin": 25,
                  "feelslike": 25.5,
                  "dew": 22.5,
                  "humidity": 83.7,
                  "precip": 1.6,
                  "precipprob": 100,
                  "precipcover": 33.33,
                  "preciptype": "rain",
                  "snow": 0,
                  "snowdepth": 0,
                  "windgust": 10.8,
                  "windspeed": 7.6,
                  "winddir": 274.1,
                  "sealevelpressure": 1010.6,
                  "cloudcover": 100,
                  "visibility": 22.9,
                  "solarradiation": 39.8,
                  "solarenergy": 3.4,
                  "uvindex": 2,
                  "severerisk": 10,
                  "sunrise": "2024-12-29T05:26:28",
                  "sunset": "2024-12-29T18:00:22",
                  "moonphase": 0.94,
                  "conditions": "Rain, Overcast",
                  "description": "Cloudy skies throughout the day with a chance of rain throughout the day.",
                  "icon": "rain",
                  "stations": "remote",
                  "_deepnote_index_column": 728
                },
                {
                  "name": "Kebumen",
                  "datetime": "2024-12-30",
                  "tempmax": 29.6,
                  "tempmin": 24.5,
                  "temp": 26.7,
                  "feelslikemax": 33.6,
                  "feelslikemin": 24.5,
                  "feelslike": 28.2,
                  "dew": 22.6,
                  "humidity": 78.3,
                  "precip": 14.2,
                  "precipprob": 100,
                  "precipcover": 54.17,
                  "preciptype": "rain",
                  "snow": 0,
                  "snowdepth": 0,
                  "windgust": 36.4,
                  "windspeed": 23.8,
                  "winddir": 266,
                  "sealevelpressure": 1009.7,
                  "cloudcover": 79.2,
                  "visibility": 17,
                  "solarradiation": 298.1,
                  "solarenergy": 25.8,
                  "uvindex": 10,
                  "severerisk": 10,
                  "sunrise": "2024-12-30T05:27:00",
                  "sunset": "2024-12-30T18:00:48",
                  "moonphase": 0.98,
                  "conditions": "Rain, Partially cloudy",
                  "description": "Partly cloudy throughout the day with a chance of rain throughout the day.",
                  "icon": "rain",
                  "stations": "remote",
                  "_deepnote_index_column": 729
                },
                {
                  "name": "Kebumen",
                  "datetime": "2024-12-31",
                  "tempmax": 28.4,
                  "tempmin": 24,
                  "temp": 26.1,
                  "feelslikemax": 31.7,
                  "feelslikemin": 24,
                  "feelslike": 27,
                  "dew": 23,
                  "humidity": 83.5,
                  "precip": 14.5,
                  "precipprob": 100,
                  "precipcover": 58.33,
                  "preciptype": "rain",
                  "snow": 0,
                  "snowdepth": 0,
                  "windgust": 42.5,
                  "windspeed": 26.3,
                  "winddir": 282,
                  "sealevelpressure": 1008.8,
                  "cloudcover": 96.2,
                  "visibility": 16.6,
                  "solarradiation": 127.7,
                  "solarenergy": 10.9,
                  "uvindex": 6,
                  "severerisk": 10,
                  "sunrise": "2024-12-31T05:27:31",
                  "sunset": "2024-12-31T18:01:14",
                  "moonphase": 0,
                  "conditions": "Rain, Overcast",
                  "description": "Cloudy skies throughout the day with rain.",
                  "icon": "rain",
                  "stations": "remote",
                  "_deepnote_index_column": 730
                }
              ]
            },
            "text/plain": "        name    datetime  tempmax  tempmin  temp  feelslikemax  feelslikemin  \\\n721  Kebumen  2024-12-22     32.7     25.9  28.0          41.1          25.9   \n722  Kebumen  2024-12-23     32.7     25.1  27.8          40.3          25.1   \n723  Kebumen  2024-12-24     31.1     25.1  26.8          38.0          25.1   \n724  Kebumen  2024-12-25     32.4     25.1  27.7          39.9          25.1   \n725  Kebumen  2024-12-26     29.4     25.1  26.8          35.3          25.1   \n726  Kebumen  2024-12-27     32.7     25.1  28.5          39.5          25.1   \n727  Kebumen  2024-12-28     27.8     25.4  26.6          32.5          25.4   \n728  Kebumen  2024-12-29     26.2     25.0  25.5          26.2          25.0   \n729  Kebumen  2024-12-30     29.6     24.5  26.7          33.6          24.5   \n730  Kebumen  2024-12-31     28.4     24.0  26.1          31.7          24.0   \n\n     feelslike   dew  humidity  ...  solarenergy  uvindex  severerisk  \\\n721       30.6  24.8      83.5  ...         18.4        8          30   \n722       30.8  24.7      84.1  ...         18.6        9          30   \n723       28.7  24.7      88.9  ...          7.7        4          30   \n724       30.5  24.7      84.6  ...         14.5        8          10   \n725       28.8  24.4      86.9  ...         12.7        7          30   \n726       32.2  24.9      81.7  ...         15.6        6          10   \n727       28.4  23.6      83.9  ...          8.1        6          30   \n728       25.5  22.5      83.7  ...          3.4        2          10   \n729       28.2  22.6      78.3  ...         25.8       10          10   \n730       27.0  23.0      83.5  ...         10.9        6          10   \n\n                 sunrise               sunset  moonphase  \\\n721  2024-12-22T05:22:53  2024-12-22T17:57:05       0.72   \n722  2024-12-23T05:23:23  2024-12-23T17:57:35       0.75   \n723  2024-12-24T05:23:53  2024-12-24T17:58:04       0.78   \n724  2024-12-25T05:24:24  2024-12-25T17:58:32       0.82   \n725  2024-12-26T05:24:55  2024-12-26T17:59:00       0.85   \n726  2024-12-27T05:25:26  2024-12-27T17:59:28       0.88   \n727  2024-12-28T05:25:57  2024-12-28T17:59:55       0.91   \n728  2024-12-29T05:26:28  2024-12-29T18:00:22       0.94   \n729  2024-12-30T05:27:00  2024-12-30T18:00:48       0.98   \n730  2024-12-31T05:27:31  2024-12-31T18:01:14       0.00   \n\n                 conditions  \\\n721  Rain, Partially cloudy   \n722  Rain, Partially cloudy   \n723          Rain, Overcast   \n724  Rain, Partially cloudy   \n725          Rain, Overcast   \n726        Partially cloudy   \n727          Rain, Overcast   \n728          Rain, Overcast   \n729  Rain, Partially cloudy   \n730          Rain, Overcast   \n\n                                           description               icon  \\\n721  Partly cloudy throughout the day with late aft...               rain   \n722  Partly cloudy throughout the day with late aft...               rain   \n723         Cloudy skies throughout the day with rain.               rain   \n724        Partly cloudy throughout the day with rain.               rain   \n725  Cloudy skies throughout the day with a chance ...               rain   \n726                  Partly cloudy throughout the day.  partly-cloudy-day   \n727  Cloudy skies throughout the day with a chance ...               rain   \n728  Cloudy skies throughout the day with a chance ...               rain   \n729  Partly cloudy throughout the day with a chance...               rain   \n730         Cloudy skies throughout the day with rain.               rain   \n\n               stations  \n721         96805099999  \n722         96805099999  \n723         96805099999  \n724         96805099999  \n725         96805099999  \n726         96805099999  \n727  96805099999,remote  \n728              remote  \n729              remote  \n730              remote  \n\n[10 rows x 33 columns]",
            "text/html": "<div>\n<style scoped>\n    .dataframe tbody tr th:only-of-type {\n        vertical-align: middle;\n    }\n\n    .dataframe tbody tr th {\n        vertical-align: top;\n    }\n\n    .dataframe thead th {\n        text-align: right;\n    }\n</style>\n<table border=\"1\" class=\"dataframe\">\n  <thead>\n    <tr style=\"text-align: right;\">\n      <th></th>\n      <th>name</th>\n      <th>datetime</th>\n      <th>tempmax</th>\n      <th>tempmin</th>\n      <th>temp</th>\n      <th>feelslikemax</th>\n      <th>feelslikemin</th>\n      <th>feelslike</th>\n      <th>dew</th>\n      <th>humidity</th>\n      <th>...</th>\n      <th>solarenergy</th>\n      <th>uvindex</th>\n      <th>severerisk</th>\n      <th>sunrise</th>\n      <th>sunset</th>\n      <th>moonphase</th>\n      <th>conditions</th>\n      <th>description</th>\n      <th>icon</th>\n      <th>stations</th>\n    </tr>\n  </thead>\n  <tbody>\n    <tr>\n      <th>721</th>\n      <td>Kebumen</td>\n      <td>2024-12-22</td>\n      <td>32.7</td>\n      <td>25.9</td>\n      <td>28.0</td>\n      <td>41.1</td>\n      <td>25.9</td>\n      <td>30.6</td>\n      <td>24.8</td>\n      <td>83.5</td>\n      <td>...</td>\n      <td>18.4</td>\n      <td>8</td>\n      <td>30</td>\n      <td>2024-12-22T05:22:53</td>\n      <td>2024-12-22T17:57:05</td>\n      <td>0.72</td>\n      <td>Rain, Partially cloudy</td>\n      <td>Partly cloudy throughout the day with late aft...</td>\n      <td>rain</td>\n      <td>96805099999</td>\n    </tr>\n    <tr>\n      <th>722</th>\n      <td>Kebumen</td>\n      <td>2024-12-23</td>\n      <td>32.7</td>\n      <td>25.1</td>\n      <td>27.8</td>\n      <td>40.3</td>\n      <td>25.1</td>\n      <td>30.8</td>\n      <td>24.7</td>\n      <td>84.1</td>\n      <td>...</td>\n      <td>18.6</td>\n      <td>9</td>\n      <td>30</td>\n      <td>2024-12-23T05:23:23</td>\n      <td>2024-12-23T17:57:35</td>\n      <td>0.75</td>\n      <td>Rain, Partially cloudy</td>\n      <td>Partly cloudy throughout the day with late aft...</td>\n      <td>rain</td>\n      <td>96805099999</td>\n    </tr>\n    <tr>\n      <th>723</th>\n      <td>Kebumen</td>\n      <td>2024-12-24</td>\n      <td>31.1</td>\n      <td>25.1</td>\n      <td>26.8</td>\n      <td>38.0</td>\n      <td>25.1</td>\n      <td>28.7</td>\n      <td>24.7</td>\n      <td>88.9</td>\n      <td>...</td>\n      <td>7.7</td>\n      <td>4</td>\n      <td>30</td>\n      <td>2024-12-24T05:23:53</td>\n      <td>2024-12-24T17:58:04</td>\n      <td>0.78</td>\n      <td>Rain, Overcast</td>\n      <td>Cloudy skies throughout the day with rain.</td>\n      <td>rain</td>\n      <td>96805099999</td>\n    </tr>\n    <tr>\n      <th>724</th>\n      <td>Kebumen</td>\n      <td>2024-12-25</td>\n      <td>32.4</td>\n      <td>25.1</td>\n      <td>27.7</td>\n      <td>39.9</td>\n      <td>25.1</td>\n      <td>30.5</td>\n      <td>24.7</td>\n      <td>84.6</td>\n      <td>...</td>\n      <td>14.5</td>\n      <td>8</td>\n      <td>10</td>\n      <td>2024-12-25T05:24:24</td>\n      <td>2024-12-25T17:58:32</td>\n      <td>0.82</td>\n      <td>Rain, Partially cloudy</td>\n      <td>Partly cloudy throughout the day with rain.</td>\n      <td>rain</td>\n      <td>96805099999</td>\n    </tr>\n    <tr>\n      <th>725</th>\n      <td>Kebumen</td>\n      <td>2024-12-26</td>\n      <td>29.4</td>\n      <td>25.1</td>\n      <td>26.8</td>\n      <td>35.3</td>\n      <td>25.1</td>\n      <td>28.8</td>\n      <td>24.4</td>\n      <td>86.9</td>\n      <td>...</td>\n      <td>12.7</td>\n      <td>7</td>\n      <td>30</td>\n      <td>2024-12-26T05:24:55</td>\n      <td>2024-12-26T17:59:00</td>\n      <td>0.85</td>\n      <td>Rain, Overcast</td>\n      <td>Cloudy skies throughout the day with a chance ...</td>\n      <td>rain</td>\n      <td>96805099999</td>\n    </tr>\n    <tr>\n      <th>726</th>\n      <td>Kebumen</td>\n      <td>2024-12-27</td>\n      <td>32.7</td>\n      <td>25.1</td>\n      <td>28.5</td>\n      <td>39.5</td>\n      <td>25.1</td>\n      <td>32.2</td>\n      <td>24.9</td>\n      <td>81.7</td>\n      <td>...</td>\n      <td>15.6</td>\n      <td>6</td>\n      <td>10</td>\n      <td>2024-12-27T05:25:26</td>\n      <td>2024-12-27T17:59:28</td>\n      <td>0.88</td>\n      <td>Partially cloudy</td>\n      <td>Partly cloudy throughout the day.</td>\n      <td>partly-cloudy-day</td>\n      <td>96805099999</td>\n    </tr>\n    <tr>\n      <th>727</th>\n      <td>Kebumen</td>\n      <td>2024-12-28</td>\n      <td>27.8</td>\n      <td>25.4</td>\n      <td>26.6</td>\n      <td>32.5</td>\n      <td>25.4</td>\n      <td>28.4</td>\n      <td>23.6</td>\n      <td>83.9</td>\n      <td>...</td>\n      <td>8.1</td>\n      <td>6</td>\n      <td>30</td>\n      <td>2024-12-28T05:25:57</td>\n      <td>2024-12-28T17:59:55</td>\n      <td>0.91</td>\n      <td>Rain, Overcast</td>\n      <td>Cloudy skies throughout the day with a chance ...</td>\n      <td>rain</td>\n      <td>96805099999,remote</td>\n    </tr>\n    <tr>\n      <th>728</th>\n      <td>Kebumen</td>\n      <td>2024-12-29</td>\n      <td>26.2</td>\n      <td>25.0</td>\n      <td>25.5</td>\n      <td>26.2</td>\n      <td>25.0</td>\n      <td>25.5</td>\n      <td>22.5</td>\n      <td>83.7</td>\n      <td>...</td>\n      <td>3.4</td>\n      <td>2</td>\n      <td>10</td>\n      <td>2024-12-29T05:26:28</td>\n      <td>2024-12-29T18:00:22</td>\n      <td>0.94</td>\n      <td>Rain, Overcast</td>\n      <td>Cloudy skies throughout the day with a chance ...</td>\n      <td>rain</td>\n      <td>remote</td>\n    </tr>\n    <tr>\n      <th>729</th>\n      <td>Kebumen</td>\n      <td>2024-12-30</td>\n      <td>29.6</td>\n      <td>24.5</td>\n      <td>26.7</td>\n      <td>33.6</td>\n      <td>24.5</td>\n      <td>28.2</td>\n      <td>22.6</td>\n      <td>78.3</td>\n      <td>...</td>\n      <td>25.8</td>\n      <td>10</td>\n      <td>10</td>\n      <td>2024-12-30T05:27:00</td>\n      <td>2024-12-30T18:00:48</td>\n      <td>0.98</td>\n      <td>Rain, Partially cloudy</td>\n      <td>Partly cloudy throughout the day with a chance...</td>\n      <td>rain</td>\n      <td>remote</td>\n    </tr>\n    <tr>\n      <th>730</th>\n      <td>Kebumen</td>\n      <td>2024-12-31</td>\n      <td>28.4</td>\n      <td>24.0</td>\n      <td>26.1</td>\n      <td>31.7</td>\n      <td>24.0</td>\n      <td>27.0</td>\n      <td>23.0</td>\n      <td>83.5</td>\n      <td>...</td>\n      <td>10.9</td>\n      <td>6</td>\n      <td>10</td>\n      <td>2024-12-31T05:27:31</td>\n      <td>2024-12-31T18:01:14</td>\n      <td>0.00</td>\n      <td>Rain, Overcast</td>\n      <td>Cloudy skies throughout the day with rain.</td>\n      <td>rain</td>\n      <td>remote</td>\n    </tr>\n  </tbody>\n</table>\n<p>10 rows × 33 columns</p>\n</div>"
          },
          "metadata": {}
        }
      ],
      "outputs_reference": null,
      "execution_count": 5,
      "block_group": "224b97a7d2214e299e04cce845507432",
      "content_dependencies": null
    },
    {
      "cell_type": "code",
      "source": "data3 = pd.concat([data1, data2], ignore_index=True)\n\ndata3",
      "metadata": {
        "source_hash": "6493e981",
        "execution_start": 1736074246867,
        "execution_millis": 37,
        "deepnote_table_state": {
          "sortBy": [],
          "filters": [],
          "pageSize": 10,
          "pageIndex": 1712,
          "columnOrder": [
            "name",
            "datetime",
            "tempmax",
            "tempmin",
            "temp",
            "feelslikemax",
            "feelslikemin",
            "feelslike",
            "dew",
            "humidity",
            "precip",
            "precipprob",
            "precipcover",
            "preciptype",
            "snow",
            "snowdepth",
            "windgust",
            "windspeed",
            "winddir",
            "sealevelpressure",
            "cloudcover",
            "visibility",
            "solarradiation",
            "solarenergy",
            "uvindex",
            "severerisk",
            "sunrise",
            "sunset",
            "moonphase",
            "conditions",
            "description",
            "icon",
            "stations"
          ],
          "hiddenColumnIds": [],
          "columnDisplayNames": [],
          "conditionalFilters": [],
          "cellFormattingRules": [],
          "wrappedTextColumnIds": []
        },
        "execution_context_id": "3efd7ac1-9a58-472f-bb85-5bf86841e6be",
        "deepnote_table_loading": false,
        "cell_id": "afe955ed220241d2a200c24c70a51c73",
        "deepnote_cell_type": "code"
      },
      "outputs": [
        {
          "output_type": "execute_result",
          "execution_count": 6,
          "data": {
            "application/vnd.deepnote.dataframe.v3+json": {
              "column_count": 33,
              "row_count": 17121,
              "columns": [
                {
                  "name": "name",
                  "dtype": "object",
                  "stats": {
                    "unique_count": 2,
                    "nan_count": 0,
                    "categories": [
                      {
                        "name": "Kebumen, Indonesia",
                        "count": 16390
                      },
                      {
                        "name": "Kebumen",
                        "count": 731
                      }
                    ]
                  }
                },
                {
                  "name": "datetime",
                  "dtype": "object",
                  "stats": {
                    "unique_count": 17121,
                    "nan_count": 0,
                    "categories": [
                      {
                        "name": "1978-02-16",
                        "count": 1
                      },
                      {
                        "name": "1978-02-17",
                        "count": 1
                      },
                      {
                        "name": "17119 others",
                        "count": 17119
                      }
                    ]
                  }
                },
                {
                  "name": "tempmax",
                  "dtype": "float64",
                  "stats": {
                    "unique_count": 120,
                    "nan_count": 421,
                    "min": "21.9",
                    "max": "55.7",
                    "histogram": [
                      {
                        "bin_start": 21.9,
                        "bin_end": 25.279999999999998,
                        "count": 184
                      },
                      {
                        "bin_start": 25.279999999999998,
                        "bin_end": 28.66,
                        "count": 3222
                      },
                      {
                        "bin_start": 28.66,
                        "bin_end": 32.04,
                        "count": 11554
                      },
                      {
                        "bin_start": 32.04,
                        "bin_end": 35.42,
                        "count": 1719
                      },
                      {
                        "bin_start": 35.42,
                        "bin_end": 38.8,
                        "count": 17
                      },
                      {
                        "bin_start": 38.8,
                        "bin_end": 42.18,
                        "count": 3
                      },
                      {
                        "bin_start": 42.18,
                        "bin_end": 45.56,
                        "count": 0
                      },
                      {
                        "bin_start": 45.56,
                        "bin_end": 48.94,
                        "count": 0
                      },
                      {
                        "bin_start": 48.94,
                        "bin_end": 52.32,
                        "count": 0
                      },
                      {
                        "bin_start": 52.32,
                        "bin_end": 55.7,
                        "count": 1
                      }
                    ]
                  }
                },
                {
                  "name": "tempmin",
                  "dtype": "float64",
                  "stats": {
                    "unique_count": 134,
                    "nan_count": 421,
                    "min": "2.6",
                    "max": "33.7",
                    "histogram": [
                      {
                        "bin_start": 2.6,
                        "bin_end": 5.710000000000001,
                        "count": 2
                      },
                      {
                        "bin_start": 5.710000000000001,
                        "bin_end": 8.82,
                        "count": 1
                      },
                      {
                        "bin_start": 8.82,
                        "bin_end": 11.930000000000001,
                        "count": 0
                      },
                      {
                        "bin_start": 11.930000000000001,
                        "bin_end": 15.040000000000001,
                        "count": 6
                      },
                      {
                        "bin_start": 15.040000000000001,
                        "bin_end": 18.150000000000002,
                        "count": 19
                      },
                      {
                        "bin_start": 18.150000000000002,
                        "bin_end": 21.260000000000005,
                        "count": 216
                      },
                      {
                        "bin_start": 21.260000000000005,
                        "bin_end": 24.370000000000005,
                        "count": 5293
                      },
                      {
                        "bin_start": 24.370000000000005,
                        "bin_end": 27.480000000000004,
                        "count": 10883
                      },
                      {
                        "bin_start": 27.480000000000004,
                        "bin_end": 30.590000000000003,
                        "count": 245
                      },
                      {
                        "bin_start": 30.590000000000003,
                        "bin_end": 33.7,
                        "count": 35
                      }
                    ]
                  }
                },
                {
                  "name": "temp",
                  "dtype": "float64",
                  "stats": {
                    "unique_count": 106,
                    "nan_count": 421,
                    "min": "20.4",
                    "max": "36.0",
                    "histogram": [
                      {
                        "bin_start": 20.4,
                        "bin_end": 21.959999999999997,
                        "count": 6
                      },
                      {
                        "bin_start": 21.959999999999997,
                        "bin_end": 23.52,
                        "count": 61
                      },
                      {
                        "bin_start": 23.52,
                        "bin_end": 25.08,
                        "count": 937
                      },
                      {
                        "bin_start": 25.08,
                        "bin_end": 26.64,
                        "count": 4509
                      },
                      {
                        "bin_start": 26.64,
                        "bin_end": 28.2,
                        "count": 8112
                      },
                      {
                        "bin_start": 28.2,
                        "bin_end": 29.759999999999998,
                        "count": 2940
                      },
                      {
                        "bin_start": 29.759999999999998,
                        "bin_end": 31.32,
                        "count": 112
                      },
                      {
                        "bin_start": 31.32,
                        "bin_end": 32.879999999999995,
                        "count": 20
                      },
                      {
                        "bin_start": 32.879999999999995,
                        "bin_end": 34.44,
                        "count": 2
                      },
                      {
                        "bin_start": 34.44,
                        "bin_end": 36,
                        "count": 1
                      }
                    ]
                  }
                },
                {
                  "name": "feelslikemax",
                  "dtype": "float64"
                },
                {
                  "name": "feelslikemin",
                  "dtype": "float64"
                },
                {
                  "name": "feelslike",
                  "dtype": "float64"
                },
                {
                  "name": "dew",
                  "dtype": "float64"
                },
                {
                  "name": "humidity",
                  "dtype": "float64"
                },
                {
                  "name": "precip",
                  "dtype": "float64"
                },
                {
                  "name": "precipprob",
                  "dtype": "float64"
                },
                {
                  "name": "precipcover",
                  "dtype": "float64"
                },
                {
                  "name": "preciptype",
                  "dtype": "object"
                },
                {
                  "name": "snow",
                  "dtype": "float64"
                },
                {
                  "name": "snowdepth",
                  "dtype": "float64"
                },
                {
                  "name": "windgust",
                  "dtype": "float64"
                },
                {
                  "name": "windspeed",
                  "dtype": "float64"
                },
                {
                  "name": "winddir",
                  "dtype": "float64"
                },
                {
                  "name": "sealevelpressure",
                  "dtype": "float64"
                },
                {
                  "name": "cloudcover",
                  "dtype": "float64"
                },
                {
                  "name": "visibility",
                  "dtype": "float64"
                },
                {
                  "name": "solarradiation",
                  "dtype": "float64"
                },
                {
                  "name": "solarenergy",
                  "dtype": "float64"
                },
                {
                  "name": "uvindex",
                  "dtype": "float64"
                },
                {
                  "name": "severerisk",
                  "dtype": "float64"
                },
                {
                  "name": "sunrise",
                  "dtype": "object"
                },
                {
                  "name": "sunset",
                  "dtype": "object"
                },
                {
                  "name": "moonphase",
                  "dtype": "float64"
                },
                {
                  "name": "conditions",
                  "dtype": "object"
                },
                {
                  "name": "description",
                  "dtype": "object"
                },
                {
                  "name": "icon",
                  "dtype": "object"
                },
                {
                  "name": "stations",
                  "dtype": "object"
                },
                {
                  "name": "_deepnote_index_column",
                  "dtype": "int64"
                }
              ],
              "rows": [
                {
                  "name": "Kebumen, Indonesia",
                  "datetime": "1978-02-16",
                  "tempmax": 32.1,
                  "tempmin": 25.1,
                  "temp": 28.1,
                  "feelslikemax": 39.3,
                  "feelslikemin": 25.1,
                  "feelslike": 31.4,
                  "dew": 24.8,
                  "humidity": 83.5,
                  "precip": 0,
                  "precipprob": 0,
                  "precipcover": 0,
                  "preciptype": "nan",
                  "snow": "nan",
                  "snowdepth": "nan",
                  "windgust": "nan",
                  "windspeed": 18.4,
                  "winddir": 183.2,
                  "sealevelpressure": 1011.7,
                  "cloudcover": 70,
                  "visibility": 11.7,
                  "solarradiation": "nan",
                  "solarenergy": "nan",
                  "uvindex": "nan",
                  "severerisk": "nan",
                  "sunrise": "1978-02-16T05:45:06",
                  "sunset": "1978-02-16T18:05:40",
                  "moonphase": 0.28,
                  "conditions": "Partially cloudy",
                  "description": "Partly cloudy throughout the day.",
                  "icon": "partly-cloudy-day",
                  "stations": "96805099999",
                  "_deepnote_index_column": 0
                },
                {
                  "name": "Kebumen, Indonesia",
                  "datetime": "1978-02-17",
                  "tempmax": 31.1,
                  "tempmin": 25.1,
                  "temp": 27.9,
                  "feelslikemax": 37.9,
                  "feelslikemin": 25.1,
                  "feelslike": 31.8,
                  "dew": 24.9,
                  "humidity": 84.4,
                  "precip": 0,
                  "precipprob": 0,
                  "precipcover": 0,
                  "preciptype": "nan",
                  "snow": "nan",
                  "snowdepth": "nan",
                  "windgust": "nan",
                  "windspeed": 18.4,
                  "winddir": 120.5,
                  "sealevelpressure": 1012.5,
                  "cloudcover": 60,
                  "visibility": 12.2,
                  "solarradiation": "nan",
                  "solarenergy": "nan",
                  "uvindex": "nan",
                  "severerisk": "nan",
                  "sunrise": "1978-02-17T05:45:14",
                  "sunset": "1978-02-17T18:05:24",
                  "moonphase": 0.31,
                  "conditions": "Partially cloudy",
                  "description": "Partly cloudy throughout the day.",
                  "icon": "partly-cloudy-day",
                  "stations": "96805099999",
                  "_deepnote_index_column": 1
                },
                {
                  "name": "Kebumen, Indonesia",
                  "datetime": "1978-02-18",
                  "tempmax": 32.1,
                  "tempmin": 26.1,
                  "temp": 29,
                  "feelslikemax": 40.8,
                  "feelslikemin": 26.1,
                  "feelslike": 33.6,
                  "dew": 25.5,
                  "humidity": 82.7,
                  "precip": 0,
                  "precipprob": 0,
                  "precipcover": 0,
                  "preciptype": "nan",
                  "snow": "nan",
                  "snowdepth": "nan",
                  "windgust": "nan",
                  "windspeed": 9.4,
                  "winddir": 99.7,
                  "sealevelpressure": 1013,
                  "cloudcover": 77.1,
                  "visibility": 11,
                  "solarradiation": "nan",
                  "solarenergy": "nan",
                  "uvindex": "nan",
                  "severerisk": "nan",
                  "sunrise": "1978-02-18T05:45:22",
                  "sunset": "1978-02-18T18:05:08",
                  "moonphase": 0.34,
                  "conditions": "Partially cloudy",
                  "description": "Partly cloudy throughout the day.",
                  "icon": "partly-cloudy-day",
                  "stations": "96805099999",
                  "_deepnote_index_column": 2
                },
                {
                  "name": "Kebumen, Indonesia",
                  "datetime": "1978-02-19",
                  "tempmax": 33.1,
                  "tempmin": 25.1,
                  "temp": 28.5,
                  "feelslikemax": 39.4,
                  "feelslikemin": 25.1,
                  "feelslike": 32.2,
                  "dew": 25.1,
                  "humidity": 83.2,
                  "precip": 0,
                  "precipprob": 0,
                  "precipcover": 0,
                  "preciptype": "nan",
                  "snow": "nan",
                  "snowdepth": "nan",
                  "windgust": "nan",
                  "windspeed": 14.8,
                  "winddir": 234.8,
                  "sealevelpressure": 1013.3,
                  "cloudcover": 91.4,
                  "visibility": 10.7,
                  "solarradiation": "nan",
                  "solarenergy": "nan",
                  "uvindex": "nan",
                  "severerisk": "nan",
                  "sunrise": "1978-02-19T05:45:29",
                  "sunset": "1978-02-19T18:04:50",
                  "moonphase": 0.38,
                  "conditions": "Overcast",
                  "description": "Cloudy skies throughout the day.",
                  "icon": "cloudy",
                  "stations": "96805099999",
                  "_deepnote_index_column": 3
                },
                {
                  "name": "Kebumen, Indonesia",
                  "datetime": "1978-02-20",
                  "tempmax": 31.1,
                  "tempmin": 24.1,
                  "temp": 27.1,
                  "feelslikemax": 44.4,
                  "feelslikemin": 24.1,
                  "feelslike": 30.7,
                  "dew": 23.1,
                  "humidity": 85.2,
                  "precip": 0,
                  "precipprob": 0,
                  "precipcover": 0,
                  "preciptype": "nan",
                  "snow": "nan",
                  "snowdepth": "nan",
                  "windgust": "nan",
                  "windspeed": 5.4,
                  "winddir": 148.1,
                  "sealevelpressure": 1013.6,
                  "cloudcover": 81.4,
                  "visibility": 8.6,
                  "solarradiation": "nan",
                  "solarenergy": "nan",
                  "uvindex": "nan",
                  "severerisk": "nan",
                  "sunrise": "1978-02-20T05:45:35",
                  "sunset": "1978-02-20T18:04:32",
                  "moonphase": 0.41,
                  "conditions": "Partially cloudy",
                  "description": "Partly cloudy throughout the day.",
                  "icon": "partly-cloudy-day",
                  "stations": "96805099999",
                  "_deepnote_index_column": 4
                },
                {
                  "name": "Kebumen, Indonesia",
                  "datetime": "1978-02-21",
                  "tempmax": 30.1,
                  "tempmin": 24.1,
                  "temp": 26.1,
                  "feelslikemax": 37.6,
                  "feelslikemin": 24.1,
                  "feelslike": 27.8,
                  "dew": 24.7,
                  "humidity": 92.2,
                  "precip": 0,
                  "precipprob": 0,
                  "precipcover": 0,
                  "preciptype": "nan",
                  "snow": "nan",
                  "snowdepth": "nan",
                  "windgust": "nan",
                  "windspeed": 5.4,
                  "winddir": 263.4,
                  "sealevelpressure": 1013.7,
                  "cloudcover": 97.1,
                  "visibility": 8.9,
                  "solarradiation": "nan",
                  "solarenergy": "nan",
                  "uvindex": "nan",
                  "severerisk": "nan",
                  "sunrise": "1978-02-21T05:45:41",
                  "sunset": "1978-02-21T18:04:13",
                  "moonphase": 0.44,
                  "conditions": "Overcast",
                  "description": "Cloudy skies throughout the day.",
                  "icon": "cloudy",
                  "stations": "96805099999",
                  "_deepnote_index_column": 5
                },
                {
                  "name": "Kebumen, Indonesia",
                  "datetime": "1978-02-22",
                  "tempmax": 31.1,
                  "tempmin": 24.1,
                  "temp": 27.4,
                  "feelslikemax": 42.4,
                  "feelslikemin": 24.1,
                  "feelslike": 31.6,
                  "dew": 25.4,
                  "humidity": 89.7,
                  "precip": 0,
                  "precipprob": 0,
                  "precipcover": 0,
                  "preciptype": "nan",
                  "snow": "nan",
                  "snowdepth": "nan",
                  "windgust": "nan",
                  "windspeed": 18.4,
                  "winddir": 243.4,
                  "sealevelpressure": 1012.7,
                  "cloudcover": 68.3,
                  "visibility": 12.2,
                  "solarradiation": "nan",
                  "solarenergy": "nan",
                  "uvindex": "nan",
                  "severerisk": "nan",
                  "sunrise": "1978-02-22T05:45:46",
                  "sunset": "1978-02-22T18:03:53",
                  "moonphase": 0.47,
                  "conditions": "Partially cloudy",
                  "description": "Becoming cloudy in the afternoon.",
                  "icon": "partly-cloudy-day",
                  "stations": "96805099999",
                  "_deepnote_index_column": 6
                },
                {
                  "name": "Kebumen, Indonesia",
                  "datetime": "1978-02-23",
                  "tempmax": 29.1,
                  "tempmin": 24.1,
                  "temp": 27,
                  "feelslikemax": 34.7,
                  "feelslikemin": 24.1,
                  "feelslike": 29.6,
                  "dew": 24.7,
                  "humidity": 87.8,
                  "precip": 9,
                  "precipprob": 100,
                  "precipcover": 4.17,
                  "preciptype": "rain",
                  "snow": "nan",
                  "snowdepth": "nan",
                  "windgust": "nan",
                  "windspeed": 11.2,
                  "winddir": 294.6,
                  "sealevelpressure": 1013.3,
                  "cloudcover": 87.1,
                  "visibility": 10.4,
                  "solarradiation": "nan",
                  "solarenergy": "nan",
                  "uvindex": "nan",
                  "severerisk": "nan",
                  "sunrise": "1978-02-23T05:45:50",
                  "sunset": "1978-02-23T18:03:33",
                  "moonphase": 0.5,
                  "conditions": "Rain, Partially cloudy",
                  "description": "Partly cloudy throughout the day with rain clearing later.",
                  "icon": "rain",
                  "stations": "96805099999",
                  "_deepnote_index_column": 7
                },
                {
                  "name": "Kebumen, Indonesia",
                  "datetime": "1978-02-24",
                  "tempmax": 32.1,
                  "tempmin": 25.1,
                  "temp": 27,
                  "feelslikemax": 39.3,
                  "feelslikemin": 25.1,
                  "feelslike": 28.7,
                  "dew": 24.5,
                  "humidity": 87.7,
                  "precip": 0,
                  "precipprob": 0,
                  "precipcover": 0,
                  "preciptype": "nan",
                  "snow": "nan",
                  "snowdepth": "nan",
                  "windgust": "nan",
                  "windspeed": 11.2,
                  "winddir": 232.5,
                  "sealevelpressure": 1014.1,
                  "cloudcover": 81.4,
                  "visibility": 11.6,
                  "solarradiation": "nan",
                  "solarenergy": "nan",
                  "uvindex": "nan",
                  "severerisk": "nan",
                  "sunrise": "1978-02-24T05:45:54",
                  "sunset": "1978-02-24T18:03:12",
                  "moonphase": 0.54,
                  "conditions": "Partially cloudy",
                  "description": "Partly cloudy throughout the day.",
                  "icon": "partly-cloudy-day",
                  "stations": "96805099999",
                  "_deepnote_index_column": 8
                },
                {
                  "name": "Kebumen, Indonesia",
                  "datetime": "1978-02-25",
                  "tempmax": 33.1,
                  "tempmin": 24.1,
                  "temp": 27.8,
                  "feelslikemax": 40.7,
                  "feelslikemin": 24.1,
                  "feelslike": 31,
                  "dew": 24.4,
                  "humidity": 83,
                  "precip": 0,
                  "precipprob": 0,
                  "precipcover": 0,
                  "preciptype": "nan",
                  "snow": "nan",
                  "snowdepth": "nan",
                  "windgust": "nan",
                  "windspeed": 13,
                  "winddir": 271.7,
                  "sealevelpressure": 1015.6,
                  "cloudcover": 82.9,
                  "visibility": 10.7,
                  "solarradiation": "nan",
                  "solarenergy": "nan",
                  "uvindex": "nan",
                  "severerisk": "nan",
                  "sunrise": "1978-02-25T05:45:58",
                  "sunset": "1978-02-25T18:02:51",
                  "moonphase": 0.58,
                  "conditions": "Partially cloudy",
                  "description": "Partly cloudy throughout the day.",
                  "icon": "partly-cloudy-day",
                  "stations": "96805099999",
                  "_deepnote_index_column": 9
                }
              ]
            },
            "text/plain": "                     name    datetime  tempmax  tempmin  temp  feelslikemax  \\\n0      Kebumen, Indonesia  1978-02-16     32.1     25.1  28.1          39.3   \n1      Kebumen, Indonesia  1978-02-17     31.1     25.1  27.9          37.9   \n2      Kebumen, Indonesia  1978-02-18     32.1     26.1  29.0          40.8   \n3      Kebumen, Indonesia  1978-02-19     33.1     25.1  28.5          39.4   \n4      Kebumen, Indonesia  1978-02-20     31.1     24.1  27.1          44.4   \n...                   ...         ...      ...      ...   ...           ...   \n17116             Kebumen  2024-12-27     32.7     25.1  28.5          39.5   \n17117             Kebumen  2024-12-28     27.8     25.4  26.6          32.5   \n17118             Kebumen  2024-12-29     26.2     25.0  25.5          26.2   \n17119             Kebumen  2024-12-30     29.6     24.5  26.7          33.6   \n17120             Kebumen  2024-12-31     28.4     24.0  26.1          31.7   \n\n       feelslikemin  feelslike   dew  humidity  ...  solarenergy  uvindex  \\\n0              25.1       31.4  24.8      83.5  ...          NaN      NaN   \n1              25.1       31.8  24.9      84.4  ...          NaN      NaN   \n2              26.1       33.6  25.5      82.7  ...          NaN      NaN   \n3              25.1       32.2  25.1      83.2  ...          NaN      NaN   \n4              24.1       30.7  23.1      85.2  ...          NaN      NaN   \n...             ...        ...   ...       ...  ...          ...      ...   \n17116          25.1       32.2  24.9      81.7  ...         15.6      6.0   \n17117          25.4       28.4  23.6      83.9  ...          8.1      6.0   \n17118          25.0       25.5  22.5      83.7  ...          3.4      2.0   \n17119          24.5       28.2  22.6      78.3  ...         25.8     10.0   \n17120          24.0       27.0  23.0      83.5  ...         10.9      6.0   \n\n       severerisk              sunrise               sunset  moonphase  \\\n0             NaN  1978-02-16T05:45:06  1978-02-16T18:05:40       0.28   \n1             NaN  1978-02-17T05:45:14  1978-02-17T18:05:24       0.31   \n2             NaN  1978-02-18T05:45:22  1978-02-18T18:05:08       0.34   \n3             NaN  1978-02-19T05:45:29  1978-02-19T18:04:50       0.38   \n4             NaN  1978-02-20T05:45:35  1978-02-20T18:04:32       0.41   \n...           ...                  ...                  ...        ...   \n17116        10.0  2024-12-27T05:25:26  2024-12-27T17:59:28       0.88   \n17117        30.0  2024-12-28T05:25:57  2024-12-28T17:59:55       0.91   \n17118        10.0  2024-12-29T05:26:28  2024-12-29T18:00:22       0.94   \n17119        10.0  2024-12-30T05:27:00  2024-12-30T18:00:48       0.98   \n17120        10.0  2024-12-31T05:27:31  2024-12-31T18:01:14       0.00   \n\n                   conditions  \\\n0            Partially cloudy   \n1            Partially cloudy   \n2            Partially cloudy   \n3                    Overcast   \n4            Partially cloudy   \n...                       ...   \n17116        Partially cloudy   \n17117          Rain, Overcast   \n17118          Rain, Overcast   \n17119  Rain, Partially cloudy   \n17120          Rain, Overcast   \n\n                                             description               icon  \\\n0                      Partly cloudy throughout the day.  partly-cloudy-day   \n1                      Partly cloudy throughout the day.  partly-cloudy-day   \n2                      Partly cloudy throughout the day.  partly-cloudy-day   \n3                       Cloudy skies throughout the day.             cloudy   \n4                      Partly cloudy throughout the day.  partly-cloudy-day   \n...                                                  ...                ...   \n17116                  Partly cloudy throughout the day.  partly-cloudy-day   \n17117  Cloudy skies throughout the day with a chance ...               rain   \n17118  Cloudy skies throughout the day with a chance ...               rain   \n17119  Partly cloudy throughout the day with a chance...               rain   \n17120         Cloudy skies throughout the day with rain.               rain   \n\n                 stations  \n0             96805099999  \n1             96805099999  \n2             96805099999  \n3             96805099999  \n4             96805099999  \n...                   ...  \n17116         96805099999  \n17117  96805099999,remote  \n17118              remote  \n17119              remote  \n17120              remote  \n\n[17121 rows x 33 columns]",
            "text/html": "<div>\n<style scoped>\n    .dataframe tbody tr th:only-of-type {\n        vertical-align: middle;\n    }\n\n    .dataframe tbody tr th {\n        vertical-align: top;\n    }\n\n    .dataframe thead th {\n        text-align: right;\n    }\n</style>\n<table border=\"1\" class=\"dataframe\">\n  <thead>\n    <tr style=\"text-align: right;\">\n      <th></th>\n      <th>name</th>\n      <th>datetime</th>\n      <th>tempmax</th>\n      <th>tempmin</th>\n      <th>temp</th>\n      <th>feelslikemax</th>\n      <th>feelslikemin</th>\n      <th>feelslike</th>\n      <th>dew</th>\n      <th>humidity</th>\n      <th>...</th>\n      <th>solarenergy</th>\n      <th>uvindex</th>\n      <th>severerisk</th>\n      <th>sunrise</th>\n      <th>sunset</th>\n      <th>moonphase</th>\n      <th>conditions</th>\n      <th>description</th>\n      <th>icon</th>\n      <th>stations</th>\n    </tr>\n  </thead>\n  <tbody>\n    <tr>\n      <th>0</th>\n      <td>Kebumen, Indonesia</td>\n      <td>1978-02-16</td>\n      <td>32.1</td>\n      <td>25.1</td>\n      <td>28.1</td>\n      <td>39.3</td>\n      <td>25.1</td>\n      <td>31.4</td>\n      <td>24.8</td>\n      <td>83.5</td>\n      <td>...</td>\n      <td>NaN</td>\n      <td>NaN</td>\n      <td>NaN</td>\n      <td>1978-02-16T05:45:06</td>\n      <td>1978-02-16T18:05:40</td>\n      <td>0.28</td>\n      <td>Partially cloudy</td>\n      <td>Partly cloudy throughout the day.</td>\n      <td>partly-cloudy-day</td>\n      <td>96805099999</td>\n    </tr>\n    <tr>\n      <th>1</th>\n      <td>Kebumen, Indonesia</td>\n      <td>1978-02-17</td>\n      <td>31.1</td>\n      <td>25.1</td>\n      <td>27.9</td>\n      <td>37.9</td>\n      <td>25.1</td>\n      <td>31.8</td>\n      <td>24.9</td>\n      <td>84.4</td>\n      <td>...</td>\n      <td>NaN</td>\n      <td>NaN</td>\n      <td>NaN</td>\n      <td>1978-02-17T05:45:14</td>\n      <td>1978-02-17T18:05:24</td>\n      <td>0.31</td>\n      <td>Partially cloudy</td>\n      <td>Partly cloudy throughout the day.</td>\n      <td>partly-cloudy-day</td>\n      <td>96805099999</td>\n    </tr>\n    <tr>\n      <th>2</th>\n      <td>Kebumen, Indonesia</td>\n      <td>1978-02-18</td>\n      <td>32.1</td>\n      <td>26.1</td>\n      <td>29.0</td>\n      <td>40.8</td>\n      <td>26.1</td>\n      <td>33.6</td>\n      <td>25.5</td>\n      <td>82.7</td>\n      <td>...</td>\n      <td>NaN</td>\n      <td>NaN</td>\n      <td>NaN</td>\n      <td>1978-02-18T05:45:22</td>\n      <td>1978-02-18T18:05:08</td>\n      <td>0.34</td>\n      <td>Partially cloudy</td>\n      <td>Partly cloudy throughout the day.</td>\n      <td>partly-cloudy-day</td>\n      <td>96805099999</td>\n    </tr>\n    <tr>\n      <th>3</th>\n      <td>Kebumen, Indonesia</td>\n      <td>1978-02-19</td>\n      <td>33.1</td>\n      <td>25.1</td>\n      <td>28.5</td>\n      <td>39.4</td>\n      <td>25.1</td>\n      <td>32.2</td>\n      <td>25.1</td>\n      <td>83.2</td>\n      <td>...</td>\n      <td>NaN</td>\n      <td>NaN</td>\n      <td>NaN</td>\n      <td>1978-02-19T05:45:29</td>\n      <td>1978-02-19T18:04:50</td>\n      <td>0.38</td>\n      <td>Overcast</td>\n      <td>Cloudy skies throughout the day.</td>\n      <td>cloudy</td>\n      <td>96805099999</td>\n    </tr>\n    <tr>\n      <th>4</th>\n      <td>Kebumen, Indonesia</td>\n      <td>1978-02-20</td>\n      <td>31.1</td>\n      <td>24.1</td>\n      <td>27.1</td>\n      <td>44.4</td>\n      <td>24.1</td>\n      <td>30.7</td>\n      <td>23.1</td>\n      <td>85.2</td>\n      <td>...</td>\n      <td>NaN</td>\n      <td>NaN</td>\n      <td>NaN</td>\n      <td>1978-02-20T05:45:35</td>\n      <td>1978-02-20T18:04:32</td>\n      <td>0.41</td>\n      <td>Partially cloudy</td>\n      <td>Partly cloudy throughout the day.</td>\n      <td>partly-cloudy-day</td>\n      <td>96805099999</td>\n    </tr>\n    <tr>\n      <th>...</th>\n      <td>...</td>\n      <td>...</td>\n      <td>...</td>\n      <td>...</td>\n      <td>...</td>\n      <td>...</td>\n      <td>...</td>\n      <td>...</td>\n      <td>...</td>\n      <td>...</td>\n      <td>...</td>\n      <td>...</td>\n      <td>...</td>\n      <td>...</td>\n      <td>...</td>\n      <td>...</td>\n      <td>...</td>\n      <td>...</td>\n      <td>...</td>\n      <td>...</td>\n      <td>...</td>\n    </tr>\n    <tr>\n      <th>17116</th>\n      <td>Kebumen</td>\n      <td>2024-12-27</td>\n      <td>32.7</td>\n      <td>25.1</td>\n      <td>28.5</td>\n      <td>39.5</td>\n      <td>25.1</td>\n      <td>32.2</td>\n      <td>24.9</td>\n      <td>81.7</td>\n      <td>...</td>\n      <td>15.6</td>\n      <td>6.0</td>\n      <td>10.0</td>\n      <td>2024-12-27T05:25:26</td>\n      <td>2024-12-27T17:59:28</td>\n      <td>0.88</td>\n      <td>Partially cloudy</td>\n      <td>Partly cloudy throughout the day.</td>\n      <td>partly-cloudy-day</td>\n      <td>96805099999</td>\n    </tr>\n    <tr>\n      <th>17117</th>\n      <td>Kebumen</td>\n      <td>2024-12-28</td>\n      <td>27.8</td>\n      <td>25.4</td>\n      <td>26.6</td>\n      <td>32.5</td>\n      <td>25.4</td>\n      <td>28.4</td>\n      <td>23.6</td>\n      <td>83.9</td>\n      <td>...</td>\n      <td>8.1</td>\n      <td>6.0</td>\n      <td>30.0</td>\n      <td>2024-12-28T05:25:57</td>\n      <td>2024-12-28T17:59:55</td>\n      <td>0.91</td>\n      <td>Rain, Overcast</td>\n      <td>Cloudy skies throughout the day with a chance ...</td>\n      <td>rain</td>\n      <td>96805099999,remote</td>\n    </tr>\n    <tr>\n      <th>17118</th>\n      <td>Kebumen</td>\n      <td>2024-12-29</td>\n      <td>26.2</td>\n      <td>25.0</td>\n      <td>25.5</td>\n      <td>26.2</td>\n      <td>25.0</td>\n      <td>25.5</td>\n      <td>22.5</td>\n      <td>83.7</td>\n      <td>...</td>\n      <td>3.4</td>\n      <td>2.0</td>\n      <td>10.0</td>\n      <td>2024-12-29T05:26:28</td>\n      <td>2024-12-29T18:00:22</td>\n      <td>0.94</td>\n      <td>Rain, Overcast</td>\n      <td>Cloudy skies throughout the day with a chance ...</td>\n      <td>rain</td>\n      <td>remote</td>\n    </tr>\n    <tr>\n      <th>17119</th>\n      <td>Kebumen</td>\n      <td>2024-12-30</td>\n      <td>29.6</td>\n      <td>24.5</td>\n      <td>26.7</td>\n      <td>33.6</td>\n      <td>24.5</td>\n      <td>28.2</td>\n      <td>22.6</td>\n      <td>78.3</td>\n      <td>...</td>\n      <td>25.8</td>\n      <td>10.0</td>\n      <td>10.0</td>\n      <td>2024-12-30T05:27:00</td>\n      <td>2024-12-30T18:00:48</td>\n      <td>0.98</td>\n      <td>Rain, Partially cloudy</td>\n      <td>Partly cloudy throughout the day with a chance...</td>\n      <td>rain</td>\n      <td>remote</td>\n    </tr>\n    <tr>\n      <th>17120</th>\n      <td>Kebumen</td>\n      <td>2024-12-31</td>\n      <td>28.4</td>\n      <td>24.0</td>\n      <td>26.1</td>\n      <td>31.7</td>\n      <td>24.0</td>\n      <td>27.0</td>\n      <td>23.0</td>\n      <td>83.5</td>\n      <td>...</td>\n      <td>10.9</td>\n      <td>6.0</td>\n      <td>10.0</td>\n      <td>2024-12-31T05:27:31</td>\n      <td>2024-12-31T18:01:14</td>\n      <td>0.00</td>\n      <td>Rain, Overcast</td>\n      <td>Cloudy skies throughout the day with rain.</td>\n      <td>rain</td>\n      <td>remote</td>\n    </tr>\n  </tbody>\n</table>\n<p>17121 rows × 33 columns</p>\n</div>"
          },
          "metadata": {}
        }
      ],
      "outputs_reference": null,
      "execution_count": 6,
      "block_group": "f87b437f0db44c7bb3f9c00d2ebd8953",
      "content_dependencies": null
    },
    {
      "cell_type": "code",
      "source": "data3.describe()",
      "metadata": {
        "source_hash": "4191db40",
        "execution_start": 1736074246947,
        "execution_millis": 36,
        "execution_context_id": "3efd7ac1-9a58-472f-bb85-5bf86841e6be",
        "cell_id": "33daa4a8f34d4104aa9762a5ed0885ac",
        "deepnote_cell_type": "code"
      },
      "outputs": [
        {
          "output_type": "execute_result",
          "execution_count": 7,
          "data": {
            "application/vnd.deepnote.dataframe.v3+json": {
              "column_count": 24,
              "row_count": 8,
              "columns": [
                {
                  "name": "tempmax",
                  "dtype": "float64",
                  "stats": {
                    "unique_count": 8,
                    "nan_count": 0,
                    "min": "1.7165956080825442",
                    "max": "16700.0",
                    "histogram": [
                      {
                        "bin_start": 1.7165956080825442,
                        "bin_end": 1671.5449360472744,
                        "count": 7
                      },
                      {
                        "bin_start": 1671.5449360472744,
                        "bin_end": 3341.3732764864662,
                        "count": 0
                      },
                      {
                        "bin_start": 3341.3732764864662,
                        "bin_end": 5011.2016169256585,
                        "count": 0
                      },
                      {
                        "bin_start": 5011.2016169256585,
                        "bin_end": 6681.02995736485,
                        "count": 0
                      },
                      {
                        "bin_start": 6681.02995736485,
                        "bin_end": 8350.858297804041,
                        "count": 0
                      },
                      {
                        "bin_start": 8350.858297804041,
                        "bin_end": 10020.686638243234,
                        "count": 0
                      },
                      {
                        "bin_start": 10020.686638243234,
                        "bin_end": 11690.514978682426,
                        "count": 0
                      },
                      {
                        "bin_start": 11690.514978682426,
                        "bin_end": 13360.343319121617,
                        "count": 0
                      },
                      {
                        "bin_start": 13360.343319121617,
                        "bin_end": 15030.171659560809,
                        "count": 0
                      },
                      {
                        "bin_start": 15030.171659560809,
                        "bin_end": 16700,
                        "count": 1
                      }
                    ]
                  }
                },
                {
                  "name": "tempmin",
                  "dtype": "float64",
                  "stats": {
                    "unique_count": 8,
                    "nan_count": 0,
                    "min": "1.3444978948606843",
                    "max": "16700.0",
                    "histogram": [
                      {
                        "bin_start": 1.3444978948606843,
                        "bin_end": 1671.2100481053747,
                        "count": 7
                      },
                      {
                        "bin_start": 1671.2100481053747,
                        "bin_end": 3341.0755983158883,
                        "count": 0
                      },
                      {
                        "bin_start": 3341.0755983158883,
                        "bin_end": 5010.941148526403,
                        "count": 0
                      },
                      {
                        "bin_start": 5010.941148526403,
                        "bin_end": 6680.806698736917,
                        "count": 0
                      },
                      {
                        "bin_start": 6680.806698736917,
                        "bin_end": 8350.67224894743,
                        "count": 0
                      },
                      {
                        "bin_start": 8350.67224894743,
                        "bin_end": 10020.537799157944,
                        "count": 0
                      },
                      {
                        "bin_start": 10020.537799157944,
                        "bin_end": 11690.403349368458,
                        "count": 0
                      },
                      {
                        "bin_start": 11690.403349368458,
                        "bin_end": 13360.268899578972,
                        "count": 0
                      },
                      {
                        "bin_start": 13360.268899578972,
                        "bin_end": 15030.134449789486,
                        "count": 0
                      },
                      {
                        "bin_start": 15030.134449789486,
                        "bin_end": 16700,
                        "count": 1
                      }
                    ]
                  }
                },
                {
                  "name": "temp",
                  "dtype": "float64",
                  "stats": {
                    "unique_count": 8,
                    "nan_count": 0,
                    "min": "1.2199895188453147",
                    "max": "16700.0",
                    "histogram": [
                      {
                        "bin_start": 1.2199895188453147,
                        "bin_end": 1671.0979905669608,
                        "count": 7
                      },
                      {
                        "bin_start": 1671.0979905669608,
                        "bin_end": 3340.9759916150765,
                        "count": 0
                      },
                      {
                        "bin_start": 3340.9759916150765,
                        "bin_end": 5010.853992663192,
                        "count": 0
                      },
                      {
                        "bin_start": 5010.853992663192,
                        "bin_end": 6680.731993711307,
                        "count": 0
                      },
                      {
                        "bin_start": 6680.731993711307,
                        "bin_end": 8350.609994759423,
                        "count": 0
                      },
                      {
                        "bin_start": 8350.609994759423,
                        "bin_end": 10020.48799580754,
                        "count": 0
                      },
                      {
                        "bin_start": 10020.48799580754,
                        "bin_end": 11690.365996855655,
                        "count": 0
                      },
                      {
                        "bin_start": 11690.365996855655,
                        "bin_end": 13360.24399790377,
                        "count": 0
                      },
                      {
                        "bin_start": 13360.24399790377,
                        "bin_end": 15030.121998951885,
                        "count": 0
                      },
                      {
                        "bin_start": 15030.121998951885,
                        "bin_end": 16700,
                        "count": 1
                      }
                    ]
                  }
                },
                {
                  "name": "feelslikemax",
                  "dtype": "float64",
                  "stats": {
                    "unique_count": 8,
                    "nan_count": 0,
                    "min": "3.4753729994216203",
                    "max": "16700.0",
                    "histogram": [
                      {
                        "bin_start": 3.4753729994216203,
                        "bin_end": 1673.1278356994792,
                        "count": 7
                      },
                      {
                        "bin_start": 1673.1278356994792,
                        "bin_end": 3342.780298399537,
                        "count": 0
                      },
                      {
                        "bin_start": 3342.780298399537,
                        "bin_end": 5012.432761099594,
                        "count": 0
                      },
                      {
                        "bin_start": 5012.432761099594,
                        "bin_end": 6682.085223799652,
                        "count": 0
                      },
                      {
                        "bin_start": 6682.085223799652,
                        "bin_end": 8351.73768649971,
                        "count": 0
                      },
                      {
                        "bin_start": 8351.73768649971,
                        "bin_end": 10021.390149199766,
                        "count": 0
                      },
                      {
                        "bin_start": 10021.390149199766,
                        "bin_end": 11691.042611899824,
                        "count": 0
                      },
                      {
                        "bin_start": 11691.042611899824,
                        "bin_end": 13360.695074599882,
                        "count": 0
                      },
                      {
                        "bin_start": 13360.695074599882,
                        "bin_end": 15030.34753729994,
                        "count": 0
                      },
                      {
                        "bin_start": 15030.34753729994,
                        "bin_end": 16700,
                        "count": 1
                      }
                    ]
                  }
                },
                {
                  "name": "feelslikemin",
                  "dtype": "float64",
                  "stats": {
                    "unique_count": 8,
                    "nan_count": 0,
                    "min": "-0.9",
                    "max": "16700.0",
                    "histogram": [
                      {
                        "bin_start": -0.9,
                        "bin_end": 1669.19,
                        "count": 7
                      },
                      {
                        "bin_start": 1669.19,
                        "bin_end": 3339.28,
                        "count": 0
                      },
                      {
                        "bin_start": 3339.28,
                        "bin_end": 5009.370000000001,
                        "count": 0
                      },
                      {
                        "bin_start": 5009.370000000001,
                        "bin_end": 6679.460000000001,
                        "count": 0
                      },
                      {
                        "bin_start": 6679.460000000001,
                        "bin_end": 8349.550000000001,
                        "count": 0
                      },
                      {
                        "bin_start": 8349.550000000001,
                        "bin_end": 10019.640000000001,
                        "count": 0
                      },
                      {
                        "bin_start": 10019.640000000001,
                        "bin_end": 11689.730000000001,
                        "count": 0
                      },
                      {
                        "bin_start": 11689.730000000001,
                        "bin_end": 13359.820000000002,
                        "count": 0
                      },
                      {
                        "bin_start": 13359.820000000002,
                        "bin_end": 15029.910000000002,
                        "count": 0
                      },
                      {
                        "bin_start": 15029.910000000002,
                        "bin_end": 16700,
                        "count": 1
                      }
                    ]
                  }
                },
                {
                  "name": "feelslike",
                  "dtype": "float64",
                  "stats": {
                    "unique_count": 8,
                    "nan_count": 0,
                    "min": "2.545826800315512",
                    "max": "16700.0",
                    "histogram": [
                      {
                        "bin_start": 2.545826800315512,
                        "bin_end": 1672.2912441202839,
                        "count": 7
                      },
                      {
                        "bin_start": 1672.2912441202839,
                        "bin_end": 3342.036661440252,
                        "count": 0
                      },
                      {
                        "bin_start": 3342.036661440252,
                        "bin_end": 5011.78207876022,
                        "count": 0
                      },
                      {
                        "bin_start": 5011.78207876022,
                        "bin_end": 6681.527496080189,
                        "count": 0
                      },
                      {
                        "bin_start": 6681.527496080189,
                        "bin_end": 8351.272913400157,
                        "count": 0
                      },
                      {
                        "bin_start": 8351.272913400157,
                        "bin_end": 10021.018330720124,
                        "count": 0
                      },
                      {
                        "bin_start": 10021.018330720124,
                        "bin_end": 11690.763748040094,
                        "count": 0
                      },
                      {
                        "bin_start": 11690.763748040094,
                        "bin_end": 13360.509165360061,
                        "count": 0
                      },
                      {
                        "bin_start": 13360.509165360061,
                        "bin_end": 15030.254582680029,
                        "count": 0
                      },
                      {
                        "bin_start": 15030.254582680029,
                        "bin_end": 16700,
                        "count": 1
                      }
                    ]
                  }
                },
                {
                  "name": "dew",
                  "dtype": "float64",
                  "stats": {
                    "unique_count": 8,
                    "nan_count": 0,
                    "min": "1.0980858893439758",
                    "max": "16700.0",
                    "histogram": [
                      {
                        "bin_start": 1.0980858893439758,
                        "bin_end": 1670.9882773004094,
                        "count": 7
                      },
                      {
                        "bin_start": 1670.9882773004094,
                        "bin_end": 3340.878468711475,
                        "count": 0
                      },
                      {
                        "bin_start": 3340.878468711475,
                        "bin_end": 5010.76866012254,
                        "count": 0
                      },
                      {
                        "bin_start": 5010.76866012254,
                        "bin_end": 6680.658851533605,
                        "count": 0
                      },
                      {
                        "bin_start": 6680.658851533605,
                        "bin_end": 8350.54904294467,
                        "count": 0
                      },
                      {
                        "bin_start": 8350.54904294467,
                        "bin_end": 10020.439234355736,
                        "count": 0
                      },
                      {
                        "bin_start": 10020.439234355736,
                        "bin_end": 11690.329425766802,
                        "count": 0
                      },
                      {
                        "bin_start": 11690.329425766802,
                        "bin_end": 13360.219617177867,
                        "count": 0
                      },
                      {
                        "bin_start": 13360.219617177867,
                        "bin_end": 15030.109808588932,
                        "count": 0
                      },
                      {
                        "bin_start": 15030.109808588932,
                        "bin_end": 16700,
                        "count": 1
                      }
                    ]
                  }
                },
                {
                  "name": "humidity",
                  "dtype": "float64",
                  "stats": {
                    "unique_count": 8,
                    "nan_count": 0,
                    "min": "4.442786777094198",
                    "max": "16700.0",
                    "histogram": [
                      {
                        "bin_start": 4.442786777094198,
                        "bin_end": 1673.9985080993847,
                        "count": 7
                      },
                      {
                        "bin_start": 1673.9985080993847,
                        "bin_end": 3343.5542294216752,
                        "count": 0
                      },
                      {
                        "bin_start": 3343.5542294216752,
                        "bin_end": 5013.109950743966,
                        "count": 0
                      },
                      {
                        "bin_start": 5013.109950743966,
                        "bin_end": 6682.665672066257,
                        "count": 0
                      },
                      {
                        "bin_start": 6682.665672066257,
                        "bin_end": 8352.221393388547,
                        "count": 0
                      },
                      {
                        "bin_start": 8352.221393388547,
                        "bin_end": 10021.777114710836,
                        "count": 0
                      },
                      {
                        "bin_start": 10021.777114710836,
                        "bin_end": 11691.332836033127,
                        "count": 0
                      },
                      {
                        "bin_start": 11691.332836033127,
                        "bin_end": 13360.888557355418,
                        "count": 0
                      },
                      {
                        "bin_start": 13360.888557355418,
                        "bin_end": 15030.444278677709,
                        "count": 0
                      },
                      {
                        "bin_start": 15030.444278677709,
                        "bin_end": 16700,
                        "count": 1
                      }
                    ]
                  }
                },
                {
                  "name": "precip",
                  "dtype": "float64",
                  "stats": {
                    "unique_count": 7,
                    "nan_count": 0,
                    "min": "0.0",
                    "max": "16700.0",
                    "histogram": [
                      {
                        "bin_start": 0,
                        "bin_end": 1670,
                        "count": 7
                      },
                      {
                        "bin_start": 1670,
                        "bin_end": 3340,
                        "count": 0
                      },
                      {
                        "bin_start": 3340,
                        "bin_end": 5010,
                        "count": 0
                      },
                      {
                        "bin_start": 5010,
                        "bin_end": 6680,
                        "count": 0
                      },
                      {
                        "bin_start": 6680,
                        "bin_end": 8350,
                        "count": 0
                      },
                      {
                        "bin_start": 8350,
                        "bin_end": 10020,
                        "count": 0
                      },
                      {
                        "bin_start": 10020,
                        "bin_end": 11690,
                        "count": 0
                      },
                      {
                        "bin_start": 11690,
                        "bin_end": 13360,
                        "count": 0
                      },
                      {
                        "bin_start": 13360,
                        "bin_end": 15030,
                        "count": 0
                      },
                      {
                        "bin_start": 15030,
                        "bin_end": 16700,
                        "count": 1
                      }
                    ]
                  }
                },
                {
                  "name": "precipprob",
                  "dtype": "float64",
                  "stats": {
                    "unique_count": 5,
                    "nan_count": 0,
                    "min": "0.0",
                    "max": "16700.0",
                    "histogram": [
                      {
                        "bin_start": 0,
                        "bin_end": 1670,
                        "count": 7
                      },
                      {
                        "bin_start": 1670,
                        "bin_end": 3340,
                        "count": 0
                      },
                      {
                        "bin_start": 3340,
                        "bin_end": 5010,
                        "count": 0
                      },
                      {
                        "bin_start": 5010,
                        "bin_end": 6680,
                        "count": 0
                      },
                      {
                        "bin_start": 6680,
                        "bin_end": 8350,
                        "count": 0
                      },
                      {
                        "bin_start": 8350,
                        "bin_end": 10020,
                        "count": 0
                      },
                      {
                        "bin_start": 10020,
                        "bin_end": 11690,
                        "count": 0
                      },
                      {
                        "bin_start": 11690,
                        "bin_end": 13360,
                        "count": 0
                      },
                      {
                        "bin_start": 13360,
                        "bin_end": 15030,
                        "count": 0
                      },
                      {
                        "bin_start": 15030,
                        "bin_end": 16700,
                        "count": 1
                      }
                    ]
                  }
                },
                {
                  "name": "precipcover",
                  "dtype": "float64",
                  "stats": {
                    "unique_count": 7,
                    "nan_count": 0,
                    "min": "0.0",
                    "max": "17121.0",
                    "histogram": [
                      {
                        "bin_start": 0,
                        "bin_end": 1712.1,
                        "count": 7
                      },
                      {
                        "bin_start": 1712.1,
                        "bin_end": 3424.2,
                        "count": 0
                      },
                      {
                        "bin_start": 3424.2,
                        "bin_end": 5136.299999999999,
                        "count": 0
                      },
                      {
                        "bin_start": 5136.299999999999,
                        "bin_end": 6848.4,
                        "count": 0
                      },
                      {
                        "bin_start": 6848.4,
                        "bin_end": 8560.5,
                        "count": 0
                      },
                      {
                        "bin_start": 8560.5,
                        "bin_end": 10272.599999999999,
                        "count": 0
                      },
                      {
                        "bin_start": 10272.599999999999,
                        "bin_end": 11984.699999999999,
                        "count": 0
                      },
                      {
                        "bin_start": 11984.699999999999,
                        "bin_end": 13696.8,
                        "count": 0
                      },
                      {
                        "bin_start": 13696.8,
                        "bin_end": 15408.9,
                        "count": 0
                      },
                      {
                        "bin_start": 15408.9,
                        "bin_end": 17121,
                        "count": 1
                      }
                    ]
                  }
                },
                {
                  "name": "snow",
                  "dtype": "float64",
                  "stats": {
                    "unique_count": 2,
                    "nan_count": 0,
                    "min": "0.0",
                    "max": "9089.0",
                    "histogram": [
                      {
                        "bin_start": 0,
                        "bin_end": 908.9,
                        "count": 7
                      },
                      {
                        "bin_start": 908.9,
                        "bin_end": 1817.8,
                        "count": 0
                      },
                      {
                        "bin_start": 1817.8,
                        "bin_end": 2726.7,
                        "count": 0
                      },
                      {
                        "bin_start": 2726.7,
                        "bin_end": 3635.6,
                        "count": 0
                      },
                      {
                        "bin_start": 3635.6,
                        "bin_end": 4544.5,
                        "count": 0
                      },
                      {
                        "bin_start": 4544.5,
                        "bin_end": 5453.4,
                        "count": 0
                      },
                      {
                        "bin_start": 5453.4,
                        "bin_end": 6362.3,
                        "count": 0
                      },
                      {
                        "bin_start": 6362.3,
                        "bin_end": 7271.2,
                        "count": 0
                      },
                      {
                        "bin_start": 7271.2,
                        "bin_end": 8180.099999999999,
                        "count": 0
                      },
                      {
                        "bin_start": 8180.099999999999,
                        "bin_end": 9089,
                        "count": 1
                      }
                    ]
                  }
                },
                {
                  "name": "snowdepth",
                  "dtype": "float64",
                  "stats": {
                    "unique_count": 2,
                    "nan_count": 0,
                    "min": "0.0",
                    "max": "9089.0",
                    "histogram": [
                      {
                        "bin_start": 0,
                        "bin_end": 908.9,
                        "count": 7
                      },
                      {
                        "bin_start": 908.9,
                        "bin_end": 1817.8,
                        "count": 0
                      },
                      {
                        "bin_start": 1817.8,
                        "bin_end": 2726.7,
                        "count": 0
                      },
                      {
                        "bin_start": 2726.7,
                        "bin_end": 3635.6,
                        "count": 0
                      },
                      {
                        "bin_start": 3635.6,
                        "bin_end": 4544.5,
                        "count": 0
                      },
                      {
                        "bin_start": 4544.5,
                        "bin_end": 5453.4,
                        "count": 0
                      },
                      {
                        "bin_start": 5453.4,
                        "bin_end": 6362.3,
                        "count": 0
                      },
                      {
                        "bin_start": 6362.3,
                        "bin_end": 7271.2,
                        "count": 0
                      },
                      {
                        "bin_start": 7271.2,
                        "bin_end": 8180.099999999999,
                        "count": 0
                      },
                      {
                        "bin_start": 8180.099999999999,
                        "bin_end": 9089,
                        "count": 1
                      }
                    ]
                  }
                },
                {
                  "name": "windgust",
                  "dtype": "float64",
                  "stats": {
                    "unique_count": 8,
                    "nan_count": 0,
                    "min": "7.9",
                    "max": "1087.0",
                    "histogram": [
                      {
                        "bin_start": 7.9,
                        "bin_end": 115.81,
                        "count": 7
                      },
                      {
                        "bin_start": 115.81,
                        "bin_end": 223.72,
                        "count": 0
                      },
                      {
                        "bin_start": 223.72,
                        "bin_end": 331.63,
                        "count": 0
                      },
                      {
                        "bin_start": 331.63,
                        "bin_end": 439.53999999999996,
                        "count": 0
                      },
                      {
                        "bin_start": 439.53999999999996,
                        "bin_end": 547.4499999999999,
                        "count": 0
                      },
                      {
                        "bin_start": 547.4499999999999,
                        "bin_end": 655.36,
                        "count": 0
                      },
                      {
                        "bin_start": 655.36,
                        "bin_end": 763.27,
                        "count": 0
                      },
                      {
                        "bin_start": 763.27,
                        "bin_end": 871.18,
                        "count": 0
                      },
                      {
                        "bin_start": 871.18,
                        "bin_end": 979.0899999999999,
                        "count": 0
                      },
                      {
                        "bin_start": 979.0899999999999,
                        "bin_end": 1087,
                        "count": 1
                      }
                    ]
                  }
                },
                {
                  "name": "windspeed",
                  "dtype": "float64",
                  "stats": {
                    "unique_count": 8,
                    "nan_count": 0,
                    "min": "0.0",
                    "max": "17121.0",
                    "histogram": [
                      {
                        "bin_start": 0,
                        "bin_end": 1712.1,
                        "count": 7
                      },
                      {
                        "bin_start": 1712.1,
                        "bin_end": 3424.2,
                        "count": 0
                      },
                      {
                        "bin_start": 3424.2,
                        "bin_end": 5136.299999999999,
                        "count": 0
                      },
                      {
                        "bin_start": 5136.299999999999,
                        "bin_end": 6848.4,
                        "count": 0
                      },
                      {
                        "bin_start": 6848.4,
                        "bin_end": 8560.5,
                        "count": 0
                      },
                      {
                        "bin_start": 8560.5,
                        "bin_end": 10272.599999999999,
                        "count": 0
                      },
                      {
                        "bin_start": 10272.599999999999,
                        "bin_end": 11984.699999999999,
                        "count": 0
                      },
                      {
                        "bin_start": 11984.699999999999,
                        "bin_end": 13696.8,
                        "count": 0
                      },
                      {
                        "bin_start": 13696.8,
                        "bin_end": 15408.9,
                        "count": 0
                      },
                      {
                        "bin_start": 15408.9,
                        "bin_end": 17121,
                        "count": 1
                      }
                    ]
                  }
                },
                {
                  "name": "winddir",
                  "dtype": "float64",
                  "stats": {
                    "unique_count": 8,
                    "nan_count": 0,
                    "min": "0.0",
                    "max": "16407.0",
                    "histogram": [
                      {
                        "bin_start": 0,
                        "bin_end": 1640.7,
                        "count": 7
                      },
                      {
                        "bin_start": 1640.7,
                        "bin_end": 3281.4,
                        "count": 0
                      },
                      {
                        "bin_start": 3281.4,
                        "bin_end": 4922.1,
                        "count": 0
                      },
                      {
                        "bin_start": 4922.1,
                        "bin_end": 6562.8,
                        "count": 0
                      },
                      {
                        "bin_start": 6562.8,
                        "bin_end": 8203.5,
                        "count": 0
                      },
                      {
                        "bin_start": 8203.5,
                        "bin_end": 9844.2,
                        "count": 0
                      },
                      {
                        "bin_start": 9844.2,
                        "bin_end": 11484.9,
                        "count": 0
                      },
                      {
                        "bin_start": 11484.9,
                        "bin_end": 13125.6,
                        "count": 0
                      },
                      {
                        "bin_start": 13125.6,
                        "bin_end": 14766.300000000001,
                        "count": 0
                      },
                      {
                        "bin_start": 14766.300000000001,
                        "bin_end": 16407,
                        "count": 1
                      }
                    ]
                  }
                },
                {
                  "name": "sealevelpressure",
                  "dtype": "float64",
                  "stats": {
                    "unique_count": 8,
                    "nan_count": 0,
                    "min": "1.869502381998046",
                    "max": "13093.0",
                    "histogram": [
                      {
                        "bin_start": 1.869502381998046,
                        "bin_end": 1310.982552143798,
                        "count": 7
                      },
                      {
                        "bin_start": 1310.982552143798,
                        "bin_end": 2620.0956019055984,
                        "count": 0
                      },
                      {
                        "bin_start": 2620.0956019055984,
                        "bin_end": 3929.2086516673985,
                        "count": 0
                      },
                      {
                        "bin_start": 3929.2086516673985,
                        "bin_end": 5238.321701429199,
                        "count": 0
                      },
                      {
                        "bin_start": 5238.321701429199,
                        "bin_end": 6547.434751190998,
                        "count": 0
                      },
                      {
                        "bin_start": 6547.434751190998,
                        "bin_end": 7856.547800952799,
                        "count": 0
                      },
                      {
                        "bin_start": 7856.547800952799,
                        "bin_end": 9165.6608507146,
                        "count": 0
                      },
                      {
                        "bin_start": 9165.6608507146,
                        "bin_end": 10474.773900476399,
                        "count": 0
                      },
                      {
                        "bin_start": 10474.773900476399,
                        "bin_end": 11783.886950238199,
                        "count": 0
                      },
                      {
                        "bin_start": 11783.886950238199,
                        "bin_end": 13093,
                        "count": 1
                      }
                    ]
                  }
                },
                {
                  "name": "cloudcover",
                  "dtype": "float64",
                  "stats": {
                    "unique_count": 8,
                    "nan_count": 0,
                    "min": "0.0",
                    "max": "16700.0",
                    "histogram": [
                      {
                        "bin_start": 0,
                        "bin_end": 1670,
                        "count": 7
                      },
                      {
                        "bin_start": 1670,
                        "bin_end": 3340,
                        "count": 0
                      },
                      {
                        "bin_start": 3340,
                        "bin_end": 5010,
                        "count": 0
                      },
                      {
                        "bin_start": 5010,
                        "bin_end": 6680,
                        "count": 0
                      },
                      {
                        "bin_start": 6680,
                        "bin_end": 8350,
                        "count": 0
                      },
                      {
                        "bin_start": 8350,
                        "bin_end": 10020,
                        "count": 0
                      },
                      {
                        "bin_start": 10020,
                        "bin_end": 11690,
                        "count": 0
                      },
                      {
                        "bin_start": 11690,
                        "bin_end": 13360,
                        "count": 0
                      },
                      {
                        "bin_start": 13360,
                        "bin_end": 15030,
                        "count": 0
                      },
                      {
                        "bin_start": 15030,
                        "bin_end": 16700,
                        "count": 1
                      }
                    ]
                  }
                },
                {
                  "name": "visibility",
                  "dtype": "float64",
                  "stats": {
                    "unique_count": 8,
                    "nan_count": 0,
                    "min": "1.0",
                    "max": "16695.0",
                    "histogram": [
                      {
                        "bin_start": 1,
                        "bin_end": 1670.4,
                        "count": 7
                      },
                      {
                        "bin_start": 1670.4,
                        "bin_end": 3339.8,
                        "count": 0
                      },
                      {
                        "bin_start": 3339.8,
                        "bin_end": 5009.200000000001,
                        "count": 0
                      },
                      {
                        "bin_start": 5009.200000000001,
                        "bin_end": 6678.6,
                        "count": 0
                      },
                      {
                        "bin_start": 6678.6,
                        "bin_end": 8348,
                        "count": 0
                      },
                      {
                        "bin_start": 8348,
                        "bin_end": 10017.400000000001,
                        "count": 0
                      },
                      {
                        "bin_start": 10017.400000000001,
                        "bin_end": 11686.800000000001,
                        "count": 0
                      },
                      {
                        "bin_start": 11686.800000000001,
                        "bin_end": 13356.2,
                        "count": 0
                      },
                      {
                        "bin_start": 13356.2,
                        "bin_end": 15025.6,
                        "count": 0
                      },
                      {
                        "bin_start": 15025.6,
                        "bin_end": 16695,
                        "count": 1
                      }
                    ]
                  }
                },
                {
                  "name": "solarradiation",
                  "dtype": "float64",
                  "stats": {
                    "unique_count": 8,
                    "nan_count": 0,
                    "min": "10.0",
                    "max": "5479.0",
                    "histogram": [
                      {
                        "bin_start": 10,
                        "bin_end": 556.9,
                        "count": 7
                      },
                      {
                        "bin_start": 556.9,
                        "bin_end": 1103.8,
                        "count": 0
                      },
                      {
                        "bin_start": 1103.8,
                        "bin_end": 1650.6999999999998,
                        "count": 0
                      },
                      {
                        "bin_start": 1650.6999999999998,
                        "bin_end": 2197.6,
                        "count": 0
                      },
                      {
                        "bin_start": 2197.6,
                        "bin_end": 2744.5,
                        "count": 0
                      },
                      {
                        "bin_start": 2744.5,
                        "bin_end": 3291.3999999999996,
                        "count": 0
                      },
                      {
                        "bin_start": 3291.3999999999996,
                        "bin_end": 3838.2999999999997,
                        "count": 0
                      },
                      {
                        "bin_start": 3838.2999999999997,
                        "bin_end": 4385.2,
                        "count": 0
                      },
                      {
                        "bin_start": 4385.2,
                        "bin_end": 4932.099999999999,
                        "count": 0
                      },
                      {
                        "bin_start": 4932.099999999999,
                        "bin_end": 5479,
                        "count": 1
                      }
                    ]
                  }
                },
                {
                  "name": "solarenergy",
                  "dtype": "float64",
                  "stats": {
                    "unique_count": 8,
                    "nan_count": 0,
                    "min": "1.0",
                    "max": "5479.0",
                    "histogram": [
                      {
                        "bin_start": 1,
                        "bin_end": 548.8,
                        "count": 7
                      },
                      {
                        "bin_start": 548.8,
                        "bin_end": 1096.6,
                        "count": 0
                      },
                      {
                        "bin_start": 1096.6,
                        "bin_end": 1644.3999999999999,
                        "count": 0
                      },
                      {
                        "bin_start": 1644.3999999999999,
                        "bin_end": 2192.2,
                        "count": 0
                      },
                      {
                        "bin_start": 2192.2,
                        "bin_end": 2740,
                        "count": 0
                      },
                      {
                        "bin_start": 2740,
                        "bin_end": 3287.7999999999997,
                        "count": 0
                      },
                      {
                        "bin_start": 3287.7999999999997,
                        "bin_end": 3835.5999999999995,
                        "count": 0
                      },
                      {
                        "bin_start": 3835.5999999999995,
                        "bin_end": 4383.4,
                        "count": 0
                      },
                      {
                        "bin_start": 4383.4,
                        "bin_end": 4931.2,
                        "count": 0
                      },
                      {
                        "bin_start": 4931.2,
                        "bin_end": 5479,
                        "count": 1
                      }
                    ]
                  }
                },
                {
                  "name": "uvindex",
                  "dtype": "float64",
                  "stats": {
                    "unique_count": 8,
                    "nan_count": 0,
                    "min": "1.0",
                    "max": "5479.0",
                    "histogram": [
                      {
                        "bin_start": 1,
                        "bin_end": 548.8,
                        "count": 7
                      },
                      {
                        "bin_start": 548.8,
                        "bin_end": 1096.6,
                        "count": 0
                      },
                      {
                        "bin_start": 1096.6,
                        "bin_end": 1644.3999999999999,
                        "count": 0
                      },
                      {
                        "bin_start": 1644.3999999999999,
                        "bin_end": 2192.2,
                        "count": 0
                      },
                      {
                        "bin_start": 2192.2,
                        "bin_end": 2740,
                        "count": 0
                      },
                      {
                        "bin_start": 2740,
                        "bin_end": 3287.7999999999997,
                        "count": 0
                      },
                      {
                        "bin_start": 3287.7999999999997,
                        "bin_end": 3835.5999999999995,
                        "count": 0
                      },
                      {
                        "bin_start": 3835.5999999999995,
                        "bin_end": 4383.4,
                        "count": 0
                      },
                      {
                        "bin_start": 4383.4,
                        "bin_end": 4931.2,
                        "count": 0
                      },
                      {
                        "bin_start": 4931.2,
                        "bin_end": 5479,
                        "count": 1
                      }
                    ]
                  }
                },
                {
                  "name": "severerisk",
                  "dtype": "float64",
                  "stats": {
                    "unique_count": 6,
                    "nan_count": 0,
                    "min": "10.0",
                    "max": "1087.0",
                    "histogram": [
                      {
                        "bin_start": 10,
                        "bin_end": 117.7,
                        "count": 7
                      },
                      {
                        "bin_start": 117.7,
                        "bin_end": 225.4,
                        "count": 0
                      },
                      {
                        "bin_start": 225.4,
                        "bin_end": 333.1,
                        "count": 0
                      },
                      {
                        "bin_start": 333.1,
                        "bin_end": 440.8,
                        "count": 0
                      },
                      {
                        "bin_start": 440.8,
                        "bin_end": 548.5,
                        "count": 0
                      },
                      {
                        "bin_start": 548.5,
                        "bin_end": 656.2,
                        "count": 0
                      },
                      {
                        "bin_start": 656.2,
                        "bin_end": 763.9,
                        "count": 0
                      },
                      {
                        "bin_start": 763.9,
                        "bin_end": 871.6,
                        "count": 0
                      },
                      {
                        "bin_start": 871.6,
                        "bin_end": 979.3000000000001,
                        "count": 0
                      },
                      {
                        "bin_start": 979.3000000000001,
                        "bin_end": 1087,
                        "count": 1
                      }
                    ]
                  }
                },
                {
                  "name": "moonphase",
                  "dtype": "float64",
                  "stats": {
                    "unique_count": 8,
                    "nan_count": 0,
                    "min": "0.0",
                    "max": "17121.0",
                    "histogram": [
                      {
                        "bin_start": 0,
                        "bin_end": 1712.1,
                        "count": 7
                      },
                      {
                        "bin_start": 1712.1,
                        "bin_end": 3424.2,
                        "count": 0
                      },
                      {
                        "bin_start": 3424.2,
                        "bin_end": 5136.299999999999,
                        "count": 0
                      },
                      {
                        "bin_start": 5136.299999999999,
                        "bin_end": 6848.4,
                        "count": 0
                      },
                      {
                        "bin_start": 6848.4,
                        "bin_end": 8560.5,
                        "count": 0
                      },
                      {
                        "bin_start": 8560.5,
                        "bin_end": 10272.599999999999,
                        "count": 0
                      },
                      {
                        "bin_start": 10272.599999999999,
                        "bin_end": 11984.699999999999,
                        "count": 0
                      },
                      {
                        "bin_start": 11984.699999999999,
                        "bin_end": 13696.8,
                        "count": 0
                      },
                      {
                        "bin_start": 13696.8,
                        "bin_end": 15408.9,
                        "count": 0
                      },
                      {
                        "bin_start": 15408.9,
                        "bin_end": 17121,
                        "count": 1
                      }
                    ]
                  }
                },
                {
                  "name": "_deepnote_index_column",
                  "dtype": "object"
                }
              ],
              "rows": [
                {
                  "tempmax": 16700,
                  "tempmin": 16700,
                  "temp": 16700,
                  "feelslikemax": 16700,
                  "feelslikemin": 16700,
                  "feelslike": 16700,
                  "dew": 16700,
                  "humidity": 16700,
                  "precip": 16700,
                  "precipprob": 16700,
                  "precipcover": 17121,
                  "snow": 9089,
                  "snowdepth": 9089,
                  "windgust": 1087,
                  "windspeed": 17121,
                  "winddir": 16407,
                  "sealevelpressure": 13093,
                  "cloudcover": 16700,
                  "visibility": 16695,
                  "solarradiation": 5479,
                  "solarenergy": 5479,
                  "uvindex": 5479,
                  "severerisk": 1087,
                  "moonphase": 17121,
                  "_deepnote_index_column": "count"
                },
                {
                  "tempmax": 29.97774850299401,
                  "tempmin": 24.762790419161675,
                  "temp": 27.08445508982036,
                  "feelslikemax": 35.01611377245509,
                  "feelslikemin": 24.91108383233533,
                  "feelslike": 29.429233532934134,
                  "dew": 23.69447904191617,
                  "humidity": 82.31512574850298,
                  "precip": 8.965808383233533,
                  "precipprob": 58.053892215568865,
                  "precipcover": 6.992850300800188,
                  "snow": 0,
                  "snowdepth": 0,
                  "windgust": 26.41803127874885,
                  "windspeed": 16.651433911570585,
                  "winddir": 159.29658682269763,
                  "sealevelpressure": 1011.1630795081342,
                  "cloudcover": 72.50867065868262,
                  "visibility": 10.647553159628632,
                  "solarradiation": 216.3195656141632,
                  "solarenergy": 18.6741193648476,
                  "uvindex": 7.5320313925898885,
                  "severerisk": 19.770009199632014,
                  "moonphase": 0.4837807371064774,
                  "_deepnote_index_column": "mean"
                },
                {
                  "tempmax": 1.7165956080825442,
                  "tempmin": 1.3444978948606843,
                  "temp": 1.2199895188453147,
                  "feelslikemax": 3.4753729994216203,
                  "feelslikemin": 1.8426603681436708,
                  "feelslike": 2.545826800315512,
                  "dew": 1.0980858893439758,
                  "humidity": 4.442786777094198,
                  "precip": 21.330792281545808,
                  "precipprob": 49.34856274876042,
                  "precipcover": 12.644305690098472,
                  "snow": 0,
                  "snowdepth": 0,
                  "windgust": 8.28909768935225,
                  "windspeed": 8.037371121106931,
                  "winddir": 63.588276250902894,
                  "sealevelpressure": 1.869502381998046,
                  "cloudcover": 16.539230428033925,
                  "visibility": 2.547669373612904,
                  "solarradiation": 59.17260888234893,
                  "solarenergy": 5.113399169194113,
                  "uvindex": 1.8969494010245898,
                  "severerisk": 11.830311222783106,
                  "moonphase": 0.288672555347222,
                  "_deepnote_index_column": "std"
                },
                {
                  "tempmax": 21.9,
                  "tempmin": 2.6,
                  "temp": 20.4,
                  "feelslikemax": 21.9,
                  "feelslikemin": -0.9,
                  "feelslike": 19.8,
                  "dew": 8.4,
                  "humidity": 46,
                  "precip": 0,
                  "precipprob": 0,
                  "precipcover": 0,
                  "snow": 0,
                  "snowdepth": 0,
                  "windgust": 7.9,
                  "windspeed": 0,
                  "winddir": 0,
                  "sealevelpressure": 962.1,
                  "cloudcover": 0,
                  "visibility": 1,
                  "solarradiation": 10,
                  "solarenergy": 1,
                  "uvindex": 1,
                  "severerisk": 10,
                  "moonphase": 0,
                  "_deepnote_index_column": "min"
                },
                {
                  "tempmax": 28.9,
                  "tempmin": 24.1,
                  "temp": 26.3,
                  "feelslikemax": 32.8,
                  "feelslikemin": 24.1,
                  "feelslike": 27.6,
                  "dew": 23.1,
                  "humidity": 79.7,
                  "precip": 0,
                  "precipprob": 0,
                  "precipcover": 0,
                  "snow": 0,
                  "snowdepth": 0,
                  "windgust": 20.5,
                  "windspeed": 11.2,
                  "winddir": 117.5,
                  "sealevelpressure": 1010,
                  "cloudcover": 61.7,
                  "visibility": 9,
                  "solarradiation": 176.55,
                  "solarenergy": 15.2,
                  "uvindex": 6,
                  "severerisk": 10,
                  "moonphase": 0.25,
                  "_deepnote_index_column": "25%"
                },
                {
                  "tempmax": 30.1,
                  "tempmin": 24.9,
                  "temp": 27.2,
                  "feelslikemax": 35.4,
                  "feelslikemin": 24.9,
                  "feelslike": 29.5,
                  "dew": 23.9,
                  "humidity": 82.5,
                  "precip": 0.7,
                  "precipprob": 100,
                  "precipcover": 4.17,
                  "snow": 0,
                  "snowdepth": 0,
                  "windgust": 26.3,
                  "windspeed": 15.5,
                  "winddir": 130.1,
                  "sealevelpressure": 1011.2,
                  "cloudcover": 75,
                  "visibility": 10.2,
                  "solarradiation": 226.9,
                  "solarenergy": 19.6,
                  "uvindex": 8,
                  "severerisk": 10,
                  "moonphase": 0.5,
                  "_deepnote_index_column": "50%"
                },
                {
                  "tempmax": 31.2,
                  "tempmin": 25.4,
                  "temp": 27.9,
                  "feelslikemax": 37.4,
                  "feelslikemin": 25.4,
                  "feelslike": 31.2,
                  "dew": 24.5,
                  "humidity": 85,
                  "precip": 7.3,
                  "precipprob": 100,
                  "precipcover": 8.33,
                  "snow": 0,
                  "snowdepth": 0,
                  "windgust": 32.8,
                  "windspeed": 22.3,
                  "winddir": 200,
                  "sealevelpressure": 1012.4,
                  "cloudcover": 85,
                  "visibility": 11.6,
                  "solarradiation": 260.3,
                  "solarenergy": 22.5,
                  "uvindex": 9,
                  "severerisk": 30,
                  "moonphase": 0.75,
                  "_deepnote_index_column": "75%"
                },
                {
                  "tempmax": 55.7,
                  "tempmin": 33.7,
                  "temp": 36,
                  "feelslikemax": 55.7,
                  "feelslikemin": 41.7,
                  "feelslike": 41.7,
                  "dew": 26.5,
                  "humidity": 98.8,
                  "precip": 356.8,
                  "precipprob": 100,
                  "precipcover": 100,
                  "snow": 0,
                  "snowdepth": 0,
                  "windgust": 56.2,
                  "windspeed": 133.6,
                  "winddir": 360,
                  "sealevelpressure": 1024.1,
                  "cloudcover": 100,
                  "visibility": 37,
                  "solarradiation": 354.9,
                  "solarenergy": 30.9,
                  "uvindex": 10,
                  "severerisk": 75,
                  "moonphase": 0.98,
                  "_deepnote_index_column": "max"
                }
              ]
            },
            "text/plain": "            tempmax       tempmin          temp  feelslikemax  feelslikemin  \\\ncount  16700.000000  16700.000000  16700.000000  16700.000000  16700.000000   \nmean      29.977749     24.762790     27.084455     35.016114     24.911084   \nstd        1.716596      1.344498      1.219990      3.475373      1.842660   \nmin       21.900000      2.600000     20.400000     21.900000     -0.900000   \n25%       28.900000     24.100000     26.300000     32.800000     24.100000   \n50%       30.100000     24.900000     27.200000     35.400000     24.900000   \n75%       31.200000     25.400000     27.900000     37.400000     25.400000   \nmax       55.700000     33.700000     36.000000     55.700000     41.700000   \n\n          feelslike           dew      humidity        precip    precipprob  \\\ncount  16700.000000  16700.000000  16700.000000  16700.000000  16700.000000   \nmean      29.429234     23.694479     82.315126      8.965808     58.053892   \nstd        2.545827      1.098086      4.442787     21.330792     49.348563   \nmin       19.800000      8.400000     46.000000      0.000000      0.000000   \n25%       27.600000     23.100000     79.700000      0.000000      0.000000   \n50%       29.500000     23.900000     82.500000      0.700000    100.000000   \n75%       31.200000     24.500000     85.000000      7.300000    100.000000   \nmax       41.700000     26.500000     98.800000    356.800000    100.000000   \n\n       ...     windspeed       winddir  sealevelpressure    cloudcover  \\\ncount  ...  17121.000000  16407.000000      13093.000000  16700.000000   \nmean   ...     16.651434    159.296587       1011.163080     72.508671   \nstd    ...      8.037371     63.588276          1.869502     16.539230   \nmin    ...      0.000000      0.000000        962.100000      0.000000   \n25%    ...     11.200000    117.500000       1010.000000     61.700000   \n50%    ...     15.500000    130.100000       1011.200000     75.000000   \n75%    ...     22.300000    200.000000       1012.400000     85.000000   \nmax    ...    133.600000    360.000000       1024.100000    100.000000   \n\n         visibility  solarradiation  solarenergy      uvindex   severerisk  \\\ncount  16695.000000     5479.000000  5479.000000  5479.000000  1087.000000   \nmean      10.647553      216.319566    18.674119     7.532031    19.770009   \nstd        2.547669       59.172609     5.113399     1.896949    11.830311   \nmin        1.000000       10.000000     1.000000     1.000000    10.000000   \n25%        9.000000      176.550000    15.200000     6.000000    10.000000   \n50%       10.200000      226.900000    19.600000     8.000000    10.000000   \n75%       11.600000      260.300000    22.500000     9.000000    30.000000   \nmax       37.000000      354.900000    30.900000    10.000000    75.000000   \n\n          moonphase  \ncount  17121.000000  \nmean       0.483781  \nstd        0.288673  \nmin        0.000000  \n25%        0.250000  \n50%        0.500000  \n75%        0.750000  \nmax        0.980000  \n\n[8 rows x 24 columns]",
            "text/html": "<div>\n<style scoped>\n    .dataframe tbody tr th:only-of-type {\n        vertical-align: middle;\n    }\n\n    .dataframe tbody tr th {\n        vertical-align: top;\n    }\n\n    .dataframe thead th {\n        text-align: right;\n    }\n</style>\n<table border=\"1\" class=\"dataframe\">\n  <thead>\n    <tr style=\"text-align: right;\">\n      <th></th>\n      <th>tempmax</th>\n      <th>tempmin</th>\n      <th>temp</th>\n      <th>feelslikemax</th>\n      <th>feelslikemin</th>\n      <th>feelslike</th>\n      <th>dew</th>\n      <th>humidity</th>\n      <th>precip</th>\n      <th>precipprob</th>\n      <th>...</th>\n      <th>windspeed</th>\n      <th>winddir</th>\n      <th>sealevelpressure</th>\n      <th>cloudcover</th>\n      <th>visibility</th>\n      <th>solarradiation</th>\n      <th>solarenergy</th>\n      <th>uvindex</th>\n      <th>severerisk</th>\n      <th>moonphase</th>\n    </tr>\n  </thead>\n  <tbody>\n    <tr>\n      <th>count</th>\n      <td>16700.000000</td>\n      <td>16700.000000</td>\n      <td>16700.000000</td>\n      <td>16700.000000</td>\n      <td>16700.000000</td>\n      <td>16700.000000</td>\n      <td>16700.000000</td>\n      <td>16700.000000</td>\n      <td>16700.000000</td>\n      <td>16700.000000</td>\n      <td>...</td>\n      <td>17121.000000</td>\n      <td>16407.000000</td>\n      <td>13093.000000</td>\n      <td>16700.000000</td>\n      <td>16695.000000</td>\n      <td>5479.000000</td>\n      <td>5479.000000</td>\n      <td>5479.000000</td>\n      <td>1087.000000</td>\n      <td>17121.000000</td>\n    </tr>\n    <tr>\n      <th>mean</th>\n      <td>29.977749</td>\n      <td>24.762790</td>\n      <td>27.084455</td>\n      <td>35.016114</td>\n      <td>24.911084</td>\n      <td>29.429234</td>\n      <td>23.694479</td>\n      <td>82.315126</td>\n      <td>8.965808</td>\n      <td>58.053892</td>\n      <td>...</td>\n      <td>16.651434</td>\n      <td>159.296587</td>\n      <td>1011.163080</td>\n      <td>72.508671</td>\n      <td>10.647553</td>\n      <td>216.319566</td>\n      <td>18.674119</td>\n      <td>7.532031</td>\n      <td>19.770009</td>\n      <td>0.483781</td>\n    </tr>\n    <tr>\n      <th>std</th>\n      <td>1.716596</td>\n      <td>1.344498</td>\n      <td>1.219990</td>\n      <td>3.475373</td>\n      <td>1.842660</td>\n      <td>2.545827</td>\n      <td>1.098086</td>\n      <td>4.442787</td>\n      <td>21.330792</td>\n      <td>49.348563</td>\n      <td>...</td>\n      <td>8.037371</td>\n      <td>63.588276</td>\n      <td>1.869502</td>\n      <td>16.539230</td>\n      <td>2.547669</td>\n      <td>59.172609</td>\n      <td>5.113399</td>\n      <td>1.896949</td>\n      <td>11.830311</td>\n      <td>0.288673</td>\n    </tr>\n    <tr>\n      <th>min</th>\n      <td>21.900000</td>\n      <td>2.600000</td>\n      <td>20.400000</td>\n      <td>21.900000</td>\n      <td>-0.900000</td>\n      <td>19.800000</td>\n      <td>8.400000</td>\n      <td>46.000000</td>\n      <td>0.000000</td>\n      <td>0.000000</td>\n      <td>...</td>\n      <td>0.000000</td>\n      <td>0.000000</td>\n      <td>962.100000</td>\n      <td>0.000000</td>\n      <td>1.000000</td>\n      <td>10.000000</td>\n      <td>1.000000</td>\n      <td>1.000000</td>\n      <td>10.000000</td>\n      <td>0.000000</td>\n    </tr>\n    <tr>\n      <th>25%</th>\n      <td>28.900000</td>\n      <td>24.100000</td>\n      <td>26.300000</td>\n      <td>32.800000</td>\n      <td>24.100000</td>\n      <td>27.600000</td>\n      <td>23.100000</td>\n      <td>79.700000</td>\n      <td>0.000000</td>\n      <td>0.000000</td>\n      <td>...</td>\n      <td>11.200000</td>\n      <td>117.500000</td>\n      <td>1010.000000</td>\n      <td>61.700000</td>\n      <td>9.000000</td>\n      <td>176.550000</td>\n      <td>15.200000</td>\n      <td>6.000000</td>\n      <td>10.000000</td>\n      <td>0.250000</td>\n    </tr>\n    <tr>\n      <th>50%</th>\n      <td>30.100000</td>\n      <td>24.900000</td>\n      <td>27.200000</td>\n      <td>35.400000</td>\n      <td>24.900000</td>\n      <td>29.500000</td>\n      <td>23.900000</td>\n      <td>82.500000</td>\n      <td>0.700000</td>\n      <td>100.000000</td>\n      <td>...</td>\n      <td>15.500000</td>\n      <td>130.100000</td>\n      <td>1011.200000</td>\n      <td>75.000000</td>\n      <td>10.200000</td>\n      <td>226.900000</td>\n      <td>19.600000</td>\n      <td>8.000000</td>\n      <td>10.000000</td>\n      <td>0.500000</td>\n    </tr>\n    <tr>\n      <th>75%</th>\n      <td>31.200000</td>\n      <td>25.400000</td>\n      <td>27.900000</td>\n      <td>37.400000</td>\n      <td>25.400000</td>\n      <td>31.200000</td>\n      <td>24.500000</td>\n      <td>85.000000</td>\n      <td>7.300000</td>\n      <td>100.000000</td>\n      <td>...</td>\n      <td>22.300000</td>\n      <td>200.000000</td>\n      <td>1012.400000</td>\n      <td>85.000000</td>\n      <td>11.600000</td>\n      <td>260.300000</td>\n      <td>22.500000</td>\n      <td>9.000000</td>\n      <td>30.000000</td>\n      <td>0.750000</td>\n    </tr>\n    <tr>\n      <th>max</th>\n      <td>55.700000</td>\n      <td>33.700000</td>\n      <td>36.000000</td>\n      <td>55.700000</td>\n      <td>41.700000</td>\n      <td>41.700000</td>\n      <td>26.500000</td>\n      <td>98.800000</td>\n      <td>356.800000</td>\n      <td>100.000000</td>\n      <td>...</td>\n      <td>133.600000</td>\n      <td>360.000000</td>\n      <td>1024.100000</td>\n      <td>100.000000</td>\n      <td>37.000000</td>\n      <td>354.900000</td>\n      <td>30.900000</td>\n      <td>10.000000</td>\n      <td>75.000000</td>\n      <td>0.980000</td>\n    </tr>\n  </tbody>\n</table>\n<p>8 rows × 24 columns</p>\n</div>"
          },
          "metadata": {}
        }
      ],
      "outputs_reference": null,
      "execution_count": 7,
      "block_group": "07a63265f26a4649936b7d31ff3cf7f1",
      "content_dependencies": null
    },
    {
      "cell_type": "code",
      "source": "data3.info()",
      "metadata": {
        "source_hash": "43da320c",
        "execution_start": 1736074247035,
        "execution_millis": 1,
        "execution_context_id": "3efd7ac1-9a58-472f-bb85-5bf86841e6be",
        "cell_id": "0f3455e111ba47319d90ef52f56ad11c",
        "deepnote_cell_type": "code"
      },
      "outputs": [
        {
          "name": "stdout",
          "text": "<class 'pandas.core.frame.DataFrame'>\nRangeIndex: 17121 entries, 0 to 17120\nData columns (total 33 columns):\n #   Column            Non-Null Count  Dtype  \n---  ------            --------------  -----  \n 0   name              17121 non-null  object \n 1   datetime          17121 non-null  object \n 2   tempmax           16700 non-null  float64\n 3   tempmin           16700 non-null  float64\n 4   temp              16700 non-null  float64\n 5   feelslikemax      16700 non-null  float64\n 6   feelslikemin      16700 non-null  float64\n 7   feelslike         16700 non-null  float64\n 8   dew               16700 non-null  float64\n 9   humidity          16700 non-null  float64\n 10  precip            16700 non-null  float64\n 11  precipprob        16700 non-null  float64\n 12  precipcover       17121 non-null  float64\n 13  preciptype        9765 non-null   object \n 14  snow              9089 non-null   float64\n 15  snowdepth         9089 non-null   float64\n 16  windgust          1087 non-null   float64\n 17  windspeed         17121 non-null  float64\n 18  winddir           16407 non-null  float64\n 19  sealevelpressure  13093 non-null  float64\n 20  cloudcover        16700 non-null  float64\n 21  visibility        16695 non-null  float64\n 22  solarradiation    5479 non-null   float64\n 23  solarenergy       5479 non-null   float64\n 24  uvindex           5479 non-null   float64\n 25  severerisk        1087 non-null   float64\n 26  sunrise           17121 non-null  object \n 27  sunset            17121 non-null  object \n 28  moonphase         17121 non-null  float64\n 29  conditions        16700 non-null  object \n 30  description       16700 non-null  object \n 31  icon              16700 non-null  object \n 32  stations          16700 non-null  object \ndtypes: float64(24), object(9)\nmemory usage: 4.3+ MB\n",
          "output_type": "stream"
        }
      ],
      "outputs_reference": null,
      "execution_count": 8,
      "block_group": "3c66c4e0a6f84cac844109769add87e5",
      "content_dependencies": null
    },
    {
      "cell_type": "code",
      "source": "# Mengonversi nilai precipprob: 0 menjadi \"No\", 100 menjadi \"Yes\"\ndata3['precipprob'] = data3['precipprob'].apply(lambda x: \"Yes\" if x == 100 else \"No\")\n\n# Mengonversi ke tipe data boolean\ndata3['precipprob'] = data3['precipprob'].map({\"Yes\": True, \"No\": False})\n\n# Mengecek hasil\nprint(data3['precipprob'].head())",
      "metadata": {
        "source_hash": "fe73df0f",
        "execution_start": 1736074247087,
        "execution_millis": 1,
        "execution_context_id": "3efd7ac1-9a58-472f-bb85-5bf86841e6be",
        "cell_id": "6f44717bc0cf41eba8fedc70881766af",
        "deepnote_cell_type": "code"
      },
      "outputs": [
        {
          "name": "stdout",
          "text": "0    False\n1    False\n2    False\n3    False\n4    False\nName: precipprob, dtype: bool\n",
          "output_type": "stream"
        }
      ],
      "outputs_reference": null,
      "execution_count": 9,
      "block_group": "1a446a93db9346b78ff72bf541a1f5f5",
      "content_dependencies": null
    },
    {
      "cell_type": "code",
      "source": "# Export DataFrame ke csv\ndata3.to_csv(\n    'datalstm.csv', \n    sep=',',\n    index=False,\n    index_label='datetime'\n)\n",
      "metadata": {
        "source_hash": "a86518dc",
        "execution_start": 1736074247139,
        "execution_millis": 505,
        "execution_context_id": "3efd7ac1-9a58-472f-bb85-5bf86841e6be",
        "cell_id": "42a81ffadc8f46dc98b55ac63c5d0466",
        "deepnote_cell_type": "code"
      },
      "outputs": [],
      "outputs_reference": null,
      "execution_count": 10,
      "block_group": "10d5f213b8e845cfa3955b5cb4e092e6",
      "content_dependencies": null
    },
    {
      "cell_type": "code",
      "source": "data3",
      "metadata": {
        "source_hash": "11e69a3f",
        "execution_start": 1736074538727,
        "execution_millis": 66,
        "deepnote_table_state": {
          "sortBy": [],
          "filters": [],
          "pageSize": 100,
          "pageIndex": 1,
          "columnOrder": [
            "name",
            "datetime",
            "tempmax",
            "tempmin",
            "temp",
            "feelslikemax",
            "feelslikemin",
            "feelslike",
            "dew",
            "humidity",
            "precip",
            "precipprob",
            "precipcover",
            "preciptype",
            "snow",
            "snowdepth",
            "windgust",
            "windspeed",
            "winddir",
            "sealevelpressure",
            "cloudcover",
            "visibility",
            "solarradiation",
            "solarenergy",
            "uvindex",
            "severerisk",
            "sunrise",
            "sunset",
            "moonphase",
            "conditions",
            "description",
            "icon"
          ],
          "hiddenColumnIds": [],
          "columnDisplayNames": [],
          "conditionalFilters": [],
          "cellFormattingRules": [],
          "wrappedTextColumnIds": []
        },
        "execution_context_id": "3efd7ac1-9a58-472f-bb85-5bf86841e6be",
        "deepnote_table_loading": false,
        "cell_id": "44c021eaf2fe4c978d56c2d6bdb574df",
        "deepnote_cell_type": "code"
      },
      "outputs": [
        {
          "output_type": "execute_result",
          "execution_count": 28,
          "data": {
            "application/vnd.deepnote.dataframe.v3+json": {
              "column_count": 24,
              "row_count": 17121,
              "columns": [
                {
                  "name": "tempmax",
                  "dtype": "float64",
                  "stats": {
                    "unique_count": 120,
                    "nan_count": 421,
                    "min": "21.9",
                    "max": "55.7",
                    "histogram": [
                      {
                        "bin_start": 21.9,
                        "bin_end": 25.279999999999998,
                        "count": 184
                      },
                      {
                        "bin_start": 25.279999999999998,
                        "bin_end": 28.66,
                        "count": 3222
                      },
                      {
                        "bin_start": 28.66,
                        "bin_end": 32.04,
                        "count": 11554
                      },
                      {
                        "bin_start": 32.04,
                        "bin_end": 35.42,
                        "count": 1719
                      },
                      {
                        "bin_start": 35.42,
                        "bin_end": 38.8,
                        "count": 17
                      },
                      {
                        "bin_start": 38.8,
                        "bin_end": 42.18,
                        "count": 3
                      },
                      {
                        "bin_start": 42.18,
                        "bin_end": 45.56,
                        "count": 0
                      },
                      {
                        "bin_start": 45.56,
                        "bin_end": 48.94,
                        "count": 0
                      },
                      {
                        "bin_start": 48.94,
                        "bin_end": 52.32,
                        "count": 0
                      },
                      {
                        "bin_start": 52.32,
                        "bin_end": 55.7,
                        "count": 1
                      }
                    ]
                  }
                },
                {
                  "name": "tempmin",
                  "dtype": "float64",
                  "stats": {
                    "unique_count": 134,
                    "nan_count": 421,
                    "min": "2.6",
                    "max": "33.7",
                    "histogram": [
                      {
                        "bin_start": 2.6,
                        "bin_end": 5.710000000000001,
                        "count": 2
                      },
                      {
                        "bin_start": 5.710000000000001,
                        "bin_end": 8.82,
                        "count": 1
                      },
                      {
                        "bin_start": 8.82,
                        "bin_end": 11.930000000000001,
                        "count": 0
                      },
                      {
                        "bin_start": 11.930000000000001,
                        "bin_end": 15.040000000000001,
                        "count": 6
                      },
                      {
                        "bin_start": 15.040000000000001,
                        "bin_end": 18.150000000000002,
                        "count": 19
                      },
                      {
                        "bin_start": 18.150000000000002,
                        "bin_end": 21.260000000000005,
                        "count": 216
                      },
                      {
                        "bin_start": 21.260000000000005,
                        "bin_end": 24.370000000000005,
                        "count": 5293
                      },
                      {
                        "bin_start": 24.370000000000005,
                        "bin_end": 27.480000000000004,
                        "count": 10883
                      },
                      {
                        "bin_start": 27.480000000000004,
                        "bin_end": 30.590000000000003,
                        "count": 245
                      },
                      {
                        "bin_start": 30.590000000000003,
                        "bin_end": 33.7,
                        "count": 35
                      }
                    ]
                  }
                },
                {
                  "name": "temp",
                  "dtype": "float64",
                  "stats": {
                    "unique_count": 106,
                    "nan_count": 421,
                    "min": "20.4",
                    "max": "36.0",
                    "histogram": [
                      {
                        "bin_start": 20.4,
                        "bin_end": 21.959999999999997,
                        "count": 6
                      },
                      {
                        "bin_start": 21.959999999999997,
                        "bin_end": 23.52,
                        "count": 61
                      },
                      {
                        "bin_start": 23.52,
                        "bin_end": 25.08,
                        "count": 937
                      },
                      {
                        "bin_start": 25.08,
                        "bin_end": 26.64,
                        "count": 4509
                      },
                      {
                        "bin_start": 26.64,
                        "bin_end": 28.2,
                        "count": 8112
                      },
                      {
                        "bin_start": 28.2,
                        "bin_end": 29.759999999999998,
                        "count": 2940
                      },
                      {
                        "bin_start": 29.759999999999998,
                        "bin_end": 31.32,
                        "count": 112
                      },
                      {
                        "bin_start": 31.32,
                        "bin_end": 32.879999999999995,
                        "count": 20
                      },
                      {
                        "bin_start": 32.879999999999995,
                        "bin_end": 34.44,
                        "count": 2
                      },
                      {
                        "bin_start": 34.44,
                        "bin_end": 36,
                        "count": 1
                      }
                    ]
                  }
                },
                {
                  "name": "feelslikemax",
                  "dtype": "float64",
                  "stats": {
                    "unique_count": 218,
                    "nan_count": 421,
                    "min": "21.9",
                    "max": "55.7",
                    "histogram": [
                      {
                        "bin_start": 21.9,
                        "bin_end": 25.279999999999998,
                        "count": 184
                      },
                      {
                        "bin_start": 25.279999999999998,
                        "bin_end": 28.66,
                        "count": 495
                      },
                      {
                        "bin_start": 28.66,
                        "bin_end": 32.04,
                        "count": 2415
                      },
                      {
                        "bin_start": 32.04,
                        "bin_end": 35.42,
                        "count": 5328
                      },
                      {
                        "bin_start": 35.42,
                        "bin_end": 38.8,
                        "count": 6297
                      },
                      {
                        "bin_start": 38.8,
                        "bin_end": 42.18,
                        "count": 1810
                      },
                      {
                        "bin_start": 42.18,
                        "bin_end": 45.56,
                        "count": 149
                      },
                      {
                        "bin_start": 45.56,
                        "bin_end": 48.94,
                        "count": 14
                      },
                      {
                        "bin_start": 48.94,
                        "bin_end": 52.32,
                        "count": 6
                      },
                      {
                        "bin_start": 52.32,
                        "bin_end": 55.7,
                        "count": 2
                      }
                    ]
                  }
                },
                {
                  "name": "feelslikemin",
                  "dtype": "float64",
                  "stats": {
                    "unique_count": 196,
                    "nan_count": 421,
                    "min": "-0.9",
                    "max": "41.7",
                    "histogram": [
                      {
                        "bin_start": -0.9,
                        "bin_end": 3.36,
                        "count": 2
                      },
                      {
                        "bin_start": 3.36,
                        "bin_end": 7.619999999999999,
                        "count": 1
                      },
                      {
                        "bin_start": 7.619999999999999,
                        "bin_end": 11.879999999999999,
                        "count": 0
                      },
                      {
                        "bin_start": 11.879999999999999,
                        "bin_end": 16.14,
                        "count": 12
                      },
                      {
                        "bin_start": 16.14,
                        "bin_end": 20.4,
                        "count": 80
                      },
                      {
                        "bin_start": 20.4,
                        "bin_end": 24.66,
                        "count": 6773
                      },
                      {
                        "bin_start": 24.66,
                        "bin_end": 28.92,
                        "count": 9180
                      },
                      {
                        "bin_start": 28.92,
                        "bin_end": 33.18,
                        "count": 539
                      },
                      {
                        "bin_start": 33.18,
                        "bin_end": 37.44,
                        "count": 96
                      },
                      {
                        "bin_start": 37.44,
                        "bin_end": 41.7,
                        "count": 17
                      }
                    ]
                  }
                },
                {
                  "name": "feelslike",
                  "dtype": "float64"
                },
                {
                  "name": "dew",
                  "dtype": "float64"
                },
                {
                  "name": "humidity",
                  "dtype": "float64"
                },
                {
                  "name": "precip",
                  "dtype": "float64"
                },
                {
                  "name": "precipprob",
                  "dtype": "bool"
                },
                {
                  "name": "precipcover",
                  "dtype": "float64"
                },
                {
                  "name": "preciptype",
                  "dtype": "object"
                },
                {
                  "name": "snow",
                  "dtype": "float64"
                },
                {
                  "name": "snowdepth",
                  "dtype": "float64"
                },
                {
                  "name": "windgust",
                  "dtype": "float64"
                },
                {
                  "name": "windspeed",
                  "dtype": "float64"
                },
                {
                  "name": "winddir",
                  "dtype": "float64"
                },
                {
                  "name": "sealevelpressure",
                  "dtype": "float64"
                },
                {
                  "name": "cloudcover",
                  "dtype": "float64"
                },
                {
                  "name": "visibility",
                  "dtype": "float64"
                },
                {
                  "name": "solarradiation",
                  "dtype": "float64"
                },
                {
                  "name": "solarenergy",
                  "dtype": "float64"
                },
                {
                  "name": "uvindex",
                  "dtype": "float64"
                },
                {
                  "name": "severerisk",
                  "dtype": "float64"
                },
                {
                  "name": "_deepnote_index_column",
                  "dtype": "object"
                }
              ],
              "rows": [
                {
                  "tempmax": 32.1,
                  "tempmin": 25.1,
                  "temp": 28.1,
                  "feelslikemax": 39.3,
                  "feelslikemin": 25.1,
                  "feelslike": 31.4,
                  "dew": 24.8,
                  "humidity": 83.5,
                  "precip": 0,
                  "precipprob": "False",
                  "precipcover": 0,
                  "preciptype": "nan",
                  "snow": "nan",
                  "snowdepth": "nan",
                  "windgust": "nan",
                  "windspeed": 18.4,
                  "winddir": 183.2,
                  "sealevelpressure": 1011.7,
                  "cloudcover": 70,
                  "visibility": 11.7,
                  "solarradiation": "nan",
                  "solarenergy": "nan",
                  "uvindex": "nan",
                  "severerisk": "nan",
                  "_deepnote_index_column": "1978-02-16"
                },
                {
                  "tempmax": 31.1,
                  "tempmin": 25.1,
                  "temp": 27.9,
                  "feelslikemax": 37.9,
                  "feelslikemin": 25.1,
                  "feelslike": 31.8,
                  "dew": 24.9,
                  "humidity": 84.4,
                  "precip": 0,
                  "precipprob": "False",
                  "precipcover": 0,
                  "preciptype": "nan",
                  "snow": "nan",
                  "snowdepth": "nan",
                  "windgust": "nan",
                  "windspeed": 18.4,
                  "winddir": 120.5,
                  "sealevelpressure": 1012.5,
                  "cloudcover": 60,
                  "visibility": 12.2,
                  "solarradiation": "nan",
                  "solarenergy": "nan",
                  "uvindex": "nan",
                  "severerisk": "nan",
                  "_deepnote_index_column": "1978-02-17"
                },
                {
                  "tempmax": 32.1,
                  "tempmin": 26.1,
                  "temp": 29,
                  "feelslikemax": 40.8,
                  "feelslikemin": 26.1,
                  "feelslike": 33.6,
                  "dew": 25.5,
                  "humidity": 82.7,
                  "precip": 0,
                  "precipprob": "False",
                  "precipcover": 0,
                  "preciptype": "nan",
                  "snow": "nan",
                  "snowdepth": "nan",
                  "windgust": "nan",
                  "windspeed": 9.4,
                  "winddir": 99.7,
                  "sealevelpressure": 1013,
                  "cloudcover": 77.1,
                  "visibility": 11,
                  "solarradiation": "nan",
                  "solarenergy": "nan",
                  "uvindex": "nan",
                  "severerisk": "nan",
                  "_deepnote_index_column": "1978-02-18"
                },
                {
                  "tempmax": 33.1,
                  "tempmin": 25.1,
                  "temp": 28.5,
                  "feelslikemax": 39.4,
                  "feelslikemin": 25.1,
                  "feelslike": 32.2,
                  "dew": 25.1,
                  "humidity": 83.2,
                  "precip": 0,
                  "precipprob": "False",
                  "precipcover": 0,
                  "preciptype": "nan",
                  "snow": "nan",
                  "snowdepth": "nan",
                  "windgust": "nan",
                  "windspeed": 14.8,
                  "winddir": 234.8,
                  "sealevelpressure": 1013.3,
                  "cloudcover": 91.4,
                  "visibility": 10.7,
                  "solarradiation": "nan",
                  "solarenergy": "nan",
                  "uvindex": "nan",
                  "severerisk": "nan",
                  "_deepnote_index_column": "1978-02-19"
                },
                {
                  "tempmax": 31.1,
                  "tempmin": 24.1,
                  "temp": 27.1,
                  "feelslikemax": 44.4,
                  "feelslikemin": 24.1,
                  "feelslike": 30.7,
                  "dew": 23.1,
                  "humidity": 85.2,
                  "precip": 0,
                  "precipprob": "False",
                  "precipcover": 0,
                  "preciptype": "nan",
                  "snow": "nan",
                  "snowdepth": "nan",
                  "windgust": "nan",
                  "windspeed": 5.4,
                  "winddir": 148.1,
                  "sealevelpressure": 1013.6,
                  "cloudcover": 81.4,
                  "visibility": 8.6,
                  "solarradiation": "nan",
                  "solarenergy": "nan",
                  "uvindex": "nan",
                  "severerisk": "nan",
                  "_deepnote_index_column": "1978-02-20"
                },
                {
                  "tempmax": 30.1,
                  "tempmin": 24.1,
                  "temp": 26.1,
                  "feelslikemax": 37.6,
                  "feelslikemin": 24.1,
                  "feelslike": 27.8,
                  "dew": 24.7,
                  "humidity": 92.2,
                  "precip": 0,
                  "precipprob": "False",
                  "precipcover": 0,
                  "preciptype": "nan",
                  "snow": "nan",
                  "snowdepth": "nan",
                  "windgust": "nan",
                  "windspeed": 5.4,
                  "winddir": 263.4,
                  "sealevelpressure": 1013.7,
                  "cloudcover": 97.1,
                  "visibility": 8.9,
                  "solarradiation": "nan",
                  "solarenergy": "nan",
                  "uvindex": "nan",
                  "severerisk": "nan",
                  "_deepnote_index_column": "1978-02-21"
                },
                {
                  "tempmax": 31.1,
                  "tempmin": 24.1,
                  "temp": 27.4,
                  "feelslikemax": 42.4,
                  "feelslikemin": 24.1,
                  "feelslike": 31.6,
                  "dew": 25.4,
                  "humidity": 89.7,
                  "precip": 0,
                  "precipprob": "False",
                  "precipcover": 0,
                  "preciptype": "nan",
                  "snow": "nan",
                  "snowdepth": "nan",
                  "windgust": "nan",
                  "windspeed": 18.4,
                  "winddir": 243.4,
                  "sealevelpressure": 1012.7,
                  "cloudcover": 68.3,
                  "visibility": 12.2,
                  "solarradiation": "nan",
                  "solarenergy": "nan",
                  "uvindex": "nan",
                  "severerisk": "nan",
                  "_deepnote_index_column": "1978-02-22"
                },
                {
                  "tempmax": 29.1,
                  "tempmin": 24.1,
                  "temp": 27,
                  "feelslikemax": 34.7,
                  "feelslikemin": 24.1,
                  "feelslike": 29.6,
                  "dew": 24.7,
                  "humidity": 87.8,
                  "precip": 9,
                  "precipprob": "True",
                  "precipcover": 4.17,
                  "preciptype": "rain",
                  "snow": "nan",
                  "snowdepth": "nan",
                  "windgust": "nan",
                  "windspeed": 11.2,
                  "winddir": 294.6,
                  "sealevelpressure": 1013.3,
                  "cloudcover": 87.1,
                  "visibility": 10.4,
                  "solarradiation": "nan",
                  "solarenergy": "nan",
                  "uvindex": "nan",
                  "severerisk": "nan",
                  "_deepnote_index_column": "1978-02-23"
                },
                {
                  "tempmax": 32.1,
                  "tempmin": 25.1,
                  "temp": 27,
                  "feelslikemax": 39.3,
                  "feelslikemin": 25.1,
                  "feelslike": 28.7,
                  "dew": 24.5,
                  "humidity": 87.7,
                  "precip": 0,
                  "precipprob": "False",
                  "precipcover": 0,
                  "preciptype": "nan",
                  "snow": "nan",
                  "snowdepth": "nan",
                  "windgust": "nan",
                  "windspeed": 11.2,
                  "winddir": 232.5,
                  "sealevelpressure": 1014.1,
                  "cloudcover": 81.4,
                  "visibility": 11.6,
                  "solarradiation": "nan",
                  "solarenergy": "nan",
                  "uvindex": "nan",
                  "severerisk": "nan",
                  "_deepnote_index_column": "1978-02-24"
                },
                {
                  "tempmax": 33.1,
                  "tempmin": 24.1,
                  "temp": 27.8,
                  "feelslikemax": 40.7,
                  "feelslikemin": 24.1,
                  "feelslike": 31,
                  "dew": 24.4,
                  "humidity": 83,
                  "precip": 0,
                  "precipprob": "False",
                  "precipcover": 0,
                  "preciptype": "nan",
                  "snow": "nan",
                  "snowdepth": "nan",
                  "windgust": "nan",
                  "windspeed": 13,
                  "winddir": 271.7,
                  "sealevelpressure": 1015.6,
                  "cloudcover": 82.9,
                  "visibility": 10.7,
                  "solarradiation": "nan",
                  "solarenergy": "nan",
                  "uvindex": "nan",
                  "severerisk": "nan",
                  "_deepnote_index_column": "1978-02-25"
                }
              ]
            },
            "text/plain": "            tempmax  tempmin  temp  feelslikemax  feelslikemin  feelslike  \\\ndatetime                                                                    \n1978-02-16     32.1     25.1  28.1          39.3          25.1       31.4   \n1978-02-17     31.1     25.1  27.9          37.9          25.1       31.8   \n1978-02-18     32.1     26.1  29.0          40.8          26.1       33.6   \n1978-02-19     33.1     25.1  28.5          39.4          25.1       32.2   \n1978-02-20     31.1     24.1  27.1          44.4          24.1       30.7   \n...             ...      ...   ...           ...           ...        ...   \n2024-12-27     32.7     25.1  28.5          39.5          25.1       32.2   \n2024-12-28     27.8     25.4  26.6          32.5          25.4       28.4   \n2024-12-29     26.2     25.0  25.5          26.2          25.0       25.5   \n2024-12-30     29.6     24.5  26.7          33.6          24.5       28.2   \n2024-12-31     28.4     24.0  26.1          31.7          24.0       27.0   \n\n             dew  humidity  precip  precipprob  ...  windgust windspeed  \\\ndatetime                                        ...                       \n1978-02-16  24.8      83.5     0.0       False  ...       NaN      18.4   \n1978-02-17  24.9      84.4     0.0       False  ...       NaN      18.4   \n1978-02-18  25.5      82.7     0.0       False  ...       NaN       9.4   \n1978-02-19  25.1      83.2     0.0       False  ...       NaN      14.8   \n1978-02-20  23.1      85.2     0.0       False  ...       NaN       5.4   \n...          ...       ...     ...         ...  ...       ...       ...   \n2024-12-27  24.9      81.7     0.0       False  ...      19.8      11.2   \n2024-12-28  23.6      83.9    10.4        True  ...      16.9      10.8   \n2024-12-29  22.5      83.7     1.6        True  ...      10.8       7.6   \n2024-12-30  22.6      78.3    14.2        True  ...      36.4      23.8   \n2024-12-31  23.0      83.5    14.5        True  ...      42.5      26.3   \n\n            winddir  sealevelpressure  cloudcover  visibility  solarradiation  \\\ndatetime                                                                        \n1978-02-16    183.2            1011.7        70.0        11.7             NaN   \n1978-02-17    120.5            1012.5        60.0        12.2             NaN   \n1978-02-18     99.7            1013.0        77.1        11.0             NaN   \n1978-02-19    234.8            1013.3        91.4        10.7             NaN   \n1978-02-20    148.1            1013.6        81.4         8.6             NaN   \n...             ...               ...         ...         ...             ...   \n2024-12-27    249.3            1011.5        73.3         8.5           182.6   \n2024-12-28    290.6            1010.7        93.8        18.4            96.5   \n2024-12-29    274.1            1010.6       100.0        22.9            39.8   \n2024-12-30    266.0            1009.7        79.2        17.0           298.1   \n2024-12-31    282.0            1008.8        96.2        16.6           127.7   \n\n            solarenergy  uvindex  severerisk  \ndatetime                                      \n1978-02-16          NaN      NaN         NaN  \n1978-02-17          NaN      NaN         NaN  \n1978-02-18          NaN      NaN         NaN  \n1978-02-19          NaN      NaN         NaN  \n1978-02-20          NaN      NaN         NaN  \n...                 ...      ...         ...  \n2024-12-27         15.6      6.0        10.0  \n2024-12-28          8.1      6.0        30.0  \n2024-12-29          3.4      2.0        10.0  \n2024-12-30         25.8     10.0        10.0  \n2024-12-31         10.9      6.0        10.0  \n\n[17121 rows x 24 columns]",
            "text/html": "<div>\n<style scoped>\n    .dataframe tbody tr th:only-of-type {\n        vertical-align: middle;\n    }\n\n    .dataframe tbody tr th {\n        vertical-align: top;\n    }\n\n    .dataframe thead th {\n        text-align: right;\n    }\n</style>\n<table border=\"1\" class=\"dataframe\">\n  <thead>\n    <tr style=\"text-align: right;\">\n      <th></th>\n      <th>tempmax</th>\n      <th>tempmin</th>\n      <th>temp</th>\n      <th>feelslikemax</th>\n      <th>feelslikemin</th>\n      <th>feelslike</th>\n      <th>dew</th>\n      <th>humidity</th>\n      <th>precip</th>\n      <th>precipprob</th>\n      <th>...</th>\n      <th>windgust</th>\n      <th>windspeed</th>\n      <th>winddir</th>\n      <th>sealevelpressure</th>\n      <th>cloudcover</th>\n      <th>visibility</th>\n      <th>solarradiation</th>\n      <th>solarenergy</th>\n      <th>uvindex</th>\n      <th>severerisk</th>\n    </tr>\n    <tr>\n      <th>datetime</th>\n      <th></th>\n      <th></th>\n      <th></th>\n      <th></th>\n      <th></th>\n      <th></th>\n      <th></th>\n      <th></th>\n      <th></th>\n      <th></th>\n      <th></th>\n      <th></th>\n      <th></th>\n      <th></th>\n      <th></th>\n      <th></th>\n      <th></th>\n      <th></th>\n      <th></th>\n      <th></th>\n      <th></th>\n    </tr>\n  </thead>\n  <tbody>\n    <tr>\n      <th>1978-02-16</th>\n      <td>32.1</td>\n      <td>25.1</td>\n      <td>28.1</td>\n      <td>39.3</td>\n      <td>25.1</td>\n      <td>31.4</td>\n      <td>24.8</td>\n      <td>83.5</td>\n      <td>0.0</td>\n      <td>False</td>\n      <td>...</td>\n      <td>NaN</td>\n      <td>18.4</td>\n      <td>183.2</td>\n      <td>1011.7</td>\n      <td>70.0</td>\n      <td>11.7</td>\n      <td>NaN</td>\n      <td>NaN</td>\n      <td>NaN</td>\n      <td>NaN</td>\n    </tr>\n    <tr>\n      <th>1978-02-17</th>\n      <td>31.1</td>\n      <td>25.1</td>\n      <td>27.9</td>\n      <td>37.9</td>\n      <td>25.1</td>\n      <td>31.8</td>\n      <td>24.9</td>\n      <td>84.4</td>\n      <td>0.0</td>\n      <td>False</td>\n      <td>...</td>\n      <td>NaN</td>\n      <td>18.4</td>\n      <td>120.5</td>\n      <td>1012.5</td>\n      <td>60.0</td>\n      <td>12.2</td>\n      <td>NaN</td>\n      <td>NaN</td>\n      <td>NaN</td>\n      <td>NaN</td>\n    </tr>\n    <tr>\n      <th>1978-02-18</th>\n      <td>32.1</td>\n      <td>26.1</td>\n      <td>29.0</td>\n      <td>40.8</td>\n      <td>26.1</td>\n      <td>33.6</td>\n      <td>25.5</td>\n      <td>82.7</td>\n      <td>0.0</td>\n      <td>False</td>\n      <td>...</td>\n      <td>NaN</td>\n      <td>9.4</td>\n      <td>99.7</td>\n      <td>1013.0</td>\n      <td>77.1</td>\n      <td>11.0</td>\n      <td>NaN</td>\n      <td>NaN</td>\n      <td>NaN</td>\n      <td>NaN</td>\n    </tr>\n    <tr>\n      <th>1978-02-19</th>\n      <td>33.1</td>\n      <td>25.1</td>\n      <td>28.5</td>\n      <td>39.4</td>\n      <td>25.1</td>\n      <td>32.2</td>\n      <td>25.1</td>\n      <td>83.2</td>\n      <td>0.0</td>\n      <td>False</td>\n      <td>...</td>\n      <td>NaN</td>\n      <td>14.8</td>\n      <td>234.8</td>\n      <td>1013.3</td>\n      <td>91.4</td>\n      <td>10.7</td>\n      <td>NaN</td>\n      <td>NaN</td>\n      <td>NaN</td>\n      <td>NaN</td>\n    </tr>\n    <tr>\n      <th>1978-02-20</th>\n      <td>31.1</td>\n      <td>24.1</td>\n      <td>27.1</td>\n      <td>44.4</td>\n      <td>24.1</td>\n      <td>30.7</td>\n      <td>23.1</td>\n      <td>85.2</td>\n      <td>0.0</td>\n      <td>False</td>\n      <td>...</td>\n      <td>NaN</td>\n      <td>5.4</td>\n      <td>148.1</td>\n      <td>1013.6</td>\n      <td>81.4</td>\n      <td>8.6</td>\n      <td>NaN</td>\n      <td>NaN</td>\n      <td>NaN</td>\n      <td>NaN</td>\n    </tr>\n    <tr>\n      <th>...</th>\n      <td>...</td>\n      <td>...</td>\n      <td>...</td>\n      <td>...</td>\n      <td>...</td>\n      <td>...</td>\n      <td>...</td>\n      <td>...</td>\n      <td>...</td>\n      <td>...</td>\n      <td>...</td>\n      <td>...</td>\n      <td>...</td>\n      <td>...</td>\n      <td>...</td>\n      <td>...</td>\n      <td>...</td>\n      <td>...</td>\n      <td>...</td>\n      <td>...</td>\n      <td>...</td>\n    </tr>\n    <tr>\n      <th>2024-12-27</th>\n      <td>32.7</td>\n      <td>25.1</td>\n      <td>28.5</td>\n      <td>39.5</td>\n      <td>25.1</td>\n      <td>32.2</td>\n      <td>24.9</td>\n      <td>81.7</td>\n      <td>0.0</td>\n      <td>False</td>\n      <td>...</td>\n      <td>19.8</td>\n      <td>11.2</td>\n      <td>249.3</td>\n      <td>1011.5</td>\n      <td>73.3</td>\n      <td>8.5</td>\n      <td>182.6</td>\n      <td>15.6</td>\n      <td>6.0</td>\n      <td>10.0</td>\n    </tr>\n    <tr>\n      <th>2024-12-28</th>\n      <td>27.8</td>\n      <td>25.4</td>\n      <td>26.6</td>\n      <td>32.5</td>\n      <td>25.4</td>\n      <td>28.4</td>\n      <td>23.6</td>\n      <td>83.9</td>\n      <td>10.4</td>\n      <td>True</td>\n      <td>...</td>\n      <td>16.9</td>\n      <td>10.8</td>\n      <td>290.6</td>\n      <td>1010.7</td>\n      <td>93.8</td>\n      <td>18.4</td>\n      <td>96.5</td>\n      <td>8.1</td>\n      <td>6.0</td>\n      <td>30.0</td>\n    </tr>\n    <tr>\n      <th>2024-12-29</th>\n      <td>26.2</td>\n      <td>25.0</td>\n      <td>25.5</td>\n      <td>26.2</td>\n      <td>25.0</td>\n      <td>25.5</td>\n      <td>22.5</td>\n      <td>83.7</td>\n      <td>1.6</td>\n      <td>True</td>\n      <td>...</td>\n      <td>10.8</td>\n      <td>7.6</td>\n      <td>274.1</td>\n      <td>1010.6</td>\n      <td>100.0</td>\n      <td>22.9</td>\n      <td>39.8</td>\n      <td>3.4</td>\n      <td>2.0</td>\n      <td>10.0</td>\n    </tr>\n    <tr>\n      <th>2024-12-30</th>\n      <td>29.6</td>\n      <td>24.5</td>\n      <td>26.7</td>\n      <td>33.6</td>\n      <td>24.5</td>\n      <td>28.2</td>\n      <td>22.6</td>\n      <td>78.3</td>\n      <td>14.2</td>\n      <td>True</td>\n      <td>...</td>\n      <td>36.4</td>\n      <td>23.8</td>\n      <td>266.0</td>\n      <td>1009.7</td>\n      <td>79.2</td>\n      <td>17.0</td>\n      <td>298.1</td>\n      <td>25.8</td>\n      <td>10.0</td>\n      <td>10.0</td>\n    </tr>\n    <tr>\n      <th>2024-12-31</th>\n      <td>28.4</td>\n      <td>24.0</td>\n      <td>26.1</td>\n      <td>31.7</td>\n      <td>24.0</td>\n      <td>27.0</td>\n      <td>23.0</td>\n      <td>83.5</td>\n      <td>14.5</td>\n      <td>True</td>\n      <td>...</td>\n      <td>42.5</td>\n      <td>26.3</td>\n      <td>282.0</td>\n      <td>1008.8</td>\n      <td>96.2</td>\n      <td>16.6</td>\n      <td>127.7</td>\n      <td>10.9</td>\n      <td>6.0</td>\n      <td>10.0</td>\n    </tr>\n  </tbody>\n</table>\n<p>17121 rows × 24 columns</p>\n</div>"
          },
          "metadata": {}
        }
      ],
      "outputs_reference": null,
      "execution_count": 28,
      "block_group": "16af4a468d094df6842f712372d304f8",
      "content_dependencies": null
    },
    {
      "cell_type": "code",
      "source": "data3.isnull().sum()",
      "metadata": {
        "source_hash": "165bb4c9",
        "execution_start": 1736074247779,
        "execution_millis": 1,
        "execution_context_id": "3efd7ac1-9a58-472f-bb85-5bf86841e6be",
        "cell_id": "ddce146df55e4486a91d0e0b5067c396",
        "deepnote_cell_type": "code"
      },
      "outputs": [
        {
          "output_type": "execute_result",
          "execution_count": 12,
          "data": {
            "text/plain": "name                    0\ndatetime                0\ntempmax               421\ntempmin               421\ntemp                  421\nfeelslikemax          421\nfeelslikemin          421\nfeelslike             421\ndew                   421\nhumidity              421\nprecip                421\nprecipprob              0\nprecipcover             0\npreciptype           7356\nsnow                 8032\nsnowdepth            8032\nwindgust            16034\nwindspeed               0\nwinddir               714\nsealevelpressure     4028\ncloudcover            421\nvisibility            426\nsolarradiation      11642\nsolarenergy         11642\nuvindex             11642\nsevererisk          16034\nsunrise                 0\nsunset                  0\nmoonphase               0\nconditions            421\ndescription           421\nicon                  421\nstations              421\ndtype: int64"
          },
          "metadata": {}
        }
      ],
      "outputs_reference": null,
      "execution_count": 12,
      "block_group": "328e627d4e63452e95ba70a0ddc7bde5",
      "content_dependencies": null
    },
    {
      "cell_type": "code",
      "source": "data3.drop(\n    columns=[\n        'stations',\n        'sunrise',\n        'sunset',\n        'moonphase',\n        'conditions',\n        'description',\n        'icon',\n        'name',\n        ], \n    inplace=True\n    )",
      "metadata": {
        "source_hash": "6cf0d00b",
        "execution_start": 1736074247831,
        "execution_millis": 0,
        "execution_context_id": "3efd7ac1-9a58-472f-bb85-5bf86841e6be",
        "cell_id": "6d0dfd36e62942af9662c51745266139",
        "deepnote_cell_type": "code"
      },
      "outputs": [],
      "outputs_reference": null,
      "execution_count": 13,
      "block_group": "eb4151744b854389b511fd395996b587",
      "content_dependencies": null
    },
    {
      "cell_type": "code",
      "source": "data3.set_index('datetime', inplace=True)\ndata3['sealevelpressure'] = data3['sealevelpressure'].interpolate(method='time')",
      "metadata": {
        "source_hash": "8bcd99f3",
        "execution_start": 1736074485216,
        "execution_millis": 51,
        "execution_context_id": "3efd7ac1-9a58-472f-bb85-5bf86841e6be",
        "cell_id": "c0be9fabf6fc4cf9ac08ac5bfec5896a",
        "deepnote_cell_type": "code"
      },
      "outputs": [
        {
          "output_type": "error",
          "ename": "ValueError",
          "evalue": "time-weighted interpolation only works on Series or DataFrames with a DatetimeIndex",
          "traceback": [
            "\u001b[0;31m---------------------------------------------------------------------------\u001b[0m",
            "\u001b[0;31mValueError\u001b[0m                                Traceback (most recent call last)",
            "Cell \u001b[0;32mIn[24], line 2\u001b[0m\n\u001b[1;32m      1\u001b[0m data3\u001b[38;5;241m.\u001b[39mset_index(\u001b[38;5;124m'\u001b[39m\u001b[38;5;124mdatetime\u001b[39m\u001b[38;5;124m'\u001b[39m, inplace\u001b[38;5;241m=\u001b[39m\u001b[38;5;28;01mTrue\u001b[39;00m)\n\u001b[0;32m----> 2\u001b[0m data3[\u001b[38;5;124m'\u001b[39m\u001b[38;5;124msealevelpressure\u001b[39m\u001b[38;5;124m'\u001b[39m] \u001b[38;5;241m=\u001b[39m \u001b[43mdata3\u001b[49m\u001b[43m[\u001b[49m\u001b[38;5;124;43m'\u001b[39;49m\u001b[38;5;124;43msealevelpressure\u001b[39;49m\u001b[38;5;124;43m'\u001b[39;49m\u001b[43m]\u001b[49m\u001b[38;5;241;43m.\u001b[39;49m\u001b[43minterpolate\u001b[49m\u001b[43m(\u001b[49m\u001b[43mmethod\u001b[49m\u001b[38;5;241;43m=\u001b[39;49m\u001b[38;5;124;43m'\u001b[39;49m\u001b[38;5;124;43mtime\u001b[39;49m\u001b[38;5;124;43m'\u001b[39;49m\u001b[43m)\u001b[49m\n",
            "File \u001b[0;32m~/venv/lib/python3.11/site-packages/pandas/core/generic.py:8206\u001b[0m, in \u001b[0;36mNDFrame.interpolate\u001b[0;34m(self, method, axis, limit, inplace, limit_direction, limit_area, downcast, **kwargs)\u001b[0m\n\u001b[1;32m   8204\u001b[0m \u001b[38;5;28;01melse\u001b[39;00m:\n\u001b[1;32m   8205\u001b[0m     index \u001b[38;5;241m=\u001b[39m missing\u001b[38;5;241m.\u001b[39mget_interp_index(method, obj\u001b[38;5;241m.\u001b[39mindex)\n\u001b[0;32m-> 8206\u001b[0m     new_data \u001b[38;5;241m=\u001b[39m \u001b[43mobj\u001b[49m\u001b[38;5;241;43m.\u001b[39;49m\u001b[43m_mgr\u001b[49m\u001b[38;5;241;43m.\u001b[39;49m\u001b[43minterpolate\u001b[49m\u001b[43m(\u001b[49m\n\u001b[1;32m   8207\u001b[0m \u001b[43m        \u001b[49m\u001b[43mmethod\u001b[49m\u001b[38;5;241;43m=\u001b[39;49m\u001b[43mmethod\u001b[49m\u001b[43m,\u001b[49m\n\u001b[1;32m   8208\u001b[0m \u001b[43m        \u001b[49m\u001b[43mindex\u001b[49m\u001b[38;5;241;43m=\u001b[39;49m\u001b[43mindex\u001b[49m\u001b[43m,\u001b[49m\n\u001b[1;32m   8209\u001b[0m \u001b[43m        \u001b[49m\u001b[43mlimit\u001b[49m\u001b[38;5;241;43m=\u001b[39;49m\u001b[43mlimit\u001b[49m\u001b[43m,\u001b[49m\n\u001b[1;32m   8210\u001b[0m \u001b[43m        \u001b[49m\u001b[43mlimit_direction\u001b[49m\u001b[38;5;241;43m=\u001b[39;49m\u001b[43mlimit_direction\u001b[49m\u001b[43m,\u001b[49m\n\u001b[1;32m   8211\u001b[0m \u001b[43m        \u001b[49m\u001b[43mlimit_area\u001b[49m\u001b[38;5;241;43m=\u001b[39;49m\u001b[43mlimit_area\u001b[49m\u001b[43m,\u001b[49m\n\u001b[1;32m   8212\u001b[0m \u001b[43m        \u001b[49m\u001b[43minplace\u001b[49m\u001b[38;5;241;43m=\u001b[39;49m\u001b[43minplace\u001b[49m\u001b[43m,\u001b[49m\n\u001b[1;32m   8213\u001b[0m \u001b[43m        \u001b[49m\u001b[43mdowncast\u001b[49m\u001b[38;5;241;43m=\u001b[39;49m\u001b[43mdowncast\u001b[49m\u001b[43m,\u001b[49m\n\u001b[1;32m   8214\u001b[0m \u001b[43m        \u001b[49m\u001b[38;5;241;43m*\u001b[39;49m\u001b[38;5;241;43m*\u001b[39;49m\u001b[43mkwargs\u001b[49m\u001b[43m,\u001b[49m\n\u001b[1;32m   8215\u001b[0m \u001b[43m    \u001b[49m\u001b[43m)\u001b[49m\n\u001b[1;32m   8217\u001b[0m result \u001b[38;5;241m=\u001b[39m \u001b[38;5;28mself\u001b[39m\u001b[38;5;241m.\u001b[39m_constructor_from_mgr(new_data, axes\u001b[38;5;241m=\u001b[39mnew_data\u001b[38;5;241m.\u001b[39maxes)\n\u001b[1;32m   8218\u001b[0m \u001b[38;5;28;01mif\u001b[39;00m should_transpose:\n",
            "File \u001b[0;32m~/venv/lib/python3.11/site-packages/pandas/core/internals/base.py:265\u001b[0m, in \u001b[0;36mDataManager.interpolate\u001b[0;34m(self, inplace, **kwargs)\u001b[0m\n\u001b[1;32m    264\u001b[0m \u001b[38;5;28;01mdef\u001b[39;00m \u001b[38;5;21minterpolate\u001b[39m(\u001b[38;5;28mself\u001b[39m, inplace: \u001b[38;5;28mbool\u001b[39m, \u001b[38;5;241m*\u001b[39m\u001b[38;5;241m*\u001b[39mkwargs) \u001b[38;5;241m-\u001b[39m\u001b[38;5;241m>\u001b[39m Self:\n\u001b[0;32m--> 265\u001b[0m     \u001b[38;5;28;01mreturn\u001b[39;00m \u001b[38;5;28;43mself\u001b[39;49m\u001b[38;5;241;43m.\u001b[39;49m\u001b[43mapply_with_block\u001b[49m\u001b[43m(\u001b[49m\n\u001b[1;32m    266\u001b[0m \u001b[43m        \u001b[49m\u001b[38;5;124;43m\"\u001b[39;49m\u001b[38;5;124;43minterpolate\u001b[39;49m\u001b[38;5;124;43m\"\u001b[39;49m\u001b[43m,\u001b[49m\u001b[43m \u001b[49m\u001b[43minplace\u001b[49m\u001b[38;5;241;43m=\u001b[39;49m\u001b[43minplace\u001b[49m\u001b[43m,\u001b[49m\u001b[43m \u001b[49m\u001b[38;5;241;43m*\u001b[39;49m\u001b[38;5;241;43m*\u001b[39;49m\u001b[43mkwargs\u001b[49m\u001b[43m,\u001b[49m\u001b[43m \u001b[49m\u001b[43musing_cow\u001b[49m\u001b[38;5;241;43m=\u001b[39;49m\u001b[43musing_copy_on_write\u001b[49m\u001b[43m(\u001b[49m\u001b[43m)\u001b[49m\n\u001b[1;32m    267\u001b[0m \u001b[43m    \u001b[49m\u001b[43m)\u001b[49m\n",
            "File \u001b[0;32m~/venv/lib/python3.11/site-packages/pandas/core/internals/managers.py:354\u001b[0m, in \u001b[0;36mBaseBlockManager.apply\u001b[0;34m(self, f, align_keys, **kwargs)\u001b[0m\n\u001b[1;32m    352\u001b[0m         applied \u001b[38;5;241m=\u001b[39m b\u001b[38;5;241m.\u001b[39mapply(f, \u001b[38;5;241m*\u001b[39m\u001b[38;5;241m*\u001b[39mkwargs)\n\u001b[1;32m    353\u001b[0m     \u001b[38;5;28;01melse\u001b[39;00m:\n\u001b[0;32m--> 354\u001b[0m         applied \u001b[38;5;241m=\u001b[39m \u001b[38;5;28;43mgetattr\u001b[39;49m\u001b[43m(\u001b[49m\u001b[43mb\u001b[49m\u001b[43m,\u001b[49m\u001b[43m \u001b[49m\u001b[43mf\u001b[49m\u001b[43m)\u001b[49m\u001b[43m(\u001b[49m\u001b[38;5;241;43m*\u001b[39;49m\u001b[38;5;241;43m*\u001b[39;49m\u001b[43mkwargs\u001b[49m\u001b[43m)\u001b[49m\n\u001b[1;32m    355\u001b[0m     result_blocks \u001b[38;5;241m=\u001b[39m extend_blocks(applied, result_blocks)\n\u001b[1;32m    357\u001b[0m out \u001b[38;5;241m=\u001b[39m \u001b[38;5;28mtype\u001b[39m(\u001b[38;5;28mself\u001b[39m)\u001b[38;5;241m.\u001b[39mfrom_blocks(result_blocks, \u001b[38;5;28mself\u001b[39m\u001b[38;5;241m.\u001b[39maxes)\n",
            "File \u001b[0;32m~/venv/lib/python3.11/site-packages/pandas/core/internals/blocks.py:1507\u001b[0m, in \u001b[0;36mBlock.interpolate\u001b[0;34m(self, method, index, inplace, limit, limit_direction, limit_area, downcast, using_cow, **kwargs)\u001b[0m\n\u001b[1;32m   1504\u001b[0m copy, refs \u001b[38;5;241m=\u001b[39m \u001b[38;5;28mself\u001b[39m\u001b[38;5;241m.\u001b[39m_get_refs_and_copy(using_cow, inplace)\n\u001b[1;32m   1506\u001b[0m \u001b[38;5;66;03m# Dispatch to the EA method.\u001b[39;00m\n\u001b[0;32m-> 1507\u001b[0m new_values \u001b[38;5;241m=\u001b[39m \u001b[38;5;28;43mself\u001b[39;49m\u001b[38;5;241;43m.\u001b[39;49m\u001b[43marray_values\u001b[49m\u001b[38;5;241;43m.\u001b[39;49m\u001b[43minterpolate\u001b[49m\u001b[43m(\u001b[49m\n\u001b[1;32m   1508\u001b[0m \u001b[43m    \u001b[49m\u001b[43mmethod\u001b[49m\u001b[38;5;241;43m=\u001b[39;49m\u001b[43mmethod\u001b[49m\u001b[43m,\u001b[49m\n\u001b[1;32m   1509\u001b[0m \u001b[43m    \u001b[49m\u001b[43maxis\u001b[49m\u001b[38;5;241;43m=\u001b[39;49m\u001b[38;5;28;43mself\u001b[39;49m\u001b[38;5;241;43m.\u001b[39;49m\u001b[43mndim\u001b[49m\u001b[43m \u001b[49m\u001b[38;5;241;43m-\u001b[39;49m\u001b[43m \u001b[49m\u001b[38;5;241;43m1\u001b[39;49m\u001b[43m,\u001b[49m\n\u001b[1;32m   1510\u001b[0m \u001b[43m    \u001b[49m\u001b[43mindex\u001b[49m\u001b[38;5;241;43m=\u001b[39;49m\u001b[43mindex\u001b[49m\u001b[43m,\u001b[49m\n\u001b[1;32m   1511\u001b[0m \u001b[43m    \u001b[49m\u001b[43mlimit\u001b[49m\u001b[38;5;241;43m=\u001b[39;49m\u001b[43mlimit\u001b[49m\u001b[43m,\u001b[49m\n\u001b[1;32m   1512\u001b[0m \u001b[43m    \u001b[49m\u001b[43mlimit_direction\u001b[49m\u001b[38;5;241;43m=\u001b[39;49m\u001b[43mlimit_direction\u001b[49m\u001b[43m,\u001b[49m\n\u001b[1;32m   1513\u001b[0m \u001b[43m    \u001b[49m\u001b[43mlimit_area\u001b[49m\u001b[38;5;241;43m=\u001b[39;49m\u001b[43mlimit_area\u001b[49m\u001b[43m,\u001b[49m\n\u001b[1;32m   1514\u001b[0m \u001b[43m    \u001b[49m\u001b[43mcopy\u001b[49m\u001b[38;5;241;43m=\u001b[39;49m\u001b[43mcopy\u001b[49m\u001b[43m,\u001b[49m\n\u001b[1;32m   1515\u001b[0m \u001b[43m    \u001b[49m\u001b[38;5;241;43m*\u001b[39;49m\u001b[38;5;241;43m*\u001b[39;49m\u001b[43mkwargs\u001b[49m\u001b[43m,\u001b[49m\n\u001b[1;32m   1516\u001b[0m \u001b[43m\u001b[49m\u001b[43m)\u001b[49m\n\u001b[1;32m   1517\u001b[0m data \u001b[38;5;241m=\u001b[39m extract_array(new_values, extract_numpy\u001b[38;5;241m=\u001b[39m\u001b[38;5;28;01mTrue\u001b[39;00m)\n\u001b[1;32m   1519\u001b[0m nb \u001b[38;5;241m=\u001b[39m \u001b[38;5;28mself\u001b[39m\u001b[38;5;241m.\u001b[39mmake_block_same_class(data, refs\u001b[38;5;241m=\u001b[39mrefs)\n",
            "File \u001b[0;32m~/venv/lib/python3.11/site-packages/pandas/core/arrays/numpy_.py:297\u001b[0m, in \u001b[0;36mNumpyExtensionArray.interpolate\u001b[0;34m(self, method, axis, index, limit, limit_direction, limit_area, copy, **kwargs)\u001b[0m\n\u001b[1;32m    294\u001b[0m     out_data \u001b[38;5;241m=\u001b[39m \u001b[38;5;28mself\u001b[39m\u001b[38;5;241m.\u001b[39m_ndarray\u001b[38;5;241m.\u001b[39mcopy()\n\u001b[1;32m    296\u001b[0m \u001b[38;5;66;03m# TODO: assert we have floating dtype?\u001b[39;00m\n\u001b[0;32m--> 297\u001b[0m \u001b[43mmissing\u001b[49m\u001b[38;5;241;43m.\u001b[39;49m\u001b[43minterpolate_2d_inplace\u001b[49m\u001b[43m(\u001b[49m\n\u001b[1;32m    298\u001b[0m \u001b[43m    \u001b[49m\u001b[43mout_data\u001b[49m\u001b[43m,\u001b[49m\n\u001b[1;32m    299\u001b[0m \u001b[43m    \u001b[49m\u001b[43mmethod\u001b[49m\u001b[38;5;241;43m=\u001b[39;49m\u001b[43mmethod\u001b[49m\u001b[43m,\u001b[49m\n\u001b[1;32m    300\u001b[0m \u001b[43m    \u001b[49m\u001b[43maxis\u001b[49m\u001b[38;5;241;43m=\u001b[39;49m\u001b[43maxis\u001b[49m\u001b[43m,\u001b[49m\n\u001b[1;32m    301\u001b[0m \u001b[43m    \u001b[49m\u001b[43mindex\u001b[49m\u001b[38;5;241;43m=\u001b[39;49m\u001b[43mindex\u001b[49m\u001b[43m,\u001b[49m\n\u001b[1;32m    302\u001b[0m \u001b[43m    \u001b[49m\u001b[43mlimit\u001b[49m\u001b[38;5;241;43m=\u001b[39;49m\u001b[43mlimit\u001b[49m\u001b[43m,\u001b[49m\n\u001b[1;32m    303\u001b[0m \u001b[43m    \u001b[49m\u001b[43mlimit_direction\u001b[49m\u001b[38;5;241;43m=\u001b[39;49m\u001b[43mlimit_direction\u001b[49m\u001b[43m,\u001b[49m\n\u001b[1;32m    304\u001b[0m \u001b[43m    \u001b[49m\u001b[43mlimit_area\u001b[49m\u001b[38;5;241;43m=\u001b[39;49m\u001b[43mlimit_area\u001b[49m\u001b[43m,\u001b[49m\n\u001b[1;32m    305\u001b[0m \u001b[43m    \u001b[49m\u001b[38;5;241;43m*\u001b[39;49m\u001b[38;5;241;43m*\u001b[39;49m\u001b[43mkwargs\u001b[49m\u001b[43m,\u001b[49m\n\u001b[1;32m    306\u001b[0m \u001b[43m\u001b[49m\u001b[43m)\u001b[49m\n\u001b[1;32m    307\u001b[0m \u001b[38;5;28;01mif\u001b[39;00m \u001b[38;5;129;01mnot\u001b[39;00m copy:\n\u001b[1;32m    308\u001b[0m     \u001b[38;5;28;01mreturn\u001b[39;00m \u001b[38;5;28mself\u001b[39m\n",
            "File \u001b[0;32m~/venv/lib/python3.11/site-packages/pandas/core/missing.py:334\u001b[0m, in \u001b[0;36minterpolate_2d_inplace\u001b[0;34m(data, index, axis, method, limit, limit_direction, limit_area, fill_value, **kwargs)\u001b[0m\n\u001b[1;32m    332\u001b[0m \u001b[38;5;28;01mif\u001b[39;00m method \u001b[38;5;241m==\u001b[39m \u001b[38;5;124m\"\u001b[39m\u001b[38;5;124mtime\u001b[39m\u001b[38;5;124m\"\u001b[39m:\n\u001b[1;32m    333\u001b[0m     \u001b[38;5;28;01mif\u001b[39;00m \u001b[38;5;129;01mnot\u001b[39;00m needs_i8_conversion(index\u001b[38;5;241m.\u001b[39mdtype):\n\u001b[0;32m--> 334\u001b[0m         \u001b[38;5;28;01mraise\u001b[39;00m \u001b[38;5;167;01mValueError\u001b[39;00m(\n\u001b[1;32m    335\u001b[0m             \u001b[38;5;124m\"\u001b[39m\u001b[38;5;124mtime-weighted interpolation only works \u001b[39m\u001b[38;5;124m\"\u001b[39m\n\u001b[1;32m    336\u001b[0m             \u001b[38;5;124m\"\u001b[39m\u001b[38;5;124mon Series or DataFrames with a \u001b[39m\u001b[38;5;124m\"\u001b[39m\n\u001b[1;32m    337\u001b[0m             \u001b[38;5;124m\"\u001b[39m\u001b[38;5;124mDatetimeIndex\u001b[39m\u001b[38;5;124m\"\u001b[39m\n\u001b[1;32m    338\u001b[0m         )\n\u001b[1;32m    339\u001b[0m     method \u001b[38;5;241m=\u001b[39m \u001b[38;5;124m\"\u001b[39m\u001b[38;5;124mvalues\u001b[39m\u001b[38;5;124m\"\u001b[39m\n\u001b[1;32m    341\u001b[0m limit_direction \u001b[38;5;241m=\u001b[39m validate_limit_direction(limit_direction)\n",
            "\u001b[0;31mValueError\u001b[0m: time-weighted interpolation only works on Series or DataFrames with a DatetimeIndex"
          ]
        }
      ],
      "outputs_reference": null,
      "execution_count": 24,
      "block_group": "8a037a8c38c4472e8afb8bbebe8a8cda",
      "content_dependencies": null
    },
    {
      "cell_type": "code",
      "source": "data3.plot(\n    y=['temp', 'humidity','precip','sealevelpressure','windspeed'], \n    x='datetime',\n    subplots=True, figsize=(10, 15))\nplt.show()",
      "metadata": {
        "source_hash": "2a6466b7",
        "execution_start": 1736074522659,
        "execution_millis": 587,
        "execution_context_id": "3efd7ac1-9a58-472f-bb85-5bf86841e6be",
        "cell_id": "b4ef32fd6bdb413a93c80be7332eafe1",
        "deepnote_cell_type": "code"
      },
      "outputs": [
        {
          "output_type": "error",
          "ename": "KeyError",
          "evalue": "'datetime'",
          "traceback": [
            "\u001b[0;31m---------------------------------------------------------------------------\u001b[0m",
            "\u001b[0;31mKeyError\u001b[0m                                  Traceback (most recent call last)",
            "File \u001b[0;32m~/venv/lib/python3.11/site-packages/pandas/core/indexes/base.py:3791\u001b[0m, in \u001b[0;36mIndex.get_loc\u001b[0;34m(self, key)\u001b[0m\n\u001b[1;32m   3790\u001b[0m \u001b[38;5;28;01mtry\u001b[39;00m:\n\u001b[0;32m-> 3791\u001b[0m     \u001b[38;5;28;01mreturn\u001b[39;00m \u001b[38;5;28;43mself\u001b[39;49m\u001b[38;5;241;43m.\u001b[39;49m\u001b[43m_engine\u001b[49m\u001b[38;5;241;43m.\u001b[39;49m\u001b[43mget_loc\u001b[49m\u001b[43m(\u001b[49m\u001b[43mcasted_key\u001b[49m\u001b[43m)\u001b[49m\n\u001b[1;32m   3792\u001b[0m \u001b[38;5;28;01mexcept\u001b[39;00m \u001b[38;5;167;01mKeyError\u001b[39;00m \u001b[38;5;28;01mas\u001b[39;00m err:\n",
            "File \u001b[0;32mindex.pyx:152\u001b[0m, in \u001b[0;36mpandas._libs.index.IndexEngine.get_loc\u001b[0;34m()\u001b[0m\n",
            "File \u001b[0;32mindex.pyx:181\u001b[0m, in \u001b[0;36mpandas._libs.index.IndexEngine.get_loc\u001b[0;34m()\u001b[0m\n",
            "File \u001b[0;32mpandas/_libs/hashtable_class_helper.pxi:7080\u001b[0m, in \u001b[0;36mpandas._libs.hashtable.PyObjectHashTable.get_item\u001b[0;34m()\u001b[0m\n",
            "File \u001b[0;32mpandas/_libs/hashtable_class_helper.pxi:7088\u001b[0m, in \u001b[0;36mpandas._libs.hashtable.PyObjectHashTable.get_item\u001b[0;34m()\u001b[0m\n",
            "\u001b[0;31mKeyError\u001b[0m: 'datetime'",
            "\nThe above exception was the direct cause of the following exception:\n",
            "\u001b[0;31mKeyError\u001b[0m                                  Traceback (most recent call last)",
            "Cell \u001b[0;32mIn[26], line 1\u001b[0m\n\u001b[0;32m----> 1\u001b[0m \u001b[43mdata3\u001b[49m\u001b[38;5;241;43m.\u001b[39;49m\u001b[43mplot\u001b[49m\u001b[43m(\u001b[49m\n\u001b[1;32m      2\u001b[0m \u001b[43m    \u001b[49m\u001b[43my\u001b[49m\u001b[38;5;241;43m=\u001b[39;49m\u001b[43m[\u001b[49m\u001b[38;5;124;43m'\u001b[39;49m\u001b[38;5;124;43mtemp\u001b[39;49m\u001b[38;5;124;43m'\u001b[39;49m\u001b[43m,\u001b[49m\u001b[43m \u001b[49m\u001b[38;5;124;43m'\u001b[39;49m\u001b[38;5;124;43mhumidity\u001b[39;49m\u001b[38;5;124;43m'\u001b[39;49m\u001b[43m,\u001b[49m\u001b[38;5;124;43m'\u001b[39;49m\u001b[38;5;124;43mprecip\u001b[39;49m\u001b[38;5;124;43m'\u001b[39;49m\u001b[43m,\u001b[49m\u001b[38;5;124;43m'\u001b[39;49m\u001b[38;5;124;43msealevelpressure\u001b[39;49m\u001b[38;5;124;43m'\u001b[39;49m\u001b[43m,\u001b[49m\u001b[38;5;124;43m'\u001b[39;49m\u001b[38;5;124;43mwindspeed\u001b[39;49m\u001b[38;5;124;43m'\u001b[39;49m\u001b[43m]\u001b[49m\u001b[43m,\u001b[49m\u001b[43m \u001b[49m\n\u001b[1;32m      3\u001b[0m \u001b[43m    \u001b[49m\u001b[43mx\u001b[49m\u001b[38;5;241;43m=\u001b[39;49m\u001b[38;5;124;43m'\u001b[39;49m\u001b[38;5;124;43mdatetime\u001b[39;49m\u001b[38;5;124;43m'\u001b[39;49m\u001b[43m,\u001b[49m\n\u001b[1;32m      4\u001b[0m \u001b[43m    \u001b[49m\u001b[43msubplots\u001b[49m\u001b[38;5;241;43m=\u001b[39;49m\u001b[38;5;28;43;01mTrue\u001b[39;49;00m\u001b[43m,\u001b[49m\u001b[43m \u001b[49m\u001b[43mfigsize\u001b[49m\u001b[38;5;241;43m=\u001b[39;49m\u001b[43m(\u001b[49m\u001b[38;5;241;43m10\u001b[39;49m\u001b[43m,\u001b[49m\u001b[43m \u001b[49m\u001b[38;5;241;43m15\u001b[39;49m\u001b[43m)\u001b[49m\u001b[43m)\u001b[49m\n\u001b[1;32m      5\u001b[0m plt\u001b[38;5;241m.\u001b[39mshow()\n",
            "File \u001b[0;32m~/venv/lib/python3.11/site-packages/pandas/plotting/_core.py:996\u001b[0m, in \u001b[0;36mPlotAccessor.__call__\u001b[0;34m(self, *args, **kwargs)\u001b[0m\n\u001b[1;32m    994\u001b[0m \u001b[38;5;28;01mif\u001b[39;00m is_integer(x) \u001b[38;5;129;01mand\u001b[39;00m \u001b[38;5;129;01mnot\u001b[39;00m data\u001b[38;5;241m.\u001b[39mcolumns\u001b[38;5;241m.\u001b[39m_holds_integer():\n\u001b[1;32m    995\u001b[0m     x \u001b[38;5;241m=\u001b[39m data_cols[x]\n\u001b[0;32m--> 996\u001b[0m \u001b[38;5;28;01melif\u001b[39;00m \u001b[38;5;129;01mnot\u001b[39;00m \u001b[38;5;28misinstance\u001b[39m(\u001b[43mdata\u001b[49m\u001b[43m[\u001b[49m\u001b[43mx\u001b[49m\u001b[43m]\u001b[49m, ABCSeries):\n\u001b[1;32m    997\u001b[0m     \u001b[38;5;28;01mraise\u001b[39;00m \u001b[38;5;167;01mValueError\u001b[39;00m(\u001b[38;5;124m\"\u001b[39m\u001b[38;5;124mx must be a label or position\u001b[39m\u001b[38;5;124m\"\u001b[39m)\n\u001b[1;32m    998\u001b[0m data \u001b[38;5;241m=\u001b[39m data\u001b[38;5;241m.\u001b[39mset_index(x)\n",
            "File \u001b[0;32m~/venv/lib/python3.11/site-packages/pandas/core/frame.py:3893\u001b[0m, in \u001b[0;36mDataFrame.__getitem__\u001b[0;34m(self, key)\u001b[0m\n\u001b[1;32m   3891\u001b[0m \u001b[38;5;28;01mif\u001b[39;00m \u001b[38;5;28mself\u001b[39m\u001b[38;5;241m.\u001b[39mcolumns\u001b[38;5;241m.\u001b[39mnlevels \u001b[38;5;241m>\u001b[39m \u001b[38;5;241m1\u001b[39m:\n\u001b[1;32m   3892\u001b[0m     \u001b[38;5;28;01mreturn\u001b[39;00m \u001b[38;5;28mself\u001b[39m\u001b[38;5;241m.\u001b[39m_getitem_multilevel(key)\n\u001b[0;32m-> 3893\u001b[0m indexer \u001b[38;5;241m=\u001b[39m \u001b[38;5;28;43mself\u001b[39;49m\u001b[38;5;241;43m.\u001b[39;49m\u001b[43mcolumns\u001b[49m\u001b[38;5;241;43m.\u001b[39;49m\u001b[43mget_loc\u001b[49m\u001b[43m(\u001b[49m\u001b[43mkey\u001b[49m\u001b[43m)\u001b[49m\n\u001b[1;32m   3894\u001b[0m \u001b[38;5;28;01mif\u001b[39;00m is_integer(indexer):\n\u001b[1;32m   3895\u001b[0m     indexer \u001b[38;5;241m=\u001b[39m [indexer]\n",
            "File \u001b[0;32m~/venv/lib/python3.11/site-packages/pandas/core/indexes/base.py:3798\u001b[0m, in \u001b[0;36mIndex.get_loc\u001b[0;34m(self, key)\u001b[0m\n\u001b[1;32m   3793\u001b[0m     \u001b[38;5;28;01mif\u001b[39;00m \u001b[38;5;28misinstance\u001b[39m(casted_key, \u001b[38;5;28mslice\u001b[39m) \u001b[38;5;129;01mor\u001b[39;00m (\n\u001b[1;32m   3794\u001b[0m         \u001b[38;5;28misinstance\u001b[39m(casted_key, abc\u001b[38;5;241m.\u001b[39mIterable)\n\u001b[1;32m   3795\u001b[0m         \u001b[38;5;129;01mand\u001b[39;00m \u001b[38;5;28many\u001b[39m(\u001b[38;5;28misinstance\u001b[39m(x, \u001b[38;5;28mslice\u001b[39m) \u001b[38;5;28;01mfor\u001b[39;00m x \u001b[38;5;129;01min\u001b[39;00m casted_key)\n\u001b[1;32m   3796\u001b[0m     ):\n\u001b[1;32m   3797\u001b[0m         \u001b[38;5;28;01mraise\u001b[39;00m InvalidIndexError(key)\n\u001b[0;32m-> 3798\u001b[0m     \u001b[38;5;28;01mraise\u001b[39;00m \u001b[38;5;167;01mKeyError\u001b[39;00m(key) \u001b[38;5;28;01mfrom\u001b[39;00m \u001b[38;5;21;01merr\u001b[39;00m\n\u001b[1;32m   3799\u001b[0m \u001b[38;5;28;01mexcept\u001b[39;00m \u001b[38;5;167;01mTypeError\u001b[39;00m:\n\u001b[1;32m   3800\u001b[0m     \u001b[38;5;66;03m# If we have a listlike key, _check_indexing_error will raise\u001b[39;00m\n\u001b[1;32m   3801\u001b[0m     \u001b[38;5;66;03m#  InvalidIndexError. Otherwise we fall through and re-raise\u001b[39;00m\n\u001b[1;32m   3802\u001b[0m     \u001b[38;5;66;03m#  the TypeError.\u001b[39;00m\n\u001b[1;32m   3803\u001b[0m     \u001b[38;5;28mself\u001b[39m\u001b[38;5;241m.\u001b[39m_check_indexing_error(key)\n",
            "\u001b[0;31mKeyError\u001b[0m: 'datetime'"
          ]
        }
      ],
      "outputs_reference": null,
      "execution_count": 26,
      "block_group": "d7471193855f488994c650ec4ed77b4e",
      "content_dependencies": null
    },
    {
      "cell_type": "code",
      "source": "# Membagi variabel independen dan target\nX = data3[[\n    'temp', \n    'tempmax',\n    'tempmin',\n    'humidity',\n    'sealevelpressure', \n    'windspeed',\n    'winddir'\n    ]]  # Variabel independen\ny = data3['precipprob']  # Target (Curah Hujan)",
      "metadata": {
        "source_hash": "96f9209a",
        "execution_start": 1736074248659,
        "execution_millis": 0,
        "execution_context_id": "3efd7ac1-9a58-472f-bb85-5bf86841e6be",
        "cell_id": "ab3264ceb5d54580953bf6a3f99b0fe5",
        "deepnote_cell_type": "code"
      },
      "outputs": [],
      "outputs_reference": null,
      "execution_count": 15,
      "block_group": "acbd73ef74ab4810a97d4114bd41f4d5",
      "content_dependencies": null
    },
    {
      "cell_type": "code",
      "source": "# Membagi data menjadi data latih dan data uji\nX_train, X_test, y_train, y_test = train_test_split(X, y, test_size=0.2, random_state=42)",
      "metadata": {
        "source_hash": "6eb66521",
        "execution_start": 1736074248711,
        "execution_millis": 0,
        "execution_context_id": "3efd7ac1-9a58-472f-bb85-5bf86841e6be",
        "cell_id": "14eb640e22f44825b64275e4ed4b9dc1",
        "deepnote_cell_type": "code"
      },
      "outputs": [],
      "outputs_reference": null,
      "execution_count": 16,
      "block_group": "49c800e38f3c41c68a37469ad0a78ef8",
      "content_dependencies": null
    },
    {
      "cell_type": "code",
      "source": "# Standarisasi data\nscaler = StandardScaler()\nX_train_scaled = scaler.fit_transform(X_train)\nX_test_scaled = scaler.transform(X_test)",
      "metadata": {
        "source_hash": "282a9610",
        "execution_start": 1736074248759,
        "execution_millis": 0,
        "execution_context_id": "3efd7ac1-9a58-472f-bb85-5bf86841e6be",
        "cell_id": "f2e5c4ecaae84c8780e771f0c7eaaf0e",
        "deepnote_cell_type": "code"
      },
      "outputs": [],
      "outputs_reference": null,
      "execution_count": 17,
      "block_group": "3ed37c2ce87e45229779d0925bda82ee",
      "content_dependencies": null
    },
    {
      "cell_type": "code",
      "source": "# Daftar model klasifikasi\nmodels = {\n    'Logistic Regression': LogisticRegression(max_iter=1000),\n    'Decision Tree': DecisionTreeClassifier(random_state=50),\n    'Random Forest': RandomForestClassifier(random_state=50),\n    'Gradient Boosting': GradientBoostingClassifier(random_state=50),\n    'Support Vector Classifier': SVC(),\n    'K-Nearest Neighbors': KNeighborsClassifier()\n}\n\n# Evaluasi semua model dan menyimpan hasil dalam bentuk tabel\nresults = []\nfor name, model in models.items():\n    # Melatih model\n    model.fit(X_train_scaled, y_train)\n    \n    # Prediksi\n    y_pred = model.predict(X_test_scaled)\n    \n    # Evaluasi\n    accuracy = accuracy_score(y_test, y_pred)\n    report = classification_report(y_test, y_pred, output_dict=True)\n    results.append({\n        'Model': name,\n        'Accuracy': accuracy,\n        'Precision (macro avg)': report['macro avg']['precision'],\n        'Recall (macro avg)': report['macro avg']['recall'],\n        'F1-Score (macro avg)': report['macro avg']['f1-score']\n    })\n\n# Menampilkan hasil dalam bentuk tabel\nresults_df = pd.DataFrame(results)\nprint(results_df)",
      "metadata": {
        "source_hash": "a74034b9",
        "execution_start": 1736074248807,
        "execution_millis": 571,
        "execution_context_id": "3efd7ac1-9a58-472f-bb85-5bf86841e6be",
        "cell_id": "04360c3fa4594d3dab3bc101f4e5d869",
        "deepnote_cell_type": "code"
      },
      "outputs": [
        {
          "output_type": "error",
          "ename": "ValueError",
          "evalue": "Input X contains NaN.\nLogisticRegression does not accept missing values encoded as NaN natively. For supervised learning, you might want to consider sklearn.ensemble.HistGradientBoostingClassifier and Regressor which accept missing values encoded as NaNs natively. Alternatively, it is possible to preprocess the data, for instance by using an imputer transformer in a pipeline or drop samples with missing values. See https://scikit-learn.org/stable/modules/impute.html You can find a list of all estimators that handle NaN values at the following page: https://scikit-learn.org/stable/modules/impute.html#estimators-that-handle-nan-values",
          "traceback": [
            "\u001b[0;31m---------------------------------------------------------------------------\u001b[0m",
            "\u001b[0;31mValueError\u001b[0m                                Traceback (most recent call last)",
            "Cell \u001b[0;32mIn[18], line 15\u001b[0m\n\u001b[1;32m     12\u001b[0m results \u001b[38;5;241m=\u001b[39m []\n\u001b[1;32m     13\u001b[0m \u001b[38;5;28;01mfor\u001b[39;00m name, model \u001b[38;5;129;01min\u001b[39;00m models\u001b[38;5;241m.\u001b[39mitems():\n\u001b[1;32m     14\u001b[0m     \u001b[38;5;66;03m# Melatih model\u001b[39;00m\n\u001b[0;32m---> 15\u001b[0m     \u001b[43mmodel\u001b[49m\u001b[38;5;241;43m.\u001b[39;49m\u001b[43mfit\u001b[49m\u001b[43m(\u001b[49m\u001b[43mX_train_scaled\u001b[49m\u001b[43m,\u001b[49m\u001b[43m \u001b[49m\u001b[43my_train\u001b[49m\u001b[43m)\u001b[49m\n\u001b[1;32m     17\u001b[0m     \u001b[38;5;66;03m# Prediksi\u001b[39;00m\n\u001b[1;32m     18\u001b[0m     y_pred \u001b[38;5;241m=\u001b[39m model\u001b[38;5;241m.\u001b[39mpredict(X_test_scaled)\n",
            "File \u001b[0;32m~/venv/lib/python3.11/site-packages/sklearn/base.py:1152\u001b[0m, in \u001b[0;36m_fit_context.<locals>.decorator.<locals>.wrapper\u001b[0;34m(estimator, *args, **kwargs)\u001b[0m\n\u001b[1;32m   1145\u001b[0m     estimator\u001b[38;5;241m.\u001b[39m_validate_params()\n\u001b[1;32m   1147\u001b[0m \u001b[38;5;28;01mwith\u001b[39;00m config_context(\n\u001b[1;32m   1148\u001b[0m     skip_parameter_validation\u001b[38;5;241m=\u001b[39m(\n\u001b[1;32m   1149\u001b[0m         prefer_skip_nested_validation \u001b[38;5;129;01mor\u001b[39;00m global_skip_validation\n\u001b[1;32m   1150\u001b[0m     )\n\u001b[1;32m   1151\u001b[0m ):\n\u001b[0;32m-> 1152\u001b[0m     \u001b[38;5;28;01mreturn\u001b[39;00m \u001b[43mfit_method\u001b[49m\u001b[43m(\u001b[49m\u001b[43mestimator\u001b[49m\u001b[43m,\u001b[49m\u001b[43m \u001b[49m\u001b[38;5;241;43m*\u001b[39;49m\u001b[43margs\u001b[49m\u001b[43m,\u001b[49m\u001b[43m \u001b[49m\u001b[38;5;241;43m*\u001b[39;49m\u001b[38;5;241;43m*\u001b[39;49m\u001b[43mkwargs\u001b[49m\u001b[43m)\u001b[49m\n",
            "File \u001b[0;32m~/venv/lib/python3.11/site-packages/sklearn/linear_model/_logistic.py:1208\u001b[0m, in \u001b[0;36mLogisticRegression.fit\u001b[0;34m(self, X, y, sample_weight)\u001b[0m\n\u001b[1;32m   1205\u001b[0m \u001b[38;5;28;01melse\u001b[39;00m:\n\u001b[1;32m   1206\u001b[0m     _dtype \u001b[38;5;241m=\u001b[39m [np\u001b[38;5;241m.\u001b[39mfloat64, np\u001b[38;5;241m.\u001b[39mfloat32]\n\u001b[0;32m-> 1208\u001b[0m X, y \u001b[38;5;241m=\u001b[39m \u001b[38;5;28;43mself\u001b[39;49m\u001b[38;5;241;43m.\u001b[39;49m\u001b[43m_validate_data\u001b[49m\u001b[43m(\u001b[49m\n\u001b[1;32m   1209\u001b[0m \u001b[43m    \u001b[49m\u001b[43mX\u001b[49m\u001b[43m,\u001b[49m\n\u001b[1;32m   1210\u001b[0m \u001b[43m    \u001b[49m\u001b[43my\u001b[49m\u001b[43m,\u001b[49m\n\u001b[1;32m   1211\u001b[0m \u001b[43m    \u001b[49m\u001b[43maccept_sparse\u001b[49m\u001b[38;5;241;43m=\u001b[39;49m\u001b[38;5;124;43m\"\u001b[39;49m\u001b[38;5;124;43mcsr\u001b[39;49m\u001b[38;5;124;43m\"\u001b[39;49m\u001b[43m,\u001b[49m\n\u001b[1;32m   1212\u001b[0m \u001b[43m    \u001b[49m\u001b[43mdtype\u001b[49m\u001b[38;5;241;43m=\u001b[39;49m\u001b[43m_dtype\u001b[49m\u001b[43m,\u001b[49m\n\u001b[1;32m   1213\u001b[0m \u001b[43m    \u001b[49m\u001b[43morder\u001b[49m\u001b[38;5;241;43m=\u001b[39;49m\u001b[38;5;124;43m\"\u001b[39;49m\u001b[38;5;124;43mC\u001b[39;49m\u001b[38;5;124;43m\"\u001b[39;49m\u001b[43m,\u001b[49m\n\u001b[1;32m   1214\u001b[0m \u001b[43m    \u001b[49m\u001b[43maccept_large_sparse\u001b[49m\u001b[38;5;241;43m=\u001b[39;49m\u001b[43msolver\u001b[49m\u001b[43m \u001b[49m\u001b[38;5;129;43;01mnot\u001b[39;49;00m\u001b[43m \u001b[49m\u001b[38;5;129;43;01min\u001b[39;49;00m\u001b[43m \u001b[49m\u001b[43m[\u001b[49m\u001b[38;5;124;43m\"\u001b[39;49m\u001b[38;5;124;43mliblinear\u001b[39;49m\u001b[38;5;124;43m\"\u001b[39;49m\u001b[43m,\u001b[49m\u001b[43m \u001b[49m\u001b[38;5;124;43m\"\u001b[39;49m\u001b[38;5;124;43msag\u001b[39;49m\u001b[38;5;124;43m\"\u001b[39;49m\u001b[43m,\u001b[49m\u001b[43m \u001b[49m\u001b[38;5;124;43m\"\u001b[39;49m\u001b[38;5;124;43msaga\u001b[39;49m\u001b[38;5;124;43m\"\u001b[39;49m\u001b[43m]\u001b[49m\u001b[43m,\u001b[49m\n\u001b[1;32m   1215\u001b[0m \u001b[43m\u001b[49m\u001b[43m)\u001b[49m\n\u001b[1;32m   1216\u001b[0m check_classification_targets(y)\n\u001b[1;32m   1217\u001b[0m \u001b[38;5;28mself\u001b[39m\u001b[38;5;241m.\u001b[39mclasses_ \u001b[38;5;241m=\u001b[39m np\u001b[38;5;241m.\u001b[39munique(y)\n",
            "File \u001b[0;32m~/venv/lib/python3.11/site-packages/sklearn/base.py:622\u001b[0m, in \u001b[0;36mBaseEstimator._validate_data\u001b[0;34m(self, X, y, reset, validate_separately, cast_to_ndarray, **check_params)\u001b[0m\n\u001b[1;32m    620\u001b[0m         y \u001b[38;5;241m=\u001b[39m check_array(y, input_name\u001b[38;5;241m=\u001b[39m\u001b[38;5;124m\"\u001b[39m\u001b[38;5;124my\u001b[39m\u001b[38;5;124m\"\u001b[39m, \u001b[38;5;241m*\u001b[39m\u001b[38;5;241m*\u001b[39mcheck_y_params)\n\u001b[1;32m    621\u001b[0m     \u001b[38;5;28;01melse\u001b[39;00m:\n\u001b[0;32m--> 622\u001b[0m         X, y \u001b[38;5;241m=\u001b[39m \u001b[43mcheck_X_y\u001b[49m\u001b[43m(\u001b[49m\u001b[43mX\u001b[49m\u001b[43m,\u001b[49m\u001b[43m \u001b[49m\u001b[43my\u001b[49m\u001b[43m,\u001b[49m\u001b[43m \u001b[49m\u001b[38;5;241;43m*\u001b[39;49m\u001b[38;5;241;43m*\u001b[39;49m\u001b[43mcheck_params\u001b[49m\u001b[43m)\u001b[49m\n\u001b[1;32m    623\u001b[0m     out \u001b[38;5;241m=\u001b[39m X, y\n\u001b[1;32m    625\u001b[0m \u001b[38;5;28;01mif\u001b[39;00m \u001b[38;5;129;01mnot\u001b[39;00m no_val_X \u001b[38;5;129;01mand\u001b[39;00m check_params\u001b[38;5;241m.\u001b[39mget(\u001b[38;5;124m\"\u001b[39m\u001b[38;5;124mensure_2d\u001b[39m\u001b[38;5;124m\"\u001b[39m, \u001b[38;5;28;01mTrue\u001b[39;00m):\n",
            "File \u001b[0;32m~/venv/lib/python3.11/site-packages/sklearn/utils/validation.py:1146\u001b[0m, in \u001b[0;36mcheck_X_y\u001b[0;34m(X, y, accept_sparse, accept_large_sparse, dtype, order, copy, force_all_finite, ensure_2d, allow_nd, multi_output, ensure_min_samples, ensure_min_features, y_numeric, estimator)\u001b[0m\n\u001b[1;32m   1141\u001b[0m         estimator_name \u001b[38;5;241m=\u001b[39m _check_estimator_name(estimator)\n\u001b[1;32m   1142\u001b[0m     \u001b[38;5;28;01mraise\u001b[39;00m \u001b[38;5;167;01mValueError\u001b[39;00m(\n\u001b[1;32m   1143\u001b[0m         \u001b[38;5;124mf\u001b[39m\u001b[38;5;124m\"\u001b[39m\u001b[38;5;132;01m{\u001b[39;00mestimator_name\u001b[38;5;132;01m}\u001b[39;00m\u001b[38;5;124m requires y to be passed, but the target y is None\u001b[39m\u001b[38;5;124m\"\u001b[39m\n\u001b[1;32m   1144\u001b[0m     )\n\u001b[0;32m-> 1146\u001b[0m X \u001b[38;5;241m=\u001b[39m \u001b[43mcheck_array\u001b[49m\u001b[43m(\u001b[49m\n\u001b[1;32m   1147\u001b[0m \u001b[43m    \u001b[49m\u001b[43mX\u001b[49m\u001b[43m,\u001b[49m\n\u001b[1;32m   1148\u001b[0m \u001b[43m    \u001b[49m\u001b[43maccept_sparse\u001b[49m\u001b[38;5;241;43m=\u001b[39;49m\u001b[43maccept_sparse\u001b[49m\u001b[43m,\u001b[49m\n\u001b[1;32m   1149\u001b[0m \u001b[43m    \u001b[49m\u001b[43maccept_large_sparse\u001b[49m\u001b[38;5;241;43m=\u001b[39;49m\u001b[43maccept_large_sparse\u001b[49m\u001b[43m,\u001b[49m\n\u001b[1;32m   1150\u001b[0m \u001b[43m    \u001b[49m\u001b[43mdtype\u001b[49m\u001b[38;5;241;43m=\u001b[39;49m\u001b[43mdtype\u001b[49m\u001b[43m,\u001b[49m\n\u001b[1;32m   1151\u001b[0m \u001b[43m    \u001b[49m\u001b[43morder\u001b[49m\u001b[38;5;241;43m=\u001b[39;49m\u001b[43morder\u001b[49m\u001b[43m,\u001b[49m\n\u001b[1;32m   1152\u001b[0m \u001b[43m    \u001b[49m\u001b[43mcopy\u001b[49m\u001b[38;5;241;43m=\u001b[39;49m\u001b[43mcopy\u001b[49m\u001b[43m,\u001b[49m\n\u001b[1;32m   1153\u001b[0m \u001b[43m    \u001b[49m\u001b[43mforce_all_finite\u001b[49m\u001b[38;5;241;43m=\u001b[39;49m\u001b[43mforce_all_finite\u001b[49m\u001b[43m,\u001b[49m\n\u001b[1;32m   1154\u001b[0m \u001b[43m    \u001b[49m\u001b[43mensure_2d\u001b[49m\u001b[38;5;241;43m=\u001b[39;49m\u001b[43mensure_2d\u001b[49m\u001b[43m,\u001b[49m\n\u001b[1;32m   1155\u001b[0m \u001b[43m    \u001b[49m\u001b[43mallow_nd\u001b[49m\u001b[38;5;241;43m=\u001b[39;49m\u001b[43mallow_nd\u001b[49m\u001b[43m,\u001b[49m\n\u001b[1;32m   1156\u001b[0m \u001b[43m    \u001b[49m\u001b[43mensure_min_samples\u001b[49m\u001b[38;5;241;43m=\u001b[39;49m\u001b[43mensure_min_samples\u001b[49m\u001b[43m,\u001b[49m\n\u001b[1;32m   1157\u001b[0m \u001b[43m    \u001b[49m\u001b[43mensure_min_features\u001b[49m\u001b[38;5;241;43m=\u001b[39;49m\u001b[43mensure_min_features\u001b[49m\u001b[43m,\u001b[49m\n\u001b[1;32m   1158\u001b[0m \u001b[43m    \u001b[49m\u001b[43mestimator\u001b[49m\u001b[38;5;241;43m=\u001b[39;49m\u001b[43mestimator\u001b[49m\u001b[43m,\u001b[49m\n\u001b[1;32m   1159\u001b[0m \u001b[43m    \u001b[49m\u001b[43minput_name\u001b[49m\u001b[38;5;241;43m=\u001b[39;49m\u001b[38;5;124;43m\"\u001b[39;49m\u001b[38;5;124;43mX\u001b[39;49m\u001b[38;5;124;43m\"\u001b[39;49m\u001b[43m,\u001b[49m\n\u001b[1;32m   1160\u001b[0m \u001b[43m\u001b[49m\u001b[43m)\u001b[49m\n\u001b[1;32m   1162\u001b[0m y \u001b[38;5;241m=\u001b[39m _check_y(y, multi_output\u001b[38;5;241m=\u001b[39mmulti_output, y_numeric\u001b[38;5;241m=\u001b[39my_numeric, estimator\u001b[38;5;241m=\u001b[39mestimator)\n\u001b[1;32m   1164\u001b[0m check_consistent_length(X, y)\n",
            "File \u001b[0;32m~/venv/lib/python3.11/site-packages/sklearn/utils/validation.py:957\u001b[0m, in \u001b[0;36mcheck_array\u001b[0;34m(array, accept_sparse, accept_large_sparse, dtype, order, copy, force_all_finite, ensure_2d, allow_nd, ensure_min_samples, ensure_min_features, estimator, input_name)\u001b[0m\n\u001b[1;32m    951\u001b[0m         \u001b[38;5;28;01mraise\u001b[39;00m \u001b[38;5;167;01mValueError\u001b[39;00m(\n\u001b[1;32m    952\u001b[0m             \u001b[38;5;124m\"\u001b[39m\u001b[38;5;124mFound array with dim \u001b[39m\u001b[38;5;132;01m%d\u001b[39;00m\u001b[38;5;124m. \u001b[39m\u001b[38;5;132;01m%s\u001b[39;00m\u001b[38;5;124m expected <= 2.\u001b[39m\u001b[38;5;124m\"\u001b[39m\n\u001b[1;32m    953\u001b[0m             \u001b[38;5;241m%\u001b[39m (array\u001b[38;5;241m.\u001b[39mndim, estimator_name)\n\u001b[1;32m    954\u001b[0m         )\n\u001b[1;32m    956\u001b[0m     \u001b[38;5;28;01mif\u001b[39;00m force_all_finite:\n\u001b[0;32m--> 957\u001b[0m         \u001b[43m_assert_all_finite\u001b[49m\u001b[43m(\u001b[49m\n\u001b[1;32m    958\u001b[0m \u001b[43m            \u001b[49m\u001b[43marray\u001b[49m\u001b[43m,\u001b[49m\n\u001b[1;32m    959\u001b[0m \u001b[43m            \u001b[49m\u001b[43minput_name\u001b[49m\u001b[38;5;241;43m=\u001b[39;49m\u001b[43minput_name\u001b[49m\u001b[43m,\u001b[49m\n\u001b[1;32m    960\u001b[0m \u001b[43m            \u001b[49m\u001b[43mestimator_name\u001b[49m\u001b[38;5;241;43m=\u001b[39;49m\u001b[43mestimator_name\u001b[49m\u001b[43m,\u001b[49m\n\u001b[1;32m    961\u001b[0m \u001b[43m            \u001b[49m\u001b[43mallow_nan\u001b[49m\u001b[38;5;241;43m=\u001b[39;49m\u001b[43mforce_all_finite\u001b[49m\u001b[43m \u001b[49m\u001b[38;5;241;43m==\u001b[39;49m\u001b[43m \u001b[49m\u001b[38;5;124;43m\"\u001b[39;49m\u001b[38;5;124;43mallow-nan\u001b[39;49m\u001b[38;5;124;43m\"\u001b[39;49m\u001b[43m,\u001b[49m\n\u001b[1;32m    962\u001b[0m \u001b[43m        \u001b[49m\u001b[43m)\u001b[49m\n\u001b[1;32m    964\u001b[0m \u001b[38;5;28;01mif\u001b[39;00m ensure_min_samples \u001b[38;5;241m>\u001b[39m \u001b[38;5;241m0\u001b[39m:\n\u001b[1;32m    965\u001b[0m     n_samples \u001b[38;5;241m=\u001b[39m _num_samples(array)\n",
            "File \u001b[0;32m~/venv/lib/python3.11/site-packages/sklearn/utils/validation.py:122\u001b[0m, in \u001b[0;36m_assert_all_finite\u001b[0;34m(X, allow_nan, msg_dtype, estimator_name, input_name)\u001b[0m\n\u001b[1;32m    119\u001b[0m \u001b[38;5;28;01mif\u001b[39;00m first_pass_isfinite:\n\u001b[1;32m    120\u001b[0m     \u001b[38;5;28;01mreturn\u001b[39;00m\n\u001b[0;32m--> 122\u001b[0m \u001b[43m_assert_all_finite_element_wise\u001b[49m\u001b[43m(\u001b[49m\n\u001b[1;32m    123\u001b[0m \u001b[43m    \u001b[49m\u001b[43mX\u001b[49m\u001b[43m,\u001b[49m\n\u001b[1;32m    124\u001b[0m \u001b[43m    \u001b[49m\u001b[43mxp\u001b[49m\u001b[38;5;241;43m=\u001b[39;49m\u001b[43mxp\u001b[49m\u001b[43m,\u001b[49m\n\u001b[1;32m    125\u001b[0m \u001b[43m    \u001b[49m\u001b[43mallow_nan\u001b[49m\u001b[38;5;241;43m=\u001b[39;49m\u001b[43mallow_nan\u001b[49m\u001b[43m,\u001b[49m\n\u001b[1;32m    126\u001b[0m \u001b[43m    \u001b[49m\u001b[43mmsg_dtype\u001b[49m\u001b[38;5;241;43m=\u001b[39;49m\u001b[43mmsg_dtype\u001b[49m\u001b[43m,\u001b[49m\n\u001b[1;32m    127\u001b[0m \u001b[43m    \u001b[49m\u001b[43mestimator_name\u001b[49m\u001b[38;5;241;43m=\u001b[39;49m\u001b[43mestimator_name\u001b[49m\u001b[43m,\u001b[49m\n\u001b[1;32m    128\u001b[0m \u001b[43m    \u001b[49m\u001b[43minput_name\u001b[49m\u001b[38;5;241;43m=\u001b[39;49m\u001b[43minput_name\u001b[49m\u001b[43m,\u001b[49m\n\u001b[1;32m    129\u001b[0m \u001b[43m\u001b[49m\u001b[43m)\u001b[49m\n",
            "File \u001b[0;32m~/venv/lib/python3.11/site-packages/sklearn/utils/validation.py:171\u001b[0m, in \u001b[0;36m_assert_all_finite_element_wise\u001b[0;34m(X, xp, allow_nan, msg_dtype, estimator_name, input_name)\u001b[0m\n\u001b[1;32m    154\u001b[0m \u001b[38;5;28;01mif\u001b[39;00m estimator_name \u001b[38;5;129;01mand\u001b[39;00m input_name \u001b[38;5;241m==\u001b[39m \u001b[38;5;124m\"\u001b[39m\u001b[38;5;124mX\u001b[39m\u001b[38;5;124m\"\u001b[39m \u001b[38;5;129;01mand\u001b[39;00m has_nan_error:\n\u001b[1;32m    155\u001b[0m     \u001b[38;5;66;03m# Improve the error message on how to handle missing values in\u001b[39;00m\n\u001b[1;32m    156\u001b[0m     \u001b[38;5;66;03m# scikit-learn.\u001b[39;00m\n\u001b[1;32m    157\u001b[0m     msg_err \u001b[38;5;241m+\u001b[39m\u001b[38;5;241m=\u001b[39m (\n\u001b[1;32m    158\u001b[0m         \u001b[38;5;124mf\u001b[39m\u001b[38;5;124m\"\u001b[39m\u001b[38;5;130;01m\\n\u001b[39;00m\u001b[38;5;132;01m{\u001b[39;00mestimator_name\u001b[38;5;132;01m}\u001b[39;00m\u001b[38;5;124m does not accept missing values\u001b[39m\u001b[38;5;124m\"\u001b[39m\n\u001b[1;32m    159\u001b[0m         \u001b[38;5;124m\"\u001b[39m\u001b[38;5;124m encoded as NaN natively. For supervised learning, you might want\u001b[39m\u001b[38;5;124m\"\u001b[39m\n\u001b[0;32m   (...)\u001b[0m\n\u001b[1;32m    169\u001b[0m         \u001b[38;5;124m\"\u001b[39m\u001b[38;5;124m#estimators-that-handle-nan-values\u001b[39m\u001b[38;5;124m\"\u001b[39m\n\u001b[1;32m    170\u001b[0m     )\n\u001b[0;32m--> 171\u001b[0m \u001b[38;5;28;01mraise\u001b[39;00m \u001b[38;5;167;01mValueError\u001b[39;00m(msg_err)\n",
            "\u001b[0;31mValueError\u001b[0m: Input X contains NaN.\nLogisticRegression does not accept missing values encoded as NaN natively. For supervised learning, you might want to consider sklearn.ensemble.HistGradientBoostingClassifier and Regressor which accept missing values encoded as NaNs natively. Alternatively, it is possible to preprocess the data, for instance by using an imputer transformer in a pipeline or drop samples with missing values. See https://scikit-learn.org/stable/modules/impute.html You can find a list of all estimators that handle NaN values at the following page: https://scikit-learn.org/stable/modules/impute.html#estimators-that-handle-nan-values"
          ]
        }
      ],
      "outputs_reference": null,
      "execution_count": 18,
      "block_group": "d0323bb52c2d4ce5bd6e3e2cdd7df18c",
      "content_dependencies": null
    },
    {
      "cell_type": "markdown",
      "source": "<a style='text-decoration:none;line-height:16px;display:flex;color:#5B5B62;padding:10px;justify-content:end;' href='https://deepnote.com?utm_source=created-in-deepnote-cell&projectId=200afad5-8991-4e20-8a55-8751c7aff3b5' target=\"_blank\">\n<img alt='Created in deepnote.com' style='display:inline;max-height:16px;margin:0px;margin-right:7.5px;' src='data:image/svg+xml;base64,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' > </img>\nCreated in <span style='font-weight:600;margin-left:4px;'>Deepnote</span></a>",
      "metadata": {
        "created_in_deepnote_cell": true,
        "deepnote_cell_type": "markdown"
      }
    }
  ],
  "nbformat": 4,
  "nbformat_minor": 0,
  "metadata": {
    "deepnote_notebook_id": "4555e642627e4fdd877f8a6ec8ee0aff"
  }
}