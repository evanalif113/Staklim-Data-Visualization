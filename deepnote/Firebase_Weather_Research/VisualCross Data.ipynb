{
  "cells": [
    {
      "cell_type": "code",
      "source": "import pandas as pd\nimport numpy as np\nimport matplotlib.pyplot as plt\nimport seaborn as sns\nfrom sklearn.model_selection import train_test_split\nfrom sklearn.preprocessing import StandardScaler\nfrom sklearn.linear_model import LogisticRegression\nfrom sklearn.tree import DecisionTreeClassifier\nfrom sklearn.ensemble import RandomForestClassifier, GradientBoostingClassifier\nfrom sklearn.svm import SVC\nfrom sklearn.neighbors import KNeighborsClassifier\nfrom sklearn.metrics import accuracy_score, classification_report",
      "metadata": {
        "source_hash": "32cd6d12",
        "execution_start": 1736072608139,
        "execution_millis": 1186,
        "execution_context_id": "b89841ec-5496-487c-91f1-5166d5407ab7",
        "cell_id": "1e5d37541c744c559f0b4231d102526c",
        "deepnote_cell_type": "code"
      },
      "outputs": [],
      "outputs_reference": null,
      "execution_count": 1,
      "block_group": "1e5d37541c744c559f0b4231d102526c",
      "content_dependencies": null
    },
    {
      "cell_type": "code",
      "source": "data1 = pd.read_csv('/work/Daily_Cuaca_Kebumen.csv')",
      "metadata": {
        "source_hash": "fafb6b96",
        "execution_start": 1736072609376,
        "execution_millis": 122,
        "execution_context_id": "b89841ec-5496-487c-91f1-5166d5407ab7",
        "cell_id": "1a5c7893d4ef479c833e9473d557b5a5",
        "deepnote_cell_type": "code"
      },
      "outputs": [
        {
          "name": "stderr",
          "text": "/tmp/ipykernel_3336/1856311698.py:1: DtypeWarning: Columns (26,27) have mixed types. Specify dtype option on import or set low_memory=False.\n  data1 = pd.read_csv('/work/Daily_Cuaca_Kebumen.csv')\n",
          "output_type": "stream"
        }
      ],
      "outputs_reference": null,
      "execution_count": 2,
      "block_group": "9d2b24487de14942bba9be3f87009800",
      "content_dependencies": null
    },
    {
      "cell_type": "code",
      "source": "data2 = pd.read_csv('/work/Kebumen 2023-01-01 to 2024-12-31.csv')",
      "metadata": {
        "source_hash": "3ca8a117",
        "execution_start": 1736072609547,
        "execution_millis": 58,
        "execution_context_id": "b89841ec-5496-487c-91f1-5166d5407ab7",
        "cell_id": "b23c0147de79444bb08b5ab0dcfa1c4e",
        "deepnote_cell_type": "code"
      },
      "outputs": [],
      "outputs_reference": null,
      "execution_count": 3,
      "block_group": "07fbcbe8b90a45bd8b95c1eef3147ddc",
      "content_dependencies": null
    },
    {
      "cell_type": "code",
      "source": "data1.tail(10)",
      "metadata": {
        "source_hash": "59a88c",
        "execution_start": 1736072609664,
        "execution_millis": 2,
        "execution_context_id": "b89841ec-5496-487c-91f1-5166d5407ab7",
        "cell_id": "e674e6d92e594856b06c75c2a117ed50",
        "deepnote_cell_type": "code"
      },
      "outputs": [
        {
          "output_type": "execute_result",
          "execution_count": 4,
          "data": {
            "application/vnd.deepnote.dataframe.v3+json": {
              "column_count": 33,
              "row_count": 10,
              "columns": [
                {
                  "name": "name",
                  "dtype": "object",
                  "stats": {
                    "unique_count": 1,
                    "nan_count": 0,
                    "categories": [
                      {
                        "name": "Kebumen, Indonesia",
                        "count": 10
                      }
                    ]
                  }
                },
                {
                  "name": "datetime",
                  "dtype": "object",
                  "stats": {
                    "unique_count": 10,
                    "nan_count": 0,
                    "categories": [
                      {
                        "name": "2022-12-22",
                        "count": 1
                      },
                      {
                        "name": "2022-12-23",
                        "count": 1
                      },
                      {
                        "name": "8 others",
                        "count": 8
                      }
                    ]
                  }
                },
                {
                  "name": "tempmax",
                  "dtype": "float64",
                  "stats": {
                    "unique_count": 9,
                    "nan_count": 0,
                    "min": "28.7",
                    "max": "32.1",
                    "histogram": [
                      {
                        "bin_start": 28.7,
                        "bin_end": 29.04,
                        "count": 2
                      },
                      {
                        "bin_start": 29.04,
                        "bin_end": 29.38,
                        "count": 0
                      },
                      {
                        "bin_start": 29.38,
                        "bin_end": 29.72,
                        "count": 1
                      },
                      {
                        "bin_start": 29.72,
                        "bin_end": 30.06,
                        "count": 0
                      },
                      {
                        "bin_start": 30.06,
                        "bin_end": 30.4,
                        "count": 2
                      },
                      {
                        "bin_start": 30.4,
                        "bin_end": 30.740000000000002,
                        "count": 0
                      },
                      {
                        "bin_start": 30.740000000000002,
                        "bin_end": 31.080000000000002,
                        "count": 1
                      },
                      {
                        "bin_start": 31.080000000000002,
                        "bin_end": 31.42,
                        "count": 1
                      },
                      {
                        "bin_start": 31.42,
                        "bin_end": 31.76,
                        "count": 1
                      },
                      {
                        "bin_start": 31.76,
                        "bin_end": 32.1,
                        "count": 2
                      }
                    ]
                  }
                },
                {
                  "name": "tempmin",
                  "dtype": "float64",
                  "stats": {
                    "unique_count": 9,
                    "nan_count": 0,
                    "min": "23.4",
                    "max": "25.1",
                    "histogram": [
                      {
                        "bin_start": 23.4,
                        "bin_end": 23.57,
                        "count": 1
                      },
                      {
                        "bin_start": 23.57,
                        "bin_end": 23.74,
                        "count": 1
                      },
                      {
                        "bin_start": 23.74,
                        "bin_end": 23.91,
                        "count": 2
                      },
                      {
                        "bin_start": 23.91,
                        "bin_end": 24.08,
                        "count": 1
                      },
                      {
                        "bin_start": 24.08,
                        "bin_end": 24.25,
                        "count": 3
                      },
                      {
                        "bin_start": 24.25,
                        "bin_end": 24.42,
                        "count": 0
                      },
                      {
                        "bin_start": 24.42,
                        "bin_end": 24.59,
                        "count": 1
                      },
                      {
                        "bin_start": 24.59,
                        "bin_end": 24.76,
                        "count": 0
                      },
                      {
                        "bin_start": 24.76,
                        "bin_end": 24.93,
                        "count": 0
                      },
                      {
                        "bin_start": 24.93,
                        "bin_end": 25.1,
                        "count": 1
                      }
                    ]
                  }
                },
                {
                  "name": "temp",
                  "dtype": "float64",
                  "stats": {
                    "unique_count": 7,
                    "nan_count": 0,
                    "min": "25.9",
                    "max": "26.9",
                    "histogram": [
                      {
                        "bin_start": 25.9,
                        "bin_end": 26,
                        "count": 2
                      },
                      {
                        "bin_start": 26,
                        "bin_end": 26.099999999999998,
                        "count": 2
                      },
                      {
                        "bin_start": 26.099999999999998,
                        "bin_end": 26.2,
                        "count": 0
                      },
                      {
                        "bin_start": 26.2,
                        "bin_end": 26.299999999999997,
                        "count": 1
                      },
                      {
                        "bin_start": 26.299999999999997,
                        "bin_end": 26.4,
                        "count": 0
                      },
                      {
                        "bin_start": 26.4,
                        "bin_end": 26.5,
                        "count": 0
                      },
                      {
                        "bin_start": 26.5,
                        "bin_end": 26.599999999999998,
                        "count": 1
                      },
                      {
                        "bin_start": 26.599999999999998,
                        "bin_end": 26.7,
                        "count": 1
                      },
                      {
                        "bin_start": 26.7,
                        "bin_end": 26.799999999999997,
                        "count": 0
                      },
                      {
                        "bin_start": 26.799999999999997,
                        "bin_end": 26.9,
                        "count": 3
                      }
                    ]
                  }
                },
                {
                  "name": "feelslikemax",
                  "dtype": "float64",
                  "stats": {
                    "unique_count": 8,
                    "nan_count": 0,
                    "min": "33.5",
                    "max": "39.3",
                    "histogram": [
                      {
                        "bin_start": 33.5,
                        "bin_end": 34.08,
                        "count": 2
                      },
                      {
                        "bin_start": 34.08,
                        "bin_end": 34.66,
                        "count": 0
                      },
                      {
                        "bin_start": 34.66,
                        "bin_end": 35.24,
                        "count": 1
                      },
                      {
                        "bin_start": 35.24,
                        "bin_end": 35.82,
                        "count": 1
                      },
                      {
                        "bin_start": 35.82,
                        "bin_end": 36.4,
                        "count": 3
                      },
                      {
                        "bin_start": 36.4,
                        "bin_end": 36.98,
                        "count": 0
                      },
                      {
                        "bin_start": 36.98,
                        "bin_end": 37.559999999999995,
                        "count": 0
                      },
                      {
                        "bin_start": 37.559999999999995,
                        "bin_end": 38.14,
                        "count": 0
                      },
                      {
                        "bin_start": 38.14,
                        "bin_end": 38.72,
                        "count": 2
                      },
                      {
                        "bin_start": 38.72,
                        "bin_end": 39.3,
                        "count": 1
                      }
                    ]
                  }
                },
                {
                  "name": "feelslikemin",
                  "dtype": "float64",
                  "stats": {
                    "unique_count": 9,
                    "nan_count": 0,
                    "min": "23.4",
                    "max": "25.1",
                    "histogram": [
                      {
                        "bin_start": 23.4,
                        "bin_end": 23.57,
                        "count": 1
                      },
                      {
                        "bin_start": 23.57,
                        "bin_end": 23.74,
                        "count": 1
                      },
                      {
                        "bin_start": 23.74,
                        "bin_end": 23.91,
                        "count": 2
                      },
                      {
                        "bin_start": 23.91,
                        "bin_end": 24.08,
                        "count": 1
                      },
                      {
                        "bin_start": 24.08,
                        "bin_end": 24.25,
                        "count": 3
                      },
                      {
                        "bin_start": 24.25,
                        "bin_end": 24.42,
                        "count": 0
                      },
                      {
                        "bin_start": 24.42,
                        "bin_end": 24.59,
                        "count": 1
                      },
                      {
                        "bin_start": 24.59,
                        "bin_end": 24.76,
                        "count": 0
                      },
                      {
                        "bin_start": 24.76,
                        "bin_end": 24.93,
                        "count": 0
                      },
                      {
                        "bin_start": 24.93,
                        "bin_end": 25.1,
                        "count": 1
                      }
                    ]
                  }
                },
                {
                  "name": "feelslike",
                  "dtype": "float64",
                  "stats": {
                    "unique_count": 9,
                    "nan_count": 0,
                    "min": "26.8",
                    "max": "28.6",
                    "histogram": [
                      {
                        "bin_start": 26.8,
                        "bin_end": 26.98,
                        "count": 2
                      },
                      {
                        "bin_start": 26.98,
                        "bin_end": 27.16,
                        "count": 2
                      },
                      {
                        "bin_start": 27.16,
                        "bin_end": 27.34,
                        "count": 0
                      },
                      {
                        "bin_start": 27.34,
                        "bin_end": 27.52,
                        "count": 1
                      },
                      {
                        "bin_start": 27.52,
                        "bin_end": 27.700000000000003,
                        "count": 0
                      },
                      {
                        "bin_start": 27.700000000000003,
                        "bin_end": 27.880000000000003,
                        "count": 1
                      },
                      {
                        "bin_start": 27.880000000000003,
                        "bin_end": 28.060000000000002,
                        "count": 1
                      },
                      {
                        "bin_start": 28.060000000000002,
                        "bin_end": 28.240000000000002,
                        "count": 1
                      },
                      {
                        "bin_start": 28.240000000000002,
                        "bin_end": 28.42,
                        "count": 1
                      },
                      {
                        "bin_start": 28.42,
                        "bin_end": 28.6,
                        "count": 1
                      }
                    ]
                  }
                },
                {
                  "name": "dew",
                  "dtype": "float64",
                  "stats": {
                    "unique_count": 6,
                    "nan_count": 0,
                    "min": "22.6",
                    "max": "23.4",
                    "histogram": [
                      {
                        "bin_start": 22.6,
                        "bin_end": 22.68,
                        "count": 2
                      },
                      {
                        "bin_start": 22.68,
                        "bin_end": 22.76,
                        "count": 0
                      },
                      {
                        "bin_start": 22.76,
                        "bin_end": 22.84,
                        "count": 2
                      },
                      {
                        "bin_start": 22.84,
                        "bin_end": 22.92,
                        "count": 3
                      },
                      {
                        "bin_start": 22.92,
                        "bin_end": 23,
                        "count": 0
                      },
                      {
                        "bin_start": 23,
                        "bin_end": 23.08,
                        "count": 0
                      },
                      {
                        "bin_start": 23.08,
                        "bin_end": 23.16,
                        "count": 1
                      },
                      {
                        "bin_start": 23.16,
                        "bin_end": 23.24,
                        "count": 1
                      },
                      {
                        "bin_start": 23.24,
                        "bin_end": 23.32,
                        "count": 0
                      },
                      {
                        "bin_start": 23.32,
                        "bin_end": 23.4,
                        "count": 1
                      }
                    ]
                  }
                },
                {
                  "name": "humidity",
                  "dtype": "float64",
                  "stats": {
                    "unique_count": 9,
                    "nan_count": 0,
                    "min": "78.4",
                    "max": "83.9",
                    "histogram": [
                      {
                        "bin_start": 78.4,
                        "bin_end": 78.95,
                        "count": 1
                      },
                      {
                        "bin_start": 78.95,
                        "bin_end": 79.5,
                        "count": 1
                      },
                      {
                        "bin_start": 79.5,
                        "bin_end": 80.05000000000001,
                        "count": 0
                      },
                      {
                        "bin_start": 80.05000000000001,
                        "bin_end": 80.60000000000001,
                        "count": 0
                      },
                      {
                        "bin_start": 80.60000000000001,
                        "bin_end": 81.15,
                        "count": 0
                      },
                      {
                        "bin_start": 81.15,
                        "bin_end": 81.7,
                        "count": 0
                      },
                      {
                        "bin_start": 81.7,
                        "bin_end": 82.25,
                        "count": 4
                      },
                      {
                        "bin_start": 82.25,
                        "bin_end": 82.80000000000001,
                        "count": 1
                      },
                      {
                        "bin_start": 82.80000000000001,
                        "bin_end": 83.35000000000001,
                        "count": 1
                      },
                      {
                        "bin_start": 83.35000000000001,
                        "bin_end": 83.9,
                        "count": 2
                      }
                    ]
                  }
                },
                {
                  "name": "precip",
                  "dtype": "float64",
                  "stats": {
                    "unique_count": 10,
                    "nan_count": 0,
                    "min": "0.4",
                    "max": "10.0",
                    "histogram": [
                      {
                        "bin_start": 0.4,
                        "bin_end": 1.3599999999999999,
                        "count": 3
                      },
                      {
                        "bin_start": 1.3599999999999999,
                        "bin_end": 2.32,
                        "count": 1
                      },
                      {
                        "bin_start": 2.32,
                        "bin_end": 3.28,
                        "count": 2
                      },
                      {
                        "bin_start": 3.28,
                        "bin_end": 4.24,
                        "count": 1
                      },
                      {
                        "bin_start": 4.24,
                        "bin_end": 5.2,
                        "count": 0
                      },
                      {
                        "bin_start": 5.2,
                        "bin_end": 6.16,
                        "count": 0
                      },
                      {
                        "bin_start": 6.16,
                        "bin_end": 7.12,
                        "count": 2
                      },
                      {
                        "bin_start": 7.12,
                        "bin_end": 8.08,
                        "count": 0
                      },
                      {
                        "bin_start": 8.08,
                        "bin_end": 9.040000000000001,
                        "count": 0
                      },
                      {
                        "bin_start": 9.040000000000001,
                        "bin_end": 10,
                        "count": 1
                      }
                    ]
                  }
                },
                {
                  "name": "precipprob",
                  "dtype": "float64",
                  "stats": {
                    "unique_count": 1,
                    "nan_count": 0,
                    "min": "100.0",
                    "max": "100.0",
                    "histogram": [
                      {
                        "bin_start": 99.5,
                        "bin_end": 99.6,
                        "count": 0
                      },
                      {
                        "bin_start": 99.6,
                        "bin_end": 99.7,
                        "count": 0
                      },
                      {
                        "bin_start": 99.7,
                        "bin_end": 99.8,
                        "count": 0
                      },
                      {
                        "bin_start": 99.8,
                        "bin_end": 99.9,
                        "count": 0
                      },
                      {
                        "bin_start": 99.9,
                        "bin_end": 100,
                        "count": 0
                      },
                      {
                        "bin_start": 100,
                        "bin_end": 100.1,
                        "count": 10
                      },
                      {
                        "bin_start": 100.1,
                        "bin_end": 100.2,
                        "count": 0
                      },
                      {
                        "bin_start": 100.2,
                        "bin_end": 100.3,
                        "count": 0
                      },
                      {
                        "bin_start": 100.3,
                        "bin_end": 100.4,
                        "count": 0
                      },
                      {
                        "bin_start": 100.4,
                        "bin_end": 100.5,
                        "count": 0
                      }
                    ]
                  }
                },
                {
                  "name": "precipcover",
                  "dtype": "float64",
                  "stats": {
                    "unique_count": 6,
                    "nan_count": 0,
                    "min": "4.17",
                    "max": "29.17",
                    "histogram": [
                      {
                        "bin_start": 4.17,
                        "bin_end": 6.67,
                        "count": 3
                      },
                      {
                        "bin_start": 6.67,
                        "bin_end": 9.17,
                        "count": 2
                      },
                      {
                        "bin_start": 9.17,
                        "bin_end": 11.67,
                        "count": 0
                      },
                      {
                        "bin_start": 11.67,
                        "bin_end": 14.17,
                        "count": 2
                      },
                      {
                        "bin_start": 14.17,
                        "bin_end": 16.67,
                        "count": 0
                      },
                      {
                        "bin_start": 16.67,
                        "bin_end": 19.17,
                        "count": 1
                      },
                      {
                        "bin_start": 19.17,
                        "bin_end": 21.67,
                        "count": 1
                      },
                      {
                        "bin_start": 21.67,
                        "bin_end": 24.17,
                        "count": 0
                      },
                      {
                        "bin_start": 24.17,
                        "bin_end": 26.67,
                        "count": 0
                      },
                      {
                        "bin_start": 26.67,
                        "bin_end": 29.17,
                        "count": 1
                      }
                    ]
                  }
                },
                {
                  "name": "preciptype",
                  "dtype": "object",
                  "stats": {
                    "unique_count": 1,
                    "nan_count": 0,
                    "categories": [
                      {
                        "name": "rain",
                        "count": 10
                      }
                    ]
                  }
                },
                {
                  "name": "snow",
                  "dtype": "float64",
                  "stats": {
                    "unique_count": 1,
                    "nan_count": 0,
                    "min": "0.0",
                    "max": "0.0",
                    "histogram": [
                      {
                        "bin_start": -0.5,
                        "bin_end": -0.4,
                        "count": 0
                      },
                      {
                        "bin_start": -0.4,
                        "bin_end": -0.3,
                        "count": 0
                      },
                      {
                        "bin_start": -0.3,
                        "bin_end": -0.19999999999999996,
                        "count": 0
                      },
                      {
                        "bin_start": -0.19999999999999996,
                        "bin_end": -0.09999999999999998,
                        "count": 0
                      },
                      {
                        "bin_start": -0.09999999999999998,
                        "bin_end": 0,
                        "count": 0
                      },
                      {
                        "bin_start": 0,
                        "bin_end": 0.10000000000000009,
                        "count": 10
                      },
                      {
                        "bin_start": 0.10000000000000009,
                        "bin_end": 0.20000000000000007,
                        "count": 0
                      },
                      {
                        "bin_start": 0.20000000000000007,
                        "bin_end": 0.30000000000000004,
                        "count": 0
                      },
                      {
                        "bin_start": 0.30000000000000004,
                        "bin_end": 0.4,
                        "count": 0
                      },
                      {
                        "bin_start": 0.4,
                        "bin_end": 0.5,
                        "count": 0
                      }
                    ]
                  }
                },
                {
                  "name": "snowdepth",
                  "dtype": "float64",
                  "stats": {
                    "unique_count": 1,
                    "nan_count": 0,
                    "min": "0.0",
                    "max": "0.0",
                    "histogram": [
                      {
                        "bin_start": -0.5,
                        "bin_end": -0.4,
                        "count": 0
                      },
                      {
                        "bin_start": -0.4,
                        "bin_end": -0.3,
                        "count": 0
                      },
                      {
                        "bin_start": -0.3,
                        "bin_end": -0.19999999999999996,
                        "count": 0
                      },
                      {
                        "bin_start": -0.19999999999999996,
                        "bin_end": -0.09999999999999998,
                        "count": 0
                      },
                      {
                        "bin_start": -0.09999999999999998,
                        "bin_end": 0,
                        "count": 0
                      },
                      {
                        "bin_start": 0,
                        "bin_end": 0.10000000000000009,
                        "count": 10
                      },
                      {
                        "bin_start": 0.10000000000000009,
                        "bin_end": 0.20000000000000007,
                        "count": 0
                      },
                      {
                        "bin_start": 0.20000000000000007,
                        "bin_end": 0.30000000000000004,
                        "count": 0
                      },
                      {
                        "bin_start": 0.30000000000000004,
                        "bin_end": 0.4,
                        "count": 0
                      },
                      {
                        "bin_start": 0.4,
                        "bin_end": 0.5,
                        "count": 0
                      }
                    ]
                  }
                },
                {
                  "name": "windgust",
                  "dtype": "float64",
                  "stats": {
                    "unique_count": 9,
                    "nan_count": 0,
                    "min": "17.3",
                    "max": "56.2",
                    "histogram": [
                      {
                        "bin_start": 17.3,
                        "bin_end": 21.19,
                        "count": 2
                      },
                      {
                        "bin_start": 21.19,
                        "bin_end": 25.080000000000002,
                        "count": 2
                      },
                      {
                        "bin_start": 25.080000000000002,
                        "bin_end": 28.970000000000002,
                        "count": 1
                      },
                      {
                        "bin_start": 28.970000000000002,
                        "bin_end": 32.86,
                        "count": 1
                      },
                      {
                        "bin_start": 32.86,
                        "bin_end": 36.75,
                        "count": 0
                      },
                      {
                        "bin_start": 36.75,
                        "bin_end": 40.64,
                        "count": 1
                      },
                      {
                        "bin_start": 40.64,
                        "bin_end": 44.53,
                        "count": 1
                      },
                      {
                        "bin_start": 44.53,
                        "bin_end": 48.42,
                        "count": 1
                      },
                      {
                        "bin_start": 48.42,
                        "bin_end": 52.31,
                        "count": 0
                      },
                      {
                        "bin_start": 52.31,
                        "bin_end": 56.2,
                        "count": 1
                      }
                    ]
                  }
                },
                {
                  "name": "windspeed",
                  "dtype": "float64",
                  "stats": {
                    "unique_count": 9,
                    "nan_count": 0,
                    "min": "11.5",
                    "max": "36.7",
                    "histogram": [
                      {
                        "bin_start": 11.5,
                        "bin_end": 14.02,
                        "count": 2
                      },
                      {
                        "bin_start": 14.02,
                        "bin_end": 16.54,
                        "count": 1
                      },
                      {
                        "bin_start": 16.54,
                        "bin_end": 19.060000000000002,
                        "count": 1
                      },
                      {
                        "bin_start": 19.060000000000002,
                        "bin_end": 21.580000000000002,
                        "count": 1
                      },
                      {
                        "bin_start": 21.580000000000002,
                        "bin_end": 24.1,
                        "count": 1
                      },
                      {
                        "bin_start": 24.1,
                        "bin_end": 26.620000000000005,
                        "count": 2
                      },
                      {
                        "bin_start": 26.620000000000005,
                        "bin_end": 29.140000000000004,
                        "count": 1
                      },
                      {
                        "bin_start": 29.140000000000004,
                        "bin_end": 31.660000000000004,
                        "count": 0
                      },
                      {
                        "bin_start": 31.660000000000004,
                        "bin_end": 34.18000000000001,
                        "count": 0
                      },
                      {
                        "bin_start": 34.18000000000001,
                        "bin_end": 36.7,
                        "count": 1
                      }
                    ]
                  }
                },
                {
                  "name": "winddir",
                  "dtype": "float64",
                  "stats": {
                    "unique_count": 10,
                    "nan_count": 0,
                    "min": "266.3",
                    "max": "318.3",
                    "histogram": [
                      {
                        "bin_start": 266.3,
                        "bin_end": 271.5,
                        "count": 3
                      },
                      {
                        "bin_start": 271.5,
                        "bin_end": 276.7,
                        "count": 1
                      },
                      {
                        "bin_start": 276.7,
                        "bin_end": 281.90000000000003,
                        "count": 1
                      },
                      {
                        "bin_start": 281.90000000000003,
                        "bin_end": 287.1,
                        "count": 2
                      },
                      {
                        "bin_start": 287.1,
                        "bin_end": 292.3,
                        "count": 1
                      },
                      {
                        "bin_start": 292.3,
                        "bin_end": 297.5,
                        "count": 0
                      },
                      {
                        "bin_start": 297.5,
                        "bin_end": 302.7,
                        "count": 0
                      },
                      {
                        "bin_start": 302.7,
                        "bin_end": 307.90000000000003,
                        "count": 1
                      },
                      {
                        "bin_start": 307.90000000000003,
                        "bin_end": 313.1,
                        "count": 0
                      },
                      {
                        "bin_start": 313.1,
                        "bin_end": 318.3,
                        "count": 1
                      }
                    ]
                  }
                },
                {
                  "name": "sealevelpressure",
                  "dtype": "float64",
                  "stats": {
                    "unique_count": 8,
                    "nan_count": 0,
                    "min": "1006.1",
                    "max": "1011.2",
                    "histogram": [
                      {
                        "bin_start": 1006.1,
                        "bin_end": 1006.61,
                        "count": 1
                      },
                      {
                        "bin_start": 1006.61,
                        "bin_end": 1007.12,
                        "count": 0
                      },
                      {
                        "bin_start": 1007.12,
                        "bin_end": 1007.63,
                        "count": 1
                      },
                      {
                        "bin_start": 1007.63,
                        "bin_end": 1008.14,
                        "count": 0
                      },
                      {
                        "bin_start": 1008.14,
                        "bin_end": 1008.6500000000001,
                        "count": 1
                      },
                      {
                        "bin_start": 1008.6500000000001,
                        "bin_end": 1009.1600000000001,
                        "count": 1
                      },
                      {
                        "bin_start": 1009.1600000000001,
                        "bin_end": 1009.6700000000001,
                        "count": 1
                      },
                      {
                        "bin_start": 1009.6700000000001,
                        "bin_end": 1010.1800000000001,
                        "count": 2
                      },
                      {
                        "bin_start": 1010.1800000000001,
                        "bin_end": 1010.69,
                        "count": 2
                      },
                      {
                        "bin_start": 1010.69,
                        "bin_end": 1011.2,
                        "count": 1
                      }
                    ]
                  }
                },
                {
                  "name": "cloudcover",
                  "dtype": "float64",
                  "stats": {
                    "unique_count": 10,
                    "nan_count": 0,
                    "min": "81.6",
                    "max": "99.4",
                    "histogram": [
                      {
                        "bin_start": 81.6,
                        "bin_end": 83.38,
                        "count": 2
                      },
                      {
                        "bin_start": 83.38,
                        "bin_end": 85.16,
                        "count": 0
                      },
                      {
                        "bin_start": 85.16,
                        "bin_end": 86.94,
                        "count": 0
                      },
                      {
                        "bin_start": 86.94,
                        "bin_end": 88.72,
                        "count": 0
                      },
                      {
                        "bin_start": 88.72,
                        "bin_end": 90.5,
                        "count": 0
                      },
                      {
                        "bin_start": 90.5,
                        "bin_end": 92.28,
                        "count": 2
                      },
                      {
                        "bin_start": 92.28,
                        "bin_end": 94.06,
                        "count": 1
                      },
                      {
                        "bin_start": 94.06,
                        "bin_end": 95.84,
                        "count": 1
                      },
                      {
                        "bin_start": 95.84,
                        "bin_end": 97.62,
                        "count": 2
                      },
                      {
                        "bin_start": 97.62,
                        "bin_end": 99.4,
                        "count": 2
                      }
                    ]
                  }
                },
                {
                  "name": "visibility",
                  "dtype": "float64",
                  "stats": {
                    "unique_count": 9,
                    "nan_count": 0,
                    "min": "13.5",
                    "max": "18.3",
                    "histogram": [
                      {
                        "bin_start": 13.5,
                        "bin_end": 13.98,
                        "count": 2
                      },
                      {
                        "bin_start": 13.98,
                        "bin_end": 14.46,
                        "count": 0
                      },
                      {
                        "bin_start": 14.46,
                        "bin_end": 14.940000000000001,
                        "count": 1
                      },
                      {
                        "bin_start": 14.940000000000001,
                        "bin_end": 15.42,
                        "count": 1
                      },
                      {
                        "bin_start": 15.42,
                        "bin_end": 15.9,
                        "count": 3
                      },
                      {
                        "bin_start": 15.9,
                        "bin_end": 16.380000000000003,
                        "count": 1
                      },
                      {
                        "bin_start": 16.380000000000003,
                        "bin_end": 16.86,
                        "count": 0
                      },
                      {
                        "bin_start": 16.86,
                        "bin_end": 17.34,
                        "count": 1
                      },
                      {
                        "bin_start": 17.34,
                        "bin_end": 17.82,
                        "count": 0
                      },
                      {
                        "bin_start": 17.82,
                        "bin_end": 18.3,
                        "count": 1
                      }
                    ]
                  }
                },
                {
                  "name": "solarradiation",
                  "dtype": "float64",
                  "stats": {
                    "unique_count": 10,
                    "nan_count": 0,
                    "min": "84.8",
                    "max": "298.2",
                    "histogram": [
                      {
                        "bin_start": 84.8,
                        "bin_end": 106.13999999999999,
                        "count": 1
                      },
                      {
                        "bin_start": 106.13999999999999,
                        "bin_end": 127.47999999999999,
                        "count": 2
                      },
                      {
                        "bin_start": 127.47999999999999,
                        "bin_end": 148.82,
                        "count": 0
                      },
                      {
                        "bin_start": 148.82,
                        "bin_end": 170.15999999999997,
                        "count": 1
                      },
                      {
                        "bin_start": 170.15999999999997,
                        "bin_end": 191.5,
                        "count": 1
                      },
                      {
                        "bin_start": 191.5,
                        "bin_end": 212.83999999999997,
                        "count": 0
                      },
                      {
                        "bin_start": 212.83999999999997,
                        "bin_end": 234.17999999999995,
                        "count": 1
                      },
                      {
                        "bin_start": 234.17999999999995,
                        "bin_end": 255.51999999999998,
                        "count": 2
                      },
                      {
                        "bin_start": 255.51999999999998,
                        "bin_end": 276.85999999999996,
                        "count": 1
                      },
                      {
                        "bin_start": 276.85999999999996,
                        "bin_end": 298.2,
                        "count": 1
                      }
                    ]
                  }
                },
                {
                  "name": "solarenergy",
                  "dtype": "float64",
                  "stats": {
                    "unique_count": 8,
                    "nan_count": 0,
                    "min": "7.3",
                    "max": "25.6",
                    "histogram": [
                      {
                        "bin_start": 7.3,
                        "bin_end": 9.129999999999999,
                        "count": 1
                      },
                      {
                        "bin_start": 9.129999999999999,
                        "bin_end": 10.96,
                        "count": 2
                      },
                      {
                        "bin_start": 10.96,
                        "bin_end": 12.79,
                        "count": 0
                      },
                      {
                        "bin_start": 12.79,
                        "bin_end": 14.620000000000001,
                        "count": 1
                      },
                      {
                        "bin_start": 14.620000000000001,
                        "bin_end": 16.45,
                        "count": 1
                      },
                      {
                        "bin_start": 16.45,
                        "bin_end": 18.28,
                        "count": 0
                      },
                      {
                        "bin_start": 18.28,
                        "bin_end": 20.11,
                        "count": 0
                      },
                      {
                        "bin_start": 20.11,
                        "bin_end": 21.94,
                        "count": 3
                      },
                      {
                        "bin_start": 21.94,
                        "bin_end": 23.77,
                        "count": 1
                      },
                      {
                        "bin_start": 23.77,
                        "bin_end": 25.6,
                        "count": 1
                      }
                    ]
                  }
                },
                {
                  "name": "uvindex",
                  "dtype": "float64",
                  "stats": {
                    "unique_count": 6,
                    "nan_count": 0,
                    "min": "5.0",
                    "max": "10.0",
                    "histogram": [
                      {
                        "bin_start": 5,
                        "bin_end": 5.5,
                        "count": 2
                      },
                      {
                        "bin_start": 5.5,
                        "bin_end": 6,
                        "count": 0
                      },
                      {
                        "bin_start": 6,
                        "bin_end": 6.5,
                        "count": 1
                      },
                      {
                        "bin_start": 6.5,
                        "bin_end": 7,
                        "count": 0
                      },
                      {
                        "bin_start": 7,
                        "bin_end": 7.5,
                        "count": 1
                      },
                      {
                        "bin_start": 7.5,
                        "bin_end": 8,
                        "count": 0
                      },
                      {
                        "bin_start": 8,
                        "bin_end": 8.5,
                        "count": 1
                      },
                      {
                        "bin_start": 8.5,
                        "bin_end": 9,
                        "count": 0
                      },
                      {
                        "bin_start": 9,
                        "bin_end": 9.5,
                        "count": 3
                      },
                      {
                        "bin_start": 9.5,
                        "bin_end": 10,
                        "count": 2
                      }
                    ]
                  }
                },
                {
                  "name": "severerisk",
                  "dtype": "float64",
                  "stats": {
                    "unique_count": 2,
                    "nan_count": 0,
                    "min": "10.0",
                    "max": "30.0",
                    "histogram": [
                      {
                        "bin_start": 10,
                        "bin_end": 12,
                        "count": 4
                      },
                      {
                        "bin_start": 12,
                        "bin_end": 14,
                        "count": 0
                      },
                      {
                        "bin_start": 14,
                        "bin_end": 16,
                        "count": 0
                      },
                      {
                        "bin_start": 16,
                        "bin_end": 18,
                        "count": 0
                      },
                      {
                        "bin_start": 18,
                        "bin_end": 20,
                        "count": 0
                      },
                      {
                        "bin_start": 20,
                        "bin_end": 22,
                        "count": 0
                      },
                      {
                        "bin_start": 22,
                        "bin_end": 24,
                        "count": 0
                      },
                      {
                        "bin_start": 24,
                        "bin_end": 26,
                        "count": 0
                      },
                      {
                        "bin_start": 26,
                        "bin_end": 28,
                        "count": 0
                      },
                      {
                        "bin_start": 28,
                        "bin_end": 30,
                        "count": 6
                      }
                    ]
                  }
                },
                {
                  "name": "sunrise",
                  "dtype": "object",
                  "stats": {
                    "unique_count": 10,
                    "nan_count": 0,
                    "categories": [
                      {
                        "name": "1671686556",
                        "count": 1
                      },
                      {
                        "name": "1671772986",
                        "count": 1
                      },
                      {
                        "name": "8 others",
                        "count": 8
                      }
                    ]
                  }
                },
                {
                  "name": "sunset",
                  "dtype": "object",
                  "stats": {
                    "unique_count": 10,
                    "nan_count": 0,
                    "categories": [
                      {
                        "name": "1671731809",
                        "count": 1
                      },
                      {
                        "name": "1671818239",
                        "count": 1
                      },
                      {
                        "name": "8 others",
                        "count": 8
                      }
                    ]
                  }
                },
                {
                  "name": "moonphase",
                  "dtype": "float64",
                  "stats": {
                    "unique_count": 10,
                    "nan_count": 0,
                    "min": "0.0",
                    "max": "0.96",
                    "histogram": [
                      {
                        "bin_start": 0,
                        "bin_end": 0.096,
                        "count": 3
                      },
                      {
                        "bin_start": 0.096,
                        "bin_end": 0.192,
                        "count": 3
                      },
                      {
                        "bin_start": 0.192,
                        "bin_end": 0.28800000000000003,
                        "count": 3
                      },
                      {
                        "bin_start": 0.28800000000000003,
                        "bin_end": 0.384,
                        "count": 0
                      },
                      {
                        "bin_start": 0.384,
                        "bin_end": 0.48,
                        "count": 0
                      },
                      {
                        "bin_start": 0.48,
                        "bin_end": 0.5760000000000001,
                        "count": 0
                      },
                      {
                        "bin_start": 0.5760000000000001,
                        "bin_end": 0.672,
                        "count": 0
                      },
                      {
                        "bin_start": 0.672,
                        "bin_end": 0.768,
                        "count": 0
                      },
                      {
                        "bin_start": 0.768,
                        "bin_end": 0.864,
                        "count": 0
                      },
                      {
                        "bin_start": 0.864,
                        "bin_end": 0.96,
                        "count": 1
                      }
                    ]
                  }
                },
                {
                  "name": "conditions",
                  "dtype": "object",
                  "stats": {
                    "unique_count": 2,
                    "nan_count": 0,
                    "categories": [
                      {
                        "name": "Rain, Overcast",
                        "count": 8
                      },
                      {
                        "name": "Rain, Partially cloudy",
                        "count": 2
                      }
                    ]
                  }
                },
                {
                  "name": "description",
                  "dtype": "object",
                  "stats": {
                    "unique_count": 7,
                    "nan_count": 0,
                    "categories": [
                      {
                        "name": "Cloudy skies throughout the day with rain.",
                        "count": 4
                      },
                      {
                        "name": "Cloudy skies throughout the day with early morning rain.",
                        "count": 1
                      },
                      {
                        "name": "5 others",
                        "count": 5
                      }
                    ]
                  }
                },
                {
                  "name": "icon",
                  "dtype": "object",
                  "stats": {
                    "unique_count": 1,
                    "nan_count": 0,
                    "categories": [
                      {
                        "name": "rain",
                        "count": 10
                      }
                    ]
                  }
                },
                {
                  "name": "stations",
                  "dtype": "object",
                  "stats": {
                    "unique_count": 1,
                    "nan_count": 0,
                    "categories": [
                      {
                        "name": "96805099999,remote",
                        "count": 10
                      }
                    ]
                  }
                },
                {
                  "name": "_deepnote_index_column",
                  "dtype": "int64"
                }
              ],
              "rows": [
                {
                  "name": "Kebumen, Indonesia",
                  "datetime": "2022-12-22",
                  "tempmax": 32.1,
                  "tempmin": 25.1,
                  "temp": 26.9,
                  "feelslikemax": 39.3,
                  "feelslikemin": 25.1,
                  "feelslike": 28.6,
                  "dew": 23.4,
                  "humidity": 82,
                  "precip": 6.2,
                  "precipprob": 100,
                  "precipcover": 12.5,
                  "preciptype": "rain",
                  "snow": 0,
                  "snowdepth": 0,
                  "windgust": 41,
                  "windspeed": 25.9,
                  "winddir": 269.1,
                  "sealevelpressure": 1006.1,
                  "cloudcover": 97.2,
                  "visibility": 14.5,
                  "solarradiation": 155.2,
                  "solarenergy": 13.5,
                  "uvindex": 5,
                  "severerisk": 30,
                  "sunrise": "1671686556",
                  "sunset": "1671731809",
                  "moonphase": 0.96,
                  "conditions": "Rain, Overcast",
                  "description": "Cloudy skies throughout the day with rain.",
                  "icon": "rain",
                  "stations": "96805099999,remote",
                  "_deepnote_index_column": 16380
                },
                {
                  "name": "Kebumen, Indonesia",
                  "datetime": "2022-12-23",
                  "tempmax": 31.6,
                  "tempmin": 23.7,
                  "temp": 25.9,
                  "feelslikemax": 38.4,
                  "feelslikemin": 23.7,
                  "feelslike": 26.9,
                  "dew": 22.9,
                  "humidity": 83.9,
                  "precip": 10,
                  "precipprob": 100,
                  "precipcover": 8.33,
                  "preciptype": "rain",
                  "snow": 0,
                  "snowdepth": 0,
                  "windgust": 56.2,
                  "windspeed": 36.7,
                  "winddir": 280.6,
                  "sealevelpressure": 1007.2,
                  "cloudcover": 99.4,
                  "visibility": 15.2,
                  "solarradiation": 119,
                  "solarenergy": 10,
                  "uvindex": 7,
                  "severerisk": 10,
                  "sunrise": "1671772986",
                  "sunset": "1671818239",
                  "moonphase": 0,
                  "conditions": "Rain, Overcast",
                  "description": "Cloudy skies throughout the day with rain.",
                  "icon": "rain",
                  "stations": "96805099999,remote",
                  "_deepnote_index_column": 16381
                },
                {
                  "name": "Kebumen, Indonesia",
                  "datetime": "2022-12-24",
                  "tempmax": 28.9,
                  "tempmin": 24.1,
                  "temp": 26,
                  "feelslikemax": 33.5,
                  "feelslikemin": 24.1,
                  "feelslike": 27,
                  "dew": 22.6,
                  "humidity": 81.9,
                  "precip": 0.5,
                  "precipprob": 100,
                  "precipcover": 4.17,
                  "preciptype": "rain",
                  "snow": 0,
                  "snowdepth": 0,
                  "windgust": 17.3,
                  "windspeed": 11.5,
                  "winddir": 285.3,
                  "sealevelpressure": 1008.6,
                  "cloudcover": 98.9,
                  "visibility": 18.3,
                  "solarradiation": 114.5,
                  "solarenergy": 10,
                  "uvindex": 6,
                  "severerisk": 10,
                  "sunrise": "1671859417",
                  "sunset": "1671904668",
                  "moonphase": 0.03,
                  "conditions": "Rain, Overcast",
                  "description": "Cloudy skies throughout the day with early morning rain.",
                  "icon": "rain",
                  "stations": "96805099999,remote",
                  "_deepnote_index_column": 16382
                },
                {
                  "name": "Kebumen, Indonesia",
                  "datetime": "2022-12-25",
                  "tempmax": 28.7,
                  "tempmin": 24.5,
                  "temp": 25.9,
                  "feelslikemax": 33.8,
                  "feelslikemin": 24.5,
                  "feelslike": 26.8,
                  "dew": 22.8,
                  "humidity": 83.6,
                  "precip": 6.4,
                  "precipprob": 100,
                  "precipcover": 20.83,
                  "preciptype": "rain",
                  "snow": 0,
                  "snowdepth": 0,
                  "windgust": 19.1,
                  "windspeed": 11.5,
                  "winddir": 287.2,
                  "sealevelpressure": 1009,
                  "cloudcover": 95.1,
                  "visibility": 16.1,
                  "solarradiation": 84.8,
                  "solarenergy": 7.3,
                  "uvindex": 5,
                  "severerisk": 10,
                  "sunrise": "1671945847",
                  "sunset": "1671991097",
                  "moonphase": 0.06,
                  "conditions": "Rain, Overcast",
                  "description": "Cloudy skies throughout the day with rain.",
                  "icon": "rain",
                  "stations": "96805099999,remote",
                  "_deepnote_index_column": 16383
                },
                {
                  "name": "Kebumen, Indonesia",
                  "datetime": "2022-12-26",
                  "tempmax": 30.2,
                  "tempmin": 23.4,
                  "temp": 26,
                  "feelslikemax": 35.9,
                  "feelslikemin": 23.4,
                  "feelslike": 27,
                  "dew": 22.9,
                  "humidity": 83.3,
                  "precip": 2.7,
                  "precipprob": 100,
                  "precipcover": 16.67,
                  "preciptype": "rain",
                  "snow": 0,
                  "snowdepth": 0,
                  "windgust": 32.8,
                  "windspeed": 24.5,
                  "winddir": 270.8,
                  "sealevelpressure": 1010.3,
                  "cloudcover": 81.6,
                  "visibility": 13.5,
                  "solarradiation": 268,
                  "solarenergy": 23.3,
                  "uvindex": 9,
                  "severerisk": 30,
                  "sunrise": "1672032278",
                  "sunset": "1672077525",
                  "moonphase": 0.1,
                  "conditions": "Rain, Partially cloudy",
                  "description": "Partly cloudy throughout the day with a chance of rain throughout the day.",
                  "icon": "rain",
                  "stations": "96805099999,remote",
                  "_deepnote_index_column": 16384
                },
                {
                  "name": "Kebumen, Indonesia",
                  "datetime": "2022-12-27",
                  "tempmax": 30.1,
                  "tempmin": 23.8,
                  "temp": 26.2,
                  "feelslikemax": 35.2,
                  "feelslikemin": 23.8,
                  "feelslike": 27.5,
                  "dew": 22.9,
                  "humidity": 82.3,
                  "precip": 0.6,
                  "precipprob": 100,
                  "precipcover": 8.33,
                  "preciptype": "rain",
                  "snow": 0,
                  "snowdepth": 0,
                  "windgust": 23.8,
                  "windspeed": 20.5,
                  "winddir": 275.1,
                  "sealevelpressure": 1011.2,
                  "cloudcover": 97,
                  "visibility": 15.6,
                  "solarradiation": 233,
                  "solarenergy": 20.2,
                  "uvindex": 8,
                  "severerisk": 10,
                  "sunrise": "1672118709",
                  "sunset": "1672163953",
                  "moonphase": 0.13,
                  "conditions": "Rain, Overcast",
                  "description": "Cloudy skies throughout the day with rain in the morning and afternoon.",
                  "icon": "rain",
                  "stations": "96805099999,remote",
                  "_deepnote_index_column": 16385
                },
                {
                  "name": "Kebumen, Indonesia",
                  "datetime": "2022-12-28",
                  "tempmax": 29.6,
                  "tempmin": 24,
                  "temp": 26.6,
                  "feelslikemax": 35.9,
                  "feelslikemin": 24,
                  "feelslike": 27.9,
                  "dew": 23.2,
                  "humidity": 82,
                  "precip": 0.4,
                  "precipprob": 100,
                  "precipcover": 4.17,
                  "preciptype": "rain",
                  "snow": 0,
                  "snowdepth": 0,
                  "windgust": 46.4,
                  "windspeed": 27,
                  "winddir": 266.3,
                  "sealevelpressure": 1010.3,
                  "cloudcover": 82.8,
                  "visibility": 13.9,
                  "solarradiation": 298.2,
                  "solarenergy": 25.6,
                  "uvindex": 10,
                  "severerisk": 30,
                  "sunrise": "1672205140",
                  "sunset": "1672250380",
                  "moonphase": 0.16,
                  "conditions": "Rain, Partially cloudy",
                  "description": "Partly cloudy throughout the day with afternoon rain.",
                  "icon": "rain",
                  "stations": "96805099999,remote",
                  "_deepnote_index_column": 16386
                },
                {
                  "name": "Kebumen, Indonesia",
                  "datetime": "2022-12-29",
                  "tempmax": 32.1,
                  "tempmin": 24.2,
                  "temp": 26.5,
                  "feelslikemax": 38.4,
                  "feelslikemin": 24.2,
                  "feelslike": 27.8,
                  "dew": 23.1,
                  "humidity": 82.1,
                  "precip": 3.6,
                  "precipprob": 100,
                  "precipcover": 12.5,
                  "preciptype": "rain",
                  "snow": 0,
                  "snowdepth": 0,
                  "windgust": 37.1,
                  "windspeed": 22.7,
                  "winddir": 283.6,
                  "sealevelpressure": 1009.9,
                  "cloudcover": 93.1,
                  "visibility": 15.8,
                  "solarradiation": 189.8,
                  "solarenergy": 16.4,
                  "uvindex": 9,
                  "severerisk": 30,
                  "sunrise": "1672291571",
                  "sunset": "1672336807",
                  "moonphase": 0.2,
                  "conditions": "Rain, Overcast",
                  "description": "Cloudy skies throughout the day with rain.",
                  "icon": "rain",
                  "stations": "96805099999,remote",
                  "_deepnote_index_column": 16387
                },
                {
                  "name": "Kebumen, Indonesia",
                  "datetime": "2022-12-30",
                  "tempmax": 30.9,
                  "tempmin": 23.9,
                  "temp": 26.8,
                  "feelslikemax": 35.6,
                  "feelslikemin": 23.9,
                  "feelslike": 28.4,
                  "dew": 22.6,
                  "humidity": 78.4,
                  "precip": 2.8,
                  "precipprob": 100,
                  "precipcover": 29.17,
                  "preciptype": "rain",
                  "snow": 0,
                  "snowdepth": 0,
                  "windgust": 23.8,
                  "windspeed": 16.2,
                  "winddir": 318.3,
                  "sealevelpressure": 1009.9,
                  "cloudcover": 90.9,
                  "visibility": 17.1,
                  "solarradiation": 234.9,
                  "solarenergy": 20.2,
                  "uvindex": 10,
                  "severerisk": 30,
                  "sunrise": "1672378003",
                  "sunset": "1672423234",
                  "moonphase": 0.25,
                  "conditions": "Rain, Overcast",
                  "description": "Cloudy skies throughout the day with a chance of rain throughout the day.",
                  "icon": "rain",
                  "stations": "96805099999,remote",
                  "_deepnote_index_column": 16388
                },
                {
                  "name": "Kebumen, Indonesia",
                  "datetime": "2022-12-31",
                  "tempmax": 31.1,
                  "tempmin": 24.1,
                  "temp": 26.8,
                  "feelslikemax": 36.2,
                  "feelslikemin": 24.1,
                  "feelslike": 28.2,
                  "dew": 22.8,
                  "humidity": 79.2,
                  "precip": 2,
                  "precipprob": 100,
                  "precipcover": 4.17,
                  "preciptype": "rain",
                  "snow": 0,
                  "snowdepth": 0,
                  "windgust": 28.8,
                  "windspeed": 17.6,
                  "winddir": 305.5,
                  "sealevelpressure": 1009.5,
                  "cloudcover": 90.5,
                  "visibility": 15.6,
                  "solarradiation": 237,
                  "solarenergy": 20.6,
                  "uvindex": 9,
                  "severerisk": 30,
                  "sunrise": "1672464434",
                  "sunset": "1672509660",
                  "moonphase": 0.27,
                  "conditions": "Rain, Overcast",
                  "description": "Cloudy skies throughout the day with afternoon rain.",
                  "icon": "rain",
                  "stations": "96805099999,remote",
                  "_deepnote_index_column": 16389
                }
              ]
            },
            "text/plain": "                     name    datetime  tempmax  tempmin  temp  feelslikemax  \\\n16380  Kebumen, Indonesia  2022-12-22     32.1     25.1  26.9          39.3   \n16381  Kebumen, Indonesia  2022-12-23     31.6     23.7  25.9          38.4   \n16382  Kebumen, Indonesia  2022-12-24     28.9     24.1  26.0          33.5   \n16383  Kebumen, Indonesia  2022-12-25     28.7     24.5  25.9          33.8   \n16384  Kebumen, Indonesia  2022-12-26     30.2     23.4  26.0          35.9   \n16385  Kebumen, Indonesia  2022-12-27     30.1     23.8  26.2          35.2   \n16386  Kebumen, Indonesia  2022-12-28     29.6     24.0  26.6          35.9   \n16387  Kebumen, Indonesia  2022-12-29     32.1     24.2  26.5          38.4   \n16388  Kebumen, Indonesia  2022-12-30     30.9     23.9  26.8          35.6   \n16389  Kebumen, Indonesia  2022-12-31     31.1     24.1  26.8          36.2   \n\n       feelslikemin  feelslike   dew  humidity  ...  solarenergy  uvindex  \\\n16380          25.1       28.6  23.4      82.0  ...         13.5      5.0   \n16381          23.7       26.9  22.9      83.9  ...         10.0      7.0   \n16382          24.1       27.0  22.6      81.9  ...         10.0      6.0   \n16383          24.5       26.8  22.8      83.6  ...          7.3      5.0   \n16384          23.4       27.0  22.9      83.3  ...         23.3      9.0   \n16385          23.8       27.5  22.9      82.3  ...         20.2      8.0   \n16386          24.0       27.9  23.2      82.0  ...         25.6     10.0   \n16387          24.2       27.8  23.1      82.1  ...         16.4      9.0   \n16388          23.9       28.4  22.6      78.4  ...         20.2     10.0   \n16389          24.1       28.2  22.8      79.2  ...         20.6      9.0   \n\n       severerisk     sunrise      sunset  moonphase              conditions  \\\n16380        30.0  1671686556  1671731809       0.96          Rain, Overcast   \n16381        10.0  1671772986  1671818239       0.00          Rain, Overcast   \n16382        10.0  1671859417  1671904668       0.03          Rain, Overcast   \n16383        10.0  1671945847  1671991097       0.06          Rain, Overcast   \n16384        30.0  1672032278  1672077525       0.10  Rain, Partially cloudy   \n16385        10.0  1672118709  1672163953       0.13          Rain, Overcast   \n16386        30.0  1672205140  1672250380       0.16  Rain, Partially cloudy   \n16387        30.0  1672291571  1672336807       0.20          Rain, Overcast   \n16388        30.0  1672378003  1672423234       0.25          Rain, Overcast   \n16389        30.0  1672464434  1672509660       0.27          Rain, Overcast   \n\n                                             description  icon  \\\n16380         Cloudy skies throughout the day with rain.  rain   \n16381         Cloudy skies throughout the day with rain.  rain   \n16382  Cloudy skies throughout the day with early mor...  rain   \n16383         Cloudy skies throughout the day with rain.  rain   \n16384  Partly cloudy throughout the day with a chance...  rain   \n16385  Cloudy skies throughout the day with rain in t...  rain   \n16386  Partly cloudy throughout the day with afternoo...  rain   \n16387         Cloudy skies throughout the day with rain.  rain   \n16388  Cloudy skies throughout the day with a chance ...  rain   \n16389  Cloudy skies throughout the day with afternoon...  rain   \n\n                 stations  \n16380  96805099999,remote  \n16381  96805099999,remote  \n16382  96805099999,remote  \n16383  96805099999,remote  \n16384  96805099999,remote  \n16385  96805099999,remote  \n16386  96805099999,remote  \n16387  96805099999,remote  \n16388  96805099999,remote  \n16389  96805099999,remote  \n\n[10 rows x 33 columns]",
            "text/html": "<div>\n<style scoped>\n    .dataframe tbody tr th:only-of-type {\n        vertical-align: middle;\n    }\n\n    .dataframe tbody tr th {\n        vertical-align: top;\n    }\n\n    .dataframe thead th {\n        text-align: right;\n    }\n</style>\n<table border=\"1\" class=\"dataframe\">\n  <thead>\n    <tr style=\"text-align: right;\">\n      <th></th>\n      <th>name</th>\n      <th>datetime</th>\n      <th>tempmax</th>\n      <th>tempmin</th>\n      <th>temp</th>\n      <th>feelslikemax</th>\n      <th>feelslikemin</th>\n      <th>feelslike</th>\n      <th>dew</th>\n      <th>humidity</th>\n      <th>...</th>\n      <th>solarenergy</th>\n      <th>uvindex</th>\n      <th>severerisk</th>\n      <th>sunrise</th>\n      <th>sunset</th>\n      <th>moonphase</th>\n      <th>conditions</th>\n      <th>description</th>\n      <th>icon</th>\n      <th>stations</th>\n    </tr>\n  </thead>\n  <tbody>\n    <tr>\n      <th>16380</th>\n      <td>Kebumen, Indonesia</td>\n      <td>2022-12-22</td>\n      <td>32.1</td>\n      <td>25.1</td>\n      <td>26.9</td>\n      <td>39.3</td>\n      <td>25.1</td>\n      <td>28.6</td>\n      <td>23.4</td>\n      <td>82.0</td>\n      <td>...</td>\n      <td>13.5</td>\n      <td>5.0</td>\n      <td>30.0</td>\n      <td>1671686556</td>\n      <td>1671731809</td>\n      <td>0.96</td>\n      <td>Rain, Overcast</td>\n      <td>Cloudy skies throughout the day with rain.</td>\n      <td>rain</td>\n      <td>96805099999,remote</td>\n    </tr>\n    <tr>\n      <th>16381</th>\n      <td>Kebumen, Indonesia</td>\n      <td>2022-12-23</td>\n      <td>31.6</td>\n      <td>23.7</td>\n      <td>25.9</td>\n      <td>38.4</td>\n      <td>23.7</td>\n      <td>26.9</td>\n      <td>22.9</td>\n      <td>83.9</td>\n      <td>...</td>\n      <td>10.0</td>\n      <td>7.0</td>\n      <td>10.0</td>\n      <td>1671772986</td>\n      <td>1671818239</td>\n      <td>0.00</td>\n      <td>Rain, Overcast</td>\n      <td>Cloudy skies throughout the day with rain.</td>\n      <td>rain</td>\n      <td>96805099999,remote</td>\n    </tr>\n    <tr>\n      <th>16382</th>\n      <td>Kebumen, Indonesia</td>\n      <td>2022-12-24</td>\n      <td>28.9</td>\n      <td>24.1</td>\n      <td>26.0</td>\n      <td>33.5</td>\n      <td>24.1</td>\n      <td>27.0</td>\n      <td>22.6</td>\n      <td>81.9</td>\n      <td>...</td>\n      <td>10.0</td>\n      <td>6.0</td>\n      <td>10.0</td>\n      <td>1671859417</td>\n      <td>1671904668</td>\n      <td>0.03</td>\n      <td>Rain, Overcast</td>\n      <td>Cloudy skies throughout the day with early mor...</td>\n      <td>rain</td>\n      <td>96805099999,remote</td>\n    </tr>\n    <tr>\n      <th>16383</th>\n      <td>Kebumen, Indonesia</td>\n      <td>2022-12-25</td>\n      <td>28.7</td>\n      <td>24.5</td>\n      <td>25.9</td>\n      <td>33.8</td>\n      <td>24.5</td>\n      <td>26.8</td>\n      <td>22.8</td>\n      <td>83.6</td>\n      <td>...</td>\n      <td>7.3</td>\n      <td>5.0</td>\n      <td>10.0</td>\n      <td>1671945847</td>\n      <td>1671991097</td>\n      <td>0.06</td>\n      <td>Rain, Overcast</td>\n      <td>Cloudy skies throughout the day with rain.</td>\n      <td>rain</td>\n      <td>96805099999,remote</td>\n    </tr>\n    <tr>\n      <th>16384</th>\n      <td>Kebumen, Indonesia</td>\n      <td>2022-12-26</td>\n      <td>30.2</td>\n      <td>23.4</td>\n      <td>26.0</td>\n      <td>35.9</td>\n      <td>23.4</td>\n      <td>27.0</td>\n      <td>22.9</td>\n      <td>83.3</td>\n      <td>...</td>\n      <td>23.3</td>\n      <td>9.0</td>\n      <td>30.0</td>\n      <td>1672032278</td>\n      <td>1672077525</td>\n      <td>0.10</td>\n      <td>Rain, Partially cloudy</td>\n      <td>Partly cloudy throughout the day with a chance...</td>\n      <td>rain</td>\n      <td>96805099999,remote</td>\n    </tr>\n    <tr>\n      <th>16385</th>\n      <td>Kebumen, Indonesia</td>\n      <td>2022-12-27</td>\n      <td>30.1</td>\n      <td>23.8</td>\n      <td>26.2</td>\n      <td>35.2</td>\n      <td>23.8</td>\n      <td>27.5</td>\n      <td>22.9</td>\n      <td>82.3</td>\n      <td>...</td>\n      <td>20.2</td>\n      <td>8.0</td>\n      <td>10.0</td>\n      <td>1672118709</td>\n      <td>1672163953</td>\n      <td>0.13</td>\n      <td>Rain, Overcast</td>\n      <td>Cloudy skies throughout the day with rain in t...</td>\n      <td>rain</td>\n      <td>96805099999,remote</td>\n    </tr>\n    <tr>\n      <th>16386</th>\n      <td>Kebumen, Indonesia</td>\n      <td>2022-12-28</td>\n      <td>29.6</td>\n      <td>24.0</td>\n      <td>26.6</td>\n      <td>35.9</td>\n      <td>24.0</td>\n      <td>27.9</td>\n      <td>23.2</td>\n      <td>82.0</td>\n      <td>...</td>\n      <td>25.6</td>\n      <td>10.0</td>\n      <td>30.0</td>\n      <td>1672205140</td>\n      <td>1672250380</td>\n      <td>0.16</td>\n      <td>Rain, Partially cloudy</td>\n      <td>Partly cloudy throughout the day with afternoo...</td>\n      <td>rain</td>\n      <td>96805099999,remote</td>\n    </tr>\n    <tr>\n      <th>16387</th>\n      <td>Kebumen, Indonesia</td>\n      <td>2022-12-29</td>\n      <td>32.1</td>\n      <td>24.2</td>\n      <td>26.5</td>\n      <td>38.4</td>\n      <td>24.2</td>\n      <td>27.8</td>\n      <td>23.1</td>\n      <td>82.1</td>\n      <td>...</td>\n      <td>16.4</td>\n      <td>9.0</td>\n      <td>30.0</td>\n      <td>1672291571</td>\n      <td>1672336807</td>\n      <td>0.20</td>\n      <td>Rain, Overcast</td>\n      <td>Cloudy skies throughout the day with rain.</td>\n      <td>rain</td>\n      <td>96805099999,remote</td>\n    </tr>\n    <tr>\n      <th>16388</th>\n      <td>Kebumen, Indonesia</td>\n      <td>2022-12-30</td>\n      <td>30.9</td>\n      <td>23.9</td>\n      <td>26.8</td>\n      <td>35.6</td>\n      <td>23.9</td>\n      <td>28.4</td>\n      <td>22.6</td>\n      <td>78.4</td>\n      <td>...</td>\n      <td>20.2</td>\n      <td>10.0</td>\n      <td>30.0</td>\n      <td>1672378003</td>\n      <td>1672423234</td>\n      <td>0.25</td>\n      <td>Rain, Overcast</td>\n      <td>Cloudy skies throughout the day with a chance ...</td>\n      <td>rain</td>\n      <td>96805099999,remote</td>\n    </tr>\n    <tr>\n      <th>16389</th>\n      <td>Kebumen, Indonesia</td>\n      <td>2022-12-31</td>\n      <td>31.1</td>\n      <td>24.1</td>\n      <td>26.8</td>\n      <td>36.2</td>\n      <td>24.1</td>\n      <td>28.2</td>\n      <td>22.8</td>\n      <td>79.2</td>\n      <td>...</td>\n      <td>20.6</td>\n      <td>9.0</td>\n      <td>30.0</td>\n      <td>1672464434</td>\n      <td>1672509660</td>\n      <td>0.27</td>\n      <td>Rain, Overcast</td>\n      <td>Cloudy skies throughout the day with afternoon...</td>\n      <td>rain</td>\n      <td>96805099999,remote</td>\n    </tr>\n  </tbody>\n</table>\n<p>10 rows × 33 columns</p>\n</div>"
          },
          "metadata": {}
        }
      ],
      "outputs_reference": null,
      "execution_count": 4,
      "block_group": "dacb6f6e4f814581bddf5d3e939ba198",
      "content_dependencies": null
    },
    {
      "cell_type": "code",
      "source": "data2.tail(10)",
      "metadata": {
        "source_hash": "c03fc85b",
        "execution_start": 1736072609707,
        "execution_millis": 18,
        "execution_context_id": "b89841ec-5496-487c-91f1-5166d5407ab7",
        "cell_id": "1b6adeeb64e945d9843f128b873ff6ee",
        "deepnote_cell_type": "code"
      },
      "outputs": [
        {
          "output_type": "execute_result",
          "execution_count": 5,
          "data": {
            "application/vnd.deepnote.dataframe.v3+json": {
              "column_count": 33,
              "row_count": 10,
              "columns": [
                {
                  "name": "name",
                  "dtype": "object",
                  "stats": {
                    "unique_count": 1,
                    "nan_count": 0,
                    "categories": [
                      {
                        "name": "Kebumen",
                        "count": 10
                      }
                    ]
                  }
                },
                {
                  "name": "datetime",
                  "dtype": "object",
                  "stats": {
                    "unique_count": 10,
                    "nan_count": 0,
                    "categories": [
                      {
                        "name": "2024-12-22",
                        "count": 1
                      },
                      {
                        "name": "2024-12-23",
                        "count": 1
                      },
                      {
                        "name": "8 others",
                        "count": 8
                      }
                    ]
                  }
                },
                {
                  "name": "tempmax",
                  "dtype": "float64",
                  "stats": {
                    "unique_count": 8,
                    "nan_count": 0,
                    "min": "26.2",
                    "max": "32.7",
                    "histogram": [
                      {
                        "bin_start": 26.2,
                        "bin_end": 26.85,
                        "count": 1
                      },
                      {
                        "bin_start": 26.85,
                        "bin_end": 27.5,
                        "count": 0
                      },
                      {
                        "bin_start": 27.5,
                        "bin_end": 28.15,
                        "count": 1
                      },
                      {
                        "bin_start": 28.15,
                        "bin_end": 28.8,
                        "count": 1
                      },
                      {
                        "bin_start": 28.8,
                        "bin_end": 29.450000000000003,
                        "count": 1
                      },
                      {
                        "bin_start": 29.450000000000003,
                        "bin_end": 30.1,
                        "count": 1
                      },
                      {
                        "bin_start": 30.1,
                        "bin_end": 30.75,
                        "count": 0
                      },
                      {
                        "bin_start": 30.75,
                        "bin_end": 31.400000000000002,
                        "count": 1
                      },
                      {
                        "bin_start": 31.400000000000002,
                        "bin_end": 32.050000000000004,
                        "count": 0
                      },
                      {
                        "bin_start": 32.050000000000004,
                        "bin_end": 32.7,
                        "count": 4
                      }
                    ]
                  }
                },
                {
                  "name": "tempmin",
                  "dtype": "float64",
                  "stats": {
                    "unique_count": 6,
                    "nan_count": 0,
                    "min": "24.0",
                    "max": "25.9",
                    "histogram": [
                      {
                        "bin_start": 24,
                        "bin_end": 24.19,
                        "count": 1
                      },
                      {
                        "bin_start": 24.19,
                        "bin_end": 24.38,
                        "count": 0
                      },
                      {
                        "bin_start": 24.38,
                        "bin_end": 24.57,
                        "count": 1
                      },
                      {
                        "bin_start": 24.57,
                        "bin_end": 24.759999999999998,
                        "count": 0
                      },
                      {
                        "bin_start": 24.759999999999998,
                        "bin_end": 24.95,
                        "count": 0
                      },
                      {
                        "bin_start": 24.95,
                        "bin_end": 25.14,
                        "count": 6
                      },
                      {
                        "bin_start": 25.14,
                        "bin_end": 25.33,
                        "count": 0
                      },
                      {
                        "bin_start": 25.33,
                        "bin_end": 25.52,
                        "count": 1
                      },
                      {
                        "bin_start": 25.52,
                        "bin_end": 25.709999999999997,
                        "count": 0
                      },
                      {
                        "bin_start": 25.709999999999997,
                        "bin_end": 25.9,
                        "count": 1
                      }
                    ]
                  }
                },
                {
                  "name": "temp",
                  "dtype": "float64",
                  "stats": {
                    "unique_count": 9,
                    "nan_count": 0,
                    "min": "25.5",
                    "max": "28.5",
                    "histogram": [
                      {
                        "bin_start": 25.5,
                        "bin_end": 25.8,
                        "count": 1
                      },
                      {
                        "bin_start": 25.8,
                        "bin_end": 26.1,
                        "count": 0
                      },
                      {
                        "bin_start": 26.1,
                        "bin_end": 26.4,
                        "count": 1
                      },
                      {
                        "bin_start": 26.4,
                        "bin_end": 26.7,
                        "count": 1
                      },
                      {
                        "bin_start": 26.7,
                        "bin_end": 27,
                        "count": 3
                      },
                      {
                        "bin_start": 27,
                        "bin_end": 27.3,
                        "count": 0
                      },
                      {
                        "bin_start": 27.3,
                        "bin_end": 27.6,
                        "count": 0
                      },
                      {
                        "bin_start": 27.6,
                        "bin_end": 27.9,
                        "count": 2
                      },
                      {
                        "bin_start": 27.9,
                        "bin_end": 28.2,
                        "count": 1
                      },
                      {
                        "bin_start": 28.2,
                        "bin_end": 28.5,
                        "count": 1
                      }
                    ]
                  }
                },
                {
                  "name": "feelslikemax",
                  "dtype": "float64",
                  "stats": {
                    "unique_count": 10,
                    "nan_count": 0,
                    "min": "26.2",
                    "max": "41.1",
                    "histogram": [
                      {
                        "bin_start": 26.2,
                        "bin_end": 27.689999999999998,
                        "count": 1
                      },
                      {
                        "bin_start": 27.689999999999998,
                        "bin_end": 29.18,
                        "count": 0
                      },
                      {
                        "bin_start": 29.18,
                        "bin_end": 30.67,
                        "count": 0
                      },
                      {
                        "bin_start": 30.67,
                        "bin_end": 32.16,
                        "count": 1
                      },
                      {
                        "bin_start": 32.16,
                        "bin_end": 33.65,
                        "count": 2
                      },
                      {
                        "bin_start": 33.65,
                        "bin_end": 35.14,
                        "count": 0
                      },
                      {
                        "bin_start": 35.14,
                        "bin_end": 36.63,
                        "count": 1
                      },
                      {
                        "bin_start": 36.63,
                        "bin_end": 38.120000000000005,
                        "count": 1
                      },
                      {
                        "bin_start": 38.120000000000005,
                        "bin_end": 39.61,
                        "count": 1
                      },
                      {
                        "bin_start": 39.61,
                        "bin_end": 41.1,
                        "count": 3
                      }
                    ]
                  }
                },
                {
                  "name": "feelslikemin",
                  "dtype": "float64",
                  "stats": {
                    "unique_count": 6,
                    "nan_count": 0,
                    "min": "24.0",
                    "max": "25.9",
                    "histogram": [
                      {
                        "bin_start": 24,
                        "bin_end": 24.19,
                        "count": 1
                      },
                      {
                        "bin_start": 24.19,
                        "bin_end": 24.38,
                        "count": 0
                      },
                      {
                        "bin_start": 24.38,
                        "bin_end": 24.57,
                        "count": 1
                      },
                      {
                        "bin_start": 24.57,
                        "bin_end": 24.759999999999998,
                        "count": 0
                      },
                      {
                        "bin_start": 24.759999999999998,
                        "bin_end": 24.95,
                        "count": 0
                      },
                      {
                        "bin_start": 24.95,
                        "bin_end": 25.14,
                        "count": 6
                      },
                      {
                        "bin_start": 25.14,
                        "bin_end": 25.33,
                        "count": 0
                      },
                      {
                        "bin_start": 25.33,
                        "bin_end": 25.52,
                        "count": 1
                      },
                      {
                        "bin_start": 25.52,
                        "bin_end": 25.709999999999997,
                        "count": 0
                      },
                      {
                        "bin_start": 25.709999999999997,
                        "bin_end": 25.9,
                        "count": 1
                      }
                    ]
                  }
                },
                {
                  "name": "feelslike",
                  "dtype": "float64",
                  "stats": {
                    "unique_count": 10,
                    "nan_count": 0,
                    "min": "25.5",
                    "max": "32.2",
                    "histogram": [
                      {
                        "bin_start": 25.5,
                        "bin_end": 26.17,
                        "count": 1
                      },
                      {
                        "bin_start": 26.17,
                        "bin_end": 26.84,
                        "count": 0
                      },
                      {
                        "bin_start": 26.84,
                        "bin_end": 27.51,
                        "count": 1
                      },
                      {
                        "bin_start": 27.51,
                        "bin_end": 28.18,
                        "count": 0
                      },
                      {
                        "bin_start": 28.18,
                        "bin_end": 28.85,
                        "count": 4
                      },
                      {
                        "bin_start": 28.85,
                        "bin_end": 29.520000000000003,
                        "count": 0
                      },
                      {
                        "bin_start": 29.520000000000003,
                        "bin_end": 30.19,
                        "count": 0
                      },
                      {
                        "bin_start": 30.19,
                        "bin_end": 30.860000000000003,
                        "count": 3
                      },
                      {
                        "bin_start": 30.860000000000003,
                        "bin_end": 31.53,
                        "count": 0
                      },
                      {
                        "bin_start": 31.53,
                        "bin_end": 32.2,
                        "count": 1
                      }
                    ]
                  }
                },
                {
                  "name": "dew",
                  "dtype": "float64",
                  "stats": {
                    "unique_count": 8,
                    "nan_count": 0,
                    "min": "22.5",
                    "max": "24.9",
                    "histogram": [
                      {
                        "bin_start": 22.5,
                        "bin_end": 22.74,
                        "count": 2
                      },
                      {
                        "bin_start": 22.74,
                        "bin_end": 22.98,
                        "count": 0
                      },
                      {
                        "bin_start": 22.98,
                        "bin_end": 23.22,
                        "count": 1
                      },
                      {
                        "bin_start": 23.22,
                        "bin_end": 23.46,
                        "count": 0
                      },
                      {
                        "bin_start": 23.46,
                        "bin_end": 23.7,
                        "count": 1
                      },
                      {
                        "bin_start": 23.7,
                        "bin_end": 23.939999999999998,
                        "count": 0
                      },
                      {
                        "bin_start": 23.939999999999998,
                        "bin_end": 24.18,
                        "count": 0
                      },
                      {
                        "bin_start": 24.18,
                        "bin_end": 24.419999999999998,
                        "count": 1
                      },
                      {
                        "bin_start": 24.419999999999998,
                        "bin_end": 24.66,
                        "count": 0
                      },
                      {
                        "bin_start": 24.66,
                        "bin_end": 24.9,
                        "count": 5
                      }
                    ]
                  }
                },
                {
                  "name": "humidity",
                  "dtype": "float64",
                  "stats": {
                    "unique_count": 9,
                    "nan_count": 0,
                    "min": "78.3",
                    "max": "88.9",
                    "histogram": [
                      {
                        "bin_start": 78.3,
                        "bin_end": 79.36,
                        "count": 1
                      },
                      {
                        "bin_start": 79.36,
                        "bin_end": 80.42,
                        "count": 0
                      },
                      {
                        "bin_start": 80.42,
                        "bin_end": 81.48,
                        "count": 0
                      },
                      {
                        "bin_start": 81.48,
                        "bin_end": 82.54,
                        "count": 1
                      },
                      {
                        "bin_start": 82.54,
                        "bin_end": 83.6,
                        "count": 2
                      },
                      {
                        "bin_start": 83.6,
                        "bin_end": 84.66,
                        "count": 4
                      },
                      {
                        "bin_start": 84.66,
                        "bin_end": 85.72,
                        "count": 0
                      },
                      {
                        "bin_start": 85.72,
                        "bin_end": 86.78,
                        "count": 0
                      },
                      {
                        "bin_start": 86.78,
                        "bin_end": 87.84,
                        "count": 1
                      },
                      {
                        "bin_start": 87.84,
                        "bin_end": 88.9,
                        "count": 1
                      }
                    ]
                  }
                },
                {
                  "name": "precip",
                  "dtype": "float64",
                  "stats": {
                    "unique_count": 10,
                    "nan_count": 0,
                    "min": "0.0",
                    "max": "71.0",
                    "histogram": [
                      {
                        "bin_start": 0,
                        "bin_end": 7.1,
                        "count": 4
                      },
                      {
                        "bin_start": 7.1,
                        "bin_end": 14.2,
                        "count": 1
                      },
                      {
                        "bin_start": 14.2,
                        "bin_end": 21.299999999999997,
                        "count": 2
                      },
                      {
                        "bin_start": 21.299999999999997,
                        "bin_end": 28.4,
                        "count": 2
                      },
                      {
                        "bin_start": 28.4,
                        "bin_end": 35.5,
                        "count": 0
                      },
                      {
                        "bin_start": 35.5,
                        "bin_end": 42.599999999999994,
                        "count": 0
                      },
                      {
                        "bin_start": 42.599999999999994,
                        "bin_end": 49.699999999999996,
                        "count": 0
                      },
                      {
                        "bin_start": 49.699999999999996,
                        "bin_end": 56.8,
                        "count": 0
                      },
                      {
                        "bin_start": 56.8,
                        "bin_end": 63.9,
                        "count": 0
                      },
                      {
                        "bin_start": 63.9,
                        "bin_end": 71,
                        "count": 1
                      }
                    ]
                  }
                },
                {
                  "name": "precipprob",
                  "dtype": "int64",
                  "stats": {
                    "unique_count": 2,
                    "nan_count": 0,
                    "min": "0",
                    "max": "100",
                    "histogram": [
                      {
                        "bin_start": 0,
                        "bin_end": 10,
                        "count": 1
                      },
                      {
                        "bin_start": 10,
                        "bin_end": 20,
                        "count": 0
                      },
                      {
                        "bin_start": 20,
                        "bin_end": 30,
                        "count": 0
                      },
                      {
                        "bin_start": 30,
                        "bin_end": 40,
                        "count": 0
                      },
                      {
                        "bin_start": 40,
                        "bin_end": 50,
                        "count": 0
                      },
                      {
                        "bin_start": 50,
                        "bin_end": 60,
                        "count": 0
                      },
                      {
                        "bin_start": 60,
                        "bin_end": 70,
                        "count": 0
                      },
                      {
                        "bin_start": 70,
                        "bin_end": 80,
                        "count": 0
                      },
                      {
                        "bin_start": 80,
                        "bin_end": 90,
                        "count": 0
                      },
                      {
                        "bin_start": 90,
                        "bin_end": 100,
                        "count": 9
                      }
                    ]
                  }
                },
                {
                  "name": "precipcover",
                  "dtype": "float64",
                  "stats": {
                    "unique_count": 8,
                    "nan_count": 0,
                    "min": "0.0",
                    "max": "58.33",
                    "histogram": [
                      {
                        "bin_start": 0,
                        "bin_end": 5.833,
                        "count": 3
                      },
                      {
                        "bin_start": 5.833,
                        "bin_end": 11.666,
                        "count": 0
                      },
                      {
                        "bin_start": 11.666,
                        "bin_end": 17.499000000000002,
                        "count": 2
                      },
                      {
                        "bin_start": 17.499000000000002,
                        "bin_end": 23.332,
                        "count": 1
                      },
                      {
                        "bin_start": 23.332,
                        "bin_end": 29.165,
                        "count": 0
                      },
                      {
                        "bin_start": 29.165,
                        "bin_end": 34.998000000000005,
                        "count": 1
                      },
                      {
                        "bin_start": 34.998000000000005,
                        "bin_end": 40.831,
                        "count": 0
                      },
                      {
                        "bin_start": 40.831,
                        "bin_end": 46.664,
                        "count": 0
                      },
                      {
                        "bin_start": 46.664,
                        "bin_end": 52.497,
                        "count": 0
                      },
                      {
                        "bin_start": 52.497,
                        "bin_end": 58.33,
                        "count": 3
                      }
                    ]
                  }
                },
                {
                  "name": "preciptype",
                  "dtype": "object",
                  "stats": {
                    "unique_count": 1,
                    "nan_count": 0,
                    "categories": [
                      {
                        "name": "rain",
                        "count": 10
                      }
                    ]
                  }
                },
                {
                  "name": "snow",
                  "dtype": "int64",
                  "stats": {
                    "unique_count": 1,
                    "nan_count": 0,
                    "min": "0",
                    "max": "0",
                    "histogram": [
                      {
                        "bin_start": -0.5,
                        "bin_end": -0.4,
                        "count": 0
                      },
                      {
                        "bin_start": -0.4,
                        "bin_end": -0.3,
                        "count": 0
                      },
                      {
                        "bin_start": -0.3,
                        "bin_end": -0.19999999999999996,
                        "count": 0
                      },
                      {
                        "bin_start": -0.19999999999999996,
                        "bin_end": -0.09999999999999998,
                        "count": 0
                      },
                      {
                        "bin_start": -0.09999999999999998,
                        "bin_end": 0,
                        "count": 0
                      },
                      {
                        "bin_start": 0,
                        "bin_end": 0.10000000000000009,
                        "count": 10
                      },
                      {
                        "bin_start": 0.10000000000000009,
                        "bin_end": 0.20000000000000007,
                        "count": 0
                      },
                      {
                        "bin_start": 0.20000000000000007,
                        "bin_end": 0.30000000000000004,
                        "count": 0
                      },
                      {
                        "bin_start": 0.30000000000000004,
                        "bin_end": 0.4,
                        "count": 0
                      },
                      {
                        "bin_start": 0.4,
                        "bin_end": 0.5,
                        "count": 0
                      }
                    ]
                  }
                },
                {
                  "name": "snowdepth",
                  "dtype": "int64",
                  "stats": {
                    "unique_count": 1,
                    "nan_count": 0,
                    "min": "0",
                    "max": "0",
                    "histogram": [
                      {
                        "bin_start": -0.5,
                        "bin_end": -0.4,
                        "count": 0
                      },
                      {
                        "bin_start": -0.4,
                        "bin_end": -0.3,
                        "count": 0
                      },
                      {
                        "bin_start": -0.3,
                        "bin_end": -0.19999999999999996,
                        "count": 0
                      },
                      {
                        "bin_start": -0.19999999999999996,
                        "bin_end": -0.09999999999999998,
                        "count": 0
                      },
                      {
                        "bin_start": -0.09999999999999998,
                        "bin_end": 0,
                        "count": 0
                      },
                      {
                        "bin_start": 0,
                        "bin_end": 0.10000000000000009,
                        "count": 10
                      },
                      {
                        "bin_start": 0.10000000000000009,
                        "bin_end": 0.20000000000000007,
                        "count": 0
                      },
                      {
                        "bin_start": 0.20000000000000007,
                        "bin_end": 0.30000000000000004,
                        "count": 0
                      },
                      {
                        "bin_start": 0.30000000000000004,
                        "bin_end": 0.4,
                        "count": 0
                      },
                      {
                        "bin_start": 0.4,
                        "bin_end": 0.5,
                        "count": 0
                      }
                    ]
                  }
                },
                {
                  "name": "windgust",
                  "dtype": "float64",
                  "stats": {
                    "unique_count": 10,
                    "nan_count": 0,
                    "min": "10.8",
                    "max": "42.5",
                    "histogram": [
                      {
                        "bin_start": 10.8,
                        "bin_end": 13.97,
                        "count": 1
                      },
                      {
                        "bin_start": 13.97,
                        "bin_end": 17.14,
                        "count": 1
                      },
                      {
                        "bin_start": 17.14,
                        "bin_end": 20.310000000000002,
                        "count": 1
                      },
                      {
                        "bin_start": 20.310000000000002,
                        "bin_end": 23.48,
                        "count": 4
                      },
                      {
                        "bin_start": 23.48,
                        "bin_end": 26.65,
                        "count": 0
                      },
                      {
                        "bin_start": 26.65,
                        "bin_end": 29.82,
                        "count": 0
                      },
                      {
                        "bin_start": 29.82,
                        "bin_end": 32.989999999999995,
                        "count": 0
                      },
                      {
                        "bin_start": 32.989999999999995,
                        "bin_end": 36.16,
                        "count": 0
                      },
                      {
                        "bin_start": 36.16,
                        "bin_end": 39.33,
                        "count": 2
                      },
                      {
                        "bin_start": 39.33,
                        "bin_end": 42.5,
                        "count": 1
                      }
                    ]
                  }
                },
                {
                  "name": "windspeed",
                  "dtype": "float64",
                  "stats": {
                    "unique_count": 8,
                    "nan_count": 0,
                    "min": "7.6",
                    "max": "26.3",
                    "histogram": [
                      {
                        "bin_start": 7.6,
                        "bin_end": 9.47,
                        "count": 1
                      },
                      {
                        "bin_start": 9.47,
                        "bin_end": 11.34,
                        "count": 4
                      },
                      {
                        "bin_start": 11.34,
                        "bin_end": 13.21,
                        "count": 0
                      },
                      {
                        "bin_start": 13.21,
                        "bin_end": 15.080000000000002,
                        "count": 1
                      },
                      {
                        "bin_start": 15.080000000000002,
                        "bin_end": 16.950000000000003,
                        "count": 1
                      },
                      {
                        "bin_start": 16.950000000000003,
                        "bin_end": 18.82,
                        "count": 0
                      },
                      {
                        "bin_start": 18.82,
                        "bin_end": 20.69,
                        "count": 1
                      },
                      {
                        "bin_start": 20.69,
                        "bin_end": 22.560000000000002,
                        "count": 0
                      },
                      {
                        "bin_start": 22.560000000000002,
                        "bin_end": 24.43,
                        "count": 1
                      },
                      {
                        "bin_start": 24.43,
                        "bin_end": 26.3,
                        "count": 1
                      }
                    ]
                  }
                },
                {
                  "name": "winddir",
                  "dtype": "float64",
                  "stats": {
                    "unique_count": 10,
                    "nan_count": 0,
                    "min": "117.1",
                    "max": "290.6",
                    "histogram": [
                      {
                        "bin_start": 117.1,
                        "bin_end": 134.45,
                        "count": 1
                      },
                      {
                        "bin_start": 134.45,
                        "bin_end": 151.8,
                        "count": 0
                      },
                      {
                        "bin_start": 151.8,
                        "bin_end": 169.15,
                        "count": 0
                      },
                      {
                        "bin_start": 169.15,
                        "bin_end": 186.5,
                        "count": 0
                      },
                      {
                        "bin_start": 186.5,
                        "bin_end": 203.85,
                        "count": 0
                      },
                      {
                        "bin_start": 203.85,
                        "bin_end": 221.2,
                        "count": 0
                      },
                      {
                        "bin_start": 221.2,
                        "bin_end": 238.55,
                        "count": 1
                      },
                      {
                        "bin_start": 238.55,
                        "bin_end": 255.9,
                        "count": 2
                      },
                      {
                        "bin_start": 255.9,
                        "bin_end": 273.25,
                        "count": 2
                      },
                      {
                        "bin_start": 273.25,
                        "bin_end": 290.6,
                        "count": 4
                      }
                    ]
                  }
                },
                {
                  "name": "sealevelpressure",
                  "dtype": "float64",
                  "stats": {
                    "unique_count": 10,
                    "nan_count": 0,
                    "min": "1008.6",
                    "max": "1011.8",
                    "histogram": [
                      {
                        "bin_start": 1008.6,
                        "bin_end": 1008.9200000000001,
                        "count": 3
                      },
                      {
                        "bin_start": 1008.9200000000001,
                        "bin_end": 1009.24,
                        "count": 1
                      },
                      {
                        "bin_start": 1009.24,
                        "bin_end": 1009.56,
                        "count": 0
                      },
                      {
                        "bin_start": 1009.56,
                        "bin_end": 1009.88,
                        "count": 1
                      },
                      {
                        "bin_start": 1009.88,
                        "bin_end": 1010.2,
                        "count": 1
                      },
                      {
                        "bin_start": 1010.2,
                        "bin_end": 1010.52,
                        "count": 0
                      },
                      {
                        "bin_start": 1010.52,
                        "bin_end": 1010.8399999999999,
                        "count": 2
                      },
                      {
                        "bin_start": 1010.8399999999999,
                        "bin_end": 1011.16,
                        "count": 0
                      },
                      {
                        "bin_start": 1011.16,
                        "bin_end": 1011.48,
                        "count": 0
                      },
                      {
                        "bin_start": 1011.48,
                        "bin_end": 1011.8,
                        "count": 2
                      }
                    ]
                  }
                },
                {
                  "name": "cloudcover",
                  "dtype": "float64",
                  "stats": {
                    "unique_count": 10,
                    "nan_count": 0,
                    "min": "73.3",
                    "max": "100.0",
                    "histogram": [
                      {
                        "bin_start": 73.3,
                        "bin_end": 75.97,
                        "count": 1
                      },
                      {
                        "bin_start": 75.97,
                        "bin_end": 78.64,
                        "count": 0
                      },
                      {
                        "bin_start": 78.64,
                        "bin_end": 81.31,
                        "count": 2
                      },
                      {
                        "bin_start": 81.31,
                        "bin_end": 83.98,
                        "count": 0
                      },
                      {
                        "bin_start": 83.98,
                        "bin_end": 86.65,
                        "count": 1
                      },
                      {
                        "bin_start": 86.65,
                        "bin_end": 89.32,
                        "count": 0
                      },
                      {
                        "bin_start": 89.32,
                        "bin_end": 91.99,
                        "count": 1
                      },
                      {
                        "bin_start": 91.99,
                        "bin_end": 94.66,
                        "count": 2
                      },
                      {
                        "bin_start": 94.66,
                        "bin_end": 97.33,
                        "count": 2
                      },
                      {
                        "bin_start": 97.33,
                        "bin_end": 100,
                        "count": 1
                      }
                    ]
                  }
                },
                {
                  "name": "visibility",
                  "dtype": "float64",
                  "stats": {
                    "unique_count": 8,
                    "nan_count": 0,
                    "min": "7.5",
                    "max": "22.9",
                    "histogram": [
                      {
                        "bin_start": 7.5,
                        "bin_end": 9.04,
                        "count": 6
                      },
                      {
                        "bin_start": 9.04,
                        "bin_end": 10.58,
                        "count": 0
                      },
                      {
                        "bin_start": 10.58,
                        "bin_end": 12.12,
                        "count": 0
                      },
                      {
                        "bin_start": 12.12,
                        "bin_end": 13.66,
                        "count": 0
                      },
                      {
                        "bin_start": 13.66,
                        "bin_end": 15.2,
                        "count": 0
                      },
                      {
                        "bin_start": 15.2,
                        "bin_end": 16.74,
                        "count": 1
                      },
                      {
                        "bin_start": 16.74,
                        "bin_end": 18.28,
                        "count": 1
                      },
                      {
                        "bin_start": 18.28,
                        "bin_end": 19.82,
                        "count": 1
                      },
                      {
                        "bin_start": 19.82,
                        "bin_end": 21.36,
                        "count": 0
                      },
                      {
                        "bin_start": 21.36,
                        "bin_end": 22.9,
                        "count": 1
                      }
                    ]
                  }
                },
                {
                  "name": "solarradiation",
                  "dtype": "float64",
                  "stats": {
                    "unique_count": 10,
                    "nan_count": 0,
                    "min": "39.8",
                    "max": "298.1",
                    "histogram": [
                      {
                        "bin_start": 39.8,
                        "bin_end": 65.63,
                        "count": 1
                      },
                      {
                        "bin_start": 65.63,
                        "bin_end": 91.46000000000001,
                        "count": 1
                      },
                      {
                        "bin_start": 91.46000000000001,
                        "bin_end": 117.29,
                        "count": 1
                      },
                      {
                        "bin_start": 117.29,
                        "bin_end": 143.12,
                        "count": 1
                      },
                      {
                        "bin_start": 143.12,
                        "bin_end": 168.95,
                        "count": 2
                      },
                      {
                        "bin_start": 168.95,
                        "bin_end": 194.78000000000003,
                        "count": 1
                      },
                      {
                        "bin_start": 194.78000000000003,
                        "bin_end": 220.61,
                        "count": 2
                      },
                      {
                        "bin_start": 220.61,
                        "bin_end": 246.44,
                        "count": 0
                      },
                      {
                        "bin_start": 246.44,
                        "bin_end": 272.27000000000004,
                        "count": 0
                      },
                      {
                        "bin_start": 272.27000000000004,
                        "bin_end": 298.1,
                        "count": 1
                      }
                    ]
                  }
                },
                {
                  "name": "solarenergy",
                  "dtype": "float64",
                  "stats": {
                    "unique_count": 10,
                    "nan_count": 0,
                    "min": "3.4",
                    "max": "25.8",
                    "histogram": [
                      {
                        "bin_start": 3.4,
                        "bin_end": 5.640000000000001,
                        "count": 1
                      },
                      {
                        "bin_start": 5.640000000000001,
                        "bin_end": 7.880000000000001,
                        "count": 1
                      },
                      {
                        "bin_start": 7.880000000000001,
                        "bin_end": 10.120000000000001,
                        "count": 1
                      },
                      {
                        "bin_start": 10.120000000000001,
                        "bin_end": 12.360000000000001,
                        "count": 1
                      },
                      {
                        "bin_start": 12.360000000000001,
                        "bin_end": 14.600000000000001,
                        "count": 2
                      },
                      {
                        "bin_start": 14.600000000000001,
                        "bin_end": 16.84,
                        "count": 1
                      },
                      {
                        "bin_start": 16.84,
                        "bin_end": 19.080000000000002,
                        "count": 2
                      },
                      {
                        "bin_start": 19.080000000000002,
                        "bin_end": 21.32,
                        "count": 0
                      },
                      {
                        "bin_start": 21.32,
                        "bin_end": 23.560000000000002,
                        "count": 0
                      },
                      {
                        "bin_start": 23.560000000000002,
                        "bin_end": 25.8,
                        "count": 1
                      }
                    ]
                  }
                },
                {
                  "name": "uvindex",
                  "dtype": "int64",
                  "stats": {
                    "unique_count": 7,
                    "nan_count": 0,
                    "min": "2",
                    "max": "10",
                    "histogram": [
                      {
                        "bin_start": 2,
                        "bin_end": 2.8,
                        "count": 1
                      },
                      {
                        "bin_start": 2.8,
                        "bin_end": 3.6,
                        "count": 0
                      },
                      {
                        "bin_start": 3.6,
                        "bin_end": 4.4,
                        "count": 1
                      },
                      {
                        "bin_start": 4.4,
                        "bin_end": 5.2,
                        "count": 0
                      },
                      {
                        "bin_start": 5.2,
                        "bin_end": 6,
                        "count": 0
                      },
                      {
                        "bin_start": 6,
                        "bin_end": 6.800000000000001,
                        "count": 3
                      },
                      {
                        "bin_start": 6.800000000000001,
                        "bin_end": 7.6000000000000005,
                        "count": 1
                      },
                      {
                        "bin_start": 7.6000000000000005,
                        "bin_end": 8.4,
                        "count": 2
                      },
                      {
                        "bin_start": 8.4,
                        "bin_end": 9.2,
                        "count": 1
                      },
                      {
                        "bin_start": 9.2,
                        "bin_end": 10,
                        "count": 1
                      }
                    ]
                  }
                },
                {
                  "name": "severerisk",
                  "dtype": "int64",
                  "stats": {
                    "unique_count": 2,
                    "nan_count": 0,
                    "min": "10",
                    "max": "30",
                    "histogram": [
                      {
                        "bin_start": 10,
                        "bin_end": 12,
                        "count": 5
                      },
                      {
                        "bin_start": 12,
                        "bin_end": 14,
                        "count": 0
                      },
                      {
                        "bin_start": 14,
                        "bin_end": 16,
                        "count": 0
                      },
                      {
                        "bin_start": 16,
                        "bin_end": 18,
                        "count": 0
                      },
                      {
                        "bin_start": 18,
                        "bin_end": 20,
                        "count": 0
                      },
                      {
                        "bin_start": 20,
                        "bin_end": 22,
                        "count": 0
                      },
                      {
                        "bin_start": 22,
                        "bin_end": 24,
                        "count": 0
                      },
                      {
                        "bin_start": 24,
                        "bin_end": 26,
                        "count": 0
                      },
                      {
                        "bin_start": 26,
                        "bin_end": 28,
                        "count": 0
                      },
                      {
                        "bin_start": 28,
                        "bin_end": 30,
                        "count": 5
                      }
                    ]
                  }
                },
                {
                  "name": "sunrise",
                  "dtype": "object",
                  "stats": {
                    "unique_count": 10,
                    "nan_count": 0,
                    "categories": [
                      {
                        "name": "2024-12-22T05:22:53",
                        "count": 1
                      },
                      {
                        "name": "2024-12-23T05:23:23",
                        "count": 1
                      },
                      {
                        "name": "8 others",
                        "count": 8
                      }
                    ]
                  }
                },
                {
                  "name": "sunset",
                  "dtype": "object",
                  "stats": {
                    "unique_count": 10,
                    "nan_count": 0,
                    "categories": [
                      {
                        "name": "2024-12-22T17:57:05",
                        "count": 1
                      },
                      {
                        "name": "2024-12-23T17:57:35",
                        "count": 1
                      },
                      {
                        "name": "8 others",
                        "count": 8
                      }
                    ]
                  }
                },
                {
                  "name": "moonphase",
                  "dtype": "float64",
                  "stats": {
                    "unique_count": 10,
                    "nan_count": 0,
                    "min": "0.0",
                    "max": "0.98",
                    "histogram": [
                      {
                        "bin_start": 0,
                        "bin_end": 0.098,
                        "count": 1
                      },
                      {
                        "bin_start": 0.098,
                        "bin_end": 0.196,
                        "count": 0
                      },
                      {
                        "bin_start": 0.196,
                        "bin_end": 0.29400000000000004,
                        "count": 0
                      },
                      {
                        "bin_start": 0.29400000000000004,
                        "bin_end": 0.392,
                        "count": 0
                      },
                      {
                        "bin_start": 0.392,
                        "bin_end": 0.49,
                        "count": 0
                      },
                      {
                        "bin_start": 0.49,
                        "bin_end": 0.5880000000000001,
                        "count": 0
                      },
                      {
                        "bin_start": 0.5880000000000001,
                        "bin_end": 0.686,
                        "count": 0
                      },
                      {
                        "bin_start": 0.686,
                        "bin_end": 0.784,
                        "count": 3
                      },
                      {
                        "bin_start": 0.784,
                        "bin_end": 0.882,
                        "count": 3
                      },
                      {
                        "bin_start": 0.882,
                        "bin_end": 0.98,
                        "count": 3
                      }
                    ]
                  }
                },
                {
                  "name": "conditions",
                  "dtype": "object",
                  "stats": {
                    "unique_count": 3,
                    "nan_count": 0,
                    "categories": [
                      {
                        "name": "Rain, Overcast",
                        "count": 5
                      },
                      {
                        "name": "Rain, Partially cloudy",
                        "count": 4
                      },
                      {
                        "name": "Partially cloudy",
                        "count": 1
                      }
                    ]
                  }
                },
                {
                  "name": "description",
                  "dtype": "object",
                  "stats": {
                    "unique_count": 6,
                    "nan_count": 0,
                    "categories": [
                      {
                        "name": "Cloudy skies throughout the day with a chance of rain throughout the day.",
                        "count": 3
                      },
                      {
                        "name": "Partly cloudy throughout the day with late afternoon rain.",
                        "count": 2
                      },
                      {
                        "name": "4 others",
                        "count": 5
                      }
                    ]
                  }
                },
                {
                  "name": "icon",
                  "dtype": "object",
                  "stats": {
                    "unique_count": 2,
                    "nan_count": 0,
                    "categories": [
                      {
                        "name": "rain",
                        "count": 9
                      },
                      {
                        "name": "partly-cloudy-day",
                        "count": 1
                      }
                    ]
                  }
                },
                {
                  "name": "stations",
                  "dtype": "object",
                  "stats": {
                    "unique_count": 3,
                    "nan_count": 0,
                    "categories": [
                      {
                        "name": "96805099999",
                        "count": 6
                      },
                      {
                        "name": "remote",
                        "count": 3
                      },
                      {
                        "name": "96805099999,remote",
                        "count": 1
                      }
                    ]
                  }
                },
                {
                  "name": "_deepnote_index_column",
                  "dtype": "int64"
                }
              ],
              "rows": [
                {
                  "name": "Kebumen",
                  "datetime": "2024-12-22",
                  "tempmax": 32.7,
                  "tempmin": 25.9,
                  "temp": 28,
                  "feelslikemax": 41.1,
                  "feelslikemin": 25.9,
                  "feelslike": 30.6,
                  "dew": 24.8,
                  "humidity": 83.5,
                  "precip": 23,
                  "precipprob": 100,
                  "precipcover": 4.17,
                  "preciptype": "rain",
                  "snow": 0,
                  "snowdepth": 0,
                  "windgust": 21.6,
                  "windspeed": 11.2,
                  "winddir": 117.1,
                  "sealevelpressure": 1009,
                  "cloudcover": 90,
                  "visibility": 7.9,
                  "solarradiation": 212.7,
                  "solarenergy": 18.4,
                  "uvindex": 8,
                  "severerisk": 30,
                  "sunrise": "2024-12-22T05:22:53",
                  "sunset": "2024-12-22T17:57:05",
                  "moonphase": 0.72,
                  "conditions": "Rain, Partially cloudy",
                  "description": "Partly cloudy throughout the day with late afternoon rain.",
                  "icon": "rain",
                  "stations": "96805099999",
                  "_deepnote_index_column": 721
                },
                {
                  "name": "Kebumen",
                  "datetime": "2024-12-23",
                  "tempmax": 32.7,
                  "tempmin": 25.1,
                  "temp": 27.8,
                  "feelslikemax": 40.3,
                  "feelslikemin": 25.1,
                  "feelslike": 30.8,
                  "dew": 24.7,
                  "humidity": 84.1,
                  "precip": 71,
                  "precipprob": 100,
                  "precipcover": 4.17,
                  "preciptype": "rain",
                  "snow": 0,
                  "snowdepth": 0,
                  "windgust": 23,
                  "windspeed": 11.2,
                  "winddir": 230.4,
                  "sealevelpressure": 1008.6,
                  "cloudcover": 81.3,
                  "visibility": 8.5,
                  "solarradiation": 215.6,
                  "solarenergy": 18.6,
                  "uvindex": 9,
                  "severerisk": 30,
                  "sunrise": "2024-12-23T05:23:23",
                  "sunset": "2024-12-23T17:57:35",
                  "moonphase": 0.75,
                  "conditions": "Rain, Partially cloudy",
                  "description": "Partly cloudy throughout the day with late afternoon rain.",
                  "icon": "rain",
                  "stations": "96805099999",
                  "_deepnote_index_column": 722
                },
                {
                  "name": "Kebumen",
                  "datetime": "2024-12-24",
                  "tempmax": 31.1,
                  "tempmin": 25.1,
                  "temp": 26.8,
                  "feelslikemax": 38,
                  "feelslikemin": 25.1,
                  "feelslike": 28.7,
                  "dew": 24.7,
                  "humidity": 88.9,
                  "precip": 5.6,
                  "precipprob": 100,
                  "precipcover": 20.83,
                  "preciptype": "rain",
                  "snow": 0,
                  "snowdepth": 0,
                  "windgust": 22.3,
                  "windspeed": 14.8,
                  "winddir": 280.5,
                  "sealevelpressure": 1008.9,
                  "cloudcover": 96.3,
                  "visibility": 7.5,
                  "solarradiation": 90.2,
                  "solarenergy": 7.7,
                  "uvindex": 4,
                  "severerisk": 30,
                  "sunrise": "2024-12-24T05:23:53",
                  "sunset": "2024-12-24T17:58:04",
                  "moonphase": 0.78,
                  "conditions": "Rain, Overcast",
                  "description": "Cloudy skies throughout the day with rain.",
                  "icon": "rain",
                  "stations": "96805099999",
                  "_deepnote_index_column": 723
                },
                {
                  "name": "Kebumen",
                  "datetime": "2024-12-25",
                  "tempmax": 32.4,
                  "tempmin": 25.1,
                  "temp": 27.7,
                  "feelslikemax": 39.9,
                  "feelslikemin": 25.1,
                  "feelslike": 30.5,
                  "dew": 24.7,
                  "humidity": 84.6,
                  "precip": 22.2,
                  "precipprob": 100,
                  "precipcover": 12.5,
                  "preciptype": "rain",
                  "snow": 0,
                  "snowdepth": 0,
                  "windgust": 22.7,
                  "windspeed": 20.5,
                  "winddir": 243.9,
                  "sealevelpressure": 1010.1,
                  "cloudcover": 85.4,
                  "visibility": 8,
                  "solarradiation": 168.1,
                  "solarenergy": 14.5,
                  "uvindex": 8,
                  "severerisk": 10,
                  "sunrise": "2024-12-25T05:24:24",
                  "sunset": "2024-12-25T17:58:32",
                  "moonphase": 0.82,
                  "conditions": "Rain, Partially cloudy",
                  "description": "Partly cloudy throughout the day with rain.",
                  "icon": "rain",
                  "stations": "96805099999",
                  "_deepnote_index_column": 724
                },
                {
                  "name": "Kebumen",
                  "datetime": "2024-12-26",
                  "tempmax": 29.4,
                  "tempmin": 25.1,
                  "temp": 26.8,
                  "feelslikemax": 35.3,
                  "feelslikemin": 25.1,
                  "feelslike": 28.8,
                  "dew": 24.4,
                  "humidity": 86.9,
                  "precip": 1.1,
                  "precipprob": 100,
                  "precipcover": 16.67,
                  "preciptype": "rain",
                  "snow": 0,
                  "snowdepth": 0,
                  "windgust": 38.9,
                  "windspeed": 16.6,
                  "winddir": 268.8,
                  "sealevelpressure": 1011.8,
                  "cloudcover": 92.5,
                  "visibility": 8,
                  "solarradiation": 147.4,
                  "solarenergy": 12.7,
                  "uvindex": 7,
                  "severerisk": 30,
                  "sunrise": "2024-12-26T05:24:55",
                  "sunset": "2024-12-26T17:59:00",
                  "moonphase": 0.85,
                  "conditions": "Rain, Overcast",
                  "description": "Cloudy skies throughout the day with a chance of rain throughout the day.",
                  "icon": "rain",
                  "stations": "96805099999",
                  "_deepnote_index_column": 725
                },
                {
                  "name": "Kebumen",
                  "datetime": "2024-12-27",
                  "tempmax": 32.7,
                  "tempmin": 25.1,
                  "temp": 28.5,
                  "feelslikemax": 39.5,
                  "feelslikemin": 25.1,
                  "feelslike": 32.2,
                  "dew": 24.9,
                  "humidity": 81.7,
                  "precip": 0,
                  "precipprob": 0,
                  "precipcover": 0,
                  "preciptype": "rain",
                  "snow": 0,
                  "snowdepth": 0,
                  "windgust": 19.8,
                  "windspeed": 11.2,
                  "winddir": 249.3,
                  "sealevelpressure": 1011.5,
                  "cloudcover": 73.3,
                  "visibility": 8.5,
                  "solarradiation": 182.6,
                  "solarenergy": 15.6,
                  "uvindex": 6,
                  "severerisk": 10,
                  "sunrise": "2024-12-27T05:25:26",
                  "sunset": "2024-12-27T17:59:28",
                  "moonphase": 0.88,
                  "conditions": "Partially cloudy",
                  "description": "Partly cloudy throughout the day.",
                  "icon": "partly-cloudy-day",
                  "stations": "96805099999",
                  "_deepnote_index_column": 726
                },
                {
                  "name": "Kebumen",
                  "datetime": "2024-12-28",
                  "tempmax": 27.8,
                  "tempmin": 25.4,
                  "temp": 26.6,
                  "feelslikemax": 32.5,
                  "feelslikemin": 25.4,
                  "feelslike": 28.4,
                  "dew": 23.6,
                  "humidity": 83.9,
                  "precip": 10.4,
                  "precipprob": 100,
                  "precipcover": 54.17,
                  "preciptype": "rain",
                  "snow": 0,
                  "snowdepth": 0,
                  "windgust": 16.9,
                  "windspeed": 10.8,
                  "winddir": 290.6,
                  "sealevelpressure": 1010.7,
                  "cloudcover": 93.8,
                  "visibility": 18.4,
                  "solarradiation": 96.5,
                  "solarenergy": 8.1,
                  "uvindex": 6,
                  "severerisk": 30,
                  "sunrise": "2024-12-28T05:25:57",
                  "sunset": "2024-12-28T17:59:55",
                  "moonphase": 0.91,
                  "conditions": "Rain, Overcast",
                  "description": "Cloudy skies throughout the day with a chance of rain throughout the day.",
                  "icon": "rain",
                  "stations": "96805099999,remote",
                  "_deepnote_index_column": 727
                },
                {
                  "name": "Kebumen",
                  "datetime": "2024-12-29",
                  "tempmax": 26.2,
                  "tempmin": 25,
                  "temp": 25.5,
                  "feelslikemax": 26.2,
                  "feelslikemin": 25,
                  "feelslike": 25.5,
                  "dew": 22.5,
                  "humidity": 83.7,
                  "precip": 1.6,
                  "precipprob": 100,
                  "precipcover": 33.33,
                  "preciptype": "rain",
                  "snow": 0,
                  "snowdepth": 0,
                  "windgust": 10.8,
                  "windspeed": 7.6,
                  "winddir": 274.1,
                  "sealevelpressure": 1010.6,
                  "cloudcover": 100,
                  "visibility": 22.9,
                  "solarradiation": 39.8,
                  "solarenergy": 3.4,
                  "uvindex": 2,
                  "severerisk": 10,
                  "sunrise": "2024-12-29T05:26:28",
                  "sunset": "2024-12-29T18:00:22",
                  "moonphase": 0.94,
                  "conditions": "Rain, Overcast",
                  "description": "Cloudy skies throughout the day with a chance of rain throughout the day.",
                  "icon": "rain",
                  "stations": "remote",
                  "_deepnote_index_column": 728
                },
                {
                  "name": "Kebumen",
                  "datetime": "2024-12-30",
                  "tempmax": 29.6,
                  "tempmin": 24.5,
                  "temp": 26.7,
                  "feelslikemax": 33.6,
                  "feelslikemin": 24.5,
                  "feelslike": 28.2,
                  "dew": 22.6,
                  "humidity": 78.3,
                  "precip": 14.2,
                  "precipprob": 100,
                  "precipcover": 54.17,
                  "preciptype": "rain",
                  "snow": 0,
                  "snowdepth": 0,
                  "windgust": 36.4,
                  "windspeed": 23.8,
                  "winddir": 266,
                  "sealevelpressure": 1009.7,
                  "cloudcover": 79.2,
                  "visibility": 17,
                  "solarradiation": 298.1,
                  "solarenergy": 25.8,
                  "uvindex": 10,
                  "severerisk": 10,
                  "sunrise": "2024-12-30T05:27:00",
                  "sunset": "2024-12-30T18:00:48",
                  "moonphase": 0.98,
                  "conditions": "Rain, Partially cloudy",
                  "description": "Partly cloudy throughout the day with a chance of rain throughout the day.",
                  "icon": "rain",
                  "stations": "remote",
                  "_deepnote_index_column": 729
                },
                {
                  "name": "Kebumen",
                  "datetime": "2024-12-31",
                  "tempmax": 28.4,
                  "tempmin": 24,
                  "temp": 26.1,
                  "feelslikemax": 31.7,
                  "feelslikemin": 24,
                  "feelslike": 27,
                  "dew": 23,
                  "humidity": 83.5,
                  "precip": 14.5,
                  "precipprob": 100,
                  "precipcover": 58.33,
                  "preciptype": "rain",
                  "snow": 0,
                  "snowdepth": 0,
                  "windgust": 42.5,
                  "windspeed": 26.3,
                  "winddir": 282,
                  "sealevelpressure": 1008.8,
                  "cloudcover": 96.2,
                  "visibility": 16.6,
                  "solarradiation": 127.7,
                  "solarenergy": 10.9,
                  "uvindex": 6,
                  "severerisk": 10,
                  "sunrise": "2024-12-31T05:27:31",
                  "sunset": "2024-12-31T18:01:14",
                  "moonphase": 0,
                  "conditions": "Rain, Overcast",
                  "description": "Cloudy skies throughout the day with rain.",
                  "icon": "rain",
                  "stations": "remote",
                  "_deepnote_index_column": 730
                }
              ]
            },
            "text/plain": "        name    datetime  tempmax  tempmin  temp  feelslikemax  feelslikemin  \\\n721  Kebumen  2024-12-22     32.7     25.9  28.0          41.1          25.9   \n722  Kebumen  2024-12-23     32.7     25.1  27.8          40.3          25.1   \n723  Kebumen  2024-12-24     31.1     25.1  26.8          38.0          25.1   \n724  Kebumen  2024-12-25     32.4     25.1  27.7          39.9          25.1   \n725  Kebumen  2024-12-26     29.4     25.1  26.8          35.3          25.1   \n726  Kebumen  2024-12-27     32.7     25.1  28.5          39.5          25.1   \n727  Kebumen  2024-12-28     27.8     25.4  26.6          32.5          25.4   \n728  Kebumen  2024-12-29     26.2     25.0  25.5          26.2          25.0   \n729  Kebumen  2024-12-30     29.6     24.5  26.7          33.6          24.5   \n730  Kebumen  2024-12-31     28.4     24.0  26.1          31.7          24.0   \n\n     feelslike   dew  humidity  ...  solarenergy  uvindex  severerisk  \\\n721       30.6  24.8      83.5  ...         18.4        8          30   \n722       30.8  24.7      84.1  ...         18.6        9          30   \n723       28.7  24.7      88.9  ...          7.7        4          30   \n724       30.5  24.7      84.6  ...         14.5        8          10   \n725       28.8  24.4      86.9  ...         12.7        7          30   \n726       32.2  24.9      81.7  ...         15.6        6          10   \n727       28.4  23.6      83.9  ...          8.1        6          30   \n728       25.5  22.5      83.7  ...          3.4        2          10   \n729       28.2  22.6      78.3  ...         25.8       10          10   \n730       27.0  23.0      83.5  ...         10.9        6          10   \n\n                 sunrise               sunset  moonphase  \\\n721  2024-12-22T05:22:53  2024-12-22T17:57:05       0.72   \n722  2024-12-23T05:23:23  2024-12-23T17:57:35       0.75   \n723  2024-12-24T05:23:53  2024-12-24T17:58:04       0.78   \n724  2024-12-25T05:24:24  2024-12-25T17:58:32       0.82   \n725  2024-12-26T05:24:55  2024-12-26T17:59:00       0.85   \n726  2024-12-27T05:25:26  2024-12-27T17:59:28       0.88   \n727  2024-12-28T05:25:57  2024-12-28T17:59:55       0.91   \n728  2024-12-29T05:26:28  2024-12-29T18:00:22       0.94   \n729  2024-12-30T05:27:00  2024-12-30T18:00:48       0.98   \n730  2024-12-31T05:27:31  2024-12-31T18:01:14       0.00   \n\n                 conditions  \\\n721  Rain, Partially cloudy   \n722  Rain, Partially cloudy   \n723          Rain, Overcast   \n724  Rain, Partially cloudy   \n725          Rain, Overcast   \n726        Partially cloudy   \n727          Rain, Overcast   \n728          Rain, Overcast   \n729  Rain, Partially cloudy   \n730          Rain, Overcast   \n\n                                           description               icon  \\\n721  Partly cloudy throughout the day with late aft...               rain   \n722  Partly cloudy throughout the day with late aft...               rain   \n723         Cloudy skies throughout the day with rain.               rain   \n724        Partly cloudy throughout the day with rain.               rain   \n725  Cloudy skies throughout the day with a chance ...               rain   \n726                  Partly cloudy throughout the day.  partly-cloudy-day   \n727  Cloudy skies throughout the day with a chance ...               rain   \n728  Cloudy skies throughout the day with a chance ...               rain   \n729  Partly cloudy throughout the day with a chance...               rain   \n730         Cloudy skies throughout the day with rain.               rain   \n\n               stations  \n721         96805099999  \n722         96805099999  \n723         96805099999  \n724         96805099999  \n725         96805099999  \n726         96805099999  \n727  96805099999,remote  \n728              remote  \n729              remote  \n730              remote  \n\n[10 rows x 33 columns]",
            "text/html": "<div>\n<style scoped>\n    .dataframe tbody tr th:only-of-type {\n        vertical-align: middle;\n    }\n\n    .dataframe tbody tr th {\n        vertical-align: top;\n    }\n\n    .dataframe thead th {\n        text-align: right;\n    }\n</style>\n<table border=\"1\" class=\"dataframe\">\n  <thead>\n    <tr style=\"text-align: right;\">\n      <th></th>\n      <th>name</th>\n      <th>datetime</th>\n      <th>tempmax</th>\n      <th>tempmin</th>\n      <th>temp</th>\n      <th>feelslikemax</th>\n      <th>feelslikemin</th>\n      <th>feelslike</th>\n      <th>dew</th>\n      <th>humidity</th>\n      <th>...</th>\n      <th>solarenergy</th>\n      <th>uvindex</th>\n      <th>severerisk</th>\n      <th>sunrise</th>\n      <th>sunset</th>\n      <th>moonphase</th>\n      <th>conditions</th>\n      <th>description</th>\n      <th>icon</th>\n      <th>stations</th>\n    </tr>\n  </thead>\n  <tbody>\n    <tr>\n      <th>721</th>\n      <td>Kebumen</td>\n      <td>2024-12-22</td>\n      <td>32.7</td>\n      <td>25.9</td>\n      <td>28.0</td>\n      <td>41.1</td>\n      <td>25.9</td>\n      <td>30.6</td>\n      <td>24.8</td>\n      <td>83.5</td>\n      <td>...</td>\n      <td>18.4</td>\n      <td>8</td>\n      <td>30</td>\n      <td>2024-12-22T05:22:53</td>\n      <td>2024-12-22T17:57:05</td>\n      <td>0.72</td>\n      <td>Rain, Partially cloudy</td>\n      <td>Partly cloudy throughout the day with late aft...</td>\n      <td>rain</td>\n      <td>96805099999</td>\n    </tr>\n    <tr>\n      <th>722</th>\n      <td>Kebumen</td>\n      <td>2024-12-23</td>\n      <td>32.7</td>\n      <td>25.1</td>\n      <td>27.8</td>\n      <td>40.3</td>\n      <td>25.1</td>\n      <td>30.8</td>\n      <td>24.7</td>\n      <td>84.1</td>\n      <td>...</td>\n      <td>18.6</td>\n      <td>9</td>\n      <td>30</td>\n      <td>2024-12-23T05:23:23</td>\n      <td>2024-12-23T17:57:35</td>\n      <td>0.75</td>\n      <td>Rain, Partially cloudy</td>\n      <td>Partly cloudy throughout the day with late aft...</td>\n      <td>rain</td>\n      <td>96805099999</td>\n    </tr>\n    <tr>\n      <th>723</th>\n      <td>Kebumen</td>\n      <td>2024-12-24</td>\n      <td>31.1</td>\n      <td>25.1</td>\n      <td>26.8</td>\n      <td>38.0</td>\n      <td>25.1</td>\n      <td>28.7</td>\n      <td>24.7</td>\n      <td>88.9</td>\n      <td>...</td>\n      <td>7.7</td>\n      <td>4</td>\n      <td>30</td>\n      <td>2024-12-24T05:23:53</td>\n      <td>2024-12-24T17:58:04</td>\n      <td>0.78</td>\n      <td>Rain, Overcast</td>\n      <td>Cloudy skies throughout the day with rain.</td>\n      <td>rain</td>\n      <td>96805099999</td>\n    </tr>\n    <tr>\n      <th>724</th>\n      <td>Kebumen</td>\n      <td>2024-12-25</td>\n      <td>32.4</td>\n      <td>25.1</td>\n      <td>27.7</td>\n      <td>39.9</td>\n      <td>25.1</td>\n      <td>30.5</td>\n      <td>24.7</td>\n      <td>84.6</td>\n      <td>...</td>\n      <td>14.5</td>\n      <td>8</td>\n      <td>10</td>\n      <td>2024-12-25T05:24:24</td>\n      <td>2024-12-25T17:58:32</td>\n      <td>0.82</td>\n      <td>Rain, Partially cloudy</td>\n      <td>Partly cloudy throughout the day with rain.</td>\n      <td>rain</td>\n      <td>96805099999</td>\n    </tr>\n    <tr>\n      <th>725</th>\n      <td>Kebumen</td>\n      <td>2024-12-26</td>\n      <td>29.4</td>\n      <td>25.1</td>\n      <td>26.8</td>\n      <td>35.3</td>\n      <td>25.1</td>\n      <td>28.8</td>\n      <td>24.4</td>\n      <td>86.9</td>\n      <td>...</td>\n      <td>12.7</td>\n      <td>7</td>\n      <td>30</td>\n      <td>2024-12-26T05:24:55</td>\n      <td>2024-12-26T17:59:00</td>\n      <td>0.85</td>\n      <td>Rain, Overcast</td>\n      <td>Cloudy skies throughout the day with a chance ...</td>\n      <td>rain</td>\n      <td>96805099999</td>\n    </tr>\n    <tr>\n      <th>726</th>\n      <td>Kebumen</td>\n      <td>2024-12-27</td>\n      <td>32.7</td>\n      <td>25.1</td>\n      <td>28.5</td>\n      <td>39.5</td>\n      <td>25.1</td>\n      <td>32.2</td>\n      <td>24.9</td>\n      <td>81.7</td>\n      <td>...</td>\n      <td>15.6</td>\n      <td>6</td>\n      <td>10</td>\n      <td>2024-12-27T05:25:26</td>\n      <td>2024-12-27T17:59:28</td>\n      <td>0.88</td>\n      <td>Partially cloudy</td>\n      <td>Partly cloudy throughout the day.</td>\n      <td>partly-cloudy-day</td>\n      <td>96805099999</td>\n    </tr>\n    <tr>\n      <th>727</th>\n      <td>Kebumen</td>\n      <td>2024-12-28</td>\n      <td>27.8</td>\n      <td>25.4</td>\n      <td>26.6</td>\n      <td>32.5</td>\n      <td>25.4</td>\n      <td>28.4</td>\n      <td>23.6</td>\n      <td>83.9</td>\n      <td>...</td>\n      <td>8.1</td>\n      <td>6</td>\n      <td>30</td>\n      <td>2024-12-28T05:25:57</td>\n      <td>2024-12-28T17:59:55</td>\n      <td>0.91</td>\n      <td>Rain, Overcast</td>\n      <td>Cloudy skies throughout the day with a chance ...</td>\n      <td>rain</td>\n      <td>96805099999,remote</td>\n    </tr>\n    <tr>\n      <th>728</th>\n      <td>Kebumen</td>\n      <td>2024-12-29</td>\n      <td>26.2</td>\n      <td>25.0</td>\n      <td>25.5</td>\n      <td>26.2</td>\n      <td>25.0</td>\n      <td>25.5</td>\n      <td>22.5</td>\n      <td>83.7</td>\n      <td>...</td>\n      <td>3.4</td>\n      <td>2</td>\n      <td>10</td>\n      <td>2024-12-29T05:26:28</td>\n      <td>2024-12-29T18:00:22</td>\n      <td>0.94</td>\n      <td>Rain, Overcast</td>\n      <td>Cloudy skies throughout the day with a chance ...</td>\n      <td>rain</td>\n      <td>remote</td>\n    </tr>\n    <tr>\n      <th>729</th>\n      <td>Kebumen</td>\n      <td>2024-12-30</td>\n      <td>29.6</td>\n      <td>24.5</td>\n      <td>26.7</td>\n      <td>33.6</td>\n      <td>24.5</td>\n      <td>28.2</td>\n      <td>22.6</td>\n      <td>78.3</td>\n      <td>...</td>\n      <td>25.8</td>\n      <td>10</td>\n      <td>10</td>\n      <td>2024-12-30T05:27:00</td>\n      <td>2024-12-30T18:00:48</td>\n      <td>0.98</td>\n      <td>Rain, Partially cloudy</td>\n      <td>Partly cloudy throughout the day with a chance...</td>\n      <td>rain</td>\n      <td>remote</td>\n    </tr>\n    <tr>\n      <th>730</th>\n      <td>Kebumen</td>\n      <td>2024-12-31</td>\n      <td>28.4</td>\n      <td>24.0</td>\n      <td>26.1</td>\n      <td>31.7</td>\n      <td>24.0</td>\n      <td>27.0</td>\n      <td>23.0</td>\n      <td>83.5</td>\n      <td>...</td>\n      <td>10.9</td>\n      <td>6</td>\n      <td>10</td>\n      <td>2024-12-31T05:27:31</td>\n      <td>2024-12-31T18:01:14</td>\n      <td>0.00</td>\n      <td>Rain, Overcast</td>\n      <td>Cloudy skies throughout the day with rain.</td>\n      <td>rain</td>\n      <td>remote</td>\n    </tr>\n  </tbody>\n</table>\n<p>10 rows × 33 columns</p>\n</div>"
          },
          "metadata": {}
        }
      ],
      "outputs_reference": null,
      "execution_count": 5,
      "block_group": "224b97a7d2214e299e04cce845507432",
      "content_dependencies": null
    },
    {
      "cell_type": "code",
      "source": "data3 = pd.concat([data1, data2], ignore_index=True)\n\ndata3",
      "metadata": {
        "source_hash": "6493e981",
        "execution_start": 1736072609771,
        "execution_millis": 39,
        "deepnote_table_state": {
          "sortBy": [],
          "filters": [],
          "pageSize": 10,
          "pageIndex": 1712,
          "columnOrder": [
            "name",
            "datetime",
            "tempmax",
            "tempmin",
            "temp",
            "feelslikemax",
            "feelslikemin",
            "feelslike",
            "dew",
            "humidity",
            "precip",
            "precipprob",
            "precipcover",
            "preciptype",
            "snow",
            "snowdepth",
            "windgust",
            "windspeed",
            "winddir",
            "sealevelpressure",
            "cloudcover",
            "visibility",
            "solarradiation",
            "solarenergy",
            "uvindex",
            "severerisk",
            "sunrise",
            "sunset",
            "moonphase",
            "conditions",
            "description",
            "icon",
            "stations"
          ],
          "hiddenColumnIds": [],
          "columnDisplayNames": [],
          "conditionalFilters": [],
          "cellFormattingRules": [],
          "wrappedTextColumnIds": []
        },
        "execution_context_id": "b89841ec-5496-487c-91f1-5166d5407ab7",
        "deepnote_table_loading": false,
        "cell_id": "afe955ed220241d2a200c24c70a51c73",
        "deepnote_cell_type": "code"
      },
      "outputs": [
        {
          "output_type": "execute_result",
          "execution_count": 6,
          "data": {
            "application/vnd.deepnote.dataframe.v3+json": {
              "column_count": 33,
              "row_count": 17121,
              "columns": [
                {
                  "name": "name",
                  "dtype": "object",
                  "stats": {
                    "unique_count": 2,
                    "nan_count": 0,
                    "categories": [
                      {
                        "name": "Kebumen, Indonesia",
                        "count": 16390
                      },
                      {
                        "name": "Kebumen",
                        "count": 731
                      }
                    ]
                  }
                },
                {
                  "name": "datetime",
                  "dtype": "object",
                  "stats": {
                    "unique_count": 17121,
                    "nan_count": 0,
                    "categories": [
                      {
                        "name": "1978-02-16",
                        "count": 1
                      },
                      {
                        "name": "1978-02-17",
                        "count": 1
                      },
                      {
                        "name": "17119 others",
                        "count": 17119
                      }
                    ]
                  }
                },
                {
                  "name": "tempmax",
                  "dtype": "float64",
                  "stats": {
                    "unique_count": 120,
                    "nan_count": 421,
                    "min": "21.9",
                    "max": "55.7",
                    "histogram": [
                      {
                        "bin_start": 21.9,
                        "bin_end": 25.279999999999998,
                        "count": 184
                      },
                      {
                        "bin_start": 25.279999999999998,
                        "bin_end": 28.66,
                        "count": 3222
                      },
                      {
                        "bin_start": 28.66,
                        "bin_end": 32.04,
                        "count": 11554
                      },
                      {
                        "bin_start": 32.04,
                        "bin_end": 35.42,
                        "count": 1719
                      },
                      {
                        "bin_start": 35.42,
                        "bin_end": 38.8,
                        "count": 17
                      },
                      {
                        "bin_start": 38.8,
                        "bin_end": 42.18,
                        "count": 3
                      },
                      {
                        "bin_start": 42.18,
                        "bin_end": 45.56,
                        "count": 0
                      },
                      {
                        "bin_start": 45.56,
                        "bin_end": 48.94,
                        "count": 0
                      },
                      {
                        "bin_start": 48.94,
                        "bin_end": 52.32,
                        "count": 0
                      },
                      {
                        "bin_start": 52.32,
                        "bin_end": 55.7,
                        "count": 1
                      }
                    ]
                  }
                },
                {
                  "name": "tempmin",
                  "dtype": "float64",
                  "stats": {
                    "unique_count": 134,
                    "nan_count": 421,
                    "min": "2.6",
                    "max": "33.7",
                    "histogram": [
                      {
                        "bin_start": 2.6,
                        "bin_end": 5.710000000000001,
                        "count": 2
                      },
                      {
                        "bin_start": 5.710000000000001,
                        "bin_end": 8.82,
                        "count": 1
                      },
                      {
                        "bin_start": 8.82,
                        "bin_end": 11.930000000000001,
                        "count": 0
                      },
                      {
                        "bin_start": 11.930000000000001,
                        "bin_end": 15.040000000000001,
                        "count": 6
                      },
                      {
                        "bin_start": 15.040000000000001,
                        "bin_end": 18.150000000000002,
                        "count": 19
                      },
                      {
                        "bin_start": 18.150000000000002,
                        "bin_end": 21.260000000000005,
                        "count": 216
                      },
                      {
                        "bin_start": 21.260000000000005,
                        "bin_end": 24.370000000000005,
                        "count": 5293
                      },
                      {
                        "bin_start": 24.370000000000005,
                        "bin_end": 27.480000000000004,
                        "count": 10883
                      },
                      {
                        "bin_start": 27.480000000000004,
                        "bin_end": 30.590000000000003,
                        "count": 245
                      },
                      {
                        "bin_start": 30.590000000000003,
                        "bin_end": 33.7,
                        "count": 35
                      }
                    ]
                  }
                },
                {
                  "name": "temp",
                  "dtype": "float64",
                  "stats": {
                    "unique_count": 106,
                    "nan_count": 421,
                    "min": "20.4",
                    "max": "36.0",
                    "histogram": [
                      {
                        "bin_start": 20.4,
                        "bin_end": 21.959999999999997,
                        "count": 6
                      },
                      {
                        "bin_start": 21.959999999999997,
                        "bin_end": 23.52,
                        "count": 61
                      },
                      {
                        "bin_start": 23.52,
                        "bin_end": 25.08,
                        "count": 937
                      },
                      {
                        "bin_start": 25.08,
                        "bin_end": 26.64,
                        "count": 4509
                      },
                      {
                        "bin_start": 26.64,
                        "bin_end": 28.2,
                        "count": 8112
                      },
                      {
                        "bin_start": 28.2,
                        "bin_end": 29.759999999999998,
                        "count": 2940
                      },
                      {
                        "bin_start": 29.759999999999998,
                        "bin_end": 31.32,
                        "count": 112
                      },
                      {
                        "bin_start": 31.32,
                        "bin_end": 32.879999999999995,
                        "count": 20
                      },
                      {
                        "bin_start": 32.879999999999995,
                        "bin_end": 34.44,
                        "count": 2
                      },
                      {
                        "bin_start": 34.44,
                        "bin_end": 36,
                        "count": 1
                      }
                    ]
                  }
                },
                {
                  "name": "feelslikemax",
                  "dtype": "float64"
                },
                {
                  "name": "feelslikemin",
                  "dtype": "float64"
                },
                {
                  "name": "feelslike",
                  "dtype": "float64"
                },
                {
                  "name": "dew",
                  "dtype": "float64"
                },
                {
                  "name": "humidity",
                  "dtype": "float64"
                },
                {
                  "name": "precip",
                  "dtype": "float64"
                },
                {
                  "name": "precipprob",
                  "dtype": "float64"
                },
                {
                  "name": "precipcover",
                  "dtype": "float64"
                },
                {
                  "name": "preciptype",
                  "dtype": "object"
                },
                {
                  "name": "snow",
                  "dtype": "float64"
                },
                {
                  "name": "snowdepth",
                  "dtype": "float64"
                },
                {
                  "name": "windgust",
                  "dtype": "float64"
                },
                {
                  "name": "windspeed",
                  "dtype": "float64"
                },
                {
                  "name": "winddir",
                  "dtype": "float64"
                },
                {
                  "name": "sealevelpressure",
                  "dtype": "float64"
                },
                {
                  "name": "cloudcover",
                  "dtype": "float64"
                },
                {
                  "name": "visibility",
                  "dtype": "float64"
                },
                {
                  "name": "solarradiation",
                  "dtype": "float64"
                },
                {
                  "name": "solarenergy",
                  "dtype": "float64"
                },
                {
                  "name": "uvindex",
                  "dtype": "float64"
                },
                {
                  "name": "severerisk",
                  "dtype": "float64"
                },
                {
                  "name": "sunrise",
                  "dtype": "object"
                },
                {
                  "name": "sunset",
                  "dtype": "object"
                },
                {
                  "name": "moonphase",
                  "dtype": "float64"
                },
                {
                  "name": "conditions",
                  "dtype": "object"
                },
                {
                  "name": "description",
                  "dtype": "object"
                },
                {
                  "name": "icon",
                  "dtype": "object"
                },
                {
                  "name": "stations",
                  "dtype": "object"
                },
                {
                  "name": "_deepnote_index_column",
                  "dtype": "int64"
                }
              ],
              "rows": [
                {
                  "name": "Kebumen, Indonesia",
                  "datetime": "1978-02-16",
                  "tempmax": 32.1,
                  "tempmin": 25.1,
                  "temp": 28.1,
                  "feelslikemax": 39.3,
                  "feelslikemin": 25.1,
                  "feelslike": 31.4,
                  "dew": 24.8,
                  "humidity": 83.5,
                  "precip": 0,
                  "precipprob": 0,
                  "precipcover": 0,
                  "preciptype": "nan",
                  "snow": "nan",
                  "snowdepth": "nan",
                  "windgust": "nan",
                  "windspeed": 18.4,
                  "winddir": 183.2,
                  "sealevelpressure": 1011.7,
                  "cloudcover": 70,
                  "visibility": 11.7,
                  "solarradiation": "nan",
                  "solarenergy": "nan",
                  "uvindex": "nan",
                  "severerisk": "nan",
                  "sunrise": "1978-02-16T05:45:06",
                  "sunset": "1978-02-16T18:05:40",
                  "moonphase": 0.28,
                  "conditions": "Partially cloudy",
                  "description": "Partly cloudy throughout the day.",
                  "icon": "partly-cloudy-day",
                  "stations": "96805099999",
                  "_deepnote_index_column": 0
                },
                {
                  "name": "Kebumen, Indonesia",
                  "datetime": "1978-02-17",
                  "tempmax": 31.1,
                  "tempmin": 25.1,
                  "temp": 27.9,
                  "feelslikemax": 37.9,
                  "feelslikemin": 25.1,
                  "feelslike": 31.8,
                  "dew": 24.9,
                  "humidity": 84.4,
                  "precip": 0,
                  "precipprob": 0,
                  "precipcover": 0,
                  "preciptype": "nan",
                  "snow": "nan",
                  "snowdepth": "nan",
                  "windgust": "nan",
                  "windspeed": 18.4,
                  "winddir": 120.5,
                  "sealevelpressure": 1012.5,
                  "cloudcover": 60,
                  "visibility": 12.2,
                  "solarradiation": "nan",
                  "solarenergy": "nan",
                  "uvindex": "nan",
                  "severerisk": "nan",
                  "sunrise": "1978-02-17T05:45:14",
                  "sunset": "1978-02-17T18:05:24",
                  "moonphase": 0.31,
                  "conditions": "Partially cloudy",
                  "description": "Partly cloudy throughout the day.",
                  "icon": "partly-cloudy-day",
                  "stations": "96805099999",
                  "_deepnote_index_column": 1
                },
                {
                  "name": "Kebumen, Indonesia",
                  "datetime": "1978-02-18",
                  "tempmax": 32.1,
                  "tempmin": 26.1,
                  "temp": 29,
                  "feelslikemax": 40.8,
                  "feelslikemin": 26.1,
                  "feelslike": 33.6,
                  "dew": 25.5,
                  "humidity": 82.7,
                  "precip": 0,
                  "precipprob": 0,
                  "precipcover": 0,
                  "preciptype": "nan",
                  "snow": "nan",
                  "snowdepth": "nan",
                  "windgust": "nan",
                  "windspeed": 9.4,
                  "winddir": 99.7,
                  "sealevelpressure": 1013,
                  "cloudcover": 77.1,
                  "visibility": 11,
                  "solarradiation": "nan",
                  "solarenergy": "nan",
                  "uvindex": "nan",
                  "severerisk": "nan",
                  "sunrise": "1978-02-18T05:45:22",
                  "sunset": "1978-02-18T18:05:08",
                  "moonphase": 0.34,
                  "conditions": "Partially cloudy",
                  "description": "Partly cloudy throughout the day.",
                  "icon": "partly-cloudy-day",
                  "stations": "96805099999",
                  "_deepnote_index_column": 2
                },
                {
                  "name": "Kebumen, Indonesia",
                  "datetime": "1978-02-19",
                  "tempmax": 33.1,
                  "tempmin": 25.1,
                  "temp": 28.5,
                  "feelslikemax": 39.4,
                  "feelslikemin": 25.1,
                  "feelslike": 32.2,
                  "dew": 25.1,
                  "humidity": 83.2,
                  "precip": 0,
                  "precipprob": 0,
                  "precipcover": 0,
                  "preciptype": "nan",
                  "snow": "nan",
                  "snowdepth": "nan",
                  "windgust": "nan",
                  "windspeed": 14.8,
                  "winddir": 234.8,
                  "sealevelpressure": 1013.3,
                  "cloudcover": 91.4,
                  "visibility": 10.7,
                  "solarradiation": "nan",
                  "solarenergy": "nan",
                  "uvindex": "nan",
                  "severerisk": "nan",
                  "sunrise": "1978-02-19T05:45:29",
                  "sunset": "1978-02-19T18:04:50",
                  "moonphase": 0.38,
                  "conditions": "Overcast",
                  "description": "Cloudy skies throughout the day.",
                  "icon": "cloudy",
                  "stations": "96805099999",
                  "_deepnote_index_column": 3
                },
                {
                  "name": "Kebumen, Indonesia",
                  "datetime": "1978-02-20",
                  "tempmax": 31.1,
                  "tempmin": 24.1,
                  "temp": 27.1,
                  "feelslikemax": 44.4,
                  "feelslikemin": 24.1,
                  "feelslike": 30.7,
                  "dew": 23.1,
                  "humidity": 85.2,
                  "precip": 0,
                  "precipprob": 0,
                  "precipcover": 0,
                  "preciptype": "nan",
                  "snow": "nan",
                  "snowdepth": "nan",
                  "windgust": "nan",
                  "windspeed": 5.4,
                  "winddir": 148.1,
                  "sealevelpressure": 1013.6,
                  "cloudcover": 81.4,
                  "visibility": 8.6,
                  "solarradiation": "nan",
                  "solarenergy": "nan",
                  "uvindex": "nan",
                  "severerisk": "nan",
                  "sunrise": "1978-02-20T05:45:35",
                  "sunset": "1978-02-20T18:04:32",
                  "moonphase": 0.41,
                  "conditions": "Partially cloudy",
                  "description": "Partly cloudy throughout the day.",
                  "icon": "partly-cloudy-day",
                  "stations": "96805099999",
                  "_deepnote_index_column": 4
                },
                {
                  "name": "Kebumen, Indonesia",
                  "datetime": "1978-02-21",
                  "tempmax": 30.1,
                  "tempmin": 24.1,
                  "temp": 26.1,
                  "feelslikemax": 37.6,
                  "feelslikemin": 24.1,
                  "feelslike": 27.8,
                  "dew": 24.7,
                  "humidity": 92.2,
                  "precip": 0,
                  "precipprob": 0,
                  "precipcover": 0,
                  "preciptype": "nan",
                  "snow": "nan",
                  "snowdepth": "nan",
                  "windgust": "nan",
                  "windspeed": 5.4,
                  "winddir": 263.4,
                  "sealevelpressure": 1013.7,
                  "cloudcover": 97.1,
                  "visibility": 8.9,
                  "solarradiation": "nan",
                  "solarenergy": "nan",
                  "uvindex": "nan",
                  "severerisk": "nan",
                  "sunrise": "1978-02-21T05:45:41",
                  "sunset": "1978-02-21T18:04:13",
                  "moonphase": 0.44,
                  "conditions": "Overcast",
                  "description": "Cloudy skies throughout the day.",
                  "icon": "cloudy",
                  "stations": "96805099999",
                  "_deepnote_index_column": 5
                },
                {
                  "name": "Kebumen, Indonesia",
                  "datetime": "1978-02-22",
                  "tempmax": 31.1,
                  "tempmin": 24.1,
                  "temp": 27.4,
                  "feelslikemax": 42.4,
                  "feelslikemin": 24.1,
                  "feelslike": 31.6,
                  "dew": 25.4,
                  "humidity": 89.7,
                  "precip": 0,
                  "precipprob": 0,
                  "precipcover": 0,
                  "preciptype": "nan",
                  "snow": "nan",
                  "snowdepth": "nan",
                  "windgust": "nan",
                  "windspeed": 18.4,
                  "winddir": 243.4,
                  "sealevelpressure": 1012.7,
                  "cloudcover": 68.3,
                  "visibility": 12.2,
                  "solarradiation": "nan",
                  "solarenergy": "nan",
                  "uvindex": "nan",
                  "severerisk": "nan",
                  "sunrise": "1978-02-22T05:45:46",
                  "sunset": "1978-02-22T18:03:53",
                  "moonphase": 0.47,
                  "conditions": "Partially cloudy",
                  "description": "Becoming cloudy in the afternoon.",
                  "icon": "partly-cloudy-day",
                  "stations": "96805099999",
                  "_deepnote_index_column": 6
                },
                {
                  "name": "Kebumen, Indonesia",
                  "datetime": "1978-02-23",
                  "tempmax": 29.1,
                  "tempmin": 24.1,
                  "temp": 27,
                  "feelslikemax": 34.7,
                  "feelslikemin": 24.1,
                  "feelslike": 29.6,
                  "dew": 24.7,
                  "humidity": 87.8,
                  "precip": 9,
                  "precipprob": 100,
                  "precipcover": 4.17,
                  "preciptype": "rain",
                  "snow": "nan",
                  "snowdepth": "nan",
                  "windgust": "nan",
                  "windspeed": 11.2,
                  "winddir": 294.6,
                  "sealevelpressure": 1013.3,
                  "cloudcover": 87.1,
                  "visibility": 10.4,
                  "solarradiation": "nan",
                  "solarenergy": "nan",
                  "uvindex": "nan",
                  "severerisk": "nan",
                  "sunrise": "1978-02-23T05:45:50",
                  "sunset": "1978-02-23T18:03:33",
                  "moonphase": 0.5,
                  "conditions": "Rain, Partially cloudy",
                  "description": "Partly cloudy throughout the day with rain clearing later.",
                  "icon": "rain",
                  "stations": "96805099999",
                  "_deepnote_index_column": 7
                },
                {
                  "name": "Kebumen, Indonesia",
                  "datetime": "1978-02-24",
                  "tempmax": 32.1,
                  "tempmin": 25.1,
                  "temp": 27,
                  "feelslikemax": 39.3,
                  "feelslikemin": 25.1,
                  "feelslike": 28.7,
                  "dew": 24.5,
                  "humidity": 87.7,
                  "precip": 0,
                  "precipprob": 0,
                  "precipcover": 0,
                  "preciptype": "nan",
                  "snow": "nan",
                  "snowdepth": "nan",
                  "windgust": "nan",
                  "windspeed": 11.2,
                  "winddir": 232.5,
                  "sealevelpressure": 1014.1,
                  "cloudcover": 81.4,
                  "visibility": 11.6,
                  "solarradiation": "nan",
                  "solarenergy": "nan",
                  "uvindex": "nan",
                  "severerisk": "nan",
                  "sunrise": "1978-02-24T05:45:54",
                  "sunset": "1978-02-24T18:03:12",
                  "moonphase": 0.54,
                  "conditions": "Partially cloudy",
                  "description": "Partly cloudy throughout the day.",
                  "icon": "partly-cloudy-day",
                  "stations": "96805099999",
                  "_deepnote_index_column": 8
                },
                {
                  "name": "Kebumen, Indonesia",
                  "datetime": "1978-02-25",
                  "tempmax": 33.1,
                  "tempmin": 24.1,
                  "temp": 27.8,
                  "feelslikemax": 40.7,
                  "feelslikemin": 24.1,
                  "feelslike": 31,
                  "dew": 24.4,
                  "humidity": 83,
                  "precip": 0,
                  "precipprob": 0,
                  "precipcover": 0,
                  "preciptype": "nan",
                  "snow": "nan",
                  "snowdepth": "nan",
                  "windgust": "nan",
                  "windspeed": 13,
                  "winddir": 271.7,
                  "sealevelpressure": 1015.6,
                  "cloudcover": 82.9,
                  "visibility": 10.7,
                  "solarradiation": "nan",
                  "solarenergy": "nan",
                  "uvindex": "nan",
                  "severerisk": "nan",
                  "sunrise": "1978-02-25T05:45:58",
                  "sunset": "1978-02-25T18:02:51",
                  "moonphase": 0.58,
                  "conditions": "Partially cloudy",
                  "description": "Partly cloudy throughout the day.",
                  "icon": "partly-cloudy-day",
                  "stations": "96805099999",
                  "_deepnote_index_column": 9
                }
              ]
            },
            "text/plain": "                     name    datetime  tempmax  tempmin  temp  feelslikemax  \\\n0      Kebumen, Indonesia  1978-02-16     32.1     25.1  28.1          39.3   \n1      Kebumen, Indonesia  1978-02-17     31.1     25.1  27.9          37.9   \n2      Kebumen, Indonesia  1978-02-18     32.1     26.1  29.0          40.8   \n3      Kebumen, Indonesia  1978-02-19     33.1     25.1  28.5          39.4   \n4      Kebumen, Indonesia  1978-02-20     31.1     24.1  27.1          44.4   \n...                   ...         ...      ...      ...   ...           ...   \n17116             Kebumen  2024-12-27     32.7     25.1  28.5          39.5   \n17117             Kebumen  2024-12-28     27.8     25.4  26.6          32.5   \n17118             Kebumen  2024-12-29     26.2     25.0  25.5          26.2   \n17119             Kebumen  2024-12-30     29.6     24.5  26.7          33.6   \n17120             Kebumen  2024-12-31     28.4     24.0  26.1          31.7   \n\n       feelslikemin  feelslike   dew  humidity  ...  solarenergy  uvindex  \\\n0              25.1       31.4  24.8      83.5  ...          NaN      NaN   \n1              25.1       31.8  24.9      84.4  ...          NaN      NaN   \n2              26.1       33.6  25.5      82.7  ...          NaN      NaN   \n3              25.1       32.2  25.1      83.2  ...          NaN      NaN   \n4              24.1       30.7  23.1      85.2  ...          NaN      NaN   \n...             ...        ...   ...       ...  ...          ...      ...   \n17116          25.1       32.2  24.9      81.7  ...         15.6      6.0   \n17117          25.4       28.4  23.6      83.9  ...          8.1      6.0   \n17118          25.0       25.5  22.5      83.7  ...          3.4      2.0   \n17119          24.5       28.2  22.6      78.3  ...         25.8     10.0   \n17120          24.0       27.0  23.0      83.5  ...         10.9      6.0   \n\n       severerisk              sunrise               sunset  moonphase  \\\n0             NaN  1978-02-16T05:45:06  1978-02-16T18:05:40       0.28   \n1             NaN  1978-02-17T05:45:14  1978-02-17T18:05:24       0.31   \n2             NaN  1978-02-18T05:45:22  1978-02-18T18:05:08       0.34   \n3             NaN  1978-02-19T05:45:29  1978-02-19T18:04:50       0.38   \n4             NaN  1978-02-20T05:45:35  1978-02-20T18:04:32       0.41   \n...           ...                  ...                  ...        ...   \n17116        10.0  2024-12-27T05:25:26  2024-12-27T17:59:28       0.88   \n17117        30.0  2024-12-28T05:25:57  2024-12-28T17:59:55       0.91   \n17118        10.0  2024-12-29T05:26:28  2024-12-29T18:00:22       0.94   \n17119        10.0  2024-12-30T05:27:00  2024-12-30T18:00:48       0.98   \n17120        10.0  2024-12-31T05:27:31  2024-12-31T18:01:14       0.00   \n\n                   conditions  \\\n0            Partially cloudy   \n1            Partially cloudy   \n2            Partially cloudy   \n3                    Overcast   \n4            Partially cloudy   \n...                       ...   \n17116        Partially cloudy   \n17117          Rain, Overcast   \n17118          Rain, Overcast   \n17119  Rain, Partially cloudy   \n17120          Rain, Overcast   \n\n                                             description               icon  \\\n0                      Partly cloudy throughout the day.  partly-cloudy-day   \n1                      Partly cloudy throughout the day.  partly-cloudy-day   \n2                      Partly cloudy throughout the day.  partly-cloudy-day   \n3                       Cloudy skies throughout the day.             cloudy   \n4                      Partly cloudy throughout the day.  partly-cloudy-day   \n...                                                  ...                ...   \n17116                  Partly cloudy throughout the day.  partly-cloudy-day   \n17117  Cloudy skies throughout the day with a chance ...               rain   \n17118  Cloudy skies throughout the day with a chance ...               rain   \n17119  Partly cloudy throughout the day with a chance...               rain   \n17120         Cloudy skies throughout the day with rain.               rain   \n\n                 stations  \n0             96805099999  \n1             96805099999  \n2             96805099999  \n3             96805099999  \n4             96805099999  \n...                   ...  \n17116         96805099999  \n17117  96805099999,remote  \n17118              remote  \n17119              remote  \n17120              remote  \n\n[17121 rows x 33 columns]",
            "text/html": "<div>\n<style scoped>\n    .dataframe tbody tr th:only-of-type {\n        vertical-align: middle;\n    }\n\n    .dataframe tbody tr th {\n        vertical-align: top;\n    }\n\n    .dataframe thead th {\n        text-align: right;\n    }\n</style>\n<table border=\"1\" class=\"dataframe\">\n  <thead>\n    <tr style=\"text-align: right;\">\n      <th></th>\n      <th>name</th>\n      <th>datetime</th>\n      <th>tempmax</th>\n      <th>tempmin</th>\n      <th>temp</th>\n      <th>feelslikemax</th>\n      <th>feelslikemin</th>\n      <th>feelslike</th>\n      <th>dew</th>\n      <th>humidity</th>\n      <th>...</th>\n      <th>solarenergy</th>\n      <th>uvindex</th>\n      <th>severerisk</th>\n      <th>sunrise</th>\n      <th>sunset</th>\n      <th>moonphase</th>\n      <th>conditions</th>\n      <th>description</th>\n      <th>icon</th>\n      <th>stations</th>\n    </tr>\n  </thead>\n  <tbody>\n    <tr>\n      <th>0</th>\n      <td>Kebumen, Indonesia</td>\n      <td>1978-02-16</td>\n      <td>32.1</td>\n      <td>25.1</td>\n      <td>28.1</td>\n      <td>39.3</td>\n      <td>25.1</td>\n      <td>31.4</td>\n      <td>24.8</td>\n      <td>83.5</td>\n      <td>...</td>\n      <td>NaN</td>\n      <td>NaN</td>\n      <td>NaN</td>\n      <td>1978-02-16T05:45:06</td>\n      <td>1978-02-16T18:05:40</td>\n      <td>0.28</td>\n      <td>Partially cloudy</td>\n      <td>Partly cloudy throughout the day.</td>\n      <td>partly-cloudy-day</td>\n      <td>96805099999</td>\n    </tr>\n    <tr>\n      <th>1</th>\n      <td>Kebumen, Indonesia</td>\n      <td>1978-02-17</td>\n      <td>31.1</td>\n      <td>25.1</td>\n      <td>27.9</td>\n      <td>37.9</td>\n      <td>25.1</td>\n      <td>31.8</td>\n      <td>24.9</td>\n      <td>84.4</td>\n      <td>...</td>\n      <td>NaN</td>\n      <td>NaN</td>\n      <td>NaN</td>\n      <td>1978-02-17T05:45:14</td>\n      <td>1978-02-17T18:05:24</td>\n      <td>0.31</td>\n      <td>Partially cloudy</td>\n      <td>Partly cloudy throughout the day.</td>\n      <td>partly-cloudy-day</td>\n      <td>96805099999</td>\n    </tr>\n    <tr>\n      <th>2</th>\n      <td>Kebumen, Indonesia</td>\n      <td>1978-02-18</td>\n      <td>32.1</td>\n      <td>26.1</td>\n      <td>29.0</td>\n      <td>40.8</td>\n      <td>26.1</td>\n      <td>33.6</td>\n      <td>25.5</td>\n      <td>82.7</td>\n      <td>...</td>\n      <td>NaN</td>\n      <td>NaN</td>\n      <td>NaN</td>\n      <td>1978-02-18T05:45:22</td>\n      <td>1978-02-18T18:05:08</td>\n      <td>0.34</td>\n      <td>Partially cloudy</td>\n      <td>Partly cloudy throughout the day.</td>\n      <td>partly-cloudy-day</td>\n      <td>96805099999</td>\n    </tr>\n    <tr>\n      <th>3</th>\n      <td>Kebumen, Indonesia</td>\n      <td>1978-02-19</td>\n      <td>33.1</td>\n      <td>25.1</td>\n      <td>28.5</td>\n      <td>39.4</td>\n      <td>25.1</td>\n      <td>32.2</td>\n      <td>25.1</td>\n      <td>83.2</td>\n      <td>...</td>\n      <td>NaN</td>\n      <td>NaN</td>\n      <td>NaN</td>\n      <td>1978-02-19T05:45:29</td>\n      <td>1978-02-19T18:04:50</td>\n      <td>0.38</td>\n      <td>Overcast</td>\n      <td>Cloudy skies throughout the day.</td>\n      <td>cloudy</td>\n      <td>96805099999</td>\n    </tr>\n    <tr>\n      <th>4</th>\n      <td>Kebumen, Indonesia</td>\n      <td>1978-02-20</td>\n      <td>31.1</td>\n      <td>24.1</td>\n      <td>27.1</td>\n      <td>44.4</td>\n      <td>24.1</td>\n      <td>30.7</td>\n      <td>23.1</td>\n      <td>85.2</td>\n      <td>...</td>\n      <td>NaN</td>\n      <td>NaN</td>\n      <td>NaN</td>\n      <td>1978-02-20T05:45:35</td>\n      <td>1978-02-20T18:04:32</td>\n      <td>0.41</td>\n      <td>Partially cloudy</td>\n      <td>Partly cloudy throughout the day.</td>\n      <td>partly-cloudy-day</td>\n      <td>96805099999</td>\n    </tr>\n    <tr>\n      <th>...</th>\n      <td>...</td>\n      <td>...</td>\n      <td>...</td>\n      <td>...</td>\n      <td>...</td>\n      <td>...</td>\n      <td>...</td>\n      <td>...</td>\n      <td>...</td>\n      <td>...</td>\n      <td>...</td>\n      <td>...</td>\n      <td>...</td>\n      <td>...</td>\n      <td>...</td>\n      <td>...</td>\n      <td>...</td>\n      <td>...</td>\n      <td>...</td>\n      <td>...</td>\n      <td>...</td>\n    </tr>\n    <tr>\n      <th>17116</th>\n      <td>Kebumen</td>\n      <td>2024-12-27</td>\n      <td>32.7</td>\n      <td>25.1</td>\n      <td>28.5</td>\n      <td>39.5</td>\n      <td>25.1</td>\n      <td>32.2</td>\n      <td>24.9</td>\n      <td>81.7</td>\n      <td>...</td>\n      <td>15.6</td>\n      <td>6.0</td>\n      <td>10.0</td>\n      <td>2024-12-27T05:25:26</td>\n      <td>2024-12-27T17:59:28</td>\n      <td>0.88</td>\n      <td>Partially cloudy</td>\n      <td>Partly cloudy throughout the day.</td>\n      <td>partly-cloudy-day</td>\n      <td>96805099999</td>\n    </tr>\n    <tr>\n      <th>17117</th>\n      <td>Kebumen</td>\n      <td>2024-12-28</td>\n      <td>27.8</td>\n      <td>25.4</td>\n      <td>26.6</td>\n      <td>32.5</td>\n      <td>25.4</td>\n      <td>28.4</td>\n      <td>23.6</td>\n      <td>83.9</td>\n      <td>...</td>\n      <td>8.1</td>\n      <td>6.0</td>\n      <td>30.0</td>\n      <td>2024-12-28T05:25:57</td>\n      <td>2024-12-28T17:59:55</td>\n      <td>0.91</td>\n      <td>Rain, Overcast</td>\n      <td>Cloudy skies throughout the day with a chance ...</td>\n      <td>rain</td>\n      <td>96805099999,remote</td>\n    </tr>\n    <tr>\n      <th>17118</th>\n      <td>Kebumen</td>\n      <td>2024-12-29</td>\n      <td>26.2</td>\n      <td>25.0</td>\n      <td>25.5</td>\n      <td>26.2</td>\n      <td>25.0</td>\n      <td>25.5</td>\n      <td>22.5</td>\n      <td>83.7</td>\n      <td>...</td>\n      <td>3.4</td>\n      <td>2.0</td>\n      <td>10.0</td>\n      <td>2024-12-29T05:26:28</td>\n      <td>2024-12-29T18:00:22</td>\n      <td>0.94</td>\n      <td>Rain, Overcast</td>\n      <td>Cloudy skies throughout the day with a chance ...</td>\n      <td>rain</td>\n      <td>remote</td>\n    </tr>\n    <tr>\n      <th>17119</th>\n      <td>Kebumen</td>\n      <td>2024-12-30</td>\n      <td>29.6</td>\n      <td>24.5</td>\n      <td>26.7</td>\n      <td>33.6</td>\n      <td>24.5</td>\n      <td>28.2</td>\n      <td>22.6</td>\n      <td>78.3</td>\n      <td>...</td>\n      <td>25.8</td>\n      <td>10.0</td>\n      <td>10.0</td>\n      <td>2024-12-30T05:27:00</td>\n      <td>2024-12-30T18:00:48</td>\n      <td>0.98</td>\n      <td>Rain, Partially cloudy</td>\n      <td>Partly cloudy throughout the day with a chance...</td>\n      <td>rain</td>\n      <td>remote</td>\n    </tr>\n    <tr>\n      <th>17120</th>\n      <td>Kebumen</td>\n      <td>2024-12-31</td>\n      <td>28.4</td>\n      <td>24.0</td>\n      <td>26.1</td>\n      <td>31.7</td>\n      <td>24.0</td>\n      <td>27.0</td>\n      <td>23.0</td>\n      <td>83.5</td>\n      <td>...</td>\n      <td>10.9</td>\n      <td>6.0</td>\n      <td>10.0</td>\n      <td>2024-12-31T05:27:31</td>\n      <td>2024-12-31T18:01:14</td>\n      <td>0.00</td>\n      <td>Rain, Overcast</td>\n      <td>Cloudy skies throughout the day with rain.</td>\n      <td>rain</td>\n      <td>remote</td>\n    </tr>\n  </tbody>\n</table>\n<p>17121 rows × 33 columns</p>\n</div>"
          },
          "metadata": {}
        }
      ],
      "outputs_reference": null,
      "execution_count": 6,
      "block_group": "f87b437f0db44c7bb3f9c00d2ebd8953",
      "content_dependencies": null
    },
    {
      "cell_type": "code",
      "source": "data3.describe()",
      "metadata": {
        "source_hash": "4191db40",
        "execution_start": 1736072609859,
        "execution_millis": 43,
        "execution_context_id": "b89841ec-5496-487c-91f1-5166d5407ab7",
        "cell_id": "33daa4a8f34d4104aa9762a5ed0885ac",
        "deepnote_cell_type": "code"
      },
      "outputs": [
        {
          "output_type": "execute_result",
          "execution_count": 7,
          "data": {
            "application/vnd.deepnote.dataframe.v3+json": {
              "column_count": 24,
              "row_count": 8,
              "columns": [
                {
                  "name": "tempmax",
                  "dtype": "float64",
                  "stats": {
                    "unique_count": 8,
                    "nan_count": 0,
                    "min": "1.7165956080825442",
                    "max": "16700.0",
                    "histogram": [
                      {
                        "bin_start": 1.7165956080825442,
                        "bin_end": 1671.5449360472744,
                        "count": 7
                      },
                      {
                        "bin_start": 1671.5449360472744,
                        "bin_end": 3341.3732764864662,
                        "count": 0
                      },
                      {
                        "bin_start": 3341.3732764864662,
                        "bin_end": 5011.2016169256585,
                        "count": 0
                      },
                      {
                        "bin_start": 5011.2016169256585,
                        "bin_end": 6681.02995736485,
                        "count": 0
                      },
                      {
                        "bin_start": 6681.02995736485,
                        "bin_end": 8350.858297804041,
                        "count": 0
                      },
                      {
                        "bin_start": 8350.858297804041,
                        "bin_end": 10020.686638243234,
                        "count": 0
                      },
                      {
                        "bin_start": 10020.686638243234,
                        "bin_end": 11690.514978682426,
                        "count": 0
                      },
                      {
                        "bin_start": 11690.514978682426,
                        "bin_end": 13360.343319121617,
                        "count": 0
                      },
                      {
                        "bin_start": 13360.343319121617,
                        "bin_end": 15030.171659560809,
                        "count": 0
                      },
                      {
                        "bin_start": 15030.171659560809,
                        "bin_end": 16700,
                        "count": 1
                      }
                    ]
                  }
                },
                {
                  "name": "tempmin",
                  "dtype": "float64",
                  "stats": {
                    "unique_count": 8,
                    "nan_count": 0,
                    "min": "1.3444978948606843",
                    "max": "16700.0",
                    "histogram": [
                      {
                        "bin_start": 1.3444978948606843,
                        "bin_end": 1671.2100481053747,
                        "count": 7
                      },
                      {
                        "bin_start": 1671.2100481053747,
                        "bin_end": 3341.0755983158883,
                        "count": 0
                      },
                      {
                        "bin_start": 3341.0755983158883,
                        "bin_end": 5010.941148526403,
                        "count": 0
                      },
                      {
                        "bin_start": 5010.941148526403,
                        "bin_end": 6680.806698736917,
                        "count": 0
                      },
                      {
                        "bin_start": 6680.806698736917,
                        "bin_end": 8350.67224894743,
                        "count": 0
                      },
                      {
                        "bin_start": 8350.67224894743,
                        "bin_end": 10020.537799157944,
                        "count": 0
                      },
                      {
                        "bin_start": 10020.537799157944,
                        "bin_end": 11690.403349368458,
                        "count": 0
                      },
                      {
                        "bin_start": 11690.403349368458,
                        "bin_end": 13360.268899578972,
                        "count": 0
                      },
                      {
                        "bin_start": 13360.268899578972,
                        "bin_end": 15030.134449789486,
                        "count": 0
                      },
                      {
                        "bin_start": 15030.134449789486,
                        "bin_end": 16700,
                        "count": 1
                      }
                    ]
                  }
                },
                {
                  "name": "temp",
                  "dtype": "float64",
                  "stats": {
                    "unique_count": 8,
                    "nan_count": 0,
                    "min": "1.2199895188453147",
                    "max": "16700.0",
                    "histogram": [
                      {
                        "bin_start": 1.2199895188453147,
                        "bin_end": 1671.0979905669608,
                        "count": 7
                      },
                      {
                        "bin_start": 1671.0979905669608,
                        "bin_end": 3340.9759916150765,
                        "count": 0
                      },
                      {
                        "bin_start": 3340.9759916150765,
                        "bin_end": 5010.853992663192,
                        "count": 0
                      },
                      {
                        "bin_start": 5010.853992663192,
                        "bin_end": 6680.731993711307,
                        "count": 0
                      },
                      {
                        "bin_start": 6680.731993711307,
                        "bin_end": 8350.609994759423,
                        "count": 0
                      },
                      {
                        "bin_start": 8350.609994759423,
                        "bin_end": 10020.48799580754,
                        "count": 0
                      },
                      {
                        "bin_start": 10020.48799580754,
                        "bin_end": 11690.365996855655,
                        "count": 0
                      },
                      {
                        "bin_start": 11690.365996855655,
                        "bin_end": 13360.24399790377,
                        "count": 0
                      },
                      {
                        "bin_start": 13360.24399790377,
                        "bin_end": 15030.121998951885,
                        "count": 0
                      },
                      {
                        "bin_start": 15030.121998951885,
                        "bin_end": 16700,
                        "count": 1
                      }
                    ]
                  }
                },
                {
                  "name": "feelslikemax",
                  "dtype": "float64",
                  "stats": {
                    "unique_count": 8,
                    "nan_count": 0,
                    "min": "3.4753729994216203",
                    "max": "16700.0",
                    "histogram": [
                      {
                        "bin_start": 3.4753729994216203,
                        "bin_end": 1673.1278356994792,
                        "count": 7
                      },
                      {
                        "bin_start": 1673.1278356994792,
                        "bin_end": 3342.780298399537,
                        "count": 0
                      },
                      {
                        "bin_start": 3342.780298399537,
                        "bin_end": 5012.432761099594,
                        "count": 0
                      },
                      {
                        "bin_start": 5012.432761099594,
                        "bin_end": 6682.085223799652,
                        "count": 0
                      },
                      {
                        "bin_start": 6682.085223799652,
                        "bin_end": 8351.73768649971,
                        "count": 0
                      },
                      {
                        "bin_start": 8351.73768649971,
                        "bin_end": 10021.390149199766,
                        "count": 0
                      },
                      {
                        "bin_start": 10021.390149199766,
                        "bin_end": 11691.042611899824,
                        "count": 0
                      },
                      {
                        "bin_start": 11691.042611899824,
                        "bin_end": 13360.695074599882,
                        "count": 0
                      },
                      {
                        "bin_start": 13360.695074599882,
                        "bin_end": 15030.34753729994,
                        "count": 0
                      },
                      {
                        "bin_start": 15030.34753729994,
                        "bin_end": 16700,
                        "count": 1
                      }
                    ]
                  }
                },
                {
                  "name": "feelslikemin",
                  "dtype": "float64",
                  "stats": {
                    "unique_count": 8,
                    "nan_count": 0,
                    "min": "-0.9",
                    "max": "16700.0",
                    "histogram": [
                      {
                        "bin_start": -0.9,
                        "bin_end": 1669.19,
                        "count": 7
                      },
                      {
                        "bin_start": 1669.19,
                        "bin_end": 3339.28,
                        "count": 0
                      },
                      {
                        "bin_start": 3339.28,
                        "bin_end": 5009.370000000001,
                        "count": 0
                      },
                      {
                        "bin_start": 5009.370000000001,
                        "bin_end": 6679.460000000001,
                        "count": 0
                      },
                      {
                        "bin_start": 6679.460000000001,
                        "bin_end": 8349.550000000001,
                        "count": 0
                      },
                      {
                        "bin_start": 8349.550000000001,
                        "bin_end": 10019.640000000001,
                        "count": 0
                      },
                      {
                        "bin_start": 10019.640000000001,
                        "bin_end": 11689.730000000001,
                        "count": 0
                      },
                      {
                        "bin_start": 11689.730000000001,
                        "bin_end": 13359.820000000002,
                        "count": 0
                      },
                      {
                        "bin_start": 13359.820000000002,
                        "bin_end": 15029.910000000002,
                        "count": 0
                      },
                      {
                        "bin_start": 15029.910000000002,
                        "bin_end": 16700,
                        "count": 1
                      }
                    ]
                  }
                },
                {
                  "name": "feelslike",
                  "dtype": "float64",
                  "stats": {
                    "unique_count": 8,
                    "nan_count": 0,
                    "min": "2.545826800315512",
                    "max": "16700.0",
                    "histogram": [
                      {
                        "bin_start": 2.545826800315512,
                        "bin_end": 1672.2912441202839,
                        "count": 7
                      },
                      {
                        "bin_start": 1672.2912441202839,
                        "bin_end": 3342.036661440252,
                        "count": 0
                      },
                      {
                        "bin_start": 3342.036661440252,
                        "bin_end": 5011.78207876022,
                        "count": 0
                      },
                      {
                        "bin_start": 5011.78207876022,
                        "bin_end": 6681.527496080189,
                        "count": 0
                      },
                      {
                        "bin_start": 6681.527496080189,
                        "bin_end": 8351.272913400157,
                        "count": 0
                      },
                      {
                        "bin_start": 8351.272913400157,
                        "bin_end": 10021.018330720124,
                        "count": 0
                      },
                      {
                        "bin_start": 10021.018330720124,
                        "bin_end": 11690.763748040094,
                        "count": 0
                      },
                      {
                        "bin_start": 11690.763748040094,
                        "bin_end": 13360.509165360061,
                        "count": 0
                      },
                      {
                        "bin_start": 13360.509165360061,
                        "bin_end": 15030.254582680029,
                        "count": 0
                      },
                      {
                        "bin_start": 15030.254582680029,
                        "bin_end": 16700,
                        "count": 1
                      }
                    ]
                  }
                },
                {
                  "name": "dew",
                  "dtype": "float64",
                  "stats": {
                    "unique_count": 8,
                    "nan_count": 0,
                    "min": "1.0980858893439758",
                    "max": "16700.0",
                    "histogram": [
                      {
                        "bin_start": 1.0980858893439758,
                        "bin_end": 1670.9882773004094,
                        "count": 7
                      },
                      {
                        "bin_start": 1670.9882773004094,
                        "bin_end": 3340.878468711475,
                        "count": 0
                      },
                      {
                        "bin_start": 3340.878468711475,
                        "bin_end": 5010.76866012254,
                        "count": 0
                      },
                      {
                        "bin_start": 5010.76866012254,
                        "bin_end": 6680.658851533605,
                        "count": 0
                      },
                      {
                        "bin_start": 6680.658851533605,
                        "bin_end": 8350.54904294467,
                        "count": 0
                      },
                      {
                        "bin_start": 8350.54904294467,
                        "bin_end": 10020.439234355736,
                        "count": 0
                      },
                      {
                        "bin_start": 10020.439234355736,
                        "bin_end": 11690.329425766802,
                        "count": 0
                      },
                      {
                        "bin_start": 11690.329425766802,
                        "bin_end": 13360.219617177867,
                        "count": 0
                      },
                      {
                        "bin_start": 13360.219617177867,
                        "bin_end": 15030.109808588932,
                        "count": 0
                      },
                      {
                        "bin_start": 15030.109808588932,
                        "bin_end": 16700,
                        "count": 1
                      }
                    ]
                  }
                },
                {
                  "name": "humidity",
                  "dtype": "float64",
                  "stats": {
                    "unique_count": 8,
                    "nan_count": 0,
                    "min": "4.442786777094198",
                    "max": "16700.0",
                    "histogram": [
                      {
                        "bin_start": 4.442786777094198,
                        "bin_end": 1673.9985080993847,
                        "count": 7
                      },
                      {
                        "bin_start": 1673.9985080993847,
                        "bin_end": 3343.5542294216752,
                        "count": 0
                      },
                      {
                        "bin_start": 3343.5542294216752,
                        "bin_end": 5013.109950743966,
                        "count": 0
                      },
                      {
                        "bin_start": 5013.109950743966,
                        "bin_end": 6682.665672066257,
                        "count": 0
                      },
                      {
                        "bin_start": 6682.665672066257,
                        "bin_end": 8352.221393388547,
                        "count": 0
                      },
                      {
                        "bin_start": 8352.221393388547,
                        "bin_end": 10021.777114710836,
                        "count": 0
                      },
                      {
                        "bin_start": 10021.777114710836,
                        "bin_end": 11691.332836033127,
                        "count": 0
                      },
                      {
                        "bin_start": 11691.332836033127,
                        "bin_end": 13360.888557355418,
                        "count": 0
                      },
                      {
                        "bin_start": 13360.888557355418,
                        "bin_end": 15030.444278677709,
                        "count": 0
                      },
                      {
                        "bin_start": 15030.444278677709,
                        "bin_end": 16700,
                        "count": 1
                      }
                    ]
                  }
                },
                {
                  "name": "precip",
                  "dtype": "float64",
                  "stats": {
                    "unique_count": 7,
                    "nan_count": 0,
                    "min": "0.0",
                    "max": "16700.0",
                    "histogram": [
                      {
                        "bin_start": 0,
                        "bin_end": 1670,
                        "count": 7
                      },
                      {
                        "bin_start": 1670,
                        "bin_end": 3340,
                        "count": 0
                      },
                      {
                        "bin_start": 3340,
                        "bin_end": 5010,
                        "count": 0
                      },
                      {
                        "bin_start": 5010,
                        "bin_end": 6680,
                        "count": 0
                      },
                      {
                        "bin_start": 6680,
                        "bin_end": 8350,
                        "count": 0
                      },
                      {
                        "bin_start": 8350,
                        "bin_end": 10020,
                        "count": 0
                      },
                      {
                        "bin_start": 10020,
                        "bin_end": 11690,
                        "count": 0
                      },
                      {
                        "bin_start": 11690,
                        "bin_end": 13360,
                        "count": 0
                      },
                      {
                        "bin_start": 13360,
                        "bin_end": 15030,
                        "count": 0
                      },
                      {
                        "bin_start": 15030,
                        "bin_end": 16700,
                        "count": 1
                      }
                    ]
                  }
                },
                {
                  "name": "precipprob",
                  "dtype": "float64",
                  "stats": {
                    "unique_count": 5,
                    "nan_count": 0,
                    "min": "0.0",
                    "max": "16700.0",
                    "histogram": [
                      {
                        "bin_start": 0,
                        "bin_end": 1670,
                        "count": 7
                      },
                      {
                        "bin_start": 1670,
                        "bin_end": 3340,
                        "count": 0
                      },
                      {
                        "bin_start": 3340,
                        "bin_end": 5010,
                        "count": 0
                      },
                      {
                        "bin_start": 5010,
                        "bin_end": 6680,
                        "count": 0
                      },
                      {
                        "bin_start": 6680,
                        "bin_end": 8350,
                        "count": 0
                      },
                      {
                        "bin_start": 8350,
                        "bin_end": 10020,
                        "count": 0
                      },
                      {
                        "bin_start": 10020,
                        "bin_end": 11690,
                        "count": 0
                      },
                      {
                        "bin_start": 11690,
                        "bin_end": 13360,
                        "count": 0
                      },
                      {
                        "bin_start": 13360,
                        "bin_end": 15030,
                        "count": 0
                      },
                      {
                        "bin_start": 15030,
                        "bin_end": 16700,
                        "count": 1
                      }
                    ]
                  }
                },
                {
                  "name": "precipcover",
                  "dtype": "float64",
                  "stats": {
                    "unique_count": 7,
                    "nan_count": 0,
                    "min": "0.0",
                    "max": "17121.0",
                    "histogram": [
                      {
                        "bin_start": 0,
                        "bin_end": 1712.1,
                        "count": 7
                      },
                      {
                        "bin_start": 1712.1,
                        "bin_end": 3424.2,
                        "count": 0
                      },
                      {
                        "bin_start": 3424.2,
                        "bin_end": 5136.299999999999,
                        "count": 0
                      },
                      {
                        "bin_start": 5136.299999999999,
                        "bin_end": 6848.4,
                        "count": 0
                      },
                      {
                        "bin_start": 6848.4,
                        "bin_end": 8560.5,
                        "count": 0
                      },
                      {
                        "bin_start": 8560.5,
                        "bin_end": 10272.599999999999,
                        "count": 0
                      },
                      {
                        "bin_start": 10272.599999999999,
                        "bin_end": 11984.699999999999,
                        "count": 0
                      },
                      {
                        "bin_start": 11984.699999999999,
                        "bin_end": 13696.8,
                        "count": 0
                      },
                      {
                        "bin_start": 13696.8,
                        "bin_end": 15408.9,
                        "count": 0
                      },
                      {
                        "bin_start": 15408.9,
                        "bin_end": 17121,
                        "count": 1
                      }
                    ]
                  }
                },
                {
                  "name": "snow",
                  "dtype": "float64",
                  "stats": {
                    "unique_count": 2,
                    "nan_count": 0,
                    "min": "0.0",
                    "max": "9089.0",
                    "histogram": [
                      {
                        "bin_start": 0,
                        "bin_end": 908.9,
                        "count": 7
                      },
                      {
                        "bin_start": 908.9,
                        "bin_end": 1817.8,
                        "count": 0
                      },
                      {
                        "bin_start": 1817.8,
                        "bin_end": 2726.7,
                        "count": 0
                      },
                      {
                        "bin_start": 2726.7,
                        "bin_end": 3635.6,
                        "count": 0
                      },
                      {
                        "bin_start": 3635.6,
                        "bin_end": 4544.5,
                        "count": 0
                      },
                      {
                        "bin_start": 4544.5,
                        "bin_end": 5453.4,
                        "count": 0
                      },
                      {
                        "bin_start": 5453.4,
                        "bin_end": 6362.3,
                        "count": 0
                      },
                      {
                        "bin_start": 6362.3,
                        "bin_end": 7271.2,
                        "count": 0
                      },
                      {
                        "bin_start": 7271.2,
                        "bin_end": 8180.099999999999,
                        "count": 0
                      },
                      {
                        "bin_start": 8180.099999999999,
                        "bin_end": 9089,
                        "count": 1
                      }
                    ]
                  }
                },
                {
                  "name": "snowdepth",
                  "dtype": "float64",
                  "stats": {
                    "unique_count": 2,
                    "nan_count": 0,
                    "min": "0.0",
                    "max": "9089.0",
                    "histogram": [
                      {
                        "bin_start": 0,
                        "bin_end": 908.9,
                        "count": 7
                      },
                      {
                        "bin_start": 908.9,
                        "bin_end": 1817.8,
                        "count": 0
                      },
                      {
                        "bin_start": 1817.8,
                        "bin_end": 2726.7,
                        "count": 0
                      },
                      {
                        "bin_start": 2726.7,
                        "bin_end": 3635.6,
                        "count": 0
                      },
                      {
                        "bin_start": 3635.6,
                        "bin_end": 4544.5,
                        "count": 0
                      },
                      {
                        "bin_start": 4544.5,
                        "bin_end": 5453.4,
                        "count": 0
                      },
                      {
                        "bin_start": 5453.4,
                        "bin_end": 6362.3,
                        "count": 0
                      },
                      {
                        "bin_start": 6362.3,
                        "bin_end": 7271.2,
                        "count": 0
                      },
                      {
                        "bin_start": 7271.2,
                        "bin_end": 8180.099999999999,
                        "count": 0
                      },
                      {
                        "bin_start": 8180.099999999999,
                        "bin_end": 9089,
                        "count": 1
                      }
                    ]
                  }
                },
                {
                  "name": "windgust",
                  "dtype": "float64",
                  "stats": {
                    "unique_count": 8,
                    "nan_count": 0,
                    "min": "7.9",
                    "max": "1087.0",
                    "histogram": [
                      {
                        "bin_start": 7.9,
                        "bin_end": 115.81,
                        "count": 7
                      },
                      {
                        "bin_start": 115.81,
                        "bin_end": 223.72,
                        "count": 0
                      },
                      {
                        "bin_start": 223.72,
                        "bin_end": 331.63,
                        "count": 0
                      },
                      {
                        "bin_start": 331.63,
                        "bin_end": 439.53999999999996,
                        "count": 0
                      },
                      {
                        "bin_start": 439.53999999999996,
                        "bin_end": 547.4499999999999,
                        "count": 0
                      },
                      {
                        "bin_start": 547.4499999999999,
                        "bin_end": 655.36,
                        "count": 0
                      },
                      {
                        "bin_start": 655.36,
                        "bin_end": 763.27,
                        "count": 0
                      },
                      {
                        "bin_start": 763.27,
                        "bin_end": 871.18,
                        "count": 0
                      },
                      {
                        "bin_start": 871.18,
                        "bin_end": 979.0899999999999,
                        "count": 0
                      },
                      {
                        "bin_start": 979.0899999999999,
                        "bin_end": 1087,
                        "count": 1
                      }
                    ]
                  }
                },
                {
                  "name": "windspeed",
                  "dtype": "float64",
                  "stats": {
                    "unique_count": 8,
                    "nan_count": 0,
                    "min": "0.0",
                    "max": "17121.0",
                    "histogram": [
                      {
                        "bin_start": 0,
                        "bin_end": 1712.1,
                        "count": 7
                      },
                      {
                        "bin_start": 1712.1,
                        "bin_end": 3424.2,
                        "count": 0
                      },
                      {
                        "bin_start": 3424.2,
                        "bin_end": 5136.299999999999,
                        "count": 0
                      },
                      {
                        "bin_start": 5136.299999999999,
                        "bin_end": 6848.4,
                        "count": 0
                      },
                      {
                        "bin_start": 6848.4,
                        "bin_end": 8560.5,
                        "count": 0
                      },
                      {
                        "bin_start": 8560.5,
                        "bin_end": 10272.599999999999,
                        "count": 0
                      },
                      {
                        "bin_start": 10272.599999999999,
                        "bin_end": 11984.699999999999,
                        "count": 0
                      },
                      {
                        "bin_start": 11984.699999999999,
                        "bin_end": 13696.8,
                        "count": 0
                      },
                      {
                        "bin_start": 13696.8,
                        "bin_end": 15408.9,
                        "count": 0
                      },
                      {
                        "bin_start": 15408.9,
                        "bin_end": 17121,
                        "count": 1
                      }
                    ]
                  }
                },
                {
                  "name": "winddir",
                  "dtype": "float64",
                  "stats": {
                    "unique_count": 8,
                    "nan_count": 0,
                    "min": "0.0",
                    "max": "16407.0",
                    "histogram": [
                      {
                        "bin_start": 0,
                        "bin_end": 1640.7,
                        "count": 7
                      },
                      {
                        "bin_start": 1640.7,
                        "bin_end": 3281.4,
                        "count": 0
                      },
                      {
                        "bin_start": 3281.4,
                        "bin_end": 4922.1,
                        "count": 0
                      },
                      {
                        "bin_start": 4922.1,
                        "bin_end": 6562.8,
                        "count": 0
                      },
                      {
                        "bin_start": 6562.8,
                        "bin_end": 8203.5,
                        "count": 0
                      },
                      {
                        "bin_start": 8203.5,
                        "bin_end": 9844.2,
                        "count": 0
                      },
                      {
                        "bin_start": 9844.2,
                        "bin_end": 11484.9,
                        "count": 0
                      },
                      {
                        "bin_start": 11484.9,
                        "bin_end": 13125.6,
                        "count": 0
                      },
                      {
                        "bin_start": 13125.6,
                        "bin_end": 14766.300000000001,
                        "count": 0
                      },
                      {
                        "bin_start": 14766.300000000001,
                        "bin_end": 16407,
                        "count": 1
                      }
                    ]
                  }
                },
                {
                  "name": "sealevelpressure",
                  "dtype": "float64",
                  "stats": {
                    "unique_count": 8,
                    "nan_count": 0,
                    "min": "1.869502381998046",
                    "max": "13093.0",
                    "histogram": [
                      {
                        "bin_start": 1.869502381998046,
                        "bin_end": 1310.982552143798,
                        "count": 7
                      },
                      {
                        "bin_start": 1310.982552143798,
                        "bin_end": 2620.0956019055984,
                        "count": 0
                      },
                      {
                        "bin_start": 2620.0956019055984,
                        "bin_end": 3929.2086516673985,
                        "count": 0
                      },
                      {
                        "bin_start": 3929.2086516673985,
                        "bin_end": 5238.321701429199,
                        "count": 0
                      },
                      {
                        "bin_start": 5238.321701429199,
                        "bin_end": 6547.434751190998,
                        "count": 0
                      },
                      {
                        "bin_start": 6547.434751190998,
                        "bin_end": 7856.547800952799,
                        "count": 0
                      },
                      {
                        "bin_start": 7856.547800952799,
                        "bin_end": 9165.6608507146,
                        "count": 0
                      },
                      {
                        "bin_start": 9165.6608507146,
                        "bin_end": 10474.773900476399,
                        "count": 0
                      },
                      {
                        "bin_start": 10474.773900476399,
                        "bin_end": 11783.886950238199,
                        "count": 0
                      },
                      {
                        "bin_start": 11783.886950238199,
                        "bin_end": 13093,
                        "count": 1
                      }
                    ]
                  }
                },
                {
                  "name": "cloudcover",
                  "dtype": "float64",
                  "stats": {
                    "unique_count": 8,
                    "nan_count": 0,
                    "min": "0.0",
                    "max": "16700.0",
                    "histogram": [
                      {
                        "bin_start": 0,
                        "bin_end": 1670,
                        "count": 7
                      },
                      {
                        "bin_start": 1670,
                        "bin_end": 3340,
                        "count": 0
                      },
                      {
                        "bin_start": 3340,
                        "bin_end": 5010,
                        "count": 0
                      },
                      {
                        "bin_start": 5010,
                        "bin_end": 6680,
                        "count": 0
                      },
                      {
                        "bin_start": 6680,
                        "bin_end": 8350,
                        "count": 0
                      },
                      {
                        "bin_start": 8350,
                        "bin_end": 10020,
                        "count": 0
                      },
                      {
                        "bin_start": 10020,
                        "bin_end": 11690,
                        "count": 0
                      },
                      {
                        "bin_start": 11690,
                        "bin_end": 13360,
                        "count": 0
                      },
                      {
                        "bin_start": 13360,
                        "bin_end": 15030,
                        "count": 0
                      },
                      {
                        "bin_start": 15030,
                        "bin_end": 16700,
                        "count": 1
                      }
                    ]
                  }
                },
                {
                  "name": "visibility",
                  "dtype": "float64",
                  "stats": {
                    "unique_count": 8,
                    "nan_count": 0,
                    "min": "1.0",
                    "max": "16695.0",
                    "histogram": [
                      {
                        "bin_start": 1,
                        "bin_end": 1670.4,
                        "count": 7
                      },
                      {
                        "bin_start": 1670.4,
                        "bin_end": 3339.8,
                        "count": 0
                      },
                      {
                        "bin_start": 3339.8,
                        "bin_end": 5009.200000000001,
                        "count": 0
                      },
                      {
                        "bin_start": 5009.200000000001,
                        "bin_end": 6678.6,
                        "count": 0
                      },
                      {
                        "bin_start": 6678.6,
                        "bin_end": 8348,
                        "count": 0
                      },
                      {
                        "bin_start": 8348,
                        "bin_end": 10017.400000000001,
                        "count": 0
                      },
                      {
                        "bin_start": 10017.400000000001,
                        "bin_end": 11686.800000000001,
                        "count": 0
                      },
                      {
                        "bin_start": 11686.800000000001,
                        "bin_end": 13356.2,
                        "count": 0
                      },
                      {
                        "bin_start": 13356.2,
                        "bin_end": 15025.6,
                        "count": 0
                      },
                      {
                        "bin_start": 15025.6,
                        "bin_end": 16695,
                        "count": 1
                      }
                    ]
                  }
                },
                {
                  "name": "solarradiation",
                  "dtype": "float64",
                  "stats": {
                    "unique_count": 8,
                    "nan_count": 0,
                    "min": "10.0",
                    "max": "5479.0",
                    "histogram": [
                      {
                        "bin_start": 10,
                        "bin_end": 556.9,
                        "count": 7
                      },
                      {
                        "bin_start": 556.9,
                        "bin_end": 1103.8,
                        "count": 0
                      },
                      {
                        "bin_start": 1103.8,
                        "bin_end": 1650.6999999999998,
                        "count": 0
                      },
                      {
                        "bin_start": 1650.6999999999998,
                        "bin_end": 2197.6,
                        "count": 0
                      },
                      {
                        "bin_start": 2197.6,
                        "bin_end": 2744.5,
                        "count": 0
                      },
                      {
                        "bin_start": 2744.5,
                        "bin_end": 3291.3999999999996,
                        "count": 0
                      },
                      {
                        "bin_start": 3291.3999999999996,
                        "bin_end": 3838.2999999999997,
                        "count": 0
                      },
                      {
                        "bin_start": 3838.2999999999997,
                        "bin_end": 4385.2,
                        "count": 0
                      },
                      {
                        "bin_start": 4385.2,
                        "bin_end": 4932.099999999999,
                        "count": 0
                      },
                      {
                        "bin_start": 4932.099999999999,
                        "bin_end": 5479,
                        "count": 1
                      }
                    ]
                  }
                },
                {
                  "name": "solarenergy",
                  "dtype": "float64",
                  "stats": {
                    "unique_count": 8,
                    "nan_count": 0,
                    "min": "1.0",
                    "max": "5479.0",
                    "histogram": [
                      {
                        "bin_start": 1,
                        "bin_end": 548.8,
                        "count": 7
                      },
                      {
                        "bin_start": 548.8,
                        "bin_end": 1096.6,
                        "count": 0
                      },
                      {
                        "bin_start": 1096.6,
                        "bin_end": 1644.3999999999999,
                        "count": 0
                      },
                      {
                        "bin_start": 1644.3999999999999,
                        "bin_end": 2192.2,
                        "count": 0
                      },
                      {
                        "bin_start": 2192.2,
                        "bin_end": 2740,
                        "count": 0
                      },
                      {
                        "bin_start": 2740,
                        "bin_end": 3287.7999999999997,
                        "count": 0
                      },
                      {
                        "bin_start": 3287.7999999999997,
                        "bin_end": 3835.5999999999995,
                        "count": 0
                      },
                      {
                        "bin_start": 3835.5999999999995,
                        "bin_end": 4383.4,
                        "count": 0
                      },
                      {
                        "bin_start": 4383.4,
                        "bin_end": 4931.2,
                        "count": 0
                      },
                      {
                        "bin_start": 4931.2,
                        "bin_end": 5479,
                        "count": 1
                      }
                    ]
                  }
                },
                {
                  "name": "uvindex",
                  "dtype": "float64",
                  "stats": {
                    "unique_count": 8,
                    "nan_count": 0,
                    "min": "1.0",
                    "max": "5479.0",
                    "histogram": [
                      {
                        "bin_start": 1,
                        "bin_end": 548.8,
                        "count": 7
                      },
                      {
                        "bin_start": 548.8,
                        "bin_end": 1096.6,
                        "count": 0
                      },
                      {
                        "bin_start": 1096.6,
                        "bin_end": 1644.3999999999999,
                        "count": 0
                      },
                      {
                        "bin_start": 1644.3999999999999,
                        "bin_end": 2192.2,
                        "count": 0
                      },
                      {
                        "bin_start": 2192.2,
                        "bin_end": 2740,
                        "count": 0
                      },
                      {
                        "bin_start": 2740,
                        "bin_end": 3287.7999999999997,
                        "count": 0
                      },
                      {
                        "bin_start": 3287.7999999999997,
                        "bin_end": 3835.5999999999995,
                        "count": 0
                      },
                      {
                        "bin_start": 3835.5999999999995,
                        "bin_end": 4383.4,
                        "count": 0
                      },
                      {
                        "bin_start": 4383.4,
                        "bin_end": 4931.2,
                        "count": 0
                      },
                      {
                        "bin_start": 4931.2,
                        "bin_end": 5479,
                        "count": 1
                      }
                    ]
                  }
                },
                {
                  "name": "severerisk",
                  "dtype": "float64",
                  "stats": {
                    "unique_count": 6,
                    "nan_count": 0,
                    "min": "10.0",
                    "max": "1087.0",
                    "histogram": [
                      {
                        "bin_start": 10,
                        "bin_end": 117.7,
                        "count": 7
                      },
                      {
                        "bin_start": 117.7,
                        "bin_end": 225.4,
                        "count": 0
                      },
                      {
                        "bin_start": 225.4,
                        "bin_end": 333.1,
                        "count": 0
                      },
                      {
                        "bin_start": 333.1,
                        "bin_end": 440.8,
                        "count": 0
                      },
                      {
                        "bin_start": 440.8,
                        "bin_end": 548.5,
                        "count": 0
                      },
                      {
                        "bin_start": 548.5,
                        "bin_end": 656.2,
                        "count": 0
                      },
                      {
                        "bin_start": 656.2,
                        "bin_end": 763.9,
                        "count": 0
                      },
                      {
                        "bin_start": 763.9,
                        "bin_end": 871.6,
                        "count": 0
                      },
                      {
                        "bin_start": 871.6,
                        "bin_end": 979.3000000000001,
                        "count": 0
                      },
                      {
                        "bin_start": 979.3000000000001,
                        "bin_end": 1087,
                        "count": 1
                      }
                    ]
                  }
                },
                {
                  "name": "moonphase",
                  "dtype": "float64",
                  "stats": {
                    "unique_count": 8,
                    "nan_count": 0,
                    "min": "0.0",
                    "max": "17121.0",
                    "histogram": [
                      {
                        "bin_start": 0,
                        "bin_end": 1712.1,
                        "count": 7
                      },
                      {
                        "bin_start": 1712.1,
                        "bin_end": 3424.2,
                        "count": 0
                      },
                      {
                        "bin_start": 3424.2,
                        "bin_end": 5136.299999999999,
                        "count": 0
                      },
                      {
                        "bin_start": 5136.299999999999,
                        "bin_end": 6848.4,
                        "count": 0
                      },
                      {
                        "bin_start": 6848.4,
                        "bin_end": 8560.5,
                        "count": 0
                      },
                      {
                        "bin_start": 8560.5,
                        "bin_end": 10272.599999999999,
                        "count": 0
                      },
                      {
                        "bin_start": 10272.599999999999,
                        "bin_end": 11984.699999999999,
                        "count": 0
                      },
                      {
                        "bin_start": 11984.699999999999,
                        "bin_end": 13696.8,
                        "count": 0
                      },
                      {
                        "bin_start": 13696.8,
                        "bin_end": 15408.9,
                        "count": 0
                      },
                      {
                        "bin_start": 15408.9,
                        "bin_end": 17121,
                        "count": 1
                      }
                    ]
                  }
                },
                {
                  "name": "_deepnote_index_column",
                  "dtype": "object"
                }
              ],
              "rows": [
                {
                  "tempmax": 16700,
                  "tempmin": 16700,
                  "temp": 16700,
                  "feelslikemax": 16700,
                  "feelslikemin": 16700,
                  "feelslike": 16700,
                  "dew": 16700,
                  "humidity": 16700,
                  "precip": 16700,
                  "precipprob": 16700,
                  "precipcover": 17121,
                  "snow": 9089,
                  "snowdepth": 9089,
                  "windgust": 1087,
                  "windspeed": 17121,
                  "winddir": 16407,
                  "sealevelpressure": 13093,
                  "cloudcover": 16700,
                  "visibility": 16695,
                  "solarradiation": 5479,
                  "solarenergy": 5479,
                  "uvindex": 5479,
                  "severerisk": 1087,
                  "moonphase": 17121,
                  "_deepnote_index_column": "count"
                },
                {
                  "tempmax": 29.97774850299401,
                  "tempmin": 24.762790419161675,
                  "temp": 27.08445508982036,
                  "feelslikemax": 35.01611377245509,
                  "feelslikemin": 24.91108383233533,
                  "feelslike": 29.429233532934134,
                  "dew": 23.69447904191617,
                  "humidity": 82.31512574850298,
                  "precip": 8.965808383233533,
                  "precipprob": 58.053892215568865,
                  "precipcover": 6.992850300800188,
                  "snow": 0,
                  "snowdepth": 0,
                  "windgust": 26.41803127874885,
                  "windspeed": 16.651433911570585,
                  "winddir": 159.29658682269763,
                  "sealevelpressure": 1011.1630795081342,
                  "cloudcover": 72.50867065868262,
                  "visibility": 10.647553159628632,
                  "solarradiation": 216.3195656141632,
                  "solarenergy": 18.6741193648476,
                  "uvindex": 7.5320313925898885,
                  "severerisk": 19.770009199632014,
                  "moonphase": 0.4837807371064774,
                  "_deepnote_index_column": "mean"
                },
                {
                  "tempmax": 1.7165956080825442,
                  "tempmin": 1.3444978948606843,
                  "temp": 1.2199895188453147,
                  "feelslikemax": 3.4753729994216203,
                  "feelslikemin": 1.8426603681436708,
                  "feelslike": 2.545826800315512,
                  "dew": 1.0980858893439758,
                  "humidity": 4.442786777094198,
                  "precip": 21.330792281545808,
                  "precipprob": 49.34856274876042,
                  "precipcover": 12.644305690098472,
                  "snow": 0,
                  "snowdepth": 0,
                  "windgust": 8.28909768935225,
                  "windspeed": 8.037371121106931,
                  "winddir": 63.588276250902894,
                  "sealevelpressure": 1.869502381998046,
                  "cloudcover": 16.539230428033925,
                  "visibility": 2.547669373612904,
                  "solarradiation": 59.17260888234893,
                  "solarenergy": 5.113399169194113,
                  "uvindex": 1.8969494010245898,
                  "severerisk": 11.830311222783106,
                  "moonphase": 0.288672555347222,
                  "_deepnote_index_column": "std"
                },
                {
                  "tempmax": 21.9,
                  "tempmin": 2.6,
                  "temp": 20.4,
                  "feelslikemax": 21.9,
                  "feelslikemin": -0.9,
                  "feelslike": 19.8,
                  "dew": 8.4,
                  "humidity": 46,
                  "precip": 0,
                  "precipprob": 0,
                  "precipcover": 0,
                  "snow": 0,
                  "snowdepth": 0,
                  "windgust": 7.9,
                  "windspeed": 0,
                  "winddir": 0,
                  "sealevelpressure": 962.1,
                  "cloudcover": 0,
                  "visibility": 1,
                  "solarradiation": 10,
                  "solarenergy": 1,
                  "uvindex": 1,
                  "severerisk": 10,
                  "moonphase": 0,
                  "_deepnote_index_column": "min"
                },
                {
                  "tempmax": 28.9,
                  "tempmin": 24.1,
                  "temp": 26.3,
                  "feelslikemax": 32.8,
                  "feelslikemin": 24.1,
                  "feelslike": 27.6,
                  "dew": 23.1,
                  "humidity": 79.7,
                  "precip": 0,
                  "precipprob": 0,
                  "precipcover": 0,
                  "snow": 0,
                  "snowdepth": 0,
                  "windgust": 20.5,
                  "windspeed": 11.2,
                  "winddir": 117.5,
                  "sealevelpressure": 1010,
                  "cloudcover": 61.7,
                  "visibility": 9,
                  "solarradiation": 176.55,
                  "solarenergy": 15.2,
                  "uvindex": 6,
                  "severerisk": 10,
                  "moonphase": 0.25,
                  "_deepnote_index_column": "25%"
                },
                {
                  "tempmax": 30.1,
                  "tempmin": 24.9,
                  "temp": 27.2,
                  "feelslikemax": 35.4,
                  "feelslikemin": 24.9,
                  "feelslike": 29.5,
                  "dew": 23.9,
                  "humidity": 82.5,
                  "precip": 0.7,
                  "precipprob": 100,
                  "precipcover": 4.17,
                  "snow": 0,
                  "snowdepth": 0,
                  "windgust": 26.3,
                  "windspeed": 15.5,
                  "winddir": 130.1,
                  "sealevelpressure": 1011.2,
                  "cloudcover": 75,
                  "visibility": 10.2,
                  "solarradiation": 226.9,
                  "solarenergy": 19.6,
                  "uvindex": 8,
                  "severerisk": 10,
                  "moonphase": 0.5,
                  "_deepnote_index_column": "50%"
                },
                {
                  "tempmax": 31.2,
                  "tempmin": 25.4,
                  "temp": 27.9,
                  "feelslikemax": 37.4,
                  "feelslikemin": 25.4,
                  "feelslike": 31.2,
                  "dew": 24.5,
                  "humidity": 85,
                  "precip": 7.3,
                  "precipprob": 100,
                  "precipcover": 8.33,
                  "snow": 0,
                  "snowdepth": 0,
                  "windgust": 32.8,
                  "windspeed": 22.3,
                  "winddir": 200,
                  "sealevelpressure": 1012.4,
                  "cloudcover": 85,
                  "visibility": 11.6,
                  "solarradiation": 260.3,
                  "solarenergy": 22.5,
                  "uvindex": 9,
                  "severerisk": 30,
                  "moonphase": 0.75,
                  "_deepnote_index_column": "75%"
                },
                {
                  "tempmax": 55.7,
                  "tempmin": 33.7,
                  "temp": 36,
                  "feelslikemax": 55.7,
                  "feelslikemin": 41.7,
                  "feelslike": 41.7,
                  "dew": 26.5,
                  "humidity": 98.8,
                  "precip": 356.8,
                  "precipprob": 100,
                  "precipcover": 100,
                  "snow": 0,
                  "snowdepth": 0,
                  "windgust": 56.2,
                  "windspeed": 133.6,
                  "winddir": 360,
                  "sealevelpressure": 1024.1,
                  "cloudcover": 100,
                  "visibility": 37,
                  "solarradiation": 354.9,
                  "solarenergy": 30.9,
                  "uvindex": 10,
                  "severerisk": 75,
                  "moonphase": 0.98,
                  "_deepnote_index_column": "max"
                }
              ]
            },
            "text/plain": "            tempmax       tempmin          temp  feelslikemax  feelslikemin  \\\ncount  16700.000000  16700.000000  16700.000000  16700.000000  16700.000000   \nmean      29.977749     24.762790     27.084455     35.016114     24.911084   \nstd        1.716596      1.344498      1.219990      3.475373      1.842660   \nmin       21.900000      2.600000     20.400000     21.900000     -0.900000   \n25%       28.900000     24.100000     26.300000     32.800000     24.100000   \n50%       30.100000     24.900000     27.200000     35.400000     24.900000   \n75%       31.200000     25.400000     27.900000     37.400000     25.400000   \nmax       55.700000     33.700000     36.000000     55.700000     41.700000   \n\n          feelslike           dew      humidity        precip    precipprob  \\\ncount  16700.000000  16700.000000  16700.000000  16700.000000  16700.000000   \nmean      29.429234     23.694479     82.315126      8.965808     58.053892   \nstd        2.545827      1.098086      4.442787     21.330792     49.348563   \nmin       19.800000      8.400000     46.000000      0.000000      0.000000   \n25%       27.600000     23.100000     79.700000      0.000000      0.000000   \n50%       29.500000     23.900000     82.500000      0.700000    100.000000   \n75%       31.200000     24.500000     85.000000      7.300000    100.000000   \nmax       41.700000     26.500000     98.800000    356.800000    100.000000   \n\n       ...     windspeed       winddir  sealevelpressure    cloudcover  \\\ncount  ...  17121.000000  16407.000000      13093.000000  16700.000000   \nmean   ...     16.651434    159.296587       1011.163080     72.508671   \nstd    ...      8.037371     63.588276          1.869502     16.539230   \nmin    ...      0.000000      0.000000        962.100000      0.000000   \n25%    ...     11.200000    117.500000       1010.000000     61.700000   \n50%    ...     15.500000    130.100000       1011.200000     75.000000   \n75%    ...     22.300000    200.000000       1012.400000     85.000000   \nmax    ...    133.600000    360.000000       1024.100000    100.000000   \n\n         visibility  solarradiation  solarenergy      uvindex   severerisk  \\\ncount  16695.000000     5479.000000  5479.000000  5479.000000  1087.000000   \nmean      10.647553      216.319566    18.674119     7.532031    19.770009   \nstd        2.547669       59.172609     5.113399     1.896949    11.830311   \nmin        1.000000       10.000000     1.000000     1.000000    10.000000   \n25%        9.000000      176.550000    15.200000     6.000000    10.000000   \n50%       10.200000      226.900000    19.600000     8.000000    10.000000   \n75%       11.600000      260.300000    22.500000     9.000000    30.000000   \nmax       37.000000      354.900000    30.900000    10.000000    75.000000   \n\n          moonphase  \ncount  17121.000000  \nmean       0.483781  \nstd        0.288673  \nmin        0.000000  \n25%        0.250000  \n50%        0.500000  \n75%        0.750000  \nmax        0.980000  \n\n[8 rows x 24 columns]",
            "text/html": "<div>\n<style scoped>\n    .dataframe tbody tr th:only-of-type {\n        vertical-align: middle;\n    }\n\n    .dataframe tbody tr th {\n        vertical-align: top;\n    }\n\n    .dataframe thead th {\n        text-align: right;\n    }\n</style>\n<table border=\"1\" class=\"dataframe\">\n  <thead>\n    <tr style=\"text-align: right;\">\n      <th></th>\n      <th>tempmax</th>\n      <th>tempmin</th>\n      <th>temp</th>\n      <th>feelslikemax</th>\n      <th>feelslikemin</th>\n      <th>feelslike</th>\n      <th>dew</th>\n      <th>humidity</th>\n      <th>precip</th>\n      <th>precipprob</th>\n      <th>...</th>\n      <th>windspeed</th>\n      <th>winddir</th>\n      <th>sealevelpressure</th>\n      <th>cloudcover</th>\n      <th>visibility</th>\n      <th>solarradiation</th>\n      <th>solarenergy</th>\n      <th>uvindex</th>\n      <th>severerisk</th>\n      <th>moonphase</th>\n    </tr>\n  </thead>\n  <tbody>\n    <tr>\n      <th>count</th>\n      <td>16700.000000</td>\n      <td>16700.000000</td>\n      <td>16700.000000</td>\n      <td>16700.000000</td>\n      <td>16700.000000</td>\n      <td>16700.000000</td>\n      <td>16700.000000</td>\n      <td>16700.000000</td>\n      <td>16700.000000</td>\n      <td>16700.000000</td>\n      <td>...</td>\n      <td>17121.000000</td>\n      <td>16407.000000</td>\n      <td>13093.000000</td>\n      <td>16700.000000</td>\n      <td>16695.000000</td>\n      <td>5479.000000</td>\n      <td>5479.000000</td>\n      <td>5479.000000</td>\n      <td>1087.000000</td>\n      <td>17121.000000</td>\n    </tr>\n    <tr>\n      <th>mean</th>\n      <td>29.977749</td>\n      <td>24.762790</td>\n      <td>27.084455</td>\n      <td>35.016114</td>\n      <td>24.911084</td>\n      <td>29.429234</td>\n      <td>23.694479</td>\n      <td>82.315126</td>\n      <td>8.965808</td>\n      <td>58.053892</td>\n      <td>...</td>\n      <td>16.651434</td>\n      <td>159.296587</td>\n      <td>1011.163080</td>\n      <td>72.508671</td>\n      <td>10.647553</td>\n      <td>216.319566</td>\n      <td>18.674119</td>\n      <td>7.532031</td>\n      <td>19.770009</td>\n      <td>0.483781</td>\n    </tr>\n    <tr>\n      <th>std</th>\n      <td>1.716596</td>\n      <td>1.344498</td>\n      <td>1.219990</td>\n      <td>3.475373</td>\n      <td>1.842660</td>\n      <td>2.545827</td>\n      <td>1.098086</td>\n      <td>4.442787</td>\n      <td>21.330792</td>\n      <td>49.348563</td>\n      <td>...</td>\n      <td>8.037371</td>\n      <td>63.588276</td>\n      <td>1.869502</td>\n      <td>16.539230</td>\n      <td>2.547669</td>\n      <td>59.172609</td>\n      <td>5.113399</td>\n      <td>1.896949</td>\n      <td>11.830311</td>\n      <td>0.288673</td>\n    </tr>\n    <tr>\n      <th>min</th>\n      <td>21.900000</td>\n      <td>2.600000</td>\n      <td>20.400000</td>\n      <td>21.900000</td>\n      <td>-0.900000</td>\n      <td>19.800000</td>\n      <td>8.400000</td>\n      <td>46.000000</td>\n      <td>0.000000</td>\n      <td>0.000000</td>\n      <td>...</td>\n      <td>0.000000</td>\n      <td>0.000000</td>\n      <td>962.100000</td>\n      <td>0.000000</td>\n      <td>1.000000</td>\n      <td>10.000000</td>\n      <td>1.000000</td>\n      <td>1.000000</td>\n      <td>10.000000</td>\n      <td>0.000000</td>\n    </tr>\n    <tr>\n      <th>25%</th>\n      <td>28.900000</td>\n      <td>24.100000</td>\n      <td>26.300000</td>\n      <td>32.800000</td>\n      <td>24.100000</td>\n      <td>27.600000</td>\n      <td>23.100000</td>\n      <td>79.700000</td>\n      <td>0.000000</td>\n      <td>0.000000</td>\n      <td>...</td>\n      <td>11.200000</td>\n      <td>117.500000</td>\n      <td>1010.000000</td>\n      <td>61.700000</td>\n      <td>9.000000</td>\n      <td>176.550000</td>\n      <td>15.200000</td>\n      <td>6.000000</td>\n      <td>10.000000</td>\n      <td>0.250000</td>\n    </tr>\n    <tr>\n      <th>50%</th>\n      <td>30.100000</td>\n      <td>24.900000</td>\n      <td>27.200000</td>\n      <td>35.400000</td>\n      <td>24.900000</td>\n      <td>29.500000</td>\n      <td>23.900000</td>\n      <td>82.500000</td>\n      <td>0.700000</td>\n      <td>100.000000</td>\n      <td>...</td>\n      <td>15.500000</td>\n      <td>130.100000</td>\n      <td>1011.200000</td>\n      <td>75.000000</td>\n      <td>10.200000</td>\n      <td>226.900000</td>\n      <td>19.600000</td>\n      <td>8.000000</td>\n      <td>10.000000</td>\n      <td>0.500000</td>\n    </tr>\n    <tr>\n      <th>75%</th>\n      <td>31.200000</td>\n      <td>25.400000</td>\n      <td>27.900000</td>\n      <td>37.400000</td>\n      <td>25.400000</td>\n      <td>31.200000</td>\n      <td>24.500000</td>\n      <td>85.000000</td>\n      <td>7.300000</td>\n      <td>100.000000</td>\n      <td>...</td>\n      <td>22.300000</td>\n      <td>200.000000</td>\n      <td>1012.400000</td>\n      <td>85.000000</td>\n      <td>11.600000</td>\n      <td>260.300000</td>\n      <td>22.500000</td>\n      <td>9.000000</td>\n      <td>30.000000</td>\n      <td>0.750000</td>\n    </tr>\n    <tr>\n      <th>max</th>\n      <td>55.700000</td>\n      <td>33.700000</td>\n      <td>36.000000</td>\n      <td>55.700000</td>\n      <td>41.700000</td>\n      <td>41.700000</td>\n      <td>26.500000</td>\n      <td>98.800000</td>\n      <td>356.800000</td>\n      <td>100.000000</td>\n      <td>...</td>\n      <td>133.600000</td>\n      <td>360.000000</td>\n      <td>1024.100000</td>\n      <td>100.000000</td>\n      <td>37.000000</td>\n      <td>354.900000</td>\n      <td>30.900000</td>\n      <td>10.000000</td>\n      <td>75.000000</td>\n      <td>0.980000</td>\n    </tr>\n  </tbody>\n</table>\n<p>8 rows × 24 columns</p>\n</div>"
          },
          "metadata": {}
        }
      ],
      "outputs_reference": null,
      "execution_count": 7,
      "block_group": "07a63265f26a4649936b7d31ff3cf7f1",
      "content_dependencies": null
    },
    {
      "cell_type": "code",
      "source": "data3.info()",
      "metadata": {
        "source_hash": "43da320c",
        "execution_start": 1736072609943,
        "execution_millis": 1,
        "execution_context_id": "b89841ec-5496-487c-91f1-5166d5407ab7",
        "cell_id": "0f3455e111ba47319d90ef52f56ad11c",
        "deepnote_cell_type": "code"
      },
      "outputs": [
        {
          "name": "stdout",
          "text": "<class 'pandas.core.frame.DataFrame'>\nRangeIndex: 17121 entries, 0 to 17120\nData columns (total 33 columns):\n #   Column            Non-Null Count  Dtype  \n---  ------            --------------  -----  \n 0   name              17121 non-null  object \n 1   datetime          17121 non-null  object \n 2   tempmax           16700 non-null  float64\n 3   tempmin           16700 non-null  float64\n 4   temp              16700 non-null  float64\n 5   feelslikemax      16700 non-null  float64\n 6   feelslikemin      16700 non-null  float64\n 7   feelslike         16700 non-null  float64\n 8   dew               16700 non-null  float64\n 9   humidity          16700 non-null  float64\n 10  precip            16700 non-null  float64\n 11  precipprob        16700 non-null  float64\n 12  precipcover       17121 non-null  float64\n 13  preciptype        9765 non-null   object \n 14  snow              9089 non-null   float64\n 15  snowdepth         9089 non-null   float64\n 16  windgust          1087 non-null   float64\n 17  windspeed         17121 non-null  float64\n 18  winddir           16407 non-null  float64\n 19  sealevelpressure  13093 non-null  float64\n 20  cloudcover        16700 non-null  float64\n 21  visibility        16695 non-null  float64\n 22  solarradiation    5479 non-null   float64\n 23  solarenergy       5479 non-null   float64\n 24  uvindex           5479 non-null   float64\n 25  severerisk        1087 non-null   float64\n 26  sunrise           17121 non-null  object \n 27  sunset            17121 non-null  object \n 28  moonphase         17121 non-null  float64\n 29  conditions        16700 non-null  object \n 30  description       16700 non-null  object \n 31  icon              16700 non-null  object \n 32  stations          16700 non-null  object \ndtypes: float64(24), object(9)\nmemory usage: 4.3+ MB\n",
          "output_type": "stream"
        }
      ],
      "outputs_reference": null,
      "execution_count": 8,
      "block_group": "3c66c4e0a6f84cac844109769add87e5",
      "content_dependencies": null
    },
    {
      "cell_type": "code",
      "source": "# Mengonversi nilai precipprob: 0 menjadi \"No\", 100 menjadi \"Yes\"\ndata3['precipprob'] = data3['precipprob'].apply(lambda x: \"Yes\" if x == 100 else \"No\")\n\n# Mengonversi ke tipe data boolean\ndata3['precipprob'] = data3['precipprob'].map({\"Yes\": True, \"No\": False})\n\n# Mengecek hasil\nprint(data3['precipprob'].head())",
      "metadata": {
        "source_hash": "fe73df0f",
        "execution_start": 1736072609995,
        "execution_millis": 0,
        "execution_context_id": "b89841ec-5496-487c-91f1-5166d5407ab7",
        "cell_id": "6f44717bc0cf41eba8fedc70881766af",
        "deepnote_cell_type": "code"
      },
      "outputs": [
        {
          "name": "stdout",
          "text": "0    False\n1    False\n2    False\n3    False\n4    False\nName: precipprob, dtype: bool\n",
          "output_type": "stream"
        }
      ],
      "outputs_reference": null,
      "execution_count": 9,
      "block_group": "1a446a93db9346b78ff72bf541a1f5f5",
      "content_dependencies": null
    },
    {
      "cell_type": "code",
      "source": "# Export DataFrame ke csv\ndata3.to_csv(\n    'datalstm.csv', \n    sep=',',\n    index=False,\n    index_label='datetime'\n)\n",
      "metadata": {
        "source_hash": "a86518dc",
        "execution_start": 1736072610047,
        "execution_millis": 535,
        "execution_context_id": "b89841ec-5496-487c-91f1-5166d5407ab7",
        "cell_id": "42a81ffadc8f46dc98b55ac63c5d0466",
        "deepnote_cell_type": "code"
      },
      "outputs": [],
      "outputs_reference": null,
      "execution_count": 10,
      "block_group": "10d5f213b8e845cfa3955b5cb4e092e6",
      "content_dependencies": null
    },
    {
      "cell_type": "code",
      "source": "data3",
      "metadata": {
        "source_hash": "42ab7c10",
        "execution_start": 1736072610627,
        "execution_millis": 22,
        "deepnote_table_state": {
          "sortBy": [],
          "filters": [],
          "pageSize": 100,
          "pageIndex": 1,
          "columnOrder": [
            "name",
            "datetime",
            "tempmax",
            "tempmin",
            "temp",
            "feelslikemax",
            "feelslikemin",
            "feelslike",
            "dew",
            "humidity",
            "precip",
            "precipprob",
            "precipcover",
            "preciptype",
            "snow",
            "snowdepth",
            "windgust",
            "windspeed",
            "winddir",
            "sealevelpressure",
            "cloudcover",
            "visibility",
            "solarradiation",
            "solarenergy",
            "uvindex",
            "severerisk",
            "sunrise",
            "sunset",
            "moonphase",
            "conditions",
            "description",
            "icon"
          ],
          "hiddenColumnIds": [],
          "columnDisplayNames": [],
          "conditionalFilters": [],
          "cellFormattingRules": [],
          "wrappedTextColumnIds": []
        },
        "execution_context_id": "b89841ec-5496-487c-91f1-5166d5407ab7",
        "deepnote_table_loading": false,
        "cell_id": "44c021eaf2fe4c978d56c2d6bdb574df",
        "deepnote_cell_type": "code"
      },
      "outputs": [
        {
          "output_type": "execute_result",
          "execution_count": 21,
          "data": {
            "application/vnd.deepnote.dataframe.v3+json": {
              "column_count": 32,
              "row_count": 996,
              "columns": [
                {
                  "name": "name",
                  "dtype": "object",
                  "stats": {
                    "unique_count": 2,
                    "nan_count": 0,
                    "categories": [
                      {
                        "name": "Kebumen",
                        "count": 646
                      },
                      {
                        "name": "Kebumen, Indonesia",
                        "count": 350
                      }
                    ]
                  }
                },
                {
                  "name": "datetime",
                  "dtype": "object",
                  "stats": {
                    "unique_count": 996,
                    "nan_count": 0,
                    "categories": [
                      {
                        "name": "2022-01-10",
                        "count": 1
                      },
                      {
                        "name": "2022-01-11",
                        "count": 1
                      },
                      {
                        "name": "994 others",
                        "count": 994
                      }
                    ]
                  }
                },
                {
                  "name": "tempmax",
                  "dtype": "float64",
                  "stats": {
                    "unique_count": 77,
                    "nan_count": 0,
                    "min": "26.2",
                    "max": "35.5",
                    "histogram": [
                      {
                        "bin_start": 26.2,
                        "bin_end": 27.13,
                        "count": 4
                      },
                      {
                        "bin_start": 27.13,
                        "bin_end": 28.06,
                        "count": 27
                      },
                      {
                        "bin_start": 28.06,
                        "bin_end": 28.99,
                        "count": 83
                      },
                      {
                        "bin_start": 28.99,
                        "bin_end": 29.919999999999998,
                        "count": 174
                      },
                      {
                        "bin_start": 29.919999999999998,
                        "bin_end": 30.85,
                        "count": 194
                      },
                      {
                        "bin_start": 30.85,
                        "bin_end": 31.78,
                        "count": 256
                      },
                      {
                        "bin_start": 31.78,
                        "bin_end": 32.71,
                        "count": 193
                      },
                      {
                        "bin_start": 32.71,
                        "bin_end": 33.64,
                        "count": 46
                      },
                      {
                        "bin_start": 33.64,
                        "bin_end": 34.57,
                        "count": 13
                      },
                      {
                        "bin_start": 34.57,
                        "bin_end": 35.5,
                        "count": 6
                      }
                    ]
                  }
                },
                {
                  "name": "tempmin",
                  "dtype": "float64",
                  "stats": {
                    "unique_count": 65,
                    "nan_count": 0,
                    "min": "19.8",
                    "max": "27.4",
                    "histogram": [
                      {
                        "bin_start": 19.8,
                        "bin_end": 20.560000000000002,
                        "count": 3
                      },
                      {
                        "bin_start": 20.560000000000002,
                        "bin_end": 21.32,
                        "count": 5
                      },
                      {
                        "bin_start": 21.32,
                        "bin_end": 22.08,
                        "count": 23
                      },
                      {
                        "bin_start": 22.08,
                        "bin_end": 22.84,
                        "count": 42
                      },
                      {
                        "bin_start": 22.84,
                        "bin_end": 23.6,
                        "count": 91
                      },
                      {
                        "bin_start": 23.6,
                        "bin_end": 24.36,
                        "count": 244
                      },
                      {
                        "bin_start": 24.36,
                        "bin_end": 25.119999999999997,
                        "count": 274
                      },
                      {
                        "bin_start": 25.119999999999997,
                        "bin_end": 25.88,
                        "count": 192
                      },
                      {
                        "bin_start": 25.88,
                        "bin_end": 26.64,
                        "count": 96
                      },
                      {
                        "bin_start": 26.64,
                        "bin_end": 27.4,
                        "count": 26
                      }
                    ]
                  }
                },
                {
                  "name": "temp",
                  "dtype": "float64",
                  "stats": {
                    "unique_count": 55,
                    "nan_count": 0,
                    "min": "23.8",
                    "max": "30.1",
                    "histogram": [
                      {
                        "bin_start": 23.8,
                        "bin_end": 24.43,
                        "count": 5
                      },
                      {
                        "bin_start": 24.43,
                        "bin_end": 25.060000000000002,
                        "count": 17
                      },
                      {
                        "bin_start": 25.060000000000002,
                        "bin_end": 25.69,
                        "count": 66
                      },
                      {
                        "bin_start": 25.69,
                        "bin_end": 26.32,
                        "count": 168
                      },
                      {
                        "bin_start": 26.32,
                        "bin_end": 26.950000000000003,
                        "count": 172
                      },
                      {
                        "bin_start": 26.950000000000003,
                        "bin_end": 27.580000000000002,
                        "count": 196
                      },
                      {
                        "bin_start": 27.580000000000002,
                        "bin_end": 28.21,
                        "count": 220
                      },
                      {
                        "bin_start": 28.21,
                        "bin_end": 28.840000000000003,
                        "count": 110
                      },
                      {
                        "bin_start": 28.840000000000003,
                        "bin_end": 29.470000000000002,
                        "count": 38
                      },
                      {
                        "bin_start": 29.470000000000002,
                        "bin_end": 30.1,
                        "count": 4
                      }
                    ]
                  }
                },
                {
                  "name": "feelslikemax",
                  "dtype": "float64",
                  "stats": {
                    "unique_count": 143,
                    "nan_count": 0,
                    "min": "26.2",
                    "max": "47.9",
                    "histogram": [
                      {
                        "bin_start": 26.2,
                        "bin_end": 28.369999999999997,
                        "count": 2
                      },
                      {
                        "bin_start": 28.369999999999997,
                        "bin_end": 30.54,
                        "count": 14
                      },
                      {
                        "bin_start": 30.54,
                        "bin_end": 32.71,
                        "count": 78
                      },
                      {
                        "bin_start": 32.71,
                        "bin_end": 34.879999999999995,
                        "count": 155
                      },
                      {
                        "bin_start": 34.879999999999995,
                        "bin_end": 37.05,
                        "count": 199
                      },
                      {
                        "bin_start": 37.05,
                        "bin_end": 39.22,
                        "count": 303
                      },
                      {
                        "bin_start": 39.22,
                        "bin_end": 41.39,
                        "count": 177
                      },
                      {
                        "bin_start": 41.39,
                        "bin_end": 43.56,
                        "count": 58
                      },
                      {
                        "bin_start": 43.56,
                        "bin_end": 45.730000000000004,
                        "count": 9
                      },
                      {
                        "bin_start": 45.730000000000004,
                        "bin_end": 47.9,
                        "count": 1
                      }
                    ]
                  }
                },
                {
                  "name": "feelslikemin",
                  "dtype": "float64",
                  "stats": {
                    "unique_count": 72,
                    "nan_count": 0,
                    "min": "19.8",
                    "max": "31.2",
                    "histogram": [
                      {
                        "bin_start": 19.8,
                        "bin_end": 20.94,
                        "count": 4
                      },
                      {
                        "bin_start": 20.94,
                        "bin_end": 22.080000000000002,
                        "count": 27
                      },
                      {
                        "bin_start": 22.080000000000002,
                        "bin_end": 23.22,
                        "count": 85
                      },
                      {
                        "bin_start": 23.22,
                        "bin_end": 24.36,
                        "count": 292
                      },
                      {
                        "bin_start": 24.36,
                        "bin_end": 25.5,
                        "count": 379
                      },
                      {
                        "bin_start": 25.5,
                        "bin_end": 26.64,
                        "count": 183
                      },
                      {
                        "bin_start": 26.64,
                        "bin_end": 27.78,
                        "count": 9
                      },
                      {
                        "bin_start": 27.78,
                        "bin_end": 28.92,
                        "count": 0
                      },
                      {
                        "bin_start": 28.92,
                        "bin_end": 30.060000000000002,
                        "count": 3
                      },
                      {
                        "bin_start": 30.060000000000002,
                        "bin_end": 31.2,
                        "count": 14
                      }
                    ]
                  }
                },
                {
                  "name": "feelslike",
                  "dtype": "float64",
                  "stats": {
                    "unique_count": 105,
                    "nan_count": 0,
                    "min": "24.1",
                    "max": "36.3",
                    "histogram": [
                      {
                        "bin_start": 24.1,
                        "bin_end": 25.32,
                        "count": 17
                      },
                      {
                        "bin_start": 25.32,
                        "bin_end": 26.54,
                        "count": 71
                      },
                      {
                        "bin_start": 26.54,
                        "bin_end": 27.759999999999998,
                        "count": 166
                      },
                      {
                        "bin_start": 27.759999999999998,
                        "bin_end": 28.98,
                        "count": 191
                      },
                      {
                        "bin_start": 28.98,
                        "bin_end": 30.2,
                        "count": 154
                      },
                      {
                        "bin_start": 30.2,
                        "bin_end": 31.419999999999998,
                        "count": 180
                      },
                      {
                        "bin_start": 31.419999999999998,
                        "bin_end": 32.64,
                        "count": 96
                      },
                      {
                        "bin_start": 32.64,
                        "bin_end": 33.86,
                        "count": 79
                      },
                      {
                        "bin_start": 33.86,
                        "bin_end": 35.08,
                        "count": 38
                      },
                      {
                        "bin_start": 35.08,
                        "bin_end": 36.3,
                        "count": 4
                      }
                    ]
                  }
                },
                {
                  "name": "dew",
                  "dtype": "float64",
                  "stats": {
                    "unique_count": 62,
                    "nan_count": 0,
                    "min": "18.8",
                    "max": "26.4",
                    "histogram": [
                      {
                        "bin_start": 18.8,
                        "bin_end": 19.560000000000002,
                        "count": 1
                      },
                      {
                        "bin_start": 19.560000000000002,
                        "bin_end": 20.32,
                        "count": 2
                      },
                      {
                        "bin_start": 20.32,
                        "bin_end": 21.08,
                        "count": 10
                      },
                      {
                        "bin_start": 21.08,
                        "bin_end": 21.84,
                        "count": 32
                      },
                      {
                        "bin_start": 21.84,
                        "bin_end": 22.6,
                        "count": 55
                      },
                      {
                        "bin_start": 22.6,
                        "bin_end": 23.36,
                        "count": 219
                      },
                      {
                        "bin_start": 23.36,
                        "bin_end": 24.119999999999997,
                        "count": 245
                      },
                      {
                        "bin_start": 24.119999999999997,
                        "bin_end": 24.88,
                        "count": 225
                      },
                      {
                        "bin_start": 24.88,
                        "bin_end": 25.64,
                        "count": 178
                      },
                      {
                        "bin_start": 25.64,
                        "bin_end": 26.4,
                        "count": 29
                      }
                    ]
                  }
                },
                {
                  "name": "humidity",
                  "dtype": "float64",
                  "stats": {
                    "unique_count": 159,
                    "nan_count": 0,
                    "min": "67.5",
                    "max": "94.9",
                    "histogram": [
                      {
                        "bin_start": 67.5,
                        "bin_end": 70.24,
                        "count": 2
                      },
                      {
                        "bin_start": 70.24,
                        "bin_end": 72.98,
                        "count": 3
                      },
                      {
                        "bin_start": 72.98,
                        "bin_end": 75.72,
                        "count": 11
                      },
                      {
                        "bin_start": 75.72,
                        "bin_end": 78.46000000000001,
                        "count": 63
                      },
                      {
                        "bin_start": 78.46000000000001,
                        "bin_end": 81.2,
                        "count": 167
                      },
                      {
                        "bin_start": 81.2,
                        "bin_end": 83.94,
                        "count": 348
                      },
                      {
                        "bin_start": 83.94,
                        "bin_end": 86.68,
                        "count": 301
                      },
                      {
                        "bin_start": 86.68,
                        "bin_end": 89.42,
                        "count": 91
                      },
                      {
                        "bin_start": 89.42,
                        "bin_end": 92.16000000000001,
                        "count": 9
                      },
                      {
                        "bin_start": 92.16000000000001,
                        "bin_end": 94.9,
                        "count": 1
                      }
                    ]
                  }
                },
                {
                  "name": "precip",
                  "dtype": "float64",
                  "stats": {
                    "unique_count": 236,
                    "nan_count": 0,
                    "min": "0.0",
                    "max": "356.8",
                    "histogram": [
                      {
                        "bin_start": 0,
                        "bin_end": 35.68,
                        "count": 924
                      },
                      {
                        "bin_start": 35.68,
                        "bin_end": 71.36,
                        "count": 42
                      },
                      {
                        "bin_start": 71.36,
                        "bin_end": 107.03999999999999,
                        "count": 22
                      },
                      {
                        "bin_start": 107.03999999999999,
                        "bin_end": 142.72,
                        "count": 4
                      },
                      {
                        "bin_start": 142.72,
                        "bin_end": 178.4,
                        "count": 2
                      },
                      {
                        "bin_start": 178.4,
                        "bin_end": 214.07999999999998,
                        "count": 0
                      },
                      {
                        "bin_start": 214.07999999999998,
                        "bin_end": 249.76,
                        "count": 1
                      },
                      {
                        "bin_start": 249.76,
                        "bin_end": 285.44,
                        "count": 0
                      },
                      {
                        "bin_start": 285.44,
                        "bin_end": 321.12,
                        "count": 0
                      },
                      {
                        "bin_start": 321.12,
                        "bin_end": 356.8,
                        "count": 1
                      }
                    ]
                  }
                },
                {
                  "name": "precipprob",
                  "dtype": "bool",
                  "stats": {
                    "unique_count": 2,
                    "nan_count": 0,
                    "categories": [
                      {
                        "name": "True",
                        "count": 926
                      },
                      {
                        "name": "False",
                        "count": 70
                      }
                    ]
                  }
                },
                {
                  "name": "precipcover",
                  "dtype": "float64",
                  "stats": {
                    "unique_count": 20,
                    "nan_count": 0,
                    "min": "0.0",
                    "max": "95.83",
                    "histogram": [
                      {
                        "bin_start": 0,
                        "bin_end": 9.583,
                        "count": 533
                      },
                      {
                        "bin_start": 9.583,
                        "bin_end": 19.166,
                        "count": 213
                      },
                      {
                        "bin_start": 19.166,
                        "bin_end": 28.749000000000002,
                        "count": 99
                      },
                      {
                        "bin_start": 28.749000000000002,
                        "bin_end": 38.332,
                        "count": 76
                      },
                      {
                        "bin_start": 38.332,
                        "bin_end": 47.915,
                        "count": 32
                      },
                      {
                        "bin_start": 47.915,
                        "bin_end": 57.498000000000005,
                        "count": 18
                      },
                      {
                        "bin_start": 57.498000000000005,
                        "bin_end": 67.081,
                        "count": 20
                      },
                      {
                        "bin_start": 67.081,
                        "bin_end": 76.664,
                        "count": 4
                      },
                      {
                        "bin_start": 76.664,
                        "bin_end": 86.247,
                        "count": 0
                      },
                      {
                        "bin_start": 86.247,
                        "bin_end": 95.83,
                        "count": 1
                      }
                    ]
                  }
                },
                {
                  "name": "preciptype",
                  "dtype": "object",
                  "stats": {
                    "unique_count": 1,
                    "nan_count": 0,
                    "categories": [
                      {
                        "name": "rain",
                        "count": 996
                      }
                    ]
                  }
                },
                {
                  "name": "snow",
                  "dtype": "float64",
                  "stats": {
                    "unique_count": 1,
                    "nan_count": 0,
                    "min": "0.0",
                    "max": "0.0",
                    "histogram": [
                      {
                        "bin_start": -0.5,
                        "bin_end": -0.4,
                        "count": 0
                      },
                      {
                        "bin_start": -0.4,
                        "bin_end": -0.3,
                        "count": 0
                      },
                      {
                        "bin_start": -0.3,
                        "bin_end": -0.19999999999999996,
                        "count": 0
                      },
                      {
                        "bin_start": -0.19999999999999996,
                        "bin_end": -0.09999999999999998,
                        "count": 0
                      },
                      {
                        "bin_start": -0.09999999999999998,
                        "bin_end": 0,
                        "count": 0
                      },
                      {
                        "bin_start": 0,
                        "bin_end": 0.10000000000000009,
                        "count": 996
                      },
                      {
                        "bin_start": 0.10000000000000009,
                        "bin_end": 0.20000000000000007,
                        "count": 0
                      },
                      {
                        "bin_start": 0.20000000000000007,
                        "bin_end": 0.30000000000000004,
                        "count": 0
                      },
                      {
                        "bin_start": 0.30000000000000004,
                        "bin_end": 0.4,
                        "count": 0
                      },
                      {
                        "bin_start": 0.4,
                        "bin_end": 0.5,
                        "count": 0
                      }
                    ]
                  }
                },
                {
                  "name": "snowdepth",
                  "dtype": "float64",
                  "stats": {
                    "unique_count": 1,
                    "nan_count": 0,
                    "min": "0.0",
                    "max": "0.0",
                    "histogram": [
                      {
                        "bin_start": -0.5,
                        "bin_end": -0.4,
                        "count": 0
                      },
                      {
                        "bin_start": -0.4,
                        "bin_end": -0.3,
                        "count": 0
                      },
                      {
                        "bin_start": -0.3,
                        "bin_end": -0.19999999999999996,
                        "count": 0
                      },
                      {
                        "bin_start": -0.19999999999999996,
                        "bin_end": -0.09999999999999998,
                        "count": 0
                      },
                      {
                        "bin_start": -0.09999999999999998,
                        "bin_end": 0,
                        "count": 0
                      },
                      {
                        "bin_start": 0,
                        "bin_end": 0.10000000000000009,
                        "count": 996
                      },
                      {
                        "bin_start": 0.10000000000000009,
                        "bin_end": 0.20000000000000007,
                        "count": 0
                      },
                      {
                        "bin_start": 0.20000000000000007,
                        "bin_end": 0.30000000000000004,
                        "count": 0
                      },
                      {
                        "bin_start": 0.30000000000000004,
                        "bin_end": 0.4,
                        "count": 0
                      },
                      {
                        "bin_start": 0.4,
                        "bin_end": 0.5,
                        "count": 0
                      }
                    ]
                  }
                },
                {
                  "name": "windgust",
                  "dtype": "float64",
                  "stats": {
                    "unique_count": 110,
                    "nan_count": 0,
                    "min": "7.9",
                    "max": "56.2",
                    "histogram": [
                      {
                        "bin_start": 7.9,
                        "bin_end": 12.73,
                        "count": 57
                      },
                      {
                        "bin_start": 12.73,
                        "bin_end": 17.560000000000002,
                        "count": 111
                      },
                      {
                        "bin_start": 17.560000000000002,
                        "bin_end": 22.39,
                        "count": 181
                      },
                      {
                        "bin_start": 22.39,
                        "bin_end": 27.22,
                        "count": 215
                      },
                      {
                        "bin_start": 27.22,
                        "bin_end": 32.05,
                        "count": 188
                      },
                      {
                        "bin_start": 32.05,
                        "bin_end": 36.88,
                        "count": 140
                      },
                      {
                        "bin_start": 36.88,
                        "bin_end": 41.71,
                        "count": 72
                      },
                      {
                        "bin_start": 41.71,
                        "bin_end": 46.54,
                        "count": 27
                      },
                      {
                        "bin_start": 46.54,
                        "bin_end": 51.37,
                        "count": 4
                      },
                      {
                        "bin_start": 51.37,
                        "bin_end": 56.2,
                        "count": 1
                      }
                    ]
                  }
                },
                {
                  "name": "windspeed",
                  "dtype": "float64",
                  "stats": {
                    "unique_count": 67,
                    "nan_count": 0,
                    "min": "5.4",
                    "max": "44.6",
                    "histogram": [
                      {
                        "bin_start": 5.4,
                        "bin_end": 9.32,
                        "count": 27
                      },
                      {
                        "bin_start": 9.32,
                        "bin_end": 13.240000000000002,
                        "count": 316
                      },
                      {
                        "bin_start": 13.240000000000002,
                        "bin_end": 17.160000000000004,
                        "count": 324
                      },
                      {
                        "bin_start": 17.160000000000004,
                        "bin_end": 21.080000000000002,
                        "count": 205
                      },
                      {
                        "bin_start": 21.080000000000002,
                        "bin_end": 25,
                        "count": 82
                      },
                      {
                        "bin_start": 25,
                        "bin_end": 28.92,
                        "count": 32
                      },
                      {
                        "bin_start": 28.92,
                        "bin_end": 32.84,
                        "count": 5
                      },
                      {
                        "bin_start": 32.84,
                        "bin_end": 36.760000000000005,
                        "count": 1
                      },
                      {
                        "bin_start": 36.760000000000005,
                        "bin_end": 40.68,
                        "count": 3
                      },
                      {
                        "bin_start": 40.68,
                        "bin_end": 44.6,
                        "count": 1
                      }
                    ]
                  }
                },
                {
                  "name": "winddir",
                  "dtype": "float64",
                  "stats": {
                    "unique_count": 629,
                    "nan_count": 0,
                    "min": "6.9",
                    "max": "357.4",
                    "histogram": [
                      {
                        "bin_start": 6.9,
                        "bin_end": 41.949999999999996,
                        "count": 4
                      },
                      {
                        "bin_start": 41.949999999999996,
                        "bin_end": 77,
                        "count": 4
                      },
                      {
                        "bin_start": 77,
                        "bin_end": 112.05,
                        "count": 47
                      },
                      {
                        "bin_start": 112.05,
                        "bin_end": 147.1,
                        "count": 524
                      },
                      {
                        "bin_start": 147.1,
                        "bin_end": 182.15,
                        "count": 67
                      },
                      {
                        "bin_start": 182.15,
                        "bin_end": 217.2,
                        "count": 28
                      },
                      {
                        "bin_start": 217.2,
                        "bin_end": 252.24999999999997,
                        "count": 52
                      },
                      {
                        "bin_start": 252.24999999999997,
                        "bin_end": 287.29999999999995,
                        "count": 183
                      },
                      {
                        "bin_start": 287.29999999999995,
                        "bin_end": 322.34999999999997,
                        "count": 79
                      },
                      {
                        "bin_start": 322.34999999999997,
                        "bin_end": 357.4,
                        "count": 8
                      }
                    ]
                  }
                },
                {
                  "name": "sealevelpressure",
                  "dtype": "float64",
                  "stats": {
                    "unique_count": 86,
                    "nan_count": 0,
                    "min": "1005.8",
                    "max": "1016.5",
                    "histogram": [
                      {
                        "bin_start": 1005.8,
                        "bin_end": 1006.87,
                        "count": 16
                      },
                      {
                        "bin_start": 1006.87,
                        "bin_end": 1007.9399999999999,
                        "count": 63
                      },
                      {
                        "bin_start": 1007.9399999999999,
                        "bin_end": 1009.01,
                        "count": 150
                      },
                      {
                        "bin_start": 1009.01,
                        "bin_end": 1010.0799999999999,
                        "count": 184
                      },
                      {
                        "bin_start": 1010.0799999999999,
                        "bin_end": 1011.15,
                        "count": 236
                      },
                      {
                        "bin_start": 1011.15,
                        "bin_end": 1012.22,
                        "count": 185
                      },
                      {
                        "bin_start": 1012.22,
                        "bin_end": 1013.29,
                        "count": 111
                      },
                      {
                        "bin_start": 1013.29,
                        "bin_end": 1014.36,
                        "count": 46
                      },
                      {
                        "bin_start": 1014.36,
                        "bin_end": 1015.43,
                        "count": 4
                      },
                      {
                        "bin_start": 1015.43,
                        "bin_end": 1016.5,
                        "count": 1
                      }
                    ]
                  }
                },
                {
                  "name": "cloudcover",
                  "dtype": "float64",
                  "stats": {
                    "unique_count": 483,
                    "nan_count": 0,
                    "min": "23.7",
                    "max": "100.0",
                    "histogram": [
                      {
                        "bin_start": 23.7,
                        "bin_end": 31.33,
                        "count": 10
                      },
                      {
                        "bin_start": 31.33,
                        "bin_end": 38.96,
                        "count": 21
                      },
                      {
                        "bin_start": 38.96,
                        "bin_end": 46.59,
                        "count": 48
                      },
                      {
                        "bin_start": 46.59,
                        "bin_end": 54.22,
                        "count": 63
                      },
                      {
                        "bin_start": 54.22,
                        "bin_end": 61.849999999999994,
                        "count": 95
                      },
                      {
                        "bin_start": 61.849999999999994,
                        "bin_end": 69.48,
                        "count": 93
                      },
                      {
                        "bin_start": 69.48,
                        "bin_end": 77.11,
                        "count": 133
                      },
                      {
                        "bin_start": 77.11,
                        "bin_end": 84.74,
                        "count": 148
                      },
                      {
                        "bin_start": 84.74,
                        "bin_end": 92.37,
                        "count": 194
                      },
                      {
                        "bin_start": 92.37,
                        "bin_end": 100,
                        "count": 191
                      }
                    ]
                  }
                },
                {
                  "name": "visibility",
                  "dtype": "float64",
                  "stats": {
                    "unique_count": 131,
                    "nan_count": 0,
                    "min": "5.9",
                    "max": "24.1",
                    "histogram": [
                      {
                        "bin_start": 5.9,
                        "bin_end": 7.720000000000001,
                        "count": 7
                      },
                      {
                        "bin_start": 7.720000000000001,
                        "bin_end": 9.540000000000001,
                        "count": 61
                      },
                      {
                        "bin_start": 9.540000000000001,
                        "bin_end": 11.360000000000001,
                        "count": 20
                      },
                      {
                        "bin_start": 11.360000000000001,
                        "bin_end": 13.180000000000001,
                        "count": 27
                      },
                      {
                        "bin_start": 13.180000000000001,
                        "bin_end": 15.000000000000002,
                        "count": 67
                      },
                      {
                        "bin_start": 15.000000000000002,
                        "bin_end": 16.82,
                        "count": 164
                      },
                      {
                        "bin_start": 16.82,
                        "bin_end": 18.64,
                        "count": 333
                      },
                      {
                        "bin_start": 18.64,
                        "bin_end": 20.46,
                        "count": 303
                      },
                      {
                        "bin_start": 20.46,
                        "bin_end": 22.28,
                        "count": 5
                      },
                      {
                        "bin_start": 22.28,
                        "bin_end": 24.1,
                        "count": 9
                      }
                    ]
                  }
                },
                {
                  "name": "solarradiation",
                  "dtype": "float64",
                  "stats": {
                    "unique_count": 750,
                    "nan_count": 0,
                    "min": "10.0",
                    "max": "354.9",
                    "histogram": [
                      {
                        "bin_start": 10,
                        "bin_end": 44.489999999999995,
                        "count": 4
                      },
                      {
                        "bin_start": 44.489999999999995,
                        "bin_end": 78.97999999999999,
                        "count": 9
                      },
                      {
                        "bin_start": 78.97999999999999,
                        "bin_end": 113.46999999999998,
                        "count": 23
                      },
                      {
                        "bin_start": 113.46999999999998,
                        "bin_end": 147.95999999999998,
                        "count": 35
                      },
                      {
                        "bin_start": 147.95999999999998,
                        "bin_end": 182.45,
                        "count": 101
                      },
                      {
                        "bin_start": 182.45,
                        "bin_end": 216.93999999999997,
                        "count": 238
                      },
                      {
                        "bin_start": 216.93999999999997,
                        "bin_end": 251.42999999999995,
                        "count": 307
                      },
                      {
                        "bin_start": 251.42999999999995,
                        "bin_end": 285.91999999999996,
                        "count": 194
                      },
                      {
                        "bin_start": 285.91999999999996,
                        "bin_end": 320.40999999999997,
                        "count": 82
                      },
                      {
                        "bin_start": 320.40999999999997,
                        "bin_end": 354.9,
                        "count": 3
                      }
                    ]
                  }
                },
                {
                  "name": "solarenergy",
                  "dtype": "float64",
                  "stats": {
                    "unique_count": 195,
                    "nan_count": 0,
                    "min": "1.0",
                    "max": "30.9",
                    "histogram": [
                      {
                        "bin_start": 1,
                        "bin_end": 3.9899999999999998,
                        "count": 4
                      },
                      {
                        "bin_start": 3.9899999999999998,
                        "bin_end": 6.9799999999999995,
                        "count": 10
                      },
                      {
                        "bin_start": 6.9799999999999995,
                        "bin_end": 9.969999999999999,
                        "count": 22
                      },
                      {
                        "bin_start": 9.969999999999999,
                        "bin_end": 12.959999999999999,
                        "count": 38
                      },
                      {
                        "bin_start": 12.959999999999999,
                        "bin_end": 15.95,
                        "count": 111
                      },
                      {
                        "bin_start": 15.95,
                        "bin_end": 18.939999999999998,
                        "count": 243
                      },
                      {
                        "bin_start": 18.939999999999998,
                        "bin_end": 21.93,
                        "count": 312
                      },
                      {
                        "bin_start": 21.93,
                        "bin_end": 24.919999999999998,
                        "count": 185
                      },
                      {
                        "bin_start": 24.919999999999998,
                        "bin_end": 27.909999999999997,
                        "count": 69
                      },
                      {
                        "bin_start": 27.909999999999997,
                        "bin_end": 30.9,
                        "count": 2
                      }
                    ]
                  }
                },
                {
                  "name": "uvindex",
                  "dtype": "float64",
                  "stats": {
                    "unique_count": 10,
                    "nan_count": 0,
                    "min": "1.0",
                    "max": "10.0",
                    "histogram": [
                      {
                        "bin_start": 1,
                        "bin_end": 1.9,
                        "count": 1
                      },
                      {
                        "bin_start": 1.9,
                        "bin_end": 2.8,
                        "count": 3
                      },
                      {
                        "bin_start": 2.8,
                        "bin_end": 3.7,
                        "count": 7
                      },
                      {
                        "bin_start": 3.7,
                        "bin_end": 4.6,
                        "count": 12
                      },
                      {
                        "bin_start": 4.6,
                        "bin_end": 5.5,
                        "count": 26
                      },
                      {
                        "bin_start": 5.5,
                        "bin_end": 6.4,
                        "count": 69
                      },
                      {
                        "bin_start": 6.4,
                        "bin_end": 7.3,
                        "count": 187
                      },
                      {
                        "bin_start": 7.3,
                        "bin_end": 8.2,
                        "count": 303
                      },
                      {
                        "bin_start": 8.2,
                        "bin_end": 9.1,
                        "count": 278
                      },
                      {
                        "bin_start": 9.1,
                        "bin_end": 10,
                        "count": 110
                      }
                    ]
                  }
                },
                {
                  "name": "severerisk",
                  "dtype": "float64",
                  "stats": {
                    "unique_count": 4,
                    "nan_count": 0,
                    "min": "10.0",
                    "max": "75.0",
                    "histogram": [
                      {
                        "bin_start": 10,
                        "bin_end": 16.5,
                        "count": 509
                      },
                      {
                        "bin_start": 16.5,
                        "bin_end": 23,
                        "count": 0
                      },
                      {
                        "bin_start": 23,
                        "bin_end": 29.5,
                        "count": 0
                      },
                      {
                        "bin_start": 29.5,
                        "bin_end": 36,
                        "count": 460
                      },
                      {
                        "bin_start": 36,
                        "bin_end": 42.5,
                        "count": 0
                      },
                      {
                        "bin_start": 42.5,
                        "bin_end": 49,
                        "count": 0
                      },
                      {
                        "bin_start": 49,
                        "bin_end": 55.5,
                        "count": 0
                      },
                      {
                        "bin_start": 55.5,
                        "bin_end": 62,
                        "count": 25
                      },
                      {
                        "bin_start": 62,
                        "bin_end": 68.5,
                        "count": 0
                      },
                      {
                        "bin_start": 68.5,
                        "bin_end": 75,
                        "count": 2
                      }
                    ]
                  }
                },
                {
                  "name": "sunrise",
                  "dtype": "object",
                  "stats": {
                    "unique_count": 996,
                    "nan_count": 0,
                    "categories": [
                      {
                        "name": "1641792752",
                        "count": 1
                      },
                      {
                        "name": "1641879182",
                        "count": 1
                      },
                      {
                        "name": "994 others",
                        "count": 994
                      }
                    ]
                  }
                },
                {
                  "name": "sunset",
                  "dtype": "object",
                  "stats": {
                    "unique_count": 996,
                    "nan_count": 0,
                    "categories": [
                      {
                        "name": "1641837887",
                        "count": 1
                      },
                      {
                        "name": "1641924305",
                        "count": 1
                      },
                      {
                        "name": "994 others",
                        "count": 994
                      }
                    ]
                  }
                },
                {
                  "name": "moonphase",
                  "dtype": "float64",
                  "stats": {
                    "unique_count": 96,
                    "nan_count": 0,
                    "min": "0.0",
                    "max": "0.98",
                    "histogram": [
                      {
                        "bin_start": 0,
                        "bin_end": 0.098,
                        "count": 110
                      },
                      {
                        "bin_start": 0.098,
                        "bin_end": 0.196,
                        "count": 100
                      },
                      {
                        "bin_start": 0.196,
                        "bin_end": 0.29400000000000004,
                        "count": 92
                      },
                      {
                        "bin_start": 0.29400000000000004,
                        "bin_end": 0.392,
                        "count": 98
                      },
                      {
                        "bin_start": 0.392,
                        "bin_end": 0.49,
                        "count": 92
                      },
                      {
                        "bin_start": 0.49,
                        "bin_end": 0.5880000000000001,
                        "count": 103
                      },
                      {
                        "bin_start": 0.5880000000000001,
                        "bin_end": 0.686,
                        "count": 102
                      },
                      {
                        "bin_start": 0.686,
                        "bin_end": 0.784,
                        "count": 101
                      },
                      {
                        "bin_start": 0.784,
                        "bin_end": 0.882,
                        "count": 101
                      },
                      {
                        "bin_start": 0.882,
                        "bin_end": 0.98,
                        "count": 97
                      }
                    ]
                  }
                },
                {
                  "name": "conditions",
                  "dtype": "object",
                  "stats": {
                    "unique_count": 3,
                    "nan_count": 0,
                    "categories": [
                      {
                        "name": "Rain, Partially cloudy",
                        "count": 681
                      },
                      {
                        "name": "Rain, Overcast",
                        "count": 245
                      },
                      {
                        "name": "Partially cloudy",
                        "count": 70
                      }
                    ]
                  }
                },
                {
                  "name": "description",
                  "dtype": "object",
                  "stats": {
                    "unique_count": 28,
                    "nan_count": 0,
                    "categories": [
                      {
                        "name": "Partly cloudy throughout the day with rain.",
                        "count": 184
                      },
                      {
                        "name": "Partly cloudy throughout the day with early morning rain.",
                        "count": 112
                      },
                      {
                        "name": "26 others",
                        "count": 700
                      }
                    ]
                  }
                },
                {
                  "name": "icon",
                  "dtype": "object",
                  "stats": {
                    "unique_count": 2,
                    "nan_count": 0,
                    "categories": [
                      {
                        "name": "rain",
                        "count": 926
                      },
                      {
                        "name": "partly-cloudy-day",
                        "count": 70
                      }
                    ]
                  }
                },
                {
                  "name": "_deepnote_index_column",
                  "dtype": "int64"
                }
              ],
              "rows": [
                {
                  "name": "Kebumen, Indonesia",
                  "datetime": "2022-04-21",
                  "tempmax": 28.9,
                  "tempmin": 24.6,
                  "temp": 25.8,
                  "feelslikemax": 33.7,
                  "feelslikemin": 24.6,
                  "feelslike": 26.8,
                  "dew": 23.5,
                  "humidity": 87.2,
                  "precip": 7.2,
                  "precipprob": "True",
                  "precipcover": 8.33,
                  "preciptype": "rain",
                  "snow": 0,
                  "snowdepth": 0,
                  "windgust": 10.4,
                  "windspeed": 8.3,
                  "winddir": 290,
                  "sealevelpressure": 1009,
                  "cloudcover": 95.9,
                  "visibility": 15.3,
                  "solarradiation": 88.4,
                  "solarenergy": 7.5,
                  "uvindex": 7,
                  "severerisk": 10,
                  "sunrise": "1650519784",
                  "sunset": "1650562617",
                  "moonphase": 0.66,
                  "conditions": "Rain, Overcast",
                  "description": "Cloudy skies throughout the day with early morning rain.",
                  "icon": "rain",
                  "_deepnote_index_column": 16135
                },
                {
                  "name": "Kebumen, Indonesia",
                  "datetime": "2022-04-22",
                  "tempmax": 31.2,
                  "tempmin": 23.7,
                  "temp": 27,
                  "feelslikemax": 37.5,
                  "feelslikemin": 23.7,
                  "feelslike": 28.9,
                  "dew": 23.5,
                  "humidity": 81.7,
                  "precip": 35,
                  "precipprob": "True",
                  "precipcover": 4.17,
                  "preciptype": "rain",
                  "snow": 0,
                  "snowdepth": 0,
                  "windgust": 15.5,
                  "windspeed": 14.8,
                  "winddir": 120.4,
                  "sealevelpressure": 1009.1,
                  "cloudcover": 69.9,
                  "visibility": 18.6,
                  "solarradiation": 244.7,
                  "solarenergy": 21.1,
                  "uvindex": 9,
                  "severerisk": 30,
                  "sunrise": "1650606184",
                  "sunset": "1650648994",
                  "moonphase": 0.69,
                  "conditions": "Rain, Partially cloudy",
                  "description": "Partly cloudy throughout the day with late afternoon rain.",
                  "icon": "rain",
                  "_deepnote_index_column": 16136
                },
                {
                  "name": "Kebumen, Indonesia",
                  "datetime": "2022-04-23",
                  "tempmax": 31.4,
                  "tempmin": 24.7,
                  "temp": 27.5,
                  "feelslikemax": 39.1,
                  "feelslikemin": 24.7,
                  "feelslike": 30.1,
                  "dew": 23.8,
                  "humidity": 80.9,
                  "precip": 2,
                  "precipprob": "True",
                  "precipcover": 25,
                  "preciptype": "rain",
                  "snow": 0,
                  "snowdepth": 0,
                  "windgust": 14,
                  "windspeed": 13,
                  "winddir": 128.1,
                  "sealevelpressure": 1008.3,
                  "cloudcover": 86.4,
                  "visibility": 18.5,
                  "solarradiation": 259.9,
                  "solarenergy": 22.5,
                  "uvindex": 9,
                  "severerisk": 30,
                  "sunrise": "1650692583",
                  "sunset": "1650735372",
                  "moonphase": 0.75,
                  "conditions": "Rain, Partially cloudy",
                  "description": "Partly cloudy throughout the day with rain.",
                  "icon": "rain",
                  "_deepnote_index_column": 16137
                },
                {
                  "name": "Kebumen, Indonesia",
                  "datetime": "2022-04-24",
                  "tempmax": 31.9,
                  "tempmin": 25,
                  "temp": 27.6,
                  "feelslikemax": 39.5,
                  "feelslikemin": 25,
                  "feelslike": 30.2,
                  "dew": 24.1,
                  "humidity": 82.1,
                  "precip": 7,
                  "precipprob": "True",
                  "precipcover": 4.17,
                  "preciptype": "rain",
                  "snow": 0,
                  "snowdepth": 0,
                  "windgust": 14.8,
                  "windspeed": 14,
                  "winddir": 248.6,
                  "sealevelpressure": 1008.2,
                  "cloudcover": 86,
                  "visibility": 17.7,
                  "solarradiation": 260.9,
                  "solarenergy": 22.5,
                  "uvindex": 9,
                  "severerisk": 60,
                  "sunrise": "1650778983",
                  "sunset": "1650821750",
                  "moonphase": 0.76,
                  "conditions": "Rain, Partially cloudy",
                  "description": "Partly cloudy throughout the day with late afternoon rain.",
                  "icon": "rain",
                  "_deepnote_index_column": 16138
                },
                {
                  "name": "Kebumen, Indonesia",
                  "datetime": "2022-04-25",
                  "tempmax": 30.9,
                  "tempmin": 25.1,
                  "temp": 27.5,
                  "feelslikemax": 37.3,
                  "feelslikemin": 25.1,
                  "feelslike": 30.1,
                  "dew": 23.9,
                  "humidity": 81.2,
                  "precip": 0.9,
                  "precipprob": "True",
                  "precipcover": 4.17,
                  "preciptype": "rain",
                  "snow": 0,
                  "snowdepth": 0,
                  "windgust": 17.3,
                  "windspeed": 13.7,
                  "winddir": 134.6,
                  "sealevelpressure": 1007.9,
                  "cloudcover": 79.3,
                  "visibility": 18.8,
                  "solarradiation": 258.5,
                  "solarenergy": 22.2,
                  "uvindex": 9,
                  "severerisk": 30,
                  "sunrise": "1650865384",
                  "sunset": "1650908128",
                  "moonphase": 0.8,
                  "conditions": "Rain, Partially cloudy",
                  "description": "Partly cloudy throughout the day with early morning rain.",
                  "icon": "rain",
                  "_deepnote_index_column": 16139
                },
                {
                  "name": "Kebumen, Indonesia",
                  "datetime": "2022-04-26",
                  "tempmax": 32.4,
                  "tempmin": 25.2,
                  "temp": 28,
                  "feelslikemax": 41.7,
                  "feelslikemin": 25.2,
                  "feelslike": 31.1,
                  "dew": 24,
                  "humidity": 79.6,
                  "precip": 9.2,
                  "precipprob": "True",
                  "precipcover": 25,
                  "preciptype": "rain",
                  "snow": 0,
                  "snowdepth": 0,
                  "windgust": 18.7,
                  "windspeed": 15.8,
                  "winddir": 254.9,
                  "sealevelpressure": 1007,
                  "cloudcover": 90.5,
                  "visibility": 16.9,
                  "solarradiation": 252.6,
                  "solarenergy": 21.8,
                  "uvindex": 8,
                  "severerisk": 30,
                  "sunrise": "1650951785",
                  "sunset": "1650994507",
                  "moonphase": 0.83,
                  "conditions": "Rain, Overcast",
                  "description": "Cloudy skies throughout the day with rain.",
                  "icon": "rain",
                  "_deepnote_index_column": 16140
                },
                {
                  "name": "Kebumen, Indonesia",
                  "datetime": "2022-04-27",
                  "tempmax": 31.9,
                  "tempmin": 25,
                  "temp": 27.9,
                  "feelslikemax": 39.9,
                  "feelslikemin": 25,
                  "feelslike": 30.5,
                  "dew": 23.7,
                  "humidity": 78.8,
                  "precip": 8.2,
                  "precipprob": "True",
                  "precipcover": 8.33,
                  "preciptype": "rain",
                  "snow": 0,
                  "snowdepth": 0,
                  "windgust": 14,
                  "windspeed": 16.6,
                  "winddir": 232.3,
                  "sealevelpressure": 1006.9,
                  "cloudcover": 88.1,
                  "visibility": 18,
                  "solarradiation": 253.7,
                  "solarenergy": 21.9,
                  "uvindex": 9,
                  "severerisk": 30,
                  "sunrise": "1651038186",
                  "sunset": "1651080887",
                  "moonphase": 0.87,
                  "conditions": "Rain, Partially cloudy",
                  "description": "Partly cloudy throughout the day with rain clearing later.",
                  "icon": "rain",
                  "_deepnote_index_column": 16141
                },
                {
                  "name": "Kebumen, Indonesia",
                  "datetime": "2022-04-28",
                  "tempmax": 31.2,
                  "tempmin": 25.4,
                  "temp": 27.7,
                  "feelslikemax": 39.1,
                  "feelslikemin": 25.4,
                  "feelslike": 30.3,
                  "dew": 23.7,
                  "humidity": 79.4,
                  "precip": 2,
                  "precipprob": "True",
                  "precipcover": 4.17,
                  "preciptype": "rain",
                  "snow": 0,
                  "snowdepth": 0,
                  "windgust": 12.6,
                  "windspeed": 11.2,
                  "winddir": 246.2,
                  "sealevelpressure": 1007.7,
                  "cloudcover": 88.5,
                  "visibility": 18.3,
                  "solarradiation": 187.7,
                  "solarenergy": 16.3,
                  "uvindex": 8,
                  "severerisk": 30,
                  "sunrise": "1651124587",
                  "sunset": "1651167267",
                  "moonphase": 0.91,
                  "conditions": "Rain, Partially cloudy",
                  "description": "Partly cloudy throughout the day with late afternoon rain.",
                  "icon": "rain",
                  "_deepnote_index_column": 16142
                },
                {
                  "name": "Kebumen, Indonesia",
                  "datetime": "2022-04-29",
                  "tempmax": 31.4,
                  "tempmin": 25.2,
                  "temp": 27.4,
                  "feelslikemax": 37.6,
                  "feelslikemin": 25.2,
                  "feelslike": 29.7,
                  "dew": 24,
                  "humidity": 82.4,
                  "precip": 5.4,
                  "precipprob": "True",
                  "precipcover": 37.5,
                  "preciptype": "rain",
                  "snow": 0,
                  "snowdepth": 0,
                  "windgust": 20.9,
                  "windspeed": 16.9,
                  "winddir": 244.8,
                  "sealevelpressure": 1008.3,
                  "cloudcover": 74.4,
                  "visibility": 17,
                  "solarradiation": 199.3,
                  "solarenergy": 17.1,
                  "uvindex": 8,
                  "severerisk": 30,
                  "sunrise": "1651210989",
                  "sunset": "1651253648",
                  "moonphase": 0.94,
                  "conditions": "Rain, Partially cloudy",
                  "description": "Partly cloudy throughout the day with a chance of rain throughout the day.",
                  "icon": "rain",
                  "_deepnote_index_column": 16143
                },
                {
                  "name": "Kebumen, Indonesia",
                  "datetime": "2022-04-30",
                  "tempmax": 31.1,
                  "tempmin": 24.7,
                  "temp": 27.4,
                  "feelslikemax": 38.3,
                  "feelslikemin": 24.7,
                  "feelslike": 30.1,
                  "dew": 24.1,
                  "humidity": 82.9,
                  "precip": 4.8,
                  "precipprob": "True",
                  "precipcover": 37.5,
                  "preciptype": "rain",
                  "snow": 0,
                  "snowdepth": 0,
                  "windgust": 8.3,
                  "windspeed": 12.2,
                  "winddir": 228.4,
                  "sealevelpressure": 1007.9,
                  "cloudcover": 63.1,
                  "visibility": 17.7,
                  "solarradiation": 254.7,
                  "solarenergy": 22.1,
                  "uvindex": 9,
                  "severerisk": 30,
                  "sunrise": "1651297392",
                  "sunset": "1651340030",
                  "moonphase": 0.98,
                  "conditions": "Rain, Partially cloudy",
                  "description": "Partly cloudy throughout the day with a chance of rain throughout the day.",
                  "icon": "rain",
                  "_deepnote_index_column": 16144
                },
                {
                  "name": "Kebumen, Indonesia",
                  "datetime": "2022-05-01",
                  "tempmax": 32.4,
                  "tempmin": 24.8,
                  "temp": 27.3,
                  "feelslikemax": 40.5,
                  "feelslikemin": 24.8,
                  "feelslike": 29.6,
                  "dew": 23.9,
                  "humidity": 82.1,
                  "precip": 3.4,
                  "precipprob": "True",
                  "precipcover": 8.33,
                  "preciptype": "rain",
                  "snow": 0,
                  "snowdepth": 0,
                  "windgust": 16.2,
                  "windspeed": 11.5,
                  "winddir": 196.6,
                  "sealevelpressure": 1008.1,
                  "cloudcover": 76.7,
                  "visibility": 17.8,
                  "solarradiation": 252.5,
                  "solarenergy": 21.9,
                  "uvindex": 9,
                  "severerisk": 30,
                  "sunrise": "1651383795",
                  "sunset": "1651426412",
                  "moonphase": 0,
                  "conditions": "Rain, Partially cloudy",
                  "description": "Partly cloudy throughout the day with late afternoon rain.",
                  "icon": "rain",
                  "_deepnote_index_column": 16145
                },
                {
                  "name": "Kebumen, Indonesia",
                  "datetime": "2022-05-02",
                  "tempmax": 31.1,
                  "tempmin": 24.7,
                  "temp": 27.3,
                  "feelslikemax": 39.8,
                  "feelslikemin": 24.7,
                  "feelslike": 30,
                  "dew": 24.3,
                  "humidity": 83.9,
                  "precip": 2.1,
                  "precipprob": "True",
                  "precipcover": 16.67,
                  "preciptype": "rain",
                  "snow": 0,
                  "snowdepth": 0,
                  "windgust": 18.7,
                  "windspeed": 18.4,
                  "winddir": 117.7,
                  "sealevelpressure": 1008.3,
                  "cloudcover": 69.9,
                  "visibility": 18.1,
                  "solarradiation": 253,
                  "solarenergy": 21.9,
                  "uvindex": 9,
                  "severerisk": 60,
                  "sunrise": "1651470198",
                  "sunset": "1651512795",
                  "moonphase": 0.04,
                  "conditions": "Rain, Partially cloudy",
                  "description": "Partly cloudy throughout the day with rain.",
                  "icon": "rain",
                  "_deepnote_index_column": 16146
                },
                {
                  "name": "Kebumen, Indonesia",
                  "datetime": "2022-05-03",
                  "tempmax": 31.2,
                  "tempmin": 24.9,
                  "temp": 27.5,
                  "feelslikemax": 39.6,
                  "feelslikemin": 24.9,
                  "feelslike": 30.3,
                  "dew": 24.3,
                  "humidity": 83,
                  "precip": 11,
                  "precipprob": "True",
                  "precipcover": 8.33,
                  "preciptype": "rain",
                  "snow": 0,
                  "snowdepth": 0,
                  "windgust": 24.1,
                  "windspeed": 15.8,
                  "winddir": 121.4,
                  "sealevelpressure": 1008.7,
                  "cloudcover": 70.1,
                  "visibility": 17.9,
                  "solarradiation": 265.6,
                  "solarenergy": 23,
                  "uvindex": 9,
                  "severerisk": 60,
                  "sunrise": "1651556601",
                  "sunset": "1651599179",
                  "moonphase": 0.08,
                  "conditions": "Rain, Partially cloudy",
                  "description": "Partly cloudy throughout the day with late afternoon rain.",
                  "icon": "rain",
                  "_deepnote_index_column": 16147
                },
                {
                  "name": "Kebumen, Indonesia",
                  "datetime": "2022-05-04",
                  "tempmax": 32.1,
                  "tempmin": 25,
                  "temp": 27.4,
                  "feelslikemax": 40.2,
                  "feelslikemin": 25,
                  "feelslike": 29.8,
                  "dew": 24.3,
                  "humidity": 83.8,
                  "precip": 89,
                  "precipprob": "True",
                  "precipcover": 20.83,
                  "preciptype": "rain",
                  "snow": 0,
                  "snowdepth": 0,
                  "windgust": 24.5,
                  "windspeed": 22,
                  "winddir": 115.3,
                  "sealevelpressure": 1009.2,
                  "cloudcover": 91.8,
                  "visibility": 15.7,
                  "solarradiation": 233.5,
                  "solarenergy": 20.1,
                  "uvindex": 8,
                  "severerisk": 30,
                  "sunrise": "1651643006",
                  "sunset": "1651685563",
                  "moonphase": 0.11,
                  "conditions": "Rain, Overcast",
                  "description": "Cloudy skies throughout the day with rain.",
                  "icon": "rain",
                  "_deepnote_index_column": 16148
                },
                {
                  "name": "Kebumen, Indonesia",
                  "datetime": "2022-05-05",
                  "tempmax": 31.2,
                  "tempmin": 24.4,
                  "temp": 27.3,
                  "feelslikemax": 38.3,
                  "feelslikemin": 24.4,
                  "feelslike": 29.6,
                  "dew": 24,
                  "humidity": 83,
                  "precip": 0.8,
                  "precipprob": "True",
                  "precipcover": 4.17,
                  "preciptype": "rain",
                  "snow": 0,
                  "snowdepth": 0,
                  "windgust": 23,
                  "windspeed": 16.6,
                  "winddir": 128.8,
                  "sealevelpressure": 1008.5,
                  "cloudcover": 72.6,
                  "visibility": 18.6,
                  "solarradiation": 249.9,
                  "solarenergy": 21.6,
                  "uvindex": 9,
                  "severerisk": 30,
                  "sunrise": "1651729410",
                  "sunset": "1651771948",
                  "moonphase": 0.14,
                  "conditions": "Rain, Partially cloudy",
                  "description": "Partly cloudy throughout the day with early morning rain.",
                  "icon": "rain",
                  "_deepnote_index_column": 16149
                },
                {
                  "name": "Kebumen, Indonesia",
                  "datetime": "2022-05-06",
                  "tempmax": 31.4,
                  "tempmin": 24.6,
                  "temp": 27.5,
                  "feelslikemax": 39.4,
                  "feelslikemin": 24.6,
                  "feelslike": 30.3,
                  "dew": 24.3,
                  "humidity": 83.2,
                  "precip": 0.6,
                  "precipprob": "True",
                  "precipcover": 8.33,
                  "preciptype": "rain",
                  "snow": 0,
                  "snowdepth": 0,
                  "windgust": 25.9,
                  "windspeed": 18.4,
                  "winddir": 122.2,
                  "sealevelpressure": 1007.6,
                  "cloudcover": 40.9,
                  "visibility": 18.3,
                  "solarradiation": 259.8,
                  "solarenergy": 22.3,
                  "uvindex": 9,
                  "severerisk": 30,
                  "sunrise": "1651815815",
                  "sunset": "1651858333",
                  "moonphase": 0.17,
                  "conditions": "Rain, Partially cloudy",
                  "description": "Partly cloudy throughout the day with early morning rain.",
                  "icon": "rain",
                  "_deepnote_index_column": 16150
                },
                {
                  "name": "Kebumen, Indonesia",
                  "datetime": "2022-05-07",
                  "tempmax": 31.2,
                  "tempmin": 24.6,
                  "temp": 27.5,
                  "feelslikemax": 39.9,
                  "feelslikemin": 24.6,
                  "feelslike": 30.4,
                  "dew": 24.4,
                  "humidity": 83.7,
                  "precip": 6.3,
                  "precipprob": "True",
                  "precipcover": 33.33,
                  "preciptype": "rain",
                  "snow": 0,
                  "snowdepth": 0,
                  "windgust": 19.8,
                  "windspeed": 18.4,
                  "winddir": 119.3,
                  "sealevelpressure": 1007.5,
                  "cloudcover": 78.4,
                  "visibility": 16.4,
                  "solarradiation": 252.6,
                  "solarenergy": 21.7,
                  "uvindex": 9,
                  "severerisk": 30,
                  "sunrise": "1651902220",
                  "sunset": "1651944720",
                  "moonphase": 0.21,
                  "conditions": "Rain, Partially cloudy",
                  "description": "Partly cloudy throughout the day with rain.",
                  "icon": "rain",
                  "_deepnote_index_column": 16151
                },
                {
                  "name": "Kebumen, Indonesia",
                  "datetime": "2022-05-08",
                  "tempmax": 31.4,
                  "tempmin": 24.5,
                  "temp": 27.3,
                  "feelslikemax": 39.6,
                  "feelslikemin": 24.5,
                  "feelslike": 30,
                  "dew": 24.3,
                  "humidity": 84,
                  "precip": 5.1,
                  "precipprob": "True",
                  "precipcover": 37.5,
                  "preciptype": "rain",
                  "snow": 0,
                  "snowdepth": 0,
                  "windgust": 18.7,
                  "windspeed": 16.9,
                  "winddir": 271.2,
                  "sealevelpressure": 1008.3,
                  "cloudcover": 92.1,
                  "visibility": 17.6,
                  "solarradiation": 190.5,
                  "solarenergy": 16.3,
                  "uvindex": 6,
                  "severerisk": 30,
                  "sunrise": "1651988626",
                  "sunset": "1652031107",
                  "moonphase": 0.24,
                  "conditions": "Rain, Overcast",
                  "description": "Cloudy skies throughout the day with a chance of rain throughout the day.",
                  "icon": "rain",
                  "_deepnote_index_column": 16152
                },
                {
                  "name": "Kebumen, Indonesia",
                  "datetime": "2022-05-09",
                  "tempmax": 32.2,
                  "tempmin": 25.2,
                  "temp": 28,
                  "feelslikemax": 39.6,
                  "feelslikemin": 25.2,
                  "feelslike": 31.4,
                  "dew": 24.5,
                  "humidity": 81.9,
                  "precip": 1,
                  "precipprob": "True",
                  "precipcover": 4.17,
                  "preciptype": "rain",
                  "snow": 0,
                  "snowdepth": 0,
                  "windgust": 12.2,
                  "windspeed": 12.6,
                  "winddir": 138.1,
                  "sealevelpressure": 1008.1,
                  "cloudcover": 75.1,
                  "visibility": 18.9,
                  "solarradiation": 249.3,
                  "solarenergy": 21.5,
                  "uvindex": 9,
                  "severerisk": 30,
                  "sunrise": "1652075032",
                  "sunset": "1652117494",
                  "moonphase": 0.25,
                  "conditions": "Rain, Partially cloudy",
                  "description": "Partly cloudy throughout the day with late afternoon rain.",
                  "icon": "rain",
                  "_deepnote_index_column": 16153
                },
                {
                  "name": "Kebumen, Indonesia",
                  "datetime": "2022-05-10",
                  "tempmax": 31.9,
                  "tempmin": 25.4,
                  "temp": 28.3,
                  "feelslikemax": 40.7,
                  "feelslikemin": 25.4,
                  "feelslike": 32.5,
                  "dew": 24.9,
                  "humidity": 82.1,
                  "precip": 0.6,
                  "precipprob": "True",
                  "precipcover": 20.83,
                  "preciptype": "rain",
                  "snow": 0,
                  "snowdepth": 0,
                  "windgust": 15.1,
                  "windspeed": 13,
                  "winddir": 123,
                  "sealevelpressure": 1007.8,
                  "cloudcover": 71.7,
                  "visibility": 18.8,
                  "solarradiation": 242.5,
                  "solarenergy": 20.8,
                  "uvindex": 9,
                  "severerisk": 60,
                  "sunrise": "1652161439",
                  "sunset": "1652203883",
                  "moonphase": 0.31,
                  "conditions": "Rain, Partially cloudy",
                  "description": "Partly cloudy throughout the day with a chance of rain throughout the day.",
                  "icon": "rain",
                  "_deepnote_index_column": 16154
                },
                {
                  "name": "Kebumen, Indonesia",
                  "datetime": "2022-05-11",
                  "tempmax": 30.7,
                  "tempmin": 25.6,
                  "temp": 28.2,
                  "feelslikemax": 39.5,
                  "feelslikemin": 25.6,
                  "feelslike": 32.2,
                  "dew": 24.9,
                  "humidity": 82.9,
                  "precip": 13,
                  "precipprob": "True",
                  "precipcover": 4.17,
                  "preciptype": "rain",
                  "snow": 0,
                  "snowdepth": 0,
                  "windgust": 10.4,
                  "windspeed": 12.6,
                  "winddir": 161.5,
                  "sealevelpressure": 1007.7,
                  "cloudcover": 45.3,
                  "visibility": 18.4,
                  "solarradiation": 254.5,
                  "solarenergy": 21.9,
                  "uvindex": 9,
                  "severerisk": 30,
                  "sunrise": "1652247846",
                  "sunset": "1652290272",
                  "moonphase": 0.34,
                  "conditions": "Rain, Partially cloudy",
                  "description": "Partly cloudy throughout the day with early morning rain.",
                  "icon": "rain",
                  "_deepnote_index_column": 16155
                },
                {
                  "name": "Kebumen, Indonesia",
                  "datetime": "2022-05-12",
                  "tempmax": 31.7,
                  "tempmin": 25.3,
                  "temp": 28,
                  "feelslikemax": 39.2,
                  "feelslikemin": 25.3,
                  "feelslike": 31.6,
                  "dew": 24.6,
                  "humidity": 82.2,
                  "precip": 1.9,
                  "precipprob": "True",
                  "precipcover": 20.83,
                  "preciptype": "rain",
                  "snow": 0,
                  "snowdepth": 0,
                  "windgust": 16.6,
                  "windspeed": 16.2,
                  "winddir": 263.3,
                  "sealevelpressure": 1008.8,
                  "cloudcover": 70.9,
                  "visibility": 18.8,
                  "solarradiation": 240.6,
                  "solarenergy": 20.8,
                  "uvindex": 8,
                  "severerisk": 30,
                  "sunrise": "1652334254",
                  "sunset": "1652376662",
                  "moonphase": 0.37,
                  "conditions": "Rain, Partially cloudy",
                  "description": "Partly cloudy throughout the day with rain.",
                  "icon": "rain",
                  "_deepnote_index_column": 16156
                },
                {
                  "name": "Kebumen, Indonesia",
                  "datetime": "2022-05-13",
                  "tempmax": 32.4,
                  "tempmin": 24.9,
                  "temp": 28,
                  "feelslikemax": 42.2,
                  "feelslikemin": 24.9,
                  "feelslike": 31.7,
                  "dew": 24.4,
                  "humidity": 81,
                  "precip": 1.6,
                  "precipprob": "True",
                  "precipcover": 12.5,
                  "preciptype": "rain",
                  "snow": 0,
                  "snowdepth": 0,
                  "windgust": 11.2,
                  "windspeed": 12.2,
                  "winddir": 178,
                  "sealevelpressure": 1009.3,
                  "cloudcover": 54.5,
                  "visibility": 18.6,
                  "solarradiation": 225.9,
                  "solarenergy": 19.4,
                  "uvindex": 8,
                  "severerisk": 30,
                  "sunrise": "1652420661",
                  "sunset": "1652463052",
                  "moonphase": 0.4,
                  "conditions": "Rain, Partially cloudy",
                  "description": "Partly cloudy throughout the day with rain.",
                  "icon": "rain",
                  "_deepnote_index_column": 16157
                },
                {
                  "name": "Kebumen, Indonesia",
                  "datetime": "2022-05-14",
                  "tempmax": 31.4,
                  "tempmin": 25.6,
                  "temp": 28,
                  "feelslikemax": 39,
                  "feelslikemin": 25.6,
                  "feelslike": 31.3,
                  "dew": 24.5,
                  "humidity": 81.5,
                  "precip": 3,
                  "precipprob": "True",
                  "precipcover": 41.67,
                  "preciptype": "rain",
                  "snow": 0,
                  "snowdepth": 0,
                  "windgust": 11.5,
                  "windspeed": 13,
                  "winddir": 250.8,
                  "sealevelpressure": 1010.2,
                  "cloudcover": 70.2,
                  "visibility": 18.5,
                  "solarradiation": 238.3,
                  "solarenergy": 20.7,
                  "uvindex": 8,
                  "severerisk": 30,
                  "sunrise": "1652507070",
                  "sunset": "1652549444",
                  "moonphase": 0.44,
                  "conditions": "Rain, Partially cloudy",
                  "description": "Partly cloudy throughout the day with a chance of rain throughout the day.",
                  "icon": "rain",
                  "_deepnote_index_column": 16158
                },
                {
                  "name": "Kebumen, Indonesia",
                  "datetime": "2022-05-15",
                  "tempmax": 32.1,
                  "tempmin": 25.6,
                  "temp": 28.3,
                  "feelslikemax": 39.9,
                  "feelslikemin": 25.6,
                  "feelslike": 32.1,
                  "dew": 24.5,
                  "humidity": 80.6,
                  "precip": 0.9,
                  "precipprob": "True",
                  "precipcover": 20.83,
                  "preciptype": "rain",
                  "snow": 0,
                  "snowdepth": 0,
                  "windgust": 11.2,
                  "windspeed": 13.3,
                  "winddir": 157.5,
                  "sealevelpressure": 1010.5,
                  "cloudcover": 79.9,
                  "visibility": 18.8,
                  "solarradiation": 229,
                  "solarenergy": 19.7,
                  "uvindex": 8,
                  "severerisk": 60,
                  "sunrise": "1652593479",
                  "sunset": "1652635836",
                  "moonphase": 0.47,
                  "conditions": "Rain, Partially cloudy",
                  "description": "Partly cloudy throughout the day with a chance of rain throughout the day.",
                  "icon": "rain",
                  "_deepnote_index_column": 16159
                },
                {
                  "name": "Kebumen, Indonesia",
                  "datetime": "2022-05-16",
                  "tempmax": 31.2,
                  "tempmin": 25.1,
                  "temp": 27.9,
                  "feelslikemax": 38.8,
                  "feelslikemin": 25.1,
                  "feelslike": 31.5,
                  "dew": 24.5,
                  "humidity": 82.4,
                  "precip": 11.5,
                  "precipprob": "True",
                  "precipcover": 16.67,
                  "preciptype": "rain",
                  "snow": 0,
                  "snowdepth": 0,
                  "windgust": 10.8,
                  "windspeed": 12.2,
                  "winddir": 143.3,
                  "sealevelpressure": 1010.4,
                  "cloudcover": 60.2,
                  "visibility": 19,
                  "solarradiation": 239.4,
                  "solarenergy": 20.6,
                  "uvindex": 8,
                  "severerisk": 60,
                  "sunrise": "1652679888",
                  "sunset": "1652722228",
                  "moonphase": 0.5,
                  "conditions": "Rain, Partially cloudy",
                  "description": "Partly cloudy throughout the day with rain clearing later.",
                  "icon": "rain",
                  "_deepnote_index_column": 16160
                },
                {
                  "name": "Kebumen, Indonesia",
                  "datetime": "2022-05-17",
                  "tempmax": 31.4,
                  "tempmin": 24.3,
                  "temp": 27.8,
                  "feelslikemax": 38.1,
                  "feelslikemin": 24.3,
                  "feelslike": 30.5,
                  "dew": 23.3,
                  "humidity": 77.5,
                  "precip": 0.5,
                  "precipprob": "True",
                  "precipcover": 12.5,
                  "preciptype": "rain",
                  "snow": 0,
                  "snowdepth": 0,
                  "windgust": 14.4,
                  "windspeed": 13,
                  "winddir": 126.8,
                  "sealevelpressure": 1010.6,
                  "cloudcover": 59.4,
                  "visibility": 19,
                  "solarradiation": 255.8,
                  "solarenergy": 22.2,
                  "uvindex": 9,
                  "severerisk": 10,
                  "sunrise": "1652766297",
                  "sunset": "1652808622",
                  "moonphase": 0.54,
                  "conditions": "Rain, Partially cloudy",
                  "description": "Partly cloudy throughout the day with rain.",
                  "icon": "rain",
                  "_deepnote_index_column": 16161
                },
                {
                  "name": "Kebumen, Indonesia",
                  "datetime": "2022-05-18",
                  "tempmax": 31.7,
                  "tempmin": 24.6,
                  "temp": 27.6,
                  "feelslikemax": 40.7,
                  "feelslikemin": 24.6,
                  "feelslike": 30.5,
                  "dew": 23.8,
                  "humidity": 80.6,
                  "precip": 1.8,
                  "precipprob": "True",
                  "precipcover": 25,
                  "preciptype": "rain",
                  "snow": 0,
                  "snowdepth": 0,
                  "windgust": 13,
                  "windspeed": 11.9,
                  "winddir": 141.8,
                  "sealevelpressure": 1011.2,
                  "cloudcover": 71.6,
                  "visibility": 17.9,
                  "solarradiation": 189.1,
                  "solarenergy": 16.4,
                  "uvindex": 7,
                  "severerisk": 30,
                  "sunrise": "1652852707",
                  "sunset": "1652895016",
                  "moonphase": 0.57,
                  "conditions": "Rain, Partially cloudy",
                  "description": "Partly cloudy throughout the day with rain.",
                  "icon": "rain",
                  "_deepnote_index_column": 16162
                },
                {
                  "name": "Kebumen, Indonesia",
                  "datetime": "2022-05-19",
                  "tempmax": 30.6,
                  "tempmin": 24.4,
                  "temp": 26.9,
                  "feelslikemax": 38.2,
                  "feelslikemin": 24.4,
                  "feelslike": 28.3,
                  "dew": 23.8,
                  "humidity": 84.1,
                  "precip": 33.5,
                  "precipprob": "True",
                  "precipcover": 20.83,
                  "preciptype": "rain",
                  "snow": 0,
                  "snowdepth": 0,
                  "windgust": 14.4,
                  "windspeed": 12.6,
                  "winddir": 164.8,
                  "sealevelpressure": 1011.2,
                  "cloudcover": 90.4,
                  "visibility": 17.3,
                  "solarradiation": 222.4,
                  "solarenergy": 19.2,
                  "uvindex": 9,
                  "severerisk": 30,
                  "sunrise": "1652939117",
                  "sunset": "1652981411",
                  "moonphase": 0.61,
                  "conditions": "Rain, Overcast",
                  "description": "Cloudy skies throughout the day with rain.",
                  "icon": "rain",
                  "_deepnote_index_column": 16163
                },
                {
                  "name": "Kebumen, Indonesia",
                  "datetime": "2022-05-20",
                  "tempmax": 30.2,
                  "tempmin": 24.3,
                  "temp": 26.9,
                  "feelslikemax": 36.9,
                  "feelslikemin": 24.3,
                  "feelslike": 28.9,
                  "dew": 23.9,
                  "humidity": 84.1,
                  "precip": 1.2,
                  "precipprob": "True",
                  "precipcover": 12.5,
                  "preciptype": "rain",
                  "snow": 0,
                  "snowdepth": 0,
                  "windgust": 27.7,
                  "windspeed": 18,
                  "winddir": 124.9,
                  "sealevelpressure": 1010.3,
                  "cloudcover": 80,
                  "visibility": 15.2,
                  "solarradiation": 237.8,
                  "solarenergy": 20.6,
                  "uvindex": 8,
                  "severerisk": 30,
                  "sunrise": "1653025528",
                  "sunset": "1653067807",
                  "moonphase": 0.64,
                  "conditions": "Rain, Partially cloudy",
                  "description": "Partly cloudy throughout the day with rain.",
                  "icon": "rain",
                  "_deepnote_index_column": 16164
                },
                {
                  "name": "Kebumen, Indonesia",
                  "datetime": "2022-05-21",
                  "tempmax": 31.7,
                  "tempmin": 24,
                  "temp": 26.4,
                  "feelslikemax": 39.2,
                  "feelslikemin": 24,
                  "feelslike": 27.9,
                  "dew": 23.6,
                  "humidity": 85.3,
                  "precip": 3,
                  "precipprob": "True",
                  "precipcover": 4.17,
                  "preciptype": "rain",
                  "snow": 0,
                  "snowdepth": 0,
                  "windgust": 15.5,
                  "windspeed": 11.2,
                  "winddir": 258.1,
                  "sealevelpressure": 1009.6,
                  "cloudcover": 90,
                  "visibility": 15.8,
                  "solarradiation": 140.3,
                  "solarenergy": 12.2,
                  "uvindex": 8,
                  "severerisk": 10,
                  "sunrise": "1653111939",
                  "sunset": "1653154203",
                  "moonphase": 0.68,
                  "conditions": "Rain, Partially cloudy",
                  "description": "Partly cloudy throughout the day with late afternoon rain.",
                  "icon": "rain",
                  "_deepnote_index_column": 16165
                },
                {
                  "name": "Kebumen, Indonesia",
                  "datetime": "2022-05-22",
                  "tempmax": 30.1,
                  "tempmin": 24.2,
                  "temp": 26.4,
                  "feelslikemax": 37.1,
                  "feelslikemin": 24.2,
                  "feelslike": 28.1,
                  "dew": 23.7,
                  "humidity": 85.5,
                  "precip": 1.6,
                  "precipprob": "True",
                  "precipcover": 8.33,
                  "preciptype": "rain",
                  "snow": 0,
                  "snowdepth": 0,
                  "windgust": 12.6,
                  "windspeed": 9.4,
                  "winddir": 137.6,
                  "sealevelpressure": 1008.5,
                  "cloudcover": 74.4,
                  "visibility": 18.3,
                  "solarradiation": 204.9,
                  "solarenergy": 17.7,
                  "uvindex": 8,
                  "severerisk": 30,
                  "sunrise": "1653198350",
                  "sunset": "1653240600",
                  "moonphase": 0.71,
                  "conditions": "Rain, Partially cloudy",
                  "description": "Partly cloudy throughout the day with early morning rain.",
                  "icon": "rain",
                  "_deepnote_index_column": 16166
                },
                {
                  "name": "Kebumen, Indonesia",
                  "datetime": "2022-05-23",
                  "tempmax": 31.2,
                  "tempmin": 23.8,
                  "temp": 27.2,
                  "feelslikemax": 38.8,
                  "feelslikemin": 23.8,
                  "feelslike": 29.4,
                  "dew": 23.4,
                  "humidity": 80.4,
                  "precip": 0.8,
                  "precipprob": "True",
                  "precipcover": 16.67,
                  "preciptype": "rain",
                  "snow": 0,
                  "snowdepth": 0,
                  "windgust": 14.4,
                  "windspeed": 12.2,
                  "winddir": 119.8,
                  "sealevelpressure": 1008.5,
                  "cloudcover": 73.2,
                  "visibility": 18.7,
                  "solarradiation": 237.3,
                  "solarenergy": 20.5,
                  "uvindex": 8,
                  "severerisk": 10,
                  "sunrise": "1653284762",
                  "sunset": "1653326998",
                  "moonphase": 0.75,
                  "conditions": "Rain, Partially cloudy",
                  "description": "Partly cloudy throughout the day with rain.",
                  "icon": "rain",
                  "_deepnote_index_column": 16167
                },
                {
                  "name": "Kebumen, Indonesia",
                  "datetime": "2022-05-24",
                  "tempmax": 32.1,
                  "tempmin": 24.2,
                  "temp": 27.7,
                  "feelslikemax": 39.3,
                  "feelslikemin": 24.2,
                  "feelslike": 30.2,
                  "dew": 23.4,
                  "humidity": 78.2,
                  "precip": 2,
                  "precipprob": "True",
                  "precipcover": 4.17,
                  "preciptype": "rain",
                  "snow": 0,
                  "snowdepth": 0,
                  "windgust": 18.4,
                  "windspeed": 13.7,
                  "winddir": 148,
                  "sealevelpressure": 1009.8,
                  "cloudcover": 69.2,
                  "visibility": 18.8,
                  "solarradiation": 252.6,
                  "solarenergy": 21.8,
                  "uvindex": 9,
                  "severerisk": 30,
                  "sunrise": "1653371174",
                  "sunset": "1653413397",
                  "moonphase": 0.78,
                  "conditions": "Rain, Partially cloudy",
                  "description": "Partly cloudy throughout the day with late afternoon rain.",
                  "icon": "rain",
                  "_deepnote_index_column": 16168
                },
                {
                  "name": "Kebumen, Indonesia",
                  "datetime": "2022-05-25",
                  "tempmax": 31,
                  "tempmin": 24.4,
                  "temp": 27.4,
                  "feelslikemax": 38,
                  "feelslikemin": 24.4,
                  "feelslike": 30,
                  "dew": 23.7,
                  "humidity": 81,
                  "precip": 7,
                  "precipprob": "True",
                  "precipcover": 8.33,
                  "preciptype": "rain",
                  "snow": 0,
                  "snowdepth": 0,
                  "windgust": 15.1,
                  "windspeed": 13.3,
                  "winddir": 102.4,
                  "sealevelpressure": 1010.4,
                  "cloudcover": 75.8,
                  "visibility": 17.3,
                  "solarradiation": 241.7,
                  "solarenergy": 21,
                  "uvindex": 9,
                  "severerisk": 30,
                  "sunrise": "1653457586",
                  "sunset": "1653499796",
                  "moonphase": 0.82,
                  "conditions": "Rain, Partially cloudy",
                  "description": "Partly cloudy throughout the day with early morning rain.",
                  "icon": "rain",
                  "_deepnote_index_column": 16169
                },
                {
                  "name": "Kebumen, Indonesia",
                  "datetime": "2022-05-26",
                  "tempmax": 29.2,
                  "tempmin": 24.4,
                  "temp": 25.9,
                  "feelslikemax": 34.6,
                  "feelslikemin": 24.4,
                  "feelslike": 26.8,
                  "dew": 23.2,
                  "humidity": 85.3,
                  "precip": 21,
                  "precipprob": "True",
                  "precipcover": 8.33,
                  "preciptype": "rain",
                  "snow": 0,
                  "snowdepth": 0,
                  "windgust": 22.7,
                  "windspeed": 18.4,
                  "winddir": 314.5,
                  "sealevelpressure": 1010.4,
                  "cloudcover": 97.9,
                  "visibility": 17.1,
                  "solarradiation": 94.3,
                  "solarenergy": 8.2,
                  "uvindex": 5,
                  "severerisk": 30,
                  "sunrise": "1653543999",
                  "sunset": "1653586196",
                  "moonphase": 0.85,
                  "conditions": "Rain, Overcast",
                  "description": "Cloudy skies throughout the day with rain.",
                  "icon": "rain",
                  "_deepnote_index_column": 16170
                },
                {
                  "name": "Kebumen, Indonesia",
                  "datetime": "2022-05-27",
                  "tempmax": 30.7,
                  "tempmin": 24.2,
                  "temp": 26.6,
                  "feelslikemax": 37.9,
                  "feelslikemin": 24.2,
                  "feelslike": 28.3,
                  "dew": 22.9,
                  "humidity": 80.9,
                  "precip": 4.6,
                  "precipprob": "True",
                  "precipcover": 20.83,
                  "preciptype": "rain",
                  "snow": 0,
                  "snowdepth": 0,
                  "windgust": 14.4,
                  "windspeed": 11.9,
                  "winddir": 143.3,
                  "sealevelpressure": 1009.3,
                  "cloudcover": 70.6,
                  "visibility": 17.2,
                  "solarradiation": 188,
                  "solarenergy": 16.1,
                  "uvindex": 8,
                  "severerisk": 30,
                  "sunrise": "1653630412",
                  "sunset": "1653672597",
                  "moonphase": 0.89,
                  "conditions": "Rain, Partially cloudy",
                  "description": "Partly cloudy throughout the day with rain.",
                  "icon": "rain",
                  "_deepnote_index_column": 16171
                },
                {
                  "name": "Kebumen, Indonesia",
                  "datetime": "2022-05-28",
                  "tempmax": 32.7,
                  "tempmin": 24.1,
                  "temp": 27.3,
                  "feelslikemax": 41.1,
                  "feelslikemin": 24.1,
                  "feelslike": 29.5,
                  "dew": 23.1,
                  "humidity": 78.3,
                  "precip": 0.8,
                  "precipprob": "True",
                  "precipcover": 16.67,
                  "preciptype": "rain",
                  "snow": 0,
                  "snowdepth": 0,
                  "windgust": 15.1,
                  "windspeed": 14.8,
                  "winddir": 269.5,
                  "sealevelpressure": 1008.7,
                  "cloudcover": 42.8,
                  "visibility": 17.9,
                  "solarradiation": 247.8,
                  "solarenergy": 21.5,
                  "uvindex": 9,
                  "severerisk": 30,
                  "sunrise": "1653716825",
                  "sunset": "1653758998",
                  "moonphase": 0.92,
                  "conditions": "Rain, Partially cloudy",
                  "description": "Partly cloudy throughout the day with rain.",
                  "icon": "rain",
                  "_deepnote_index_column": 16172
                },
                {
                  "name": "Kebumen, Indonesia",
                  "datetime": "2022-05-29",
                  "tempmax": 32.9,
                  "tempmin": 24.5,
                  "temp": 27.4,
                  "feelslikemax": 39.2,
                  "feelslikemin": 24.5,
                  "feelslike": 29.4,
                  "dew": 23.3,
                  "humidity": 79.3,
                  "precip": 2.8,
                  "precipprob": "True",
                  "precipcover": 16.67,
                  "preciptype": "rain",
                  "snow": 0,
                  "snowdepth": 0,
                  "windgust": 17.6,
                  "windspeed": 16.2,
                  "winddir": 254.2,
                  "sealevelpressure": 1008.7,
                  "cloudcover": 48.9,
                  "visibility": 17.7,
                  "solarradiation": 247.2,
                  "solarenergy": 21.3,
                  "uvindex": 8,
                  "severerisk": 30,
                  "sunrise": "1653803238",
                  "sunset": "1653845400",
                  "moonphase": 0.96,
                  "conditions": "Rain, Partially cloudy",
                  "description": "Partly cloudy throughout the day with rain.",
                  "icon": "rain",
                  "_deepnote_index_column": 16173
                },
                {
                  "name": "Kebumen, Indonesia",
                  "datetime": "2022-05-30",
                  "tempmax": 31.2,
                  "tempmin": 24,
                  "temp": 27,
                  "feelslikemax": 37.2,
                  "feelslikemin": 24,
                  "feelslike": 28.6,
                  "dew": 23.1,
                  "humidity": 79.8,
                  "precip": 2.4,
                  "precipprob": "True",
                  "precipcover": 33.33,
                  "preciptype": "rain",
                  "snow": 0,
                  "snowdepth": 0,
                  "windgust": 15.5,
                  "windspeed": 16.9,
                  "winddir": 206.4,
                  "sealevelpressure": 1007.7,
                  "cloudcover": 31.1,
                  "visibility": 20.6,
                  "solarradiation": 247.3,
                  "solarenergy": 21.4,
                  "uvindex": 8,
                  "severerisk": 30,
                  "sunrise": "1653889652",
                  "sunset": "1653931803",
                  "moonphase": 0,
                  "conditions": "Rain, Partially cloudy",
                  "description": "Partly cloudy throughout the day with rain.",
                  "icon": "rain",
                  "_deepnote_index_column": 16174
                },
                {
                  "name": "Kebumen, Indonesia",
                  "datetime": "2022-05-31",
                  "tempmax": 31.2,
                  "tempmin": 24.3,
                  "temp": 26.8,
                  "feelslikemax": 38.4,
                  "feelslikemin": 24.3,
                  "feelslike": 28.7,
                  "dew": 23.5,
                  "humidity": 82.7,
                  "precip": 10,
                  "precipprob": "True",
                  "precipcover": 4.17,
                  "preciptype": "rain",
                  "snow": 0,
                  "snowdepth": 0,
                  "windgust": 11.9,
                  "windspeed": 25.9,
                  "winddir": 211.6,
                  "sealevelpressure": 1008.5,
                  "cloudcover": 50.4,
                  "visibility": 18.3,
                  "solarradiation": 232.8,
                  "solarenergy": 20,
                  "uvindex": 8,
                  "severerisk": 30,
                  "sunrise": "1653976066",
                  "sunset": "1654018206",
                  "moonphase": 0.02,
                  "conditions": "Rain, Partially cloudy",
                  "description": "Partly cloudy throughout the day with late afternoon rain.",
                  "icon": "rain",
                  "_deepnote_index_column": 16175
                },
                {
                  "name": "Kebumen, Indonesia",
                  "datetime": "2022-06-01",
                  "tempmax": 30.7,
                  "tempmin": 24.2,
                  "temp": 26.4,
                  "feelslikemax": 34.8,
                  "feelslikemin": 24.2,
                  "feelslike": 27.8,
                  "dew": 23.2,
                  "humidity": 83,
                  "precip": 2,
                  "precipprob": "True",
                  "precipcover": 4.17,
                  "preciptype": "rain",
                  "snow": 0,
                  "snowdepth": 0,
                  "windgust": 9.4,
                  "windspeed": 16.6,
                  "winddir": 96,
                  "sealevelpressure": 1009.5,
                  "cloudcover": 88.1,
                  "visibility": 18.5,
                  "solarradiation": 163.5,
                  "solarenergy": 13.9,
                  "uvindex": 7,
                  "severerisk": 10,
                  "sunrise": "1654062480",
                  "sunset": "1654104610",
                  "moonphase": 0.06,
                  "conditions": "Rain, Partially cloudy",
                  "description": "Partly cloudy throughout the day with late afternoon rain.",
                  "icon": "rain",
                  "_deepnote_index_column": 16176
                },
                {
                  "name": "Kebumen, Indonesia",
                  "datetime": "2022-06-02",
                  "tempmax": 30.2,
                  "tempmin": 23.8,
                  "temp": 26.5,
                  "feelslikemax": 36.5,
                  "feelslikemin": 23.8,
                  "feelslike": 28.4,
                  "dew": 23.4,
                  "humidity": 83.3,
                  "precip": 0.9,
                  "precipprob": "True",
                  "precipcover": 4.17,
                  "preciptype": "rain",
                  "snow": 0,
                  "snowdepth": 0,
                  "windgust": 11.9,
                  "windspeed": 12.2,
                  "winddir": 146.3,
                  "sealevelpressure": 1010.1,
                  "cloudcover": 48.6,
                  "visibility": 16.4,
                  "solarradiation": 240.3,
                  "solarenergy": 20.6,
                  "uvindex": 8,
                  "severerisk": 30,
                  "sunrise": "1654148894",
                  "sunset": "1654191015",
                  "moonphase": 0.09,
                  "conditions": "Rain, Partially cloudy",
                  "description": "Partly cloudy throughout the day with morning rain.",
                  "icon": "rain",
                  "_deepnote_index_column": 16177
                },
                {
                  "name": "Kebumen, Indonesia",
                  "datetime": "2022-06-03",
                  "tempmax": 30.4,
                  "tempmin": 24.1,
                  "temp": 26.5,
                  "feelslikemax": 35.5,
                  "feelslikemin": 24.1,
                  "feelslike": 28.1,
                  "dew": 22.5,
                  "humidity": 78.9,
                  "precip": 2.3,
                  "precipprob": "True",
                  "precipcover": 8.33,
                  "preciptype": "rain",
                  "snow": 0,
                  "snowdepth": 0,
                  "windgust": 14.4,
                  "windspeed": 15.1,
                  "winddir": 122.9,
                  "sealevelpressure": 1010.8,
                  "cloudcover": 61.4,
                  "visibility": 18.6,
                  "solarradiation": 227.6,
                  "solarenergy": 19.7,
                  "uvindex": 8,
                  "severerisk": 10,
                  "sunrise": "1654235308",
                  "sunset": "1654277420",
                  "moonphase": 0.12,
                  "conditions": "Rain, Partially cloudy",
                  "description": "Partly cloudy throughout the day with early morning rain.",
                  "icon": "rain",
                  "_deepnote_index_column": 16178
                },
                {
                  "name": "Kebumen, Indonesia",
                  "datetime": "2022-06-04",
                  "tempmax": 30.9,
                  "tempmin": 23.6,
                  "temp": 26.6,
                  "feelslikemax": 35.8,
                  "feelslikemin": 23.6,
                  "feelslike": 28.2,
                  "dew": 22.6,
                  "humidity": 79,
                  "precip": 3.2,
                  "precipprob": "True",
                  "precipcover": 16.67,
                  "preciptype": "rain",
                  "snow": 0,
                  "snowdepth": 0,
                  "windgust": 14.8,
                  "windspeed": 13,
                  "winddir": 144.5,
                  "sealevelpressure": 1010.6,
                  "cloudcover": 81.6,
                  "visibility": 17.2,
                  "solarradiation": 229.6,
                  "solarenergy": 19.9,
                  "uvindex": 8,
                  "severerisk": 10,
                  "sunrise": "1654321723",
                  "sunset": "1654363825",
                  "moonphase": 0.16,
                  "conditions": "Rain, Partially cloudy",
                  "description": "Partly cloudy throughout the day with rain.",
                  "icon": "rain",
                  "_deepnote_index_column": 16179
                },
                {
                  "name": "Kebumen, Indonesia",
                  "datetime": "2022-06-05",
                  "tempmax": 30.4,
                  "tempmin": 23.8,
                  "temp": 26.8,
                  "feelslikemax": 36.2,
                  "feelslikemin": 23.8,
                  "feelslike": 28.6,
                  "dew": 23.5,
                  "humidity": 82.6,
                  "precip": 4.5,
                  "precipprob": "True",
                  "precipcover": 25,
                  "preciptype": "rain",
                  "snow": 0,
                  "snowdepth": 0,
                  "windgust": 12.6,
                  "windspeed": 12.2,
                  "winddir": 143.8,
                  "sealevelpressure": 1010.3,
                  "cloudcover": 76.6,
                  "visibility": 17.8,
                  "solarradiation": 226.4,
                  "solarenergy": 19.5,
                  "uvindex": 8,
                  "severerisk": 30,
                  "sunrise": "1654408137",
                  "sunset": "1654450232",
                  "moonphase": 0.19,
                  "conditions": "Rain, Partially cloudy",
                  "description": "Partly cloudy throughout the day with rain.",
                  "icon": "rain",
                  "_deepnote_index_column": 16180
                },
                {
                  "name": "Kebumen, Indonesia",
                  "datetime": "2022-06-06",
                  "tempmax": 29.8,
                  "tempmin": 24.7,
                  "temp": 26.5,
                  "feelslikemax": 35.5,
                  "feelslikemin": 24.7,
                  "feelslike": 27.7,
                  "dew": 23.6,
                  "humidity": 84.7,
                  "precip": 13.5,
                  "precipprob": "True",
                  "precipcover": 20.83,
                  "preciptype": "rain",
                  "snow": 0,
                  "snowdepth": 0,
                  "windgust": 22,
                  "windspeed": 44.6,
                  "winddir": 130.1,
                  "sealevelpressure": 1009.4,
                  "cloudcover": 95.5,
                  "visibility": 17.2,
                  "solarradiation": 197,
                  "solarenergy": 17,
                  "uvindex": 8,
                  "severerisk": 30,
                  "sunrise": "1654494552",
                  "sunset": "1654536639",
                  "moonphase": 0.22,
                  "conditions": "Rain, Overcast",
                  "description": "Cloudy skies throughout the day with a chance of rain throughout the day.",
                  "icon": "rain",
                  "_deepnote_index_column": 16181
                },
                {
                  "name": "Kebumen, Indonesia",
                  "datetime": "2022-06-07",
                  "tempmax": 30.2,
                  "tempmin": 23.9,
                  "temp": 26.8,
                  "feelslikemax": 36.3,
                  "feelslikemin": 23.9,
                  "feelslike": 28.9,
                  "dew": 23.6,
                  "humidity": 83.2,
                  "precip": 8.2,
                  "precipprob": "True",
                  "precipcover": 20.83,
                  "preciptype": "rain",
                  "snow": 0,
                  "snowdepth": 0,
                  "windgust": 21.2,
                  "windspeed": 21.2,
                  "winddir": 121,
                  "sealevelpressure": 1008.6,
                  "cloudcover": 75.4,
                  "visibility": 17.4,
                  "solarradiation": 209.8,
                  "solarenergy": 18.1,
                  "uvindex": 8,
                  "severerisk": 60,
                  "sunrise": "1654580967",
                  "sunset": "1654623046",
                  "moonphase": 0.25,
                  "conditions": "Rain, Partially cloudy",
                  "description": "Partly cloudy throughout the day with rain.",
                  "icon": "rain",
                  "_deepnote_index_column": 16182
                },
                {
                  "name": "Kebumen, Indonesia",
                  "datetime": "2022-06-08",
                  "tempmax": 31.4,
                  "tempmin": 24.2,
                  "temp": 26.9,
                  "feelslikemax": 38.5,
                  "feelslikemin": 24.2,
                  "feelslike": 28.8,
                  "dew": 23.6,
                  "humidity": 82.9,
                  "precip": 10,
                  "precipprob": "True",
                  "precipcover": 8.33,
                  "preciptype": "rain",
                  "snow": 0,
                  "snowdepth": 0,
                  "windgust": 11.5,
                  "windspeed": 10.4,
                  "winddir": 257.3,
                  "sealevelpressure": 1009.1,
                  "cloudcover": 75.4,
                  "visibility": 18,
                  "solarradiation": 232.9,
                  "solarenergy": 20.1,
                  "uvindex": 8,
                  "severerisk": 30,
                  "sunrise": "1654667382",
                  "sunset": "1654709454",
                  "moonphase": 0.29,
                  "conditions": "Rain, Partially cloudy",
                  "description": "Partly cloudy throughout the day with late afternoon rain.",
                  "icon": "rain",
                  "_deepnote_index_column": 16183
                },
                {
                  "name": "Kebumen, Indonesia",
                  "datetime": "2022-06-09",
                  "tempmax": 30.9,
                  "tempmin": 23.7,
                  "temp": 26.6,
                  "feelslikemax": 37.7,
                  "feelslikemin": 23.7,
                  "feelslike": 28.4,
                  "dew": 23.1,
                  "humidity": 81.6,
                  "precip": 2,
                  "precipprob": "True",
                  "precipcover": 4.17,
                  "preciptype": "rain",
                  "snow": 0,
                  "snowdepth": 0,
                  "windgust": 9.7,
                  "windspeed": 9,
                  "winddir": 87.7,
                  "sealevelpressure": 1009.7,
                  "cloudcover": 79.7,
                  "visibility": 19,
                  "solarradiation": 226.9,
                  "solarenergy": 19.8,
                  "uvindex": 8,
                  "severerisk": 10,
                  "sunrise": "1654753796",
                  "sunset": "1654795863",
                  "moonphase": 0.32,
                  "conditions": "Rain, Partially cloudy",
                  "description": "Partly cloudy throughout the day with early morning rain.",
                  "icon": "rain",
                  "_deepnote_index_column": 16184
                },
                {
                  "name": "Kebumen, Indonesia",
                  "datetime": "2022-06-10",
                  "tempmax": 30.9,
                  "tempmin": 24.2,
                  "temp": 26.7,
                  "feelslikemax": 38.4,
                  "feelslikemin": 24.2,
                  "feelslike": 28.6,
                  "dew": 23.4,
                  "humidity": 82.4,
                  "precip": 3.8,
                  "precipprob": "True",
                  "precipcover": 16.67,
                  "preciptype": "rain",
                  "snow": 0,
                  "snowdepth": 0,
                  "windgust": 10.1,
                  "windspeed": 9.4,
                  "winddir": 205.4,
                  "sealevelpressure": 1009.2,
                  "cloudcover": 80.7,
                  "visibility": 18.4,
                  "solarradiation": 143.1,
                  "solarenergy": 12.2,
                  "uvindex": 5,
                  "severerisk": 30,
                  "sunrise": "1654840211",
                  "sunset": "1654882272",
                  "moonphase": 0.36,
                  "conditions": "Rain, Partially cloudy",
                  "description": "Partly cloudy throughout the day with rain.",
                  "icon": "rain",
                  "_deepnote_index_column": 16185
                },
                {
                  "name": "Kebumen, Indonesia",
                  "datetime": "2022-06-11",
                  "tempmax": 31.1,
                  "tempmin": 23.9,
                  "temp": 26.8,
                  "feelslikemax": 37.6,
                  "feelslikemin": 23.9,
                  "feelslike": 28.8,
                  "dew": 23.4,
                  "humidity": 82.3,
                  "precip": 43,
                  "precipprob": "True",
                  "precipcover": 8.33,
                  "preciptype": "rain",
                  "snow": 0,
                  "snowdepth": 0,
                  "windgust": 9.4,
                  "windspeed": 12.2,
                  "winddir": 120.9,
                  "sealevelpressure": 1009.4,
                  "cloudcover": 74.5,
                  "visibility": 17.6,
                  "solarradiation": 215.4,
                  "solarenergy": 18.6,
                  "uvindex": 8,
                  "severerisk": 30,
                  "sunrise": "1654926626",
                  "sunset": "1654968681",
                  "moonphase": 0.39,
                  "conditions": "Rain, Partially cloudy",
                  "description": "Partly cloudy throughout the day with early morning rain.",
                  "icon": "rain",
                  "_deepnote_index_column": 16186
                },
                {
                  "name": "Kebumen, Indonesia",
                  "datetime": "2022-06-12",
                  "tempmax": 30.4,
                  "tempmin": 24.2,
                  "temp": 27,
                  "feelslikemax": 38.5,
                  "feelslikemin": 24.2,
                  "feelslike": 29.1,
                  "dew": 23.7,
                  "humidity": 82.4,
                  "precip": 4.8,
                  "precipprob": "True",
                  "precipcover": 12.5,
                  "preciptype": "rain",
                  "snow": 0,
                  "snowdepth": 0,
                  "windgust": 10.4,
                  "windspeed": 11.5,
                  "winddir": 223.2,
                  "sealevelpressure": 1010,
                  "cloudcover": 90.8,
                  "visibility": 18.6,
                  "solarradiation": 229.5,
                  "solarenergy": 19.8,
                  "uvindex": 8,
                  "severerisk": 30,
                  "sunrise": "1655013041",
                  "sunset": "1655055091",
                  "moonphase": 0.42,
                  "conditions": "Rain, Overcast",
                  "description": "Cloudy skies throughout the day with rain clearing later.",
                  "icon": "rain",
                  "_deepnote_index_column": 16187
                },
                {
                  "name": "Kebumen, Indonesia",
                  "datetime": "2022-06-13",
                  "tempmax": 29.9,
                  "tempmin": 24.2,
                  "temp": 26.5,
                  "feelslikemax": 36.1,
                  "feelslikemin": 24.2,
                  "feelslike": 27.9,
                  "dew": 23.3,
                  "humidity": 83.1,
                  "precip": 6.4,
                  "precipprob": "True",
                  "precipcover": 29.17,
                  "preciptype": "rain",
                  "snow": 0,
                  "snowdepth": 0,
                  "windgust": 13,
                  "windspeed": 10.8,
                  "winddir": 342,
                  "sealevelpressure": 1010.2,
                  "cloudcover": 92.1,
                  "visibility": 17.6,
                  "solarradiation": 194.9,
                  "solarenergy": 16.9,
                  "uvindex": 7,
                  "severerisk": 30,
                  "sunrise": "1655099456",
                  "sunset": "1655141501",
                  "moonphase": 0.46,
                  "conditions": "Rain, Overcast",
                  "description": "Cloudy skies throughout the day with a chance of rain throughout the day.",
                  "icon": "rain",
                  "_deepnote_index_column": 16188
                },
                {
                  "name": "Kebumen, Indonesia",
                  "datetime": "2022-06-14",
                  "tempmax": 30.7,
                  "tempmin": 24.7,
                  "temp": 26.8,
                  "feelslikemax": 36.2,
                  "feelslikemin": 24.7,
                  "feelslike": 28.6,
                  "dew": 23.4,
                  "humidity": 82.1,
                  "precip": 1.6,
                  "precipprob": "True",
                  "precipcover": 20.83,
                  "preciptype": "rain",
                  "snow": 0,
                  "snowdepth": 0,
                  "windgust": 15.5,
                  "windspeed": 13.3,
                  "winddir": 117,
                  "sealevelpressure": 1010.1,
                  "cloudcover": 81,
                  "visibility": 18.3,
                  "solarradiation": 213.6,
                  "solarenergy": 18.6,
                  "uvindex": 8,
                  "severerisk": 30,
                  "sunrise": "1655185870",
                  "sunset": "1655227912",
                  "moonphase": 0.5,
                  "conditions": "Rain, Partially cloudy",
                  "description": "Partly cloudy throughout the day with rain.",
                  "icon": "rain",
                  "_deepnote_index_column": 16189
                },
                {
                  "name": "Kebumen, Indonesia",
                  "datetime": "2022-06-15",
                  "tempmax": 30.4,
                  "tempmin": 23.5,
                  "temp": 26.6,
                  "feelslikemax": 36.8,
                  "feelslikemin": 23.5,
                  "feelslike": 28.2,
                  "dew": 23.3,
                  "humidity": 82.8,
                  "precip": 28,
                  "precipprob": "True",
                  "precipcover": 8.33,
                  "preciptype": "rain",
                  "snow": 0,
                  "snowdepth": 0,
                  "windgust": 10.8,
                  "windspeed": 10.1,
                  "winddir": 149.8,
                  "sealevelpressure": 1009.8,
                  "cloudcover": 71.8,
                  "visibility": 17.4,
                  "solarradiation": 232.2,
                  "solarenergy": 19.9,
                  "uvindex": 8,
                  "severerisk": 30,
                  "sunrise": "1655272285",
                  "sunset": "1655314323",
                  "moonphase": 0.52,
                  "conditions": "Rain, Partially cloudy",
                  "description": "Partly cloudy throughout the day with early morning rain.",
                  "icon": "rain",
                  "_deepnote_index_column": 16190
                },
                {
                  "name": "Kebumen, Indonesia",
                  "datetime": "2022-06-16",
                  "tempmax": 30.1,
                  "tempmin": 23.9,
                  "temp": 26.4,
                  "feelslikemax": 37.1,
                  "feelslikemin": 23.9,
                  "feelslike": 27.9,
                  "dew": 23.4,
                  "humidity": 83.9,
                  "precip": 18,
                  "precipprob": "True",
                  "precipcover": 8.33,
                  "preciptype": "rain",
                  "snow": 0,
                  "snowdepth": 0,
                  "windgust": 14.8,
                  "windspeed": 13.3,
                  "winddir": 147.2,
                  "sealevelpressure": 1010.2,
                  "cloudcover": 80.9,
                  "visibility": 17.4,
                  "solarradiation": 221.6,
                  "solarenergy": 19.2,
                  "uvindex": 8,
                  "severerisk": 30,
                  "sunrise": "1655358699",
                  "sunset": "1655400734",
                  "moonphase": 0.56,
                  "conditions": "Rain, Partially cloudy",
                  "description": "Partly cloudy throughout the day with late afternoon rain.",
                  "icon": "rain",
                  "_deepnote_index_column": 16191
                },
                {
                  "name": "Kebumen, Indonesia",
                  "datetime": "2022-06-17",
                  "tempmax": 29.7,
                  "tempmin": 23.9,
                  "temp": 26,
                  "feelslikemax": 35.3,
                  "feelslikemin": 23.9,
                  "feelslike": 27.2,
                  "dew": 23.3,
                  "humidity": 85.3,
                  "precip": 0.5,
                  "precipprob": "True",
                  "precipcover": 4.17,
                  "preciptype": "rain",
                  "snow": 0,
                  "snowdepth": 0,
                  "windgust": 7.9,
                  "windspeed": 9.4,
                  "winddir": 301,
                  "sealevelpressure": 1010.6,
                  "cloudcover": 81,
                  "visibility": 18.1,
                  "solarradiation": 165,
                  "solarenergy": 14.2,
                  "uvindex": 7,
                  "severerisk": 30,
                  "sunrise": "1655445113",
                  "sunset": "1655487146",
                  "moonphase": 0.59,
                  "conditions": "Rain, Partially cloudy",
                  "description": "Partly cloudy throughout the day with late afternoon rain.",
                  "icon": "rain",
                  "_deepnote_index_column": 16192
                },
                {
                  "name": "Kebumen, Indonesia",
                  "datetime": "2022-06-18",
                  "tempmax": 30.4,
                  "tempmin": 24.3,
                  "temp": 26.4,
                  "feelslikemax": 35.5,
                  "feelslikemin": 24.3,
                  "feelslike": 27.9,
                  "dew": 23.3,
                  "humidity": 83.8,
                  "precip": 8.4,
                  "precipprob": "True",
                  "precipcover": 25,
                  "preciptype": "rain",
                  "snow": 0,
                  "snowdepth": 0,
                  "windgust": 15.1,
                  "windspeed": 11.5,
                  "winddir": 112.3,
                  "sealevelpressure": 1010.3,
                  "cloudcover": 78.5,
                  "visibility": 17.5,
                  "solarradiation": 213,
                  "solarenergy": 18.4,
                  "uvindex": 8,
                  "severerisk": 30,
                  "sunrise": "1655531527",
                  "sunset": "1655573558",
                  "moonphase": 0.63,
                  "conditions": "Rain, Partially cloudy",
                  "description": "Partly cloudy throughout the day with rain.",
                  "icon": "rain",
                  "_deepnote_index_column": 16193
                },
                {
                  "name": "Kebumen, Indonesia",
                  "datetime": "2022-06-19",
                  "tempmax": 29.9,
                  "tempmin": 23.6,
                  "temp": 26.1,
                  "feelslikemax": 35.6,
                  "feelslikemin": 23.6,
                  "feelslike": 27.5,
                  "dew": 22.9,
                  "humidity": 83.2,
                  "precip": 5,
                  "precipprob": "True",
                  "precipcover": 4.17,
                  "preciptype": "rain",
                  "snow": 0,
                  "snowdepth": 0,
                  "windgust": 27.4,
                  "windspeed": 17.3,
                  "winddir": 128.5,
                  "sealevelpressure": 1010,
                  "cloudcover": 79.9,
                  "visibility": 17.8,
                  "solarradiation": 236,
                  "solarenergy": 20.3,
                  "uvindex": 8,
                  "severerisk": 30,
                  "sunrise": "1655617941",
                  "sunset": "1655659971",
                  "moonphase": 0.66,
                  "conditions": "Rain, Partially cloudy",
                  "description": "Partly cloudy throughout the day with late afternoon rain.",
                  "icon": "rain",
                  "_deepnote_index_column": 16194
                },
                {
                  "name": "Kebumen, Indonesia",
                  "datetime": "2022-06-20",
                  "tempmax": 30.1,
                  "tempmin": 23.9,
                  "temp": 26.9,
                  "feelslikemax": 36.1,
                  "feelslikemin": 23.9,
                  "feelslike": 28.8,
                  "dew": 23.5,
                  "humidity": 82.1,
                  "precip": 19,
                  "precipprob": "True",
                  "precipcover": 12.5,
                  "preciptype": "rain",
                  "snow": 0,
                  "snowdepth": 0,
                  "windgust": 34.6,
                  "windspeed": 23.8,
                  "winddir": 111.3,
                  "sealevelpressure": 1008.8,
                  "cloudcover": 60.8,
                  "visibility": 17.8,
                  "solarradiation": 240.5,
                  "solarenergy": 20.9,
                  "uvindex": 8,
                  "severerisk": 30,
                  "sunrise": "1655704355",
                  "sunset": "1655746383",
                  "moonphase": 0.7,
                  "conditions": "Rain, Partially cloudy",
                  "description": "Partly cloudy throughout the day with rain clearing later.",
                  "icon": "rain",
                  "_deepnote_index_column": 16195
                },
                {
                  "name": "Kebumen, Indonesia",
                  "datetime": "2022-06-21",
                  "tempmax": 30.4,
                  "tempmin": 23.7,
                  "temp": 26.7,
                  "feelslikemax": 36.8,
                  "feelslikemin": 23.7,
                  "feelslike": 28.5,
                  "dew": 23.1,
                  "humidity": 81.1,
                  "precip": 7,
                  "precipprob": "True",
                  "precipcover": 4.17,
                  "preciptype": "rain",
                  "snow": 0,
                  "snowdepth": 0,
                  "windgust": 33.1,
                  "windspeed": 22.3,
                  "winddir": 112.6,
                  "sealevelpressure": 1008.8,
                  "cloudcover": 79.4,
                  "visibility": 18.2,
                  "solarradiation": 221.8,
                  "solarenergy": 19.3,
                  "uvindex": 8,
                  "severerisk": 30,
                  "sunrise": "1655790768",
                  "sunset": "1655832796",
                  "moonphase": 0.75,
                  "conditions": "Rain, Partially cloudy",
                  "description": "Partly cloudy throughout the day with early morning rain.",
                  "icon": "rain",
                  "_deepnote_index_column": 16196
                },
                {
                  "name": "Kebumen, Indonesia",
                  "datetime": "2022-06-22",
                  "tempmax": 30.9,
                  "tempmin": 24.1,
                  "temp": 27,
                  "feelslikemax": 36.5,
                  "feelslikemin": 24.1,
                  "feelslike": 29,
                  "dew": 22.9,
                  "humidity": 78.8,
                  "precip": 0.1,
                  "precipprob": "True",
                  "precipcover": 4.17,
                  "preciptype": "rain",
                  "snow": 0,
                  "snowdepth": 0,
                  "windgust": 30.2,
                  "windspeed": 24.1,
                  "winddir": 106,
                  "sealevelpressure": 1010.1,
                  "cloudcover": 69.6,
                  "visibility": 18.8,
                  "solarradiation": 215.1,
                  "solarenergy": 18.6,
                  "uvindex": 8,
                  "severerisk": 10,
                  "sunrise": "1655877181",
                  "sunset": "1655919210",
                  "moonphase": 0.76,
                  "conditions": "Rain, Partially cloudy",
                  "description": "Partly cloudy throughout the day with early morning rain.",
                  "icon": "rain",
                  "_deepnote_index_column": 16197
                },
                {
                  "name": "Kebumen, Indonesia",
                  "datetime": "2022-06-23",
                  "tempmax": 29.7,
                  "tempmin": 23.3,
                  "temp": 26.3,
                  "feelslikemax": 36.4,
                  "feelslikemin": 23.3,
                  "feelslike": 28,
                  "dew": 23.2,
                  "humidity": 83.3,
                  "precip": 3,
                  "precipprob": "True",
                  "precipcover": 4.17,
                  "preciptype": "rain",
                  "snow": 0,
                  "snowdepth": 0,
                  "windgust": 29.9,
                  "windspeed": 23.8,
                  "winddir": 111.6,
                  "sealevelpressure": 1011.1,
                  "cloudcover": 68.6,
                  "visibility": 17.5,
                  "solarradiation": 218.7,
                  "solarenergy": 18.9,
                  "uvindex": 8,
                  "severerisk": 10,
                  "sunrise": "1655963594",
                  "sunset": "1656005623",
                  "moonphase": 0.8,
                  "conditions": "Rain, Partially cloudy",
                  "description": "Partly cloudy throughout the day with late afternoon rain.",
                  "icon": "rain",
                  "_deepnote_index_column": 16198
                },
                {
                  "name": "Kebumen, Indonesia",
                  "datetime": "2022-06-24",
                  "tempmax": 29.4,
                  "tempmin": 23.4,
                  "temp": 26,
                  "feelslikemax": 34.3,
                  "feelslikemin": 23.4,
                  "feelslike": 27.4,
                  "dew": 23.2,
                  "humidity": 84.5,
                  "precip": 6,
                  "precipprob": "True",
                  "precipcover": 8.33,
                  "preciptype": "rain",
                  "snow": 0,
                  "snowdepth": 0,
                  "windgust": 34.9,
                  "windspeed": 27,
                  "winddir": 109.2,
                  "sealevelpressure": 1010.3,
                  "cloudcover": 85.8,
                  "visibility": 15.9,
                  "solarradiation": 219.3,
                  "solarenergy": 19,
                  "uvindex": 8,
                  "severerisk": 10,
                  "sunrise": "1656050006",
                  "sunset": "1656092037",
                  "moonphase": 0.83,
                  "conditions": "Rain, Partially cloudy",
                  "description": "Partly cloudy throughout the day with rain clearing later.",
                  "icon": "rain",
                  "_deepnote_index_column": 16199
                },
                {
                  "name": "Kebumen, Indonesia",
                  "datetime": "2022-06-25",
                  "tempmax": 28.9,
                  "tempmin": 23.5,
                  "temp": 26.2,
                  "feelslikemax": 34.1,
                  "feelslikemin": 23.5,
                  "feelslike": 27.8,
                  "dew": 23.5,
                  "humidity": 85.5,
                  "precip": 0.2,
                  "precipprob": "True",
                  "precipcover": 4.17,
                  "preciptype": "rain",
                  "snow": 0,
                  "snowdepth": 0,
                  "windgust": 35.3,
                  "windspeed": 31.7,
                  "winddir": 117.7,
                  "sealevelpressure": 1009.1,
                  "cloudcover": 85,
                  "visibility": 17,
                  "solarradiation": 224.3,
                  "solarenergy": 19.2,
                  "uvindex": 7,
                  "severerisk": 30,
                  "sunrise": "1656136418",
                  "sunset": "1656178450",
                  "moonphase": 0.87,
                  "conditions": "Rain, Partially cloudy",
                  "description": "Partly cloudy throughout the day with early morning rain.",
                  "icon": "rain",
                  "_deepnote_index_column": 16200
                },
                {
                  "name": "Kebumen, Indonesia",
                  "datetime": "2022-06-26",
                  "tempmax": 29.1,
                  "tempmin": 24.2,
                  "temp": 26.1,
                  "feelslikemax": 34.3,
                  "feelslikemin": 24.2,
                  "feelslike": 27.4,
                  "dew": 23.1,
                  "humidity": 83.7,
                  "precip": 52,
                  "precipprob": "True",
                  "precipcover": 20.83,
                  "preciptype": "rain",
                  "snow": 0,
                  "snowdepth": 0,
                  "windgust": 32,
                  "windspeed": 25.9,
                  "winddir": 108.3,
                  "sealevelpressure": 1010.5,
                  "cloudcover": 90.8,
                  "visibility": 18.2,
                  "solarradiation": 175.1,
                  "solarenergy": 15,
                  "uvindex": 7,
                  "severerisk": 10,
                  "sunrise": "1656222830",
                  "sunset": "1656264864",
                  "moonphase": 0.9,
                  "conditions": "Rain, Overcast",
                  "description": "Cloudy skies throughout the day with rain.",
                  "icon": "rain",
                  "_deepnote_index_column": 16201
                },
                {
                  "name": "Kebumen, Indonesia",
                  "datetime": "2022-06-27",
                  "tempmax": 27.7,
                  "tempmin": 23.4,
                  "temp": 25.5,
                  "feelslikemax": 30.8,
                  "feelslikemin": 23.4,
                  "feelslike": 26.4,
                  "dew": 22.8,
                  "humidity": 85.2,
                  "precip": 61,
                  "precipprob": "True",
                  "precipcover": 12.5,
                  "preciptype": "rain",
                  "snow": 0,
                  "snowdepth": 0,
                  "windgust": 36,
                  "windspeed": 28.4,
                  "winddir": 112.1,
                  "sealevelpressure": 1010.9,
                  "cloudcover": 84.3,
                  "visibility": 16.9,
                  "solarradiation": 201,
                  "solarenergy": 17.3,
                  "uvindex": 8,
                  "severerisk": 10,
                  "sunrise": "1656309241",
                  "sunset": "1656351278",
                  "moonphase": 0.93,
                  "conditions": "Rain, Partially cloudy",
                  "description": "Partly cloudy throughout the day with rain.",
                  "icon": "rain",
                  "_deepnote_index_column": 16202
                },
                {
                  "name": "Kebumen, Indonesia",
                  "datetime": "2022-06-28",
                  "tempmax": 29.7,
                  "tempmin": 23.3,
                  "temp": 26.1,
                  "feelslikemax": 33.7,
                  "feelslikemin": 23.3,
                  "feelslike": 27.1,
                  "dew": 20.9,
                  "humidity": 73.9,
                  "precip": 0.4,
                  "precipprob": "True",
                  "precipcover": 4.17,
                  "preciptype": "rain",
                  "snow": 0,
                  "snowdepth": 0,
                  "windgust": 27.7,
                  "windspeed": 20.5,
                  "winddir": 113.5,
                  "sealevelpressure": 1010.4,
                  "cloudcover": 66.2,
                  "visibility": 19,
                  "solarradiation": 200.6,
                  "solarenergy": 17.3,
                  "uvindex": 8,
                  "severerisk": 10,
                  "sunrise": "1656395652",
                  "sunset": "1656437692",
                  "moonphase": 0.97,
                  "conditions": "Rain, Partially cloudy",
                  "description": "Partly cloudy throughout the day with early morning rain.",
                  "icon": "rain",
                  "_deepnote_index_column": 16203
                },
                {
                  "name": "Kebumen, Indonesia",
                  "datetime": "2022-06-29",
                  "tempmax": 29.9,
                  "tempmin": 22,
                  "temp": 25.8,
                  "feelslikemax": 32.8,
                  "feelslikemin": 22,
                  "feelslike": 26.6,
                  "dew": 20,
                  "humidity": 71.1,
                  "precip": 0.3,
                  "precipprob": "True",
                  "precipcover": 8.33,
                  "preciptype": "rain",
                  "snow": 0,
                  "snowdepth": 0,
                  "windgust": 21.6,
                  "windspeed": 16.9,
                  "winddir": 112,
                  "sealevelpressure": 1009.7,
                  "cloudcover": 62,
                  "visibility": 18.7,
                  "solarradiation": 247.8,
                  "solarenergy": 21.6,
                  "uvindex": 9,
                  "severerisk": 10,
                  "sunrise": "1656482062",
                  "sunset": "1656524106",
                  "moonphase": 0,
                  "conditions": "Rain, Partially cloudy",
                  "description": "Partly cloudy throughout the day with rain clearing later.",
                  "icon": "rain",
                  "_deepnote_index_column": 16204
                },
                {
                  "name": "Kebumen, Indonesia",
                  "datetime": "2022-06-30",
                  "tempmax": 30.2,
                  "tempmin": 21.8,
                  "temp": 25.3,
                  "feelslikemax": 34.2,
                  "feelslikemin": 21.8,
                  "feelslike": 26.2,
                  "dew": 21.3,
                  "humidity": 79.1,
                  "precip": 0.4,
                  "precipprob": "True",
                  "precipcover": 8.33,
                  "preciptype": "rain",
                  "snow": 0,
                  "snowdepth": 0,
                  "windgust": 27,
                  "windspeed": 16.9,
                  "winddir": 105.8,
                  "sealevelpressure": 1009.8,
                  "cloudcover": 58.8,
                  "visibility": 19,
                  "solarradiation": 202.3,
                  "solarenergy": 17.4,
                  "uvindex": 8,
                  "severerisk": 10,
                  "sunrise": "1656568472",
                  "sunset": "1656610520",
                  "moonphase": 0.04,
                  "conditions": "Rain, Partially cloudy",
                  "description": "Partly cloudy throughout the day with late afternoon rain.",
                  "icon": "rain",
                  "_deepnote_index_column": 16205
                },
                {
                  "name": "Kebumen, Indonesia",
                  "datetime": "2022-07-01",
                  "tempmax": 30.4,
                  "tempmin": 22.5,
                  "temp": 25.9,
                  "feelslikemax": 36.3,
                  "feelslikemin": 22.5,
                  "feelslike": 27.3,
                  "dew": 22.7,
                  "humidity": 82.8,
                  "precip": 0.7,
                  "precipprob": "True",
                  "precipcover": 16.67,
                  "preciptype": "rain",
                  "snow": 0,
                  "snowdepth": 0,
                  "windgust": 40,
                  "windspeed": 28.4,
                  "winddir": 114.5,
                  "sealevelpressure": 1009.4,
                  "cloudcover": 60.6,
                  "visibility": 18.9,
                  "solarradiation": 213.4,
                  "solarenergy": 18.4,
                  "uvindex": 7,
                  "severerisk": 10,
                  "sunrise": "1656654882",
                  "sunset": "1656696935",
                  "moonphase": 0.07,
                  "conditions": "Rain, Partially cloudy",
                  "description": "Partly cloudy throughout the day with a chance of rain throughout the day.",
                  "icon": "rain",
                  "_deepnote_index_column": 16206
                },
                {
                  "name": "Kebumen, Indonesia",
                  "datetime": "2022-07-02",
                  "tempmax": 27.9,
                  "tempmin": 22.8,
                  "temp": 25.9,
                  "feelslikemax": 33.4,
                  "feelslikemin": 22.8,
                  "feelslike": 27.6,
                  "dew": 23.4,
                  "humidity": 86.1,
                  "precip": 3.8,
                  "precipprob": "True",
                  "precipcover": 16.67,
                  "preciptype": "rain",
                  "snow": 0,
                  "snowdepth": 0,
                  "windgust": 35.3,
                  "windspeed": 24.1,
                  "winddir": 117.5,
                  "sealevelpressure": 1009,
                  "cloudcover": 57.1,
                  "visibility": 14.7,
                  "solarradiation": 222.3,
                  "solarenergy": 19.4,
                  "uvindex": 7,
                  "severerisk": 30,
                  "sunrise": "1656741291",
                  "sunset": "1656783349",
                  "moonphase": 0.11,
                  "conditions": "Rain, Partially cloudy",
                  "description": "Partly cloudy throughout the day with rain.",
                  "icon": "rain",
                  "_deepnote_index_column": 16207
                },
                {
                  "name": "Kebumen, Indonesia",
                  "datetime": "2022-07-03",
                  "tempmax": 30.1,
                  "tempmin": 23.7,
                  "temp": 26.5,
                  "feelslikemax": 36.7,
                  "feelslikemin": 23.7,
                  "feelslike": 28.5,
                  "dew": 24,
                  "humidity": 86.3,
                  "precip": 26,
                  "precipprob": "True",
                  "precipcover": 8.33,
                  "preciptype": "rain",
                  "snow": 0,
                  "snowdepth": 0,
                  "windgust": 13,
                  "windspeed": 13,
                  "winddir": 125.2,
                  "sealevelpressure": 1008.3,
                  "cloudcover": 59.7,
                  "visibility": 18.7,
                  "solarradiation": 231.7,
                  "solarenergy": 20.1,
                  "uvindex": 8,
                  "severerisk": 30,
                  "sunrise": "1656827699",
                  "sunset": "1656869763",
                  "moonphase": 0.14,
                  "conditions": "Rain, Partially cloudy",
                  "description": "Partly cloudy throughout the day with early morning rain.",
                  "icon": "rain",
                  "_deepnote_index_column": 16208
                },
                {
                  "name": "Kebumen, Indonesia",
                  "datetime": "2022-07-04",
                  "tempmax": 31.2,
                  "tempmin": 24.1,
                  "temp": 27.3,
                  "feelslikemax": 39,
                  "feelslikemin": 24.1,
                  "feelslike": 29.8,
                  "dew": 24.2,
                  "humidity": 84,
                  "precip": 1.3,
                  "precipprob": "True",
                  "precipcover": 20.83,
                  "preciptype": "rain",
                  "snow": 0,
                  "snowdepth": 0,
                  "windgust": 15.1,
                  "windspeed": 13,
                  "winddir": 124.1,
                  "sealevelpressure": 1008.3,
                  "cloudcover": 73.6,
                  "visibility": 18.7,
                  "solarradiation": 226,
                  "solarenergy": 19.6,
                  "uvindex": 8,
                  "severerisk": 30,
                  "sunrise": "1656914107",
                  "sunset": "1656956177",
                  "moonphase": 0.17,
                  "conditions": "Rain, Partially cloudy",
                  "description": "Partly cloudy throughout the day with rain.",
                  "icon": "rain",
                  "_deepnote_index_column": 16209
                },
                {
                  "name": "Kebumen, Indonesia",
                  "datetime": "2022-07-05",
                  "tempmax": 31.1,
                  "tempmin": 24.5,
                  "temp": 27.2,
                  "feelslikemax": 39,
                  "feelslikemin": 24.5,
                  "feelslike": 29.8,
                  "dew": 24.2,
                  "humidity": 83.7,
                  "precip": 1.6,
                  "precipprob": "True",
                  "precipcover": 29.17,
                  "preciptype": "rain",
                  "snow": 0,
                  "snowdepth": 0,
                  "windgust": 16.2,
                  "windspeed": 14.8,
                  "winddir": 144.3,
                  "sealevelpressure": 1009,
                  "cloudcover": 78.4,
                  "visibility": 18.9,
                  "solarradiation": 241.3,
                  "solarenergy": 20.9,
                  "uvindex": 8,
                  "severerisk": 30,
                  "sunrise": "1657000514",
                  "sunset": "1657042591",
                  "moonphase": 0.21,
                  "conditions": "Rain, Partially cloudy",
                  "description": "Partly cloudy throughout the day with rain.",
                  "icon": "rain",
                  "_deepnote_index_column": 16210
                },
                {
                  "name": "Kebumen, Indonesia",
                  "datetime": "2022-07-06",
                  "tempmax": 29.9,
                  "tempmin": 24,
                  "temp": 26.3,
                  "feelslikemax": 36.1,
                  "feelslikemin": 24,
                  "feelslike": 27.8,
                  "dew": 23.4,
                  "humidity": 84.6,
                  "precip": 2,
                  "precipprob": "True",
                  "precipcover": 4.17,
                  "preciptype": "rain",
                  "snow": 0,
                  "snowdepth": 0,
                  "windgust": 25.2,
                  "windspeed": 19.1,
                  "winddir": 115.3,
                  "sealevelpressure": 1010.9,
                  "cloudcover": 67.6,
                  "visibility": 18.6,
                  "solarradiation": 224.7,
                  "solarenergy": 19.5,
                  "uvindex": 8,
                  "severerisk": 30,
                  "sunrise": "1657086921",
                  "sunset": "1657129005",
                  "moonphase": 0.24,
                  "conditions": "Rain, Partially cloudy",
                  "description": "Partly cloudy throughout the day with morning rain.",
                  "icon": "rain",
                  "_deepnote_index_column": 16211
                },
                {
                  "name": "Kebumen, Indonesia",
                  "datetime": "2022-07-07",
                  "tempmax": 29.9,
                  "tempmin": 23.2,
                  "temp": 26.3,
                  "feelslikemax": 36.7,
                  "feelslikemin": 23.2,
                  "feelslike": 27.8,
                  "dew": 22.6,
                  "humidity": 80.8,
                  "precip": 0.4,
                  "precipprob": "True",
                  "precipcover": 12.5,
                  "preciptype": "rain",
                  "snow": 0,
                  "snowdepth": 0,
                  "windgust": 24.8,
                  "windspeed": 19.4,
                  "winddir": 113.8,
                  "sealevelpressure": 1011.4,
                  "cloudcover": 71.7,
                  "visibility": 18.7,
                  "solarradiation": 238.5,
                  "solarenergy": 20.5,
                  "uvindex": 8,
                  "severerisk": 10,
                  "sunrise": "1657173327",
                  "sunset": "1657215418",
                  "moonphase": 0.25,
                  "conditions": "Rain, Partially cloudy",
                  "description": "Partly cloudy throughout the day with rain.",
                  "icon": "rain",
                  "_deepnote_index_column": 16212
                },
                {
                  "name": "Kebumen, Indonesia",
                  "datetime": "2022-07-08",
                  "tempmax": 28.9,
                  "tempmin": 22.8,
                  "temp": 25.8,
                  "feelslikemax": 32.8,
                  "feelslikemin": 22.8,
                  "feelslike": 26.8,
                  "dew": 21.6,
                  "humidity": 78.1,
                  "precip": 0.8,
                  "precipprob": "True",
                  "precipcover": 25,
                  "preciptype": "rain",
                  "snow": 0,
                  "snowdepth": 0,
                  "windgust": 25.2,
                  "windspeed": 19.4,
                  "winddir": 117,
                  "sealevelpressure": 1010.9,
                  "cloudcover": 39.5,
                  "visibility": 18.6,
                  "solarradiation": 248.4,
                  "solarenergy": 21.4,
                  "uvindex": 8,
                  "severerisk": 10,
                  "sunrise": "1657259733",
                  "sunset": "1657301832",
                  "moonphase": 0.31,
                  "conditions": "Rain, Partially cloudy",
                  "description": "Partly cloudy throughout the day with a chance of rain throughout the day.",
                  "icon": "rain",
                  "_deepnote_index_column": 16213
                },
                {
                  "name": "Kebumen, Indonesia",
                  "datetime": "2022-07-09",
                  "tempmax": 29.2,
                  "tempmin": 21.6,
                  "temp": 25.1,
                  "feelslikemax": 32,
                  "feelslikemin": 21.6,
                  "feelslike": 25.7,
                  "dew": 20.8,
                  "humidity": 77.7,
                  "precip": 1,
                  "precipprob": "True",
                  "precipcover": 4.17,
                  "preciptype": "rain",
                  "snow": 0,
                  "snowdepth": 0,
                  "windgust": 20.2,
                  "windspeed": 18.4,
                  "winddir": 114.8,
                  "sealevelpressure": 1010.5,
                  "cloudcover": 31.9,
                  "visibility": 18.6,
                  "solarradiation": 250.4,
                  "solarenergy": 21.8,
                  "uvindex": 9,
                  "severerisk": 10,
                  "sunrise": "1657346138",
                  "sunset": "1657388245",
                  "moonphase": 0.34,
                  "conditions": "Rain, Partially cloudy",
                  "description": "Partly cloudy throughout the day with early morning rain.",
                  "icon": "rain",
                  "_deepnote_index_column": 16214
                },
                {
                  "name": "Kebumen, Indonesia",
                  "datetime": "2022-07-10",
                  "tempmax": 28.3,
                  "tempmin": 22.4,
                  "temp": 25.4,
                  "feelslikemax": 32.1,
                  "feelslikemin": 22.4,
                  "feelslike": 26.4,
                  "dew": 22.1,
                  "humidity": 82.2,
                  "precip": 16.2,
                  "precipprob": "True",
                  "precipcover": 12.5,
                  "preciptype": "rain",
                  "snow": 0,
                  "snowdepth": 0,
                  "windgust": 26.6,
                  "windspeed": 23.4,
                  "winddir": 112.3,
                  "sealevelpressure": 1010.4,
                  "cloudcover": 67.5,
                  "visibility": 17.7,
                  "solarradiation": 231,
                  "solarenergy": 19.9,
                  "uvindex": 8,
                  "severerisk": 10,
                  "sunrise": "1657432542",
                  "sunset": "1657474659",
                  "moonphase": 0.38,
                  "conditions": "Rain, Partially cloudy",
                  "description": "Partly cloudy throughout the day with rain.",
                  "icon": "rain",
                  "_deepnote_index_column": 16215
                },
                {
                  "name": "Kebumen, Indonesia",
                  "datetime": "2022-07-11",
                  "tempmax": 30.2,
                  "tempmin": 22.5,
                  "temp": 26,
                  "feelslikemax": 36.6,
                  "feelslikemin": 22.5,
                  "feelslike": 27.7,
                  "dew": 23,
                  "humidity": 84.1,
                  "precip": 1.6,
                  "precipprob": "True",
                  "precipcover": 8.33,
                  "preciptype": "rain",
                  "snow": 0,
                  "snowdepth": 0,
                  "windgust": 32.4,
                  "windspeed": 27,
                  "winddir": 116.3,
                  "sealevelpressure": 1010.8,
                  "cloudcover": 57.3,
                  "visibility": 16.4,
                  "solarradiation": 233,
                  "solarenergy": 20.2,
                  "uvindex": 8,
                  "severerisk": 30,
                  "sunrise": "1657518946",
                  "sunset": "1657561072",
                  "moonphase": 0.41,
                  "conditions": "Rain, Partially cloudy",
                  "description": "Partly cloudy throughout the day with rain.",
                  "icon": "rain",
                  "_deepnote_index_column": 16216
                },
                {
                  "name": "Kebumen, Indonesia",
                  "datetime": "2022-07-12",
                  "tempmax": 30.4,
                  "tempmin": 23.2,
                  "temp": 26.6,
                  "feelslikemax": 36.8,
                  "feelslikemin": 23.2,
                  "feelslike": 28.7,
                  "dew": 23.5,
                  "humidity": 83.8,
                  "precip": 1,
                  "precipprob": "True",
                  "precipcover": 4.17,
                  "preciptype": "rain",
                  "snow": 0,
                  "snowdepth": 0,
                  "windgust": 35.3,
                  "windspeed": 25.9,
                  "winddir": 113.7,
                  "sealevelpressure": 1009.7,
                  "cloudcover": 66.6,
                  "visibility": 17.4,
                  "solarradiation": 236.7,
                  "solarenergy": 20.5,
                  "uvindex": 8,
                  "severerisk": 30,
                  "sunrise": "1657605349",
                  "sunset": "1657647484",
                  "moonphase": 0.45,
                  "conditions": "Rain, Partially cloudy",
                  "description": "Partly cloudy throughout the day with early morning rain.",
                  "icon": "rain",
                  "_deepnote_index_column": 16217
                },
                {
                  "name": "Kebumen, Indonesia",
                  "datetime": "2022-07-13",
                  "tempmax": 29.9,
                  "tempmin": 23.5,
                  "temp": 26,
                  "feelslikemax": 36.6,
                  "feelslikemin": 23.5,
                  "feelslike": 27.5,
                  "dew": 23.5,
                  "humidity": 86.5,
                  "precip": 50.8,
                  "precipprob": "True",
                  "precipcover": 20.83,
                  "preciptype": "rain",
                  "snow": 0,
                  "snowdepth": 0,
                  "windgust": 20.9,
                  "windspeed": 18,
                  "winddir": 120.4,
                  "sealevelpressure": 1008.9,
                  "cloudcover": 88.7,
                  "visibility": 14.8,
                  "solarradiation": 230.6,
                  "solarenergy": 19.9,
                  "uvindex": 8,
                  "severerisk": 30,
                  "sunrise": "1657691751",
                  "sunset": "1657733897",
                  "moonphase": 0.48,
                  "conditions": "Rain, Partially cloudy",
                  "description": "Partly cloudy throughout the day with rain.",
                  "icon": "rain",
                  "_deepnote_index_column": 16218
                },
                {
                  "name": "Kebumen, Indonesia",
                  "datetime": "2022-07-14",
                  "tempmax": 29.9,
                  "tempmin": 23.4,
                  "temp": 26.2,
                  "feelslikemax": 36.4,
                  "feelslikemin": 23.4,
                  "feelslike": 27.8,
                  "dew": 23.6,
                  "humidity": 85.9,
                  "precip": 3.5,
                  "precipprob": "True",
                  "precipcover": 16.67,
                  "preciptype": "rain",
                  "snow": 0,
                  "snowdepth": 0,
                  "windgust": 31,
                  "windspeed": 24.5,
                  "winddir": 120.8,
                  "sealevelpressure": 1009.1,
                  "cloudcover": 82.1,
                  "visibility": 17.9,
                  "solarradiation": 203,
                  "solarenergy": 17.5,
                  "uvindex": 8,
                  "severerisk": 30,
                  "sunrise": "1657778153",
                  "sunset": "1657820309",
                  "moonphase": 0.5,
                  "conditions": "Rain, Partially cloudy",
                  "description": "Partly cloudy throughout the day with rain.",
                  "icon": "rain",
                  "_deepnote_index_column": 16219
                },
                {
                  "name": "Kebumen, Indonesia",
                  "datetime": "2022-07-15",
                  "tempmax": 29.9,
                  "tempmin": 23.4,
                  "temp": 26.2,
                  "feelslikemax": 36.7,
                  "feelslikemin": 23.4,
                  "feelslike": 28.1,
                  "dew": 23.6,
                  "humidity": 85.6,
                  "precip": 28,
                  "precipprob": "True",
                  "precipcover": 4.17,
                  "preciptype": "rain",
                  "snow": 0,
                  "snowdepth": 0,
                  "windgust": 32,
                  "windspeed": 28.4,
                  "winddir": 114.5,
                  "sealevelpressure": 1009.5,
                  "cloudcover": 56.8,
                  "visibility": 15.8,
                  "solarradiation": 214.9,
                  "solarenergy": 18.5,
                  "uvindex": 7,
                  "severerisk": 30,
                  "sunrise": "1657864553",
                  "sunset": "1657906721",
                  "moonphase": 0.55,
                  "conditions": "Rain, Partially cloudy",
                  "description": "Partly cloudy throughout the day with morning rain.",
                  "icon": "rain",
                  "_deepnote_index_column": 16220
                },
                {
                  "name": "Kebumen, Indonesia",
                  "datetime": "2022-07-16",
                  "tempmax": 28.4,
                  "tempmin": 23.2,
                  "temp": 25.4,
                  "feelslikemax": 32.3,
                  "feelslikemin": 23.2,
                  "feelslike": 26.3,
                  "dew": 23.2,
                  "humidity": 88.2,
                  "precip": 83,
                  "precipprob": "True",
                  "precipcover": 12.5,
                  "preciptype": "rain",
                  "snow": 0,
                  "snowdepth": 0,
                  "windgust": 24.5,
                  "windspeed": 16.6,
                  "winddir": 122.6,
                  "sealevelpressure": 1011.2,
                  "cloudcover": 71.4,
                  "visibility": 16.5,
                  "solarradiation": 229.5,
                  "solarenergy": 20,
                  "uvindex": 8,
                  "severerisk": 30,
                  "sunrise": "1657950954",
                  "sunset": "1657993133",
                  "moonphase": 0.58,
                  "conditions": "Rain, Partially cloudy",
                  "description": "Partly cloudy throughout the day with rain clearing later.",
                  "icon": "rain",
                  "_deepnote_index_column": 16221
                },
                {
                  "name": "Kebumen, Indonesia",
                  "datetime": "2022-07-17",
                  "tempmax": 29.9,
                  "tempmin": 23.3,
                  "temp": 25.9,
                  "feelslikemax": 35.2,
                  "feelslikemin": 23.3,
                  "feelslike": 27.1,
                  "dew": 22.8,
                  "humidity": 83.5,
                  "precip": 0.9,
                  "precipprob": "True",
                  "precipcover": 4.17,
                  "preciptype": "rain",
                  "snow": 0,
                  "snowdepth": 0,
                  "windgust": 25.2,
                  "windspeed": 20.9,
                  "winddir": 107.1,
                  "sealevelpressure": 1011,
                  "cloudcover": 76.9,
                  "visibility": 18.8,
                  "solarradiation": 190.4,
                  "solarenergy": 16.3,
                  "uvindex": 8,
                  "severerisk": 10,
                  "sunrise": "1658037353",
                  "sunset": "1658079545",
                  "moonphase": 0.61,
                  "conditions": "Rain, Partially cloudy",
                  "description": "Partly cloudy throughout the day with early morning rain.",
                  "icon": "rain",
                  "_deepnote_index_column": 16222
                },
                {
                  "name": "Kebumen, Indonesia",
                  "datetime": "2022-07-18",
                  "tempmax": 29.4,
                  "tempmin": 23.2,
                  "temp": 26.3,
                  "feelslikemax": 34,
                  "feelslikemin": 23.2,
                  "feelslike": 27.9,
                  "dew": 22.6,
                  "humidity": 80.3,
                  "precip": 0.4,
                  "precipprob": "True",
                  "precipcover": 16.67,
                  "preciptype": "rain",
                  "snow": 0,
                  "snowdepth": 0,
                  "windgust": 28.4,
                  "windspeed": 21.6,
                  "winddir": 119.6,
                  "sealevelpressure": 1010.3,
                  "cloudcover": 59.9,
                  "visibility": 19,
                  "solarradiation": 221.4,
                  "solarenergy": 19.2,
                  "uvindex": 8,
                  "severerisk": 10,
                  "sunrise": "1658123752",
                  "sunset": "1658165956",
                  "moonphase": 0.65,
                  "conditions": "Rain, Partially cloudy",
                  "description": "Partly cloudy throughout the day with rain.",
                  "icon": "rain",
                  "_deepnote_index_column": 16223
                },
                {
                  "name": "Kebumen, Indonesia",
                  "datetime": "2022-07-19",
                  "tempmax": 30.2,
                  "tempmin": 23.3,
                  "temp": 26.3,
                  "feelslikemax": 36,
                  "feelslikemin": 23.3,
                  "feelslike": 27.9,
                  "dew": 22.6,
                  "humidity": 80.3,
                  "precip": 0.1,
                  "precipprob": "True",
                  "precipcover": 4.17,
                  "preciptype": "rain",
                  "snow": 0,
                  "snowdepth": 0,
                  "windgust": 29.9,
                  "windspeed": 22,
                  "winddir": 115.5,
                  "sealevelpressure": 1010,
                  "cloudcover": 61.9,
                  "visibility": 19.5,
                  "solarradiation": 233,
                  "solarenergy": 20.1,
                  "uvindex": 8,
                  "severerisk": 10,
                  "sunrise": "1658210150",
                  "sunset": "1658252366",
                  "moonphase": 0.68,
                  "conditions": "Rain, Partially cloudy",
                  "description": "Partly cloudy throughout the day with morning rain.",
                  "icon": "rain",
                  "_deepnote_index_column": 16224
                },
                {
                  "name": "Kebumen, Indonesia",
                  "datetime": "2022-07-20",
                  "tempmax": 29.7,
                  "tempmin": 22.4,
                  "temp": 25.9,
                  "feelslikemax": 34.7,
                  "feelslikemin": 22.4,
                  "feelslike": 27.2,
                  "dew": 22.2,
                  "humidity": 80.1,
                  "precip": 0.1,
                  "precipprob": "True",
                  "precipcover": 4.17,
                  "preciptype": "rain",
                  "snow": 0,
                  "snowdepth": 0,
                  "windgust": 27.7,
                  "windspeed": 19.4,
                  "winddir": 121.7,
                  "sealevelpressure": 1010.3,
                  "cloudcover": 50.4,
                  "visibility": 18.4,
                  "solarradiation": 254.4,
                  "solarenergy": 22,
                  "uvindex": 9,
                  "severerisk": 10,
                  "sunrise": "1658296547",
                  "sunset": "1658338777",
                  "moonphase": 0.75,
                  "conditions": "Rain, Partially cloudy",
                  "description": "Partly cloudy throughout the day with late afternoon rain.",
                  "icon": "rain",
                  "_deepnote_index_column": 16225
                },
                {
                  "name": "Kebumen, Indonesia",
                  "datetime": "2022-07-21",
                  "tempmax": 29.2,
                  "tempmin": 23.8,
                  "temp": 26,
                  "feelslikemax": 33.5,
                  "feelslikemin": 23.8,
                  "feelslike": 27,
                  "dew": 22.1,
                  "humidity": 79.5,
                  "precip": 0.5,
                  "precipprob": "True",
                  "precipcover": 4.17,
                  "preciptype": "rain",
                  "snow": 0,
                  "snowdepth": 0,
                  "windgust": 31.7,
                  "windspeed": 22,
                  "winddir": 117.8,
                  "sealevelpressure": 1011.6,
                  "cloudcover": 76,
                  "visibility": 18.8,
                  "solarradiation": 206.9,
                  "solarenergy": 17.9,
                  "uvindex": 7,
                  "severerisk": 10,
                  "sunrise": "1658382944",
                  "sunset": "1658425187",
                  "moonphase": 0.75,
                  "conditions": "Rain, Partially cloudy",
                  "description": "Partly cloudy throughout the day with late afternoon rain.",
                  "icon": "rain",
                  "_deepnote_index_column": 16226
                },
                {
                  "name": "Kebumen, Indonesia",
                  "datetime": "2022-07-22",
                  "tempmax": 28.7,
                  "tempmin": 23.8,
                  "temp": 25.9,
                  "feelslikemax": 32.5,
                  "feelslikemin": 23.8,
                  "feelslike": 27.1,
                  "dew": 21.8,
                  "humidity": 78.3,
                  "precip": 0.6,
                  "precipprob": "True",
                  "precipcover": 8.33,
                  "preciptype": "rain",
                  "snow": 0,
                  "snowdepth": 0,
                  "windgust": 31.7,
                  "windspeed": 21.2,
                  "winddir": 109.8,
                  "sealevelpressure": 1012,
                  "cloudcover": 77.7,
                  "visibility": 18.8,
                  "solarradiation": 170.2,
                  "solarenergy": 14.8,
                  "uvindex": 7,
                  "severerisk": 10,
                  "sunrise": "1658469339",
                  "sunset": "1658511596",
                  "moonphase": 0.78,
                  "conditions": "Rain, Partially cloudy",
                  "description": "Partly cloudy throughout the day with morning rain.",
                  "icon": "rain",
                  "_deepnote_index_column": 16227
                },
                {
                  "name": "Kebumen, Indonesia",
                  "datetime": "2022-07-23",
                  "tempmax": 29.7,
                  "tempmin": 22.8,
                  "temp": 25.7,
                  "feelslikemax": 34.9,
                  "feelslikemin": 22.8,
                  "feelslike": 26.8,
                  "dew": 22.3,
                  "humidity": 81.8,
                  "precip": 0.8,
                  "precipprob": "True",
                  "precipcover": 25,
                  "preciptype": "rain",
                  "snow": 0,
                  "snowdepth": 0,
                  "windgust": 28.4,
                  "windspeed": 22.7,
                  "winddir": 112.9,
                  "sealevelpressure": 1011.2,
                  "cloudcover": 83.9,
                  "visibility": 18.5,
                  "solarradiation": 168.1,
                  "solarenergy": 14.6,
                  "uvindex": 7,
                  "severerisk": 10,
                  "sunrise": "1658555734",
                  "sunset": "1658598006",
                  "moonphase": 0.82,
                  "conditions": "Rain, Partially cloudy",
                  "description": "Partly cloudy throughout the day with rain.",
                  "icon": "rain",
                  "_deepnote_index_column": 16228
                },
                {
                  "name": "Kebumen, Indonesia",
                  "datetime": "2022-07-24",
                  "tempmax": 29.4,
                  "tempmin": 22.2,
                  "temp": 25.3,
                  "feelslikemax": 33.8,
                  "feelslikemin": 22.2,
                  "feelslike": 26,
                  "dew": 21.5,
                  "humidity": 79.6,
                  "precip": 3,
                  "precipprob": "True",
                  "precipcover": 8.33,
                  "preciptype": "rain",
                  "snow": 0,
                  "snowdepth": 0,
                  "windgust": 32,
                  "windspeed": 27.4,
                  "winddir": 98.6,
                  "sealevelpressure": 1010.4,
                  "cloudcover": 60.9,
                  "visibility": 18.6,
                  "solarradiation": 214.7,
                  "solarenergy": 18.6,
                  "uvindex": 7,
                  "severerisk": 10,
                  "sunrise": "1658642129",
                  "sunset": "1658684415",
                  "moonphase": 0.85,
                  "conditions": "Rain, Partially cloudy",
                  "description": "Partly cloudy throughout the day with rain clearing later.",
                  "icon": "rain",
                  "_deepnote_index_column": 16229
                },
                {
                  "name": "Kebumen, Indonesia",
                  "datetime": "2022-07-28",
                  "tempmax": 29.2,
                  "tempmin": 22.7,
                  "temp": 25.8,
                  "feelslikemax": 34.4,
                  "feelslikemin": 22.7,
                  "feelslike": 26.8,
                  "dew": 22.6,
                  "humidity": 83,
                  "precip": 0.1,
                  "precipprob": "True",
                  "precipcover": 4.17,
                  "preciptype": "rain",
                  "snow": 0,
                  "snowdepth": 0,
                  "windgust": 25.9,
                  "windspeed": 20.9,
                  "winddir": 126,
                  "sealevelpressure": 1009.7,
                  "cloudcover": 76.3,
                  "visibility": 18.8,
                  "solarradiation": 233.2,
                  "solarenergy": 20.3,
                  "uvindex": 8,
                  "severerisk": 10,
                  "sunrise": "1658987698",
                  "sunset": "1659030046",
                  "moonphase": 0.98,
                  "conditions": "Rain, Partially cloudy",
                  "description": "Partly cloudy throughout the day with morning rain.",
                  "icon": "rain",
                  "_deepnote_index_column": 16233
                },
                {
                  "name": "Kebumen, Indonesia",
                  "datetime": "2022-07-29",
                  "tempmax": 29.1,
                  "tempmin": 22.3,
                  "temp": 25.6,
                  "feelslikemax": 33.5,
                  "feelslikemin": 22.3,
                  "feelslike": 26.5,
                  "dew": 22.4,
                  "humidity": 83.2,
                  "precip": 0.1,
                  "precipprob": "True",
                  "precipcover": 4.17,
                  "preciptype": "rain",
                  "snow": 0,
                  "snowdepth": 0,
                  "windgust": 24.1,
                  "windspeed": 18.4,
                  "winddir": 130.1,
                  "sealevelpressure": 1009.8,
                  "cloudcover": 83.6,
                  "visibility": 18.8,
                  "solarradiation": 218,
                  "solarenergy": 18.9,
                  "uvindex": 7,
                  "severerisk": 10,
                  "sunrise": "1659074088",
                  "sunset": "1659116453",
                  "moonphase": 0,
                  "conditions": "Rain, Partially cloudy",
                  "description": "Partly cloudy throughout the day with afternoon rain.",
                  "icon": "rain",
                  "_deepnote_index_column": 16234
                },
                {
                  "name": "Kebumen, Indonesia",
                  "datetime": "2022-07-30",
                  "tempmax": 29.1,
                  "tempmin": 23.4,
                  "temp": 25.7,
                  "feelslikemax": 33.8,
                  "feelslikemin": 23.4,
                  "feelslike": 26.6,
                  "dew": 22.1,
                  "humidity": 80.8,
                  "precip": 0.7,
                  "precipprob": "True",
                  "precipcover": 25,
                  "preciptype": "rain",
                  "snow": 0,
                  "snowdepth": 0,
                  "windgust": 27.4,
                  "windspeed": 21.6,
                  "winddir": 126,
                  "sealevelpressure": 1010.4,
                  "cloudcover": 85.5,
                  "visibility": 18.9,
                  "solarradiation": 230.6,
                  "solarenergy": 19.9,
                  "uvindex": 8,
                  "severerisk": 10,
                  "sunrise": "1659160478",
                  "sunset": "1659202859",
                  "moonphase": 0.05,
                  "conditions": "Rain, Partially cloudy",
                  "description": "Partly cloudy throughout the day with rain.",
                  "icon": "rain",
                  "_deepnote_index_column": 16235
                },
                {
                  "name": "Kebumen, Indonesia",
                  "datetime": "2022-07-31",
                  "tempmax": 29.2,
                  "tempmin": 22.5,
                  "temp": 25.4,
                  "feelslikemax": 33.1,
                  "feelslikemin": 22.5,
                  "feelslike": 26.2,
                  "dew": 21.7,
                  "humidity": 80.2,
                  "precip": 0.1,
                  "precipprob": "True",
                  "precipcover": 4.17,
                  "preciptype": "rain",
                  "snow": 0,
                  "snowdepth": 0,
                  "windgust": 27,
                  "windspeed": 18,
                  "winddir": 124.2,
                  "sealevelpressure": 1009.5,
                  "cloudcover": 65.4,
                  "visibility": 18.8,
                  "solarradiation": 248.2,
                  "solarenergy": 21.5,
                  "uvindex": 9,
                  "severerisk": 10,
                  "sunrise": "1659246866",
                  "sunset": "1659289265",
                  "moonphase": 0.09,
                  "conditions": "Rain, Partially cloudy",
                  "description": "Partly cloudy throughout the day with early morning rain.",
                  "icon": "rain",
                  "_deepnote_index_column": 16236
                },
                {
                  "name": "Kebumen, Indonesia",
                  "datetime": "2022-08-02",
                  "tempmax": 29.4,
                  "tempmin": 22.9,
                  "temp": 25.9,
                  "feelslikemax": 34.7,
                  "feelslikemin": 22.9,
                  "feelslike": 27.1,
                  "dew": 22.4,
                  "humidity": 81.8,
                  "precip": 0.2,
                  "precipprob": "True",
                  "precipcover": 8.33,
                  "preciptype": "rain",
                  "snow": 0,
                  "snowdepth": 0,
                  "windgust": 18.4,
                  "windspeed": 16.9,
                  "winddir": 131.6,
                  "sealevelpressure": 1010,
                  "cloudcover": 63.2,
                  "visibility": 18.9,
                  "solarradiation": 222.4,
                  "solarenergy": 19.2,
                  "uvindex": 7,
                  "severerisk": 10,
                  "sunrise": "1659419642",
                  "sunset": "1659462075",
                  "moonphase": 0.16,
                  "conditions": "Rain, Partially cloudy",
                  "description": "Partly cloudy throughout the day with rain.",
                  "icon": "rain",
                  "_deepnote_index_column": 16238
                }
              ]
            },
            "text/plain": "                     name    datetime  tempmax  tempmin  temp  feelslikemax  \\\n16034  Kebumen, Indonesia  2022-01-10     30.7     25.2  27.7          36.6   \n16035  Kebumen, Indonesia  2022-01-11     32.2     23.7  26.6          40.2   \n16036  Kebumen, Indonesia  2022-01-12     29.9     23.8  26.2          35.6   \n16037  Kebumen, Indonesia  2022-01-13     30.3     23.8  25.9          35.3   \n16038  Kebumen, Indonesia  2022-01-14     32.2     24.4  26.6          38.6   \n...                   ...         ...      ...      ...   ...           ...   \n17116             Kebumen  2024-12-27     32.7     25.1  28.5          39.5   \n17117             Kebumen  2024-12-28     27.8     25.4  26.6          32.5   \n17118             Kebumen  2024-12-29     26.2     25.0  25.5          26.2   \n17119             Kebumen  2024-12-30     29.6     24.5  26.7          33.6   \n17120             Kebumen  2024-12-31     28.4     24.0  26.1          31.7   \n\n       feelslikemin  feelslike   dew  humidity  ...  solarradiation  \\\n16034          25.2       31.0  24.2      81.2  ...           249.9   \n16035          23.7       28.2  23.3      82.4  ...           214.0   \n16036          23.8       27.4  22.8      82.5  ...           247.1   \n16037          23.8       27.0  23.1      85.1  ...           183.7   \n16038          24.4       28.1  22.8      80.3  ...           156.5   \n...             ...        ...   ...       ...  ...             ...   \n17116          25.1       32.2  24.9      81.7  ...           182.6   \n17117          25.4       28.4  23.6      83.9  ...            96.5   \n17118          25.0       25.5  22.5      83.7  ...            39.8   \n17119          24.5       28.2  22.6      78.3  ...           298.1   \n17120          24.0       27.0  23.0      83.5  ...           127.7   \n\n       solarenergy  uvindex severerisk              sunrise  \\\n16034         21.8      9.0       30.0           1641792752   \n16035         18.4      7.0       30.0           1641879182   \n16036         21.6      7.0       30.0           1641965612   \n16037         15.8      7.0       30.0           1642052041   \n16038         13.8      7.0       30.0           1642138470   \n...            ...      ...        ...                  ...   \n17116         15.6      6.0       10.0  2024-12-27T05:25:26   \n17117          8.1      6.0       30.0  2024-12-28T05:25:57   \n17118          3.4      2.0       10.0  2024-12-29T05:26:28   \n17119         25.8     10.0       10.0  2024-12-30T05:27:00   \n17120         10.9      6.0       10.0  2024-12-31T05:27:31   \n\n                    sunset  moonphase              conditions  \\\n16034           1641837887       0.25  Rain, Partially cloudy   \n16035           1641924305       0.28          Rain, Overcast   \n16036           1642010722       0.31  Rain, Partially cloudy   \n16037           1642097139       0.34          Rain, Overcast   \n16038           1642183554       0.38  Rain, Partially cloudy   \n...                    ...        ...                     ...   \n17116  2024-12-27T17:59:28       0.88        Partially cloudy   \n17117  2024-12-28T17:59:55       0.91          Rain, Overcast   \n17118  2024-12-29T18:00:22       0.94          Rain, Overcast   \n17119  2024-12-30T18:00:48       0.98  Rain, Partially cloudy   \n17120  2024-12-31T18:01:14       0.00          Rain, Overcast   \n\n                                             description               icon  \n16034        Partly cloudy throughout the day with rain.               rain  \n16035         Cloudy skies throughout the day with rain.               rain  \n16036  Partly cloudy throughout the day with late aft...               rain  \n16037         Cloudy skies throughout the day with rain.               rain  \n16038  Partly cloudy throughout the day with early mo...               rain  \n...                                                  ...                ...  \n17116                  Partly cloudy throughout the day.  partly-cloudy-day  \n17117  Cloudy skies throughout the day with a chance ...               rain  \n17118  Cloudy skies throughout the day with a chance ...               rain  \n17119  Partly cloudy throughout the day with a chance...               rain  \n17120         Cloudy skies throughout the day with rain.               rain  \n\n[996 rows x 32 columns]",
            "text/html": "<div>\n<style scoped>\n    .dataframe tbody tr th:only-of-type {\n        vertical-align: middle;\n    }\n\n    .dataframe tbody tr th {\n        vertical-align: top;\n    }\n\n    .dataframe thead th {\n        text-align: right;\n    }\n</style>\n<table border=\"1\" class=\"dataframe\">\n  <thead>\n    <tr style=\"text-align: right;\">\n      <th></th>\n      <th>name</th>\n      <th>datetime</th>\n      <th>tempmax</th>\n      <th>tempmin</th>\n      <th>temp</th>\n      <th>feelslikemax</th>\n      <th>feelslikemin</th>\n      <th>feelslike</th>\n      <th>dew</th>\n      <th>humidity</th>\n      <th>...</th>\n      <th>solarradiation</th>\n      <th>solarenergy</th>\n      <th>uvindex</th>\n      <th>severerisk</th>\n      <th>sunrise</th>\n      <th>sunset</th>\n      <th>moonphase</th>\n      <th>conditions</th>\n      <th>description</th>\n      <th>icon</th>\n    </tr>\n  </thead>\n  <tbody>\n    <tr>\n      <th>16034</th>\n      <td>Kebumen, Indonesia</td>\n      <td>2022-01-10</td>\n      <td>30.7</td>\n      <td>25.2</td>\n      <td>27.7</td>\n      <td>36.6</td>\n      <td>25.2</td>\n      <td>31.0</td>\n      <td>24.2</td>\n      <td>81.2</td>\n      <td>...</td>\n      <td>249.9</td>\n      <td>21.8</td>\n      <td>9.0</td>\n      <td>30.0</td>\n      <td>1641792752</td>\n      <td>1641837887</td>\n      <td>0.25</td>\n      <td>Rain, Partially cloudy</td>\n      <td>Partly cloudy throughout the day with rain.</td>\n      <td>rain</td>\n    </tr>\n    <tr>\n      <th>16035</th>\n      <td>Kebumen, Indonesia</td>\n      <td>2022-01-11</td>\n      <td>32.2</td>\n      <td>23.7</td>\n      <td>26.6</td>\n      <td>40.2</td>\n      <td>23.7</td>\n      <td>28.2</td>\n      <td>23.3</td>\n      <td>82.4</td>\n      <td>...</td>\n      <td>214.0</td>\n      <td>18.4</td>\n      <td>7.0</td>\n      <td>30.0</td>\n      <td>1641879182</td>\n      <td>1641924305</td>\n      <td>0.28</td>\n      <td>Rain, Overcast</td>\n      <td>Cloudy skies throughout the day with rain.</td>\n      <td>rain</td>\n    </tr>\n    <tr>\n      <th>16036</th>\n      <td>Kebumen, Indonesia</td>\n      <td>2022-01-12</td>\n      <td>29.9</td>\n      <td>23.8</td>\n      <td>26.2</td>\n      <td>35.6</td>\n      <td>23.8</td>\n      <td>27.4</td>\n      <td>22.8</td>\n      <td>82.5</td>\n      <td>...</td>\n      <td>247.1</td>\n      <td>21.6</td>\n      <td>7.0</td>\n      <td>30.0</td>\n      <td>1641965612</td>\n      <td>1642010722</td>\n      <td>0.31</td>\n      <td>Rain, Partially cloudy</td>\n      <td>Partly cloudy throughout the day with late aft...</td>\n      <td>rain</td>\n    </tr>\n    <tr>\n      <th>16037</th>\n      <td>Kebumen, Indonesia</td>\n      <td>2022-01-13</td>\n      <td>30.3</td>\n      <td>23.8</td>\n      <td>25.9</td>\n      <td>35.3</td>\n      <td>23.8</td>\n      <td>27.0</td>\n      <td>23.1</td>\n      <td>85.1</td>\n      <td>...</td>\n      <td>183.7</td>\n      <td>15.8</td>\n      <td>7.0</td>\n      <td>30.0</td>\n      <td>1642052041</td>\n      <td>1642097139</td>\n      <td>0.34</td>\n      <td>Rain, Overcast</td>\n      <td>Cloudy skies throughout the day with rain.</td>\n      <td>rain</td>\n    </tr>\n    <tr>\n      <th>16038</th>\n      <td>Kebumen, Indonesia</td>\n      <td>2022-01-14</td>\n      <td>32.2</td>\n      <td>24.4</td>\n      <td>26.6</td>\n      <td>38.6</td>\n      <td>24.4</td>\n      <td>28.1</td>\n      <td>22.8</td>\n      <td>80.3</td>\n      <td>...</td>\n      <td>156.5</td>\n      <td>13.8</td>\n      <td>7.0</td>\n      <td>30.0</td>\n      <td>1642138470</td>\n      <td>1642183554</td>\n      <td>0.38</td>\n      <td>Rain, Partially cloudy</td>\n      <td>Partly cloudy throughout the day with early mo...</td>\n      <td>rain</td>\n    </tr>\n    <tr>\n      <th>...</th>\n      <td>...</td>\n      <td>...</td>\n      <td>...</td>\n      <td>...</td>\n      <td>...</td>\n      <td>...</td>\n      <td>...</td>\n      <td>...</td>\n      <td>...</td>\n      <td>...</td>\n      <td>...</td>\n      <td>...</td>\n      <td>...</td>\n      <td>...</td>\n      <td>...</td>\n      <td>...</td>\n      <td>...</td>\n      <td>...</td>\n      <td>...</td>\n      <td>...</td>\n      <td>...</td>\n    </tr>\n    <tr>\n      <th>17116</th>\n      <td>Kebumen</td>\n      <td>2024-12-27</td>\n      <td>32.7</td>\n      <td>25.1</td>\n      <td>28.5</td>\n      <td>39.5</td>\n      <td>25.1</td>\n      <td>32.2</td>\n      <td>24.9</td>\n      <td>81.7</td>\n      <td>...</td>\n      <td>182.6</td>\n      <td>15.6</td>\n      <td>6.0</td>\n      <td>10.0</td>\n      <td>2024-12-27T05:25:26</td>\n      <td>2024-12-27T17:59:28</td>\n      <td>0.88</td>\n      <td>Partially cloudy</td>\n      <td>Partly cloudy throughout the day.</td>\n      <td>partly-cloudy-day</td>\n    </tr>\n    <tr>\n      <th>17117</th>\n      <td>Kebumen</td>\n      <td>2024-12-28</td>\n      <td>27.8</td>\n      <td>25.4</td>\n      <td>26.6</td>\n      <td>32.5</td>\n      <td>25.4</td>\n      <td>28.4</td>\n      <td>23.6</td>\n      <td>83.9</td>\n      <td>...</td>\n      <td>96.5</td>\n      <td>8.1</td>\n      <td>6.0</td>\n      <td>30.0</td>\n      <td>2024-12-28T05:25:57</td>\n      <td>2024-12-28T17:59:55</td>\n      <td>0.91</td>\n      <td>Rain, Overcast</td>\n      <td>Cloudy skies throughout the day with a chance ...</td>\n      <td>rain</td>\n    </tr>\n    <tr>\n      <th>17118</th>\n      <td>Kebumen</td>\n      <td>2024-12-29</td>\n      <td>26.2</td>\n      <td>25.0</td>\n      <td>25.5</td>\n      <td>26.2</td>\n      <td>25.0</td>\n      <td>25.5</td>\n      <td>22.5</td>\n      <td>83.7</td>\n      <td>...</td>\n      <td>39.8</td>\n      <td>3.4</td>\n      <td>2.0</td>\n      <td>10.0</td>\n      <td>2024-12-29T05:26:28</td>\n      <td>2024-12-29T18:00:22</td>\n      <td>0.94</td>\n      <td>Rain, Overcast</td>\n      <td>Cloudy skies throughout the day with a chance ...</td>\n      <td>rain</td>\n    </tr>\n    <tr>\n      <th>17119</th>\n      <td>Kebumen</td>\n      <td>2024-12-30</td>\n      <td>29.6</td>\n      <td>24.5</td>\n      <td>26.7</td>\n      <td>33.6</td>\n      <td>24.5</td>\n      <td>28.2</td>\n      <td>22.6</td>\n      <td>78.3</td>\n      <td>...</td>\n      <td>298.1</td>\n      <td>25.8</td>\n      <td>10.0</td>\n      <td>10.0</td>\n      <td>2024-12-30T05:27:00</td>\n      <td>2024-12-30T18:00:48</td>\n      <td>0.98</td>\n      <td>Rain, Partially cloudy</td>\n      <td>Partly cloudy throughout the day with a chance...</td>\n      <td>rain</td>\n    </tr>\n    <tr>\n      <th>17120</th>\n      <td>Kebumen</td>\n      <td>2024-12-31</td>\n      <td>28.4</td>\n      <td>24.0</td>\n      <td>26.1</td>\n      <td>31.7</td>\n      <td>24.0</td>\n      <td>27.0</td>\n      <td>23.0</td>\n      <td>83.5</td>\n      <td>...</td>\n      <td>127.7</td>\n      <td>10.9</td>\n      <td>6.0</td>\n      <td>10.0</td>\n      <td>2024-12-31T05:27:31</td>\n      <td>2024-12-31T18:01:14</td>\n      <td>0.00</td>\n      <td>Rain, Overcast</td>\n      <td>Cloudy skies throughout the day with rain.</td>\n      <td>rain</td>\n    </tr>\n  </tbody>\n</table>\n<p>996 rows × 32 columns</p>\n</div>"
          },
          "metadata": {}
        }
      ],
      "outputs_reference": null,
      "execution_count": 11,
      "block_group": "16af4a468d094df6842f712372d304f8",
      "content_dependencies": null
    },
    {
      "cell_type": "code",
      "source": "data3.isnull().sum()",
      "metadata": {
        "source_hash": "165bb4c9",
        "execution_start": 1736072610697,
        "execution_millis": 0,
        "execution_context_id": "b89841ec-5496-487c-91f1-5166d5407ab7",
        "cell_id": "ddce146df55e4486a91d0e0b5067c396",
        "deepnote_cell_type": "code"
      },
      "outputs": [
        {
          "output_type": "execute_result",
          "execution_count": 12,
          "data": {
            "text/plain": "name                    0\ndatetime                0\ntempmax               421\ntempmin               421\ntemp                  421\nfeelslikemax          421\nfeelslikemin          421\nfeelslike             421\ndew                   421\nhumidity              421\nprecip                421\nprecipprob              0\nprecipcover             0\npreciptype           7356\nsnow                 8032\nsnowdepth            8032\nwindgust            16034\nwindspeed               0\nwinddir               714\nsealevelpressure     4028\ncloudcover            421\nvisibility            426\nsolarradiation      11642\nsolarenergy         11642\nuvindex             11642\nsevererisk          16034\nsunrise                 0\nsunset                  0\nmoonphase               0\nconditions            421\ndescription           421\nicon                  421\nstations              421\ndtype: int64"
          },
          "metadata": {}
        }
      ],
      "outputs_reference": null,
      "execution_count": 12,
      "block_group": "328e627d4e63452e95ba70a0ddc7bde5",
      "content_dependencies": null
    },
    {
      "cell_type": "code",
      "source": "data3.drop(columns=['stations'], inplace=True)\n",
      "metadata": {
        "source_hash": "75081ad1",
        "execution_start": 1736072610747,
        "execution_millis": 0,
        "execution_context_id": "b89841ec-5496-487c-91f1-5166d5407ab7",
        "cell_id": "6d0dfd36e62942af9662c51745266139",
        "deepnote_cell_type": "code"
      },
      "outputs": [],
      "outputs_reference": null,
      "execution_count": 13,
      "block_group": "eb4151744b854389b511fd395996b587",
      "content_dependencies": null
    },
    {
      "cell_type": "code",
      "source": "data3.plot(\n    y=['temp', 'humidity','precip','sealevelpressure','windspeed'], \n    x='datetime',\n    subplots=True, figsize=(10, 15))\nplt.show()",
      "metadata": {
        "source_hash": "2a6466b7",
        "execution_start": 1736072610795,
        "execution_millis": 725,
        "execution_context_id": "b89841ec-5496-487c-91f1-5166d5407ab7",
        "cell_id": "b4ef32fd6bdb413a93c80be7332eafe1",
        "deepnote_cell_type": "code"
      },
      "outputs": [
        {
          "data": {
            "text/plain": "<Figure size 1000x1500 with 5 Axes>",
            "image/png": "[encoded data removed]"
          },
          "metadata": {
            "image/png": {
              "width": 839,
              "height": 1218
            }
          },
          "output_type": "display_data"
        }
      ],
      "outputs_reference": null,
      "execution_count": 14,
      "block_group": "d7471193855f488994c650ec4ed77b4e",
      "content_dependencies": null
    },
    {
      "cell_type": "code",
      "source": "data3.dropna(inplace=True)",
      "metadata": {
        "source_hash": "50fe1e91",
        "execution_start": 1736072611567,
        "execution_millis": 0,
        "execution_context_id": "b89841ec-5496-487c-91f1-5166d5407ab7",
        "cell_id": "09bdb8f2516a4e91a97c01f820431851",
        "deepnote_cell_type": "code"
      },
      "outputs": [],
      "outputs_reference": null,
      "execution_count": 15,
      "block_group": "86a59c6c47094fe0b10842fc7f3437a6",
      "content_dependencies": null
    },
    {
      "cell_type": "code",
      "source": "# Membagi variabel independen dan target\nX = data3[[\n    'temp', \n    'tempmax',\n    'tempmin',\n    'humidity',\n    'sealevelpressure', \n    'windspeed',\n    'winddir'\n    ]]  # Variabel independen\ny = data3['precipprob']  # Target (Curah Hujan)",
      "metadata": {
        "source_hash": "96f9209a",
        "execution_start": 1736072611615,
        "execution_millis": 0,
        "execution_context_id": "b89841ec-5496-487c-91f1-5166d5407ab7",
        "cell_id": "ab3264ceb5d54580953bf6a3f99b0fe5",
        "deepnote_cell_type": "code"
      },
      "outputs": [],
      "outputs_reference": null,
      "execution_count": 16,
      "block_group": "acbd73ef74ab4810a97d4114bd41f4d5",
      "content_dependencies": null
    },
    {
      "cell_type": "code",
      "source": "# Membagi data menjadi data latih dan data uji\nX_train, X_test, y_train, y_test = train_test_split(X, y, test_size=0.2, random_state=42)",
      "metadata": {
        "source_hash": "6eb66521",
        "execution_start": 1736072611667,
        "execution_millis": 0,
        "execution_context_id": "b89841ec-5496-487c-91f1-5166d5407ab7",
        "cell_id": "14eb640e22f44825b64275e4ed4b9dc1",
        "deepnote_cell_type": "code"
      },
      "outputs": [],
      "outputs_reference": null,
      "execution_count": 17,
      "block_group": "49c800e38f3c41c68a37469ad0a78ef8",
      "content_dependencies": null
    },
    {
      "cell_type": "code",
      "source": "# Standarisasi data\nscaler = StandardScaler()\nX_train_scaled = scaler.fit_transform(X_train)\nX_test_scaled = scaler.transform(X_test)",
      "metadata": {
        "source_hash": "282a9610",
        "execution_start": 1736072611715,
        "execution_millis": 0,
        "execution_context_id": "b89841ec-5496-487c-91f1-5166d5407ab7",
        "cell_id": "f2e5c4ecaae84c8780e771f0c7eaaf0e",
        "deepnote_cell_type": "code"
      },
      "outputs": [],
      "outputs_reference": null,
      "execution_count": 18,
      "block_group": "3ed37c2ce87e45229779d0925bda82ee",
      "content_dependencies": null
    },
    {
      "cell_type": "code",
      "source": "# Daftar model klasifikasi\nmodels = {\n    'Logistic Regression': LogisticRegression(max_iter=1000),\n    'Decision Tree': DecisionTreeClassifier(random_state=50),\n    'Random Forest': RandomForestClassifier(random_state=50),\n    'Gradient Boosting': GradientBoostingClassifier(random_state=50),\n    'Support Vector Classifier': SVC(),\n    'K-Nearest Neighbors': KNeighborsClassifier()\n}\n\n# Evaluasi semua model dan menyimpan hasil dalam bentuk tabel\nresults = []\nfor name, model in models.items():\n    # Melatih model\n    model.fit(X_train_scaled, y_train)\n    \n    # Prediksi\n    y_pred = model.predict(X_test_scaled)\n    \n    # Evaluasi\n    accuracy = accuracy_score(y_test, y_pred)\n    report = classification_report(y_test, y_pred, output_dict=True)\n    results.append({\n        'Model': name,\n        'Accuracy': accuracy,\n        'Precision (macro avg)': report['macro avg']['precision'],\n        'Recall (macro avg)': report['macro avg']['recall'],\n        'F1-Score (macro avg)': report['macro avg']['f1-score']\n    })\n\n# Menampilkan hasil dalam bentuk tabel\nresults_df = pd.DataFrame(results)\nprint(results_df)",
      "metadata": {
        "source_hash": "a74034b9",
        "execution_start": 1736072611767,
        "execution_millis": 358,
        "execution_context_id": "b89841ec-5496-487c-91f1-5166d5407ab7",
        "cell_id": "04360c3fa4594d3dab3bc101f4e5d869",
        "deepnote_cell_type": "code"
      },
      "outputs": [
        {
          "name": "stderr",
          "text": "/root/venv/lib/python3.11/site-packages/sklearn/metrics/_classification.py:1471: UndefinedMetricWarning: Precision and F-score are ill-defined and being set to 0.0 in labels with no predicted samples. Use `zero_division` parameter to control this behavior.\n  _warn_prf(average, modifier, msg_start, len(result))\n/root/venv/lib/python3.11/site-packages/sklearn/metrics/_classification.py:1471: UndefinedMetricWarning: Precision and F-score are ill-defined and being set to 0.0 in labels with no predicted samples. Use `zero_division` parameter to control this behavior.\n  _warn_prf(average, modifier, msg_start, len(result))\n/root/venv/lib/python3.11/site-packages/sklearn/metrics/_classification.py:1471: UndefinedMetricWarning: Precision and F-score are ill-defined and being set to 0.0 in labels with no predicted samples. Use `zero_division` parameter to control this behavior.\n  _warn_prf(average, modifier, msg_start, len(result))\n                       Model  Accuracy  Precision (macro avg)  \\\n0        Logistic Regression     0.925               0.462500   \n1              Decision Tree     0.895               0.613287   \n2              Random Forest     0.945               0.890893   \n3          Gradient Boosting     0.930               0.751600   \n4  Support Vector Classifier     0.925               0.462500   \n5        K-Nearest Neighbors     0.920               0.666667   \n\n   Recall (macro avg)  F1-Score (macro avg)  \n0            0.500000              0.480519  \n1            0.606306              0.609629  \n2            0.663964              0.723583  \n3            0.655856              0.689716  \n4            0.500000              0.480519  \n5            0.558559              0.578947  \n/root/venv/lib/python3.11/site-packages/sklearn/metrics/_classification.py:1471: UndefinedMetricWarning: Precision and F-score are ill-defined and being set to 0.0 in labels with no predicted samples. Use `zero_division` parameter to control this behavior.\n  _warn_prf(average, modifier, msg_start, len(result))\n/root/venv/lib/python3.11/site-packages/sklearn/metrics/_classification.py:1471: UndefinedMetricWarning: Precision and F-score are ill-defined and being set to 0.0 in labels with no predicted samples. Use `zero_division` parameter to control this behavior.\n  _warn_prf(average, modifier, msg_start, len(result))\n/root/venv/lib/python3.11/site-packages/sklearn/metrics/_classification.py:1471: UndefinedMetricWarning: Precision and F-score are ill-defined and being set to 0.0 in labels with no predicted samples. Use `zero_division` parameter to control this behavior.\n  _warn_prf(average, modifier, msg_start, len(result))\n",
          "output_type": "stream"
        }
      ],
      "outputs_reference": null,
      "execution_count": 19,
      "block_group": "d0323bb52c2d4ce5bd6e3e2cdd7df18c",
      "content_dependencies": null
    },
    {
      "cell_type": "markdown",
      "source": "<a style='text-decoration:none;line-height:16px;display:flex;color:#5B5B62;padding:10px;justify-content:end;' href='https://deepnote.com?utm_source=created-in-deepnote-cell&projectId=200afad5-8991-4e20-8a55-8751c7aff3b5' target=\"_blank\">\n<img alt='Created in deepnote.com' style='display:inline;max-height:16px;margin:0px;margin-right:7.5px;' src='data:image/svg+xml;base64,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' > </img>\nCreated in <span style='font-weight:600;margin-left:4px;'>Deepnote</span></a>",
      "metadata": {
        "created_in_deepnote_cell": true,
        "deepnote_cell_type": "markdown"
      }
    }
  ],
  "nbformat": 4,
  "nbformat_minor": 0,
  "metadata": {
    "deepnote_notebook_id": "4555e642627e4fdd877f8a6ec8ee0aff"
  }
}